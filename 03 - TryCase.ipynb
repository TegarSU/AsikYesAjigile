{
 "cells": [
  {
   "cell_type": "code",
   "execution_count": 25,
   "metadata": {
    "collapsed": true
   },
   "outputs": [],
   "source": [
    "import pandas as pd\n",
    "import numpy as np\n",
    "\n",
    "from sklearn.preprocessing import StandardScaler\n",
    "scaler = StandardScaler()"
   ]
  },
  {
   "cell_type": "code",
   "execution_count": 26,
   "metadata": {
    "collapsed": true
   },
   "outputs": [],
   "source": [
    "# #PATH\n",
    "filename = \"static_annotations.csv\"\n",
    "\n",
    "# path_to_fitur = \"C:/Users/USER/Downloads/Tugas Akhir/dataset/coba fitur/\"\n",
    "# path_to_experiment =\"C:/Users/USER/Downloads/Tugas Akhir/dataset/experiment/\"\n",
    "# path_info = \"C:/Users/USER/Downloads/Tugas Akhir/dataset/annotations/\"\n",
    "\n",
    "path_info = \"F:/178/Tugas Akhir/dataset/annotations/\"\n",
    "path_to_fitur = \"F:/178/Tugas Akhir/dataset/coba fitur/\"\n",
    "path_to_experiment =\"F:/178/Tugas Akhir/dataset/experiment/\""
   ]
  },
  {
   "cell_type": "code",
   "execution_count": 27,
   "metadata": {
    "collapsed": true
   },
   "outputs": [],
   "source": [
    "info = pd.read_csv(path_info + filename)\n",
    "song_info = info.song_id.to_list()"
   ]
  },
  {
   "cell_type": "code",
   "execution_count": 28,
   "metadata": {
    "collapsed": true
   },
   "outputs": [],
   "source": [
    "def merge(case1,case2):\n",
    "    case_a = pd.DataFrame(case1)\n",
    "    case_b = pd.DataFrame(case2)\n",
    "    \n",
    "    merged = case_a.merge(case_b, how='outer', left_index=True, right_index=True)\n",
    "    \n",
    "    return merged\n",
    "\n",
    "def flat(song,fitur):\n",
    "    vector = list()\n",
    "    for index,i in enumerate(song):\n",
    "        data = pd.read_csv(path_to_fitur+str(i)+\"/\"+fitur+\".csv\",header=None)\n",
    "        vector.append(np.squeeze(data.values,0))\n",
    "\n",
    "    return vector\n",
    "\n",
    "def prints(result):\n",
    "    print(np.shape(result))\n",
    "    \n",
    "def norm(data):\n",
    "    scaler.fit(data)\n",
    "    normalized = scaler.transform(data)\n",
    "    \n",
    "    return normalized\n",
    "    \n",
    "def case1(file):\n",
    "    fitur = 'mfcc'\n",
    "    case = 'case1'\n",
    "    result = flat(file,fitur)\n",
    "    \n",
    "    return result,case\n",
    "\n",
    "def case2(file):\n",
    "    fitur = 'timbre'\n",
    "    case = 'case2'\n",
    "    result = flat(file,fitur)\n",
    "    \n",
    "    return result,case\n",
    "\n",
    "def case3(file):\n",
    "    fitur1 = 'crest'\n",
    "    fitur2 = 'flatness'\n",
    "    case = 'case3'\n",
    "    crest = flat(file,fitur1)\n",
    "    flatness = flat(file,fitur2)\n",
    "    result = merge(crest,flatness)\n",
    "    \n",
    "    return result,case\n",
    "\n",
    "def case4(file):\n",
    "    fitur = 'chroma'\n",
    "    case = 'case4'\n",
    "    result = flat(file,fitur)\n",
    "    \n",
    "    return result,case\n",
    "\n",
    "def case5(file):\n",
    "    case = 'case5'\n",
    "    case_1,dump = case1(file)\n",
    "    case_2,dump = case2(file)\n",
    "    result = merge(case_1,case_2)\n",
    "    \n",
    "    return result,case\n",
    "\n",
    "def case6(file):\n",
    "    case = 'case6'\n",
    "    case_1,dump = case1(file)\n",
    "    case_2,dump = case3(file)\n",
    "    result = merge(case_1,case_2)\n",
    "    \n",
    "    return result,case\n",
    "\n",
    "def case7(file):\n",
    "    case = 'case7'\n",
    "    case_1,dump = case1(file)\n",
    "    case_2,dump = case4(file)\n",
    "    result = merge(case_1,case_2)\n",
    "    \n",
    "    return result,case\n",
    "\n",
    "def case8(file):\n",
    "    case = 'case8'\n",
    "    case_1,dump = case5(file)\n",
    "    case_2,dump = case3(file)\n",
    "    result = merge(case_1,case_2)\n",
    "    \n",
    "    return result,case\n",
    "\n",
    "def case9(file):\n",
    "    case = 'case9'\n",
    "    case_1,dump = case5(file)\n",
    "    case_2,dump = case4(file)\n",
    "    result = merge(case_1,case_2)\n",
    "    \n",
    "    return result,case\n",
    "\n",
    "def case10(file):\n",
    "    case = 'case10'\n",
    "    case_1,dump = case8(file)\n",
    "    case_2,dump = case4(file)\n",
    "    result = merge(case_1,case_2)\n",
    "    \n",
    "    return result,case"
   ]
  },
  {
   "cell_type": "code",
   "execution_count": 49,
   "metadata": {},
   "outputs": [
    {
     "name": "stdout",
     "output_type": "stream",
     "text": [
      "(744, 61)\n"
     ]
    }
   ],
   "source": [
    "# results,case = case1(song_info)\n",
    "# results,case = case2(song_info)\n",
    "# results,case = case3(song_info)\n",
    "# results,case = case4(song_info)\n",
    "# results,case = case5(song_info)\n",
    "# results,case = case6(song_info)\n",
    "# results,case = case7(song_info)\n",
    "# results,case = case8(song_info)\n",
    "# results,case = case9(song_info)\n",
    "results,case = case10(song_info)\n",
    "\n",
    "prints(results)"
   ]
  },
  {
   "cell_type": "code",
   "execution_count": 50,
   "metadata": {
    "collapsed": true
   },
   "outputs": [],
   "source": [
    "pd.DataFrame(data=norm(results)).to_csv(path_to_experiment+case+\".csv\", header=None, index=None)"
   ]
  },
  {
   "cell_type": "code",
   "execution_count": 22,
   "metadata": {},
   "outputs": [],
   "source": [
    "# normalized,mean,std = norm(results)\n",
    "# pd.DataFrame(data=[mean,std]).to_csv(path_to_experiment+case+\"_meanstd.csv\", header=None, index=None)"
   ]
  },
  {
   "cell_type": "code",
   "execution_count": null,
   "metadata": {
    "collapsed": true
   },
   "outputs": [],
   "source": []
  }
 ],
 "metadata": {
  "kernelspec": {
   "display_name": "Python 3",
   "language": "python",
   "name": "python3"
  },
  "language_info": {
   "codemirror_mode": {
    "name": "ipython",
    "version": 3
   },
   "file_extension": ".py",
   "mimetype": "text/x-python",
   "name": "python",
   "nbconvert_exporter": "python",
   "pygments_lexer": "ipython3",
   "version": "3.6.2"
  }
 },
 "nbformat": 4,
 "nbformat_minor": 2
}
