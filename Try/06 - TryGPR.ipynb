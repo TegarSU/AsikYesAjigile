{
 "cells": [
  {
   "cell_type": "code",
   "execution_count": 1,
   "metadata": {
    "collapsed": true
   },
   "outputs": [],
   "source": [
    "import pandas as pd\n",
    "import numpy as np\n",
    "from sklearn.externals import joblib\n",
    "\n",
    "from sklearn.gaussian_process import GaussianProcessRegressor as GPR\n",
    "from sklearn.gaussian_process.kernels import RationalQuadratic\n",
    "from sklearn.model_selection import cross_val_score\n",
    "from sklearn.model_selection import train_test_split\n",
    "from sklearn.metrics import r2_score\n",
    "from sklearn.preprocessing import minmax_scale"
   ]
  },
  {
   "cell_type": "code",
   "execution_count": 2,
   "metadata": {
    "collapsed": true
   },
   "outputs": [],
   "source": [
    "# #PATH\n",
    "path_info = \"F:/178/Tugas Akhir/dataset/annotations/\"\n",
    "path_to_fitur = \"F:/178/Tugas Akhir/dataset/coba fitur/\"\n",
    "path_to_experiment =\"F:/178/Tugas Akhir/dataset/experiment/\"\n",
    "path_to_model = \"F:/178/Tugas Akhir/dataset/model/\"\n",
    "path_to_predict = \"F:/178/Tugas Akhir/dataset/predict/\"\n",
    "\n",
    "# path_info = \"C:/Users/USER/Downloads/Tugas Akhir/dataset/annotations/\"\n",
    "# path_to_fitur = \"C:/Users/USER/Downloads/Tugas Akhir/dataset/coba fitur/\"\n",
    "# path_to_experiment =\"C:/Users/USER/Downloads/Tugas Akhir/dataset/experiment/\"\n",
    "# path_to_model = \"C:/Users/USER/Downloads/Tugas Akhir/dataset/model/\"\n",
    "# path_to_predict = \"C:/Users/USER/Downloads/Tugas Akhir/dataset/predict/\""
   ]
  },
  {
   "cell_type": "code",
   "execution_count": 3,
   "metadata": {
    "collapsed": true
   },
   "outputs": [],
   "source": [
    "def load(fitur):\n",
    "    data = pd.read_csv(path_to_experiment + fitur+\".csv\",header=None)\n",
    "    ground = pd.read_csv(path_info + \"static_annotations.csv\")\n",
    "\n",
    "    arousal_mean = ground['mean_arousal']\n",
    "    valence_mean = ground['mean_valence']\n",
    "    \n",
    "    return data,arousal_mean,valence_mean\n",
    "\n",
    "def split(data,value):\n",
    "    train_data, test_data, train_values, test_values = train_test_split(data,value,test_size=0.25,random_state=666)\n",
    "    \n",
    "    return train_data, test_data, train_values, test_values\n",
    "\n",
    "def training(data,values,clf):\n",
    "    trained = clf.fit(data,values)\n",
    "    \n",
    "    return trained\n",
    "    \n",
    "def predict(test,true,clf):\n",
    "    pred = clf.predict(test)\n",
    "    df = pd.DataFrame(data=[pred,true])\n",
    "    \n",
    "    return pred,df\n",
    "\n",
    "def score(pred,true):\n",
    "    r2 = r2_score(true, pred)\n",
    "    \n",
    "    return r2\n",
    "\n",
    "def crosval(clf,data,values):\n",
    "    scores = cross_val_score(clf,data,values,scoring='r2',cv=10)\n",
    "    \n",
    "    return scores\n",
    "\n",
    "def save_model(model,case,types):\n",
    "    path = path_to_model+types+case+'.sav' # save the model\n",
    "    joblib.dump(model, path)\n",
    "\n",
    "def save_predict(df1,df2,case):\n",
    "    path = path_to_predict+case+\".xlsx\" # save the model\n",
    "    arousal = df1.T\n",
    "    valence = df2.T\n",
    "    merged = arousal.merge(valence, how='outer', left_index=True, right_index=True)\n",
    "    merged.to_excel(path,header=None,index=None)\n",
    "\n",
    "def norm(data):\n",
    "    scaler.fit(data)\n",
    "    normalized = scaler.transform(data)\n",
    "    \n",
    "    return normalized"
   ]
  },
  {
   "cell_type": "code",
   "execution_count": 4,
   "metadata": {
    "collapsed": true
   },
   "outputs": [],
   "source": [
    "kernels = RationalQuadratic(length_scale=1.0, alpha=1.0, \n",
    "                            length_scale_bounds=(1e-6, 1e6), \n",
    "                            alpha_bounds=(1e-6, 1e6))\n",
    "\n",
    "# kernels = RBF(length_scale=1.0, length_scale_bounds=(1e-05, 100000.0))\n",
    "# kernels = ExpSineSquared(length_scale=1.0, periodicity=1.0, \n",
    "#                          length_scale_bounds=(1e-07, 10000000.0), \n",
    "#                          periodicity_bounds=(1e-07, 10000000.0))"
   ]
  },
  {
   "cell_type": "markdown",
   "metadata": {},
   "source": [
    "# CASE 1"
   ]
  },
  {
   "cell_type": "code",
   "execution_count": 5,
   "metadata": {},
   "outputs": [
    {
     "name": "stdout",
     "output_type": "stream",
     "text": [
      "(744, 26)\n"
     ]
    }
   ],
   "source": [
    "datafitur = \"case1\" #CASE 1\n",
    "\n",
    "data,arousal_mean,valence_mean = load(datafitur) #Load\n",
    "print(data.shape)\n",
    "\n",
    "scaled_ar = minmax_scale(arousal_mean.values,feature_range=(-1, 1))\n",
    "scaled_val = minmax_scale(valence_mean.values,feature_range=(-1, 1))\n",
    "\n",
    "#split arousal\n",
    "train_data_a, test_data_a, train_values_a, test_values_a = split(data,scaled_ar)\n",
    "#split valence\n",
    "train_data_v, test_data_v, train_values_v, test_values_v = split(data,scaled_val) "
   ]
  },
  {
   "cell_type": "markdown",
   "metadata": {},
   "source": [
    "INITIAL MODEL"
   ]
  },
  {
   "cell_type": "code",
   "execution_count": 6,
   "metadata": {
    "collapsed": true
   },
   "outputs": [],
   "source": [
    "gpr_a = GPR(kernel=kernels, alpha=1e-10, \n",
    "                    optimizer='fmin_l_bfgs_b', \n",
    "                    n_restarts_optimizer=10, \n",
    "                    normalize_y=False, copy_X_train=False, \n",
    "                    random_state=1000) #init Arousal\n",
    "\n",
    "gpr_v = GPR(kernel=kernels, alpha=1e-10, \n",
    "                    optimizer='fmin_l_bfgs_b', \n",
    "                    n_restarts_optimizer=10, \n",
    "                    normalize_y=False, copy_X_train=False, \n",
    "                    random_state=1000) #init Arousal\n",
    "\n",
    "# gpr_a = GPR(kernel=kernels,normalize_y=True,random_state=1000,alpha=0.1)\n",
    "# gpr_v = GPR(kernel=kernels,normalize_y=True,random_state=1000,alpha=0.1)"
   ]
  },
  {
   "cell_type": "code",
   "execution_count": 7,
   "metadata": {},
   "outputs": [
    {
     "name": "stdout",
     "output_type": "stream",
     "text": [
      "arousal:\t RationalQuadratic(alpha=1, length_scale=1)\n",
      "arousal:\t RationalQuadratic(alpha=1, length_scale=1)\n"
     ]
    }
   ],
   "source": [
    "print(\"arousal:\\t\",gpr_a.kernel)\n",
    "print(\"arousal:\\t\",gpr_v.kernel)"
   ]
  },
  {
   "cell_type": "markdown",
   "metadata": {},
   "source": [
    "TRAIN"
   ]
  },
  {
   "cell_type": "code",
   "execution_count": 8,
   "metadata": {
    "collapsed": true
   },
   "outputs": [],
   "source": [
    "trained_a = training(train_data_a,train_values_a,gpr_a)\n",
    "trained_v = training(train_data_v,train_values_v,gpr_v)"
   ]
  },
  {
   "cell_type": "markdown",
   "metadata": {},
   "source": [
    "PREDICT"
   ]
  },
  {
   "cell_type": "code",
   "execution_count": 9,
   "metadata": {
    "collapsed": true
   },
   "outputs": [],
   "source": [
    "# #Predict Arousal\n",
    "pred_a,df_a = predict(test_data_a, test_values_a, trained_a)\n",
    "# #Predict Valence\n",
    "pred_v,df_v = predict(test_data_v, test_values_v, trained_v)\n",
    "\n",
    "r2_a = score(pred_a,test_values_a) #Score Arousal\n",
    "r2_v = score(pred_v,test_values_v) #Score Valence"
   ]
  },
  {
   "cell_type": "markdown",
   "metadata": {},
   "source": [
    "SET PARAM"
   ]
  },
  {
   "cell_type": "code",
   "execution_count": 10,
   "metadata": {},
   "outputs": [
    {
     "name": "stdout",
     "output_type": "stream",
     "text": [
      "arousal:\t RationalQuadratic(alpha=0.0138, length_scale=0.507)\n",
      "valence:\t RationalQuadratic(alpha=0.017, length_scale=0.159)\n"
     ]
    }
   ],
   "source": [
    "trained_a.set_params(kernel=trained_a.kernel_)\n",
    "trained_v.set_params(kernel=trained_v.kernel_)\n",
    "\n",
    "print(\"arousal:\\t\",trained_a.kernel)\n",
    "print(\"valence:\\t\",trained_v.kernel)"
   ]
  },
  {
   "cell_type": "markdown",
   "metadata": {},
   "source": [
    "AROUSAL"
   ]
  },
  {
   "cell_type": "code",
   "execution_count": 11,
   "metadata": {},
   "outputs": [
    {
     "data": {
      "text/html": [
       "<div>\n",
       "<style scoped>\n",
       "    .dataframe tbody tr th:only-of-type {\n",
       "        vertical-align: middle;\n",
       "    }\n",
       "\n",
       "    .dataframe tbody tr th {\n",
       "        vertical-align: top;\n",
       "    }\n",
       "\n",
       "    .dataframe thead th {\n",
       "        text-align: right;\n",
       "    }\n",
       "</style>\n",
       "<table border=\"1\" class=\"dataframe\">\n",
       "  <thead>\n",
       "    <tr style=\"text-align: right;\">\n",
       "      <th></th>\n",
       "      <th>0</th>\n",
       "      <th>1</th>\n",
       "      <th>2</th>\n",
       "      <th>3</th>\n",
       "      <th>4</th>\n",
       "      <th>5</th>\n",
       "      <th>6</th>\n",
       "      <th>7</th>\n",
       "      <th>8</th>\n",
       "      <th>9</th>\n",
       "      <th>...</th>\n",
       "      <th>176</th>\n",
       "      <th>177</th>\n",
       "      <th>178</th>\n",
       "      <th>179</th>\n",
       "      <th>180</th>\n",
       "      <th>181</th>\n",
       "      <th>182</th>\n",
       "      <th>183</th>\n",
       "      <th>184</th>\n",
       "      <th>185</th>\n",
       "    </tr>\n",
       "  </thead>\n",
       "  <tbody>\n",
       "    <tr>\n",
       "      <th>0</th>\n",
       "      <td>-0.03</td>\n",
       "      <td>0.25</td>\n",
       "      <td>-0.11</td>\n",
       "      <td>-0.37</td>\n",
       "      <td>-0.16</td>\n",
       "      <td>0.17</td>\n",
       "      <td>-0.34</td>\n",
       "      <td>-0.37</td>\n",
       "      <td>-0.47</td>\n",
       "      <td>0.24</td>\n",
       "      <td>...</td>\n",
       "      <td>0.49</td>\n",
       "      <td>0.23</td>\n",
       "      <td>-0.32</td>\n",
       "      <td>0.26</td>\n",
       "      <td>0.34</td>\n",
       "      <td>0.25</td>\n",
       "      <td>-0.18</td>\n",
       "      <td>-0.37</td>\n",
       "      <td>-0.49</td>\n",
       "      <td>-0.33</td>\n",
       "    </tr>\n",
       "    <tr>\n",
       "      <th>1</th>\n",
       "      <td>-0.21</td>\n",
       "      <td>-0.26</td>\n",
       "      <td>-0.56</td>\n",
       "      <td>-0.47</td>\n",
       "      <td>-0.50</td>\n",
       "      <td>0.29</td>\n",
       "      <td>-0.41</td>\n",
       "      <td>-0.24</td>\n",
       "      <td>-0.62</td>\n",
       "      <td>-0.21</td>\n",
       "      <td>...</td>\n",
       "      <td>0.68</td>\n",
       "      <td>0.26</td>\n",
       "      <td>-0.09</td>\n",
       "      <td>0.65</td>\n",
       "      <td>0.29</td>\n",
       "      <td>0.35</td>\n",
       "      <td>0.21</td>\n",
       "      <td>-0.65</td>\n",
       "      <td>-0.35</td>\n",
       "      <td>-0.21</td>\n",
       "    </tr>\n",
       "  </tbody>\n",
       "</table>\n",
       "<p>2 rows × 186 columns</p>\n",
       "</div>"
      ],
      "text/plain": [
       "    0     1     2     3     4     5     6     7     8     9    ...   176  \\\n",
       "0 -0.03  0.25 -0.11 -0.37 -0.16  0.17 -0.34 -0.37 -0.47  0.24  ...  0.49   \n",
       "1 -0.21 -0.26 -0.56 -0.47 -0.50  0.29 -0.41 -0.24 -0.62 -0.21  ...  0.68   \n",
       "\n",
       "    177   178   179   180   181   182   183   184   185  \n",
       "0  0.23 -0.32  0.26  0.34  0.25 -0.18 -0.37 -0.49 -0.33  \n",
       "1  0.26 -0.09  0.65  0.29  0.35  0.21 -0.65 -0.35 -0.21  \n",
       "\n",
       "[2 rows x 186 columns]"
      ]
     },
     "metadata": {},
     "output_type": "display_data"
    },
    {
     "name": "stdout",
     "output_type": "stream",
     "text": [
      "R2 Score Arousal:\t0.56\n"
     ]
    }
   ],
   "source": [
    "df_a = df_a.round(2)\n",
    "\n",
    "display(df_a.head())\n",
    "print(\"R2 Score Arousal:\\t%0.2f\" % r2_a)"
   ]
  },
  {
   "cell_type": "markdown",
   "metadata": {},
   "source": [
    "VALENCE"
   ]
  },
  {
   "cell_type": "code",
   "execution_count": 12,
   "metadata": {},
   "outputs": [
    {
     "data": {
      "text/html": [
       "<div>\n",
       "<style scoped>\n",
       "    .dataframe tbody tr th:only-of-type {\n",
       "        vertical-align: middle;\n",
       "    }\n",
       "\n",
       "    .dataframe tbody tr th {\n",
       "        vertical-align: top;\n",
       "    }\n",
       "\n",
       "    .dataframe thead th {\n",
       "        text-align: right;\n",
       "    }\n",
       "</style>\n",
       "<table border=\"1\" class=\"dataframe\">\n",
       "  <thead>\n",
       "    <tr style=\"text-align: right;\">\n",
       "      <th></th>\n",
       "      <th>0</th>\n",
       "      <th>1</th>\n",
       "      <th>2</th>\n",
       "      <th>3</th>\n",
       "      <th>4</th>\n",
       "      <th>5</th>\n",
       "      <th>6</th>\n",
       "      <th>7</th>\n",
       "      <th>8</th>\n",
       "      <th>9</th>\n",
       "      <th>...</th>\n",
       "      <th>176</th>\n",
       "      <th>177</th>\n",
       "      <th>178</th>\n",
       "      <th>179</th>\n",
       "      <th>180</th>\n",
       "      <th>181</th>\n",
       "      <th>182</th>\n",
       "      <th>183</th>\n",
       "      <th>184</th>\n",
       "      <th>185</th>\n",
       "    </tr>\n",
       "  </thead>\n",
       "  <tbody>\n",
       "    <tr>\n",
       "      <th>0</th>\n",
       "      <td>-0.14</td>\n",
       "      <td>0.13</td>\n",
       "      <td>-0.02</td>\n",
       "      <td>-0.17</td>\n",
       "      <td>0.12</td>\n",
       "      <td>-0.13</td>\n",
       "      <td>-0.12</td>\n",
       "      <td>-0.13</td>\n",
       "      <td>-0.26</td>\n",
       "      <td>0.31</td>\n",
       "      <td>...</td>\n",
       "      <td>0.33</td>\n",
       "      <td>0.26</td>\n",
       "      <td>-0.09</td>\n",
       "      <td>0.10</td>\n",
       "      <td>0.18</td>\n",
       "      <td>0.36</td>\n",
       "      <td>0.06</td>\n",
       "      <td>-0.19</td>\n",
       "      <td>-0.21</td>\n",
       "      <td>-0.16</td>\n",
       "    </tr>\n",
       "    <tr>\n",
       "      <th>1</th>\n",
       "      <td>0.08</td>\n",
       "      <td>-0.57</td>\n",
       "      <td>-0.51</td>\n",
       "      <td>-0.54</td>\n",
       "      <td>-0.20</td>\n",
       "      <td>-0.02</td>\n",
       "      <td>-0.02</td>\n",
       "      <td>-1.00</td>\n",
       "      <td>-0.11</td>\n",
       "      <td>0.11</td>\n",
       "      <td>...</td>\n",
       "      <td>0.17</td>\n",
       "      <td>0.63</td>\n",
       "      <td>0.32</td>\n",
       "      <td>-0.05</td>\n",
       "      <td>0.57</td>\n",
       "      <td>0.08</td>\n",
       "      <td>0.32</td>\n",
       "      <td>-0.51</td>\n",
       "      <td>-0.08</td>\n",
       "      <td>0.02</td>\n",
       "    </tr>\n",
       "  </tbody>\n",
       "</table>\n",
       "<p>2 rows × 186 columns</p>\n",
       "</div>"
      ],
      "text/plain": [
       "    0     1     2     3     4     5     6     7     8     9    ...   176  \\\n",
       "0 -0.14  0.13 -0.02 -0.17  0.12 -0.13 -0.12 -0.13 -0.26  0.31  ...  0.33   \n",
       "1  0.08 -0.57 -0.51 -0.54 -0.20 -0.02 -0.02 -1.00 -0.11  0.11  ...  0.17   \n",
       "\n",
       "    177   178   179   180   181   182   183   184   185  \n",
       "0  0.26 -0.09  0.10  0.18  0.36  0.06 -0.19 -0.21 -0.16  \n",
       "1  0.63  0.32 -0.05  0.57  0.08  0.32 -0.51 -0.08  0.02  \n",
       "\n",
       "[2 rows x 186 columns]"
      ]
     },
     "metadata": {},
     "output_type": "display_data"
    },
    {
     "name": "stdout",
     "output_type": "stream",
     "text": [
      "R2 Score Valence: 0.25\n"
     ]
    }
   ],
   "source": [
    "df_v = df_v.round(2)\n",
    "\n",
    "display(df_v.head())\n",
    "print(\"R2 Score Valence: %0.2f\" % r2_v)"
   ]
  },
  {
   "cell_type": "markdown",
   "metadata": {},
   "source": [
    "REGRESSION"
   ]
  },
  {
   "cell_type": "code",
   "execution_count": 13,
   "metadata": {
    "collapsed": true
   },
   "outputs": [],
   "source": [
    "# scores_a = crosval(gpr_a,data,scaled_ar) #Arousal Regression\n",
    "# scores_v = crosval(gpr_v,data,scaled_val) #Arousal Regression"
   ]
  },
  {
   "cell_type": "markdown",
   "metadata": {
    "collapsed": true
   },
   "source": [
    "AROUSAL"
   ]
  },
  {
   "cell_type": "code",
   "execution_count": 14,
   "metadata": {
    "collapsed": true
   },
   "outputs": [],
   "source": [
    "# print(\"R2 Score Valence:\\t\",scores_a)\n",
    "# print(\"R2 Score Valence:\\t%0.2f (+/- %0.2f)\" % (scores_a.mean(), scores_a.std() ))"
   ]
  },
  {
   "cell_type": "markdown",
   "metadata": {
    "collapsed": true
   },
   "source": [
    "VALENCE"
   ]
  },
  {
   "cell_type": "code",
   "execution_count": 15,
   "metadata": {
    "collapsed": true
   },
   "outputs": [],
   "source": [
    "# print(\"R2 Score Valence:\\t\",scores_v)\n",
    "# print(\"R2 Score Valence:\\t%0.2f (+/- %0.2f)\" % (scores_v.mean(), scores_v.std() ))"
   ]
  },
  {
   "cell_type": "code",
   "execution_count": 16,
   "metadata": {
    "collapsed": true
   },
   "outputs": [],
   "source": [
    "save_predict(df_a.round(2),df_v.round(2),datafitur)\n",
    "# save_model(trained_a,datafitur,'arousal/') #save model Arousal\n",
    "# save_model(trained_v,datafitur,'valence/') #save model Valence"
   ]
  },
  {
   "cell_type": "markdown",
   "metadata": {},
   "source": [
    "# CASE 2"
   ]
  },
  {
   "cell_type": "code",
   "execution_count": 17,
   "metadata": {},
   "outputs": [
    {
     "name": "stdout",
     "output_type": "stream",
     "text": [
      "(744, 8)\n"
     ]
    }
   ],
   "source": [
    "datafitur = \"case2\" #CASE 2\n",
    "\n",
    "data,arousal_mean,valence_mean = load(datafitur) #Load\n",
    "print(data.shape)\n",
    "\n",
    "scaled_ar = minmax_scale(arousal_mean.values,feature_range=(-1, 1))\n",
    "scaled_val = minmax_scale(valence_mean.values,feature_range=(-1, 1))\n",
    "\n",
    "train_data_a, test_data_a, train_values_a, test_values_a = split(data,scaled_ar) #split arousal\n",
    "train_data_v, test_data_v, train_values_v, test_values_v = split(data,scaled_val) #split valence"
   ]
  },
  {
   "cell_type": "markdown",
   "metadata": {},
   "source": [
    "INITIAL MODEL"
   ]
  },
  {
   "cell_type": "code",
   "execution_count": 18,
   "metadata": {
    "collapsed": true
   },
   "outputs": [],
   "source": [
    "gpr_a = GPR(kernel=kernels, alpha=1e-10, \n",
    "                    optimizer='fmin_l_bfgs_b', \n",
    "                    n_restarts_optimizer=10, \n",
    "                    normalize_y=False, copy_X_train=False, \n",
    "                    random_state=1000) #init Valence\n",
    "\n",
    "gpr_v = GPR(kernel=kernels, alpha=1e-10, \n",
    "                    optimizer='fmin_l_bfgs_b', \n",
    "                    n_restarts_optimizer=10, \n",
    "                    normalize_y=False, copy_X_train=False, \n",
    "                    random_state=1000) #init Valence\n",
    "\n",
    "# # gpr_a = GPR()\n",
    "# # gpr_v = GPR()"
   ]
  },
  {
   "cell_type": "code",
   "execution_count": 19,
   "metadata": {},
   "outputs": [
    {
     "name": "stdout",
     "output_type": "stream",
     "text": [
      "arousal:\t RationalQuadratic(alpha=1, length_scale=1)\n",
      "valence:\t RationalQuadratic(alpha=1, length_scale=1)\n"
     ]
    }
   ],
   "source": [
    "print(\"arousal:\\t\",gpr_a.kernel)\n",
    "print(\"valence:\\t\",gpr_v.kernel)"
   ]
  },
  {
   "cell_type": "markdown",
   "metadata": {},
   "source": [
    "TRAIN"
   ]
  },
  {
   "cell_type": "code",
   "execution_count": 20,
   "metadata": {
    "collapsed": true
   },
   "outputs": [],
   "source": [
    "trained_a = training(train_data_a,train_values_a,gpr_a)\n",
    "trained_v = training(train_data_v,train_values_v,gpr_v)"
   ]
  },
  {
   "cell_type": "markdown",
   "metadata": {},
   "source": [
    "PREDICT"
   ]
  },
  {
   "cell_type": "code",
   "execution_count": 21,
   "metadata": {
    "collapsed": true
   },
   "outputs": [],
   "source": [
    "# #Predict Arousal\n",
    "pred_a,df_a = predict(test_data_a, test_values_a, trained_a)\n",
    "# #Predict Valence\n",
    "pred_v,df_v = predict(test_data_v, test_values_v, trained_v)\n",
    "\n",
    "r2_a = score(pred_a,test_values_a) #Score Arousal\n",
    "r2_v = score(pred_v,test_values_v) #Score Valence"
   ]
  },
  {
   "cell_type": "markdown",
   "metadata": {},
   "source": [
    "SET PARAM"
   ]
  },
  {
   "cell_type": "code",
   "execution_count": 22,
   "metadata": {},
   "outputs": [
    {
     "name": "stdout",
     "output_type": "stream",
     "text": [
      "arousal:\t RationalQuadratic(alpha=0.00587, length_scale=0.00047)\n",
      "valence:\t RationalQuadratic(alpha=0.00441, length_scale=1e-06)\n"
     ]
    }
   ],
   "source": [
    "trained_a.set_params(kernel=trained_a.kernel_)\n",
    "trained_v.set_params(kernel=trained_v.kernel_)\n",
    "\n",
    "print(\"arousal:\\t\",trained_a.kernel)\n",
    "print(\"valence:\\t\",trained_v.kernel)"
   ]
  },
  {
   "cell_type": "markdown",
   "metadata": {},
   "source": [
    "AROUSAL"
   ]
  },
  {
   "cell_type": "code",
   "execution_count": 23,
   "metadata": {},
   "outputs": [
    {
     "data": {
      "text/html": [
       "<div>\n",
       "<style scoped>\n",
       "    .dataframe tbody tr th:only-of-type {\n",
       "        vertical-align: middle;\n",
       "    }\n",
       "\n",
       "    .dataframe tbody tr th {\n",
       "        vertical-align: top;\n",
       "    }\n",
       "\n",
       "    .dataframe thead th {\n",
       "        text-align: right;\n",
       "    }\n",
       "</style>\n",
       "<table border=\"1\" class=\"dataframe\">\n",
       "  <thead>\n",
       "    <tr style=\"text-align: right;\">\n",
       "      <th></th>\n",
       "      <th>0</th>\n",
       "      <th>1</th>\n",
       "      <th>2</th>\n",
       "      <th>3</th>\n",
       "      <th>4</th>\n",
       "      <th>5</th>\n",
       "      <th>6</th>\n",
       "      <th>7</th>\n",
       "      <th>8</th>\n",
       "      <th>9</th>\n",
       "      <th>...</th>\n",
       "      <th>176</th>\n",
       "      <th>177</th>\n",
       "      <th>178</th>\n",
       "      <th>179</th>\n",
       "      <th>180</th>\n",
       "      <th>181</th>\n",
       "      <th>182</th>\n",
       "      <th>183</th>\n",
       "      <th>184</th>\n",
       "      <th>185</th>\n",
       "    </tr>\n",
       "  </thead>\n",
       "  <tbody>\n",
       "    <tr>\n",
       "      <th>0</th>\n",
       "      <td>-0.10</td>\n",
       "      <td>0.41</td>\n",
       "      <td>-0.14</td>\n",
       "      <td>-0.51</td>\n",
       "      <td>-0.14</td>\n",
       "      <td>0.06</td>\n",
       "      <td>0.14</td>\n",
       "      <td>-0.27</td>\n",
       "      <td>-0.15</td>\n",
       "      <td>0.25</td>\n",
       "      <td>...</td>\n",
       "      <td>0.40</td>\n",
       "      <td>0.01</td>\n",
       "      <td>-0.17</td>\n",
       "      <td>0.02</td>\n",
       "      <td>0.20</td>\n",
       "      <td>0.04</td>\n",
       "      <td>-0.22</td>\n",
       "      <td>-0.36</td>\n",
       "      <td>-0.14</td>\n",
       "      <td>-0.44</td>\n",
       "    </tr>\n",
       "    <tr>\n",
       "      <th>1</th>\n",
       "      <td>-0.21</td>\n",
       "      <td>-0.26</td>\n",
       "      <td>-0.56</td>\n",
       "      <td>-0.47</td>\n",
       "      <td>-0.50</td>\n",
       "      <td>0.29</td>\n",
       "      <td>-0.41</td>\n",
       "      <td>-0.24</td>\n",
       "      <td>-0.62</td>\n",
       "      <td>-0.21</td>\n",
       "      <td>...</td>\n",
       "      <td>0.68</td>\n",
       "      <td>0.26</td>\n",
       "      <td>-0.09</td>\n",
       "      <td>0.65</td>\n",
       "      <td>0.29</td>\n",
       "      <td>0.35</td>\n",
       "      <td>0.21</td>\n",
       "      <td>-0.65</td>\n",
       "      <td>-0.35</td>\n",
       "      <td>-0.21</td>\n",
       "    </tr>\n",
       "  </tbody>\n",
       "</table>\n",
       "<p>2 rows × 186 columns</p>\n",
       "</div>"
      ],
      "text/plain": [
       "    0     1     2     3     4     5     6     7     8     9    ...   176  \\\n",
       "0 -0.10  0.41 -0.14 -0.51 -0.14  0.06  0.14 -0.27 -0.15  0.25  ...  0.40   \n",
       "1 -0.21 -0.26 -0.56 -0.47 -0.50  0.29 -0.41 -0.24 -0.62 -0.21  ...  0.68   \n",
       "\n",
       "    177   178   179   180   181   182   183   184   185  \n",
       "0  0.01 -0.17  0.02  0.20  0.04 -0.22 -0.36 -0.14 -0.44  \n",
       "1  0.26 -0.09  0.65  0.29  0.35  0.21 -0.65 -0.35 -0.21  \n",
       "\n",
       "[2 rows x 186 columns]"
      ]
     },
     "metadata": {},
     "output_type": "display_data"
    },
    {
     "name": "stdout",
     "output_type": "stream",
     "text": [
      "R2 Score Arousal:\t0.38\n"
     ]
    }
   ],
   "source": [
    "df_a = df_a.round(2)\n",
    "\n",
    "display(df_a.head())\n",
    "print(\"R2 Score Arousal:\\t%0.2f\" % r2_a)"
   ]
  },
  {
   "cell_type": "markdown",
   "metadata": {},
   "source": [
    "VALENCE"
   ]
  },
  {
   "cell_type": "code",
   "execution_count": 24,
   "metadata": {},
   "outputs": [
    {
     "data": {
      "text/html": [
       "<div>\n",
       "<style scoped>\n",
       "    .dataframe tbody tr th:only-of-type {\n",
       "        vertical-align: middle;\n",
       "    }\n",
       "\n",
       "    .dataframe tbody tr th {\n",
       "        vertical-align: top;\n",
       "    }\n",
       "\n",
       "    .dataframe thead th {\n",
       "        text-align: right;\n",
       "    }\n",
       "</style>\n",
       "<table border=\"1\" class=\"dataframe\">\n",
       "  <thead>\n",
       "    <tr style=\"text-align: right;\">\n",
       "      <th></th>\n",
       "      <th>0</th>\n",
       "      <th>1</th>\n",
       "      <th>2</th>\n",
       "      <th>3</th>\n",
       "      <th>4</th>\n",
       "      <th>5</th>\n",
       "      <th>6</th>\n",
       "      <th>7</th>\n",
       "      <th>8</th>\n",
       "      <th>9</th>\n",
       "      <th>...</th>\n",
       "      <th>176</th>\n",
       "      <th>177</th>\n",
       "      <th>178</th>\n",
       "      <th>179</th>\n",
       "      <th>180</th>\n",
       "      <th>181</th>\n",
       "      <th>182</th>\n",
       "      <th>183</th>\n",
       "      <th>184</th>\n",
       "      <th>185</th>\n",
       "    </tr>\n",
       "  </thead>\n",
       "  <tbody>\n",
       "    <tr>\n",
       "      <th>0</th>\n",
       "      <td>-0.01</td>\n",
       "      <td>0.13</td>\n",
       "      <td>-0.07</td>\n",
       "      <td>-0.24</td>\n",
       "      <td>0.04</td>\n",
       "      <td>0.12</td>\n",
       "      <td>0.14</td>\n",
       "      <td>0.02</td>\n",
       "      <td>-0.07</td>\n",
       "      <td>0.20</td>\n",
       "      <td>...</td>\n",
       "      <td>0.10</td>\n",
       "      <td>0.07</td>\n",
       "      <td>0.02</td>\n",
       "      <td>-0.01</td>\n",
       "      <td>0.22</td>\n",
       "      <td>0.18</td>\n",
       "      <td>-0.02</td>\n",
       "      <td>-0.16</td>\n",
       "      <td>0.04</td>\n",
       "      <td>-0.19</td>\n",
       "    </tr>\n",
       "    <tr>\n",
       "      <th>1</th>\n",
       "      <td>0.08</td>\n",
       "      <td>-0.57</td>\n",
       "      <td>-0.51</td>\n",
       "      <td>-0.54</td>\n",
       "      <td>-0.20</td>\n",
       "      <td>-0.02</td>\n",
       "      <td>-0.02</td>\n",
       "      <td>-1.00</td>\n",
       "      <td>-0.11</td>\n",
       "      <td>0.11</td>\n",
       "      <td>...</td>\n",
       "      <td>0.17</td>\n",
       "      <td>0.63</td>\n",
       "      <td>0.32</td>\n",
       "      <td>-0.05</td>\n",
       "      <td>0.57</td>\n",
       "      <td>0.08</td>\n",
       "      <td>0.32</td>\n",
       "      <td>-0.51</td>\n",
       "      <td>-0.08</td>\n",
       "      <td>0.02</td>\n",
       "    </tr>\n",
       "  </tbody>\n",
       "</table>\n",
       "<p>2 rows × 186 columns</p>\n",
       "</div>"
      ],
      "text/plain": [
       "    0     1     2     3     4     5     6     7     8     9    ...   176  \\\n",
       "0 -0.01  0.13 -0.07 -0.24  0.04  0.12  0.14  0.02 -0.07  0.20  ...  0.10   \n",
       "1  0.08 -0.57 -0.51 -0.54 -0.20 -0.02 -0.02 -1.00 -0.11  0.11  ...  0.17   \n",
       "\n",
       "    177   178   179   180   181   182   183   184   185  \n",
       "0  0.07  0.02 -0.01  0.22  0.18 -0.02 -0.16  0.04 -0.19  \n",
       "1  0.63  0.32 -0.05  0.57  0.08  0.32 -0.51 -0.08  0.02  \n",
       "\n",
       "[2 rows x 186 columns]"
      ]
     },
     "metadata": {},
     "output_type": "display_data"
    },
    {
     "name": "stdout",
     "output_type": "stream",
     "text": [
      "R2 Score Valence:\t0.18\n"
     ]
    }
   ],
   "source": [
    "df_v = df_v.round(2)\n",
    "\n",
    "display(df_v.head())\n",
    "print(\"R2 Score Valence:\\t%0.2f\" % r2_v)"
   ]
  },
  {
   "cell_type": "markdown",
   "metadata": {},
   "source": [
    "REGRESSION"
   ]
  },
  {
   "cell_type": "code",
   "execution_count": 25,
   "metadata": {
    "collapsed": true
   },
   "outputs": [],
   "source": [
    "# scores_a = crosval(gpr_a,data,scaled_ar) #Arousal Regression\n",
    "# scores_v = crosval(gpr_v,data,scaled_val) #Arousal Regression"
   ]
  },
  {
   "cell_type": "markdown",
   "metadata": {},
   "source": [
    "AROUSAL"
   ]
  },
  {
   "cell_type": "code",
   "execution_count": 26,
   "metadata": {
    "collapsed": true
   },
   "outputs": [],
   "source": [
    "# print(\"R2 Score Valence:\\t\",scores_a)\n",
    "# print(\"R2 Score Valence:\\t%0.2f (+/- %0.2f)\" % (scores_a.mean(), scores_a.std() ))"
   ]
  },
  {
   "cell_type": "markdown",
   "metadata": {},
   "source": [
    "VALENCE"
   ]
  },
  {
   "cell_type": "code",
   "execution_count": 27,
   "metadata": {
    "collapsed": true
   },
   "outputs": [],
   "source": [
    "# print(\"R2 Score Valence:\\t\",scores_v)\n",
    "# print(\"R2 Score Valence:\\t%0.2f (+/- %0.2f)\" % (scores_v.mean(), scores_v.std() ))"
   ]
  },
  {
   "cell_type": "code",
   "execution_count": 28,
   "metadata": {
    "collapsed": true
   },
   "outputs": [],
   "source": [
    "save_predict(df_a.round(2),df_v.round(2),datafitur)\n",
    "# save_model(trained_a,datafitur,'arousal/') #save model Arousal\n",
    "# save_model(trained_v,datafitur,'valence/') #save model Valence"
   ]
  },
  {
   "cell_type": "markdown",
   "metadata": {},
   "source": [
    "# CASE 3"
   ]
  },
  {
   "cell_type": "code",
   "execution_count": 29,
   "metadata": {},
   "outputs": [
    {
     "name": "stdout",
     "output_type": "stream",
     "text": [
      "(744, 3)\n"
     ]
    }
   ],
   "source": [
    "datafitur =  \"case3\" #CASE 3\n",
    "data,arousal_mean,valence_mean = load(datafitur) #Load\n",
    "print(data.shape)\n",
    "\n",
    "scaled_ar = minmax_scale(arousal_mean.values,feature_range=(-1, 1))\n",
    "scaled_val = minmax_scale(valence_mean.values,feature_range=(-1, 1))\n",
    "\n",
    "train_data_a, test_data_a, train_values_a, test_values_a = split(data,scaled_ar) #split arousal\n",
    "train_data_v, test_data_v, train_values_v, test_values_v = split(data,scaled_val) #split valence"
   ]
  },
  {
   "cell_type": "markdown",
   "metadata": {},
   "source": [
    "INITAL MODEL"
   ]
  },
  {
   "cell_type": "code",
   "execution_count": 30,
   "metadata": {
    "collapsed": true
   },
   "outputs": [],
   "source": [
    "gpr_a = GPR(kernel=kernels, alpha=1e-10, \n",
    "                    optimizer='fmin_l_bfgs_b', \n",
    "                    n_restarts_optimizer=10, \n",
    "                    normalize_y=False, copy_X_train=False, \n",
    "                    random_state=1000) #init Arousal\n",
    "\n",
    "gpr_v = GPR(kernel=kernels, alpha=1e-10, \n",
    "                    optimizer='fmin_l_bfgs_b', \n",
    "                    n_restarts_optimizer=10, \n",
    "                    normalize_y=False, copy_X_train=False, \n",
    "                    random_state=1000) #init Valence\n",
    "\n",
    "# gpr_a = GPR()\n",
    "# gpr_v = GPR()"
   ]
  },
  {
   "cell_type": "code",
   "execution_count": 31,
   "metadata": {},
   "outputs": [
    {
     "name": "stdout",
     "output_type": "stream",
     "text": [
      "arousal:\t RationalQuadratic(alpha=1, length_scale=1)\n",
      "valence:\t RationalQuadratic(alpha=1, length_scale=1)\n"
     ]
    }
   ],
   "source": [
    "print(\"arousal:\\t\",gpr_a.kernel)\n",
    "print(\"valence:\\t\",gpr_v.kernel)"
   ]
  },
  {
   "cell_type": "markdown",
   "metadata": {},
   "source": [
    "TRAIN"
   ]
  },
  {
   "cell_type": "code",
   "execution_count": 32,
   "metadata": {
    "collapsed": true
   },
   "outputs": [],
   "source": [
    "trained_a = training(train_data_a,train_values_a,gpr_a)\n",
    "trained_v = training(train_data_v,train_values_v,gpr_v)"
   ]
  },
  {
   "cell_type": "markdown",
   "metadata": {},
   "source": [
    "PREDICT"
   ]
  },
  {
   "cell_type": "code",
   "execution_count": 33,
   "metadata": {
    "collapsed": true
   },
   "outputs": [],
   "source": [
    "# #Predict Arousal\n",
    "pred_a,df_a = predict(test_data_a, test_values_a, trained_a)\n",
    "# #Predict Valence\n",
    "pred_v,df_v = predict(test_data_v, test_values_v, trained_v)\n",
    "\n",
    "r2_a = score(pred_a,test_values_a) #Score Arousal\n",
    "r2_v = score(pred_v,test_values_v) #Score Valence"
   ]
  },
  {
   "cell_type": "markdown",
   "metadata": {},
   "source": [
    "SET PARAM"
   ]
  },
  {
   "cell_type": "code",
   "execution_count": 34,
   "metadata": {},
   "outputs": [
    {
     "name": "stdout",
     "output_type": "stream",
     "text": [
      "arousal:\t RationalQuadratic(alpha=0.0058, length_scale=1e-06)\n",
      "valence:\t RationalQuadratic(alpha=0.00606, length_scale=1e-06)\n"
     ]
    }
   ],
   "source": [
    "trained_a.set_params(kernel=trained_a.kernel_)\n",
    "trained_v.set_params(kernel=trained_v.kernel_)\n",
    "\n",
    "print(\"arousal:\\t\",trained_a.kernel)\n",
    "print(\"valence:\\t\",trained_v.kernel)"
   ]
  },
  {
   "cell_type": "markdown",
   "metadata": {},
   "source": [
    "AROUSAL"
   ]
  },
  {
   "cell_type": "code",
   "execution_count": 35,
   "metadata": {},
   "outputs": [
    {
     "data": {
      "text/html": [
       "<div>\n",
       "<style scoped>\n",
       "    .dataframe tbody tr th:only-of-type {\n",
       "        vertical-align: middle;\n",
       "    }\n",
       "\n",
       "    .dataframe tbody tr th {\n",
       "        vertical-align: top;\n",
       "    }\n",
       "\n",
       "    .dataframe thead th {\n",
       "        text-align: right;\n",
       "    }\n",
       "</style>\n",
       "<table border=\"1\" class=\"dataframe\">\n",
       "  <thead>\n",
       "    <tr style=\"text-align: right;\">\n",
       "      <th></th>\n",
       "      <th>0</th>\n",
       "      <th>1</th>\n",
       "      <th>2</th>\n",
       "      <th>3</th>\n",
       "      <th>4</th>\n",
       "      <th>5</th>\n",
       "      <th>6</th>\n",
       "      <th>7</th>\n",
       "      <th>8</th>\n",
       "      <th>9</th>\n",
       "      <th>...</th>\n",
       "      <th>176</th>\n",
       "      <th>177</th>\n",
       "      <th>178</th>\n",
       "      <th>179</th>\n",
       "      <th>180</th>\n",
       "      <th>181</th>\n",
       "      <th>182</th>\n",
       "      <th>183</th>\n",
       "      <th>184</th>\n",
       "      <th>185</th>\n",
       "    </tr>\n",
       "  </thead>\n",
       "  <tbody>\n",
       "    <tr>\n",
       "      <th>0</th>\n",
       "      <td>-0.13</td>\n",
       "      <td>0.01</td>\n",
       "      <td>0.04</td>\n",
       "      <td>-0.36</td>\n",
       "      <td>-0.0</td>\n",
       "      <td>0.14</td>\n",
       "      <td>-0.37</td>\n",
       "      <td>0.03</td>\n",
       "      <td>-0.30</td>\n",
       "      <td>0.18</td>\n",
       "      <td>...</td>\n",
       "      <td>0.02</td>\n",
       "      <td>0.19</td>\n",
       "      <td>-0.03</td>\n",
       "      <td>0.18</td>\n",
       "      <td>-0.00</td>\n",
       "      <td>0.19</td>\n",
       "      <td>-0.02</td>\n",
       "      <td>-0.04</td>\n",
       "      <td>-0.12</td>\n",
       "      <td>-0.02</td>\n",
       "    </tr>\n",
       "    <tr>\n",
       "      <th>1</th>\n",
       "      <td>-0.21</td>\n",
       "      <td>-0.26</td>\n",
       "      <td>-0.56</td>\n",
       "      <td>-0.47</td>\n",
       "      <td>-0.5</td>\n",
       "      <td>0.29</td>\n",
       "      <td>-0.41</td>\n",
       "      <td>-0.24</td>\n",
       "      <td>-0.62</td>\n",
       "      <td>-0.21</td>\n",
       "      <td>...</td>\n",
       "      <td>0.68</td>\n",
       "      <td>0.26</td>\n",
       "      <td>-0.09</td>\n",
       "      <td>0.65</td>\n",
       "      <td>0.29</td>\n",
       "      <td>0.35</td>\n",
       "      <td>0.21</td>\n",
       "      <td>-0.65</td>\n",
       "      <td>-0.35</td>\n",
       "      <td>-0.21</td>\n",
       "    </tr>\n",
       "  </tbody>\n",
       "</table>\n",
       "<p>2 rows × 186 columns</p>\n",
       "</div>"
      ],
      "text/plain": [
       "    0     1     2     3    4     5     6     7     8     9    ...   176   177  \\\n",
       "0 -0.13  0.01  0.04 -0.36 -0.0  0.14 -0.37  0.03 -0.30  0.18  ...  0.02  0.19   \n",
       "1 -0.21 -0.26 -0.56 -0.47 -0.5  0.29 -0.41 -0.24 -0.62 -0.21  ...  0.68  0.26   \n",
       "\n",
       "    178   179   180   181   182   183   184   185  \n",
       "0 -0.03  0.18 -0.00  0.19 -0.02 -0.04 -0.12 -0.02  \n",
       "1 -0.09  0.65  0.29  0.35  0.21 -0.65 -0.35 -0.21  \n",
       "\n",
       "[2 rows x 186 columns]"
      ]
     },
     "metadata": {},
     "output_type": "display_data"
    },
    {
     "name": "stdout",
     "output_type": "stream",
     "text": [
      "R2 Score Arousal:\t0.18\n"
     ]
    }
   ],
   "source": [
    "df_a = df_a.round(2)\n",
    "\n",
    "display(df_a.head())\n",
    "print(\"R2 Score Arousal:\\t%0.2f\" % r2_a)"
   ]
  },
  {
   "cell_type": "markdown",
   "metadata": {},
   "source": [
    "VALENCE"
   ]
  },
  {
   "cell_type": "code",
   "execution_count": 36,
   "metadata": {},
   "outputs": [
    {
     "data": {
      "text/html": [
       "<div>\n",
       "<style scoped>\n",
       "    .dataframe tbody tr th:only-of-type {\n",
       "        vertical-align: middle;\n",
       "    }\n",
       "\n",
       "    .dataframe tbody tr th {\n",
       "        vertical-align: top;\n",
       "    }\n",
       "\n",
       "    .dataframe thead th {\n",
       "        text-align: right;\n",
       "    }\n",
       "</style>\n",
       "<table border=\"1\" class=\"dataframe\">\n",
       "  <thead>\n",
       "    <tr style=\"text-align: right;\">\n",
       "      <th></th>\n",
       "      <th>0</th>\n",
       "      <th>1</th>\n",
       "      <th>2</th>\n",
       "      <th>3</th>\n",
       "      <th>4</th>\n",
       "      <th>5</th>\n",
       "      <th>6</th>\n",
       "      <th>7</th>\n",
       "      <th>8</th>\n",
       "      <th>9</th>\n",
       "      <th>...</th>\n",
       "      <th>176</th>\n",
       "      <th>177</th>\n",
       "      <th>178</th>\n",
       "      <th>179</th>\n",
       "      <th>180</th>\n",
       "      <th>181</th>\n",
       "      <th>182</th>\n",
       "      <th>183</th>\n",
       "      <th>184</th>\n",
       "      <th>185</th>\n",
       "    </tr>\n",
       "  </thead>\n",
       "  <tbody>\n",
       "    <tr>\n",
       "      <th>0</th>\n",
       "      <td>0.17</td>\n",
       "      <td>0.08</td>\n",
       "      <td>0.05</td>\n",
       "      <td>-0.11</td>\n",
       "      <td>0.13</td>\n",
       "      <td>-0.06</td>\n",
       "      <td>-0.19</td>\n",
       "      <td>0.1</td>\n",
       "      <td>-0.08</td>\n",
       "      <td>0.19</td>\n",
       "      <td>...</td>\n",
       "      <td>0.05</td>\n",
       "      <td>0.16</td>\n",
       "      <td>0.09</td>\n",
       "      <td>0.18</td>\n",
       "      <td>0.11</td>\n",
       "      <td>0.19</td>\n",
       "      <td>-0.02</td>\n",
       "      <td>0.10</td>\n",
       "      <td>0.02</td>\n",
       "      <td>0.18</td>\n",
       "    </tr>\n",
       "    <tr>\n",
       "      <th>1</th>\n",
       "      <td>0.08</td>\n",
       "      <td>-0.57</td>\n",
       "      <td>-0.51</td>\n",
       "      <td>-0.54</td>\n",
       "      <td>-0.20</td>\n",
       "      <td>-0.02</td>\n",
       "      <td>-0.02</td>\n",
       "      <td>-1.0</td>\n",
       "      <td>-0.11</td>\n",
       "      <td>0.11</td>\n",
       "      <td>...</td>\n",
       "      <td>0.17</td>\n",
       "      <td>0.63</td>\n",
       "      <td>0.32</td>\n",
       "      <td>-0.05</td>\n",
       "      <td>0.57</td>\n",
       "      <td>0.08</td>\n",
       "      <td>0.32</td>\n",
       "      <td>-0.51</td>\n",
       "      <td>-0.08</td>\n",
       "      <td>0.02</td>\n",
       "    </tr>\n",
       "  </tbody>\n",
       "</table>\n",
       "<p>2 rows × 186 columns</p>\n",
       "</div>"
      ],
      "text/plain": [
       "    0     1     2     3     4     5     6    7     8     9    ...   176   177  \\\n",
       "0  0.17  0.08  0.05 -0.11  0.13 -0.06 -0.19  0.1 -0.08  0.19  ...  0.05  0.16   \n",
       "1  0.08 -0.57 -0.51 -0.54 -0.20 -0.02 -0.02 -1.0 -0.11  0.11  ...  0.17  0.63   \n",
       "\n",
       "    178   179   180   181   182   183   184   185  \n",
       "0  0.09  0.18  0.11  0.19 -0.02  0.10  0.02  0.18  \n",
       "1  0.32 -0.05  0.57  0.08  0.32 -0.51 -0.08  0.02  \n",
       "\n",
       "[2 rows x 186 columns]"
      ]
     },
     "metadata": {},
     "output_type": "display_data"
    },
    {
     "name": "stdout",
     "output_type": "stream",
     "text": [
      "R2 Score Valence:\t0.07\n"
     ]
    }
   ],
   "source": [
    "df_v = df_v.round(2)\n",
    "\n",
    "display(df_v.head())\n",
    "print(\"R2 Score Valence:\\t%0.2f\" % r2_v)"
   ]
  },
  {
   "cell_type": "markdown",
   "metadata": {},
   "source": [
    "REGRESSION"
   ]
  },
  {
   "cell_type": "code",
   "execution_count": 37,
   "metadata": {
    "collapsed": true
   },
   "outputs": [],
   "source": [
    "# scores_a = crosval(gpr_a,data,scaled_ar) #Arousal Regression\n",
    "# scores_v = crosval(gpr_v,data,scaled_val) #Arousal Regression"
   ]
  },
  {
   "cell_type": "markdown",
   "metadata": {},
   "source": [
    "AROUSAL"
   ]
  },
  {
   "cell_type": "code",
   "execution_count": 38,
   "metadata": {
    "collapsed": true
   },
   "outputs": [],
   "source": [
    "# print(\"R2 Score Valence:\\t\",scores_a)\n",
    "# print(\"R2 Score Valence:\\t%0.2f (+/- %0.2f)\" % (scores_a.mean(), scores_a.std() ))"
   ]
  },
  {
   "cell_type": "markdown",
   "metadata": {},
   "source": [
    "VALENCE"
   ]
  },
  {
   "cell_type": "code",
   "execution_count": 39,
   "metadata": {
    "collapsed": true
   },
   "outputs": [],
   "source": [
    "# print(\"R2 Score Valence:\\t\",scores_v)\n",
    "# print(\"R2 Score Valence:\\t%0.2f (+/- %0.2f)\" % (scores_v.mean(), scores_v.std() ))"
   ]
  },
  {
   "cell_type": "code",
   "execution_count": 40,
   "metadata": {
    "collapsed": true
   },
   "outputs": [],
   "source": [
    "save_predict(df_a,df_v,datafitur)\n",
    "# save_model(trained_a,datafitur,'arousal/') #save model Arousal\n",
    "# save_model(trained_v,datafitur,'valence/') #save model Valence"
   ]
  },
  {
   "cell_type": "markdown",
   "metadata": {},
   "source": [
    "# CASE 4"
   ]
  },
  {
   "cell_type": "code",
   "execution_count": 41,
   "metadata": {},
   "outputs": [
    {
     "name": "stdout",
     "output_type": "stream",
     "text": [
      "(744, 24)\n"
     ]
    }
   ],
   "source": [
    "datafitur =  \"case4\" #CASE 3\n",
    "data,arousal_mean,valence_mean = load(datafitur) #Load\n",
    "print(data.shape)\n",
    "\n",
    "scaled_ar = minmax_scale(arousal_mean.values,feature_range=(-1, 1))\n",
    "scaled_val = minmax_scale(valence_mean.values,feature_range=(-1, 1))\n",
    "\n",
    "train_data_a, test_data_a, train_values_a, test_values_a = split(data,scaled_ar) #split arousal\n",
    "train_data_v, test_data_v, train_values_v, test_values_v = split(data,scaled_val) #split valence"
   ]
  },
  {
   "cell_type": "markdown",
   "metadata": {},
   "source": [
    "INITIAL MODEL"
   ]
  },
  {
   "cell_type": "code",
   "execution_count": 42,
   "metadata": {
    "collapsed": true
   },
   "outputs": [],
   "source": [
    "gpr_a = GPR(kernel=kernels, alpha=1e-10, \n",
    "                    optimizer='fmin_l_bfgs_b', \n",
    "                    n_restarts_optimizer=10, \n",
    "                    normalize_y=False, copy_X_train=False,  \n",
    "                    random_state=1000) #init Arousal\n",
    "\n",
    "gpr_v = GPR(kernel=kernels, alpha=1e-10, \n",
    "                    optimizer='fmin_l_bfgs_b', \n",
    "                    n_restarts_optimizer=10, \n",
    "                    normalize_y=False, copy_X_train=False,  \n",
    "                    random_state=1000) #init Valence\n",
    "\n",
    "# # gpr_a = GPR()\n",
    "# # gpr_v = GPR()"
   ]
  },
  {
   "cell_type": "code",
   "execution_count": 43,
   "metadata": {},
   "outputs": [
    {
     "name": "stdout",
     "output_type": "stream",
     "text": [
      "arousal:\t RationalQuadratic(alpha=1, length_scale=1)\n",
      "valence:\t RationalQuadratic(alpha=1, length_scale=1)\n"
     ]
    }
   ],
   "source": [
    "print(\"arousal:\\t\",gpr_a.kernel)\n",
    "print(\"valence:\\t\",gpr_v.kernel)"
   ]
  },
  {
   "cell_type": "markdown",
   "metadata": {},
   "source": [
    "TRAIN"
   ]
  },
  {
   "cell_type": "code",
   "execution_count": 44,
   "metadata": {
    "collapsed": true
   },
   "outputs": [],
   "source": [
    "trained_a = training(train_data_a,train_values_a,gpr_a)\n",
    "trained_v = training(train_data_v,train_values_v,gpr_v)"
   ]
  },
  {
   "cell_type": "markdown",
   "metadata": {},
   "source": [
    "PREDICT"
   ]
  },
  {
   "cell_type": "code",
   "execution_count": 45,
   "metadata": {
    "collapsed": true
   },
   "outputs": [],
   "source": [
    "# #Predict Arousal\n",
    "pred_a,df_a = predict(test_data_a, test_values_a, trained_a)\n",
    "# #Predict Valence\n",
    "pred_v,df_v = predict(test_data_v, test_values_v, trained_v)\n",
    "\n",
    "r2_a = score(pred_a,test_values_a) #Score Arousal\n",
    "r2_v = score(pred_v,test_values_v) #Score Valence"
   ]
  },
  {
   "cell_type": "markdown",
   "metadata": {},
   "source": [
    "SET PARAM"
   ]
  },
  {
   "cell_type": "code",
   "execution_count": 46,
   "metadata": {},
   "outputs": [
    {
     "name": "stdout",
     "output_type": "stream",
     "text": [
      "arousal:\t RationalQuadratic(alpha=0.0156, length_scale=0.336)\n",
      "valence:\t RationalQuadratic(alpha=0.0148, length_scale=0.159)\n"
     ]
    }
   ],
   "source": [
    "trained_a.set_params(kernel=trained_a.kernel_)\n",
    "trained_v.set_params(kernel=trained_v.kernel_)\n",
    "\n",
    "print(\"arousal:\\t\",trained_a.kernel)\n",
    "print(\"valence:\\t\",trained_v.kernel)"
   ]
  },
  {
   "cell_type": "markdown",
   "metadata": {},
   "source": [
    "AROUSAL"
   ]
  },
  {
   "cell_type": "code",
   "execution_count": 47,
   "metadata": {
    "scrolled": true
   },
   "outputs": [
    {
     "data": {
      "text/html": [
       "<div>\n",
       "<style scoped>\n",
       "    .dataframe tbody tr th:only-of-type {\n",
       "        vertical-align: middle;\n",
       "    }\n",
       "\n",
       "    .dataframe tbody tr th {\n",
       "        vertical-align: top;\n",
       "    }\n",
       "\n",
       "    .dataframe thead th {\n",
       "        text-align: right;\n",
       "    }\n",
       "</style>\n",
       "<table border=\"1\" class=\"dataframe\">\n",
       "  <thead>\n",
       "    <tr style=\"text-align: right;\">\n",
       "      <th></th>\n",
       "      <th>0</th>\n",
       "      <th>1</th>\n",
       "      <th>2</th>\n",
       "      <th>3</th>\n",
       "      <th>4</th>\n",
       "      <th>5</th>\n",
       "      <th>6</th>\n",
       "      <th>7</th>\n",
       "      <th>8</th>\n",
       "      <th>9</th>\n",
       "      <th>...</th>\n",
       "      <th>176</th>\n",
       "      <th>177</th>\n",
       "      <th>178</th>\n",
       "      <th>179</th>\n",
       "      <th>180</th>\n",
       "      <th>181</th>\n",
       "      <th>182</th>\n",
       "      <th>183</th>\n",
       "      <th>184</th>\n",
       "      <th>185</th>\n",
       "    </tr>\n",
       "  </thead>\n",
       "  <tbody>\n",
       "    <tr>\n",
       "      <th>0</th>\n",
       "      <td>0.081422</td>\n",
       "      <td>-0.361852</td>\n",
       "      <td>-0.152641</td>\n",
       "      <td>-0.025052</td>\n",
       "      <td>-0.307071</td>\n",
       "      <td>0.058601</td>\n",
       "      <td>-0.164520</td>\n",
       "      <td>0.031634</td>\n",
       "      <td>0.120427</td>\n",
       "      <td>0.139953</td>\n",
       "      <td>...</td>\n",
       "      <td>0.055981</td>\n",
       "      <td>0.102038</td>\n",
       "      <td>0.202022</td>\n",
       "      <td>0.202652</td>\n",
       "      <td>0.211087</td>\n",
       "      <td>-0.007445</td>\n",
       "      <td>0.285772</td>\n",
       "      <td>0.060685</td>\n",
       "      <td>-0.353485</td>\n",
       "      <td>-0.280892</td>\n",
       "    </tr>\n",
       "    <tr>\n",
       "      <th>1</th>\n",
       "      <td>-0.205882</td>\n",
       "      <td>-0.264706</td>\n",
       "      <td>-0.558824</td>\n",
       "      <td>-0.470588</td>\n",
       "      <td>-0.500000</td>\n",
       "      <td>0.294118</td>\n",
       "      <td>-0.411765</td>\n",
       "      <td>-0.235294</td>\n",
       "      <td>-0.617647</td>\n",
       "      <td>-0.205882</td>\n",
       "      <td>...</td>\n",
       "      <td>0.676471</td>\n",
       "      <td>0.264706</td>\n",
       "      <td>-0.088235</td>\n",
       "      <td>0.647059</td>\n",
       "      <td>0.294118</td>\n",
       "      <td>0.352941</td>\n",
       "      <td>0.205882</td>\n",
       "      <td>-0.647059</td>\n",
       "      <td>-0.352941</td>\n",
       "      <td>-0.205882</td>\n",
       "    </tr>\n",
       "  </tbody>\n",
       "</table>\n",
       "<p>2 rows × 186 columns</p>\n",
       "</div>"
      ],
      "text/plain": [
       "        0         1         2         3         4         5         6    \\\n",
       "0  0.081422 -0.361852 -0.152641 -0.025052 -0.307071  0.058601 -0.164520   \n",
       "1 -0.205882 -0.264706 -0.558824 -0.470588 -0.500000  0.294118 -0.411765   \n",
       "\n",
       "        7         8         9    ...       176       177       178       179  \\\n",
       "0  0.031634  0.120427  0.139953  ...  0.055981  0.102038  0.202022  0.202652   \n",
       "1 -0.235294 -0.617647 -0.205882  ...  0.676471  0.264706 -0.088235  0.647059   \n",
       "\n",
       "        180       181       182       183       184       185  \n",
       "0  0.211087 -0.007445  0.285772  0.060685 -0.353485 -0.280892  \n",
       "1  0.294118  0.352941  0.205882 -0.647059 -0.352941 -0.205882  \n",
       "\n",
       "[2 rows x 186 columns]"
      ]
     },
     "metadata": {},
     "output_type": "display_data"
    },
    {
     "name": "stdout",
     "output_type": "stream",
     "text": [
      "R2 Score Arousal:\t0.28\n"
     ]
    }
   ],
   "source": [
    "# # df4_a = df4_a.round(2)\n",
    "\n",
    "display(df_a.head())\n",
    "print(\"R2 Score Arousal:\\t%0.2f\" % r2_a)"
   ]
  },
  {
   "cell_type": "markdown",
   "metadata": {},
   "source": [
    "VALENCE"
   ]
  },
  {
   "cell_type": "code",
   "execution_count": 48,
   "metadata": {},
   "outputs": [
    {
     "data": {
      "text/html": [
       "<div>\n",
       "<style scoped>\n",
       "    .dataframe tbody tr th:only-of-type {\n",
       "        vertical-align: middle;\n",
       "    }\n",
       "\n",
       "    .dataframe tbody tr th {\n",
       "        vertical-align: top;\n",
       "    }\n",
       "\n",
       "    .dataframe thead th {\n",
       "        text-align: right;\n",
       "    }\n",
       "</style>\n",
       "<table border=\"1\" class=\"dataframe\">\n",
       "  <thead>\n",
       "    <tr style=\"text-align: right;\">\n",
       "      <th></th>\n",
       "      <th>0</th>\n",
       "      <th>1</th>\n",
       "      <th>2</th>\n",
       "      <th>3</th>\n",
       "      <th>4</th>\n",
       "      <th>5</th>\n",
       "      <th>6</th>\n",
       "      <th>7</th>\n",
       "      <th>8</th>\n",
       "      <th>9</th>\n",
       "      <th>...</th>\n",
       "      <th>176</th>\n",
       "      <th>177</th>\n",
       "      <th>178</th>\n",
       "      <th>179</th>\n",
       "      <th>180</th>\n",
       "      <th>181</th>\n",
       "      <th>182</th>\n",
       "      <th>183</th>\n",
       "      <th>184</th>\n",
       "      <th>185</th>\n",
       "    </tr>\n",
       "  </thead>\n",
       "  <tbody>\n",
       "    <tr>\n",
       "      <th>0</th>\n",
       "      <td>0.118480</td>\n",
       "      <td>-0.132967</td>\n",
       "      <td>-0.133773</td>\n",
       "      <td>0.064050</td>\n",
       "      <td>-0.117564</td>\n",
       "      <td>0.123432</td>\n",
       "      <td>-0.009836</td>\n",
       "      <td>0.089491</td>\n",
       "      <td>0.138527</td>\n",
       "      <td>0.234036</td>\n",
       "      <td>...</td>\n",
       "      <td>0.183200</td>\n",
       "      <td>0.158774</td>\n",
       "      <td>0.170037</td>\n",
       "      <td>0.253165</td>\n",
       "      <td>0.223017</td>\n",
       "      <td>0.235391</td>\n",
       "      <td>0.249505</td>\n",
       "      <td>0.168893</td>\n",
       "      <td>-0.083331</td>\n",
       "      <td>-0.061661</td>\n",
       "    </tr>\n",
       "    <tr>\n",
       "      <th>1</th>\n",
       "      <td>0.076923</td>\n",
       "      <td>-0.569231</td>\n",
       "      <td>-0.507692</td>\n",
       "      <td>-0.538462</td>\n",
       "      <td>-0.200000</td>\n",
       "      <td>-0.015385</td>\n",
       "      <td>-0.015385</td>\n",
       "      <td>-1.000000</td>\n",
       "      <td>-0.107692</td>\n",
       "      <td>0.107692</td>\n",
       "      <td>...</td>\n",
       "      <td>0.169231</td>\n",
       "      <td>0.630769</td>\n",
       "      <td>0.323077</td>\n",
       "      <td>-0.046154</td>\n",
       "      <td>0.569231</td>\n",
       "      <td>0.076923</td>\n",
       "      <td>0.323077</td>\n",
       "      <td>-0.507692</td>\n",
       "      <td>-0.076923</td>\n",
       "      <td>0.015385</td>\n",
       "    </tr>\n",
       "  </tbody>\n",
       "</table>\n",
       "<p>2 rows × 186 columns</p>\n",
       "</div>"
      ],
      "text/plain": [
       "        0         1         2         3         4         5         6    \\\n",
       "0  0.118480 -0.132967 -0.133773  0.064050 -0.117564  0.123432 -0.009836   \n",
       "1  0.076923 -0.569231 -0.507692 -0.538462 -0.200000 -0.015385 -0.015385   \n",
       "\n",
       "        7         8         9    ...       176       177       178       179  \\\n",
       "0  0.089491  0.138527  0.234036  ...  0.183200  0.158774  0.170037  0.253165   \n",
       "1 -1.000000 -0.107692  0.107692  ...  0.169231  0.630769  0.323077 -0.046154   \n",
       "\n",
       "        180       181       182       183       184       185  \n",
       "0  0.223017  0.235391  0.249505  0.168893 -0.083331 -0.061661  \n",
       "1  0.569231  0.076923  0.323077 -0.507692 -0.076923  0.015385  \n",
       "\n",
       "[2 rows x 186 columns]"
      ]
     },
     "metadata": {},
     "output_type": "display_data"
    },
    {
     "name": "stdout",
     "output_type": "stream",
     "text": [
      "R2 Score Valence:\t0.10\n"
     ]
    }
   ],
   "source": [
    "# # df4_v = df4_v.round(2)\n",
    "\n",
    "display(df_v.head())\n",
    "print(\"R2 Score Valence:\\t%0.2f\" % r2_v)"
   ]
  },
  {
   "cell_type": "markdown",
   "metadata": {},
   "source": [
    "REGRESSION"
   ]
  },
  {
   "cell_type": "code",
   "execution_count": 49,
   "metadata": {
    "collapsed": true
   },
   "outputs": [],
   "source": [
    "# scores_a = crosval(gpr_a,data,scaled_ar) #Arousal Regression\n",
    "# scores_v = crosval(gpr_v,data,scaled_val) #Arousal Regression"
   ]
  },
  {
   "cell_type": "markdown",
   "metadata": {},
   "source": [
    "AROUSAL"
   ]
  },
  {
   "cell_type": "code",
   "execution_count": 50,
   "metadata": {
    "collapsed": true
   },
   "outputs": [],
   "source": [
    "# print(\"R2 Score Valence:\\t\",scores_a)\n",
    "# print(\"R2 Score Valence:\\t%0.2f (+/- %0.2f)\" % (scores_a.mean(), scores_a.std() ))"
   ]
  },
  {
   "cell_type": "markdown",
   "metadata": {},
   "source": [
    "VALENCE"
   ]
  },
  {
   "cell_type": "code",
   "execution_count": 51,
   "metadata": {
    "collapsed": true
   },
   "outputs": [],
   "source": [
    "# print(\"R2 Score Valence:\\t\",scores_v)\n",
    "# print(\"R2 Score Valence:\\t%0.2f (+/- %0.2f)\" % (scores_v.mean(), scores_v.std() ))"
   ]
  },
  {
   "cell_type": "code",
   "execution_count": 52,
   "metadata": {
    "collapsed": true
   },
   "outputs": [],
   "source": [
    "save_predict(df_a,df_v,datafitur)\n",
    "# save_model(trained_a,datafitur,'arousal/') #save model Arousal\n",
    "# save_model(trained_v,datafitur,'valence/') #save model Valence"
   ]
  },
  {
   "cell_type": "markdown",
   "metadata": {
    "collapsed": true
   },
   "source": [
    "# CASE 5"
   ]
  },
  {
   "cell_type": "code",
   "execution_count": 53,
   "metadata": {},
   "outputs": [
    {
     "name": "stdout",
     "output_type": "stream",
     "text": [
      "(744, 34)\n"
     ]
    }
   ],
   "source": [
    "datafitur = \"case5\" #CASE 1\n",
    "\n",
    "data,arousal_mean,valence_mean = load(datafitur) #Load\n",
    "print(data.shape)\n",
    "\n",
    "scaled_ar = minmax_scale(arousal_mean.values,feature_range=(-1, 1))\n",
    "scaled_val = minmax_scale(valence_mean.values,feature_range=(-1, 1))\n",
    "\n",
    "#split arousal\n",
    "train_data_a, test_data_a, train_values_a, test_values_a = split(data,scaled_ar)\n",
    "#split valence\n",
    "train_data_v, test_data_v, train_values_v, test_values_v = split(data,scaled_val) "
   ]
  },
  {
   "cell_type": "code",
   "execution_count": 54,
   "metadata": {
    "collapsed": true
   },
   "outputs": [],
   "source": [
    "gpr_a = GPR(kernel=kernels, alpha=1e-10, \n",
    "                    optimizer='fmin_l_bfgs_b', \n",
    "                    n_restarts_optimizer=10, \n",
    "                    normalize_y=False, copy_X_train=False, \n",
    "                    random_state=1000) #init Arousal\n",
    "\n",
    "gpr_v = GPR(kernel=kernels, alpha=1e-10, \n",
    "                    optimizer='fmin_l_bfgs_b', \n",
    "                    n_restarts_optimizer=10, \n",
    "                    normalize_y=False, copy_X_train=False, \n",
    "                    random_state=1000) #init Arousal"
   ]
  },
  {
   "cell_type": "code",
   "execution_count": 55,
   "metadata": {},
   "outputs": [
    {
     "name": "stdout",
     "output_type": "stream",
     "text": [
      "arousal:\t RationalQuadratic(alpha=1, length_scale=1)\n",
      "arousal:\t RationalQuadratic(alpha=1, length_scale=1)\n"
     ]
    }
   ],
   "source": [
    "print(\"arousal:\\t\",gpr_a.kernel)\n",
    "print(\"arousal:\\t\",gpr_v.kernel)"
   ]
  },
  {
   "cell_type": "code",
   "execution_count": 56,
   "metadata": {
    "collapsed": true
   },
   "outputs": [],
   "source": [
    "trained_a = training(train_data_a,train_values_a,gpr_a)\n",
    "trained_v = training(train_data_v,train_values_v,gpr_v)"
   ]
  },
  {
   "cell_type": "code",
   "execution_count": 57,
   "metadata": {
    "collapsed": true
   },
   "outputs": [],
   "source": [
    "# #Predict Arousal\n",
    "pred_a,df_a = predict(test_data_a, test_values_a, trained_a)\n",
    "# #Predict Valence\n",
    "pred_v,df_v = predict(test_data_v, test_values_v, trained_v)\n",
    "\n",
    "r2_a = score(pred_a,test_values_a) #Score Arousal\n",
    "r2_v = score(pred_v,test_values_v) #Score Valence"
   ]
  },
  {
   "cell_type": "code",
   "execution_count": 58,
   "metadata": {},
   "outputs": [
    {
     "name": "stdout",
     "output_type": "stream",
     "text": [
      "arousal:\t RationalQuadratic(alpha=0.0138, length_scale=0.595)\n",
      "valence:\t RationalQuadratic(alpha=0.0183, length_scale=0.238)\n"
     ]
    }
   ],
   "source": [
    "trained_a.set_params(kernel=trained_a.kernel_)\n",
    "trained_v.set_params(kernel=trained_v.kernel_)\n",
    "\n",
    "print(\"arousal:\\t\",trained_a.kernel)\n",
    "print(\"valence:\\t\",trained_v.kernel)"
   ]
  },
  {
   "cell_type": "code",
   "execution_count": 59,
   "metadata": {},
   "outputs": [
    {
     "data": {
      "text/html": [
       "<div>\n",
       "<style scoped>\n",
       "    .dataframe tbody tr th:only-of-type {\n",
       "        vertical-align: middle;\n",
       "    }\n",
       "\n",
       "    .dataframe tbody tr th {\n",
       "        vertical-align: top;\n",
       "    }\n",
       "\n",
       "    .dataframe thead th {\n",
       "        text-align: right;\n",
       "    }\n",
       "</style>\n",
       "<table border=\"1\" class=\"dataframe\">\n",
       "  <thead>\n",
       "    <tr style=\"text-align: right;\">\n",
       "      <th></th>\n",
       "      <th>0</th>\n",
       "      <th>1</th>\n",
       "      <th>2</th>\n",
       "      <th>3</th>\n",
       "      <th>4</th>\n",
       "      <th>5</th>\n",
       "      <th>6</th>\n",
       "      <th>7</th>\n",
       "      <th>8</th>\n",
       "      <th>9</th>\n",
       "      <th>...</th>\n",
       "      <th>176</th>\n",
       "      <th>177</th>\n",
       "      <th>178</th>\n",
       "      <th>179</th>\n",
       "      <th>180</th>\n",
       "      <th>181</th>\n",
       "      <th>182</th>\n",
       "      <th>183</th>\n",
       "      <th>184</th>\n",
       "      <th>185</th>\n",
       "    </tr>\n",
       "  </thead>\n",
       "  <tbody>\n",
       "    <tr>\n",
       "      <th>0</th>\n",
       "      <td>-0.041094</td>\n",
       "      <td>0.311114</td>\n",
       "      <td>-0.107564</td>\n",
       "      <td>-0.385560</td>\n",
       "      <td>-0.132587</td>\n",
       "      <td>0.169879</td>\n",
       "      <td>-0.287253</td>\n",
       "      <td>-0.368045</td>\n",
       "      <td>-0.486673</td>\n",
       "      <td>0.204376</td>\n",
       "      <td>...</td>\n",
       "      <td>0.507992</td>\n",
       "      <td>0.178927</td>\n",
       "      <td>-0.377253</td>\n",
       "      <td>0.212966</td>\n",
       "      <td>0.342567</td>\n",
       "      <td>0.169717</td>\n",
       "      <td>-0.152999</td>\n",
       "      <td>-0.383854</td>\n",
       "      <td>-0.454043</td>\n",
       "      <td>-0.374128</td>\n",
       "    </tr>\n",
       "    <tr>\n",
       "      <th>1</th>\n",
       "      <td>-0.205882</td>\n",
       "      <td>-0.264706</td>\n",
       "      <td>-0.558824</td>\n",
       "      <td>-0.470588</td>\n",
       "      <td>-0.500000</td>\n",
       "      <td>0.294118</td>\n",
       "      <td>-0.411765</td>\n",
       "      <td>-0.235294</td>\n",
       "      <td>-0.617647</td>\n",
       "      <td>-0.205882</td>\n",
       "      <td>...</td>\n",
       "      <td>0.676471</td>\n",
       "      <td>0.264706</td>\n",
       "      <td>-0.088235</td>\n",
       "      <td>0.647059</td>\n",
       "      <td>0.294118</td>\n",
       "      <td>0.352941</td>\n",
       "      <td>0.205882</td>\n",
       "      <td>-0.647059</td>\n",
       "      <td>-0.352941</td>\n",
       "      <td>-0.205882</td>\n",
       "    </tr>\n",
       "  </tbody>\n",
       "</table>\n",
       "<p>2 rows × 186 columns</p>\n",
       "</div>"
      ],
      "text/plain": [
       "        0         1         2         3         4         5         6    \\\n",
       "0 -0.041094  0.311114 -0.107564 -0.385560 -0.132587  0.169879 -0.287253   \n",
       "1 -0.205882 -0.264706 -0.558824 -0.470588 -0.500000  0.294118 -0.411765   \n",
       "\n",
       "        7         8         9    ...       176       177       178       179  \\\n",
       "0 -0.368045 -0.486673  0.204376  ...  0.507992  0.178927 -0.377253  0.212966   \n",
       "1 -0.235294 -0.617647 -0.205882  ...  0.676471  0.264706 -0.088235  0.647059   \n",
       "\n",
       "        180       181       182       183       184       185  \n",
       "0  0.342567  0.169717 -0.152999 -0.383854 -0.454043 -0.374128  \n",
       "1  0.294118  0.352941  0.205882 -0.647059 -0.352941 -0.205882  \n",
       "\n",
       "[2 rows x 186 columns]"
      ]
     },
     "metadata": {},
     "output_type": "display_data"
    },
    {
     "name": "stdout",
     "output_type": "stream",
     "text": [
      "R2 Score Arousal:\t0.53\n"
     ]
    }
   ],
   "source": [
    "# df_a = df_a.round(2)\n",
    "\n",
    "display(df_a.head())\n",
    "print(\"R2 Score Arousal:\\t%0.2f\" % r2_a)"
   ]
  },
  {
   "cell_type": "code",
   "execution_count": 60,
   "metadata": {},
   "outputs": [
    {
     "data": {
      "text/html": [
       "<div>\n",
       "<style scoped>\n",
       "    .dataframe tbody tr th:only-of-type {\n",
       "        vertical-align: middle;\n",
       "    }\n",
       "\n",
       "    .dataframe tbody tr th {\n",
       "        vertical-align: top;\n",
       "    }\n",
       "\n",
       "    .dataframe thead th {\n",
       "        text-align: right;\n",
       "    }\n",
       "</style>\n",
       "<table border=\"1\" class=\"dataframe\">\n",
       "  <thead>\n",
       "    <tr style=\"text-align: right;\">\n",
       "      <th></th>\n",
       "      <th>0</th>\n",
       "      <th>1</th>\n",
       "      <th>2</th>\n",
       "      <th>3</th>\n",
       "      <th>4</th>\n",
       "      <th>5</th>\n",
       "      <th>6</th>\n",
       "      <th>7</th>\n",
       "      <th>8</th>\n",
       "      <th>9</th>\n",
       "      <th>...</th>\n",
       "      <th>176</th>\n",
       "      <th>177</th>\n",
       "      <th>178</th>\n",
       "      <th>179</th>\n",
       "      <th>180</th>\n",
       "      <th>181</th>\n",
       "      <th>182</th>\n",
       "      <th>183</th>\n",
       "      <th>184</th>\n",
       "      <th>185</th>\n",
       "    </tr>\n",
       "  </thead>\n",
       "  <tbody>\n",
       "    <tr>\n",
       "      <th>0</th>\n",
       "      <td>-0.158909</td>\n",
       "      <td>0.155287</td>\n",
       "      <td>-0.064628</td>\n",
       "      <td>-0.195087</td>\n",
       "      <td>0.113134</td>\n",
       "      <td>-0.103232</td>\n",
       "      <td>-0.070748</td>\n",
       "      <td>-0.076047</td>\n",
       "      <td>-0.274730</td>\n",
       "      <td>0.274158</td>\n",
       "      <td>...</td>\n",
       "      <td>0.311702</td>\n",
       "      <td>0.250663</td>\n",
       "      <td>-0.151236</td>\n",
       "      <td>0.044411</td>\n",
       "      <td>0.216046</td>\n",
       "      <td>0.330457</td>\n",
       "      <td>0.065228</td>\n",
       "      <td>-0.208555</td>\n",
       "      <td>-0.193520</td>\n",
       "      <td>-0.188528</td>\n",
       "    </tr>\n",
       "    <tr>\n",
       "      <th>1</th>\n",
       "      <td>0.076923</td>\n",
       "      <td>-0.569231</td>\n",
       "      <td>-0.507692</td>\n",
       "      <td>-0.538462</td>\n",
       "      <td>-0.200000</td>\n",
       "      <td>-0.015385</td>\n",
       "      <td>-0.015385</td>\n",
       "      <td>-1.000000</td>\n",
       "      <td>-0.107692</td>\n",
       "      <td>0.107692</td>\n",
       "      <td>...</td>\n",
       "      <td>0.169231</td>\n",
       "      <td>0.630769</td>\n",
       "      <td>0.323077</td>\n",
       "      <td>-0.046154</td>\n",
       "      <td>0.569231</td>\n",
       "      <td>0.076923</td>\n",
       "      <td>0.323077</td>\n",
       "      <td>-0.507692</td>\n",
       "      <td>-0.076923</td>\n",
       "      <td>0.015385</td>\n",
       "    </tr>\n",
       "  </tbody>\n",
       "</table>\n",
       "<p>2 rows × 186 columns</p>\n",
       "</div>"
      ],
      "text/plain": [
       "        0         1         2         3         4         5         6    \\\n",
       "0 -0.158909  0.155287 -0.064628 -0.195087  0.113134 -0.103232 -0.070748   \n",
       "1  0.076923 -0.569231 -0.507692 -0.538462 -0.200000 -0.015385 -0.015385   \n",
       "\n",
       "        7         8         9    ...       176       177       178       179  \\\n",
       "0 -0.076047 -0.274730  0.274158  ...  0.311702  0.250663 -0.151236  0.044411   \n",
       "1 -1.000000 -0.107692  0.107692  ...  0.169231  0.630769  0.323077 -0.046154   \n",
       "\n",
       "        180       181       182       183       184       185  \n",
       "0  0.216046  0.330457  0.065228 -0.208555 -0.193520 -0.188528  \n",
       "1  0.569231  0.076923  0.323077 -0.507692 -0.076923  0.015385  \n",
       "\n",
       "[2 rows x 186 columns]"
      ]
     },
     "metadata": {},
     "output_type": "display_data"
    },
    {
     "name": "stdout",
     "output_type": "stream",
     "text": [
      "R2 Score Valence: 0.23\n"
     ]
    }
   ],
   "source": [
    "# df_v = df_v.round(2)\n",
    "\n",
    "display(df_v.head())\n",
    "print(\"R2 Score Valence: %0.2f\" % r2_v)"
   ]
  },
  {
   "cell_type": "code",
   "execution_count": 61,
   "metadata": {
    "collapsed": true
   },
   "outputs": [],
   "source": [
    "# scores_a = crosval(gpr_a,data,scaled_ar) #Arousal Regression\n",
    "# scores_v = crosval(gpr_v,data,scaled_val) #Arousal Regression"
   ]
  },
  {
   "cell_type": "code",
   "execution_count": 62,
   "metadata": {
    "collapsed": true
   },
   "outputs": [],
   "source": [
    "# print(\"R2 Score Valence:\\t\",scores_a)\n",
    "# print(\"R2 Score Valence:\\t%0.2f (+/- %0.2f)\" % (scores_a.mean(), scores_a.std() ))"
   ]
  },
  {
   "cell_type": "code",
   "execution_count": 63,
   "metadata": {
    "collapsed": true
   },
   "outputs": [],
   "source": [
    "save_predict(df_a.round(2),df_v.round(2),datafitur)\n",
    "# save_model(trained_a,datafitur,'arousal/') #save model Arousal\n",
    "# save_model(trained_v,datafitur,'valence/') #save model Valence"
   ]
  },
  {
   "cell_type": "markdown",
   "metadata": {},
   "source": [
    "# CASE 6"
   ]
  },
  {
   "cell_type": "code",
   "execution_count": 64,
   "metadata": {},
   "outputs": [
    {
     "name": "stdout",
     "output_type": "stream",
     "text": [
      "(744, 29)\n"
     ]
    }
   ],
   "source": [
    "datafitur = \"case6\" #CASE 2\n",
    "\n",
    "data,arousal_mean,valence_mean = load(datafitur) #Load\n",
    "print(data.shape) \n",
    "\n",
    "scaled_ar = minmax_scale(arousal_mean.values,feature_range=(-1, 1))\n",
    "scaled_val = minmax_scale(valence_mean.values,feature_range=(-1, 1))\n",
    "\n",
    "train_data_a, test_data_a, train_values_a, test_values_a = split(data,scaled_ar) #split arousal\n",
    "train_data_v, test_data_v, train_values_v, test_values_v = split(data,scaled_val) #split valence"
   ]
  },
  {
   "cell_type": "code",
   "execution_count": 65,
   "metadata": {
    "collapsed": true
   },
   "outputs": [],
   "source": [
    "gpr_a = GPR(kernel=kernels, alpha=1e-10, \n",
    "                    optimizer='fmin_l_bfgs_b', \n",
    "                    n_restarts_optimizer=10, \n",
    "                    normalize_y=False, copy_X_train=False, \n",
    "                    random_state=1000) #init Valence\n",
    "\n",
    "gpr_v = GPR(kernel=kernels, alpha=1e-10, \n",
    "                    optimizer='fmin_l_bfgs_b', \n",
    "                    n_restarts_optimizer=10, \n",
    "                    normalize_y=False, copy_X_train=False, \n",
    "                    random_state=1000) #init Valence"
   ]
  },
  {
   "cell_type": "code",
   "execution_count": 66,
   "metadata": {},
   "outputs": [
    {
     "name": "stdout",
     "output_type": "stream",
     "text": [
      "arousal:\t RationalQuadratic(alpha=1, length_scale=1)\n",
      "valence:\t RationalQuadratic(alpha=1, length_scale=1)\n"
     ]
    }
   ],
   "source": [
    "print(\"arousal:\\t\",gpr_a.kernel)\n",
    "print(\"valence:\\t\",gpr_v.kernel)"
   ]
  },
  {
   "cell_type": "code",
   "execution_count": 67,
   "metadata": {
    "collapsed": true
   },
   "outputs": [],
   "source": [
    "trained_a = training(train_data_a,train_values_a,gpr_a)\n",
    "trained_v = training(train_data_v,train_values_v,gpr_v)"
   ]
  },
  {
   "cell_type": "code",
   "execution_count": 68,
   "metadata": {
    "collapsed": true
   },
   "outputs": [],
   "source": [
    "# #Predict Arousal\n",
    "pred_a,df_a = predict(test_data_a, test_values_a, trained_a)\n",
    "# #Predict Valence\n",
    "pred_v,df_v = predict(test_data_v, test_values_v, trained_v)\n",
    "\n",
    "r2_a = score(pred_a,test_values_a) #Score Arousal\n",
    "r2_v = score(pred_v,test_values_v) #Score Valence"
   ]
  },
  {
   "cell_type": "code",
   "execution_count": 69,
   "metadata": {},
   "outputs": [
    {
     "name": "stdout",
     "output_type": "stream",
     "text": [
      "arousal:\t RationalQuadratic(alpha=0.0148, length_scale=0.611)\n",
      "valence:\t RationalQuadratic(alpha=0.0185, length_scale=0.225)\n"
     ]
    }
   ],
   "source": [
    "trained_a.set_params(kernel=trained_a.kernel_)\n",
    "trained_v.set_params(kernel=trained_v.kernel_)\n",
    "\n",
    "print(\"arousal:\\t\",trained_a.kernel)\n",
    "print(\"valence:\\t\",trained_v.kernel)"
   ]
  },
  {
   "cell_type": "code",
   "execution_count": 70,
   "metadata": {},
   "outputs": [
    {
     "data": {
      "text/html": [
       "<div>\n",
       "<style scoped>\n",
       "    .dataframe tbody tr th:only-of-type {\n",
       "        vertical-align: middle;\n",
       "    }\n",
       "\n",
       "    .dataframe tbody tr th {\n",
       "        vertical-align: top;\n",
       "    }\n",
       "\n",
       "    .dataframe thead th {\n",
       "        text-align: right;\n",
       "    }\n",
       "</style>\n",
       "<table border=\"1\" class=\"dataframe\">\n",
       "  <thead>\n",
       "    <tr style=\"text-align: right;\">\n",
       "      <th></th>\n",
       "      <th>0</th>\n",
       "      <th>1</th>\n",
       "      <th>2</th>\n",
       "      <th>3</th>\n",
       "      <th>4</th>\n",
       "      <th>5</th>\n",
       "      <th>6</th>\n",
       "      <th>7</th>\n",
       "      <th>8</th>\n",
       "      <th>9</th>\n",
       "      <th>...</th>\n",
       "      <th>176</th>\n",
       "      <th>177</th>\n",
       "      <th>178</th>\n",
       "      <th>179</th>\n",
       "      <th>180</th>\n",
       "      <th>181</th>\n",
       "      <th>182</th>\n",
       "      <th>183</th>\n",
       "      <th>184</th>\n",
       "      <th>185</th>\n",
       "    </tr>\n",
       "  </thead>\n",
       "  <tbody>\n",
       "    <tr>\n",
       "      <th>0</th>\n",
       "      <td>-0.03</td>\n",
       "      <td>0.26</td>\n",
       "      <td>-0.11</td>\n",
       "      <td>-0.42</td>\n",
       "      <td>-0.2</td>\n",
       "      <td>0.17</td>\n",
       "      <td>-0.28</td>\n",
       "      <td>-0.38</td>\n",
       "      <td>-0.51</td>\n",
       "      <td>0.25</td>\n",
       "      <td>...</td>\n",
       "      <td>0.51</td>\n",
       "      <td>0.23</td>\n",
       "      <td>-0.35</td>\n",
       "      <td>0.27</td>\n",
       "      <td>0.36</td>\n",
       "      <td>0.21</td>\n",
       "      <td>-0.13</td>\n",
       "      <td>-0.37</td>\n",
       "      <td>-0.52</td>\n",
       "      <td>-0.36</td>\n",
       "    </tr>\n",
       "    <tr>\n",
       "      <th>1</th>\n",
       "      <td>-0.21</td>\n",
       "      <td>-0.26</td>\n",
       "      <td>-0.56</td>\n",
       "      <td>-0.47</td>\n",
       "      <td>-0.5</td>\n",
       "      <td>0.29</td>\n",
       "      <td>-0.41</td>\n",
       "      <td>-0.24</td>\n",
       "      <td>-0.62</td>\n",
       "      <td>-0.21</td>\n",
       "      <td>...</td>\n",
       "      <td>0.68</td>\n",
       "      <td>0.26</td>\n",
       "      <td>-0.09</td>\n",
       "      <td>0.65</td>\n",
       "      <td>0.29</td>\n",
       "      <td>0.35</td>\n",
       "      <td>0.21</td>\n",
       "      <td>-0.65</td>\n",
       "      <td>-0.35</td>\n",
       "      <td>-0.21</td>\n",
       "    </tr>\n",
       "  </tbody>\n",
       "</table>\n",
       "<p>2 rows × 186 columns</p>\n",
       "</div>"
      ],
      "text/plain": [
       "    0     1     2     3    4     5     6     7     8     9    ...   176   177  \\\n",
       "0 -0.03  0.26 -0.11 -0.42 -0.2  0.17 -0.28 -0.38 -0.51  0.25  ...  0.51  0.23   \n",
       "1 -0.21 -0.26 -0.56 -0.47 -0.5  0.29 -0.41 -0.24 -0.62 -0.21  ...  0.68  0.26   \n",
       "\n",
       "    178   179   180   181   182   183   184   185  \n",
       "0 -0.35  0.27  0.36  0.21 -0.13 -0.37 -0.52 -0.36  \n",
       "1 -0.09  0.65  0.29  0.35  0.21 -0.65 -0.35 -0.21  \n",
       "\n",
       "[2 rows x 186 columns]"
      ]
     },
     "metadata": {},
     "output_type": "display_data"
    },
    {
     "name": "stdout",
     "output_type": "stream",
     "text": [
      "R2 Score Arousal:\t0.55\n"
     ]
    }
   ],
   "source": [
    "df_a = df_a.round(2)\n",
    "\n",
    "display(df_a.head())\n",
    "print(\"R2 Score Arousal:\\t%0.2f\" % r2_a)"
   ]
  },
  {
   "cell_type": "code",
   "execution_count": 71,
   "metadata": {},
   "outputs": [
    {
     "data": {
      "text/html": [
       "<div>\n",
       "<style scoped>\n",
       "    .dataframe tbody tr th:only-of-type {\n",
       "        vertical-align: middle;\n",
       "    }\n",
       "\n",
       "    .dataframe tbody tr th {\n",
       "        vertical-align: top;\n",
       "    }\n",
       "\n",
       "    .dataframe thead th {\n",
       "        text-align: right;\n",
       "    }\n",
       "</style>\n",
       "<table border=\"1\" class=\"dataframe\">\n",
       "  <thead>\n",
       "    <tr style=\"text-align: right;\">\n",
       "      <th></th>\n",
       "      <th>0</th>\n",
       "      <th>1</th>\n",
       "      <th>2</th>\n",
       "      <th>3</th>\n",
       "      <th>4</th>\n",
       "      <th>5</th>\n",
       "      <th>6</th>\n",
       "      <th>7</th>\n",
       "      <th>8</th>\n",
       "      <th>9</th>\n",
       "      <th>...</th>\n",
       "      <th>176</th>\n",
       "      <th>177</th>\n",
       "      <th>178</th>\n",
       "      <th>179</th>\n",
       "      <th>180</th>\n",
       "      <th>181</th>\n",
       "      <th>182</th>\n",
       "      <th>183</th>\n",
       "      <th>184</th>\n",
       "      <th>185</th>\n",
       "    </tr>\n",
       "  </thead>\n",
       "  <tbody>\n",
       "    <tr>\n",
       "      <th>0</th>\n",
       "      <td>-0.11</td>\n",
       "      <td>0.14</td>\n",
       "      <td>-0.03</td>\n",
       "      <td>-0.14</td>\n",
       "      <td>0.12</td>\n",
       "      <td>-0.14</td>\n",
       "      <td>-0.08</td>\n",
       "      <td>-0.17</td>\n",
       "      <td>-0.27</td>\n",
       "      <td>0.32</td>\n",
       "      <td>...</td>\n",
       "      <td>0.35</td>\n",
       "      <td>0.28</td>\n",
       "      <td>-0.11</td>\n",
       "      <td>0.07</td>\n",
       "      <td>0.20</td>\n",
       "      <td>0.33</td>\n",
       "      <td>0.12</td>\n",
       "      <td>-0.19</td>\n",
       "      <td>-0.20</td>\n",
       "      <td>-0.18</td>\n",
       "    </tr>\n",
       "    <tr>\n",
       "      <th>1</th>\n",
       "      <td>0.08</td>\n",
       "      <td>-0.57</td>\n",
       "      <td>-0.51</td>\n",
       "      <td>-0.54</td>\n",
       "      <td>-0.20</td>\n",
       "      <td>-0.02</td>\n",
       "      <td>-0.02</td>\n",
       "      <td>-1.00</td>\n",
       "      <td>-0.11</td>\n",
       "      <td>0.11</td>\n",
       "      <td>...</td>\n",
       "      <td>0.17</td>\n",
       "      <td>0.63</td>\n",
       "      <td>0.32</td>\n",
       "      <td>-0.05</td>\n",
       "      <td>0.57</td>\n",
       "      <td>0.08</td>\n",
       "      <td>0.32</td>\n",
       "      <td>-0.51</td>\n",
       "      <td>-0.08</td>\n",
       "      <td>0.02</td>\n",
       "    </tr>\n",
       "  </tbody>\n",
       "</table>\n",
       "<p>2 rows × 186 columns</p>\n",
       "</div>"
      ],
      "text/plain": [
       "    0     1     2     3     4     5     6     7     8     9    ...   176  \\\n",
       "0 -0.11  0.14 -0.03 -0.14  0.12 -0.14 -0.08 -0.17 -0.27  0.32  ...  0.35   \n",
       "1  0.08 -0.57 -0.51 -0.54 -0.20 -0.02 -0.02 -1.00 -0.11  0.11  ...  0.17   \n",
       "\n",
       "    177   178   179   180   181   182   183   184   185  \n",
       "0  0.28 -0.11  0.07  0.20  0.33  0.12 -0.19 -0.20 -0.18  \n",
       "1  0.63  0.32 -0.05  0.57  0.08  0.32 -0.51 -0.08  0.02  \n",
       "\n",
       "[2 rows x 186 columns]"
      ]
     },
     "metadata": {},
     "output_type": "display_data"
    },
    {
     "name": "stdout",
     "output_type": "stream",
     "text": [
      "R2 Score Valence:\t0.25\n"
     ]
    }
   ],
   "source": [
    "df_v = df_v.round(2)\n",
    "\n",
    "display(df_v.head())\n",
    "print(\"R2 Score Valence:\\t%0.2f\" % r2_v)"
   ]
  },
  {
   "cell_type": "code",
   "execution_count": 72,
   "metadata": {
    "collapsed": true
   },
   "outputs": [],
   "source": [
    "# scores_a = crosval(gpr_a,data,scaled_ar) #Arousal Regression\n",
    "# scores_v = crosval(gpr_v,data,scaled_val) #Arousal Regression"
   ]
  },
  {
   "cell_type": "code",
   "execution_count": 73,
   "metadata": {
    "collapsed": true
   },
   "outputs": [],
   "source": [
    "# print(\"R2 Score Valence:\\t\",scores_a)\n",
    "# print(\"R2 Score Valence:\\t%0.2f (+/- %0.2f)\" % (scores_a.mean(), scores_a.std() ))"
   ]
  },
  {
   "cell_type": "code",
   "execution_count": 74,
   "metadata": {
    "collapsed": true
   },
   "outputs": [],
   "source": [
    "# print(\"R2 Score Valence:\\t\",scores_v)\n",
    "# print(\"R2 Score Valence:\\t%0.2f (+/- %0.2f)\" % (scores_v.mean(), scores_v.std() ))"
   ]
  },
  {
   "cell_type": "code",
   "execution_count": 75,
   "metadata": {
    "collapsed": true
   },
   "outputs": [],
   "source": [
    "save_predict(df_a.round(2),df_v.round(2),datafitur)\n",
    "# save_model(trained_a,datafitur,'arousal/') #save model Arousal\n",
    "# save_model(trained_v,datafitur,'valence/') #save model Valence"
   ]
  },
  {
   "cell_type": "markdown",
   "metadata": {},
   "source": [
    "# CASE 7"
   ]
  },
  {
   "cell_type": "code",
   "execution_count": 76,
   "metadata": {},
   "outputs": [
    {
     "name": "stdout",
     "output_type": "stream",
     "text": [
      "(744, 50)\n"
     ]
    }
   ],
   "source": [
    "datafitur =  \"case7\" #CASE 3\n",
    "data,arousal_mean,valence_mean = load(datafitur) #Load\n",
    "print(data.shape)\n",
    "\n",
    "scaled_ar = minmax_scale(arousal_mean.values,feature_range=(-1, 1))\n",
    "scaled_val = minmax_scale(valence_mean.values,feature_range=(-1, 1))\n",
    "\n",
    "train_data_a, test_data_a, train_values_a, test_values_a = split(data,scaled_ar) #split arousal\n",
    "train_data_v, test_data_v, train_values_v, test_values_v = split(data,scaled_val) #split valence"
   ]
  },
  {
   "cell_type": "code",
   "execution_count": 77,
   "metadata": {
    "collapsed": true
   },
   "outputs": [],
   "source": [
    "gpr_a = GPR(kernel=kernels, alpha=1e-10, \n",
    "                    optimizer='fmin_l_bfgs_b', \n",
    "                    n_restarts_optimizer=10, \n",
    "                    normalize_y=False, copy_X_train=False, \n",
    "                    random_state=1000) #init Arousal\n",
    "\n",
    "gpr_v = GPR(kernel=kernels, alpha=1e-10, \n",
    "                    optimizer='fmin_l_bfgs_b', \n",
    "                    n_restarts_optimizer=10, \n",
    "                    normalize_y=False, copy_X_train=False, \n",
    "                    random_state=1000) #init Valence"
   ]
  },
  {
   "cell_type": "code",
   "execution_count": 78,
   "metadata": {},
   "outputs": [
    {
     "name": "stdout",
     "output_type": "stream",
     "text": [
      "arousal:\t RationalQuadratic(alpha=1, length_scale=1)\n",
      "valence:\t RationalQuadratic(alpha=1, length_scale=1)\n"
     ]
    }
   ],
   "source": [
    "print(\"arousal:\\t\",gpr_a.kernel)\n",
    "print(\"valence:\\t\",gpr_v.kernel)"
   ]
  },
  {
   "cell_type": "code",
   "execution_count": 79,
   "metadata": {
    "collapsed": true
   },
   "outputs": [],
   "source": [
    "trained_a = training(train_data_a,train_values_a,gpr_a)\n",
    "trained_v = training(train_data_v,train_values_v,gpr_v)"
   ]
  },
  {
   "cell_type": "code",
   "execution_count": 80,
   "metadata": {
    "collapsed": true
   },
   "outputs": [],
   "source": [
    "# #Predict Arousal\n",
    "pred_a,df_a = predict(test_data_a, test_values_a, trained_a)\n",
    "# #Predict Valence\n",
    "pred_v,df_v = predict(test_data_v, test_values_v, trained_v)\n",
    "\n",
    "r2_a = score(pred_a,test_values_a) #Score Arousal\n",
    "r2_v = score(pred_v,test_values_v) #Score Valence"
   ]
  },
  {
   "cell_type": "code",
   "execution_count": 81,
   "metadata": {},
   "outputs": [
    {
     "name": "stdout",
     "output_type": "stream",
     "text": [
      "arousal:\t RationalQuadratic(alpha=0.0187, length_scale=2.46)\n",
      "valence:\t RationalQuadratic(alpha=0.0238, length_scale=1.27)\n"
     ]
    }
   ],
   "source": [
    "trained_a.set_params(kernel=trained_a.kernel_)\n",
    "trained_v.set_params(kernel=trained_v.kernel_)\n",
    "\n",
    "print(\"arousal:\\t\",trained_a.kernel)\n",
    "print(\"valence:\\t\",trained_v.kernel)"
   ]
  },
  {
   "cell_type": "code",
   "execution_count": 82,
   "metadata": {},
   "outputs": [
    {
     "data": {
      "text/html": [
       "<div>\n",
       "<style scoped>\n",
       "    .dataframe tbody tr th:only-of-type {\n",
       "        vertical-align: middle;\n",
       "    }\n",
       "\n",
       "    .dataframe tbody tr th {\n",
       "        vertical-align: top;\n",
       "    }\n",
       "\n",
       "    .dataframe thead th {\n",
       "        text-align: right;\n",
       "    }\n",
       "</style>\n",
       "<table border=\"1\" class=\"dataframe\">\n",
       "  <thead>\n",
       "    <tr style=\"text-align: right;\">\n",
       "      <th></th>\n",
       "      <th>0</th>\n",
       "      <th>1</th>\n",
       "      <th>2</th>\n",
       "      <th>3</th>\n",
       "      <th>4</th>\n",
       "      <th>5</th>\n",
       "      <th>6</th>\n",
       "      <th>7</th>\n",
       "      <th>8</th>\n",
       "      <th>9</th>\n",
       "      <th>...</th>\n",
       "      <th>176</th>\n",
       "      <th>177</th>\n",
       "      <th>178</th>\n",
       "      <th>179</th>\n",
       "      <th>180</th>\n",
       "      <th>181</th>\n",
       "      <th>182</th>\n",
       "      <th>183</th>\n",
       "      <th>184</th>\n",
       "      <th>185</th>\n",
       "    </tr>\n",
       "  </thead>\n",
       "  <tbody>\n",
       "    <tr>\n",
       "      <th>0</th>\n",
       "      <td>0.16</td>\n",
       "      <td>-0.20</td>\n",
       "      <td>-0.26</td>\n",
       "      <td>-0.37</td>\n",
       "      <td>-0.25</td>\n",
       "      <td>0.22</td>\n",
       "      <td>-0.38</td>\n",
       "      <td>-0.31</td>\n",
       "      <td>-0.58</td>\n",
       "      <td>0.32</td>\n",
       "      <td>...</td>\n",
       "      <td>0.39</td>\n",
       "      <td>0.14</td>\n",
       "      <td>-0.25</td>\n",
       "      <td>0.54</td>\n",
       "      <td>0.33</td>\n",
       "      <td>0.34</td>\n",
       "      <td>0.02</td>\n",
       "      <td>-0.37</td>\n",
       "      <td>-0.40</td>\n",
       "      <td>-0.25</td>\n",
       "    </tr>\n",
       "    <tr>\n",
       "      <th>1</th>\n",
       "      <td>-0.21</td>\n",
       "      <td>-0.26</td>\n",
       "      <td>-0.56</td>\n",
       "      <td>-0.47</td>\n",
       "      <td>-0.50</td>\n",
       "      <td>0.29</td>\n",
       "      <td>-0.41</td>\n",
       "      <td>-0.24</td>\n",
       "      <td>-0.62</td>\n",
       "      <td>-0.21</td>\n",
       "      <td>...</td>\n",
       "      <td>0.68</td>\n",
       "      <td>0.26</td>\n",
       "      <td>-0.09</td>\n",
       "      <td>0.65</td>\n",
       "      <td>0.29</td>\n",
       "      <td>0.35</td>\n",
       "      <td>0.21</td>\n",
       "      <td>-0.65</td>\n",
       "      <td>-0.35</td>\n",
       "      <td>-0.21</td>\n",
       "    </tr>\n",
       "  </tbody>\n",
       "</table>\n",
       "<p>2 rows × 186 columns</p>\n",
       "</div>"
      ],
      "text/plain": [
       "    0     1     2     3     4     5     6     7     8     9    ...   176  \\\n",
       "0  0.16 -0.20 -0.26 -0.37 -0.25  0.22 -0.38 -0.31 -0.58  0.32  ...  0.39   \n",
       "1 -0.21 -0.26 -0.56 -0.47 -0.50  0.29 -0.41 -0.24 -0.62 -0.21  ...  0.68   \n",
       "\n",
       "    177   178   179   180   181   182   183   184   185  \n",
       "0  0.14 -0.25  0.54  0.33  0.34  0.02 -0.37 -0.40 -0.25  \n",
       "1  0.26 -0.09  0.65  0.29  0.35  0.21 -0.65 -0.35 -0.21  \n",
       "\n",
       "[2 rows x 186 columns]"
      ]
     },
     "metadata": {},
     "output_type": "display_data"
    },
    {
     "name": "stdout",
     "output_type": "stream",
     "text": [
      "R2 Score Arousal:\t0.61\n"
     ]
    }
   ],
   "source": [
    "df_a = df_a.round(2)\n",
    "\n",
    "display(df_a.head())\n",
    "print(\"R2 Score Arousal:\\t%0.2f\" % r2_a)"
   ]
  },
  {
   "cell_type": "code",
   "execution_count": 83,
   "metadata": {},
   "outputs": [
    {
     "data": {
      "text/html": [
       "<div>\n",
       "<style scoped>\n",
       "    .dataframe tbody tr th:only-of-type {\n",
       "        vertical-align: middle;\n",
       "    }\n",
       "\n",
       "    .dataframe tbody tr th {\n",
       "        vertical-align: top;\n",
       "    }\n",
       "\n",
       "    .dataframe thead th {\n",
       "        text-align: right;\n",
       "    }\n",
       "</style>\n",
       "<table border=\"1\" class=\"dataframe\">\n",
       "  <thead>\n",
       "    <tr style=\"text-align: right;\">\n",
       "      <th></th>\n",
       "      <th>0</th>\n",
       "      <th>1</th>\n",
       "      <th>2</th>\n",
       "      <th>3</th>\n",
       "      <th>4</th>\n",
       "      <th>5</th>\n",
       "      <th>6</th>\n",
       "      <th>7</th>\n",
       "      <th>8</th>\n",
       "      <th>9</th>\n",
       "      <th>...</th>\n",
       "      <th>176</th>\n",
       "      <th>177</th>\n",
       "      <th>178</th>\n",
       "      <th>179</th>\n",
       "      <th>180</th>\n",
       "      <th>181</th>\n",
       "      <th>182</th>\n",
       "      <th>183</th>\n",
       "      <th>184</th>\n",
       "      <th>185</th>\n",
       "    </tr>\n",
       "  </thead>\n",
       "  <tbody>\n",
       "    <tr>\n",
       "      <th>0</th>\n",
       "      <td>0.07</td>\n",
       "      <td>-0.06</td>\n",
       "      <td>-0.24</td>\n",
       "      <td>-0.19</td>\n",
       "      <td>-0.04</td>\n",
       "      <td>0.07</td>\n",
       "      <td>-0.15</td>\n",
       "      <td>-0.04</td>\n",
       "      <td>-0.31</td>\n",
       "      <td>0.47</td>\n",
       "      <td>...</td>\n",
       "      <td>0.26</td>\n",
       "      <td>0.19</td>\n",
       "      <td>-0.01</td>\n",
       "      <td>0.33</td>\n",
       "      <td>0.36</td>\n",
       "      <td>0.39</td>\n",
       "      <td>0.16</td>\n",
       "      <td>-0.16</td>\n",
       "      <td>-0.17</td>\n",
       "      <td>-0.04</td>\n",
       "    </tr>\n",
       "    <tr>\n",
       "      <th>1</th>\n",
       "      <td>0.08</td>\n",
       "      <td>-0.57</td>\n",
       "      <td>-0.51</td>\n",
       "      <td>-0.54</td>\n",
       "      <td>-0.20</td>\n",
       "      <td>-0.02</td>\n",
       "      <td>-0.02</td>\n",
       "      <td>-1.00</td>\n",
       "      <td>-0.11</td>\n",
       "      <td>0.11</td>\n",
       "      <td>...</td>\n",
       "      <td>0.17</td>\n",
       "      <td>0.63</td>\n",
       "      <td>0.32</td>\n",
       "      <td>-0.05</td>\n",
       "      <td>0.57</td>\n",
       "      <td>0.08</td>\n",
       "      <td>0.32</td>\n",
       "      <td>-0.51</td>\n",
       "      <td>-0.08</td>\n",
       "      <td>0.02</td>\n",
       "    </tr>\n",
       "  </tbody>\n",
       "</table>\n",
       "<p>2 rows × 186 columns</p>\n",
       "</div>"
      ],
      "text/plain": [
       "    0     1     2     3     4     5     6     7     8     9    ...   176  \\\n",
       "0  0.07 -0.06 -0.24 -0.19 -0.04  0.07 -0.15 -0.04 -0.31  0.47  ...  0.26   \n",
       "1  0.08 -0.57 -0.51 -0.54 -0.20 -0.02 -0.02 -1.00 -0.11  0.11  ...  0.17   \n",
       "\n",
       "    177   178   179   180   181   182   183   184   185  \n",
       "0  0.19 -0.01  0.33  0.36  0.39  0.16 -0.16 -0.17 -0.04  \n",
       "1  0.63  0.32 -0.05  0.57  0.08  0.32 -0.51 -0.08  0.02  \n",
       "\n",
       "[2 rows x 186 columns]"
      ]
     },
     "metadata": {},
     "output_type": "display_data"
    },
    {
     "name": "stdout",
     "output_type": "stream",
     "text": [
      "R2 Score Valence:\t0.26\n"
     ]
    }
   ],
   "source": [
    "df_v = df_v.round(2)\n",
    "\n",
    "display(df_v.head())\n",
    "print(\"R2 Score Valence:\\t%0.2f\" % r2_v)"
   ]
  },
  {
   "cell_type": "code",
   "execution_count": 84,
   "metadata": {
    "collapsed": true
   },
   "outputs": [],
   "source": [
    "# scores_a = crosval(gpr_a,data,scaled_ar) #Arousal Regression\n",
    "# scores_v = crosval(gpr_v,data,scaled_val) #Arousal Regression"
   ]
  },
  {
   "cell_type": "code",
   "execution_count": 85,
   "metadata": {
    "collapsed": true
   },
   "outputs": [],
   "source": [
    "# print(\"R2 Score Valence:\\t\",scores_a)\n",
    "# print(\"R2 Score Valence:\\t%0.2f (+/- %0.2f)\" % (scores_a.mean(), scores_a.std() ))"
   ]
  },
  {
   "cell_type": "code",
   "execution_count": 86,
   "metadata": {
    "collapsed": true
   },
   "outputs": [],
   "source": [
    "# print(\"R2 Score Valence:\\t\",scores_v)\n",
    "# print(\"R2 Score Valence:\\t%0.2f (+/- %0.2f)\" % (scores_v.mean(), scores_v.std() ))"
   ]
  },
  {
   "cell_type": "code",
   "execution_count": 87,
   "metadata": {
    "collapsed": true
   },
   "outputs": [],
   "source": [
    "save_predict(df_a.round(2),df_v.round(2),datafitur)\n",
    "# save_model(trained_a,datafitur,'arousal/') #save model Arousal\n",
    "# save_model(trained_v,datafitur,'valence/') #save model Valence"
   ]
  },
  {
   "cell_type": "markdown",
   "metadata": {},
   "source": [
    "# CASE 8"
   ]
  },
  {
   "cell_type": "code",
   "execution_count": 88,
   "metadata": {},
   "outputs": [
    {
     "name": "stdout",
     "output_type": "stream",
     "text": [
      "(744, 37)\n"
     ]
    }
   ],
   "source": [
    "datafitur =  \"case8\" #CASE 3\n",
    "data,arousal_mean,valence_mean = load(datafitur) #Load\n",
    "print(data.shape)\n",
    "\n",
    "scaled_ar = minmax_scale(arousal_mean.values,feature_range=(-1, 1))\n",
    "scaled_val = minmax_scale(valence_mean.values,feature_range=(-1, 1))\n",
    "\n",
    "train_data_a, test_data_a, train_values_a, test_values_a = split(data,scaled_ar) #split arousal\n",
    "train_data_v, test_data_v, train_values_v, test_values_v = split(data,scaled_val) #split valence"
   ]
  },
  {
   "cell_type": "code",
   "execution_count": 89,
   "metadata": {
    "collapsed": true
   },
   "outputs": [],
   "source": [
    "gpr_a = GPR(kernel=kernels, alpha=1e-10, \n",
    "                    optimizer='fmin_l_bfgs_b', \n",
    "                    n_restarts_optimizer=10, \n",
    "                    normalize_y=False, copy_X_train=False, \n",
    "                    random_state=1000) #init Arousal\n",
    "\n",
    "gpr_v = GPR(kernel=kernels, alpha=1e-10, \n",
    "                    optimizer='fmin_l_bfgs_b', \n",
    "                    n_restarts_optimizer=10, \n",
    "                    normalize_y=False, copy_X_train=False, \n",
    "                    random_state=1000) #init Valence"
   ]
  },
  {
   "cell_type": "code",
   "execution_count": 90,
   "metadata": {},
   "outputs": [
    {
     "name": "stdout",
     "output_type": "stream",
     "text": [
      "arousal:\t RationalQuadratic(alpha=1, length_scale=1)\n",
      "valence:\t RationalQuadratic(alpha=1, length_scale=1)\n"
     ]
    }
   ],
   "source": [
    "print(\"arousal:\\t\",gpr_a.kernel)\n",
    "print(\"valence:\\t\",gpr_v.kernel)"
   ]
  },
  {
   "cell_type": "code",
   "execution_count": 91,
   "metadata": {
    "collapsed": true
   },
   "outputs": [],
   "source": [
    "trained_a = training(train_data_a,train_values_a,gpr_a)\n",
    "trained_v = training(train_data_v,train_values_v,gpr_v)"
   ]
  },
  {
   "cell_type": "code",
   "execution_count": 92,
   "metadata": {
    "collapsed": true
   },
   "outputs": [],
   "source": [
    "# #Predict Arousal\n",
    "pred_a,df_a = predict(test_data_a, test_values_a, trained_a)\n",
    "# #Predict Valence\n",
    "pred_v,df_v = predict(test_data_v, test_values_v, trained_v)\n",
    "\n",
    "r2_a = score(pred_a,test_values_a) #Score Arousal\n",
    "r2_v = score(pred_v,test_values_v) #Score Valence"
   ]
  },
  {
   "cell_type": "code",
   "execution_count": 93,
   "metadata": {},
   "outputs": [
    {
     "name": "stdout",
     "output_type": "stream",
     "text": [
      "arousal:\t RationalQuadratic(alpha=0.0138, length_scale=0.617)\n",
      "valence:\t RationalQuadratic(alpha=0.0193, length_scale=0.292)\n"
     ]
    }
   ],
   "source": [
    "trained_a.set_params(kernel=trained_a.kernel_)\n",
    "trained_v.set_params(kernel=trained_v.kernel_)\n",
    "\n",
    "print(\"arousal:\\t\",trained_a.kernel)\n",
    "print(\"valence:\\t\",trained_v.kernel)"
   ]
  },
  {
   "cell_type": "code",
   "execution_count": 94,
   "metadata": {},
   "outputs": [
    {
     "data": {
      "text/html": [
       "<div>\n",
       "<style scoped>\n",
       "    .dataframe tbody tr th:only-of-type {\n",
       "        vertical-align: middle;\n",
       "    }\n",
       "\n",
       "    .dataframe tbody tr th {\n",
       "        vertical-align: top;\n",
       "    }\n",
       "\n",
       "    .dataframe thead th {\n",
       "        text-align: right;\n",
       "    }\n",
       "</style>\n",
       "<table border=\"1\" class=\"dataframe\">\n",
       "  <thead>\n",
       "    <tr style=\"text-align: right;\">\n",
       "      <th></th>\n",
       "      <th>0</th>\n",
       "      <th>1</th>\n",
       "      <th>2</th>\n",
       "      <th>3</th>\n",
       "      <th>4</th>\n",
       "      <th>5</th>\n",
       "      <th>6</th>\n",
       "      <th>7</th>\n",
       "      <th>8</th>\n",
       "      <th>9</th>\n",
       "      <th>...</th>\n",
       "      <th>176</th>\n",
       "      <th>177</th>\n",
       "      <th>178</th>\n",
       "      <th>179</th>\n",
       "      <th>180</th>\n",
       "      <th>181</th>\n",
       "      <th>182</th>\n",
       "      <th>183</th>\n",
       "      <th>184</th>\n",
       "      <th>185</th>\n",
       "    </tr>\n",
       "  </thead>\n",
       "  <tbody>\n",
       "    <tr>\n",
       "      <th>0</th>\n",
       "      <td>-0.05</td>\n",
       "      <td>0.32</td>\n",
       "      <td>-0.11</td>\n",
       "      <td>-0.43</td>\n",
       "      <td>-0.16</td>\n",
       "      <td>0.18</td>\n",
       "      <td>-0.27</td>\n",
       "      <td>-0.38</td>\n",
       "      <td>-0.51</td>\n",
       "      <td>0.21</td>\n",
       "      <td>...</td>\n",
       "      <td>0.51</td>\n",
       "      <td>0.19</td>\n",
       "      <td>-0.40</td>\n",
       "      <td>0.22</td>\n",
       "      <td>0.35</td>\n",
       "      <td>0.17</td>\n",
       "      <td>-0.12</td>\n",
       "      <td>-0.38</td>\n",
       "      <td>-0.48</td>\n",
       "      <td>-0.39</td>\n",
       "    </tr>\n",
       "    <tr>\n",
       "      <th>1</th>\n",
       "      <td>-0.21</td>\n",
       "      <td>-0.26</td>\n",
       "      <td>-0.56</td>\n",
       "      <td>-0.47</td>\n",
       "      <td>-0.50</td>\n",
       "      <td>0.29</td>\n",
       "      <td>-0.41</td>\n",
       "      <td>-0.24</td>\n",
       "      <td>-0.62</td>\n",
       "      <td>-0.21</td>\n",
       "      <td>...</td>\n",
       "      <td>0.68</td>\n",
       "      <td>0.26</td>\n",
       "      <td>-0.09</td>\n",
       "      <td>0.65</td>\n",
       "      <td>0.29</td>\n",
       "      <td>0.35</td>\n",
       "      <td>0.21</td>\n",
       "      <td>-0.65</td>\n",
       "      <td>-0.35</td>\n",
       "      <td>-0.21</td>\n",
       "    </tr>\n",
       "  </tbody>\n",
       "</table>\n",
       "<p>2 rows × 186 columns</p>\n",
       "</div>"
      ],
      "text/plain": [
       "    0     1     2     3     4     5     6     7     8     9    ...   176  \\\n",
       "0 -0.05  0.32 -0.11 -0.43 -0.16  0.18 -0.27 -0.38 -0.51  0.21  ...  0.51   \n",
       "1 -0.21 -0.26 -0.56 -0.47 -0.50  0.29 -0.41 -0.24 -0.62 -0.21  ...  0.68   \n",
       "\n",
       "    177   178   179   180   181   182   183   184   185  \n",
       "0  0.19 -0.40  0.22  0.35  0.17 -0.12 -0.38 -0.48 -0.39  \n",
       "1  0.26 -0.09  0.65  0.29  0.35  0.21 -0.65 -0.35 -0.21  \n",
       "\n",
       "[2 rows x 186 columns]"
      ]
     },
     "metadata": {},
     "output_type": "display_data"
    },
    {
     "name": "stdout",
     "output_type": "stream",
     "text": [
      "R2 Score Arousal:\t0.54\n"
     ]
    }
   ],
   "source": [
    "df_a = df_a.round(2)\n",
    "\n",
    "display(df_a.head())\n",
    "print(\"R2 Score Arousal:\\t%0.2f\" % r2_a)"
   ]
  },
  {
   "cell_type": "code",
   "execution_count": 95,
   "metadata": {},
   "outputs": [
    {
     "data": {
      "text/html": [
       "<div>\n",
       "<style scoped>\n",
       "    .dataframe tbody tr th:only-of-type {\n",
       "        vertical-align: middle;\n",
       "    }\n",
       "\n",
       "    .dataframe tbody tr th {\n",
       "        vertical-align: top;\n",
       "    }\n",
       "\n",
       "    .dataframe thead th {\n",
       "        text-align: right;\n",
       "    }\n",
       "</style>\n",
       "<table border=\"1\" class=\"dataframe\">\n",
       "  <thead>\n",
       "    <tr style=\"text-align: right;\">\n",
       "      <th></th>\n",
       "      <th>0</th>\n",
       "      <th>1</th>\n",
       "      <th>2</th>\n",
       "      <th>3</th>\n",
       "      <th>4</th>\n",
       "      <th>5</th>\n",
       "      <th>6</th>\n",
       "      <th>7</th>\n",
       "      <th>8</th>\n",
       "      <th>9</th>\n",
       "      <th>...</th>\n",
       "      <th>176</th>\n",
       "      <th>177</th>\n",
       "      <th>178</th>\n",
       "      <th>179</th>\n",
       "      <th>180</th>\n",
       "      <th>181</th>\n",
       "      <th>182</th>\n",
       "      <th>183</th>\n",
       "      <th>184</th>\n",
       "      <th>185</th>\n",
       "    </tr>\n",
       "  </thead>\n",
       "  <tbody>\n",
       "    <tr>\n",
       "      <th>0</th>\n",
       "      <td>-0.14</td>\n",
       "      <td>0.17</td>\n",
       "      <td>-0.07</td>\n",
       "      <td>-0.15</td>\n",
       "      <td>0.12</td>\n",
       "      <td>-0.10</td>\n",
       "      <td>-0.08</td>\n",
       "      <td>-0.09</td>\n",
       "      <td>-0.28</td>\n",
       "      <td>0.28</td>\n",
       "      <td>...</td>\n",
       "      <td>0.33</td>\n",
       "      <td>0.26</td>\n",
       "      <td>-0.16</td>\n",
       "      <td>0.03</td>\n",
       "      <td>0.23</td>\n",
       "      <td>0.31</td>\n",
       "      <td>0.11</td>\n",
       "      <td>-0.21</td>\n",
       "      <td>-0.19</td>\n",
       "      <td>-0.20</td>\n",
       "    </tr>\n",
       "    <tr>\n",
       "      <th>1</th>\n",
       "      <td>0.08</td>\n",
       "      <td>-0.57</td>\n",
       "      <td>-0.51</td>\n",
       "      <td>-0.54</td>\n",
       "      <td>-0.20</td>\n",
       "      <td>-0.02</td>\n",
       "      <td>-0.02</td>\n",
       "      <td>-1.00</td>\n",
       "      <td>-0.11</td>\n",
       "      <td>0.11</td>\n",
       "      <td>...</td>\n",
       "      <td>0.17</td>\n",
       "      <td>0.63</td>\n",
       "      <td>0.32</td>\n",
       "      <td>-0.05</td>\n",
       "      <td>0.57</td>\n",
       "      <td>0.08</td>\n",
       "      <td>0.32</td>\n",
       "      <td>-0.51</td>\n",
       "      <td>-0.08</td>\n",
       "      <td>0.02</td>\n",
       "    </tr>\n",
       "  </tbody>\n",
       "</table>\n",
       "<p>2 rows × 186 columns</p>\n",
       "</div>"
      ],
      "text/plain": [
       "    0     1     2     3     4     5     6     7     8     9    ...   176  \\\n",
       "0 -0.14  0.17 -0.07 -0.15  0.12 -0.10 -0.08 -0.09 -0.28  0.28  ...  0.33   \n",
       "1  0.08 -0.57 -0.51 -0.54 -0.20 -0.02 -0.02 -1.00 -0.11  0.11  ...  0.17   \n",
       "\n",
       "    177   178   179   180   181   182   183   184   185  \n",
       "0  0.26 -0.16  0.03  0.23  0.31  0.11 -0.21 -0.19 -0.20  \n",
       "1  0.63  0.32 -0.05  0.57  0.08  0.32 -0.51 -0.08  0.02  \n",
       "\n",
       "[2 rows x 186 columns]"
      ]
     },
     "metadata": {},
     "output_type": "display_data"
    },
    {
     "name": "stdout",
     "output_type": "stream",
     "text": [
      "R2 Score Valence:\t0.23\n"
     ]
    }
   ],
   "source": [
    "df_v = df_v.round(2)\n",
    "\n",
    "display(df_v.head())\n",
    "print(\"R2 Score Valence:\\t%0.2f\" % r2_v)"
   ]
  },
  {
   "cell_type": "code",
   "execution_count": 96,
   "metadata": {
    "collapsed": true
   },
   "outputs": [],
   "source": [
    "# scores_a = crosval(gpr_a,data,scaled_ar) #Arousal Regression\n",
    "# scores_v = crosval(gpr_v,data,scaled_val) #Arousal Regression"
   ]
  },
  {
   "cell_type": "code",
   "execution_count": 97,
   "metadata": {
    "collapsed": true
   },
   "outputs": [],
   "source": [
    "# print(\"R2 Score Valence:\\t\",scores_a)\n",
    "# print(\"R2 Score Valence:\\t%0.2f (+/- %0.2f)\" % (scores_a.mean(), scores_a.std() ))"
   ]
  },
  {
   "cell_type": "code",
   "execution_count": 98,
   "metadata": {
    "collapsed": true
   },
   "outputs": [],
   "source": [
    "# print(\"R2 Score Valence:\\t\",scores_v)\n",
    "# print(\"R2 Score Valence:\\t%0.2f (+/- %0.2f)\" % (scores_v.mean(), scores_v.std() ))"
   ]
  },
  {
   "cell_type": "code",
   "execution_count": 99,
   "metadata": {
    "collapsed": true
   },
   "outputs": [],
   "source": [
    "save_predict(df_a.round(2),df_v.round(2),datafitur)\n",
    "# save_model(trained_a,datafitur,'arousal/') #save model Arousal\n",
    "# save_model(trained_v,datafitur,'valence/') #save model Valence"
   ]
  },
  {
   "cell_type": "markdown",
   "metadata": {},
   "source": [
    "# CASE 9"
   ]
  },
  {
   "cell_type": "code",
   "execution_count": 100,
   "metadata": {},
   "outputs": [
    {
     "name": "stdout",
     "output_type": "stream",
     "text": [
      "(744, 58)\n"
     ]
    }
   ],
   "source": [
    "datafitur =  \"case9\" #CASE 3\n",
    "data,arousal_mean,valence_mean = load(datafitur) #Load\n",
    "print(data.shape)\n",
    "\n",
    "scaled_ar = minmax_scale(arousal_mean.values,feature_range=(-1, 1))\n",
    "scaled_val = minmax_scale(valence_mean.values,feature_range=(-1, 1))\n",
    "\n",
    "train_data_a, test_data_a, train_values_a, test_values_a = split(data,scaled_ar) #split arousal\n",
    "train_data_v, test_data_v, train_values_v, test_values_v = split(data,scaled_val) #split valence"
   ]
  },
  {
   "cell_type": "code",
   "execution_count": 101,
   "metadata": {
    "collapsed": true
   },
   "outputs": [],
   "source": [
    "gpr_a = GPR(kernel=kernels, alpha=1e-10, \n",
    "                    optimizer='fmin_l_bfgs_b', \n",
    "                    n_restarts_optimizer=10, \n",
    "                    normalize_y=False, copy_X_train=False, \n",
    "                    random_state=1000) #init Arousal\n",
    "\n",
    "gpr_v = GPR(kernel=kernels, alpha=1e-10, \n",
    "                    optimizer='fmin_l_bfgs_b', \n",
    "                    n_restarts_optimizer=10, \n",
    "                    normalize_y=False, copy_X_train=False, \n",
    "                    random_state=1000) #init Valence"
   ]
  },
  {
   "cell_type": "code",
   "execution_count": 102,
   "metadata": {},
   "outputs": [
    {
     "name": "stdout",
     "output_type": "stream",
     "text": [
      "arousal:\t RationalQuadratic(alpha=1, length_scale=1)\n",
      "valence:\t RationalQuadratic(alpha=1, length_scale=1)\n"
     ]
    }
   ],
   "source": [
    "print(\"arousal:\\t\",gpr_a.kernel)\n",
    "print(\"valence:\\t\",gpr_v.kernel)"
   ]
  },
  {
   "cell_type": "code",
   "execution_count": 103,
   "metadata": {
    "collapsed": true
   },
   "outputs": [],
   "source": [
    "trained_a = training(train_data_a,train_values_a,gpr_a)\n",
    "trained_v = training(train_data_v,train_values_v,gpr_v)"
   ]
  },
  {
   "cell_type": "code",
   "execution_count": 104,
   "metadata": {
    "collapsed": true
   },
   "outputs": [],
   "source": [
    "# #Predict Arousal\n",
    "pred_a,df_a = predict(test_data_a, test_values_a, trained_a)\n",
    "# #Predict Valence\n",
    "pred_v,df_v = predict(test_data_v, test_values_v, trained_v)\n",
    "\n",
    "r2_a = score(pred_a,test_values_a) #Score Arousal\n",
    "r2_v = score(pred_v,test_values_v) #Score Valence"
   ]
  },
  {
   "cell_type": "code",
   "execution_count": 105,
   "metadata": {},
   "outputs": [
    {
     "name": "stdout",
     "output_type": "stream",
     "text": [
      "arousal:\t RationalQuadratic(alpha=0.0196, length_scale=2.9)\n",
      "valence:\t RationalQuadratic(alpha=0.0229, length_scale=1.26)\n"
     ]
    }
   ],
   "source": [
    "trained_a.set_params(kernel=trained_a.kernel_)\n",
    "trained_v.set_params(kernel=trained_v.kernel_)\n",
    "\n",
    "print(\"arousal:\\t\",trained_a.kernel)\n",
    "print(\"valence:\\t\",trained_v.kernel)"
   ]
  },
  {
   "cell_type": "code",
   "execution_count": 106,
   "metadata": {},
   "outputs": [
    {
     "data": {
      "text/html": [
       "<div>\n",
       "<style scoped>\n",
       "    .dataframe tbody tr th:only-of-type {\n",
       "        vertical-align: middle;\n",
       "    }\n",
       "\n",
       "    .dataframe tbody tr th {\n",
       "        vertical-align: top;\n",
       "    }\n",
       "\n",
       "    .dataframe thead th {\n",
       "        text-align: right;\n",
       "    }\n",
       "</style>\n",
       "<table border=\"1\" class=\"dataframe\">\n",
       "  <thead>\n",
       "    <tr style=\"text-align: right;\">\n",
       "      <th></th>\n",
       "      <th>0</th>\n",
       "      <th>1</th>\n",
       "      <th>2</th>\n",
       "      <th>3</th>\n",
       "      <th>4</th>\n",
       "      <th>5</th>\n",
       "      <th>6</th>\n",
       "      <th>7</th>\n",
       "      <th>8</th>\n",
       "      <th>9</th>\n",
       "      <th>...</th>\n",
       "      <th>176</th>\n",
       "      <th>177</th>\n",
       "      <th>178</th>\n",
       "      <th>179</th>\n",
       "      <th>180</th>\n",
       "      <th>181</th>\n",
       "      <th>182</th>\n",
       "      <th>183</th>\n",
       "      <th>184</th>\n",
       "      <th>185</th>\n",
       "    </tr>\n",
       "  </thead>\n",
       "  <tbody>\n",
       "    <tr>\n",
       "      <th>0</th>\n",
       "      <td>0.11</td>\n",
       "      <td>-0.19</td>\n",
       "      <td>-0.28</td>\n",
       "      <td>-0.34</td>\n",
       "      <td>-0.26</td>\n",
       "      <td>0.19</td>\n",
       "      <td>-0.35</td>\n",
       "      <td>-0.30</td>\n",
       "      <td>-0.57</td>\n",
       "      <td>0.39</td>\n",
       "      <td>...</td>\n",
       "      <td>0.42</td>\n",
       "      <td>0.10</td>\n",
       "      <td>-0.26</td>\n",
       "      <td>0.49</td>\n",
       "      <td>0.35</td>\n",
       "      <td>0.32</td>\n",
       "      <td>-0.03</td>\n",
       "      <td>-0.34</td>\n",
       "      <td>-0.38</td>\n",
       "      <td>-0.27</td>\n",
       "    </tr>\n",
       "    <tr>\n",
       "      <th>1</th>\n",
       "      <td>-0.21</td>\n",
       "      <td>-0.26</td>\n",
       "      <td>-0.56</td>\n",
       "      <td>-0.47</td>\n",
       "      <td>-0.50</td>\n",
       "      <td>0.29</td>\n",
       "      <td>-0.41</td>\n",
       "      <td>-0.24</td>\n",
       "      <td>-0.62</td>\n",
       "      <td>-0.21</td>\n",
       "      <td>...</td>\n",
       "      <td>0.68</td>\n",
       "      <td>0.26</td>\n",
       "      <td>-0.09</td>\n",
       "      <td>0.65</td>\n",
       "      <td>0.29</td>\n",
       "      <td>0.35</td>\n",
       "      <td>0.21</td>\n",
       "      <td>-0.65</td>\n",
       "      <td>-0.35</td>\n",
       "      <td>-0.21</td>\n",
       "    </tr>\n",
       "  </tbody>\n",
       "</table>\n",
       "<p>2 rows × 186 columns</p>\n",
       "</div>"
      ],
      "text/plain": [
       "    0     1     2     3     4     5     6     7     8     9    ...   176  \\\n",
       "0  0.11 -0.19 -0.28 -0.34 -0.26  0.19 -0.35 -0.30 -0.57  0.39  ...  0.42   \n",
       "1 -0.21 -0.26 -0.56 -0.47 -0.50  0.29 -0.41 -0.24 -0.62 -0.21  ...  0.68   \n",
       "\n",
       "    177   178   179   180   181   182   183   184   185  \n",
       "0  0.10 -0.26  0.49  0.35  0.32 -0.03 -0.34 -0.38 -0.27  \n",
       "1  0.26 -0.09  0.65  0.29  0.35  0.21 -0.65 -0.35 -0.21  \n",
       "\n",
       "[2 rows x 186 columns]"
      ]
     },
     "metadata": {},
     "output_type": "display_data"
    },
    {
     "name": "stdout",
     "output_type": "stream",
     "text": [
      "R2 Score Arousal:\t0.61\n"
     ]
    }
   ],
   "source": [
    "df_a = df_a.round(2)\n",
    "\n",
    "display(df_a.head())\n",
    "print(\"R2 Score Arousal:\\t%0.2f\" % r2_a)"
   ]
  },
  {
   "cell_type": "code",
   "execution_count": 107,
   "metadata": {},
   "outputs": [
    {
     "data": {
      "text/html": [
       "<div>\n",
       "<style scoped>\n",
       "    .dataframe tbody tr th:only-of-type {\n",
       "        vertical-align: middle;\n",
       "    }\n",
       "\n",
       "    .dataframe tbody tr th {\n",
       "        vertical-align: top;\n",
       "    }\n",
       "\n",
       "    .dataframe thead th {\n",
       "        text-align: right;\n",
       "    }\n",
       "</style>\n",
       "<table border=\"1\" class=\"dataframe\">\n",
       "  <thead>\n",
       "    <tr style=\"text-align: right;\">\n",
       "      <th></th>\n",
       "      <th>0</th>\n",
       "      <th>1</th>\n",
       "      <th>2</th>\n",
       "      <th>3</th>\n",
       "      <th>4</th>\n",
       "      <th>5</th>\n",
       "      <th>6</th>\n",
       "      <th>7</th>\n",
       "      <th>8</th>\n",
       "      <th>9</th>\n",
       "      <th>...</th>\n",
       "      <th>176</th>\n",
       "      <th>177</th>\n",
       "      <th>178</th>\n",
       "      <th>179</th>\n",
       "      <th>180</th>\n",
       "      <th>181</th>\n",
       "      <th>182</th>\n",
       "      <th>183</th>\n",
       "      <th>184</th>\n",
       "      <th>185</th>\n",
       "    </tr>\n",
       "  </thead>\n",
       "  <tbody>\n",
       "    <tr>\n",
       "      <th>0</th>\n",
       "      <td>0.02</td>\n",
       "      <td>-0.05</td>\n",
       "      <td>-0.28</td>\n",
       "      <td>-0.21</td>\n",
       "      <td>-0.05</td>\n",
       "      <td>0.06</td>\n",
       "      <td>-0.12</td>\n",
       "      <td>-0.03</td>\n",
       "      <td>-0.29</td>\n",
       "      <td>0.46</td>\n",
       "      <td>...</td>\n",
       "      <td>0.28</td>\n",
       "      <td>0.16</td>\n",
       "      <td>0.01</td>\n",
       "      <td>0.31</td>\n",
       "      <td>0.38</td>\n",
       "      <td>0.37</td>\n",
       "      <td>0.11</td>\n",
       "      <td>-0.14</td>\n",
       "      <td>-0.16</td>\n",
       "      <td>-0.07</td>\n",
       "    </tr>\n",
       "    <tr>\n",
       "      <th>1</th>\n",
       "      <td>0.08</td>\n",
       "      <td>-0.57</td>\n",
       "      <td>-0.51</td>\n",
       "      <td>-0.54</td>\n",
       "      <td>-0.20</td>\n",
       "      <td>-0.02</td>\n",
       "      <td>-0.02</td>\n",
       "      <td>-1.00</td>\n",
       "      <td>-0.11</td>\n",
       "      <td>0.11</td>\n",
       "      <td>...</td>\n",
       "      <td>0.17</td>\n",
       "      <td>0.63</td>\n",
       "      <td>0.32</td>\n",
       "      <td>-0.05</td>\n",
       "      <td>0.57</td>\n",
       "      <td>0.08</td>\n",
       "      <td>0.32</td>\n",
       "      <td>-0.51</td>\n",
       "      <td>-0.08</td>\n",
       "      <td>0.02</td>\n",
       "    </tr>\n",
       "  </tbody>\n",
       "</table>\n",
       "<p>2 rows × 186 columns</p>\n",
       "</div>"
      ],
      "text/plain": [
       "    0     1     2     3     4     5     6     7     8     9    ...   176  \\\n",
       "0  0.02 -0.05 -0.28 -0.21 -0.05  0.06 -0.12 -0.03 -0.29  0.46  ...  0.28   \n",
       "1  0.08 -0.57 -0.51 -0.54 -0.20 -0.02 -0.02 -1.00 -0.11  0.11  ...  0.17   \n",
       "\n",
       "    177   178   179   180   181   182   183   184   185  \n",
       "0  0.16  0.01  0.31  0.38  0.37  0.11 -0.14 -0.16 -0.07  \n",
       "1  0.63  0.32 -0.05  0.57  0.08  0.32 -0.51 -0.08  0.02  \n",
       "\n",
       "[2 rows x 186 columns]"
      ]
     },
     "metadata": {},
     "output_type": "display_data"
    },
    {
     "name": "stdout",
     "output_type": "stream",
     "text": [
      "R2 Score Valence:\t0.26\n"
     ]
    }
   ],
   "source": [
    "df_v = df_v.round(2)\n",
    "\n",
    "display(df_v.head())\n",
    "print(\"R2 Score Valence:\\t%0.2f\" % r2_v)"
   ]
  },
  {
   "cell_type": "code",
   "execution_count": 108,
   "metadata": {
    "collapsed": true
   },
   "outputs": [],
   "source": [
    "# scores_a = crosval(gpr_a,data,scaled_ar) #Arousal Regression\n",
    "# scores_v = crosval(gpr_v,data,scaled_val) #Arousal Regression"
   ]
  },
  {
   "cell_type": "code",
   "execution_count": 109,
   "metadata": {
    "collapsed": true
   },
   "outputs": [],
   "source": [
    "# print(\"R2 Score Valence:\\t\",scores_a)\n",
    "# print(\"R2 Score Valence:\\t%0.2f (+/- %0.2f)\" % (scores_a.mean(), scores_a.std() ))"
   ]
  },
  {
   "cell_type": "code",
   "execution_count": 110,
   "metadata": {
    "collapsed": true
   },
   "outputs": [],
   "source": [
    "# print(\"R2 Score Valence:\\t\",scores_v)\n",
    "# print(\"R2 Score Valence:\\t%0.2f (+/- %0.2f)\" % (scores_v.mean(), scores_v.std() ))"
   ]
  },
  {
   "cell_type": "code",
   "execution_count": 111,
   "metadata": {
    "collapsed": true
   },
   "outputs": [],
   "source": [
    "save_predict(df_a.round(2),df_v.round(2),datafitur)\n",
    "# save_model(trained_a,datafitur,'arousal/') #save model Arousal\n",
    "# save_model(trained_v,datafitur,'valence/') #save model Valence"
   ]
  },
  {
   "cell_type": "markdown",
   "metadata": {},
   "source": [
    "# CASE 10"
   ]
  },
  {
   "cell_type": "code",
   "execution_count": 112,
   "metadata": {},
   "outputs": [
    {
     "name": "stdout",
     "output_type": "stream",
     "text": [
      "(744, 61)\n"
     ]
    }
   ],
   "source": [
    "datafitur =  \"case10\" #CASE 3\n",
    "data,arousal_mean,valence_mean = load(datafitur) #Load\n",
    "print(data.shape)\n",
    "\n",
    "scaled_ar = minmax_scale(arousal_mean.values,feature_range=(-1, 1))\n",
    "scaled_val = minmax_scale(valence_mean.values,feature_range=(-1, 1))\n",
    "\n",
    "train_data_a, test_data_a, train_values_a, test_values_a = split(data,scaled_ar) #split arousal\n",
    "train_data_v, test_data_v, train_values_v, test_values_v = split(data,scaled_val) #split valence"
   ]
  },
  {
   "cell_type": "code",
   "execution_count": 113,
   "metadata": {
    "collapsed": true
   },
   "outputs": [],
   "source": [
    "gpr_a = GPR(kernel=kernels, alpha=1e-10, \n",
    "                    optimizer='fmin_l_bfgs_b', \n",
    "                    n_restarts_optimizer=10, \n",
    "                    normalize_y=False, copy_X_train=False, \n",
    "                    random_state=1000) #init Arousal\n",
    "\n",
    "gpr_v = GPR(kernel=kernels, alpha=1e-10, \n",
    "                    optimizer='fmin_l_bfgs_b', \n",
    "                    n_restarts_optimizer=10, \n",
    "                    normalize_y=False, copy_X_train=False, \n",
    "                    random_state=1000) #init Valence"
   ]
  },
  {
   "cell_type": "code",
   "execution_count": 114,
   "metadata": {},
   "outputs": [
    {
     "name": "stdout",
     "output_type": "stream",
     "text": [
      "arousal:\t RationalQuadratic(alpha=1, length_scale=1)\n",
      "valence:\t RationalQuadratic(alpha=1, length_scale=1)\n"
     ]
    }
   ],
   "source": [
    "print(\"arousal:\\t\",gpr_a.kernel)\n",
    "print(\"valence:\\t\",gpr_v.kernel)"
   ]
  },
  {
   "cell_type": "code",
   "execution_count": 115,
   "metadata": {
    "collapsed": true
   },
   "outputs": [],
   "source": [
    "trained_a = training(train_data_a,train_values_a,gpr_a)\n",
    "trained_v = training(train_data_v,train_values_v,gpr_v)"
   ]
  },
  {
   "cell_type": "code",
   "execution_count": 116,
   "metadata": {
    "collapsed": true
   },
   "outputs": [],
   "source": [
    "# #Predict Arousal\n",
    "pred_a,df_a = predict(test_data_a, test_values_a, trained_a)\n",
    "# #Predict Valence\n",
    "pred_v,df_v = predict(test_data_v, test_values_v, trained_v)\n",
    "\n",
    "r2_a = score(pred_a,test_values_a) #Score Arousal\n",
    "r2_v = score(pred_v,test_values_v) #Score Valence"
   ]
  },
  {
   "cell_type": "code",
   "execution_count": 117,
   "metadata": {},
   "outputs": [
    {
     "name": "stdout",
     "output_type": "stream",
     "text": [
      "arousal:\t RationalQuadratic(alpha=0.0198, length_scale=2.98)\n",
      "valence:\t RationalQuadratic(alpha=0.0223, length_scale=1.21)\n"
     ]
    }
   ],
   "source": [
    "trained_a.set_params(kernel=trained_a.kernel_)\n",
    "trained_v.set_params(kernel=trained_v.kernel_)\n",
    "\n",
    "print(\"arousal:\\t\",trained_a.kernel)\n",
    "print(\"valence:\\t\",trained_v.kernel)"
   ]
  },
  {
   "cell_type": "code",
   "execution_count": 118,
   "metadata": {},
   "outputs": [
    {
     "data": {
      "text/html": [
       "<div>\n",
       "<style scoped>\n",
       "    .dataframe tbody tr th:only-of-type {\n",
       "        vertical-align: middle;\n",
       "    }\n",
       "\n",
       "    .dataframe tbody tr th {\n",
       "        vertical-align: top;\n",
       "    }\n",
       "\n",
       "    .dataframe thead th {\n",
       "        text-align: right;\n",
       "    }\n",
       "</style>\n",
       "<table border=\"1\" class=\"dataframe\">\n",
       "  <thead>\n",
       "    <tr style=\"text-align: right;\">\n",
       "      <th></th>\n",
       "      <th>0</th>\n",
       "      <th>1</th>\n",
       "      <th>2</th>\n",
       "      <th>3</th>\n",
       "      <th>4</th>\n",
       "      <th>5</th>\n",
       "      <th>6</th>\n",
       "      <th>7</th>\n",
       "      <th>8</th>\n",
       "      <th>9</th>\n",
       "      <th>...</th>\n",
       "      <th>176</th>\n",
       "      <th>177</th>\n",
       "      <th>178</th>\n",
       "      <th>179</th>\n",
       "      <th>180</th>\n",
       "      <th>181</th>\n",
       "      <th>182</th>\n",
       "      <th>183</th>\n",
       "      <th>184</th>\n",
       "      <th>185</th>\n",
       "    </tr>\n",
       "  </thead>\n",
       "  <tbody>\n",
       "    <tr>\n",
       "      <th>0</th>\n",
       "      <td>0.11</td>\n",
       "      <td>-0.20</td>\n",
       "      <td>-0.27</td>\n",
       "      <td>-0.37</td>\n",
       "      <td>-0.26</td>\n",
       "      <td>0.20</td>\n",
       "      <td>-0.31</td>\n",
       "      <td>-0.28</td>\n",
       "      <td>-0.58</td>\n",
       "      <td>0.40</td>\n",
       "      <td>...</td>\n",
       "      <td>0.43</td>\n",
       "      <td>0.10</td>\n",
       "      <td>-0.25</td>\n",
       "      <td>0.48</td>\n",
       "      <td>0.36</td>\n",
       "      <td>0.32</td>\n",
       "      <td>-0.02</td>\n",
       "      <td>-0.34</td>\n",
       "      <td>-0.39</td>\n",
       "      <td>-0.27</td>\n",
       "    </tr>\n",
       "    <tr>\n",
       "      <th>1</th>\n",
       "      <td>-0.21</td>\n",
       "      <td>-0.26</td>\n",
       "      <td>-0.56</td>\n",
       "      <td>-0.47</td>\n",
       "      <td>-0.50</td>\n",
       "      <td>0.29</td>\n",
       "      <td>-0.41</td>\n",
       "      <td>-0.24</td>\n",
       "      <td>-0.62</td>\n",
       "      <td>-0.21</td>\n",
       "      <td>...</td>\n",
       "      <td>0.68</td>\n",
       "      <td>0.26</td>\n",
       "      <td>-0.09</td>\n",
       "      <td>0.65</td>\n",
       "      <td>0.29</td>\n",
       "      <td>0.35</td>\n",
       "      <td>0.21</td>\n",
       "      <td>-0.65</td>\n",
       "      <td>-0.35</td>\n",
       "      <td>-0.21</td>\n",
       "    </tr>\n",
       "  </tbody>\n",
       "</table>\n",
       "<p>2 rows × 186 columns</p>\n",
       "</div>"
      ],
      "text/plain": [
       "    0     1     2     3     4     5     6     7     8     9    ...   176  \\\n",
       "0  0.11 -0.20 -0.27 -0.37 -0.26  0.20 -0.31 -0.28 -0.58  0.40  ...  0.43   \n",
       "1 -0.21 -0.26 -0.56 -0.47 -0.50  0.29 -0.41 -0.24 -0.62 -0.21  ...  0.68   \n",
       "\n",
       "    177   178   179   180   181   182   183   184   185  \n",
       "0  0.10 -0.25  0.48  0.36  0.32 -0.02 -0.34 -0.39 -0.27  \n",
       "1  0.26 -0.09  0.65  0.29  0.35  0.21 -0.65 -0.35 -0.21  \n",
       "\n",
       "[2 rows x 186 columns]"
      ]
     },
     "metadata": {},
     "output_type": "display_data"
    },
    {
     "name": "stdout",
     "output_type": "stream",
     "text": [
      "R2 Score Arousal:\t0.60\n"
     ]
    }
   ],
   "source": [
    "df_a = df_a.round(2)\n",
    "\n",
    "display(df_a.head())\n",
    "print(\"R2 Score Arousal:\\t%0.2f\" % r2_a)"
   ]
  },
  {
   "cell_type": "code",
   "execution_count": 119,
   "metadata": {},
   "outputs": [
    {
     "data": {
      "text/html": [
       "<div>\n",
       "<style scoped>\n",
       "    .dataframe tbody tr th:only-of-type {\n",
       "        vertical-align: middle;\n",
       "    }\n",
       "\n",
       "    .dataframe tbody tr th {\n",
       "        vertical-align: top;\n",
       "    }\n",
       "\n",
       "    .dataframe thead th {\n",
       "        text-align: right;\n",
       "    }\n",
       "</style>\n",
       "<table border=\"1\" class=\"dataframe\">\n",
       "  <thead>\n",
       "    <tr style=\"text-align: right;\">\n",
       "      <th></th>\n",
       "      <th>0</th>\n",
       "      <th>1</th>\n",
       "      <th>2</th>\n",
       "      <th>3</th>\n",
       "      <th>4</th>\n",
       "      <th>5</th>\n",
       "      <th>6</th>\n",
       "      <th>7</th>\n",
       "      <th>8</th>\n",
       "      <th>9</th>\n",
       "      <th>...</th>\n",
       "      <th>176</th>\n",
       "      <th>177</th>\n",
       "      <th>178</th>\n",
       "      <th>179</th>\n",
       "      <th>180</th>\n",
       "      <th>181</th>\n",
       "      <th>182</th>\n",
       "      <th>183</th>\n",
       "      <th>184</th>\n",
       "      <th>185</th>\n",
       "    </tr>\n",
       "  </thead>\n",
       "  <tbody>\n",
       "    <tr>\n",
       "      <th>0</th>\n",
       "      <td>0.02</td>\n",
       "      <td>-0.05</td>\n",
       "      <td>-0.28</td>\n",
       "      <td>-0.21</td>\n",
       "      <td>-0.05</td>\n",
       "      <td>0.06</td>\n",
       "      <td>-0.12</td>\n",
       "      <td>-0.02</td>\n",
       "      <td>-0.30</td>\n",
       "      <td>0.46</td>\n",
       "      <td>...</td>\n",
       "      <td>0.29</td>\n",
       "      <td>0.16</td>\n",
       "      <td>0.01</td>\n",
       "      <td>0.30</td>\n",
       "      <td>0.38</td>\n",
       "      <td>0.37</td>\n",
       "      <td>0.11</td>\n",
       "      <td>-0.14</td>\n",
       "      <td>-0.14</td>\n",
       "      <td>-0.06</td>\n",
       "    </tr>\n",
       "    <tr>\n",
       "      <th>1</th>\n",
       "      <td>0.08</td>\n",
       "      <td>-0.57</td>\n",
       "      <td>-0.51</td>\n",
       "      <td>-0.54</td>\n",
       "      <td>-0.20</td>\n",
       "      <td>-0.02</td>\n",
       "      <td>-0.02</td>\n",
       "      <td>-1.00</td>\n",
       "      <td>-0.11</td>\n",
       "      <td>0.11</td>\n",
       "      <td>...</td>\n",
       "      <td>0.17</td>\n",
       "      <td>0.63</td>\n",
       "      <td>0.32</td>\n",
       "      <td>-0.05</td>\n",
       "      <td>0.57</td>\n",
       "      <td>0.08</td>\n",
       "      <td>0.32</td>\n",
       "      <td>-0.51</td>\n",
       "      <td>-0.08</td>\n",
       "      <td>0.02</td>\n",
       "    </tr>\n",
       "  </tbody>\n",
       "</table>\n",
       "<p>2 rows × 186 columns</p>\n",
       "</div>"
      ],
      "text/plain": [
       "    0     1     2     3     4     5     6     7     8     9    ...   176  \\\n",
       "0  0.02 -0.05 -0.28 -0.21 -0.05  0.06 -0.12 -0.02 -0.30  0.46  ...  0.29   \n",
       "1  0.08 -0.57 -0.51 -0.54 -0.20 -0.02 -0.02 -1.00 -0.11  0.11  ...  0.17   \n",
       "\n",
       "    177   178   179   180   181   182   183   184   185  \n",
       "0  0.16  0.01  0.30  0.38  0.37  0.11 -0.14 -0.14 -0.06  \n",
       "1  0.63  0.32 -0.05  0.57  0.08  0.32 -0.51 -0.08  0.02  \n",
       "\n",
       "[2 rows x 186 columns]"
      ]
     },
     "metadata": {},
     "output_type": "display_data"
    },
    {
     "name": "stdout",
     "output_type": "stream",
     "text": [
      "R2 Score Valence:\t0.26\n"
     ]
    }
   ],
   "source": [
    "df_v = df_v.round(2)\n",
    "\n",
    "display(df_v.head())\n",
    "print(\"R2 Score Valence:\\t%0.2f\" % r2_v)"
   ]
  },
  {
   "cell_type": "code",
   "execution_count": 120,
   "metadata": {
    "collapsed": true
   },
   "outputs": [],
   "source": [
    "# scores_a = crosval(gpr_a,data,scaled_ar) #Arousal Regression\n",
    "# scores_v = crosval(gpr_v,data,scaled_val) #Arousal Regression"
   ]
  },
  {
   "cell_type": "code",
   "execution_count": 121,
   "metadata": {
    "collapsed": true
   },
   "outputs": [],
   "source": [
    "# print(\"R2 Score Valence:\\t\",scores_a)\n",
    "# print(\"R2 Score Valence:\\t%0.2f (+/- %0.2f)\" % (scores_a.mean(), scores_a.std() ))"
   ]
  },
  {
   "cell_type": "code",
   "execution_count": 122,
   "metadata": {
    "collapsed": true
   },
   "outputs": [],
   "source": [
    "# print(\"R2 Score Valence:\\t\",scores_v)\n",
    "# print(\"R2 Score Valence:\\t%0.2f (+/- %0.2f)\" % (scores_v.mean(), scores_v.std() ))"
   ]
  },
  {
   "cell_type": "code",
   "execution_count": 123,
   "metadata": {
    "collapsed": true
   },
   "outputs": [],
   "source": [
    "save_predict(df_a.round(2),df_v.round(2),datafitur)\n",
    "# save_model(trained_a,datafitur,'arousal/') #save model Arousal\n",
    "# save_model(trained_v,datafitur,'valence/') #save model Valence"
   ]
  }
 ],
 "metadata": {
  "kernelspec": {
   "display_name": "Python 3",
   "language": "python",
   "name": "python3"
  },
  "language_info": {
   "codemirror_mode": {
    "name": "ipython",
    "version": 3
   },
   "file_extension": ".py",
   "mimetype": "text/x-python",
   "name": "python",
   "nbconvert_exporter": "python",
   "pygments_lexer": "ipython3",
   "version": "3.6.2"
  }
 },
 "nbformat": 4,
 "nbformat_minor": 2
}
