{
 "cells": [
  {
   "cell_type": "code",
   "execution_count": 1,
   "metadata": {
    "collapsed": true
   },
   "outputs": [],
   "source": [
    "import pandas as pd\n",
    "import numpy as np\n",
    "from sklearn.externals import joblib\n",
    "\n",
    "from sklearn.gaussian_process import GaussianProcessRegressor as GPR\n",
    "from sklearn.gaussian_process.kernels import RationalQuadratic\n",
    "from sklearn.model_selection import cross_val_score\n",
    "from sklearn.model_selection import train_test_split\n",
    "from sklearn.metrics import r2_score\n",
    "from sklearn.preprocessing import minmax_scale"
   ]
  },
  {
   "cell_type": "code",
   "execution_count": 2,
   "metadata": {
    "collapsed": true
   },
   "outputs": [],
   "source": [
    "# #PATH\n",
    "path_info = \"F:/178/Tugas Akhir/dataset/annotations/\"\n",
    "path_to_fitur = \"F:/178/Tugas Akhir/dataset/coba fitur/\"\n",
    "path_to_experiment =\"F:/178/Tugas Akhir/dataset/experiment/\"\n",
    "path_to_model = \"F:/178/Tugas Akhir/dataset/model/\"\n",
    "path_to_predict = \"F:/178/Tugas Akhir/dataset/predict/\"\n",
    "\n",
    "# path_info = \"C:/Users/USER/Downloads/Tugas Akhir/dataset/annotations/\"\n",
    "# path_to_fitur = \"C:/Users/USER/Downloads/Tugas Akhir/dataset/coba fitur/\"\n",
    "# path_to_experiment =\"C:/Users/USER/Downloads/Tugas Akhir/dataset/experiment/\"\n",
    "# path_to_model = \"C:/Users/USER/Downloads/Tugas Akhir/dataset/model/\"\n",
    "# path_to_predict = \"C:/Users/USER/Downloads/Tugas Akhir/dataset/predict/\""
   ]
  },
  {
   "cell_type": "code",
   "execution_count": 3,
   "metadata": {
    "collapsed": true
   },
   "outputs": [],
   "source": [
    "def load(fitur):\n",
    "    data = pd.read_csv(path_to_experiment + fitur+\".csv\",header=None)\n",
    "    ground = pd.read_csv(path_info + \"static_annotations.csv\")\n",
    "\n",
    "    arousal_mean = ground['mean_arousal']\n",
    "    valence_mean = ground['mean_valence']\n",
    "    \n",
    "    return data,arousal_mean,valence_mean\n",
    "\n",
    "def split(data,value):\n",
    "    train_data, test_data, train_values, test_values = train_test_split(data,value,test_size=0.3,random_state=1000)\n",
    "    \n",
    "    return train_data, test_data, train_values, test_values\n",
    "\n",
    "def training(data,values,clf):\n",
    "    trained = clf.fit(data,values)\n",
    "    \n",
    "    return trained\n",
    "    \n",
    "def predict(test,true,clf):\n",
    "    pred = clf.predict(test)\n",
    "    df = pd.DataFrame(data=[pred,true])\n",
    "    \n",
    "    return pred,df\n",
    "\n",
    "def score(pred,true):\n",
    "    r2 = r2_score(true, pred)\n",
    "    \n",
    "    return r2\n",
    "\n",
    "def crosval(clf,data,values):\n",
    "    scores = cross_val_score(clf,data,values,scoring='r2',cv=10)\n",
    "    \n",
    "    return scores\n",
    "\n",
    "def save_model(model,case,types):\n",
    "    path = path_to_model+types+case+'.sav' # save the model\n",
    "    joblib.dump(model, path)\n",
    "\n",
    "def save_predict(df1,df2,case):\n",
    "    path = path_to_predict+case+\".xlsx\" # save the model\n",
    "    arousal = df1.T\n",
    "    valence = df2.T\n",
    "    merged = arousal.merge(valence, how='outer', left_index=True, right_index=True)\n",
    "    merged.to_excel(path,header=None,index=None)\n",
    "\n",
    "def norm(data):\n",
    "    scaler.fit(data)\n",
    "    normalized = scaler.transform(data)\n",
    "    \n",
    "    return normalized"
   ]
  },
  {
   "cell_type": "code",
   "execution_count": 4,
   "metadata": {
    "collapsed": true
   },
   "outputs": [],
   "source": [
    "kernels = RationalQuadratic(length_scale=1.0, alpha=1.0, \n",
    "                            length_scale_bounds=(1e-6, 1e6), \n",
    "                            alpha_bounds=(1e-6, 1e6))\n",
    "\n",
    "# kernels = RBF(length_scale=1.0, length_scale_bounds=(1e-05, 100000.0))\n",
    "# kernels = ExpSineSquared(length_scale=1.0, periodicity=1.0, \n",
    "#                          length_scale_bounds=(1e-07, 10000000.0), \n",
    "#                          periodicity_bounds=(1e-07, 10000000.0))"
   ]
  },
  {
   "cell_type": "markdown",
   "metadata": {},
   "source": [
    "# CASE 1"
   ]
  },
  {
   "cell_type": "code",
   "execution_count": 5,
   "metadata": {},
   "outputs": [
    {
     "name": "stdout",
     "output_type": "stream",
     "text": [
      "(744, 26)\n"
     ]
    }
   ],
   "source": [
    "# datafitur = \"case1_mfcc\" #CASE 1\n",
    "\n",
    "# data,arousal_mean,valence_mean = load(datafitur) #Load\n",
    "# print(data.shape)\n",
    "\n",
    "# scaled_ar = minmax_scale(arousal_mean.values,feature_range=(-1, 1))\n",
    "# scaled_val = minmax_scale(valence_mean.values,feature_range=(-1, 1))\n",
    "\n",
    "# #split arousal\n",
    "# train_data_a, test_data_a, train_values_a, test_values_a = split(data,scaled_ar)\n",
    "# #split valence\n",
    "# train_data_v, test_data_v, train_values_v, test_values_v = split(data,scaled_val) "
   ]
  },
  {
   "cell_type": "markdown",
   "metadata": {},
   "source": [
    "INITIAL MODEL"
   ]
  },
  {
   "cell_type": "code",
   "execution_count": 6,
   "metadata": {
    "collapsed": true
   },
   "outputs": [],
   "source": [
    "# gpr_a = GPR(kernel=kernels, alpha=1e-10, \n",
    "#                     optimizer='fmin_l_bfgs_b', \n",
    "#                     n_restarts_optimizer=10, \n",
    "#                     normalize_y=True, copy_X_train=False, \n",
    "#                     random_state=1000) #init Arousal\n",
    "\n",
    "# gpr_v = GPR(kernel=kernels, alpha=1e-10, \n",
    "#                     optimizer='fmin_l_bfgs_b', \n",
    "#                     n_restarts_optimizer=10, \n",
    "#                     normalize_y=True, copy_X_train=False, \n",
    "#                     random_state=1000) #init Arousal\n",
    "\n",
    "# gpr_a = GPR(kernel=kernels,normalize_y=True,random_state=1000,alpha=0.1)\n",
    "# gpr_v = GPR(kernel=kernels,normalize_y=True,random_state=1000,alpha=0.1)"
   ]
  },
  {
   "cell_type": "code",
   "execution_count": 7,
   "metadata": {},
   "outputs": [
    {
     "name": "stdout",
     "output_type": "stream",
     "text": [
      "arousal:\t RationalQuadratic(alpha=1, length_scale=1)\n",
      "arousal:\t RationalQuadratic(alpha=1, length_scale=1)\n"
     ]
    }
   ],
   "source": [
    "# print(\"arousal:\\t\",gpr_a.kernel)\n",
    "# print(\"arousal:\\t\",gpr_v.kernel)"
   ]
  },
  {
   "cell_type": "markdown",
   "metadata": {},
   "source": [
    "TRAIN"
   ]
  },
  {
   "cell_type": "code",
   "execution_count": 8,
   "metadata": {},
   "outputs": [],
   "source": [
    "# trained_a = training(train_data_a,train_values_a,gpr_a)\n",
    "# trained_v = training(train_data_v,train_values_v,gpr_v)"
   ]
  },
  {
   "cell_type": "markdown",
   "metadata": {},
   "source": [
    "PREDICT"
   ]
  },
  {
   "cell_type": "code",
   "execution_count": 9,
   "metadata": {
    "collapsed": true
   },
   "outputs": [],
   "source": [
    "# # #Predict Arousal\n",
    "# pred_a,df_a = predict(test_data_a, test_values_a, trained_a)\n",
    "# # #Predict Valence\n",
    "# pred_v,df_v = predict(test_data_v, test_values_v, trained_v)\n",
    "\n",
    "# r2_a = score(pred_a,test_values_a) #Score Arousal\n",
    "# r2_v = score(pred_v,test_values_v) #Score Valence"
   ]
  },
  {
   "cell_type": "markdown",
   "metadata": {},
   "source": [
    "SET PARAM"
   ]
  },
  {
   "cell_type": "code",
   "execution_count": 10,
   "metadata": {},
   "outputs": [
    {
     "name": "stdout",
     "output_type": "stream",
     "text": [
      "arousal:\t RationalQuadratic(alpha=0.0307, length_scale=4.12)\n",
      "valence:\t RationalQuadratic(alpha=0.0311, length_scale=2)\n"
     ]
    }
   ],
   "source": [
    "# trained_a.set_params(kernel=trained_a.kernel_)\n",
    "# trained_v.set_params(kernel=trained_v.kernel_)\n",
    "\n",
    "# print(\"arousal:\\t\",trained_a.kernel)\n",
    "# print(\"valence:\\t\",trained_v.kernel)"
   ]
  },
  {
   "cell_type": "markdown",
   "metadata": {},
   "source": [
    "AROUSAL"
   ]
  },
  {
   "cell_type": "code",
   "execution_count": 11,
   "metadata": {},
   "outputs": [
    {
     "data": {
      "text/html": [
       "<div>\n",
       "<style scoped>\n",
       "    .dataframe tbody tr th:only-of-type {\n",
       "        vertical-align: middle;\n",
       "    }\n",
       "\n",
       "    .dataframe tbody tr th {\n",
       "        vertical-align: top;\n",
       "    }\n",
       "\n",
       "    .dataframe thead th {\n",
       "        text-align: right;\n",
       "    }\n",
       "</style>\n",
       "<table border=\"1\" class=\"dataframe\">\n",
       "  <thead>\n",
       "    <tr style=\"text-align: right;\">\n",
       "      <th></th>\n",
       "      <th>0</th>\n",
       "      <th>1</th>\n",
       "      <th>2</th>\n",
       "      <th>3</th>\n",
       "      <th>4</th>\n",
       "      <th>5</th>\n",
       "      <th>6</th>\n",
       "      <th>7</th>\n",
       "      <th>8</th>\n",
       "      <th>9</th>\n",
       "      <th>...</th>\n",
       "      <th>214</th>\n",
       "      <th>215</th>\n",
       "      <th>216</th>\n",
       "      <th>217</th>\n",
       "      <th>218</th>\n",
       "      <th>219</th>\n",
       "      <th>220</th>\n",
       "      <th>221</th>\n",
       "      <th>222</th>\n",
       "      <th>223</th>\n",
       "    </tr>\n",
       "  </thead>\n",
       "  <tbody>\n",
       "    <tr>\n",
       "      <th>0</th>\n",
       "      <td>-0.088238</td>\n",
       "      <td>0.235580</td>\n",
       "      <td>0.584982</td>\n",
       "      <td>-0.405384</td>\n",
       "      <td>-0.410139</td>\n",
       "      <td>-0.086915</td>\n",
       "      <td>-0.809901</td>\n",
       "      <td>0.261002</td>\n",
       "      <td>-0.443631</td>\n",
       "      <td>-0.091556</td>\n",
       "      <td>...</td>\n",
       "      <td>0.487067</td>\n",
       "      <td>1.177945e-01</td>\n",
       "      <td>0.001863</td>\n",
       "      <td>-0.155370</td>\n",
       "      <td>-0.057214</td>\n",
       "      <td>-0.004002</td>\n",
       "      <td>0.324561</td>\n",
       "      <td>0.356283</td>\n",
       "      <td>-0.228</td>\n",
       "      <td>-0.453356</td>\n",
       "    </tr>\n",
       "    <tr>\n",
       "      <th>1</th>\n",
       "      <td>0.352941</td>\n",
       "      <td>0.264706</td>\n",
       "      <td>0.411765</td>\n",
       "      <td>-0.558824</td>\n",
       "      <td>-0.441176</td>\n",
       "      <td>-0.411765</td>\n",
       "      <td>-0.588235</td>\n",
       "      <td>0.235294</td>\n",
       "      <td>-0.411765</td>\n",
       "      <td>0.352941</td>\n",
       "      <td>...</td>\n",
       "      <td>0.588235</td>\n",
       "      <td>-2.220446e-16</td>\n",
       "      <td>-0.382353</td>\n",
       "      <td>0.235294</td>\n",
       "      <td>-0.088235</td>\n",
       "      <td>-0.029412</td>\n",
       "      <td>-0.058824</td>\n",
       "      <td>0.382353</td>\n",
       "      <td>-0.500</td>\n",
       "      <td>-0.823529</td>\n",
       "    </tr>\n",
       "  </tbody>\n",
       "</table>\n",
       "<p>2 rows × 224 columns</p>\n",
       "</div>"
      ],
      "text/plain": [
       "        0         1         2         3         4         5         6    \\\n",
       "0 -0.088238  0.235580  0.584982 -0.405384 -0.410139 -0.086915 -0.809901   \n",
       "1  0.352941  0.264706  0.411765 -0.558824 -0.441176 -0.411765 -0.588235   \n",
       "\n",
       "        7         8         9    ...       214           215       216  \\\n",
       "0  0.261002 -0.443631 -0.091556  ...  0.487067  1.177945e-01  0.001863   \n",
       "1  0.235294 -0.411765  0.352941  ...  0.588235 -2.220446e-16 -0.382353   \n",
       "\n",
       "        217       218       219       220       221    222       223  \n",
       "0 -0.155370 -0.057214 -0.004002  0.324561  0.356283 -0.228 -0.453356  \n",
       "1  0.235294 -0.088235 -0.029412 -0.058824  0.382353 -0.500 -0.823529  \n",
       "\n",
       "[2 rows x 224 columns]"
      ]
     },
     "metadata": {},
     "output_type": "display_data"
    },
    {
     "name": "stdout",
     "output_type": "stream",
     "text": [
      "R2 Score Arousal:\t0.64\n"
     ]
    }
   ],
   "source": [
    "# # df_a = df_a.round(2)\n",
    "\n",
    "# display(df_a.head())\n",
    "# print(\"R2 Score Arousal:\\t%0.2f\" % r2_a)"
   ]
  },
  {
   "cell_type": "markdown",
   "metadata": {},
   "source": [
    "VALENCE"
   ]
  },
  {
   "cell_type": "code",
   "execution_count": 12,
   "metadata": {},
   "outputs": [
    {
     "data": {
      "text/html": [
       "<div>\n",
       "<style scoped>\n",
       "    .dataframe tbody tr th:only-of-type {\n",
       "        vertical-align: middle;\n",
       "    }\n",
       "\n",
       "    .dataframe tbody tr th {\n",
       "        vertical-align: top;\n",
       "    }\n",
       "\n",
       "    .dataframe thead th {\n",
       "        text-align: right;\n",
       "    }\n",
       "</style>\n",
       "<table border=\"1\" class=\"dataframe\">\n",
       "  <thead>\n",
       "    <tr style=\"text-align: right;\">\n",
       "      <th></th>\n",
       "      <th>0</th>\n",
       "      <th>1</th>\n",
       "      <th>2</th>\n",
       "      <th>3</th>\n",
       "      <th>4</th>\n",
       "      <th>5</th>\n",
       "      <th>6</th>\n",
       "      <th>7</th>\n",
       "      <th>8</th>\n",
       "      <th>9</th>\n",
       "      <th>...</th>\n",
       "      <th>214</th>\n",
       "      <th>215</th>\n",
       "      <th>216</th>\n",
       "      <th>217</th>\n",
       "      <th>218</th>\n",
       "      <th>219</th>\n",
       "      <th>220</th>\n",
       "      <th>221</th>\n",
       "      <th>222</th>\n",
       "      <th>223</th>\n",
       "    </tr>\n",
       "  </thead>\n",
       "  <tbody>\n",
       "    <tr>\n",
       "      <th>0</th>\n",
       "      <td>0.179347</td>\n",
       "      <td>0.324119</td>\n",
       "      <td>0.485976</td>\n",
       "      <td>-0.145413</td>\n",
       "      <td>-0.068155</td>\n",
       "      <td>0.106264</td>\n",
       "      <td>-0.321716</td>\n",
       "      <td>0.232469</td>\n",
       "      <td>-0.074331</td>\n",
       "      <td>0.044818</td>\n",
       "      <td>...</td>\n",
       "      <td>0.425284</td>\n",
       "      <td>0.331999</td>\n",
       "      <td>0.005170</td>\n",
       "      <td>-0.038969</td>\n",
       "      <td>-0.014026</td>\n",
       "      <td>0.051305</td>\n",
       "      <td>0.158851</td>\n",
       "      <td>-0.001306</td>\n",
       "      <td>-0.139625</td>\n",
       "      <td>-0.448638</td>\n",
       "    </tr>\n",
       "    <tr>\n",
       "      <th>1</th>\n",
       "      <td>-0.661538</td>\n",
       "      <td>0.476923</td>\n",
       "      <td>0.353846</td>\n",
       "      <td>-0.661538</td>\n",
       "      <td>0.046154</td>\n",
       "      <td>-0.507692</td>\n",
       "      <td>-0.076923</td>\n",
       "      <td>-0.169231</td>\n",
       "      <td>-0.230769</td>\n",
       "      <td>0.569231</td>\n",
       "      <td>...</td>\n",
       "      <td>0.538462</td>\n",
       "      <td>-0.015385</td>\n",
       "      <td>-0.723077</td>\n",
       "      <td>0.230769</td>\n",
       "      <td>-0.323077</td>\n",
       "      <td>-0.138462</td>\n",
       "      <td>0.507692</td>\n",
       "      <td>0.507692</td>\n",
       "      <td>-0.261538</td>\n",
       "      <td>-0.415385</td>\n",
       "    </tr>\n",
       "  </tbody>\n",
       "</table>\n",
       "<p>2 rows × 224 columns</p>\n",
       "</div>"
      ],
      "text/plain": [
       "        0         1         2         3         4         5         6    \\\n",
       "0  0.179347  0.324119  0.485976 -0.145413 -0.068155  0.106264 -0.321716   \n",
       "1 -0.661538  0.476923  0.353846 -0.661538  0.046154 -0.507692 -0.076923   \n",
       "\n",
       "        7         8         9    ...       214       215       216       217  \\\n",
       "0  0.232469 -0.074331  0.044818  ...  0.425284  0.331999  0.005170 -0.038969   \n",
       "1 -0.169231 -0.230769  0.569231  ...  0.538462 -0.015385 -0.723077  0.230769   \n",
       "\n",
       "        218       219       220       221       222       223  \n",
       "0 -0.014026  0.051305  0.158851 -0.001306 -0.139625 -0.448638  \n",
       "1 -0.323077 -0.138462  0.507692  0.507692 -0.261538 -0.415385  \n",
       "\n",
       "[2 rows x 224 columns]"
      ]
     },
     "metadata": {},
     "output_type": "display_data"
    },
    {
     "name": "stdout",
     "output_type": "stream",
     "text": [
      "R2 Score Valence: 0.29\n"
     ]
    }
   ],
   "source": [
    "# # df_v = df_v.round(2)\n",
    "\n",
    "# display(df_v.head())\n",
    "# print(\"R2 Score Valence: %0.2f\" % r2_v)"
   ]
  },
  {
   "cell_type": "markdown",
   "metadata": {},
   "source": [
    "REGRESSION"
   ]
  },
  {
   "cell_type": "code",
   "execution_count": 13,
   "metadata": {},
   "outputs": [
    {
     "name": "stderr",
     "output_type": "stream",
     "text": [
      "C:\\Users\\5115100178\\AppData\\Local\\Continuum\\Anaconda3\\envs\\py36\\lib\\site-packages\\sklearn\\gaussian_process\\gpr.py:480: ConvergenceWarning: fmin_l_bfgs_b terminated abnormally with the  state: {'grad': array([ 0.00064483, -0.0321948 ]), 'task': b'ABNORMAL_TERMINATION_IN_LNSRCH', 'funcalls': 52, 'nit': 3, 'warnflag': 2}\n",
      "  ConvergenceWarning)\n",
      "C:\\Users\\5115100178\\AppData\\Local\\Continuum\\Anaconda3\\envs\\py36\\lib\\site-packages\\sklearn\\gaussian_process\\gpr.py:480: ConvergenceWarning: fmin_l_bfgs_b terminated abnormally with the  state: {'grad': array([ 0.00063104, -0.00156853]), 'task': b'ABNORMAL_TERMINATION_IN_LNSRCH', 'funcalls': 51, 'nit': 2, 'warnflag': 2}\n",
      "  ConvergenceWarning)\n"
     ]
    }
   ],
   "source": [
    "# scores_a = crosval(gpr_a,data,scaled_ar) #Arousal Regression\n",
    "# scores_v = crosval(gpr_v,data,scaled_val) #Arousal Regression"
   ]
  },
  {
   "cell_type": "markdown",
   "metadata": {
    "collapsed": true
   },
   "source": [
    "AROUSAL"
   ]
  },
  {
   "cell_type": "code",
   "execution_count": 14,
   "metadata": {},
   "outputs": [
    {
     "name": "stdout",
     "output_type": "stream",
     "text": [
      "R2 Score Valence:\t [ 0.39113875  0.47493296  0.51594495  0.51277248  0.66185402  0.56923713\n",
      "  0.51420647  0.59929901  0.64047246  0.5246607 ]\n",
      "R2 Score Valence:\t0.54 (+/- 0.08)\n"
     ]
    }
   ],
   "source": [
    "# print(\"R2 Score Valence:\\t\",scores_a)\n",
    "# print(\"R2 Score Valence:\\t%0.2f (+/- %0.2f)\" % (scores_a.mean(), scores_a.std() ))"
   ]
  },
  {
   "cell_type": "markdown",
   "metadata": {
    "collapsed": true
   },
   "source": [
    "VALENCE"
   ]
  },
  {
   "cell_type": "code",
   "execution_count": 15,
   "metadata": {},
   "outputs": [
    {
     "name": "stdout",
     "output_type": "stream",
     "text": [
      "R2 Score Valence:\t [ 0.08777192  0.03972039  0.02537876 -0.16568591  0.36585407  0.09138349\n",
      "  0.31712252  0.26211364  0.27678954  0.11349062]\n",
      "R2 Score Valence:\t0.14 (+/- 0.15)\n"
     ]
    }
   ],
   "source": [
    "# print(\"R2 Score Valence:\\t\",scores_v)\n",
    "# print(\"R2 Score Valence:\\t%0.2f (+/- %0.2f)\" % (scores_v.mean(), scores_v.std() ))"
   ]
  },
  {
   "cell_type": "code",
   "execution_count": 16,
   "metadata": {
    "collapsed": true
   },
   "outputs": [],
   "source": [
    "# save_predict(df_a.round(2),df_v.round(2),datafitur)\n",
    "# save_model(trained_a,datafitur,'arousal/') #save model Arousal\n",
    "# save_model(trained_v,datafitur,'valence/') #save model Valence"
   ]
  },
  {
   "cell_type": "markdown",
   "metadata": {},
   "source": [
    "# CASE 2"
   ]
  },
  {
   "cell_type": "code",
   "execution_count": 17,
   "metadata": {},
   "outputs": [
    {
     "name": "stdout",
     "output_type": "stream",
     "text": [
      "(744, 8)\n"
     ]
    }
   ],
   "source": [
    "# datafitur = \"case2_timbre\" #CASE 2\n",
    "\n",
    "# data,arousal_mean,valence_mean = load(datafitur) #Load\n",
    "# print(data.shape)\n",
    "\n",
    "# scaled_ar = minmax_scale(arousal_mean.values,feature_range=(-1, 1))\n",
    "# scaled_val = minmax_scale(valence_mean.values,feature_range=(-1, 1))\n",
    "\n",
    "# train_data_a, test_data_a, train_values_a, test_values_a = split(data,scaled_ar) #split arousal\n",
    "# train_data_v, test_data_v, train_values_v, test_values_v = split(data,scaled_val) #split valence"
   ]
  },
  {
   "cell_type": "markdown",
   "metadata": {},
   "source": [
    "INITIAL MODEL"
   ]
  },
  {
   "cell_type": "code",
   "execution_count": 18,
   "metadata": {
    "collapsed": true
   },
   "outputs": [],
   "source": [
    "# gpr_a = GPR(kernel=kernels, alpha=1e-10, \n",
    "#                     optimizer='fmin_l_bfgs_b', \n",
    "#                     n_restarts_optimizer=10, \n",
    "#                     normalize_y=True, copy_X_train=False, \n",
    "#                     random_state=1000) #init Valence\n",
    "\n",
    "# gpr_v = GPR(kernel=kernels, alpha=1e-10, \n",
    "#                     optimizer='fmin_l_bfgs_b', \n",
    "#                     n_restarts_optimizer=10, \n",
    "#                     normalize_y=True, copy_X_train=False, \n",
    "#                     random_state=1000) #init Valence\n",
    "\n",
    "# # gpr_a = GPR()\n",
    "# # gpr_v = GPR()"
   ]
  },
  {
   "cell_type": "code",
   "execution_count": 19,
   "metadata": {},
   "outputs": [
    {
     "name": "stdout",
     "output_type": "stream",
     "text": [
      "arousal:\t RationalQuadratic(alpha=1, length_scale=1)\n",
      "valence:\t RationalQuadratic(alpha=1, length_scale=1)\n"
     ]
    }
   ],
   "source": [
    "# print(\"arousal:\\t\",gpr_a.kernel)\n",
    "# print(\"valence:\\t\",gpr_v.kernel)"
   ]
  },
  {
   "cell_type": "markdown",
   "metadata": {},
   "source": [
    "TRAIN"
   ]
  },
  {
   "cell_type": "code",
   "execution_count": 20,
   "metadata": {
    "collapsed": true
   },
   "outputs": [],
   "source": [
    "# trained_a = training(train_data_a,train_values_a,gpr_a)\n",
    "# trained_v = training(train_data_v,train_values_v,gpr_v)"
   ]
  },
  {
   "cell_type": "markdown",
   "metadata": {},
   "source": [
    "PREDICT"
   ]
  },
  {
   "cell_type": "code",
   "execution_count": 21,
   "metadata": {
    "collapsed": true
   },
   "outputs": [],
   "source": [
    "# # #Predict Arousal\n",
    "# pred_a,df2_a = predict(test_data_a, test_values_a, trained_a)\n",
    "# # #Predict Valence\n",
    "# pred_v,df2_v = predict(test_data_v, test_values_v, trained_v)\n",
    "\n",
    "# r2_a = score(pred_a,test_values_a) #Score Arousal\n",
    "# r2_v = score(pred_v,test_values_v) #Score Valence"
   ]
  },
  {
   "cell_type": "markdown",
   "metadata": {},
   "source": [
    "SET PARAM"
   ]
  },
  {
   "cell_type": "code",
   "execution_count": 22,
   "metadata": {},
   "outputs": [
    {
     "name": "stdout",
     "output_type": "stream",
     "text": [
      "arousal:\t RationalQuadratic(alpha=0.0119, length_scale=0.143)\n",
      "valence:\t RationalQuadratic(alpha=0.0118, length_scale=0.104)\n"
     ]
    }
   ],
   "source": [
    "# trained_a.set_params(kernel=trained_a.kernel_)\n",
    "# trained_v.set_params(kernel=trained_v.kernel_)\n",
    "\n",
    "# print(\"arousal:\\t\",trained_a.kernel)\n",
    "# print(\"valence:\\t\",trained_v.kernel)"
   ]
  },
  {
   "cell_type": "markdown",
   "metadata": {},
   "source": [
    "AROUSAL"
   ]
  },
  {
   "cell_type": "code",
   "execution_count": 23,
   "metadata": {},
   "outputs": [
    {
     "data": {
      "text/html": [
       "<div>\n",
       "<style scoped>\n",
       "    .dataframe tbody tr th:only-of-type {\n",
       "        vertical-align: middle;\n",
       "    }\n",
       "\n",
       "    .dataframe tbody tr th {\n",
       "        vertical-align: top;\n",
       "    }\n",
       "\n",
       "    .dataframe thead th {\n",
       "        text-align: right;\n",
       "    }\n",
       "</style>\n",
       "<table border=\"1\" class=\"dataframe\">\n",
       "  <thead>\n",
       "    <tr style=\"text-align: right;\">\n",
       "      <th></th>\n",
       "      <th>0</th>\n",
       "      <th>1</th>\n",
       "      <th>2</th>\n",
       "      <th>3</th>\n",
       "      <th>4</th>\n",
       "      <th>5</th>\n",
       "      <th>6</th>\n",
       "      <th>7</th>\n",
       "      <th>8</th>\n",
       "      <th>9</th>\n",
       "      <th>...</th>\n",
       "      <th>214</th>\n",
       "      <th>215</th>\n",
       "      <th>216</th>\n",
       "      <th>217</th>\n",
       "      <th>218</th>\n",
       "      <th>219</th>\n",
       "      <th>220</th>\n",
       "      <th>221</th>\n",
       "      <th>222</th>\n",
       "      <th>223</th>\n",
       "    </tr>\n",
       "  </thead>\n",
       "  <tbody>\n",
       "    <tr>\n",
       "      <th>0</th>\n",
       "      <td>-0.088238</td>\n",
       "      <td>0.235580</td>\n",
       "      <td>0.584982</td>\n",
       "      <td>-0.405384</td>\n",
       "      <td>-0.410139</td>\n",
       "      <td>-0.086915</td>\n",
       "      <td>-0.809901</td>\n",
       "      <td>0.261002</td>\n",
       "      <td>-0.443631</td>\n",
       "      <td>-0.091556</td>\n",
       "      <td>...</td>\n",
       "      <td>0.487067</td>\n",
       "      <td>1.177945e-01</td>\n",
       "      <td>0.001863</td>\n",
       "      <td>-0.155370</td>\n",
       "      <td>-0.057214</td>\n",
       "      <td>-0.004002</td>\n",
       "      <td>0.324561</td>\n",
       "      <td>0.356283</td>\n",
       "      <td>-0.228</td>\n",
       "      <td>-0.453356</td>\n",
       "    </tr>\n",
       "    <tr>\n",
       "      <th>1</th>\n",
       "      <td>0.352941</td>\n",
       "      <td>0.264706</td>\n",
       "      <td>0.411765</td>\n",
       "      <td>-0.558824</td>\n",
       "      <td>-0.441176</td>\n",
       "      <td>-0.411765</td>\n",
       "      <td>-0.588235</td>\n",
       "      <td>0.235294</td>\n",
       "      <td>-0.411765</td>\n",
       "      <td>0.352941</td>\n",
       "      <td>...</td>\n",
       "      <td>0.588235</td>\n",
       "      <td>-2.220446e-16</td>\n",
       "      <td>-0.382353</td>\n",
       "      <td>0.235294</td>\n",
       "      <td>-0.088235</td>\n",
       "      <td>-0.029412</td>\n",
       "      <td>-0.058824</td>\n",
       "      <td>0.382353</td>\n",
       "      <td>-0.500</td>\n",
       "      <td>-0.823529</td>\n",
       "    </tr>\n",
       "  </tbody>\n",
       "</table>\n",
       "<p>2 rows × 224 columns</p>\n",
       "</div>"
      ],
      "text/plain": [
       "        0         1         2         3         4         5         6    \\\n",
       "0 -0.088238  0.235580  0.584982 -0.405384 -0.410139 -0.086915 -0.809901   \n",
       "1  0.352941  0.264706  0.411765 -0.558824 -0.441176 -0.411765 -0.588235   \n",
       "\n",
       "        7         8         9    ...       214           215       216  \\\n",
       "0  0.261002 -0.443631 -0.091556  ...  0.487067  1.177945e-01  0.001863   \n",
       "1  0.235294 -0.411765  0.352941  ...  0.588235 -2.220446e-16 -0.382353   \n",
       "\n",
       "        217       218       219       220       221    222       223  \n",
       "0 -0.155370 -0.057214 -0.004002  0.324561  0.356283 -0.228 -0.453356  \n",
       "1  0.235294 -0.088235 -0.029412 -0.058824  0.382353 -0.500 -0.823529  \n",
       "\n",
       "[2 rows x 224 columns]"
      ]
     },
     "metadata": {},
     "output_type": "display_data"
    },
    {
     "name": "stdout",
     "output_type": "stream",
     "text": [
      "R2 Score Arousal:\t0.55\n"
     ]
    }
   ],
   "source": [
    "# # df_a = df_a.round(2)\n",
    "\n",
    "# display(df_a.head())\n",
    "# print(\"R2 Score Arousal:\\t%0.2f\" % r2_a)"
   ]
  },
  {
   "cell_type": "markdown",
   "metadata": {},
   "source": [
    "VALENCE"
   ]
  },
  {
   "cell_type": "code",
   "execution_count": 24,
   "metadata": {},
   "outputs": [
    {
     "data": {
      "text/html": [
       "<div>\n",
       "<style scoped>\n",
       "    .dataframe tbody tr th:only-of-type {\n",
       "        vertical-align: middle;\n",
       "    }\n",
       "\n",
       "    .dataframe tbody tr th {\n",
       "        vertical-align: top;\n",
       "    }\n",
       "\n",
       "    .dataframe thead th {\n",
       "        text-align: right;\n",
       "    }\n",
       "</style>\n",
       "<table border=\"1\" class=\"dataframe\">\n",
       "  <thead>\n",
       "    <tr style=\"text-align: right;\">\n",
       "      <th></th>\n",
       "      <th>0</th>\n",
       "      <th>1</th>\n",
       "      <th>2</th>\n",
       "      <th>3</th>\n",
       "      <th>4</th>\n",
       "      <th>5</th>\n",
       "      <th>6</th>\n",
       "      <th>7</th>\n",
       "      <th>8</th>\n",
       "      <th>9</th>\n",
       "      <th>...</th>\n",
       "      <th>214</th>\n",
       "      <th>215</th>\n",
       "      <th>216</th>\n",
       "      <th>217</th>\n",
       "      <th>218</th>\n",
       "      <th>219</th>\n",
       "      <th>220</th>\n",
       "      <th>221</th>\n",
       "      <th>222</th>\n",
       "      <th>223</th>\n",
       "    </tr>\n",
       "  </thead>\n",
       "  <tbody>\n",
       "    <tr>\n",
       "      <th>0</th>\n",
       "      <td>0.179347</td>\n",
       "      <td>0.324119</td>\n",
       "      <td>0.485976</td>\n",
       "      <td>-0.145413</td>\n",
       "      <td>-0.068155</td>\n",
       "      <td>0.106264</td>\n",
       "      <td>-0.321716</td>\n",
       "      <td>0.232469</td>\n",
       "      <td>-0.074331</td>\n",
       "      <td>0.044818</td>\n",
       "      <td>...</td>\n",
       "      <td>0.425284</td>\n",
       "      <td>0.331999</td>\n",
       "      <td>0.005170</td>\n",
       "      <td>-0.038969</td>\n",
       "      <td>-0.014026</td>\n",
       "      <td>0.051305</td>\n",
       "      <td>0.158851</td>\n",
       "      <td>-0.001306</td>\n",
       "      <td>-0.139625</td>\n",
       "      <td>-0.448638</td>\n",
       "    </tr>\n",
       "    <tr>\n",
       "      <th>1</th>\n",
       "      <td>-0.661538</td>\n",
       "      <td>0.476923</td>\n",
       "      <td>0.353846</td>\n",
       "      <td>-0.661538</td>\n",
       "      <td>0.046154</td>\n",
       "      <td>-0.507692</td>\n",
       "      <td>-0.076923</td>\n",
       "      <td>-0.169231</td>\n",
       "      <td>-0.230769</td>\n",
       "      <td>0.569231</td>\n",
       "      <td>...</td>\n",
       "      <td>0.538462</td>\n",
       "      <td>-0.015385</td>\n",
       "      <td>-0.723077</td>\n",
       "      <td>0.230769</td>\n",
       "      <td>-0.323077</td>\n",
       "      <td>-0.138462</td>\n",
       "      <td>0.507692</td>\n",
       "      <td>0.507692</td>\n",
       "      <td>-0.261538</td>\n",
       "      <td>-0.415385</td>\n",
       "    </tr>\n",
       "  </tbody>\n",
       "</table>\n",
       "<p>2 rows × 224 columns</p>\n",
       "</div>"
      ],
      "text/plain": [
       "        0         1         2         3         4         5         6    \\\n",
       "0  0.179347  0.324119  0.485976 -0.145413 -0.068155  0.106264 -0.321716   \n",
       "1 -0.661538  0.476923  0.353846 -0.661538  0.046154 -0.507692 -0.076923   \n",
       "\n",
       "        7         8         9    ...       214       215       216       217  \\\n",
       "0  0.232469 -0.074331  0.044818  ...  0.425284  0.331999  0.005170 -0.038969   \n",
       "1 -0.169231 -0.230769  0.569231  ...  0.538462 -0.015385 -0.723077  0.230769   \n",
       "\n",
       "        218       219       220       221       222       223  \n",
       "0 -0.014026  0.051305  0.158851 -0.001306 -0.139625 -0.448638  \n",
       "1 -0.323077 -0.138462  0.507692  0.507692 -0.261538 -0.415385  \n",
       "\n",
       "[2 rows x 224 columns]"
      ]
     },
     "metadata": {},
     "output_type": "display_data"
    },
    {
     "name": "stdout",
     "output_type": "stream",
     "text": [
      "R2 Score Valence:\t0.30\n"
     ]
    }
   ],
   "source": [
    "# # df_v = df_v.round(2)\n",
    "\n",
    "# display(df_v.head())\n",
    "# print(\"R2 Score Valence:\\t%0.2f\" % r2_v)"
   ]
  },
  {
   "cell_type": "markdown",
   "metadata": {},
   "source": [
    "REGRESSION"
   ]
  },
  {
   "cell_type": "code",
   "execution_count": 25,
   "metadata": {
    "collapsed": true
   },
   "outputs": [],
   "source": [
    "# scores_a = crosval(gpr_a,data,scaled_ar) #Arousal Regression\n",
    "# scores_v = crosval(gpr_v,data,scaled_val) #Arousal Regression"
   ]
  },
  {
   "cell_type": "markdown",
   "metadata": {},
   "source": [
    "AROUSAL"
   ]
  },
  {
   "cell_type": "code",
   "execution_count": 26,
   "metadata": {},
   "outputs": [
    {
     "name": "stdout",
     "output_type": "stream",
     "text": [
      "R2 Score Valence:\t [ 0.34647678  0.24483816  0.28185763  0.41172423  0.53748616  0.47714264\n",
      "  0.51557529  0.55892611  0.32752965  0.44937819]\n",
      "R2 Score Valence:\t0.42 (+/- 0.10)\n"
     ]
    }
   ],
   "source": [
    "# print(\"R2 Score Valence:\\t\",scores_a)\n",
    "# print(\"R2 Score Valence:\\t%0.2f (+/- %0.2f)\" % (scores_a.mean(), scores_a.std() ))"
   ]
  },
  {
   "cell_type": "markdown",
   "metadata": {},
   "source": [
    "VALENCE"
   ]
  },
  {
   "cell_type": "code",
   "execution_count": 27,
   "metadata": {},
   "outputs": [
    {
     "name": "stdout",
     "output_type": "stream",
     "text": [
      "R2 Score Valence:\t [ 0.32224335  0.31328452  0.27873     0.03917079  0.45144779  0.3038009\n",
      "  0.39145753  0.36389868  0.12590206  0.05855789]\n",
      "R2 Score Valence:\t0.26 (+/- 0.13)\n"
     ]
    }
   ],
   "source": [
    "# print(\"R2 Score Valence:\\t\",scores_v)\n",
    "# print(\"R2 Score Valence:\\t%0.2f (+/- %0.2f)\" % (scores_v.mean(), scores_v.std() ))"
   ]
  },
  {
   "cell_type": "code",
   "execution_count": 28,
   "metadata": {
    "collapsed": true
   },
   "outputs": [],
   "source": [
    "# save_predict(df_a.round(2),df_v.round(2),datafitur)\n",
    "# save_model(trained_a,datafitur,'arousal/') #save model Arousal\n",
    "# save_model(trained_v,datafitur,'valence/') #save model Valence"
   ]
  },
  {
   "cell_type": "markdown",
   "metadata": {},
   "source": [
    "# CASE 3"
   ]
  },
  {
   "cell_type": "code",
   "execution_count": 29,
   "metadata": {},
   "outputs": [
    {
     "name": "stdout",
     "output_type": "stream",
     "text": [
      "(744, 3)\n"
     ]
    }
   ],
   "source": [
    "# datafitur =  \"case3_scf_sfm\" #CASE 3\n",
    "# data,arousal_mean,valence_mean = load(datafitur) #Load\n",
    "# print(data.shape)\n",
    "\n",
    "# scaled_ar = minmax_scale(arousal_mean.values,feature_range=(-1, 1))\n",
    "# scaled_val = minmax_scale(valence_mean.values,feature_range=(-1, 1))\n",
    "\n",
    "# train_data_a, test_data_a, train_values_a, test_values_a = split(data,scaled_ar) #split arousal\n",
    "# train_data_v, test_data_v, train_values_v, test_values_v = split(data,scaled_val) #split valence"
   ]
  },
  {
   "cell_type": "markdown",
   "metadata": {},
   "source": [
    "INITAL MODEL"
   ]
  },
  {
   "cell_type": "code",
   "execution_count": 30,
   "metadata": {
    "collapsed": true
   },
   "outputs": [],
   "source": [
    "# gpr_a = GPR(kernel=kernels, alpha=1e-10, \n",
    "#                     optimizer='fmin_l_bfgs_b', \n",
    "#                     n_restarts_optimizer=10, \n",
    "#                     normalize_y=True, copy_X_train=False, \n",
    "#                     random_state=1000) #init Arousal\n",
    "\n",
    "# gpr_v = GPR(kernel=kernels, alpha=1e-10, \n",
    "#                     optimizer='fmin_l_bfgs_b', \n",
    "#                     n_restarts_optimizer=10, \n",
    "#                     normalize_y=True, copy_X_train=False, \n",
    "#                     random_state=1000) #init Valence\n",
    "\n",
    "# gpr_a = GPR()\n",
    "# gpr_v = GPR()"
   ]
  },
  {
   "cell_type": "code",
   "execution_count": 31,
   "metadata": {},
   "outputs": [
    {
     "name": "stdout",
     "output_type": "stream",
     "text": [
      "arousal:\t RationalQuadratic(alpha=1, length_scale=1)\n",
      "valence:\t RationalQuadratic(alpha=1, length_scale=1)\n"
     ]
    }
   ],
   "source": [
    "# print(\"arousal:\\t\",gpr_a.kernel)\n",
    "# print(\"valence:\\t\",gpr_v.kernel)"
   ]
  },
  {
   "cell_type": "markdown",
   "metadata": {},
   "source": [
    "TRAIN"
   ]
  },
  {
   "cell_type": "code",
   "execution_count": 32,
   "metadata": {
    "collapsed": true
   },
   "outputs": [],
   "source": [
    "# trained_a = training(train_data_a,train_values_a,gpr_a)\n",
    "# trained_v = training(train_data_v,train_values_v,gpr_v)"
   ]
  },
  {
   "cell_type": "markdown",
   "metadata": {},
   "source": [
    "PREDICT"
   ]
  },
  {
   "cell_type": "code",
   "execution_count": 33,
   "metadata": {
    "collapsed": true
   },
   "outputs": [],
   "source": [
    "# # #Predict Arousal\n",
    "# pred_a,df2_a = predict(test_data_a, test_values_a, trained_a)\n",
    "# # #Predict Valence\n",
    "# pred_v,df2_v = predict(test_data_v, test_values_v, trained_v)\n",
    "\n",
    "# r2_a = score(pred_a,test_values_a) #Score Arousal\n",
    "# r2_v = score(pred_v,test_values_v) #Score Valence"
   ]
  },
  {
   "cell_type": "markdown",
   "metadata": {},
   "source": [
    "SET PARAM"
   ]
  },
  {
   "cell_type": "code",
   "execution_count": 34,
   "metadata": {},
   "outputs": [
    {
     "name": "stdout",
     "output_type": "stream",
     "text": [
      "arousal:\t RationalQuadratic(alpha=0.00806, length_scale=0.00429)\n",
      "valence:\t RationalQuadratic(alpha=0.00469, length_scale=2.28e-06)\n"
     ]
    }
   ],
   "source": [
    "# trained_a.set_params(kernel=trained_a.kernel_)\n",
    "# trained_v.set_params(kernel=trained_v.kernel_)\n",
    "\n",
    "# print(\"arousal:\\t\",trained_a.kernel)\n",
    "# print(\"valence:\\t\",trained_v.kernel)"
   ]
  },
  {
   "cell_type": "markdown",
   "metadata": {},
   "source": [
    "AROUSAL"
   ]
  },
  {
   "cell_type": "code",
   "execution_count": 35,
   "metadata": {},
   "outputs": [
    {
     "data": {
      "text/html": [
       "<div>\n",
       "<style scoped>\n",
       "    .dataframe tbody tr th:only-of-type {\n",
       "        vertical-align: middle;\n",
       "    }\n",
       "\n",
       "    .dataframe tbody tr th {\n",
       "        vertical-align: top;\n",
       "    }\n",
       "\n",
       "    .dataframe thead th {\n",
       "        text-align: right;\n",
       "    }\n",
       "</style>\n",
       "<table border=\"1\" class=\"dataframe\">\n",
       "  <thead>\n",
       "    <tr style=\"text-align: right;\">\n",
       "      <th></th>\n",
       "      <th>0</th>\n",
       "      <th>1</th>\n",
       "      <th>2</th>\n",
       "      <th>3</th>\n",
       "      <th>4</th>\n",
       "      <th>5</th>\n",
       "      <th>6</th>\n",
       "      <th>7</th>\n",
       "      <th>8</th>\n",
       "      <th>9</th>\n",
       "      <th>...</th>\n",
       "      <th>214</th>\n",
       "      <th>215</th>\n",
       "      <th>216</th>\n",
       "      <th>217</th>\n",
       "      <th>218</th>\n",
       "      <th>219</th>\n",
       "      <th>220</th>\n",
       "      <th>221</th>\n",
       "      <th>222</th>\n",
       "      <th>223</th>\n",
       "    </tr>\n",
       "  </thead>\n",
       "  <tbody>\n",
       "    <tr>\n",
       "      <th>0</th>\n",
       "      <td>-0.088238</td>\n",
       "      <td>0.235580</td>\n",
       "      <td>0.584982</td>\n",
       "      <td>-0.405384</td>\n",
       "      <td>-0.410139</td>\n",
       "      <td>-0.086915</td>\n",
       "      <td>-0.809901</td>\n",
       "      <td>0.261002</td>\n",
       "      <td>-0.443631</td>\n",
       "      <td>-0.091556</td>\n",
       "      <td>...</td>\n",
       "      <td>0.487067</td>\n",
       "      <td>1.177945e-01</td>\n",
       "      <td>0.001863</td>\n",
       "      <td>-0.155370</td>\n",
       "      <td>-0.057214</td>\n",
       "      <td>-0.004002</td>\n",
       "      <td>0.324561</td>\n",
       "      <td>0.356283</td>\n",
       "      <td>-0.228</td>\n",
       "      <td>-0.453356</td>\n",
       "    </tr>\n",
       "    <tr>\n",
       "      <th>1</th>\n",
       "      <td>0.352941</td>\n",
       "      <td>0.264706</td>\n",
       "      <td>0.411765</td>\n",
       "      <td>-0.558824</td>\n",
       "      <td>-0.441176</td>\n",
       "      <td>-0.411765</td>\n",
       "      <td>-0.588235</td>\n",
       "      <td>0.235294</td>\n",
       "      <td>-0.411765</td>\n",
       "      <td>0.352941</td>\n",
       "      <td>...</td>\n",
       "      <td>0.588235</td>\n",
       "      <td>-2.220446e-16</td>\n",
       "      <td>-0.382353</td>\n",
       "      <td>0.235294</td>\n",
       "      <td>-0.088235</td>\n",
       "      <td>-0.029412</td>\n",
       "      <td>-0.058824</td>\n",
       "      <td>0.382353</td>\n",
       "      <td>-0.500</td>\n",
       "      <td>-0.823529</td>\n",
       "    </tr>\n",
       "  </tbody>\n",
       "</table>\n",
       "<p>2 rows × 224 columns</p>\n",
       "</div>"
      ],
      "text/plain": [
       "        0         1         2         3         4         5         6    \\\n",
       "0 -0.088238  0.235580  0.584982 -0.405384 -0.410139 -0.086915 -0.809901   \n",
       "1  0.352941  0.264706  0.411765 -0.558824 -0.441176 -0.411765 -0.588235   \n",
       "\n",
       "        7         8         9    ...       214           215       216  \\\n",
       "0  0.261002 -0.443631 -0.091556  ...  0.487067  1.177945e-01  0.001863   \n",
       "1  0.235294 -0.411765  0.352941  ...  0.588235 -2.220446e-16 -0.382353   \n",
       "\n",
       "        217       218       219       220       221    222       223  \n",
       "0 -0.155370 -0.057214 -0.004002  0.324561  0.356283 -0.228 -0.453356  \n",
       "1  0.235294 -0.088235 -0.029412 -0.058824  0.382353 -0.500 -0.823529  \n",
       "\n",
       "[2 rows x 224 columns]"
      ]
     },
     "metadata": {},
     "output_type": "display_data"
    },
    {
     "name": "stdout",
     "output_type": "stream",
     "text": [
      "R2 Score Arousal:\t0.48\n"
     ]
    }
   ],
   "source": [
    "# # df_a = df_a.round(2)\n",
    "\n",
    "# display(df_a.head())\n",
    "# print(\"R2 Score Arousal:\\t%0.2f\" % r2_a)"
   ]
  },
  {
   "cell_type": "markdown",
   "metadata": {},
   "source": [
    "VALENCE"
   ]
  },
  {
   "cell_type": "code",
   "execution_count": 36,
   "metadata": {},
   "outputs": [
    {
     "data": {
      "text/html": [
       "<div>\n",
       "<style scoped>\n",
       "    .dataframe tbody tr th:only-of-type {\n",
       "        vertical-align: middle;\n",
       "    }\n",
       "\n",
       "    .dataframe tbody tr th {\n",
       "        vertical-align: top;\n",
       "    }\n",
       "\n",
       "    .dataframe thead th {\n",
       "        text-align: right;\n",
       "    }\n",
       "</style>\n",
       "<table border=\"1\" class=\"dataframe\">\n",
       "  <thead>\n",
       "    <tr style=\"text-align: right;\">\n",
       "      <th></th>\n",
       "      <th>0</th>\n",
       "      <th>1</th>\n",
       "      <th>2</th>\n",
       "      <th>3</th>\n",
       "      <th>4</th>\n",
       "      <th>5</th>\n",
       "      <th>6</th>\n",
       "      <th>7</th>\n",
       "      <th>8</th>\n",
       "      <th>9</th>\n",
       "      <th>...</th>\n",
       "      <th>214</th>\n",
       "      <th>215</th>\n",
       "      <th>216</th>\n",
       "      <th>217</th>\n",
       "      <th>218</th>\n",
       "      <th>219</th>\n",
       "      <th>220</th>\n",
       "      <th>221</th>\n",
       "      <th>222</th>\n",
       "      <th>223</th>\n",
       "    </tr>\n",
       "  </thead>\n",
       "  <tbody>\n",
       "    <tr>\n",
       "      <th>0</th>\n",
       "      <td>0.179347</td>\n",
       "      <td>0.324119</td>\n",
       "      <td>0.485976</td>\n",
       "      <td>-0.145413</td>\n",
       "      <td>-0.068155</td>\n",
       "      <td>0.106264</td>\n",
       "      <td>-0.321716</td>\n",
       "      <td>0.232469</td>\n",
       "      <td>-0.074331</td>\n",
       "      <td>0.044818</td>\n",
       "      <td>...</td>\n",
       "      <td>0.425284</td>\n",
       "      <td>0.331999</td>\n",
       "      <td>0.005170</td>\n",
       "      <td>-0.038969</td>\n",
       "      <td>-0.014026</td>\n",
       "      <td>0.051305</td>\n",
       "      <td>0.158851</td>\n",
       "      <td>-0.001306</td>\n",
       "      <td>-0.139625</td>\n",
       "      <td>-0.448638</td>\n",
       "    </tr>\n",
       "    <tr>\n",
       "      <th>1</th>\n",
       "      <td>-0.661538</td>\n",
       "      <td>0.476923</td>\n",
       "      <td>0.353846</td>\n",
       "      <td>-0.661538</td>\n",
       "      <td>0.046154</td>\n",
       "      <td>-0.507692</td>\n",
       "      <td>-0.076923</td>\n",
       "      <td>-0.169231</td>\n",
       "      <td>-0.230769</td>\n",
       "      <td>0.569231</td>\n",
       "      <td>...</td>\n",
       "      <td>0.538462</td>\n",
       "      <td>-0.015385</td>\n",
       "      <td>-0.723077</td>\n",
       "      <td>0.230769</td>\n",
       "      <td>-0.323077</td>\n",
       "      <td>-0.138462</td>\n",
       "      <td>0.507692</td>\n",
       "      <td>0.507692</td>\n",
       "      <td>-0.261538</td>\n",
       "      <td>-0.415385</td>\n",
       "    </tr>\n",
       "  </tbody>\n",
       "</table>\n",
       "<p>2 rows × 224 columns</p>\n",
       "</div>"
      ],
      "text/plain": [
       "        0         1         2         3         4         5         6    \\\n",
       "0  0.179347  0.324119  0.485976 -0.145413 -0.068155  0.106264 -0.321716   \n",
       "1 -0.661538  0.476923  0.353846 -0.661538  0.046154 -0.507692 -0.076923   \n",
       "\n",
       "        7         8         9    ...       214       215       216       217  \\\n",
       "0  0.232469 -0.074331  0.044818  ...  0.425284  0.331999  0.005170 -0.038969   \n",
       "1 -0.169231 -0.230769  0.569231  ...  0.538462 -0.015385 -0.723077  0.230769   \n",
       "\n",
       "        218       219       220       221       222       223  \n",
       "0 -0.014026  0.051305  0.158851 -0.001306 -0.139625 -0.448638  \n",
       "1 -0.323077 -0.138462  0.507692  0.507692 -0.261538 -0.415385  \n",
       "\n",
       "[2 rows x 224 columns]"
      ]
     },
     "metadata": {},
     "output_type": "display_data"
    },
    {
     "name": "stdout",
     "output_type": "stream",
     "text": [
      "R2 Score Valence:\t0.18\n"
     ]
    }
   ],
   "source": [
    "# # df3_v = df3_v.round(2)\n",
    "\n",
    "# display(df_v.head())\n",
    "# print(\"R2 Score Valence:\\t%0.2f\" % r2_v)"
   ]
  },
  {
   "cell_type": "markdown",
   "metadata": {},
   "source": [
    "REGRESSION"
   ]
  },
  {
   "cell_type": "code",
   "execution_count": 37,
   "metadata": {
    "collapsed": true
   },
   "outputs": [],
   "source": [
    "# scores_a = crosval(gpr_a,data,scaled_ar) #Arousal Regression\n",
    "# scores_v = crosval(gpr_v,data,scaled_val) #Arousal Regression"
   ]
  },
  {
   "cell_type": "markdown",
   "metadata": {},
   "source": [
    "AROUSAL"
   ]
  },
  {
   "cell_type": "code",
   "execution_count": 38,
   "metadata": {},
   "outputs": [
    {
     "name": "stdout",
     "output_type": "stream",
     "text": [
      "R2 Score Valence:\t [ 0.36184454  0.38061607  0.23235614  0.16438174  0.50039431  0.32495657\n",
      "  0.33524105  0.36362094  0.48388507  0.49279133]\n",
      "R2 Score Valence:\t0.36 (+/- 0.10)\n"
     ]
    }
   ],
   "source": [
    "# print(\"R2 Score Valence:\\t\",scores_a)\n",
    "# print(\"R2 Score Valence:\\t%0.2f (+/- %0.2f)\" % (scores_a.mean(), scores_a.std() ))"
   ]
  },
  {
   "cell_type": "markdown",
   "metadata": {},
   "source": [
    "VALENCE"
   ]
  },
  {
   "cell_type": "code",
   "execution_count": 39,
   "metadata": {},
   "outputs": [
    {
     "name": "stdout",
     "output_type": "stream",
     "text": [
      "R2 Score Valence:\t [-0.00685256  0.0467841  -0.00599621 -0.40592023  0.27848326  0.13690106\n",
      "  0.07824223  0.1137771   0.27757594 -0.00402122]\n",
      "R2 Score Valence:\t0.05 (+/- 0.18)\n"
     ]
    }
   ],
   "source": [
    "# print(\"R2 Score Valence:\\t\",scores_v)\n",
    "# print(\"R2 Score Valence:\\t%0.2f (+/- %0.2f)\" % (scores_v.mean(), scores_v.std() ))"
   ]
  },
  {
   "cell_type": "code",
   "execution_count": 40,
   "metadata": {
    "collapsed": true
   },
   "outputs": [],
   "source": [
    "# save_predict(df_a,df_v,datafitur)\n",
    "# save_model(trained_a,datafitur,'arousal/') #save model Arousal\n",
    "# save_model(trained_v,datafitur,'valence/') #save model Valence"
   ]
  },
  {
   "cell_type": "markdown",
   "metadata": {},
   "source": [
    "# CASE 4"
   ]
  },
  {
   "cell_type": "code",
   "execution_count": 41,
   "metadata": {},
   "outputs": [
    {
     "name": "stdout",
     "output_type": "stream",
     "text": [
      "(744, 24)\n"
     ]
    }
   ],
   "source": [
    "# datafitur =  \"case4_chroma\" #CASE 3\n",
    "# data,arousal_mean,valence_mean = load(datafitur) #Load\n",
    "# print(data.shape)\n",
    "\n",
    "# scaled_ar = minmax_scale(arousal_mean.values,feature_range=(-1, 1))\n",
    "# scaled_val = minmax_scale(valence_mean.values,feature_range=(-1, 1))\n",
    "\n",
    "# train_data_a, test_data_a, train_values_a, test_values_a = split(data,scaled_ar) #split arousal\n",
    "# train_data_v, test_data_v, train_values_v, test_values_v = split(data,scaled_val) #split valence"
   ]
  },
  {
   "cell_type": "markdown",
   "metadata": {},
   "source": [
    "INITIAL MODEL"
   ]
  },
  {
   "cell_type": "code",
   "execution_count": 42,
   "metadata": {
    "collapsed": true
   },
   "outputs": [],
   "source": [
    "# gpr_a = GPR(kernel=kernels, alpha=1e-10, \n",
    "#                     optimizer='fmin_l_bfgs_b', \n",
    "#                     n_restarts_optimizer=10, \n",
    "#                     normalize_y=True, copy_X_train=False, \n",
    "#                     random_state=1000) #init Arousal\n",
    "\n",
    "# gpr_v = GPR(kernel=kernels, alpha=1e-10, \n",
    "#                     optimizer='fmin_l_bfgs_b', \n",
    "#                     n_restarts_optimizer=10, \n",
    "#                     normalize_y=True, copy_X_train=False, \n",
    "#                     random_state=1000) #init Valence\n",
    "\n",
    "# # gpr_a = GPR()\n",
    "# # gpr_v = GPR()"
   ]
  },
  {
   "cell_type": "code",
   "execution_count": 43,
   "metadata": {},
   "outputs": [
    {
     "name": "stdout",
     "output_type": "stream",
     "text": [
      "arousal:\t RationalQuadratic(alpha=1, length_scale=1)\n",
      "valence:\t RationalQuadratic(alpha=1, length_scale=1)\n"
     ]
    }
   ],
   "source": [
    "# print(\"arousal:\\t\",gpr_a.kernel)\n",
    "# print(\"valence:\\t\",gpr_v.kernel)"
   ]
  },
  {
   "cell_type": "markdown",
   "metadata": {},
   "source": [
    "TRAIN"
   ]
  },
  {
   "cell_type": "code",
   "execution_count": 44,
   "metadata": {
    "collapsed": true
   },
   "outputs": [],
   "source": [
    "# trained_a = training(train_data_a,train_values_a,gpr_a)\n",
    "# trained_v = training(train_data_v,train_values_v,gpr_v)"
   ]
  },
  {
   "cell_type": "markdown",
   "metadata": {},
   "source": [
    "PREDICT"
   ]
  },
  {
   "cell_type": "code",
   "execution_count": 45,
   "metadata": {
    "collapsed": true
   },
   "outputs": [],
   "source": [
    "# # #Predict Arousal\n",
    "# pred_a,df_a = predict(test_data_a, test_values_a, trained_a)\n",
    "# # #Predict Valence\n",
    "# pred_v,df_v = predict(test_data_v, test_values_v, trained_v)\n",
    "\n",
    "# r2_a = score(pred_a,test_values_a) #Score Arousal\n",
    "# r2_v = score(pred_v,test_values_v) #Score Valence"
   ]
  },
  {
   "cell_type": "markdown",
   "metadata": {},
   "source": [
    "SET PARAM"
   ]
  },
  {
   "cell_type": "code",
   "execution_count": 46,
   "metadata": {},
   "outputs": [
    {
     "name": "stdout",
     "output_type": "stream",
     "text": [
      "arousal:\t RationalQuadratic(alpha=0.0209, length_scale=1.1)\n",
      "valence:\t RationalQuadratic(alpha=0.0166, length_scale=0.293)\n"
     ]
    }
   ],
   "source": [
    "# trained_a.set_params(kernel=trained_a.kernel_)\n",
    "# trained_v.set_params(kernel=trained_v.kernel_)\n",
    "\n",
    "# print(\"arousal:\\t\",trained_a.kernel)\n",
    "# print(\"valence:\\t\",trained_v.kernel)"
   ]
  },
  {
   "cell_type": "markdown",
   "metadata": {},
   "source": [
    "AROUSAL"
   ]
  },
  {
   "cell_type": "code",
   "execution_count": 47,
   "metadata": {
    "scrolled": true
   },
   "outputs": [
    {
     "data": {
      "text/html": [
       "<div>\n",
       "<style scoped>\n",
       "    .dataframe tbody tr th:only-of-type {\n",
       "        vertical-align: middle;\n",
       "    }\n",
       "\n",
       "    .dataframe tbody tr th {\n",
       "        vertical-align: top;\n",
       "    }\n",
       "\n",
       "    .dataframe thead th {\n",
       "        text-align: right;\n",
       "    }\n",
       "</style>\n",
       "<table border=\"1\" class=\"dataframe\">\n",
       "  <thead>\n",
       "    <tr style=\"text-align: right;\">\n",
       "      <th></th>\n",
       "      <th>0</th>\n",
       "      <th>1</th>\n",
       "      <th>2</th>\n",
       "      <th>3</th>\n",
       "      <th>4</th>\n",
       "      <th>5</th>\n",
       "      <th>6</th>\n",
       "      <th>7</th>\n",
       "      <th>8</th>\n",
       "      <th>9</th>\n",
       "      <th>...</th>\n",
       "      <th>214</th>\n",
       "      <th>215</th>\n",
       "      <th>216</th>\n",
       "      <th>217</th>\n",
       "      <th>218</th>\n",
       "      <th>219</th>\n",
       "      <th>220</th>\n",
       "      <th>221</th>\n",
       "      <th>222</th>\n",
       "      <th>223</th>\n",
       "    </tr>\n",
       "  </thead>\n",
       "  <tbody>\n",
       "    <tr>\n",
       "      <th>0</th>\n",
       "      <td>-0.166076</td>\n",
       "      <td>0.015782</td>\n",
       "      <td>0.032411</td>\n",
       "      <td>-0.295106</td>\n",
       "      <td>-0.235873</td>\n",
       "      <td>0.046819</td>\n",
       "      <td>-0.281654</td>\n",
       "      <td>0.129396</td>\n",
       "      <td>-0.415446</td>\n",
       "      <td>-0.198149</td>\n",
       "      <td>...</td>\n",
       "      <td>0.152288</td>\n",
       "      <td>2.376521e-01</td>\n",
       "      <td>0.086228</td>\n",
       "      <td>-0.214349</td>\n",
       "      <td>0.195289</td>\n",
       "      <td>0.163145</td>\n",
       "      <td>0.187824</td>\n",
       "      <td>0.267605</td>\n",
       "      <td>-0.438164</td>\n",
       "      <td>-0.147220</td>\n",
       "    </tr>\n",
       "    <tr>\n",
       "      <th>1</th>\n",
       "      <td>0.352941</td>\n",
       "      <td>0.264706</td>\n",
       "      <td>0.411765</td>\n",
       "      <td>-0.558824</td>\n",
       "      <td>-0.441176</td>\n",
       "      <td>-0.411765</td>\n",
       "      <td>-0.588235</td>\n",
       "      <td>0.235294</td>\n",
       "      <td>-0.411765</td>\n",
       "      <td>0.352941</td>\n",
       "      <td>...</td>\n",
       "      <td>0.588235</td>\n",
       "      <td>-2.220446e-16</td>\n",
       "      <td>-0.382353</td>\n",
       "      <td>0.235294</td>\n",
       "      <td>-0.088235</td>\n",
       "      <td>-0.029412</td>\n",
       "      <td>-0.058824</td>\n",
       "      <td>0.382353</td>\n",
       "      <td>-0.500000</td>\n",
       "      <td>-0.823529</td>\n",
       "    </tr>\n",
       "  </tbody>\n",
       "</table>\n",
       "<p>2 rows × 224 columns</p>\n",
       "</div>"
      ],
      "text/plain": [
       "        0         1         2         3         4         5         6    \\\n",
       "0 -0.166076  0.015782  0.032411 -0.295106 -0.235873  0.046819 -0.281654   \n",
       "1  0.352941  0.264706  0.411765 -0.558824 -0.441176 -0.411765 -0.588235   \n",
       "\n",
       "        7         8         9    ...       214           215       216  \\\n",
       "0  0.129396 -0.415446 -0.198149  ...  0.152288  2.376521e-01  0.086228   \n",
       "1  0.235294 -0.411765  0.352941  ...  0.588235 -2.220446e-16 -0.382353   \n",
       "\n",
       "        217       218       219       220       221       222       223  \n",
       "0 -0.214349  0.195289  0.163145  0.187824  0.267605 -0.438164 -0.147220  \n",
       "1  0.235294 -0.088235 -0.029412 -0.058824  0.382353 -0.500000 -0.823529  \n",
       "\n",
       "[2 rows x 224 columns]"
      ]
     },
     "metadata": {},
     "output_type": "display_data"
    },
    {
     "name": "stdout",
     "output_type": "stream",
     "text": [
      "R2 Score Arousal:\t0.30\n"
     ]
    }
   ],
   "source": [
    "# # df4_a = df4_a.round(2)\n",
    "\n",
    "# display(df_a.head())\n",
    "# print(\"R2 Score Arousal:\\t%0.2f\" % r2_a)"
   ]
  },
  {
   "cell_type": "markdown",
   "metadata": {},
   "source": [
    "VALENCE"
   ]
  },
  {
   "cell_type": "code",
   "execution_count": 48,
   "metadata": {},
   "outputs": [
    {
     "data": {
      "text/html": [
       "<div>\n",
       "<style scoped>\n",
       "    .dataframe tbody tr th:only-of-type {\n",
       "        vertical-align: middle;\n",
       "    }\n",
       "\n",
       "    .dataframe tbody tr th {\n",
       "        vertical-align: top;\n",
       "    }\n",
       "\n",
       "    .dataframe thead th {\n",
       "        text-align: right;\n",
       "    }\n",
       "</style>\n",
       "<table border=\"1\" class=\"dataframe\">\n",
       "  <thead>\n",
       "    <tr style=\"text-align: right;\">\n",
       "      <th></th>\n",
       "      <th>0</th>\n",
       "      <th>1</th>\n",
       "      <th>2</th>\n",
       "      <th>3</th>\n",
       "      <th>4</th>\n",
       "      <th>5</th>\n",
       "      <th>6</th>\n",
       "      <th>7</th>\n",
       "      <th>8</th>\n",
       "      <th>9</th>\n",
       "      <th>...</th>\n",
       "      <th>214</th>\n",
       "      <th>215</th>\n",
       "      <th>216</th>\n",
       "      <th>217</th>\n",
       "      <th>218</th>\n",
       "      <th>219</th>\n",
       "      <th>220</th>\n",
       "      <th>221</th>\n",
       "      <th>222</th>\n",
       "      <th>223</th>\n",
       "    </tr>\n",
       "  </thead>\n",
       "  <tbody>\n",
       "    <tr>\n",
       "      <th>0</th>\n",
       "      <td>-0.043168</td>\n",
       "      <td>0.118325</td>\n",
       "      <td>0.121003</td>\n",
       "      <td>-0.007602</td>\n",
       "      <td>0.105961</td>\n",
       "      <td>0.189216</td>\n",
       "      <td>-0.126455</td>\n",
       "      <td>0.105521</td>\n",
       "      <td>-0.106437</td>\n",
       "      <td>0.019301</td>\n",
       "      <td>...</td>\n",
       "      <td>0.038299</td>\n",
       "      <td>-0.060491</td>\n",
       "      <td>0.081303</td>\n",
       "      <td>-0.102756</td>\n",
       "      <td>0.114004</td>\n",
       "      <td>0.103763</td>\n",
       "      <td>0.095470</td>\n",
       "      <td>0.090000</td>\n",
       "      <td>-0.198415</td>\n",
       "      <td>0.028941</td>\n",
       "    </tr>\n",
       "    <tr>\n",
       "      <th>1</th>\n",
       "      <td>-0.661538</td>\n",
       "      <td>0.476923</td>\n",
       "      <td>0.353846</td>\n",
       "      <td>-0.661538</td>\n",
       "      <td>0.046154</td>\n",
       "      <td>-0.507692</td>\n",
       "      <td>-0.076923</td>\n",
       "      <td>-0.169231</td>\n",
       "      <td>-0.230769</td>\n",
       "      <td>0.569231</td>\n",
       "      <td>...</td>\n",
       "      <td>0.538462</td>\n",
       "      <td>-0.015385</td>\n",
       "      <td>-0.723077</td>\n",
       "      <td>0.230769</td>\n",
       "      <td>-0.323077</td>\n",
       "      <td>-0.138462</td>\n",
       "      <td>0.507692</td>\n",
       "      <td>0.507692</td>\n",
       "      <td>-0.261538</td>\n",
       "      <td>-0.415385</td>\n",
       "    </tr>\n",
       "  </tbody>\n",
       "</table>\n",
       "<p>2 rows × 224 columns</p>\n",
       "</div>"
      ],
      "text/plain": [
       "        0         1         2         3         4         5         6    \\\n",
       "0 -0.043168  0.118325  0.121003 -0.007602  0.105961  0.189216 -0.126455   \n",
       "1 -0.661538  0.476923  0.353846 -0.661538  0.046154 -0.507692 -0.076923   \n",
       "\n",
       "        7         8         9    ...       214       215       216       217  \\\n",
       "0  0.105521 -0.106437  0.019301  ...  0.038299 -0.060491  0.081303 -0.102756   \n",
       "1 -0.169231 -0.230769  0.569231  ...  0.538462 -0.015385 -0.723077  0.230769   \n",
       "\n",
       "        218       219       220       221       222       223  \n",
       "0  0.114004  0.103763  0.095470  0.090000 -0.198415  0.028941  \n",
       "1 -0.323077 -0.138462  0.507692  0.507692 -0.261538 -0.415385  \n",
       "\n",
       "[2 rows x 224 columns]"
      ]
     },
     "metadata": {},
     "output_type": "display_data"
    },
    {
     "name": "stdout",
     "output_type": "stream",
     "text": [
      "R2 Score Valence:\t0.12\n"
     ]
    }
   ],
   "source": [
    "# # df4_v = df4_v.round(2)\n",
    "\n",
    "# display(df_v.head())\n",
    "# print(\"R2 Score Valence:\\t%0.2f\" % r2_v)"
   ]
  },
  {
   "cell_type": "markdown",
   "metadata": {},
   "source": [
    "REGRESSION"
   ]
  },
  {
   "cell_type": "code",
   "execution_count": 49,
   "metadata": {
    "collapsed": true
   },
   "outputs": [],
   "source": [
    "# scores_a = crosval(gpr_a,data,scaled_ar) #Arousal Regression\n",
    "# scores_v = crosval(gpr_v,data,scaled_val) #Arousal Regression"
   ]
  },
  {
   "cell_type": "markdown",
   "metadata": {},
   "source": [
    "AROUSAL"
   ]
  },
  {
   "cell_type": "code",
   "execution_count": 50,
   "metadata": {},
   "outputs": [
    {
     "name": "stdout",
     "output_type": "stream",
     "text": [
      "R2 Score Valence:\t [ 0.1034202   0.46035405  0.23740986  0.14541156  0.32800845  0.15582182\n",
      "  0.25103286  0.13612791  0.2666567   0.36876318]\n",
      "R2 Score Valence:\t0.25 (+/- 0.11)\n"
     ]
    }
   ],
   "source": [
    "# print(\"R2 Score Valence:\\t\",scores_a)\n",
    "# print(\"R2 Score Valence:\\t%0.2f (+/- %0.2f)\" % (scores_a.mean(), scores_a.std() ))"
   ]
  },
  {
   "cell_type": "markdown",
   "metadata": {},
   "source": [
    "VALENCE"
   ]
  },
  {
   "cell_type": "code",
   "execution_count": 51,
   "metadata": {},
   "outputs": [
    {
     "name": "stdout",
     "output_type": "stream",
     "text": [
      "R2 Score Valence:\t [-0.24169455  0.01822491 -0.09965833 -0.20842456  0.16159612  0.13112291\n",
      "  0.08543193 -0.13022329  0.10762542  0.11371357]\n",
      "R2 Score Valence:\t-0.01 (+/- 0.14)\n"
     ]
    }
   ],
   "source": [
    "# print(\"R2 Score Valence:\\t\",scores_v)\n",
    "# print(\"R2 Score Valence:\\t%0.2f (+/- %0.2f)\" % (scores_v.mean(), scores_v.std() ))"
   ]
  },
  {
   "cell_type": "code",
   "execution_count": 52,
   "metadata": {
    "collapsed": true
   },
   "outputs": [],
   "source": [
    "# save_predict(df_a,df_v,datafitur)\n",
    "# save_model(trained_a,datafitur,'arousal/') #save model Arousal\n",
    "# save_model(trained_v,datafitur,'valence/') #save model Valence"
   ]
  },
  {
   "cell_type": "markdown",
   "metadata": {
    "collapsed": true
   },
   "source": [
    "# CASE 5"
   ]
  },
  {
   "cell_type": "code",
   "execution_count": 53,
   "metadata": {},
   "outputs": [
    {
     "name": "stdout",
     "output_type": "stream",
     "text": [
      "(744, 34)\n"
     ]
    }
   ],
   "source": [
    "datafitur = \"case5_mfcc_timbre\" #CASE 1\n",
    "\n",
    "data,arousal_mean,valence_mean = load(datafitur) #Load\n",
    "print(data.shape)\n",
    "\n",
    "scaled_ar = minmax_scale(arousal_mean.values,feature_range=(-1, 1))\n",
    "scaled_val = minmax_scale(valence_mean.values,feature_range=(-1, 1))\n",
    "\n",
    "#split arousal\n",
    "train_data_a, test_data_a, train_values_a, test_values_a = split(data,scaled_ar)\n",
    "#split valence\n",
    "train_data_v, test_data_v, train_values_v, test_values_v = split(data,scaled_val) "
   ]
  },
  {
   "cell_type": "code",
   "execution_count": 54,
   "metadata": {
    "collapsed": true
   },
   "outputs": [],
   "source": [
    "gpr_a = GPR(kernel=kernels, alpha=1e-10, \n",
    "                    optimizer='fmin_l_bfgs_b', \n",
    "                    n_restarts_optimizer=10, \n",
    "                    normalize_y=True, copy_X_train=False, \n",
    "                    random_state=1000) #init Arousal\n",
    "\n",
    "gpr_v = GPR(kernel=kernels, alpha=1e-10, \n",
    "                    optimizer='fmin_l_bfgs_b', \n",
    "                    n_restarts_optimizer=10, \n",
    "                    normalize_y=True, copy_X_train=False, \n",
    "                    random_state=1000) #init Arousal"
   ]
  },
  {
   "cell_type": "code",
   "execution_count": 55,
   "metadata": {},
   "outputs": [
    {
     "name": "stdout",
     "output_type": "stream",
     "text": [
      "arousal:\t RationalQuadratic(alpha=1, length_scale=1)\n",
      "arousal:\t RationalQuadratic(alpha=1, length_scale=1)\n"
     ]
    }
   ],
   "source": [
    "print(\"arousal:\\t\",gpr_a.kernel)\n",
    "print(\"arousal:\\t\",gpr_v.kernel)"
   ]
  },
  {
   "cell_type": "code",
   "execution_count": 56,
   "metadata": {
    "collapsed": true
   },
   "outputs": [],
   "source": [
    "trained_a = training(train_data_a,train_values_a,gpr_a)\n",
    "trained_v = training(train_data_v,train_values_v,gpr_v)"
   ]
  },
  {
   "cell_type": "code",
   "execution_count": 57,
   "metadata": {
    "collapsed": true
   },
   "outputs": [],
   "source": [
    "# #Predict Arousal\n",
    "pred_a,df_a = predict(test_data_a, test_values_a, trained_a)\n",
    "# #Predict Valence\n",
    "pred_v,df_v = predict(test_data_v, test_values_v, trained_v)\n",
    "\n",
    "r2_a = score(pred_a,test_values_a) #Score Arousal\n",
    "r2_v = score(pred_v,test_values_v) #Score Valence"
   ]
  },
  {
   "cell_type": "code",
   "execution_count": 58,
   "metadata": {},
   "outputs": [
    {
     "name": "stdout",
     "output_type": "stream",
     "text": [
      "arousal:\t RationalQuadratic(alpha=0.0296, length_scale=5.29)\n",
      "valence:\t RationalQuadratic(alpha=0.0301, length_scale=3.23)\n"
     ]
    }
   ],
   "source": [
    "trained_a.set_params(kernel=trained_a.kernel_)\n",
    "trained_v.set_params(kernel=trained_v.kernel_)\n",
    "\n",
    "print(\"arousal:\\t\",trained_a.kernel)\n",
    "print(\"valence:\\t\",trained_v.kernel)"
   ]
  },
  {
   "cell_type": "code",
   "execution_count": 59,
   "metadata": {},
   "outputs": [
    {
     "data": {
      "text/html": [
       "<div>\n",
       "<style scoped>\n",
       "    .dataframe tbody tr th:only-of-type {\n",
       "        vertical-align: middle;\n",
       "    }\n",
       "\n",
       "    .dataframe tbody tr th {\n",
       "        vertical-align: top;\n",
       "    }\n",
       "\n",
       "    .dataframe thead th {\n",
       "        text-align: right;\n",
       "    }\n",
       "</style>\n",
       "<table border=\"1\" class=\"dataframe\">\n",
       "  <thead>\n",
       "    <tr style=\"text-align: right;\">\n",
       "      <th></th>\n",
       "      <th>0</th>\n",
       "      <th>1</th>\n",
       "      <th>2</th>\n",
       "      <th>3</th>\n",
       "      <th>4</th>\n",
       "      <th>5</th>\n",
       "      <th>6</th>\n",
       "      <th>7</th>\n",
       "      <th>8</th>\n",
       "      <th>9</th>\n",
       "      <th>...</th>\n",
       "      <th>214</th>\n",
       "      <th>215</th>\n",
       "      <th>216</th>\n",
       "      <th>217</th>\n",
       "      <th>218</th>\n",
       "      <th>219</th>\n",
       "      <th>220</th>\n",
       "      <th>221</th>\n",
       "      <th>222</th>\n",
       "      <th>223</th>\n",
       "    </tr>\n",
       "  </thead>\n",
       "  <tbody>\n",
       "    <tr>\n",
       "      <th>0</th>\n",
       "      <td>0.016278</td>\n",
       "      <td>0.170735</td>\n",
       "      <td>0.474846</td>\n",
       "      <td>-0.518840</td>\n",
       "      <td>-0.384812</td>\n",
       "      <td>-0.160254</td>\n",
       "      <td>-0.841438</td>\n",
       "      <td>0.272844</td>\n",
       "      <td>-0.304816</td>\n",
       "      <td>-0.078031</td>\n",
       "      <td>...</td>\n",
       "      <td>0.470475</td>\n",
       "      <td>1.117669e-01</td>\n",
       "      <td>-0.278708</td>\n",
       "      <td>-0.288466</td>\n",
       "      <td>-0.055130</td>\n",
       "      <td>0.031812</td>\n",
       "      <td>0.323901</td>\n",
       "      <td>0.441927</td>\n",
       "      <td>-0.228143</td>\n",
       "      <td>-0.321499</td>\n",
       "    </tr>\n",
       "    <tr>\n",
       "      <th>1</th>\n",
       "      <td>0.352941</td>\n",
       "      <td>0.264706</td>\n",
       "      <td>0.411765</td>\n",
       "      <td>-0.558824</td>\n",
       "      <td>-0.441176</td>\n",
       "      <td>-0.411765</td>\n",
       "      <td>-0.588235</td>\n",
       "      <td>0.235294</td>\n",
       "      <td>-0.411765</td>\n",
       "      <td>0.352941</td>\n",
       "      <td>...</td>\n",
       "      <td>0.588235</td>\n",
       "      <td>-2.220446e-16</td>\n",
       "      <td>-0.382353</td>\n",
       "      <td>0.235294</td>\n",
       "      <td>-0.088235</td>\n",
       "      <td>-0.029412</td>\n",
       "      <td>-0.058824</td>\n",
       "      <td>0.382353</td>\n",
       "      <td>-0.500000</td>\n",
       "      <td>-0.823529</td>\n",
       "    </tr>\n",
       "  </tbody>\n",
       "</table>\n",
       "<p>2 rows × 224 columns</p>\n",
       "</div>"
      ],
      "text/plain": [
       "        0         1         2         3         4         5         6    \\\n",
       "0  0.016278  0.170735  0.474846 -0.518840 -0.384812 -0.160254 -0.841438   \n",
       "1  0.352941  0.264706  0.411765 -0.558824 -0.441176 -0.411765 -0.588235   \n",
       "\n",
       "        7         8         9    ...       214           215       216  \\\n",
       "0  0.272844 -0.304816 -0.078031  ...  0.470475  1.117669e-01 -0.278708   \n",
       "1  0.235294 -0.411765  0.352941  ...  0.588235 -2.220446e-16 -0.382353   \n",
       "\n",
       "        217       218       219       220       221       222       223  \n",
       "0 -0.288466 -0.055130  0.031812  0.323901  0.441927 -0.228143 -0.321499  \n",
       "1  0.235294 -0.088235 -0.029412 -0.058824  0.382353 -0.500000 -0.823529  \n",
       "\n",
       "[2 rows x 224 columns]"
      ]
     },
     "metadata": {},
     "output_type": "display_data"
    },
    {
     "name": "stdout",
     "output_type": "stream",
     "text": [
      "R2 Score Arousal:\t0.67\n"
     ]
    }
   ],
   "source": [
    "# df_a = df_a.round(2)\n",
    "\n",
    "display(df_a.head())\n",
    "print(\"R2 Score Arousal:\\t%0.2f\" % r2_a)"
   ]
  },
  {
   "cell_type": "code",
   "execution_count": 60,
   "metadata": {},
   "outputs": [
    {
     "data": {
      "text/html": [
       "<div>\n",
       "<style scoped>\n",
       "    .dataframe tbody tr th:only-of-type {\n",
       "        vertical-align: middle;\n",
       "    }\n",
       "\n",
       "    .dataframe tbody tr th {\n",
       "        vertical-align: top;\n",
       "    }\n",
       "\n",
       "    .dataframe thead th {\n",
       "        text-align: right;\n",
       "    }\n",
       "</style>\n",
       "<table border=\"1\" class=\"dataframe\">\n",
       "  <thead>\n",
       "    <tr style=\"text-align: right;\">\n",
       "      <th></th>\n",
       "      <th>0</th>\n",
       "      <th>1</th>\n",
       "      <th>2</th>\n",
       "      <th>3</th>\n",
       "      <th>4</th>\n",
       "      <th>5</th>\n",
       "      <th>6</th>\n",
       "      <th>7</th>\n",
       "      <th>8</th>\n",
       "      <th>9</th>\n",
       "      <th>...</th>\n",
       "      <th>214</th>\n",
       "      <th>215</th>\n",
       "      <th>216</th>\n",
       "      <th>217</th>\n",
       "      <th>218</th>\n",
       "      <th>219</th>\n",
       "      <th>220</th>\n",
       "      <th>221</th>\n",
       "      <th>222</th>\n",
       "      <th>223</th>\n",
       "    </tr>\n",
       "  </thead>\n",
       "  <tbody>\n",
       "    <tr>\n",
       "      <th>0</th>\n",
       "      <td>0.222327</td>\n",
       "      <td>0.230448</td>\n",
       "      <td>0.401023</td>\n",
       "      <td>-0.399627</td>\n",
       "      <td>-0.092528</td>\n",
       "      <td>-0.009170</td>\n",
       "      <td>-0.361141</td>\n",
       "      <td>0.322868</td>\n",
       "      <td>0.183116</td>\n",
       "      <td>0.112089</td>\n",
       "      <td>...</td>\n",
       "      <td>0.471568</td>\n",
       "      <td>0.497784</td>\n",
       "      <td>-0.284337</td>\n",
       "      <td>-0.190531</td>\n",
       "      <td>-0.048565</td>\n",
       "      <td>0.075346</td>\n",
       "      <td>0.174189</td>\n",
       "      <td>0.121875</td>\n",
       "      <td>-0.316413</td>\n",
       "      <td>-0.142669</td>\n",
       "    </tr>\n",
       "    <tr>\n",
       "      <th>1</th>\n",
       "      <td>-0.661538</td>\n",
       "      <td>0.476923</td>\n",
       "      <td>0.353846</td>\n",
       "      <td>-0.661538</td>\n",
       "      <td>0.046154</td>\n",
       "      <td>-0.507692</td>\n",
       "      <td>-0.076923</td>\n",
       "      <td>-0.169231</td>\n",
       "      <td>-0.230769</td>\n",
       "      <td>0.569231</td>\n",
       "      <td>...</td>\n",
       "      <td>0.538462</td>\n",
       "      <td>-0.015385</td>\n",
       "      <td>-0.723077</td>\n",
       "      <td>0.230769</td>\n",
       "      <td>-0.323077</td>\n",
       "      <td>-0.138462</td>\n",
       "      <td>0.507692</td>\n",
       "      <td>0.507692</td>\n",
       "      <td>-0.261538</td>\n",
       "      <td>-0.415385</td>\n",
       "    </tr>\n",
       "  </tbody>\n",
       "</table>\n",
       "<p>2 rows × 224 columns</p>\n",
       "</div>"
      ],
      "text/plain": [
       "        0         1         2         3         4         5         6    \\\n",
       "0  0.222327  0.230448  0.401023 -0.399627 -0.092528 -0.009170 -0.361141   \n",
       "1 -0.661538  0.476923  0.353846 -0.661538  0.046154 -0.507692 -0.076923   \n",
       "\n",
       "        7         8         9    ...       214       215       216       217  \\\n",
       "0  0.322868  0.183116  0.112089  ...  0.471568  0.497784 -0.284337 -0.190531   \n",
       "1 -0.169231 -0.230769  0.569231  ...  0.538462 -0.015385 -0.723077  0.230769   \n",
       "\n",
       "        218       219       220       221       222       223  \n",
       "0 -0.048565  0.075346  0.174189  0.121875 -0.316413 -0.142669  \n",
       "1 -0.323077 -0.138462  0.507692  0.507692 -0.261538 -0.415385  \n",
       "\n",
       "[2 rows x 224 columns]"
      ]
     },
     "metadata": {},
     "output_type": "display_data"
    },
    {
     "name": "stdout",
     "output_type": "stream",
     "text": [
      "R2 Score Valence: 0.37\n"
     ]
    }
   ],
   "source": [
    "# df_v = df_v.round(2)\n",
    "\n",
    "display(df_v.head())\n",
    "print(\"R2 Score Valence: %0.2f\" % r2_v)"
   ]
  },
  {
   "cell_type": "code",
   "execution_count": 61,
   "metadata": {
    "collapsed": true
   },
   "outputs": [],
   "source": [
    "scores_a = crosval(gpr_a,data,scaled_ar) #Arousal Regression\n",
    "scores_v = crosval(gpr_v,data,scaled_val) #Arousal Regression"
   ]
  },
  {
   "cell_type": "code",
   "execution_count": 62,
   "metadata": {},
   "outputs": [
    {
     "name": "stdout",
     "output_type": "stream",
     "text": [
      "R2 Score Valence:\t [ 0.47786951  0.54044672  0.58834367  0.63571148  0.65205551  0.61552497\n",
      "  0.63893716  0.65625517  0.59748882  0.58834416]\n",
      "R2 Score Valence:\t0.60 (+/- 0.05)\n"
     ]
    }
   ],
   "source": [
    "print(\"R2 Score Valence:\\t\",scores_a)\n",
    "print(\"R2 Score Valence:\\t%0.2f (+/- %0.2f)\" % (scores_a.mean(), scores_a.std() ))"
   ]
  },
  {
   "cell_type": "code",
   "execution_count": 63,
   "metadata": {
    "collapsed": true
   },
   "outputs": [],
   "source": [
    "save_predict(df_a.round(2),df_v.round(2),datafitur)\n",
    "save_model(trained_a,datafitur,'arousal/') #save model Arousal\n",
    "save_model(trained_v,datafitur,'valence/') #save model Valence"
   ]
  },
  {
   "cell_type": "markdown",
   "metadata": {},
   "source": [
    "# CASE 6"
   ]
  },
  {
   "cell_type": "code",
   "execution_count": 64,
   "metadata": {},
   "outputs": [
    {
     "name": "stdout",
     "output_type": "stream",
     "text": [
      "(744, 29)\n"
     ]
    }
   ],
   "source": [
    "datafitur = \"case6_mfcc_scf_sfm\" #CASE 2\n",
    "\n",
    "data,arousal_mean,valence_mean = load(datafitur) #Load\n",
    "print(data.shape)\n",
    "\n",
    "scaled_ar = minmax_scale(arousal_mean.values,feature_range=(-1, 1))\n",
    "scaled_val = minmax_scale(valence_mean.values,feature_range=(-1, 1))\n",
    "\n",
    "train_data_a, test_data_a, train_values_a, test_values_a = split(data,scaled_ar) #split arousal\n",
    "train_data_v, test_data_v, train_values_v, test_values_v = split(data,scaled_val) #split valence"
   ]
  },
  {
   "cell_type": "code",
   "execution_count": 65,
   "metadata": {
    "collapsed": true
   },
   "outputs": [],
   "source": [
    "gpr_a = GPR(kernel=kernels, alpha=1e-10, \n",
    "                    optimizer='fmin_l_bfgs_b', \n",
    "                    n_restarts_optimizer=10, \n",
    "                    normalize_y=True, copy_X_train=False, \n",
    "                    random_state=1000) #init Valence\n",
    "\n",
    "gpr_v = GPR(kernel=kernels, alpha=1e-10, \n",
    "                    optimizer='fmin_l_bfgs_b', \n",
    "                    n_restarts_optimizer=10, \n",
    "                    normalize_y=True, copy_X_train=False, \n",
    "                    random_state=1000) #init Valence"
   ]
  },
  {
   "cell_type": "code",
   "execution_count": 66,
   "metadata": {},
   "outputs": [
    {
     "name": "stdout",
     "output_type": "stream",
     "text": [
      "arousal:\t RationalQuadratic(alpha=1, length_scale=1)\n",
      "valence:\t RationalQuadratic(alpha=1, length_scale=1)\n"
     ]
    }
   ],
   "source": [
    "print(\"arousal:\\t\",gpr_a.kernel)\n",
    "print(\"valence:\\t\",gpr_v.kernel)"
   ]
  },
  {
   "cell_type": "code",
   "execution_count": 67,
   "metadata": {
    "collapsed": true
   },
   "outputs": [],
   "source": [
    "trained_a = training(train_data_a,train_values_a,gpr_a)\n",
    "trained_v = training(train_data_v,train_values_v,gpr_v)"
   ]
  },
  {
   "cell_type": "code",
   "execution_count": 68,
   "metadata": {
    "collapsed": true
   },
   "outputs": [],
   "source": [
    "# #Predict Arousal\n",
    "pred_a,df2_a = predict(test_data_a, test_values_a, trained_a)\n",
    "# #Predict Valence\n",
    "pred_v,df2_v = predict(test_data_v, test_values_v, trained_v)\n",
    "\n",
    "r2_a = score(pred_a,test_values_a) #Score Arousal\n",
    "r2_v = score(pred_v,test_values_v) #Score Valence"
   ]
  },
  {
   "cell_type": "code",
   "execution_count": 69,
   "metadata": {},
   "outputs": [
    {
     "name": "stdout",
     "output_type": "stream",
     "text": [
      "arousal:\t RationalQuadratic(alpha=0.0291, length_scale=4.31)\n",
      "valence:\t RationalQuadratic(alpha=0.031, length_scale=2.19)\n"
     ]
    }
   ],
   "source": [
    "trained_a.set_params(kernel=trained_a.kernel_)\n",
    "trained_v.set_params(kernel=trained_v.kernel_)\n",
    "\n",
    "print(\"arousal:\\t\",trained_a.kernel)\n",
    "print(\"valence:\\t\",trained_v.kernel)"
   ]
  },
  {
   "cell_type": "code",
   "execution_count": 70,
   "metadata": {},
   "outputs": [
    {
     "data": {
      "text/html": [
       "<div>\n",
       "<style scoped>\n",
       "    .dataframe tbody tr th:only-of-type {\n",
       "        vertical-align: middle;\n",
       "    }\n",
       "\n",
       "    .dataframe tbody tr th {\n",
       "        vertical-align: top;\n",
       "    }\n",
       "\n",
       "    .dataframe thead th {\n",
       "        text-align: right;\n",
       "    }\n",
       "</style>\n",
       "<table border=\"1\" class=\"dataframe\">\n",
       "  <thead>\n",
       "    <tr style=\"text-align: right;\">\n",
       "      <th></th>\n",
       "      <th>0</th>\n",
       "      <th>1</th>\n",
       "      <th>2</th>\n",
       "      <th>3</th>\n",
       "      <th>4</th>\n",
       "      <th>5</th>\n",
       "      <th>6</th>\n",
       "      <th>7</th>\n",
       "      <th>8</th>\n",
       "      <th>9</th>\n",
       "      <th>...</th>\n",
       "      <th>214</th>\n",
       "      <th>215</th>\n",
       "      <th>216</th>\n",
       "      <th>217</th>\n",
       "      <th>218</th>\n",
       "      <th>219</th>\n",
       "      <th>220</th>\n",
       "      <th>221</th>\n",
       "      <th>222</th>\n",
       "      <th>223</th>\n",
       "    </tr>\n",
       "  </thead>\n",
       "  <tbody>\n",
       "    <tr>\n",
       "      <th>0</th>\n",
       "      <td>0.016278</td>\n",
       "      <td>0.170735</td>\n",
       "      <td>0.474846</td>\n",
       "      <td>-0.518840</td>\n",
       "      <td>-0.384812</td>\n",
       "      <td>-0.160254</td>\n",
       "      <td>-0.841438</td>\n",
       "      <td>0.272844</td>\n",
       "      <td>-0.304816</td>\n",
       "      <td>-0.078031</td>\n",
       "      <td>...</td>\n",
       "      <td>0.470475</td>\n",
       "      <td>1.117669e-01</td>\n",
       "      <td>-0.278708</td>\n",
       "      <td>-0.288466</td>\n",
       "      <td>-0.055130</td>\n",
       "      <td>0.031812</td>\n",
       "      <td>0.323901</td>\n",
       "      <td>0.441927</td>\n",
       "      <td>-0.228143</td>\n",
       "      <td>-0.321499</td>\n",
       "    </tr>\n",
       "    <tr>\n",
       "      <th>1</th>\n",
       "      <td>0.352941</td>\n",
       "      <td>0.264706</td>\n",
       "      <td>0.411765</td>\n",
       "      <td>-0.558824</td>\n",
       "      <td>-0.441176</td>\n",
       "      <td>-0.411765</td>\n",
       "      <td>-0.588235</td>\n",
       "      <td>0.235294</td>\n",
       "      <td>-0.411765</td>\n",
       "      <td>0.352941</td>\n",
       "      <td>...</td>\n",
       "      <td>0.588235</td>\n",
       "      <td>-2.220446e-16</td>\n",
       "      <td>-0.382353</td>\n",
       "      <td>0.235294</td>\n",
       "      <td>-0.088235</td>\n",
       "      <td>-0.029412</td>\n",
       "      <td>-0.058824</td>\n",
       "      <td>0.382353</td>\n",
       "      <td>-0.500000</td>\n",
       "      <td>-0.823529</td>\n",
       "    </tr>\n",
       "  </tbody>\n",
       "</table>\n",
       "<p>2 rows × 224 columns</p>\n",
       "</div>"
      ],
      "text/plain": [
       "        0         1         2         3         4         5         6    \\\n",
       "0  0.016278  0.170735  0.474846 -0.518840 -0.384812 -0.160254 -0.841438   \n",
       "1  0.352941  0.264706  0.411765 -0.558824 -0.441176 -0.411765 -0.588235   \n",
       "\n",
       "        7         8         9    ...       214           215       216  \\\n",
       "0  0.272844 -0.304816 -0.078031  ...  0.470475  1.117669e-01 -0.278708   \n",
       "1  0.235294 -0.411765  0.352941  ...  0.588235 -2.220446e-16 -0.382353   \n",
       "\n",
       "        217       218       219       220       221       222       223  \n",
       "0 -0.288466 -0.055130  0.031812  0.323901  0.441927 -0.228143 -0.321499  \n",
       "1  0.235294 -0.088235 -0.029412 -0.058824  0.382353 -0.500000 -0.823529  \n",
       "\n",
       "[2 rows x 224 columns]"
      ]
     },
     "metadata": {},
     "output_type": "display_data"
    },
    {
     "name": "stdout",
     "output_type": "stream",
     "text": [
      "R2 Score Arousal:\t0.65\n"
     ]
    }
   ],
   "source": [
    "# df_a = df_a.round(2)\n",
    "\n",
    "display(df_a.head())\n",
    "print(\"R2 Score Arousal:\\t%0.2f\" % r2_a)"
   ]
  },
  {
   "cell_type": "code",
   "execution_count": 71,
   "metadata": {},
   "outputs": [
    {
     "data": {
      "text/html": [
       "<div>\n",
       "<style scoped>\n",
       "    .dataframe tbody tr th:only-of-type {\n",
       "        vertical-align: middle;\n",
       "    }\n",
       "\n",
       "    .dataframe tbody tr th {\n",
       "        vertical-align: top;\n",
       "    }\n",
       "\n",
       "    .dataframe thead th {\n",
       "        text-align: right;\n",
       "    }\n",
       "</style>\n",
       "<table border=\"1\" class=\"dataframe\">\n",
       "  <thead>\n",
       "    <tr style=\"text-align: right;\">\n",
       "      <th></th>\n",
       "      <th>0</th>\n",
       "      <th>1</th>\n",
       "      <th>2</th>\n",
       "      <th>3</th>\n",
       "      <th>4</th>\n",
       "      <th>5</th>\n",
       "      <th>6</th>\n",
       "      <th>7</th>\n",
       "      <th>8</th>\n",
       "      <th>9</th>\n",
       "      <th>...</th>\n",
       "      <th>214</th>\n",
       "      <th>215</th>\n",
       "      <th>216</th>\n",
       "      <th>217</th>\n",
       "      <th>218</th>\n",
       "      <th>219</th>\n",
       "      <th>220</th>\n",
       "      <th>221</th>\n",
       "      <th>222</th>\n",
       "      <th>223</th>\n",
       "    </tr>\n",
       "  </thead>\n",
       "  <tbody>\n",
       "    <tr>\n",
       "      <th>0</th>\n",
       "      <td>0.222327</td>\n",
       "      <td>0.230448</td>\n",
       "      <td>0.401023</td>\n",
       "      <td>-0.399627</td>\n",
       "      <td>-0.092528</td>\n",
       "      <td>-0.009170</td>\n",
       "      <td>-0.361141</td>\n",
       "      <td>0.322868</td>\n",
       "      <td>0.183116</td>\n",
       "      <td>0.112089</td>\n",
       "      <td>...</td>\n",
       "      <td>0.471568</td>\n",
       "      <td>0.497784</td>\n",
       "      <td>-0.284337</td>\n",
       "      <td>-0.190531</td>\n",
       "      <td>-0.048565</td>\n",
       "      <td>0.075346</td>\n",
       "      <td>0.174189</td>\n",
       "      <td>0.121875</td>\n",
       "      <td>-0.316413</td>\n",
       "      <td>-0.142669</td>\n",
       "    </tr>\n",
       "    <tr>\n",
       "      <th>1</th>\n",
       "      <td>-0.661538</td>\n",
       "      <td>0.476923</td>\n",
       "      <td>0.353846</td>\n",
       "      <td>-0.661538</td>\n",
       "      <td>0.046154</td>\n",
       "      <td>-0.507692</td>\n",
       "      <td>-0.076923</td>\n",
       "      <td>-0.169231</td>\n",
       "      <td>-0.230769</td>\n",
       "      <td>0.569231</td>\n",
       "      <td>...</td>\n",
       "      <td>0.538462</td>\n",
       "      <td>-0.015385</td>\n",
       "      <td>-0.723077</td>\n",
       "      <td>0.230769</td>\n",
       "      <td>-0.323077</td>\n",
       "      <td>-0.138462</td>\n",
       "      <td>0.507692</td>\n",
       "      <td>0.507692</td>\n",
       "      <td>-0.261538</td>\n",
       "      <td>-0.415385</td>\n",
       "    </tr>\n",
       "  </tbody>\n",
       "</table>\n",
       "<p>2 rows × 224 columns</p>\n",
       "</div>"
      ],
      "text/plain": [
       "        0         1         2         3         4         5         6    \\\n",
       "0  0.222327  0.230448  0.401023 -0.399627 -0.092528 -0.009170 -0.361141   \n",
       "1 -0.661538  0.476923  0.353846 -0.661538  0.046154 -0.507692 -0.076923   \n",
       "\n",
       "        7         8         9    ...       214       215       216       217  \\\n",
       "0  0.322868  0.183116  0.112089  ...  0.471568  0.497784 -0.284337 -0.190531   \n",
       "1 -0.169231 -0.230769  0.569231  ...  0.538462 -0.015385 -0.723077  0.230769   \n",
       "\n",
       "        218       219       220       221       222       223  \n",
       "0 -0.048565  0.075346  0.174189  0.121875 -0.316413 -0.142669  \n",
       "1 -0.323077 -0.138462  0.507692  0.507692 -0.261538 -0.415385  \n",
       "\n",
       "[2 rows x 224 columns]"
      ]
     },
     "metadata": {},
     "output_type": "display_data"
    },
    {
     "name": "stdout",
     "output_type": "stream",
     "text": [
      "R2 Score Valence:\t0.30\n"
     ]
    }
   ],
   "source": [
    "# df_v = df_v.round(2)\n",
    "\n",
    "display(df_v.head())\n",
    "print(\"R2 Score Valence:\\t%0.2f\" % r2_v)"
   ]
  },
  {
   "cell_type": "code",
   "execution_count": 72,
   "metadata": {
    "collapsed": true
   },
   "outputs": [],
   "source": [
    "scores_a = crosval(gpr_a,data,scaled_ar) #Arousal Regression\n",
    "scores_v = crosval(gpr_v,data,scaled_val) #Arousal Regression"
   ]
  },
  {
   "cell_type": "code",
   "execution_count": 73,
   "metadata": {},
   "outputs": [
    {
     "name": "stdout",
     "output_type": "stream",
     "text": [
      "R2 Score Valence:\t [ 0.45545574  0.47801045  0.50688759  0.51253698  0.64877666  0.58806205\n",
      "  0.53400999  0.58018095  0.61744577  0.55961276]\n",
      "R2 Score Valence:\t0.55 (+/- 0.06)\n"
     ]
    }
   ],
   "source": [
    "print(\"R2 Score Valence:\\t\",scores_a)\n",
    "print(\"R2 Score Valence:\\t%0.2f (+/- %0.2f)\" % (scores_a.mean(), scores_a.std() ))"
   ]
  },
  {
   "cell_type": "code",
   "execution_count": 74,
   "metadata": {},
   "outputs": [
    {
     "name": "stdout",
     "output_type": "stream",
     "text": [
      "R2 Score Valence:\t [ 0.12596241  0.07628778  0.05535565 -0.15064585  0.37972019  0.15839883\n",
      "  0.30809136  0.22163003  0.28405813  0.09239119]\n",
      "R2 Score Valence:\t0.16 (+/- 0.14)\n"
     ]
    }
   ],
   "source": [
    "print(\"R2 Score Valence:\\t\",scores_v)\n",
    "print(\"R2 Score Valence:\\t%0.2f (+/- %0.2f)\" % (scores_v.mean(), scores_v.std() ))"
   ]
  },
  {
   "cell_type": "code",
   "execution_count": 75,
   "metadata": {
    "collapsed": true
   },
   "outputs": [],
   "source": [
    "save_predict(df_a.round(2),df_v.round(2),datafitur)\n",
    "save_model(trained_a,datafitur,'arousal/') #save model Arousal\n",
    "save_model(trained_v,datafitur,'valence/') #save model Valence"
   ]
  },
  {
   "cell_type": "markdown",
   "metadata": {},
   "source": [
    "# CASE 7"
   ]
  },
  {
   "cell_type": "code",
   "execution_count": 76,
   "metadata": {},
   "outputs": [
    {
     "name": "stdout",
     "output_type": "stream",
     "text": [
      "(744, 50)\n"
     ]
    }
   ],
   "source": [
    "datafitur =  \"case7_mfcc_chroma\" #CASE 3\n",
    "data,arousal_mean,valence_mean = load(datafitur) #Load\n",
    "print(data.shape)\n",
    "\n",
    "scaled_ar = minmax_scale(arousal_mean.values,feature_range=(-1, 1))\n",
    "scaled_val = minmax_scale(valence_mean.values,feature_range=(-1, 1))\n",
    "\n",
    "train_data_a, test_data_a, train_values_a, test_values_a = split(data,scaled_ar) #split arousal\n",
    "train_data_v, test_data_v, train_values_v, test_values_v = split(data,scaled_val) #split valence"
   ]
  },
  {
   "cell_type": "code",
   "execution_count": 77,
   "metadata": {
    "collapsed": true
   },
   "outputs": [],
   "source": [
    "gpr_a = GPR(kernel=kernels, alpha=1e-10, \n",
    "                    optimizer='fmin_l_bfgs_b', \n",
    "                    n_restarts_optimizer=10, \n",
    "                    normalize_y=True, copy_X_train=False, \n",
    "                    random_state=1000) #init Arousal\n",
    "\n",
    "gpr_v = GPR(kernel=kernels, alpha=1e-10, \n",
    "                    optimizer='fmin_l_bfgs_b', \n",
    "                    n_restarts_optimizer=10, \n",
    "                    normalize_y=True, copy_X_train=False, \n",
    "                    random_state=1000) #init Valence"
   ]
  },
  {
   "cell_type": "code",
   "execution_count": 78,
   "metadata": {},
   "outputs": [
    {
     "name": "stdout",
     "output_type": "stream",
     "text": [
      "arousal:\t RationalQuadratic(alpha=1, length_scale=1)\n",
      "valence:\t RationalQuadratic(alpha=1, length_scale=1)\n"
     ]
    }
   ],
   "source": [
    "print(\"arousal:\\t\",gpr_a.kernel)\n",
    "print(\"valence:\\t\",gpr_v.kernel)"
   ]
  },
  {
   "cell_type": "code",
   "execution_count": 79,
   "metadata": {
    "collapsed": true
   },
   "outputs": [],
   "source": [
    "trained_a = training(train_data_a,train_values_a,gpr_a)\n",
    "trained_v = training(train_data_v,train_values_v,gpr_v)"
   ]
  },
  {
   "cell_type": "code",
   "execution_count": 81,
   "metadata": {
    "collapsed": true
   },
   "outputs": [],
   "source": [
    "# #Predict Arousal\n",
    "pred_a,df2_a = predict(test_data_a, test_values_a, trained_a)\n",
    "# #Predict Valence\n",
    "pred_v,df2_v = predict(test_data_v, test_values_v, trained_v)\n",
    "\n",
    "r2_a = score(pred_a,test_values_a) #Score Arousal\n",
    "r2_v = score(pred_v,test_values_v) #Score Valence"
   ]
  },
  {
   "cell_type": "code",
   "execution_count": 82,
   "metadata": {},
   "outputs": [
    {
     "name": "stdout",
     "output_type": "stream",
     "text": [
      "arousal:\t RationalQuadratic(alpha=0.0429, length_scale=8.2)\n",
      "valence:\t RationalQuadratic(alpha=0.0396, length_scale=4.24)\n"
     ]
    }
   ],
   "source": [
    "trained_a.set_params(kernel=trained_a.kernel_)\n",
    "trained_v.set_params(kernel=trained_v.kernel_)\n",
    "\n",
    "print(\"arousal:\\t\",trained_a.kernel)\n",
    "print(\"valence:\\t\",trained_v.kernel)"
   ]
  },
  {
   "cell_type": "code",
   "execution_count": 83,
   "metadata": {},
   "outputs": [
    {
     "data": {
      "text/html": [
       "<div>\n",
       "<style scoped>\n",
       "    .dataframe tbody tr th:only-of-type {\n",
       "        vertical-align: middle;\n",
       "    }\n",
       "\n",
       "    .dataframe tbody tr th {\n",
       "        vertical-align: top;\n",
       "    }\n",
       "\n",
       "    .dataframe thead th {\n",
       "        text-align: right;\n",
       "    }\n",
       "</style>\n",
       "<table border=\"1\" class=\"dataframe\">\n",
       "  <thead>\n",
       "    <tr style=\"text-align: right;\">\n",
       "      <th></th>\n",
       "      <th>0</th>\n",
       "      <th>1</th>\n",
       "      <th>2</th>\n",
       "      <th>3</th>\n",
       "      <th>4</th>\n",
       "      <th>5</th>\n",
       "      <th>6</th>\n",
       "      <th>7</th>\n",
       "      <th>8</th>\n",
       "      <th>9</th>\n",
       "      <th>...</th>\n",
       "      <th>214</th>\n",
       "      <th>215</th>\n",
       "      <th>216</th>\n",
       "      <th>217</th>\n",
       "      <th>218</th>\n",
       "      <th>219</th>\n",
       "      <th>220</th>\n",
       "      <th>221</th>\n",
       "      <th>222</th>\n",
       "      <th>223</th>\n",
       "    </tr>\n",
       "  </thead>\n",
       "  <tbody>\n",
       "    <tr>\n",
       "      <th>0</th>\n",
       "      <td>0.016278</td>\n",
       "      <td>0.170735</td>\n",
       "      <td>0.474846</td>\n",
       "      <td>-0.518840</td>\n",
       "      <td>-0.384812</td>\n",
       "      <td>-0.160254</td>\n",
       "      <td>-0.841438</td>\n",
       "      <td>0.272844</td>\n",
       "      <td>-0.304816</td>\n",
       "      <td>-0.078031</td>\n",
       "      <td>...</td>\n",
       "      <td>0.470475</td>\n",
       "      <td>1.117669e-01</td>\n",
       "      <td>-0.278708</td>\n",
       "      <td>-0.288466</td>\n",
       "      <td>-0.055130</td>\n",
       "      <td>0.031812</td>\n",
       "      <td>0.323901</td>\n",
       "      <td>0.441927</td>\n",
       "      <td>-0.228143</td>\n",
       "      <td>-0.321499</td>\n",
       "    </tr>\n",
       "    <tr>\n",
       "      <th>1</th>\n",
       "      <td>0.352941</td>\n",
       "      <td>0.264706</td>\n",
       "      <td>0.411765</td>\n",
       "      <td>-0.558824</td>\n",
       "      <td>-0.441176</td>\n",
       "      <td>-0.411765</td>\n",
       "      <td>-0.588235</td>\n",
       "      <td>0.235294</td>\n",
       "      <td>-0.411765</td>\n",
       "      <td>0.352941</td>\n",
       "      <td>...</td>\n",
       "      <td>0.588235</td>\n",
       "      <td>-2.220446e-16</td>\n",
       "      <td>-0.382353</td>\n",
       "      <td>0.235294</td>\n",
       "      <td>-0.088235</td>\n",
       "      <td>-0.029412</td>\n",
       "      <td>-0.058824</td>\n",
       "      <td>0.382353</td>\n",
       "      <td>-0.500000</td>\n",
       "      <td>-0.823529</td>\n",
       "    </tr>\n",
       "  </tbody>\n",
       "</table>\n",
       "<p>2 rows × 224 columns</p>\n",
       "</div>"
      ],
      "text/plain": [
       "        0         1         2         3         4         5         6    \\\n",
       "0  0.016278  0.170735  0.474846 -0.518840 -0.384812 -0.160254 -0.841438   \n",
       "1  0.352941  0.264706  0.411765 -0.558824 -0.441176 -0.411765 -0.588235   \n",
       "\n",
       "        7         8         9    ...       214           215       216  \\\n",
       "0  0.272844 -0.304816 -0.078031  ...  0.470475  1.117669e-01 -0.278708   \n",
       "1  0.235294 -0.411765  0.352941  ...  0.588235 -2.220446e-16 -0.382353   \n",
       "\n",
       "        217       218       219       220       221       222       223  \n",
       "0 -0.288466 -0.055130  0.031812  0.323901  0.441927 -0.228143 -0.321499  \n",
       "1  0.235294 -0.088235 -0.029412 -0.058824  0.382353 -0.500000 -0.823529  \n",
       "\n",
       "[2 rows x 224 columns]"
      ]
     },
     "metadata": {},
     "output_type": "display_data"
    },
    {
     "name": "stdout",
     "output_type": "stream",
     "text": [
      "R2 Score Arousal:\t0.64\n"
     ]
    }
   ],
   "source": [
    "# df_a = df_a.round(2)\n",
    "\n",
    "display(df_a.head())\n",
    "print(\"R2 Score Arousal:\\t%0.2f\" % r2_a)"
   ]
  },
  {
   "cell_type": "code",
   "execution_count": 84,
   "metadata": {},
   "outputs": [
    {
     "data": {
      "text/html": [
       "<div>\n",
       "<style scoped>\n",
       "    .dataframe tbody tr th:only-of-type {\n",
       "        vertical-align: middle;\n",
       "    }\n",
       "\n",
       "    .dataframe tbody tr th {\n",
       "        vertical-align: top;\n",
       "    }\n",
       "\n",
       "    .dataframe thead th {\n",
       "        text-align: right;\n",
       "    }\n",
       "</style>\n",
       "<table border=\"1\" class=\"dataframe\">\n",
       "  <thead>\n",
       "    <tr style=\"text-align: right;\">\n",
       "      <th></th>\n",
       "      <th>0</th>\n",
       "      <th>1</th>\n",
       "      <th>2</th>\n",
       "      <th>3</th>\n",
       "      <th>4</th>\n",
       "      <th>5</th>\n",
       "      <th>6</th>\n",
       "      <th>7</th>\n",
       "      <th>8</th>\n",
       "      <th>9</th>\n",
       "      <th>...</th>\n",
       "      <th>214</th>\n",
       "      <th>215</th>\n",
       "      <th>216</th>\n",
       "      <th>217</th>\n",
       "      <th>218</th>\n",
       "      <th>219</th>\n",
       "      <th>220</th>\n",
       "      <th>221</th>\n",
       "      <th>222</th>\n",
       "      <th>223</th>\n",
       "    </tr>\n",
       "  </thead>\n",
       "  <tbody>\n",
       "    <tr>\n",
       "      <th>0</th>\n",
       "      <td>0.222327</td>\n",
       "      <td>0.230448</td>\n",
       "      <td>0.401023</td>\n",
       "      <td>-0.399627</td>\n",
       "      <td>-0.092528</td>\n",
       "      <td>-0.009170</td>\n",
       "      <td>-0.361141</td>\n",
       "      <td>0.322868</td>\n",
       "      <td>0.183116</td>\n",
       "      <td>0.112089</td>\n",
       "      <td>...</td>\n",
       "      <td>0.471568</td>\n",
       "      <td>0.497784</td>\n",
       "      <td>-0.284337</td>\n",
       "      <td>-0.190531</td>\n",
       "      <td>-0.048565</td>\n",
       "      <td>0.075346</td>\n",
       "      <td>0.174189</td>\n",
       "      <td>0.121875</td>\n",
       "      <td>-0.316413</td>\n",
       "      <td>-0.142669</td>\n",
       "    </tr>\n",
       "    <tr>\n",
       "      <th>1</th>\n",
       "      <td>-0.661538</td>\n",
       "      <td>0.476923</td>\n",
       "      <td>0.353846</td>\n",
       "      <td>-0.661538</td>\n",
       "      <td>0.046154</td>\n",
       "      <td>-0.507692</td>\n",
       "      <td>-0.076923</td>\n",
       "      <td>-0.169231</td>\n",
       "      <td>-0.230769</td>\n",
       "      <td>0.569231</td>\n",
       "      <td>...</td>\n",
       "      <td>0.538462</td>\n",
       "      <td>-0.015385</td>\n",
       "      <td>-0.723077</td>\n",
       "      <td>0.230769</td>\n",
       "      <td>-0.323077</td>\n",
       "      <td>-0.138462</td>\n",
       "      <td>0.507692</td>\n",
       "      <td>0.507692</td>\n",
       "      <td>-0.261538</td>\n",
       "      <td>-0.415385</td>\n",
       "    </tr>\n",
       "  </tbody>\n",
       "</table>\n",
       "<p>2 rows × 224 columns</p>\n",
       "</div>"
      ],
      "text/plain": [
       "        0         1         2         3         4         5         6    \\\n",
       "0  0.222327  0.230448  0.401023 -0.399627 -0.092528 -0.009170 -0.361141   \n",
       "1 -0.661538  0.476923  0.353846 -0.661538  0.046154 -0.507692 -0.076923   \n",
       "\n",
       "        7         8         9    ...       214       215       216       217  \\\n",
       "0  0.322868  0.183116  0.112089  ...  0.471568  0.497784 -0.284337 -0.190531   \n",
       "1 -0.169231 -0.230769  0.569231  ...  0.538462 -0.015385 -0.723077  0.230769   \n",
       "\n",
       "        218       219       220       221       222       223  \n",
       "0 -0.048565  0.075346  0.174189  0.121875 -0.316413 -0.142669  \n",
       "1 -0.323077 -0.138462  0.507692  0.507692 -0.261538 -0.415385  \n",
       "\n",
       "[2 rows x 224 columns]"
      ]
     },
     "metadata": {},
     "output_type": "display_data"
    },
    {
     "name": "stdout",
     "output_type": "stream",
     "text": [
      "R2 Score Valence:\t0.30\n"
     ]
    }
   ],
   "source": [
    "# df3_v = df3_v.round(2)\n",
    "\n",
    "display(df_v.head())\n",
    "print(\"R2 Score Valence:\\t%0.2f\" % r2_v)"
   ]
  },
  {
   "cell_type": "code",
   "execution_count": 85,
   "metadata": {},
   "outputs": [
    {
     "name": "stderr",
     "output_type": "stream",
     "text": [
      "C:\\Users\\5115100178\\AppData\\Local\\Continuum\\Anaconda3\\envs\\py36\\lib\\site-packages\\sklearn\\gaussian_process\\gpr.py:480: ConvergenceWarning: fmin_l_bfgs_b terminated abnormally with the  state: {'grad': array([ -2.31106767e-05,   3.91243545e-05]), 'task': b'ABNORMAL_TERMINATION_IN_LNSRCH', 'funcalls': 87, 'nit': 30, 'warnflag': 2}\n",
      "  ConvergenceWarning)\n"
     ]
    }
   ],
   "source": [
    "scores_a = crosval(gpr_a,data,scaled_ar) #Arousal Regression\n",
    "scores_v = crosval(gpr_v,data,scaled_val) #Arousal Regression"
   ]
  },
  {
   "cell_type": "code",
   "execution_count": 86,
   "metadata": {},
   "outputs": [
    {
     "name": "stdout",
     "output_type": "stream",
     "text": [
      "R2 Score Valence:\t [ 0.37468237  0.53662287  0.57013278  0.43497099  0.66881624  0.61838933\n",
      "  0.55379652  0.60246305  0.66787576  0.60730803]\n",
      "R2 Score Valence:\t0.56 (+/- 0.09)\n"
     ]
    }
   ],
   "source": [
    "print(\"R2 Score Valence:\\t\",scores_a)\n",
    "print(\"R2 Score Valence:\\t%0.2f (+/- %0.2f)\" % (scores_a.mean(), scores_a.std() ))"
   ]
  },
  {
   "cell_type": "code",
   "execution_count": 87,
   "metadata": {},
   "outputs": [
    {
     "name": "stdout",
     "output_type": "stream",
     "text": [
      "R2 Score Valence:\t [ 0.06316631  0.1516973   0.02906961 -0.2023374   0.30719042  0.21637556\n",
      "  0.28965173  0.15994789  0.25399253  0.23508197]\n",
      "R2 Score Valence:\t0.15 (+/- 0.15)\n"
     ]
    }
   ],
   "source": [
    "print(\"R2 Score Valence:\\t\",scores_v)\n",
    "print(\"R2 Score Valence:\\t%0.2f (+/- %0.2f)\" % (scores_v.mean(), scores_v.std() ))"
   ]
  },
  {
   "cell_type": "code",
   "execution_count": 88,
   "metadata": {
    "collapsed": true
   },
   "outputs": [],
   "source": [
    "save_predict(df_a.round(2),df_v.round(2),datafitur)\n",
    "save_model(trained_a,datafitur,'arousal/') #save model Arousal\n",
    "save_model(trained_v,datafitur,'valence/') #save model Valence"
   ]
  },
  {
   "cell_type": "markdown",
   "metadata": {},
   "source": [
    "# CASE 8"
   ]
  },
  {
   "cell_type": "code",
   "execution_count": 89,
   "metadata": {},
   "outputs": [
    {
     "name": "stdout",
     "output_type": "stream",
     "text": [
      "(744, 37)\n"
     ]
    }
   ],
   "source": [
    "datafitur =  \"case8_mfcc_timbre_scf_sfm\" #CASE 3\n",
    "data,arousal_mean,valence_mean = load(datafitur) #Load\n",
    "print(data.shape)\n",
    "\n",
    "scaled_ar = minmax_scale(arousal_mean.values,feature_range=(-1, 1))\n",
    "scaled_val = minmax_scale(valence_mean.values,feature_range=(-1, 1))\n",
    "\n",
    "train_data_a, test_data_a, train_values_a, test_values_a = split(data,scaled_ar) #split arousal\n",
    "train_data_v, test_data_v, train_values_v, test_values_v = split(data,scaled_val) #split valence"
   ]
  },
  {
   "cell_type": "code",
   "execution_count": 90,
   "metadata": {
    "collapsed": true
   },
   "outputs": [],
   "source": [
    "gpr_a = GPR(kernel=kernels, alpha=1e-10, \n",
    "                    optimizer='fmin_l_bfgs_b', \n",
    "                    n_restarts_optimizer=10, \n",
    "                    normalize_y=True, copy_X_train=False, \n",
    "                    random_state=1000) #init Arousal\n",
    "\n",
    "gpr_v = GPR(kernel=kernels, alpha=1e-10, \n",
    "                    optimizer='fmin_l_bfgs_b', \n",
    "                    n_restarts_optimizer=10, \n",
    "                    normalize_y=True, copy_X_train=False, \n",
    "                    random_state=1000) #init Valence"
   ]
  },
  {
   "cell_type": "code",
   "execution_count": 91,
   "metadata": {},
   "outputs": [
    {
     "name": "stdout",
     "output_type": "stream",
     "text": [
      "arousal:\t RationalQuadratic(alpha=1, length_scale=1)\n",
      "valence:\t RationalQuadratic(alpha=1, length_scale=1)\n"
     ]
    }
   ],
   "source": [
    "print(\"arousal:\\t\",gpr_a.kernel)\n",
    "print(\"valence:\\t\",gpr_v.kernel)"
   ]
  },
  {
   "cell_type": "code",
   "execution_count": 92,
   "metadata": {
    "collapsed": true
   },
   "outputs": [],
   "source": [
    "trained_a = training(train_data_a,train_values_a,gpr_a)\n",
    "trained_v = training(train_data_v,train_values_v,gpr_v)"
   ]
  },
  {
   "cell_type": "code",
   "execution_count": 93,
   "metadata": {
    "collapsed": true
   },
   "outputs": [],
   "source": [
    "# #Predict Arousal\n",
    "pred_a,df2_a = predict(test_data_a, test_values_a, trained_a)\n",
    "# #Predict Valence\n",
    "pred_v,df2_v = predict(test_data_v, test_values_v, trained_v)\n",
    "\n",
    "r2_a = score(pred_a,test_values_a) #Score Arousal\n",
    "r2_v = score(pred_v,test_values_v) #Score Valence"
   ]
  },
  {
   "cell_type": "code",
   "execution_count": 94,
   "metadata": {},
   "outputs": [
    {
     "name": "stdout",
     "output_type": "stream",
     "text": [
      "arousal:\t RationalQuadratic(alpha=0.0282, length_scale=5.4)\n",
      "valence:\t RationalQuadratic(alpha=0.0304, length_scale=3.4)\n"
     ]
    }
   ],
   "source": [
    "trained_a.set_params(kernel=trained_a.kernel_)\n",
    "trained_v.set_params(kernel=trained_v.kernel_)\n",
    "\n",
    "print(\"arousal:\\t\",trained_a.kernel)\n",
    "print(\"valence:\\t\",trained_v.kernel)"
   ]
  },
  {
   "cell_type": "code",
   "execution_count": 95,
   "metadata": {},
   "outputs": [
    {
     "data": {
      "text/html": [
       "<div>\n",
       "<style scoped>\n",
       "    .dataframe tbody tr th:only-of-type {\n",
       "        vertical-align: middle;\n",
       "    }\n",
       "\n",
       "    .dataframe tbody tr th {\n",
       "        vertical-align: top;\n",
       "    }\n",
       "\n",
       "    .dataframe thead th {\n",
       "        text-align: right;\n",
       "    }\n",
       "</style>\n",
       "<table border=\"1\" class=\"dataframe\">\n",
       "  <thead>\n",
       "    <tr style=\"text-align: right;\">\n",
       "      <th></th>\n",
       "      <th>0</th>\n",
       "      <th>1</th>\n",
       "      <th>2</th>\n",
       "      <th>3</th>\n",
       "      <th>4</th>\n",
       "      <th>5</th>\n",
       "      <th>6</th>\n",
       "      <th>7</th>\n",
       "      <th>8</th>\n",
       "      <th>9</th>\n",
       "      <th>...</th>\n",
       "      <th>214</th>\n",
       "      <th>215</th>\n",
       "      <th>216</th>\n",
       "      <th>217</th>\n",
       "      <th>218</th>\n",
       "      <th>219</th>\n",
       "      <th>220</th>\n",
       "      <th>221</th>\n",
       "      <th>222</th>\n",
       "      <th>223</th>\n",
       "    </tr>\n",
       "  </thead>\n",
       "  <tbody>\n",
       "    <tr>\n",
       "      <th>0</th>\n",
       "      <td>0.016278</td>\n",
       "      <td>0.170735</td>\n",
       "      <td>0.474846</td>\n",
       "      <td>-0.518840</td>\n",
       "      <td>-0.384812</td>\n",
       "      <td>-0.160254</td>\n",
       "      <td>-0.841438</td>\n",
       "      <td>0.272844</td>\n",
       "      <td>-0.304816</td>\n",
       "      <td>-0.078031</td>\n",
       "      <td>...</td>\n",
       "      <td>0.470475</td>\n",
       "      <td>1.117669e-01</td>\n",
       "      <td>-0.278708</td>\n",
       "      <td>-0.288466</td>\n",
       "      <td>-0.055130</td>\n",
       "      <td>0.031812</td>\n",
       "      <td>0.323901</td>\n",
       "      <td>0.441927</td>\n",
       "      <td>-0.228143</td>\n",
       "      <td>-0.321499</td>\n",
       "    </tr>\n",
       "    <tr>\n",
       "      <th>1</th>\n",
       "      <td>0.352941</td>\n",
       "      <td>0.264706</td>\n",
       "      <td>0.411765</td>\n",
       "      <td>-0.558824</td>\n",
       "      <td>-0.441176</td>\n",
       "      <td>-0.411765</td>\n",
       "      <td>-0.588235</td>\n",
       "      <td>0.235294</td>\n",
       "      <td>-0.411765</td>\n",
       "      <td>0.352941</td>\n",
       "      <td>...</td>\n",
       "      <td>0.588235</td>\n",
       "      <td>-2.220446e-16</td>\n",
       "      <td>-0.382353</td>\n",
       "      <td>0.235294</td>\n",
       "      <td>-0.088235</td>\n",
       "      <td>-0.029412</td>\n",
       "      <td>-0.058824</td>\n",
       "      <td>0.382353</td>\n",
       "      <td>-0.500000</td>\n",
       "      <td>-0.823529</td>\n",
       "    </tr>\n",
       "  </tbody>\n",
       "</table>\n",
       "<p>2 rows × 224 columns</p>\n",
       "</div>"
      ],
      "text/plain": [
       "        0         1         2         3         4         5         6    \\\n",
       "0  0.016278  0.170735  0.474846 -0.518840 -0.384812 -0.160254 -0.841438   \n",
       "1  0.352941  0.264706  0.411765 -0.558824 -0.441176 -0.411765 -0.588235   \n",
       "\n",
       "        7         8         9    ...       214           215       216  \\\n",
       "0  0.272844 -0.304816 -0.078031  ...  0.470475  1.117669e-01 -0.278708   \n",
       "1  0.235294 -0.411765  0.352941  ...  0.588235 -2.220446e-16 -0.382353   \n",
       "\n",
       "        217       218       219       220       221       222       223  \n",
       "0 -0.288466 -0.055130  0.031812  0.323901  0.441927 -0.228143 -0.321499  \n",
       "1  0.235294 -0.088235 -0.029412 -0.058824  0.382353 -0.500000 -0.823529  \n",
       "\n",
       "[2 rows x 224 columns]"
      ]
     },
     "metadata": {},
     "output_type": "display_data"
    },
    {
     "name": "stdout",
     "output_type": "stream",
     "text": [
      "R2 Score Arousal:\t0.68\n"
     ]
    }
   ],
   "source": [
    "# df_a = df_a.round(2)\n",
    "\n",
    "display(df_a.head())\n",
    "print(\"R2 Score Arousal:\\t%0.2f\" % r2_a)"
   ]
  },
  {
   "cell_type": "code",
   "execution_count": 96,
   "metadata": {},
   "outputs": [
    {
     "data": {
      "text/html": [
       "<div>\n",
       "<style scoped>\n",
       "    .dataframe tbody tr th:only-of-type {\n",
       "        vertical-align: middle;\n",
       "    }\n",
       "\n",
       "    .dataframe tbody tr th {\n",
       "        vertical-align: top;\n",
       "    }\n",
       "\n",
       "    .dataframe thead th {\n",
       "        text-align: right;\n",
       "    }\n",
       "</style>\n",
       "<table border=\"1\" class=\"dataframe\">\n",
       "  <thead>\n",
       "    <tr style=\"text-align: right;\">\n",
       "      <th></th>\n",
       "      <th>0</th>\n",
       "      <th>1</th>\n",
       "      <th>2</th>\n",
       "      <th>3</th>\n",
       "      <th>4</th>\n",
       "      <th>5</th>\n",
       "      <th>6</th>\n",
       "      <th>7</th>\n",
       "      <th>8</th>\n",
       "      <th>9</th>\n",
       "      <th>...</th>\n",
       "      <th>214</th>\n",
       "      <th>215</th>\n",
       "      <th>216</th>\n",
       "      <th>217</th>\n",
       "      <th>218</th>\n",
       "      <th>219</th>\n",
       "      <th>220</th>\n",
       "      <th>221</th>\n",
       "      <th>222</th>\n",
       "      <th>223</th>\n",
       "    </tr>\n",
       "  </thead>\n",
       "  <tbody>\n",
       "    <tr>\n",
       "      <th>0</th>\n",
       "      <td>0.222327</td>\n",
       "      <td>0.230448</td>\n",
       "      <td>0.401023</td>\n",
       "      <td>-0.399627</td>\n",
       "      <td>-0.092528</td>\n",
       "      <td>-0.009170</td>\n",
       "      <td>-0.361141</td>\n",
       "      <td>0.322868</td>\n",
       "      <td>0.183116</td>\n",
       "      <td>0.112089</td>\n",
       "      <td>...</td>\n",
       "      <td>0.471568</td>\n",
       "      <td>0.497784</td>\n",
       "      <td>-0.284337</td>\n",
       "      <td>-0.190531</td>\n",
       "      <td>-0.048565</td>\n",
       "      <td>0.075346</td>\n",
       "      <td>0.174189</td>\n",
       "      <td>0.121875</td>\n",
       "      <td>-0.316413</td>\n",
       "      <td>-0.142669</td>\n",
       "    </tr>\n",
       "    <tr>\n",
       "      <th>1</th>\n",
       "      <td>-0.661538</td>\n",
       "      <td>0.476923</td>\n",
       "      <td>0.353846</td>\n",
       "      <td>-0.661538</td>\n",
       "      <td>0.046154</td>\n",
       "      <td>-0.507692</td>\n",
       "      <td>-0.076923</td>\n",
       "      <td>-0.169231</td>\n",
       "      <td>-0.230769</td>\n",
       "      <td>0.569231</td>\n",
       "      <td>...</td>\n",
       "      <td>0.538462</td>\n",
       "      <td>-0.015385</td>\n",
       "      <td>-0.723077</td>\n",
       "      <td>0.230769</td>\n",
       "      <td>-0.323077</td>\n",
       "      <td>-0.138462</td>\n",
       "      <td>0.507692</td>\n",
       "      <td>0.507692</td>\n",
       "      <td>-0.261538</td>\n",
       "      <td>-0.415385</td>\n",
       "    </tr>\n",
       "  </tbody>\n",
       "</table>\n",
       "<p>2 rows × 224 columns</p>\n",
       "</div>"
      ],
      "text/plain": [
       "        0         1         2         3         4         5         6    \\\n",
       "0  0.222327  0.230448  0.401023 -0.399627 -0.092528 -0.009170 -0.361141   \n",
       "1 -0.661538  0.476923  0.353846 -0.661538  0.046154 -0.507692 -0.076923   \n",
       "\n",
       "        7         8         9    ...       214       215       216       217  \\\n",
       "0  0.322868  0.183116  0.112089  ...  0.471568  0.497784 -0.284337 -0.190531   \n",
       "1 -0.169231 -0.230769  0.569231  ...  0.538462 -0.015385 -0.723077  0.230769   \n",
       "\n",
       "        218       219       220       221       222       223  \n",
       "0 -0.048565  0.075346  0.174189  0.121875 -0.316413 -0.142669  \n",
       "1 -0.323077 -0.138462  0.507692  0.507692 -0.261538 -0.415385  \n",
       "\n",
       "[2 rows x 224 columns]"
      ]
     },
     "metadata": {},
     "output_type": "display_data"
    },
    {
     "name": "stdout",
     "output_type": "stream",
     "text": [
      "R2 Score Valence:\t0.38\n"
     ]
    }
   ],
   "source": [
    "# df3_v = df3_v.round(2)\n",
    "\n",
    "display(df_v.head())\n",
    "print(\"R2 Score Valence:\\t%0.2f\" % r2_v)"
   ]
  },
  {
   "cell_type": "code",
   "execution_count": 97,
   "metadata": {
    "collapsed": true
   },
   "outputs": [],
   "source": [
    "scores_a = crosval(gpr_a,data,scaled_ar) #Arousal Regression\n",
    "scores_v = crosval(gpr_v,data,scaled_val) #Arousal Regression"
   ]
  },
  {
   "cell_type": "code",
   "execution_count": 98,
   "metadata": {},
   "outputs": [
    {
     "name": "stdout",
     "output_type": "stream",
     "text": [
      "R2 Score Valence:\t [ 0.50404329  0.52933545  0.55470409  0.63116308  0.65790515  0.63105683\n",
      "  0.64902058  0.64100453  0.59219615  0.60790025]\n",
      "R2 Score Valence:\t0.60 (+/- 0.05)\n"
     ]
    }
   ],
   "source": [
    "print(\"R2 Score Valence:\\t\",scores_a)\n",
    "print(\"R2 Score Valence:\\t%0.2f (+/- %0.2f)\" % (scores_a.mean(), scores_a.std() ))"
   ]
  },
  {
   "cell_type": "code",
   "execution_count": 99,
   "metadata": {},
   "outputs": [
    {
     "name": "stdout",
     "output_type": "stream",
     "text": [
      "R2 Score Valence:\t [ 0.34787595  0.30856516  0.25407681  0.12942156  0.51124481  0.26999648\n",
      "  0.45645089  0.33966892  0.31398068  0.17234916]\n",
      "R2 Score Valence:\t0.31 (+/- 0.11)\n"
     ]
    }
   ],
   "source": [
    "print(\"R2 Score Valence:\\t\",scores_v)\n",
    "print(\"R2 Score Valence:\\t%0.2f (+/- %0.2f)\" % (scores_v.mean(), scores_v.std() ))"
   ]
  },
  {
   "cell_type": "code",
   "execution_count": 100,
   "metadata": {
    "collapsed": true
   },
   "outputs": [],
   "source": [
    "save_predict(df_a.round(2),df_v.round(2),datafitur)\n",
    "save_model(trained_a,datafitur,'arousal/') #save model Arousal\n",
    "save_model(trained_v,datafitur,'valence/') #save model Valence"
   ]
  },
  {
   "cell_type": "markdown",
   "metadata": {},
   "source": [
    "# CASE 9"
   ]
  },
  {
   "cell_type": "code",
   "execution_count": 125,
   "metadata": {},
   "outputs": [
    {
     "name": "stdout",
     "output_type": "stream",
     "text": [
      "(744, 58)\n"
     ]
    }
   ],
   "source": [
    "datafitur =  \"case9_mfcc_timbre_chroma\" #CASE 3\n",
    "data,arousal_mean,valence_mean = load(datafitur) #Load\n",
    "print(data.shape)\n",
    "\n",
    "scaled_ar = minmax_scale(arousal_mean.values,feature_range=(-1, 1))\n",
    "scaled_val = minmax_scale(valence_mean.values,feature_range=(-1, 1))\n",
    "\n",
    "train_data_a, test_data_a, train_values_a, test_values_a = split(data,scaled_ar) #split arousal\n",
    "train_data_v, test_data_v, train_values_v, test_values_v = split(data,scaled_val) #split valence"
   ]
  },
  {
   "cell_type": "code",
   "execution_count": 126,
   "metadata": {
    "collapsed": true
   },
   "outputs": [],
   "source": [
    "gpr_a = GPR(kernel=kernels, alpha=1e-10, \n",
    "                    optimizer='fmin_l_bfgs_b', \n",
    "                    n_restarts_optimizer=10, \n",
    "                    normalize_y=True, copy_X_train=False, \n",
    "                    random_state=1000) #init Arousal\n",
    "\n",
    "gpr_v = GPR(kernel=kernels, alpha=1e-10, \n",
    "                    optimizer='fmin_l_bfgs_b', \n",
    "                    n_restarts_optimizer=10, \n",
    "                    normalize_y=True, copy_X_train=False, \n",
    "                    random_state=1000) #init Valence"
   ]
  },
  {
   "cell_type": "code",
   "execution_count": 127,
   "metadata": {},
   "outputs": [
    {
     "name": "stdout",
     "output_type": "stream",
     "text": [
      "arousal:\t RationalQuadratic(alpha=1, length_scale=1)\n",
      "valence:\t RationalQuadratic(alpha=1, length_scale=1)\n"
     ]
    }
   ],
   "source": [
    "print(\"arousal:\\t\",gpr_a.kernel)\n",
    "print(\"valence:\\t\",gpr_v.kernel)"
   ]
  },
  {
   "cell_type": "code",
   "execution_count": 128,
   "metadata": {
    "collapsed": true
   },
   "outputs": [],
   "source": [
    "trained_a = training(train_data_a,train_values_a,gpr_a)\n",
    "trained_v = training(train_data_v,train_values_v,gpr_v)"
   ]
  },
  {
   "cell_type": "code",
   "execution_count": 129,
   "metadata": {
    "collapsed": true
   },
   "outputs": [],
   "source": [
    "# #Predict Arousal\n",
    "pred_a,df2_a = predict(test_data_a, test_values_a, trained_a)\n",
    "# #Predict Valence\n",
    "pred_v,df2_v = predict(test_data_v, test_values_v, trained_v)\n",
    "\n",
    "r2_a = score(pred_a,test_values_a) #Score Arousal\n",
    "r2_v = score(pred_v,test_values_v) #Score Valence"
   ]
  },
  {
   "cell_type": "code",
   "execution_count": 130,
   "metadata": {},
   "outputs": [
    {
     "name": "stdout",
     "output_type": "stream",
     "text": [
      "arousal:\t RationalQuadratic(alpha=0.0394, length_scale=9.31)\n",
      "valence:\t RationalQuadratic(alpha=0.0403, length_scale=6.12)\n"
     ]
    }
   ],
   "source": [
    "trained_a.set_params(kernel=trained_a.kernel_)\n",
    "trained_v.set_params(kernel=trained_v.kernel_)\n",
    "\n",
    "print(\"arousal:\\t\",trained_a.kernel)\n",
    "print(\"valence:\\t\",trained_v.kernel)"
   ]
  },
  {
   "cell_type": "code",
   "execution_count": 131,
   "metadata": {},
   "outputs": [
    {
     "data": {
      "text/html": [
       "<div>\n",
       "<style scoped>\n",
       "    .dataframe tbody tr th:only-of-type {\n",
       "        vertical-align: middle;\n",
       "    }\n",
       "\n",
       "    .dataframe tbody tr th {\n",
       "        vertical-align: top;\n",
       "    }\n",
       "\n",
       "    .dataframe thead th {\n",
       "        text-align: right;\n",
       "    }\n",
       "</style>\n",
       "<table border=\"1\" class=\"dataframe\">\n",
       "  <thead>\n",
       "    <tr style=\"text-align: right;\">\n",
       "      <th></th>\n",
       "      <th>0</th>\n",
       "      <th>1</th>\n",
       "      <th>2</th>\n",
       "      <th>3</th>\n",
       "      <th>4</th>\n",
       "      <th>5</th>\n",
       "      <th>6</th>\n",
       "      <th>7</th>\n",
       "      <th>8</th>\n",
       "      <th>9</th>\n",
       "      <th>...</th>\n",
       "      <th>214</th>\n",
       "      <th>215</th>\n",
       "      <th>216</th>\n",
       "      <th>217</th>\n",
       "      <th>218</th>\n",
       "      <th>219</th>\n",
       "      <th>220</th>\n",
       "      <th>221</th>\n",
       "      <th>222</th>\n",
       "      <th>223</th>\n",
       "    </tr>\n",
       "  </thead>\n",
       "  <tbody>\n",
       "    <tr>\n",
       "      <th>0</th>\n",
       "      <td>0.016278</td>\n",
       "      <td>0.170735</td>\n",
       "      <td>0.474846</td>\n",
       "      <td>-0.518840</td>\n",
       "      <td>-0.384812</td>\n",
       "      <td>-0.160254</td>\n",
       "      <td>-0.841438</td>\n",
       "      <td>0.272844</td>\n",
       "      <td>-0.304816</td>\n",
       "      <td>-0.078031</td>\n",
       "      <td>...</td>\n",
       "      <td>0.470475</td>\n",
       "      <td>1.117669e-01</td>\n",
       "      <td>-0.278708</td>\n",
       "      <td>-0.288466</td>\n",
       "      <td>-0.055130</td>\n",
       "      <td>0.031812</td>\n",
       "      <td>0.323901</td>\n",
       "      <td>0.441927</td>\n",
       "      <td>-0.228143</td>\n",
       "      <td>-0.321499</td>\n",
       "    </tr>\n",
       "    <tr>\n",
       "      <th>1</th>\n",
       "      <td>0.352941</td>\n",
       "      <td>0.264706</td>\n",
       "      <td>0.411765</td>\n",
       "      <td>-0.558824</td>\n",
       "      <td>-0.441176</td>\n",
       "      <td>-0.411765</td>\n",
       "      <td>-0.588235</td>\n",
       "      <td>0.235294</td>\n",
       "      <td>-0.411765</td>\n",
       "      <td>0.352941</td>\n",
       "      <td>...</td>\n",
       "      <td>0.588235</td>\n",
       "      <td>-2.220446e-16</td>\n",
       "      <td>-0.382353</td>\n",
       "      <td>0.235294</td>\n",
       "      <td>-0.088235</td>\n",
       "      <td>-0.029412</td>\n",
       "      <td>-0.058824</td>\n",
       "      <td>0.382353</td>\n",
       "      <td>-0.500000</td>\n",
       "      <td>-0.823529</td>\n",
       "    </tr>\n",
       "  </tbody>\n",
       "</table>\n",
       "<p>2 rows × 224 columns</p>\n",
       "</div>"
      ],
      "text/plain": [
       "        0         1         2         3         4         5         6    \\\n",
       "0  0.016278  0.170735  0.474846 -0.518840 -0.384812 -0.160254 -0.841438   \n",
       "1  0.352941  0.264706  0.411765 -0.558824 -0.441176 -0.411765 -0.588235   \n",
       "\n",
       "        7         8         9    ...       214           215       216  \\\n",
       "0  0.272844 -0.304816 -0.078031  ...  0.470475  1.117669e-01 -0.278708   \n",
       "1  0.235294 -0.411765  0.352941  ...  0.588235 -2.220446e-16 -0.382353   \n",
       "\n",
       "        217       218       219       220       221       222       223  \n",
       "0 -0.288466 -0.055130  0.031812  0.323901  0.441927 -0.228143 -0.321499  \n",
       "1  0.235294 -0.088235 -0.029412 -0.058824  0.382353 -0.500000 -0.823529  \n",
       "\n",
       "[2 rows x 224 columns]"
      ]
     },
     "metadata": {},
     "output_type": "display_data"
    },
    {
     "name": "stdout",
     "output_type": "stream",
     "text": [
      "R2 Score Arousal:\t0.67\n"
     ]
    }
   ],
   "source": [
    "# df_a = df_a.round(2)\n",
    "\n",
    "display(df_a.head())\n",
    "print(\"R2 Score Arousal:\\t%0.2f\" % r2_a)"
   ]
  },
  {
   "cell_type": "code",
   "execution_count": 132,
   "metadata": {},
   "outputs": [
    {
     "data": {
      "text/html": [
       "<div>\n",
       "<style scoped>\n",
       "    .dataframe tbody tr th:only-of-type {\n",
       "        vertical-align: middle;\n",
       "    }\n",
       "\n",
       "    .dataframe tbody tr th {\n",
       "        vertical-align: top;\n",
       "    }\n",
       "\n",
       "    .dataframe thead th {\n",
       "        text-align: right;\n",
       "    }\n",
       "</style>\n",
       "<table border=\"1\" class=\"dataframe\">\n",
       "  <thead>\n",
       "    <tr style=\"text-align: right;\">\n",
       "      <th></th>\n",
       "      <th>0</th>\n",
       "      <th>1</th>\n",
       "      <th>2</th>\n",
       "      <th>3</th>\n",
       "      <th>4</th>\n",
       "      <th>5</th>\n",
       "      <th>6</th>\n",
       "      <th>7</th>\n",
       "      <th>8</th>\n",
       "      <th>9</th>\n",
       "      <th>...</th>\n",
       "      <th>214</th>\n",
       "      <th>215</th>\n",
       "      <th>216</th>\n",
       "      <th>217</th>\n",
       "      <th>218</th>\n",
       "      <th>219</th>\n",
       "      <th>220</th>\n",
       "      <th>221</th>\n",
       "      <th>222</th>\n",
       "      <th>223</th>\n",
       "    </tr>\n",
       "  </thead>\n",
       "  <tbody>\n",
       "    <tr>\n",
       "      <th>0</th>\n",
       "      <td>0.222327</td>\n",
       "      <td>0.230448</td>\n",
       "      <td>0.401023</td>\n",
       "      <td>-0.399627</td>\n",
       "      <td>-0.092528</td>\n",
       "      <td>-0.009170</td>\n",
       "      <td>-0.361141</td>\n",
       "      <td>0.322868</td>\n",
       "      <td>0.183116</td>\n",
       "      <td>0.112089</td>\n",
       "      <td>...</td>\n",
       "      <td>0.471568</td>\n",
       "      <td>0.497784</td>\n",
       "      <td>-0.284337</td>\n",
       "      <td>-0.190531</td>\n",
       "      <td>-0.048565</td>\n",
       "      <td>0.075346</td>\n",
       "      <td>0.174189</td>\n",
       "      <td>0.121875</td>\n",
       "      <td>-0.316413</td>\n",
       "      <td>-0.142669</td>\n",
       "    </tr>\n",
       "    <tr>\n",
       "      <th>1</th>\n",
       "      <td>-0.661538</td>\n",
       "      <td>0.476923</td>\n",
       "      <td>0.353846</td>\n",
       "      <td>-0.661538</td>\n",
       "      <td>0.046154</td>\n",
       "      <td>-0.507692</td>\n",
       "      <td>-0.076923</td>\n",
       "      <td>-0.169231</td>\n",
       "      <td>-0.230769</td>\n",
       "      <td>0.569231</td>\n",
       "      <td>...</td>\n",
       "      <td>0.538462</td>\n",
       "      <td>-0.015385</td>\n",
       "      <td>-0.723077</td>\n",
       "      <td>0.230769</td>\n",
       "      <td>-0.323077</td>\n",
       "      <td>-0.138462</td>\n",
       "      <td>0.507692</td>\n",
       "      <td>0.507692</td>\n",
       "      <td>-0.261538</td>\n",
       "      <td>-0.415385</td>\n",
       "    </tr>\n",
       "  </tbody>\n",
       "</table>\n",
       "<p>2 rows × 224 columns</p>\n",
       "</div>"
      ],
      "text/plain": [
       "        0         1         2         3         4         5         6    \\\n",
       "0  0.222327  0.230448  0.401023 -0.399627 -0.092528 -0.009170 -0.361141   \n",
       "1 -0.661538  0.476923  0.353846 -0.661538  0.046154 -0.507692 -0.076923   \n",
       "\n",
       "        7         8         9    ...       214       215       216       217  \\\n",
       "0  0.322868  0.183116  0.112089  ...  0.471568  0.497784 -0.284337 -0.190531   \n",
       "1 -0.169231 -0.230769  0.569231  ...  0.538462 -0.015385 -0.723077  0.230769   \n",
       "\n",
       "        218       219       220       221       222       223  \n",
       "0 -0.048565  0.075346  0.174189  0.121875 -0.316413 -0.142669  \n",
       "1 -0.323077 -0.138462  0.507692  0.507692 -0.261538 -0.415385  \n",
       "\n",
       "[2 rows x 224 columns]"
      ]
     },
     "metadata": {},
     "output_type": "display_data"
    },
    {
     "name": "stdout",
     "output_type": "stream",
     "text": [
      "R2 Score Valence:\t0.38\n"
     ]
    }
   ],
   "source": [
    "# df3_v = df3_v.round(2)\n",
    "\n",
    "display(df_v.head())\n",
    "print(\"R2 Score Valence:\\t%0.2f\" % r2_v)"
   ]
  },
  {
   "cell_type": "code",
   "execution_count": 133,
   "metadata": {
    "collapsed": true
   },
   "outputs": [],
   "source": [
    "scores_a = crosval(gpr_a,data,scaled_ar) #Arousal Regression\n",
    "scores_v = crosval(gpr_v,data,scaled_val) #Arousal Regression"
   ]
  },
  {
   "cell_type": "code",
   "execution_count": 134,
   "metadata": {},
   "outputs": [
    {
     "name": "stdout",
     "output_type": "stream",
     "text": [
      "R2 Score Valence:\t [ 0.43711966  0.56546186  0.62681206  0.53585044  0.65504871  0.65837398\n",
      "  0.63941349  0.66486166  0.62360646  0.64691886]\n",
      "R2 Score Valence:\t0.61 (+/- 0.07)\n"
     ]
    }
   ],
   "source": [
    "print(\"R2 Score Valence:\\t\",scores_a)\n",
    "print(\"R2 Score Valence:\\t%0.2f (+/- %0.2f)\" % (scores_a.mean(), scores_a.std() ))"
   ]
  },
  {
   "cell_type": "code",
   "execution_count": 135,
   "metadata": {},
   "outputs": [
    {
     "name": "stdout",
     "output_type": "stream",
     "text": [
      "R2 Score Valence:\t [ 0.3325215   0.34042739  0.23250114  0.06492473  0.39764797  0.32049516\n",
      "  0.43535678  0.31422154  0.28607723  0.30371222]\n",
      "R2 Score Valence:\t0.30 (+/- 0.10)\n"
     ]
    }
   ],
   "source": [
    "print(\"R2 Score Valence:\\t\",scores_v)\n",
    "print(\"R2 Score Valence:\\t%0.2f (+/- %0.2f)\" % (scores_v.mean(), scores_v.std() ))"
   ]
  },
  {
   "cell_type": "code",
   "execution_count": 136,
   "metadata": {
    "collapsed": true
   },
   "outputs": [],
   "source": [
    "save_predict(df_a.round(2),df_v.round(2),datafitur)\n",
    "save_model(trained_a,datafitur,'arousal/') #save model Arousal\n",
    "save_model(trained_v,datafitur,'valence/') #save model Valence"
   ]
  },
  {
   "cell_type": "markdown",
   "metadata": {},
   "source": [
    "# CASE 10"
   ]
  },
  {
   "cell_type": "code",
   "execution_count": 137,
   "metadata": {},
   "outputs": [
    {
     "name": "stdout",
     "output_type": "stream",
     "text": [
      "(744, 61)\n"
     ]
    }
   ],
   "source": [
    "datafitur =  \"case10_mfcc_timbre_scf_sfm_chroma\" #CASE 3\n",
    "data,arousal_mean,valence_mean = load(datafitur) #Load\n",
    "print(data.shape)\n",
    "\n",
    "scaled_ar = minmax_scale(arousal_mean.values,feature_range=(-1, 1))\n",
    "scaled_val = minmax_scale(valence_mean.values,feature_range=(-1, 1))\n",
    "\n",
    "train_data_a, test_data_a, train_values_a, test_values_a = split(data,scaled_ar) #split arousal\n",
    "train_data_v, test_data_v, train_values_v, test_values_v = split(data,scaled_val) #split valence"
   ]
  },
  {
   "cell_type": "code",
   "execution_count": 138,
   "metadata": {
    "collapsed": true
   },
   "outputs": [],
   "source": [
    "gpr_a = GPR(kernel=kernels, alpha=1e-10, \n",
    "                    optimizer='fmin_l_bfgs_b', \n",
    "                    n_restarts_optimizer=10, \n",
    "                    normalize_y=True, copy_X_train=False, \n",
    "                    random_state=1000) #init Arousal\n",
    "\n",
    "gpr_v = GPR(kernel=kernels, alpha=1e-10, \n",
    "                    optimizer='fmin_l_bfgs_b', \n",
    "                    n_restarts_optimizer=10, \n",
    "                    normalize_y=True, copy_X_train=False, \n",
    "                    random_state=1000) #init Valence"
   ]
  },
  {
   "cell_type": "code",
   "execution_count": 139,
   "metadata": {},
   "outputs": [
    {
     "name": "stdout",
     "output_type": "stream",
     "text": [
      "arousal:\t RationalQuadratic(alpha=1, length_scale=1)\n",
      "valence:\t RationalQuadratic(alpha=1, length_scale=1)\n"
     ]
    }
   ],
   "source": [
    "print(\"arousal:\\t\",gpr_a.kernel)\n",
    "print(\"valence:\\t\",gpr_v.kernel)"
   ]
  },
  {
   "cell_type": "code",
   "execution_count": 140,
   "metadata": {
    "collapsed": true
   },
   "outputs": [],
   "source": [
    "trained_a = training(train_data_a,train_values_a,gpr_a)\n",
    "trained_v = training(train_data_v,train_values_v,gpr_v)"
   ]
  },
  {
   "cell_type": "code",
   "execution_count": 141,
   "metadata": {
    "collapsed": true
   },
   "outputs": [],
   "source": [
    "# #Predict Arousal\n",
    "pred_a,df2_a = predict(test_data_a, test_values_a, trained_a)\n",
    "# #Predict Valence\n",
    "pred_v,df2_v = predict(test_data_v, test_values_v, trained_v)\n",
    "\n",
    "r2_a = score(pred_a,test_values_a) #Score Arousal\n",
    "r2_v = score(pred_v,test_values_v) #Score Valence"
   ]
  },
  {
   "cell_type": "code",
   "execution_count": 142,
   "metadata": {},
   "outputs": [
    {
     "name": "stdout",
     "output_type": "stream",
     "text": [
      "arousal:\t RationalQuadratic(alpha=0.037, length_scale=9.43)\n",
      "valence:\t RationalQuadratic(alpha=0.0394, length_scale=6.13)\n"
     ]
    }
   ],
   "source": [
    "trained_a.set_params(kernel=trained_a.kernel_)\n",
    "trained_v.set_params(kernel=trained_v.kernel_)\n",
    "\n",
    "print(\"arousal:\\t\",trained_a.kernel)\n",
    "print(\"valence:\\t\",trained_v.kernel)"
   ]
  },
  {
   "cell_type": "code",
   "execution_count": 143,
   "metadata": {},
   "outputs": [
    {
     "data": {
      "text/html": [
       "<div>\n",
       "<style scoped>\n",
       "    .dataframe tbody tr th:only-of-type {\n",
       "        vertical-align: middle;\n",
       "    }\n",
       "\n",
       "    .dataframe tbody tr th {\n",
       "        vertical-align: top;\n",
       "    }\n",
       "\n",
       "    .dataframe thead th {\n",
       "        text-align: right;\n",
       "    }\n",
       "</style>\n",
       "<table border=\"1\" class=\"dataframe\">\n",
       "  <thead>\n",
       "    <tr style=\"text-align: right;\">\n",
       "      <th></th>\n",
       "      <th>0</th>\n",
       "      <th>1</th>\n",
       "      <th>2</th>\n",
       "      <th>3</th>\n",
       "      <th>4</th>\n",
       "      <th>5</th>\n",
       "      <th>6</th>\n",
       "      <th>7</th>\n",
       "      <th>8</th>\n",
       "      <th>9</th>\n",
       "      <th>...</th>\n",
       "      <th>214</th>\n",
       "      <th>215</th>\n",
       "      <th>216</th>\n",
       "      <th>217</th>\n",
       "      <th>218</th>\n",
       "      <th>219</th>\n",
       "      <th>220</th>\n",
       "      <th>221</th>\n",
       "      <th>222</th>\n",
       "      <th>223</th>\n",
       "    </tr>\n",
       "  </thead>\n",
       "  <tbody>\n",
       "    <tr>\n",
       "      <th>0</th>\n",
       "      <td>0.016278</td>\n",
       "      <td>0.170735</td>\n",
       "      <td>0.474846</td>\n",
       "      <td>-0.518840</td>\n",
       "      <td>-0.384812</td>\n",
       "      <td>-0.160254</td>\n",
       "      <td>-0.841438</td>\n",
       "      <td>0.272844</td>\n",
       "      <td>-0.304816</td>\n",
       "      <td>-0.078031</td>\n",
       "      <td>...</td>\n",
       "      <td>0.470475</td>\n",
       "      <td>1.117669e-01</td>\n",
       "      <td>-0.278708</td>\n",
       "      <td>-0.288466</td>\n",
       "      <td>-0.055130</td>\n",
       "      <td>0.031812</td>\n",
       "      <td>0.323901</td>\n",
       "      <td>0.441927</td>\n",
       "      <td>-0.228143</td>\n",
       "      <td>-0.321499</td>\n",
       "    </tr>\n",
       "    <tr>\n",
       "      <th>1</th>\n",
       "      <td>0.352941</td>\n",
       "      <td>0.264706</td>\n",
       "      <td>0.411765</td>\n",
       "      <td>-0.558824</td>\n",
       "      <td>-0.441176</td>\n",
       "      <td>-0.411765</td>\n",
       "      <td>-0.588235</td>\n",
       "      <td>0.235294</td>\n",
       "      <td>-0.411765</td>\n",
       "      <td>0.352941</td>\n",
       "      <td>...</td>\n",
       "      <td>0.588235</td>\n",
       "      <td>-2.220446e-16</td>\n",
       "      <td>-0.382353</td>\n",
       "      <td>0.235294</td>\n",
       "      <td>-0.088235</td>\n",
       "      <td>-0.029412</td>\n",
       "      <td>-0.058824</td>\n",
       "      <td>0.382353</td>\n",
       "      <td>-0.500000</td>\n",
       "      <td>-0.823529</td>\n",
       "    </tr>\n",
       "  </tbody>\n",
       "</table>\n",
       "<p>2 rows × 224 columns</p>\n",
       "</div>"
      ],
      "text/plain": [
       "        0         1         2         3         4         5         6    \\\n",
       "0  0.016278  0.170735  0.474846 -0.518840 -0.384812 -0.160254 -0.841438   \n",
       "1  0.352941  0.264706  0.411765 -0.558824 -0.441176 -0.411765 -0.588235   \n",
       "\n",
       "        7         8         9    ...       214           215       216  \\\n",
       "0  0.272844 -0.304816 -0.078031  ...  0.470475  1.117669e-01 -0.278708   \n",
       "1  0.235294 -0.411765  0.352941  ...  0.588235 -2.220446e-16 -0.382353   \n",
       "\n",
       "        217       218       219       220       221       222       223  \n",
       "0 -0.288466 -0.055130  0.031812  0.323901  0.441927 -0.228143 -0.321499  \n",
       "1  0.235294 -0.088235 -0.029412 -0.058824  0.382353 -0.500000 -0.823529  \n",
       "\n",
       "[2 rows x 224 columns]"
      ]
     },
     "metadata": {},
     "output_type": "display_data"
    },
    {
     "name": "stdout",
     "output_type": "stream",
     "text": [
      "R2 Score Arousal:\t0.68\n"
     ]
    }
   ],
   "source": [
    "# df_a = df_a.round(2)\n",
    "\n",
    "display(df_a.head())\n",
    "print(\"R2 Score Arousal:\\t%0.2f\" % r2_a)"
   ]
  },
  {
   "cell_type": "code",
   "execution_count": 144,
   "metadata": {},
   "outputs": [
    {
     "data": {
      "text/html": [
       "<div>\n",
       "<style scoped>\n",
       "    .dataframe tbody tr th:only-of-type {\n",
       "        vertical-align: middle;\n",
       "    }\n",
       "\n",
       "    .dataframe tbody tr th {\n",
       "        vertical-align: top;\n",
       "    }\n",
       "\n",
       "    .dataframe thead th {\n",
       "        text-align: right;\n",
       "    }\n",
       "</style>\n",
       "<table border=\"1\" class=\"dataframe\">\n",
       "  <thead>\n",
       "    <tr style=\"text-align: right;\">\n",
       "      <th></th>\n",
       "      <th>0</th>\n",
       "      <th>1</th>\n",
       "      <th>2</th>\n",
       "      <th>3</th>\n",
       "      <th>4</th>\n",
       "      <th>5</th>\n",
       "      <th>6</th>\n",
       "      <th>7</th>\n",
       "      <th>8</th>\n",
       "      <th>9</th>\n",
       "      <th>...</th>\n",
       "      <th>214</th>\n",
       "      <th>215</th>\n",
       "      <th>216</th>\n",
       "      <th>217</th>\n",
       "      <th>218</th>\n",
       "      <th>219</th>\n",
       "      <th>220</th>\n",
       "      <th>221</th>\n",
       "      <th>222</th>\n",
       "      <th>223</th>\n",
       "    </tr>\n",
       "  </thead>\n",
       "  <tbody>\n",
       "    <tr>\n",
       "      <th>0</th>\n",
       "      <td>0.222327</td>\n",
       "      <td>0.230448</td>\n",
       "      <td>0.401023</td>\n",
       "      <td>-0.399627</td>\n",
       "      <td>-0.092528</td>\n",
       "      <td>-0.009170</td>\n",
       "      <td>-0.361141</td>\n",
       "      <td>0.322868</td>\n",
       "      <td>0.183116</td>\n",
       "      <td>0.112089</td>\n",
       "      <td>...</td>\n",
       "      <td>0.471568</td>\n",
       "      <td>0.497784</td>\n",
       "      <td>-0.284337</td>\n",
       "      <td>-0.190531</td>\n",
       "      <td>-0.048565</td>\n",
       "      <td>0.075346</td>\n",
       "      <td>0.174189</td>\n",
       "      <td>0.121875</td>\n",
       "      <td>-0.316413</td>\n",
       "      <td>-0.142669</td>\n",
       "    </tr>\n",
       "    <tr>\n",
       "      <th>1</th>\n",
       "      <td>-0.661538</td>\n",
       "      <td>0.476923</td>\n",
       "      <td>0.353846</td>\n",
       "      <td>-0.661538</td>\n",
       "      <td>0.046154</td>\n",
       "      <td>-0.507692</td>\n",
       "      <td>-0.076923</td>\n",
       "      <td>-0.169231</td>\n",
       "      <td>-0.230769</td>\n",
       "      <td>0.569231</td>\n",
       "      <td>...</td>\n",
       "      <td>0.538462</td>\n",
       "      <td>-0.015385</td>\n",
       "      <td>-0.723077</td>\n",
       "      <td>0.230769</td>\n",
       "      <td>-0.323077</td>\n",
       "      <td>-0.138462</td>\n",
       "      <td>0.507692</td>\n",
       "      <td>0.507692</td>\n",
       "      <td>-0.261538</td>\n",
       "      <td>-0.415385</td>\n",
       "    </tr>\n",
       "  </tbody>\n",
       "</table>\n",
       "<p>2 rows × 224 columns</p>\n",
       "</div>"
      ],
      "text/plain": [
       "        0         1         2         3         4         5         6    \\\n",
       "0  0.222327  0.230448  0.401023 -0.399627 -0.092528 -0.009170 -0.361141   \n",
       "1 -0.661538  0.476923  0.353846 -0.661538  0.046154 -0.507692 -0.076923   \n",
       "\n",
       "        7         8         9    ...       214       215       216       217  \\\n",
       "0  0.322868  0.183116  0.112089  ...  0.471568  0.497784 -0.284337 -0.190531   \n",
       "1 -0.169231 -0.230769  0.569231  ...  0.538462 -0.015385 -0.723077  0.230769   \n",
       "\n",
       "        218       219       220       221       222       223  \n",
       "0 -0.048565  0.075346  0.174189  0.121875 -0.316413 -0.142669  \n",
       "1 -0.323077 -0.138462  0.507692  0.507692 -0.261538 -0.415385  \n",
       "\n",
       "[2 rows x 224 columns]"
      ]
     },
     "metadata": {},
     "output_type": "display_data"
    },
    {
     "name": "stdout",
     "output_type": "stream",
     "text": [
      "R2 Score Valence:\t0.38\n"
     ]
    }
   ],
   "source": [
    "# df3_v = df3_v.round(2)\n",
    "\n",
    "display(df_v.head())\n",
    "print(\"R2 Score Valence:\\t%0.2f\" % r2_v)"
   ]
  },
  {
   "cell_type": "code",
   "execution_count": 145,
   "metadata": {
    "collapsed": true
   },
   "outputs": [],
   "source": [
    "scores_a = crosval(gpr_a,data,scaled_ar) #Arousal Regression\n",
    "scores_v = crosval(gpr_v,data,scaled_val) #Arousal Regression"
   ]
  },
  {
   "cell_type": "code",
   "execution_count": 146,
   "metadata": {},
   "outputs": [
    {
     "name": "stdout",
     "output_type": "stream",
     "text": [
      "R2 Score Valence:\t [ 0.44672873  0.5839231   0.61084799  0.53452106  0.65829641  0.66989345\n",
      "  0.6430872   0.66133519  0.62616777  0.66062924]\n",
      "R2 Score Valence:\t0.61 (+/- 0.07)\n"
     ]
    }
   ],
   "source": [
    "print(\"R2 Score Valence:\\t\",scores_a)\n",
    "print(\"R2 Score Valence:\\t%0.2f (+/- %0.2f)\" % (scores_a.mean(), scores_a.std() ))"
   ]
  },
  {
   "cell_type": "code",
   "execution_count": 147,
   "metadata": {},
   "outputs": [
    {
     "name": "stdout",
     "output_type": "stream",
     "text": [
      "R2 Score Valence:\t [ 0.31867443  0.35038908  0.23122918  0.05437017  0.4048447   0.31051334\n",
      "  0.42644845  0.29673161  0.27565131  0.28379686]\n",
      "R2 Score Valence:\t0.30 (+/- 0.10)\n"
     ]
    }
   ],
   "source": [
    "print(\"R2 Score Valence:\\t\",scores_v)\n",
    "print(\"R2 Score Valence:\\t%0.2f (+/- %0.2f)\" % (scores_v.mean(), scores_v.std() ))"
   ]
  },
  {
   "cell_type": "code",
   "execution_count": 148,
   "metadata": {
    "collapsed": true
   },
   "outputs": [],
   "source": [
    "save_predict(df_a.round(2),df_v.round(2),datafitur)\n",
    "save_model(trained_a,datafitur,'arousal/') #save model Arousal\n",
    "save_model(trained_v,datafitur,'valence/') #save model Valence"
   ]
  }
 ],
 "metadata": {
  "kernelspec": {
   "display_name": "Python 3",
   "language": "python",
   "name": "python3"
  },
  "language_info": {
   "codemirror_mode": {
    "name": "ipython",
    "version": 3
   },
   "file_extension": ".py",
   "mimetype": "text/x-python",
   "name": "python",
   "nbconvert_exporter": "python",
   "pygments_lexer": "ipython3",
   "version": "3.6.2"
  }
 },
 "nbformat": 4,
 "nbformat_minor": 2
}
