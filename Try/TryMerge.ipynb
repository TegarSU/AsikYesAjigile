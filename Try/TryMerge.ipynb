{
 "cells": [
  {
   "cell_type": "code",
   "execution_count": 1,
   "metadata": {
    "collapsed": true
   },
   "outputs": [],
   "source": [
    "import pandas as pd\n",
    "import numpy as np\n",
    "\n",
    "import matplotlib.pyplot as plt"
   ]
  },
  {
   "cell_type": "code",
   "execution_count": 16,
   "metadata": {
    "collapsed": true
   },
   "outputs": [],
   "source": [
    "# #PATH\n",
    "\n",
    "path_info = \"F:/178/Tugas Akhir/dataset/annotations/\"\n",
    "filename = \"songs_info.csv\"\n",
    "path_to_fitur = \"F:/178/Tugas Akhir/dataset/coba fitur/\"\n",
    "path_to_experiment =\"F:/178/Tugas Akhir/dataset/experiment/\""
   ]
  },
  {
   "cell_type": "code",
   "execution_count": 65,
   "metadata": {
    "collapsed": true
   },
   "outputs": [],
   "source": [
    "# # Song Info\n",
    "\n",
    "# info = pd.read_csv(path_info + filename)\n",
    "# song_file = info['song_id'].to_list()\n",
    "# # info.head()\n",
    "fitur = \"case4\" #CASE 1\n",
    "data = pd.read_csv(path_to_experiment + fitur+\".csv\",header=None)\n",
    "ground = pd.read_csv(path_info + \"static_annotations.csv\")\n",
    "arousal_mean = ground['mean_arousal']\n",
    "valence_mean = ground['mean_valence']"
   ]
  },
  {
   "cell_type": "code",
   "execution_count": 66,
   "metadata": {},
   "outputs": [
    {
     "name": "stdout",
     "output_type": "stream",
     "text": [
      "(744, 85)\n",
      "(744,)\n",
      "(744, 86)\n"
     ]
    }
   ],
   "source": [
    "print(data.shape)\n",
    "print(arousal_mean.shape)\n",
    "df_a = pd.concat([data, valence_mean], axis=1)\n",
    "print(df_a.shape)"
   ]
  },
  {
   "cell_type": "code",
   "execution_count": 67,
   "metadata": {},
   "outputs": [
    {
     "data": {
      "text/html": [
       "<div>\n",
       "<style scoped>\n",
       "    .dataframe tbody tr th:only-of-type {\n",
       "        vertical-align: middle;\n",
       "    }\n",
       "\n",
       "    .dataframe tbody tr th {\n",
       "        vertical-align: top;\n",
       "    }\n",
       "\n",
       "    .dataframe thead th {\n",
       "        text-align: right;\n",
       "    }\n",
       "</style>\n",
       "<table border=\"1\" class=\"dataframe\">\n",
       "  <thead>\n",
       "    <tr style=\"text-align: right;\">\n",
       "      <th></th>\n",
       "      <th>0</th>\n",
       "      <th>1</th>\n",
       "      <th>2</th>\n",
       "      <th>3</th>\n",
       "      <th>4</th>\n",
       "      <th>5</th>\n",
       "      <th>6</th>\n",
       "      <th>7</th>\n",
       "      <th>8</th>\n",
       "      <th>9</th>\n",
       "      <th>...</th>\n",
       "      <th>76</th>\n",
       "      <th>77</th>\n",
       "      <th>78</th>\n",
       "      <th>79</th>\n",
       "      <th>80</th>\n",
       "      <th>81</th>\n",
       "      <th>82</th>\n",
       "      <th>83</th>\n",
       "      <th>84</th>\n",
       "      <th>mean_valence</th>\n",
       "    </tr>\n",
       "  </thead>\n",
       "  <tbody>\n",
       "    <tr>\n",
       "      <th>0</th>\n",
       "      <td>-139.149028</td>\n",
       "      <td>116.431341</td>\n",
       "      <td>-14.183275</td>\n",
       "      <td>29.682402</td>\n",
       "      <td>3.538067</td>\n",
       "      <td>12.800071</td>\n",
       "      <td>2.702645</td>\n",
       "      <td>1.839419</td>\n",
       "      <td>-1.025908</td>\n",
       "      <td>7.582799</td>\n",
       "      <td>...</td>\n",
       "      <td>0.225006</td>\n",
       "      <td>0.209135</td>\n",
       "      <td>0.240651</td>\n",
       "      <td>0.269020</td>\n",
       "      <td>0.302997</td>\n",
       "      <td>0.336488</td>\n",
       "      <td>0.349169</td>\n",
       "      <td>0.318331</td>\n",
       "      <td>0.276273</td>\n",
       "      <td>3.0</td>\n",
       "    </tr>\n",
       "    <tr>\n",
       "      <th>1</th>\n",
       "      <td>-245.236274</td>\n",
       "      <td>129.874439</td>\n",
       "      <td>10.924044</td>\n",
       "      <td>45.233482</td>\n",
       "      <td>19.262425</td>\n",
       "      <td>28.140008</td>\n",
       "      <td>20.090296</td>\n",
       "      <td>15.106581</td>\n",
       "      <td>9.958545</td>\n",
       "      <td>10.611007</td>\n",
       "      <td>...</td>\n",
       "      <td>0.264245</td>\n",
       "      <td>0.288919</td>\n",
       "      <td>0.322507</td>\n",
       "      <td>0.291726</td>\n",
       "      <td>0.294851</td>\n",
       "      <td>0.324380</td>\n",
       "      <td>0.321738</td>\n",
       "      <td>0.277522</td>\n",
       "      <td>0.221981</td>\n",
       "      <td>3.3</td>\n",
       "    </tr>\n",
       "    <tr>\n",
       "      <th>2</th>\n",
       "      <td>-105.316925</td>\n",
       "      <td>114.276587</td>\n",
       "      <td>-11.806673</td>\n",
       "      <td>36.438170</td>\n",
       "      <td>28.763885</td>\n",
       "      <td>11.906472</td>\n",
       "      <td>-1.510520</td>\n",
       "      <td>5.378230</td>\n",
       "      <td>-1.212449</td>\n",
       "      <td>2.506687</td>\n",
       "      <td>...</td>\n",
       "      <td>0.191447</td>\n",
       "      <td>0.244131</td>\n",
       "      <td>0.287731</td>\n",
       "      <td>0.236843</td>\n",
       "      <td>0.247847</td>\n",
       "      <td>0.291274</td>\n",
       "      <td>0.341004</td>\n",
       "      <td>0.275584</td>\n",
       "      <td>0.224885</td>\n",
       "      <td>5.5</td>\n",
       "    </tr>\n",
       "    <tr>\n",
       "      <th>3</th>\n",
       "      <td>-143.671197</td>\n",
       "      <td>117.152537</td>\n",
       "      <td>3.753694</td>\n",
       "      <td>26.052973</td>\n",
       "      <td>-7.169935</td>\n",
       "      <td>-11.557713</td>\n",
       "      <td>-7.395406</td>\n",
       "      <td>-10.925692</td>\n",
       "      <td>-11.314141</td>\n",
       "      <td>-11.927539</td>\n",
       "      <td>...</td>\n",
       "      <td>0.346678</td>\n",
       "      <td>0.173688</td>\n",
       "      <td>0.103986</td>\n",
       "      <td>0.176625</td>\n",
       "      <td>0.247821</td>\n",
       "      <td>0.181862</td>\n",
       "      <td>0.136717</td>\n",
       "      <td>0.170475</td>\n",
       "      <td>0.244865</td>\n",
       "      <td>5.3</td>\n",
       "    </tr>\n",
       "    <tr>\n",
       "      <th>4</th>\n",
       "      <td>-150.780171</td>\n",
       "      <td>110.386330</td>\n",
       "      <td>24.602162</td>\n",
       "      <td>48.277816</td>\n",
       "      <td>15.710354</td>\n",
       "      <td>31.560275</td>\n",
       "      <td>7.011303</td>\n",
       "      <td>12.320683</td>\n",
       "      <td>-3.796703</td>\n",
       "      <td>1.941182</td>\n",
       "      <td>...</td>\n",
       "      <td>0.273183</td>\n",
       "      <td>0.301643</td>\n",
       "      <td>0.331300</td>\n",
       "      <td>0.301311</td>\n",
       "      <td>0.274955</td>\n",
       "      <td>0.287746</td>\n",
       "      <td>0.284923</td>\n",
       "      <td>0.269661</td>\n",
       "      <td>0.315374</td>\n",
       "      <td>6.4</td>\n",
       "    </tr>\n",
       "  </tbody>\n",
       "</table>\n",
       "<p>5 rows × 86 columns</p>\n",
       "</div>"
      ],
      "text/plain": [
       "            0           1          2          3          4          5  \\\n",
       "0 -139.149028  116.431341 -14.183275  29.682402   3.538067  12.800071   \n",
       "1 -245.236274  129.874439  10.924044  45.233482  19.262425  28.140008   \n",
       "2 -105.316925  114.276587 -11.806673  36.438170  28.763885  11.906472   \n",
       "3 -143.671197  117.152537   3.753694  26.052973  -7.169935 -11.557713   \n",
       "4 -150.780171  110.386330  24.602162  48.277816  15.710354  31.560275   \n",
       "\n",
       "           6          7          8          9  ...        76        77  \\\n",
       "0   2.702645   1.839419  -1.025908   7.582799  ...  0.225006  0.209135   \n",
       "1  20.090296  15.106581   9.958545  10.611007  ...  0.264245  0.288919   \n",
       "2  -1.510520   5.378230  -1.212449   2.506687  ...  0.191447  0.244131   \n",
       "3  -7.395406 -10.925692 -11.314141 -11.927539  ...  0.346678  0.173688   \n",
       "4   7.011303  12.320683  -3.796703   1.941182  ...  0.273183  0.301643   \n",
       "\n",
       "         78        79        80        81        82        83        84  \\\n",
       "0  0.240651  0.269020  0.302997  0.336488  0.349169  0.318331  0.276273   \n",
       "1  0.322507  0.291726  0.294851  0.324380  0.321738  0.277522  0.221981   \n",
       "2  0.287731  0.236843  0.247847  0.291274  0.341004  0.275584  0.224885   \n",
       "3  0.103986  0.176625  0.247821  0.181862  0.136717  0.170475  0.244865   \n",
       "4  0.331300  0.301311  0.274955  0.287746  0.284923  0.269661  0.315374   \n",
       "\n",
       "   mean_valence  \n",
       "0           3.0  \n",
       "1           3.3  \n",
       "2           5.5  \n",
       "3           5.3  \n",
       "4           6.4  \n",
       "\n",
       "[5 rows x 86 columns]"
      ]
     },
     "execution_count": 67,
     "metadata": {},
     "output_type": "execute_result"
    }
   ],
   "source": [
    "df_a.head()"
   ]
  },
  {
   "cell_type": "code",
   "execution_count": 68,
   "metadata": {},
   "outputs": [
    {
     "data": {
      "text/plain": [
       "<Figure size 1440x1440 with 0 Axes>"
      ]
     },
     "metadata": {},
     "output_type": "display_data"
    },
    {
     "data": {
      "image/png": "[encoded data removed]",
      "text/plain": [
       "<Figure size 288x288 with 1 Axes>"
      ]
     },
     "metadata": {},
     "output_type": "display_data"
    }
   ],
   "source": [
    "plt.figure(figsize=(20, 20))\n",
    "plt.matshow(df_a.corr())\n",
    "plt.show()"
   ]
  },
  {
   "cell_type": "code",
   "execution_count": 6,
   "metadata": {
    "collapsed": true
   },
   "outputs": [],
   "source": [
    "# # case1 = pd.read_csv(path_to_experiment + \"/mfcc_meanstd.csv\", header=None)\n",
    "# # timbre = pd.read_csv(path_to_experiment + \"/timbre_meanstd.csv\", header=None)\n",
    "\n",
    "# # case2 = pd.read_csv(path_to_experiment + \"/case2.csv\", header=None)\n",
    "# # flatness = pd.read_csv(path_to_experiment + \"flatness_meanstd.csv\", header=None)\n",
    "# # scf_sfm = pd.read_csv(path_to_experiment + \"/scf_sfm_meanstd.csv\", header=None)\n",
    "# for index,i in enumerate(song_file):\n",
    "#     data = pd.read_csv(path_to_fitur+str(i)+\"/crest.csv\",header=None)\n",
    "#     print(data.isnull().sum().sum())"
   ]
  },
  {
   "cell_type": "code",
   "execution_count": 5,
   "metadata": {
    "collapsed": true
   },
   "outputs": [],
   "source": [
    "case3 = case2.merge(flatness, how='outer', left_index=True, right_index=True)"
   ]
  },
  {
   "cell_type": "code",
   "execution_count": 6,
   "metadata": {},
   "outputs": [
    {
     "data": {
      "text/plain": [
       "0"
      ]
     },
     "execution_count": 6,
     "metadata": {},
     "output_type": "execute_result"
    }
   ],
   "source": [
    "case3.isnull().sum().sum()"
   ]
  },
  {
   "cell_type": "code",
   "execution_count": 7,
   "metadata": {
    "collapsed": true
   },
   "outputs": [],
   "source": [
    "pd.DataFrame(case3).to_csv(path_to_experiment+\"case3_v2.csv\", header=None, index=None)"
   ]
  },
  {
   "cell_type": "code",
   "execution_count": 2,
   "metadata": {},
   "outputs": [
    {
     "name": "stdout",
     "output_type": "stream",
     "text": [
      "14\n"
     ]
    }
   ],
   "source": [
    "import numpy as np\n",
    "\n",
    "array = np.array([1,2,3])\n",
    "square = array ** 2\n",
    "print (square.sum())    #[1 4 9]"
   ]
  }
 ],
 "metadata": {
  "kernelspec": {
   "display_name": "Python 3",
   "language": "python",
   "name": "python3"
  },
  "language_info": {
   "codemirror_mode": {
    "name": "ipython",
    "version": 3
   },
   "file_extension": ".py",
   "mimetype": "text/x-python",
   "name": "python",
   "nbconvert_exporter": "python",
   "pygments_lexer": "ipython3",
   "version": "3.6.2"
  }
 },
 "nbformat": 4,
 "nbformat_minor": 2
}
