{
 "cells": [
  {
   "cell_type": "code",
   "execution_count": 12,
   "metadata": {
    "collapsed": true
   },
   "outputs": [],
   "source": [
    "import pandas as pd"
   ]
  },
  {
   "cell_type": "code",
   "execution_count": 13,
   "metadata": {
    "collapsed": true
   },
   "outputs": [],
   "source": [
    "path_info = \"F:/178/Tugas Akhir/dataset/annotations/\"\n",
    "path_to_experiment =\"F:/178/Tugas Akhir/dataset/experiment/\"\n",
    "filename = \"songs_info.csv\""
   ]
  },
  {
   "cell_type": "code",
   "execution_count": 31,
   "metadata": {
    "collapsed": true
   },
   "outputs": [],
   "source": [
    "def emotion(a,v):\n",
    "    if ((v > 5) & (a >= 5)):\n",
    "        cluster = 'cluster 1'\n",
    "    elif ((v <= 5) & (a > 5)):\n",
    "        cluster = 'cluster 2'\n",
    "    elif ((v < 5) & (a <= 5)):\n",
    "        cluster = 'cluster 3'\n",
    "    elif ((v >= 5) & (a < 5)):\n",
    "        cluster = 'cluster 4'\n",
    "        \n",
    "    return cluster"
   ]
  },
  {
   "cell_type": "code",
   "execution_count": 32,
   "metadata": {},
   "outputs": [
    {
     "data": {
      "text/plain": [
       "development    619\n",
       "evaluation     125\n",
       "Name: Mediaeval 2013 set, dtype: int64"
      ]
     },
     "execution_count": 32,
     "metadata": {},
     "output_type": "execute_result"
    }
   ],
   "source": [
    "data = pd.read_csv(path_info + filename)\n",
    "anno = pd.read_csv(path_info+'static_annotations.csv')\n",
    "data['Mediaeval 2013 set'].value_counts()"
   ]
  },
  {
   "cell_type": "code",
   "execution_count": 33,
   "metadata": {
    "collapsed": true
   },
   "outputs": [],
   "source": [
    "datasets = {}\n",
    "by_class = data.groupby('Mediaeval 2013 set')\n",
    "\n",
    "for groups, data in by_class:\n",
    "    datasets[groups] = data"
   ]
  },
  {
   "cell_type": "code",
   "execution_count": 34,
   "metadata": {
    "collapsed": true
   },
   "outputs": [],
   "source": [
    "song_id_ev = datasets[\"evaluation\"].song_id.values\n",
    "song_id_dev = datasets[\"development\"].song_id.values"
   ]
  },
  {
   "cell_type": "code",
   "execution_count": 35,
   "metadata": {
    "collapsed": true
   },
   "outputs": [],
   "source": [
    "dev = anno.loc[anno['song_id'].isin(song_id_dev)]\n",
    "ev = anno.loc[anno['song_id'].isin(song_id_ev)]\n",
    "\n",
    "frame = [dev,ev]\n",
    "data = pd.concat(frame)"
   ]
  },
  {
   "cell_type": "code",
   "execution_count": 36,
   "metadata": {
    "collapsed": true
   },
   "outputs": [],
   "source": [
    "# data.to_csv(path_to_experiment+\"dataset.csv\", index=False, header=False)"
   ]
  },
  {
   "cell_type": "code",
   "execution_count": 37,
   "metadata": {
    "collapsed": true
   },
   "outputs": [],
   "source": [
    "arousal = ev.mean_arousal.values\n",
    "valence = ev.mean_valence.values"
   ]
  },
  {
   "cell_type": "code",
   "execution_count": 38,
   "metadata": {},
   "outputs": [],
   "source": [
    "true = list()\n",
    "\n",
    "for a,v in zip(arousal,valence):\n",
    "    true.append(emotion(a,v))"
   ]
  },
  {
   "cell_type": "code",
   "execution_count": 39,
   "metadata": {},
   "outputs": [
    {
     "name": "stdout",
     "output_type": "stream",
     "text": [
      "48\n",
      "13\n",
      "40\n",
      "24\n"
     ]
    }
   ],
   "source": [
    "print(true.count('cluster 1'))\n",
    "print(true.count('cluster 2'))\n",
    "print(true.count('cluster 3'))\n",
    "print(true.count('cluster 4'))"
   ]
  },
  {
   "cell_type": "code",
   "execution_count": 31,
   "metadata": {
    "collapsed": true
   },
   "outputs": [],
   "source": [
    "frame = [datasets[\"development\"],datasets[\"evaluation\"]]\n",
    "data = pd.concat(frame)"
   ]
  }
 ],
 "metadata": {
  "kernelspec": {
   "display_name": "Python 3",
   "language": "python",
   "name": "python3"
  },
  "language_info": {
   "codemirror_mode": {
    "name": "ipython",
    "version": 3
   },
   "file_extension": ".py",
   "mimetype": "text/x-python",
   "name": "python",
   "nbconvert_exporter": "python",
   "pygments_lexer": "ipython3",
   "version": "3.6.2"
  }
 },
 "nbformat": 4,
 "nbformat_minor": 2
}
