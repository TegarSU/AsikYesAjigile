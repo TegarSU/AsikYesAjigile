{
 "cells": [
  {
   "cell_type": "code",
   "execution_count": 1,
   "metadata": {
    "collapsed": true
   },
   "outputs": [],
   "source": [
    "import pandas as pd\n",
    "import numpy as np\n",
    "from pydub import AudioSegment"
   ]
  },
  {
   "cell_type": "code",
   "execution_count": 2,
   "metadata": {},
   "outputs": [
    {
     "data": {
      "text/html": [
       "<div>\n",
       "<style scoped>\n",
       "    .dataframe tbody tr th:only-of-type {\n",
       "        vertical-align: middle;\n",
       "    }\n",
       "\n",
       "    .dataframe tbody tr th {\n",
       "        vertical-align: top;\n",
       "    }\n",
       "\n",
       "    .dataframe thead th {\n",
       "        text-align: right;\n",
       "    }\n",
       "</style>\n",
       "<table border=\"1\" class=\"dataframe\">\n",
       "  <thead>\n",
       "    <tr style=\"text-align: right;\">\n",
       "      <th></th>\n",
       "      <th>song_id</th>\n",
       "      <th>file_name</th>\n",
       "      <th>Artist</th>\n",
       "      <th>Song title</th>\n",
       "      <th>start of the segment (min.sec)</th>\n",
       "      <th>end of the segment (min.sec)</th>\n",
       "      <th>Genre</th>\n",
       "      <th>Mediaeval 2013 set</th>\n",
       "    </tr>\n",
       "  </thead>\n",
       "  <tbody>\n",
       "    <tr>\n",
       "      <th>0</th>\n",
       "      <td>2</td>\n",
       "      <td>\\t2.mp3</td>\n",
       "      <td>The New Mystikal Troubadours\\t</td>\n",
       "      <td>\\tTonight  A Lonely Century\\t</td>\n",
       "      <td>0.48</td>\n",
       "      <td>1.33</td>\n",
       "      <td>\\tBlues\\t</td>\n",
       "      <td>development</td>\n",
       "    </tr>\n",
       "    <tr>\n",
       "      <th>1</th>\n",
       "      <td>3</td>\n",
       "      <td>\\t3.mp3</td>\n",
       "      <td>Kevin MacLeod\\t</td>\n",
       "      <td>\\tDD Groove\\t</td>\n",
       "      <td>0.36</td>\n",
       "      <td>1.21</td>\n",
       "      <td>\\tBlues\\t</td>\n",
       "      <td>evaluation</td>\n",
       "    </tr>\n",
       "    <tr>\n",
       "      <th>2</th>\n",
       "      <td>4</td>\n",
       "      <td>\\t4.mp3</td>\n",
       "      <td>Kevin MacLeod\\t</td>\n",
       "      <td>\\tSlow Burn\\t</td>\n",
       "      <td>1.29</td>\n",
       "      <td>2.14</td>\n",
       "      <td>\\tBlues\\t</td>\n",
       "      <td>development</td>\n",
       "    </tr>\n",
       "    <tr>\n",
       "      <th>3</th>\n",
       "      <td>5</td>\n",
       "      <td>\\t5.mp3</td>\n",
       "      <td>My Bubba &amp; Mi\\t</td>\n",
       "      <td>\\tNothing Much\\t</td>\n",
       "      <td>0.36</td>\n",
       "      <td>1.21</td>\n",
       "      <td>\\tBlues\\t</td>\n",
       "      <td>development</td>\n",
       "    </tr>\n",
       "    <tr>\n",
       "      <th>4</th>\n",
       "      <td>7</td>\n",
       "      <td>\\t7.mp3</td>\n",
       "      <td>Kevin MacLeod\\t</td>\n",
       "      <td>\\tHustle\\t</td>\n",
       "      <td>0.20</td>\n",
       "      <td>1.05</td>\n",
       "      <td>\\tBlues\\t</td>\n",
       "      <td>development</td>\n",
       "    </tr>\n",
       "  </tbody>\n",
       "</table>\n",
       "</div>"
      ],
      "text/plain": [
       "   song_id file_name                          Artist  \\\n",
       "0        2   \\t2.mp3  The New Mystikal Troubadours\\t   \n",
       "1        3   \\t3.mp3                 Kevin MacLeod\\t   \n",
       "2        4   \\t4.mp3                 Kevin MacLeod\\t   \n",
       "3        5   \\t5.mp3                 My Bubba & Mi\\t   \n",
       "4        7   \\t7.mp3                 Kevin MacLeod\\t   \n",
       "\n",
       "                      Song title  start of the segment (min.sec)  \\\n",
       "0  \\tTonight  A Lonely Century\\t                            0.48   \n",
       "1                  \\tDD Groove\\t                            0.36   \n",
       "2                  \\tSlow Burn\\t                            1.29   \n",
       "3               \\tNothing Much\\t                            0.36   \n",
       "4                     \\tHustle\\t                            0.20   \n",
       "\n",
       "   end of the segment (min.sec)      Genre Mediaeval 2013 set  \n",
       "0                          1.33  \\tBlues\\t        development  \n",
       "1                          1.21  \\tBlues\\t         evaluation  \n",
       "2                          2.14  \\tBlues\\t        development  \n",
       "3                          1.21  \\tBlues\\t        development  \n",
       "4                          1.05  \\tBlues\\t        development  "
      ]
     },
     "execution_count": 2,
     "metadata": {},
     "output_type": "execute_result"
    }
   ],
   "source": [
    "# Song Info\n",
    "path_info = \"F:/178/Tugas Akhir/dataset/annotations/\"\n",
    "filename = \"songs_info.csv\"\n",
    "info = pd.read_csv(path_info + filename)\n",
    "info.head()"
   ]
  },
  {
   "cell_type": "code",
   "execution_count": 3,
   "metadata": {
    "collapsed": true
   },
   "outputs": [],
   "source": [
    "song_file = info['song_id'].to_list()"
   ]
  },
  {
   "cell_type": "code",
   "execution_count": 4,
   "metadata": {
    "collapsed": true
   },
   "outputs": [],
   "source": [
    "# # #Convert to WAV\n",
    "\n",
    "# song_file = info['song_id'].to_list()\n",
    "\n",
    "\n",
    "for key in song_file:\n",
    "    # #     # # files\n",
    "    src = \"F:/178/Tugas Akhir/dataset/clips_full/\"+str(key)+\".mp3\"\n",
    "    dst = \"F:/178/Tugas Akhir/dataset/clip_full_wav/\"+str(key)+\".wav\"\n",
    "#     print(src)\n",
    "\n",
    "#     # # convert wav to mp3                                                            \n",
    "    sound = AudioSegment.from_mp3(src)\n",
    "    sound.export(dst, format=\"wav\")"
   ]
  }
 ],
 "metadata": {
  "kernelspec": {
   "display_name": "Python 3",
   "language": "python",
   "name": "python3"
  },
  "language_info": {
   "codemirror_mode": {
    "name": "ipython",
    "version": 3
   },
   "file_extension": ".py",
   "mimetype": "text/x-python",
   "name": "python",
   "nbconvert_exporter": "python",
   "pygments_lexer": "ipython3",
   "version": "3.6.2"
  }
 },
 "nbformat": 4,
 "nbformat_minor": 2
}
