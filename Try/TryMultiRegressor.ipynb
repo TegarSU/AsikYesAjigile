{
 "cells": [
  {
   "cell_type": "code",
   "execution_count": 40,
   "metadata": {
    "collapsed": true
   },
   "outputs": [],
   "source": [
    "import pandas as pd\n",
    "import numpy as np\n",
    "from sklearn.externals import joblib\n",
    "\n",
    "from sklearn.gaussian_process import GaussianProcessRegressor as GPR\n",
    "from sklearn.gaussian_process.kernels import RationalQuadratic\n",
    "from sklearn.model_selection import cross_val_score\n",
    "from sklearn.model_selection import train_test_split\n",
    "from sklearn.metrics import r2_score\n",
    "from sklearn.preprocessing import minmax_scale\n",
    "\n",
    "from sklearn.multioutput import MultiOutputRegressor\n",
    "\n",
    "import matplotlib.pyplot as plt"
   ]
  },
  {
   "cell_type": "code",
   "execution_count": 41,
   "metadata": {
    "collapsed": true
   },
   "outputs": [],
   "source": [
    "# #PATH\n",
    "path_info = \"F:/178/Tugas Akhir/dataset/annotations/\"\n",
    "path_to_fitur = \"F:/178/Tugas Akhir/dataset/coba fitur/\"\n",
    "path_to_experiment =\"F:/178/Tugas Akhir/dataset/experiment/\"\n",
    "path_to_model = \"F:/178/Tugas Akhir/dataset/model/\"\n",
    "path_to_predict = \"F:/178/Tugas Akhir/dataset/predict/\""
   ]
  },
  {
   "cell_type": "code",
   "execution_count": 42,
   "metadata": {
    "collapsed": true
   },
   "outputs": [],
   "source": [
    "def load(fitur):\n",
    "    data = pd.read_csv(path_to_experiment + fitur+\".csv\",header=None)\n",
    "    ground = pd.read_csv(path_info + \"static_annotations.csv\")\n",
    "\n",
    "    arousal_mean = ground['mean_arousal']\n",
    "    valence_mean = ground['mean_valence']\n",
    "    \n",
    "    return data,arousal_mean,valence_mean\n",
    "\n",
    "def split(data,value):\n",
    "    train_data, test_data, train_values, test_values = train_test_split(data,value,test_size=0.3,random_state=1000)\n",
    "    \n",
    "    return train_data, test_data, train_values, test_values"
   ]
  },
  {
   "cell_type": "code",
   "execution_count": 43,
   "metadata": {
    "collapsed": true
   },
   "outputs": [],
   "source": [
    "kernels = RationalQuadratic(length_scale=1.0, alpha=1.0, \n",
    "                            length_scale_bounds=(1e-6, 1e6), \n",
    "                            alpha_bounds=(1e-6, 1e6))"
   ]
  },
  {
   "cell_type": "code",
   "execution_count": 44,
   "metadata": {},
   "outputs": [
    {
     "name": "stdout",
     "output_type": "stream",
     "text": [
      "(520, 26)\n"
     ]
    }
   ],
   "source": [
    "datafitur = \"case1_mfcc\" #CASE 1\n",
    "\n",
    "data,arousal_mean,valence_mean = load(datafitur) #Load\n",
    "scaled_ar = minmax_scale(arousal_mean.values,feature_range=(-1, 1))\n",
    "scaled_val = minmax_scale(valence_mean.values,feature_range=(-1, 1))\n",
    "target = [scaled_ar,scaled_val]\n",
    "target = np.array(target).T\n",
    "# print(target.shape)\n",
    "\n",
    "#split arousal\n",
    "train_data, test_data, train_values, test_values = split(data,target)\n",
    "print(train_data.shape)"
   ]
  },
  {
   "cell_type": "code",
   "execution_count": 45,
   "metadata": {
    "collapsed": true
   },
   "outputs": [],
   "source": [
    "gpr = GPR(kernel=kernels, alpha=1e-10, \n",
    "            optimizer='fmin_l_bfgs_b', \n",
    "            n_restarts_optimizer=10, \n",
    "            normalize_y=True, copy_X_train=False, \n",
    "            random_state=1000) #init Arousal"
   ]
  },
  {
   "cell_type": "code",
   "execution_count": 46,
   "metadata": {},
   "outputs": [
    {
     "data": {
      "text/plain": [
       "MultiOutputRegressor(estimator=GaussianProcessRegressor(alpha=1e-10, copy_X_train=False,\n",
       "             kernel=RationalQuadratic(alpha=1, length_scale=1),\n",
       "             n_restarts_optimizer=10, normalize_y=True,\n",
       "             optimizer='fmin_l_bfgs_b', random_state=1000),\n",
       "           n_jobs=10)"
      ]
     },
     "execution_count": 46,
     "metadata": {},
     "output_type": "execute_result"
    }
   ],
   "source": [
    "regr_multirf = MultiOutputRegressor(estimator=gpr, n_jobs=10)\n",
    "regr_multirf.fit(train_data, train_values)\n"
   ]
  },
  {
   "cell_type": "code",
   "execution_count": 69,
   "metadata": {
    "collapsed": true
   },
   "outputs": [],
   "source": [
    "y_multirf = regr_multirf.predict(test_data)"
   ]
  },
  {
   "cell_type": "code",
   "execution_count": 76,
   "metadata": {},
   "outputs": [
    {
     "data": {
      "text/plain": [
       "(224, 2)"
      ]
     },
     "execution_count": 76,
     "metadata": {},
     "output_type": "execute_result"
    }
   ],
   "source": [
    "np.shape(y_multirf)"
   ]
  },
  {
   "cell_type": "code",
   "execution_count": 77,
   "metadata": {},
   "outputs": [
    {
     "data": {
      "text/plain": [
       "(224, 2)"
      ]
     },
     "execution_count": 77,
     "metadata": {},
     "output_type": "execute_result"
    }
   ],
   "source": [
    "np.shape(test_values)"
   ]
  },
  {
   "cell_type": "code",
   "execution_count": 78,
   "metadata": {},
   "outputs": [
    {
     "data": {
      "text/plain": [
       "0.46533614011951618"
      ]
     },
     "execution_count": 78,
     "metadata": {},
     "output_type": "execute_result"
    }
   ],
   "source": [
    "regr_multirf.score(test_data,test_values)"
   ]
  },
  {
   "cell_type": "code",
   "execution_count": 61,
   "metadata": {},
   "outputs": [
    {
     "data": {
      "text/plain": [
       "(224, 2)"
      ]
     },
     "execution_count": 61,
     "metadata": {},
     "output_type": "execute_result"
    }
   ],
   "source": [
    "np.shape(list(zip(*y_multirf.tolist())))"
   ]
  },
  {
   "cell_type": "code",
   "execution_count": 64,
   "metadata": {},
   "outputs": [
    {
     "data": {
      "image/png": "[encoded data removed]",
      "text/plain": [
       "<Figure size 432x288 with 1 Axes>"
      ]
     },
     "metadata": {},
     "output_type": "display_data"
    }
   ],
   "source": [
    "# plt.scatter(x=y_multirf[0].tolist(),y=y_multirf[1].tolist())\n",
    "# plt.show()\n",
    "x = list(zip(*y_multirf.tolist()))\n",
    "plt.scatter(x[0],x[1])\n",
    "plt.show()"
   ]
  },
  {
   "cell_type": "code",
   "execution_count": 79,
   "metadata": {},
   "outputs": [
    {
     "data": {
      "text/plain": [
       "array([[-0.08823784,  0.17934649],\n",
       "       [ 0.23558032,  0.32411901],\n",
       "       [ 0.58498194,  0.48597643],\n",
       "       [-0.40538425, -0.14541304],\n",
       "       [-0.41013923, -0.06815545],\n",
       "       [-0.0869154 ,  0.10626381],\n",
       "       [-0.80990124, -0.32171568],\n",
       "       [ 0.26100173,  0.23246933],\n",
       "       [-0.44363132, -0.0743312 ],\n",
       "       [-0.09155601,  0.04481799],\n",
       "       [-0.51472175, -0.15033169],\n",
       "       [-0.51912051, -0.25820383],\n",
       "       [-0.50488757, -0.21483669],\n",
       "       [-0.0831111 ,  0.01583043],\n",
       "       [-0.51566142, -0.19307216],\n",
       "       [-0.0712653 , -0.05444195],\n",
       "       [ 0.04485414,  0.07628228],\n",
       "       [ 0.01425914,  0.15400837],\n",
       "       [-0.20331382,  0.04286848],\n",
       "       [-0.31111961, -0.17049052],\n",
       "       [-0.15193582, -0.03598706],\n",
       "       [-0.02159772,  0.17511318],\n",
       "       [ 0.08619592,  0.1251353 ],\n",
       "       [ 0.08264238,  0.09884585],\n",
       "       [-0.21221219,  0.19607677],\n",
       "       [ 0.48224446,  0.48311467],\n",
       "       [-0.27677171,  0.09079591],\n",
       "       [-0.2055665 , -0.10467329],\n",
       "       [ 0.14037667,  0.17478644],\n",
       "       [-0.31658168, -0.08176798],\n",
       "       [ 0.25799952,  0.14400542],\n",
       "       [ 0.26271674,  0.35455095],\n",
       "       [-0.28429372, -0.03438317],\n",
       "       [-0.27516681,  0.01978145],\n",
       "       [-0.32007146,  0.07721251],\n",
       "       [-0.60843369, -0.1088799 ],\n",
       "       [-0.33827742,  0.04007243],\n",
       "       [ 0.1065533 ,  0.29194343],\n",
       "       [-0.26270779, -0.15857548],\n",
       "       [ 0.17020283,  0.29868412],\n",
       "       [-0.49630494, -0.29356588],\n",
       "       [-0.29813519, -0.11597708],\n",
       "       [ 0.07674398,  0.01199143],\n",
       "       [ 0.13522375,  0.17637394],\n",
       "       [-0.32414089,  0.02970159],\n",
       "       [-0.30304142,  0.00674395],\n",
       "       [-0.3354567 , -0.01918709],\n",
       "       [ 0.35977085, -0.09155455],\n",
       "       [-0.22680978,  0.10336641],\n",
       "       [ 0.47300032,  0.32797031],\n",
       "       [ 0.40223991,  0.38609946],\n",
       "       [ 0.05184008, -0.14946332],\n",
       "       [-0.13237612,  0.09184163],\n",
       "       [-0.10301664,  0.00758205],\n",
       "       [-0.08926226, -0.13130954],\n",
       "       [ 0.19497966,  0.09627678],\n",
       "       [-0.40485686, -0.08582805],\n",
       "       [ 0.0841718 ,  0.12984218],\n",
       "       [-0.1862336 , -0.16240423],\n",
       "       [-0.12337087, -0.00487472],\n",
       "       [-0.33087052,  0.09217818],\n",
       "       [ 0.26376296, -0.04074696],\n",
       "       [-0.26719707, -0.12110005],\n",
       "       [ 0.34276859,  0.41423574],\n",
       "       [-0.40321371, -0.1544984 ],\n",
       "       [ 0.19699176,  0.00706711],\n",
       "       [-0.49132391, -0.16053873],\n",
       "       [ 0.58857824,  0.38901226],\n",
       "       [-0.08124063, -0.15878512],\n",
       "       [ 0.35151558,  0.03297863],\n",
       "       [ 0.59116134, -0.10211849],\n",
       "       [-0.25603827, -0.14340333],\n",
       "       [-0.26059945, -0.00153941],\n",
       "       [-0.27375934,  0.15444811],\n",
       "       [-0.46147636, -0.06924778],\n",
       "       [-0.31052121,  0.04450322],\n",
       "       [ 0.07722031,  0.08250168],\n",
       "       [-0.38169486, -0.11972833],\n",
       "       [-0.40696985, -0.16964746],\n",
       "       [ 0.32568538,  0.05475831],\n",
       "       [-0.71239495, -0.23696078],\n",
       "       [ 0.23627201,  0.30723363],\n",
       "       [-0.17748228,  0.03631446],\n",
       "       [ 0.20240312,  0.27489503],\n",
       "       [-0.11812498,  0.03072952],\n",
       "       [ 0.02881736,  0.30327813],\n",
       "       [-0.25541076, -0.11404932],\n",
       "       [-0.14129295,  0.12451446],\n",
       "       [ 0.34537336,  0.26460977],\n",
       "       [-0.11486998,  0.03430794],\n",
       "       [-0.09699316, -0.04554511],\n",
       "       [ 0.23691328,  0.19061941],\n",
       "       [ 0.47655797,  0.22781665],\n",
       "       [-0.2232932 , -0.04476816],\n",
       "       [ 0.35333328,  0.20497172],\n",
       "       [ 0.08547293,  0.16001395],\n",
       "       [ 0.54120174,  0.39906418],\n",
       "       [ 0.44527362,  0.20066626],\n",
       "       [ 0.16103397,  0.2777324 ],\n",
       "       [-0.02331884,  0.24098994],\n",
       "       [-0.39741654, -0.0299748 ],\n",
       "       [ 0.41466751,  0.2874476 ],\n",
       "       [-0.15420983, -0.03286296],\n",
       "       [-0.1597523 , -0.05121855],\n",
       "       [-0.09363733,  0.07233088],\n",
       "       [-0.21138555, -0.17621614],\n",
       "       [-0.40974247, -0.07916467],\n",
       "       [ 0.04112179,  0.18108092],\n",
       "       [ 0.32188275,  0.22600641],\n",
       "       [-0.3144116 , -0.05960736],\n",
       "       [-0.10597395, -0.2421877 ],\n",
       "       [ 0.25577008,  0.14112813],\n",
       "       [-0.54158365, -0.22796535],\n",
       "       [-0.22691797, -0.04356096],\n",
       "       [ 0.24820319,  0.28882166],\n",
       "       [-0.17949281, -0.08310826],\n",
       "       [ 0.1839181 ,  0.21627903],\n",
       "       [ 0.05642261,  0.02553439],\n",
       "       [-0.31016284, -0.18004167],\n",
       "       [ 0.28599649,  0.19485259],\n",
       "       [-0.29560513,  0.04138274],\n",
       "       [-0.07978402, -0.02283431],\n",
       "       [-0.07329969,  0.0237597 ],\n",
       "       [-0.29654636, -0.00141517],\n",
       "       [-0.21081665,  0.15268389],\n",
       "       [-0.48062834, -0.16459076],\n",
       "       [-0.3473446 , -0.05219748],\n",
       "       [ 0.40431865,  0.23750094],\n",
       "       [ 0.41465369,  0.33516605],\n",
       "       [ 0.20745673,  0.01786533],\n",
       "       [ 0.07596226,  0.2261747 ],\n",
       "       [-0.50931514, -0.19424895],\n",
       "       [-0.16215485,  0.08782251],\n",
       "       [ 0.51176695,  0.31095275],\n",
       "       [-0.28916636, -0.06117434],\n",
       "       [ 0.32635868,  0.36768931],\n",
       "       [-0.44074786, -0.30306303],\n",
       "       [-0.23627795, -0.03177011],\n",
       "       [ 0.43236069,  0.20108539],\n",
       "       [-0.64121145, -0.18088593],\n",
       "       [-0.29147525,  0.0642566 ],\n",
       "       [ 0.17746034, -0.11272957],\n",
       "       [ 0.38704803,  0.27325891],\n",
       "       [-0.57157537, -0.36663169],\n",
       "       [ 0.22951926,  0.32144679],\n",
       "       [-0.64903454, -0.18415591],\n",
       "       [-0.16889073,  0.21395025],\n",
       "       [ 0.0518472 , -0.01614902],\n",
       "       [ 0.20414761,  0.25938903],\n",
       "       [-0.0718982 , -0.12289196],\n",
       "       [-0.29675322, -0.10857364],\n",
       "       [-0.23090097,  0.0147256 ],\n",
       "       [-0.3031137 , -0.07084321],\n",
       "       [-0.43039953, -0.07808664],\n",
       "       [-0.33880274, -0.13474459],\n",
       "       [-0.78417013, -0.21038835],\n",
       "       [ 0.70492606,  0.42816571],\n",
       "       [-0.42691045, -0.06542299],\n",
       "       [ 0.04244626, -0.06596543],\n",
       "       [ 0.31919381, -0.0421053 ],\n",
       "       [-0.42989199, -0.08178361],\n",
       "       [-0.29147839,  0.08144589],\n",
       "       [ 0.19746388,  0.16234508],\n",
       "       [-0.08899479,  0.03890646],\n",
       "       [ 0.25149904, -0.19582091],\n",
       "       [-0.02795839,  0.0541666 ],\n",
       "       [ 0.0716443 ,  0.0969522 ],\n",
       "       [ 0.21766294,  0.22527527],\n",
       "       [-0.62621475, -0.24754071],\n",
       "       [ 0.12065201,  0.25114056],\n",
       "       [-0.36245323, -0.1014011 ],\n",
       "       [-0.23609135, -0.0538977 ],\n",
       "       [ 0.45087338,  0.26203988],\n",
       "       [-0.43574401, -0.27494512],\n",
       "       [-0.15293603,  0.28113096],\n",
       "       [-0.19709433, -0.04459807],\n",
       "       [-0.08043363,  0.28610505],\n",
       "       [ 0.36022765,  0.26561373],\n",
       "       [ 0.19071321,  0.21670591],\n",
       "       [ 0.15286165,  0.07513646],\n",
       "       [-0.02553003, -0.05201338],\n",
       "       [-0.48314286, -0.1700837 ],\n",
       "       [-0.35627852, -0.16553549],\n",
       "       [-0.05094901,  0.0726904 ],\n",
       "       [-0.78425676, -0.24111845],\n",
       "       [ 0.01248221,  0.27324075],\n",
       "       [ 0.07605525,  0.09430371],\n",
       "       [ 0.35284465,  0.12848334],\n",
       "       [-0.16733988,  0.11394284],\n",
       "       [ 0.17757581,  0.24342185],\n",
       "       [-0.46566526,  0.02984592],\n",
       "       [-0.33508342,  0.0147782 ],\n",
       "       [-0.10396166,  0.13755907],\n",
       "       [-0.35458076,  0.05404365],\n",
       "       [ 0.18157301,  0.26249017],\n",
       "       [ 0.07574626,  0.01008629],\n",
       "       [ 0.14650749, -0.12611212],\n",
       "       [-0.29621399, -0.10222642],\n",
       "       [ 0.39175077,  0.2625933 ],\n",
       "       [ 0.3558054 ,  0.24297403],\n",
       "       [-0.10598031, -0.03951487],\n",
       "       [ 0.01497871, -0.07776558],\n",
       "       [ 0.45537858,  0.10948459],\n",
       "       [-0.25507991,  0.06916062],\n",
       "       [ 0.13908766,  0.19716973],\n",
       "       [ 0.33650692,  0.26018628],\n",
       "       [ 0.67069245,  0.38891279],\n",
       "       [-0.26506853,  0.11687218],\n",
       "       [-0.47356849, -0.10402527],\n",
       "       [ 0.45556522,  0.25149749],\n",
       "       [-0.01657226,  0.15618517],\n",
       "       [ 0.33066955,  0.3364878 ],\n",
       "       [-0.31949968, -0.12528466],\n",
       "       [-0.32327107,  0.04876162],\n",
       "       [ 0.48706694,  0.42528349],\n",
       "       [ 0.11779449,  0.33199944],\n",
       "       [ 0.0018626 ,  0.00516964],\n",
       "       [-0.15537   , -0.03896909],\n",
       "       [-0.05721357, -0.01402569],\n",
       "       [-0.00400206,  0.05130456],\n",
       "       [ 0.32456125,  0.1588512 ],\n",
       "       [ 0.35628271, -0.00130594],\n",
       "       [-0.22800005, -0.13962502],\n",
       "       [-0.45335626, -0.44863796]])"
      ]
     },
     "execution_count": 79,
     "metadata": {},
     "output_type": "execute_result"
    }
   ],
   "source": [
    "y_multirf"
   ]
  }
 ],
 "metadata": {
  "kernelspec": {
   "display_name": "Python 3",
   "language": "python",
   "name": "python3"
  },
  "language_info": {
   "codemirror_mode": {
    "name": "ipython",
    "version": 3
   },
   "file_extension": ".py",
   "mimetype": "text/x-python",
   "name": "python",
   "nbconvert_exporter": "python",
   "pygments_lexer": "ipython3",
   "version": "3.6.2"
  }
 },
 "nbformat": 4,
 "nbformat_minor": 2
}
