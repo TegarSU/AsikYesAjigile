{
 "cells": [
  {
   "cell_type": "code",
   "execution_count": 1,
   "metadata": {
    "collapsed": true
   },
   "outputs": [],
   "source": [
    "import pandas as pd\n",
    "import numpy as np\n",
    "\n",
    "# from tqdm import tqdm_notebook as tqdm"
   ]
  },
  {
   "cell_type": "code",
   "execution_count": 2,
   "metadata": {
    "collapsed": true
   },
   "outputs": [],
   "source": [
    "# #PATH\n",
    "\n",
    "path_info = \"F:/178/Tugas Akhir/dataset/annotations/\"\n",
    "filename = \"songs_info.csv\"\n",
    "path_to_fitur = \"F:/178/Tugas Akhir/dataset/coba fitur/\"\n",
    "path_to_experiment =\"F:/178/Tugas Akhir/dataset/experiment/\""
   ]
  },
  {
   "cell_type": "code",
   "execution_count": 3,
   "metadata": {
    "collapsed": true
   },
   "outputs": [],
   "source": [
    "# Song Info\n",
    "\n",
    "info = pd.read_csv(path_info + filename)\n",
    "song_file = info['song_id'].to_list()\n",
    "# info.head()"
   ]
  },
  {
   "cell_type": "code",
   "execution_count": 45,
   "metadata": {
    "collapsed": true
   },
   "outputs": [],
   "source": [
    "# tes = [146,272,435]\n",
    "for i in song_file:\n",
    "    data1 = pd.read_csv(path_to_fitur + str(i)+\"/cent.csv\",header=None) #0,1938\n",
    "    data2 = pd.read_csv(path_to_fitur + str(i)+\"/flux.csv\",header=None) #0,1938\n",
    "    data3 = pd.read_csv(path_to_fitur + str(i)+\"/rolloff.csv\",header=None) #0,1938\n",
    "    data4 = pd.read_csv(path_to_fitur + str(i)+\"/zc.csv\",header=None) #0,1938\n",
    "    frame = [data1,data2,data3,data4]\n",
    "    result = pd.concat(frame)\n",
    "#     print(i,result.shape,result.isnull().sum().sum())\n",
    "    pd.DataFrame(result).to_csv(path_to_fitur + str(i)+\"/timbre.csv\", header=None, index=None)"
   ]
  },
  {
   "cell_type": "code",
   "execution_count": null,
   "metadata": {
    "collapsed": true
   },
   "outputs": [],
   "source": []
  },
  {
   "cell_type": "code",
   "execution_count": null,
   "metadata": {
    "collapsed": true
   },
   "outputs": [],
   "source": [
    "# pd.DataFrame(result).to_csv(path_to_fitur + str(i)+\"/timbre.csv\", header=None, index=None)"
   ]
  }
 ],
 "metadata": {
  "kernelspec": {
   "display_name": "Python 3",
   "language": "python",
   "name": "python3"
  },
  "language_info": {
   "codemirror_mode": {
    "name": "ipython",
    "version": 3
   },
   "file_extension": ".py",
   "mimetype": "text/x-python",
   "name": "python",
   "nbconvert_exporter": "python",
   "pygments_lexer": "ipython3",
   "version": "3.6.2"
  }
 },
 "nbformat": 4,
 "nbformat_minor": 2
}
