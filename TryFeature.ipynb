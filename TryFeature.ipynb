{
 "cells": [
  {
   "cell_type": "markdown",
   "metadata": {},
   "source": [
    "# EXTRACT FEATURE (LIBROSA)"
   ]
  },
  {
   "cell_type": "code",
   "execution_count": 1,
   "metadata": {
    "collapsed": true
   },
   "outputs": [],
   "source": [
    "import pandas as pd\n",
    "import numpy as np\n",
    "import os\n",
    "import librosa\n",
    "import librosa.display\n",
    "import IPython.display as ipd\n",
    "\n",
    "from os import path\n",
    "from pathlib import Path"
   ]
  },
  {
   "cell_type": "code",
   "execution_count": 2,
   "metadata": {
    "collapsed": true
   },
   "outputs": [],
   "source": [
    "# #PATH\n",
    "\n",
    "path_info = \"F:/178/Tugas Akhir/dataset/annotations/\"\n",
    "path_to_fitur = \"F:/178/Tugas Akhir/dataset/coba fitur/\"\n",
    "path_to_file = \"F:/178/Tugas Akhir/dataset/clips_45sec_wav/\"\n",
    "path_to_experiment =\"F:/178/Tugas Akhir/dataset/experiment/\""
   ]
  },
  {
   "cell_type": "code",
   "execution_count": 3,
   "metadata": {},
   "outputs": [
    {
     "data": {
      "text/html": [
       "<div>\n",
       "<style scoped>\n",
       "    .dataframe tbody tr th:only-of-type {\n",
       "        vertical-align: middle;\n",
       "    }\n",
       "\n",
       "    .dataframe tbody tr th {\n",
       "        vertical-align: top;\n",
       "    }\n",
       "\n",
       "    .dataframe thead th {\n",
       "        text-align: right;\n",
       "    }\n",
       "</style>\n",
       "<table border=\"1\" class=\"dataframe\">\n",
       "  <thead>\n",
       "    <tr style=\"text-align: right;\">\n",
       "      <th></th>\n",
       "      <th>song_id</th>\n",
       "      <th>file_name</th>\n",
       "      <th>Artist</th>\n",
       "      <th>Song title</th>\n",
       "      <th>start of the segment (min.sec)</th>\n",
       "      <th>end of the segment (min.sec)</th>\n",
       "      <th>Genre</th>\n",
       "      <th>Mediaeval 2013 set</th>\n",
       "    </tr>\n",
       "  </thead>\n",
       "  <tbody>\n",
       "    <tr>\n",
       "      <th>0</th>\n",
       "      <td>2</td>\n",
       "      <td>\\t2.mp3</td>\n",
       "      <td>The New Mystikal Troubadours\\t</td>\n",
       "      <td>\\tTonight  A Lonely Century\\t</td>\n",
       "      <td>0.48</td>\n",
       "      <td>1.33</td>\n",
       "      <td>\\tBlues\\t</td>\n",
       "      <td>development</td>\n",
       "    </tr>\n",
       "    <tr>\n",
       "      <th>1</th>\n",
       "      <td>3</td>\n",
       "      <td>\\t3.mp3</td>\n",
       "      <td>Kevin MacLeod\\t</td>\n",
       "      <td>\\tDD Groove\\t</td>\n",
       "      <td>0.36</td>\n",
       "      <td>1.21</td>\n",
       "      <td>\\tBlues\\t</td>\n",
       "      <td>evaluation</td>\n",
       "    </tr>\n",
       "    <tr>\n",
       "      <th>2</th>\n",
       "      <td>4</td>\n",
       "      <td>\\t4.mp3</td>\n",
       "      <td>Kevin MacLeod\\t</td>\n",
       "      <td>\\tSlow Burn\\t</td>\n",
       "      <td>1.29</td>\n",
       "      <td>2.14</td>\n",
       "      <td>\\tBlues\\t</td>\n",
       "      <td>development</td>\n",
       "    </tr>\n",
       "    <tr>\n",
       "      <th>3</th>\n",
       "      <td>5</td>\n",
       "      <td>\\t5.mp3</td>\n",
       "      <td>My Bubba &amp; Mi\\t</td>\n",
       "      <td>\\tNothing Much\\t</td>\n",
       "      <td>0.36</td>\n",
       "      <td>1.21</td>\n",
       "      <td>\\tBlues\\t</td>\n",
       "      <td>development</td>\n",
       "    </tr>\n",
       "    <tr>\n",
       "      <th>4</th>\n",
       "      <td>7</td>\n",
       "      <td>\\t7.mp3</td>\n",
       "      <td>Kevin MacLeod\\t</td>\n",
       "      <td>\\tHustle\\t</td>\n",
       "      <td>0.20</td>\n",
       "      <td>1.05</td>\n",
       "      <td>\\tBlues\\t</td>\n",
       "      <td>development</td>\n",
       "    </tr>\n",
       "  </tbody>\n",
       "</table>\n",
       "</div>"
      ],
      "text/plain": [
       "   song_id file_name                          Artist  \\\n",
       "0        2   \\t2.mp3  The New Mystikal Troubadours\\t   \n",
       "1        3   \\t3.mp3                 Kevin MacLeod\\t   \n",
       "2        4   \\t4.mp3                 Kevin MacLeod\\t   \n",
       "3        5   \\t5.mp3                 My Bubba & Mi\\t   \n",
       "4        7   \\t7.mp3                 Kevin MacLeod\\t   \n",
       "\n",
       "                      Song title  start of the segment (min.sec)  \\\n",
       "0  \\tTonight  A Lonely Century\\t                            0.48   \n",
       "1                  \\tDD Groove\\t                            0.36   \n",
       "2                  \\tSlow Burn\\t                            1.29   \n",
       "3               \\tNothing Much\\t                            0.36   \n",
       "4                     \\tHustle\\t                            0.20   \n",
       "\n",
       "   end of the segment (min.sec)      Genre Mediaeval 2013 set  \n",
       "0                          1.33  \\tBlues\\t        development  \n",
       "1                          1.21  \\tBlues\\t         evaluation  \n",
       "2                          2.14  \\tBlues\\t        development  \n",
       "3                          1.21  \\tBlues\\t        development  \n",
       "4                          1.05  \\tBlues\\t        development  "
      ]
     },
     "execution_count": 3,
     "metadata": {},
     "output_type": "execute_result"
    }
   ],
   "source": [
    "# Song Info\n",
    "\n",
    "filename = \"songs_info.csv\"\n",
    "info = pd.read_csv(path_info + filename)\n",
    "info.head()"
   ]
  },
  {
   "cell_type": "code",
   "execution_count": 136,
   "metadata": {},
   "outputs": [
    {
     "name": "stdout",
     "output_type": "stream",
     "text": [
      "development    619\n",
      "evaluation     125\n",
      "Name: Mediaeval 2013 set, dtype: int64\n"
     ]
    }
   ],
   "source": [
    "print(info['Mediaeval 2013 set'].value_counts(dropna=False))"
   ]
  },
  {
   "cell_type": "code",
   "execution_count": 4,
   "metadata": {
    "collapsed": true
   },
   "outputs": [],
   "source": [
    "song_file = info['song_id'].to_list()\n",
    "# song_file"
   ]
  },
  {
   "cell_type": "code",
   "execution_count": 144,
   "metadata": {
    "collapsed": true
   },
   "outputs": [],
   "source": []
  },
  {
   "cell_type": "code",
   "execution_count": 9,
   "metadata": {
    "collapsed": true
   },
   "outputs": [],
   "source": [
    "# #MFCC\n",
    "def mfcc(y,sr,file):\n",
    "    mfcc = librosa.feature.mfcc(y=y, sr=sr, n_mfcc=13) #13 is default dimension frame 512\n",
    "    mfcc_np = np.asarray(mfcc)\n",
    "    mfcc_to_csv = pd.DataFrame(mfcc)\n",
    "    mfcc_to_csv.to_csv(path_to_fitur+file+\"/mfcc.csv\", index=False, header=False)\n",
    "    return mfcc\n",
    "\n",
    "# #CHROMA\n",
    "def chroma(y,sr,file):\n",
    "    chroma = librosa.feature.chroma_stft(y=y, sr=sr, n_chroma=24)\n",
    "    chroma_to_csv = pd.DataFrame(chroma)\n",
    "    chroma_to_csv.to_csv(path_to_fitur+file+\"/chroma.csv\", index=False, header=False)\n",
    "    return chroma\n",
    "\n",
    "# #TIMBRE // ZERO CROSSING \n",
    "def zc(y,sr,file):\n",
    "    zc = librosa.feature.zero_crossing_rate(y) #1 is default dimension 512 frame\n",
    "    zc_to_csv = pd.DataFrame(zc)\n",
    "    zc_to_csv.to_csv(path_to_fitur+file+\"/zc.csv\", index=False, header=False)\n",
    "    return zc\n",
    "\n",
    "\n",
    "# #TIMBRE // FLUX \n",
    "def flux(y,sr,file):\n",
    "    onset_env = librosa.onset.onset_strength(y=y, sr=sr) #1 is default dimension 512 frame\n",
    "    flux_to_csv = pd.DataFrame(onset_env)\n",
    "    flux_to_csv.to_csv(path_to_fitur+file+\"/flux.csv\", index=False, header=False)\n",
    "    return onset_env\n",
    "\n",
    "# #TIMBRE // CENTROID \n",
    "def cent(y,sr,file):\n",
    "    cent = librosa.feature.spectral_centroid(y=y, sr=sr)\n",
    "    cent_to_csv = pd.DataFrame(cent)\n",
    "    cent_to_csv.to_csv(path_to_fitur+file+\"/cent.csv\", index=False, header=False)\n",
    "    return cent\n",
    "\n",
    "# #TIMBRE // ROLLOFF\n",
    "def rollof(y,sr,file):\n",
    "    rolloff = librosa.feature.spectral_rolloff(y=y, sr=sr) #1 is default dimension 512 frame\n",
    "    rolloff_to_csv = pd.DataFrame(rolloff)\n",
    "    rolloff_to_csv.to_csv(path_to_fitur+file+\"/rolloff.csv\")\n",
    "    return rolloff\n",
    "\n",
    "# #SCF and SFM "
   ]
  },
  {
   "cell_type": "code",
   "execution_count": 6,
   "metadata": {
    "collapsed": true
   },
   "outputs": [],
   "source": [
    "# def load(file, start):\n",
    "#     \n",
    "    \n",
    "#     return y, sr"
   ]
  },
  {
   "cell_type": "code",
   "execution_count": 5,
   "metadata": {
    "collapsed": true
   },
   "outputs": [],
   "source": []
  },
  {
   "cell_type": "code",
   "execution_count": 7,
   "metadata": {
    "collapsed": true
   },
   "outputs": [],
   "source": [
    "def fitur(file):\n",
    "    #load file\n",
    "    check = Path(path_to_file+file+\".wav\")\n",
    "    if check.is_file():\n",
    "        # file exists\n",
    "        paths = path_to_file+file+\".mp3\"\n",
    "        \n",
    "    y, sr = librosa.load(paths, offset=start, duration=45.0,sr=22050,mono=False) #load 45 and with same freq\n",
    "\n",
    "        \n",
    "#     content = rollof(y,sr,file)\n",
    "#     content = cent(y,sr,file) # CENTROID\n",
    "#     content = flux(y,sr,file) #FLUX\n",
    "#     content = zc(y,sr,file) #ZC\n",
    "#     content = chroma(y,sr,file) #chroma\n",
    "    content = mfcc(y,sr,file) #mfcc\n",
    "\n",
    "    return content"
   ]
  },
  {
   "cell_type": "code",
   "execution_count": 8,
   "metadata": {
    "collapsed": true
   },
   "outputs": [],
   "source": [
    "def matrix_form(fiture):\n",
    "    print(\"Bentuk matrix :\",fiture.shape) # 45 * SR // frame\n",
    "    print(\"Nilai Max matrix :\",fiture.max())\n",
    "    print(\"Nilai Min matrix :\",fiture.min())\n",
    "    print(\"\\n\")"
   ]
  },
  {
   "cell_type": "code",
   "execution_count": 10,
   "metadata": {
    "collapsed": true
   },
   "outputs": [],
   "source": [
    "for val in song_file:\n",
    "    # make dir\n",
    "    try:  \n",
    "        os.mkdir(path_to_fitur+str(val))\n",
    "    except OSError:  \n",
    "        print (\"Creation of the directory %s failed\" % path_to_fitur)\n",
    "    else:  \n",
    "        print (\"Successfully created the directory %s \" % path_to_fitur)\n",
    "    \n",
    "    \n",
    "    fiture = fitur(str(val))\n",
    "    matrix_form(fiture)"
   ]
  },
  {
   "cell_type": "code",
   "execution_count": null,
   "metadata": {
    "collapsed": true
   },
   "outputs": [],
   "source": []
  },
  {
   "cell_type": "code",
   "execution_count": null,
   "metadata": {
    "collapsed": true
   },
   "outputs": [],
   "source": []
  },
  {
   "cell_type": "markdown",
   "metadata": {},
   "source": [
    "# Manual"
   ]
  },
  {
   "cell_type": "code",
   "execution_count": 8,
   "metadata": {
    "collapsed": true
   },
   "outputs": [],
   "source": [
    "## MFCC\n",
    "\n",
    "# import numpy\n",
    "# import scipy.io.wavfile\n",
    "# from scipy.fftpack import dct\n",
    "# import matplotlib.pyplot as plt\n",
    "# from matplotlib.pyplot import figure"
   ]
  },
  {
   "cell_type": "code",
   "execution_count": 6,
   "metadata": {
    "collapsed": true
   },
   "outputs": [],
   "source": [
    "# sample_rate, signal = scipy.io.wavfile.read(\"C:/Users/USER/Downloads/Tugas Akhir/dataset/clips_45sec_wav/2.wav\")  # File assumed to be in the same directory\n",
    "# signal = signal[0:int(45 * sample_rate)]  # Keep the first 45 seconds"
   ]
  },
  {
   "cell_type": "code",
   "execution_count": 10,
   "metadata": {},
   "outputs": [
    {
     "data": {
      "text/plain": [
       "[<matplotlib.lines.Line2D at 0x1fde8fedc18>]"
      ]
     },
     "execution_count": 10,
     "metadata": {},
     "output_type": "execute_result"
    },
    {
     "data": {
      "image/png": "[encoded data removed]",
      "text/plain": [
       "<Figure size 1008x576 with 1 Axes>"
      ]
     },
     "metadata": {},
     "output_type": "display_data"
    }
   ],
   "source": [
    "# plt.figure(figsize=(14, 8))\n",
    "\n",
    "# # plt.ylabel('Hz')\n",
    "# # plt.xlabel('TIme')\n",
    "# plt.plot(signal)"
   ]
  },
  {
   "cell_type": "code",
   "execution_count": 11,
   "metadata": {
    "collapsed": true
   },
   "outputs": [],
   "source": [
    "# pre_emphasis = 0.97\n",
    "# emphasized_signal = numpy.append(signal[0], signal[1:] - pre_emphasis * signal[:-1])"
   ]
  },
  {
   "cell_type": "code",
   "execution_count": 12,
   "metadata": {},
   "outputs": [
    {
     "data": {
      "text/plain": [
       "[<matplotlib.lines.Line2D at 0x1fd8530b080>]"
      ]
     },
     "execution_count": 12,
     "metadata": {},
     "output_type": "execute_result"
    },
    {
     "data": {
      "image/png": "[encoded data removed]",
      "text/plain": [
       "<Figure size 1008x576 with 1 Axes>"
      ]
     },
     "metadata": {},
     "output_type": "display_data"
    }
   ],
   "source": [
    "# plt.figure(figsize=(14, 8))\n",
    "\n",
    "# # plt.ylabel('Hz')\n",
    "# # plt.xlabel('TIme')\n",
    "# plt.plot(emphasized_signal)"
   ]
  },
  {
   "cell_type": "code",
   "execution_count": 3,
   "metadata": {
    "collapsed": true
   },
   "outputs": [],
   "source": [
    "frame_size = 0.0232\n",
    "frame_stride = 0.01\n",
    "NFFT = 512\n",
    "nfilt = 40\n",
    "num_ceps = 13"
   ]
  },
  {
   "cell_type": "code",
   "execution_count": 24,
   "metadata": {
    "collapsed": true
   },
   "outputs": [],
   "source": [
    "frame_length, frame_step = frame_size * sample_rate, frame_stride * sample_rate  # Convert from seconds to samples\n",
    "signal_length = len(emphasized_signal)\n",
    "frame_length = int(round(frame_length))\n",
    "frame_step = int(round(frame_step))\n",
    "num_frames = int(numpy.ceil(float(numpy.abs(signal_length - frame_length)) / frame_step))  # Make sure that we have at least 1 frame\n",
    "\n",
    "pad_signal_length = num_frames * frame_step + frame_length\n",
    "z = numpy.zeros((pad_signal_length - signal_length))\n",
    "pad_signal = numpy.append(emphasized_signal, z) # Pad Signal to make sure that all frames have equal number of samples without truncating any samples from the original signal\n",
    "\n",
    "indices = numpy.tile(numpy.arange(0, frame_length), (num_frames, 1)) + numpy.tile(numpy.arange(0, num_frames * frame_step, frame_step), (frame_length, 1)).T\n",
    "frames = pad_signal[indices.astype(numpy.int32, copy=False)]"
   ]
  },
  {
   "cell_type": "code",
   "execution_count": 25,
   "metadata": {
    "collapsed": true
   },
   "outputs": [],
   "source": [
    "frames *= numpy.hamming(frame_length)"
   ]
  },
  {
   "cell_type": "code",
   "execution_count": 26,
   "metadata": {
    "collapsed": true
   },
   "outputs": [],
   "source": [
    "mag_frames = numpy.absolute(numpy.fft.rfft(frames, NFFT))  # Magnitude of the FFT\n",
    "pow_frames = ((1.0 / NFFT) * ((mag_frames) ** 2))  # Power Spectrum"
   ]
  },
  {
   "cell_type": "code",
   "execution_count": 27,
   "metadata": {
    "collapsed": true
   },
   "outputs": [],
   "source": [
    "low_freq_mel = 0\n",
    "high_freq_mel = (2595 * numpy.log10(1 + (sample_rate / 2) / 700))  # Convert Hz to Mel\n",
    "mel_points = numpy.linspace(low_freq_mel, high_freq_mel, nfilt + 2)  # Equally spaced in Mel scale\n",
    "hz_points = (700 * (10**(mel_points / 2595) - 1))  # Convert Mel to Hz\n",
    "bin = numpy.floor((NFFT + 1) * hz_points / sample_rate)\n",
    "\n",
    "fbank = numpy.zeros((nfilt, int(numpy.floor(NFFT / 2 + 1))))\n",
    "for m in range(1, nfilt + 1):\n",
    "    f_m_minus = int(bin[m - 1])   # left\n",
    "    f_m = int(bin[m])             # center\n",
    "    f_m_plus = int(bin[m + 1])    # right\n",
    "\n",
    "    for k in range(f_m_minus, f_m):\n",
    "        fbank[m - 1, k] = (k - bin[m - 1]) / (bin[m] - bin[m - 1])\n",
    "    for k in range(f_m, f_m_plus):\n",
    "        fbank[m - 1, k] = (bin[m + 1] - k) / (bin[m + 1] - bin[m])\n",
    "filter_banks = numpy.dot(pow_frames, fbank.T)\n",
    "filter_banks = numpy.where(filter_banks == 0, numpy.finfo(float).eps, filter_banks)  # Numerical Stability\n",
    "filter_banks = 20 * numpy.log10(filter_banks)  # dB"
   ]
  },
  {
   "cell_type": "code",
   "execution_count": 6,
   "metadata": {
    "collapsed": true
   },
   "outputs": [],
   "source": [
    "plt.figure(figsize=(14, 8))\n",
    "\n",
    "# plt.ylabel('Hz')\n",
    "# plt.xlabel('TIme')\n",
    "plt.specgram(x=signal, NFFT=NFFT, Fs=sample_rate, Fc=0, detrend=mlab.detrend_none,\n",
    "         window=mlab.window_hanning, noverlap=128,\n",
    "         cmap=None, xextent=None, pad_to=None, sides='default',\n",
    "         scale_by_freq=None, mode='default', scale='default',\n",
    "         **kwargs)"
   ]
  },
  {
   "cell_type": "code",
   "execution_count": null,
   "metadata": {},
   "outputs": [],
   "source": []
  }
 ],
 "metadata": {
  "kernelspec": {
   "display_name": "Python 3",
   "language": "python",
   "name": "python3"
  },
  "language_info": {
   "codemirror_mode": {
    "name": "ipython",
    "version": 3
   },
   "file_extension": ".py",
   "mimetype": "text/x-python",
   "name": "python",
   "nbconvert_exporter": "python",
   "pygments_lexer": "ipython3",
   "version": "3.6.2"
  }
 },
 "nbformat": 4,
 "nbformat_minor": 2
}
