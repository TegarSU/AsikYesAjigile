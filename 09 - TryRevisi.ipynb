{
 "cells": [
  {
   "cell_type": "code",
   "execution_count": 1,
   "metadata": {
    "collapsed": true
   },
   "outputs": [],
   "source": [
    "import pandas as pd\n",
    "import numpy as np\n",
    "\n",
    "from sklearn.gaussian_process import GaussianProcessRegressor as GPR\n",
    "from sklearn.gaussian_process.kernels import RationalQuadratic\n",
    "from sklearn.model_selection import cross_val_score\n",
    "# from sklearn.model_selection import KFold\n",
    "from sklearn.model_selection import LeaveOneOut\n",
    "from sklearn.metrics import r2_score\n",
    "from sklearn.preprocessing import minmax_scale\n",
    "\n",
    "loo = LeaveOneOut()\n",
    "# kf = KFold(n_splits=10, random_state=1000)"
   ]
  },
  {
   "cell_type": "code",
   "execution_count": 2,
   "metadata": {
    "collapsed": true
   },
   "outputs": [],
   "source": [
    "# #PATH\n",
    "path_info = \"F:/178/Tugas Akhir/dataset/annotations/\"\n",
    "path_to_fitur = \"F:/178/Tugas Akhir/dataset/coba fitur/\"\n",
    "path_to_experiment =\"F:/178/Tugas Akhir/dataset/experiment/\"\n",
    "path_to_revisi = \"F:/178/Tugas Akhir/dataset/revisi/\"\n",
    "\n",
    "# path_info = \"C:/Users/USER/Downloads/Tugas Akhir/dataset/annotations/\"\n",
    "# path_to_fitur = \"C:/Users/USER/Downloads/Tugas Akhir/dataset/coba fitur/\"\n",
    "# path_to_experiment =\"C:/Users/USER/Downloads/Tugas Akhir/dataset/experiment/\"\n",
    "# path_to_model = \"C:/Users/USER/Downloads/Tugas Akhir/dataset/model/\"\n",
    "# path_to_predict = \"C:/Users/USER/Downloads/Tugas Akhir/dataset/predict/\""
   ]
  },
  {
   "cell_type": "code",
   "execution_count": 3,
   "metadata": {
    "collapsed": true
   },
   "outputs": [],
   "source": [
    "def load(fitur):\n",
    "    data = pd.read_csv(path_to_experiment + fitur+\".csv\",header=None)\n",
    "    ground = pd.read_csv(path_info + \"static_annotations.csv\")\n",
    "\n",
    "    arousal_mean = ground['mean_arousal']\n",
    "    valence_mean = ground['mean_valence']\n",
    "    \n",
    "    return data,arousal_mean,valence_mean\n",
    "\n",
    "# def crosval(clf,data,values):\n",
    "#     scores = cross_val_score(clf,data,values,scoring='r2',cv=kf)\n",
    "    \n",
    "#     return scores\n",
    "\n",
    "def crosval(clf,data,values):\n",
    "    r2 = list()\n",
    "    for train_index, test_index in loo.split(data):\n",
    "        \n",
    "        X_train, X_test = data[train_index], data[test_index]\n",
    "        y_train, y_test = values[train_index], values[test_index]\n",
    "        trained = clf.fit(X_train,y_train)\n",
    "        pred = clf.predict(X_test)\n",
    "        trained.set_params(kernel=trained.kernel_)\n",
    "        r2.append(r2_score(y_test, pred))\n",
    "        \n",
    "    return r2"
   ]
  },
  {
   "cell_type": "code",
   "execution_count": 4,
   "metadata": {
    "collapsed": true
   },
   "outputs": [],
   "source": [
    "kernels = 1.0 * RationalQuadratic(length_scale=1.0, alpha=1.0, \n",
    "                            length_scale_bounds=(1e-6, 1e6), \n",
    "                            alpha_bounds=(1e-6, 1e6))"
   ]
  },
  {
   "cell_type": "markdown",
   "metadata": {},
   "source": [
    "# CASE 1"
   ]
  },
  {
   "cell_type": "code",
   "execution_count": 5,
   "metadata": {},
   "outputs": [
    {
     "name": "stdout",
     "output_type": "stream",
     "text": [
      "(744, 26)\n"
     ]
    }
   ],
   "source": [
    "datafitur = \"case1\" #CASE 1\n",
    "\n",
    "data,arousal_mean,valence_mean = load(datafitur) #Load\n",
    "print(data.shape)\n",
    "\n",
    "scaled_ar = minmax_scale(arousal_mean,feature_range=(-1, 1))\n",
    "scaled_val = minmax_scale(valence_mean,feature_range=(-1, 1))"
   ]
  },
  {
   "cell_type": "markdown",
   "metadata": {},
   "source": [
    "INITIAL MODEL"
   ]
  },
  {
   "cell_type": "code",
   "execution_count": 6,
   "metadata": {
    "collapsed": true
   },
   "outputs": [],
   "source": [
    "gpr_a = GPR(kernel=kernels, alpha=1e-10, \n",
    "                    optimizer='fmin_l_bfgs_b', \n",
    "                    n_restarts_optimizer=10, \n",
    "                    normalize_y=True, copy_X_train=False,  \n",
    "                    random_state=1000) #init Arousal\n",
    "\n",
    "gpr_v = GPR(kernel=kernels, alpha=1e-10, \n",
    "                    optimizer='fmin_l_bfgs_b', \n",
    "                    n_restarts_optimizer=10, \n",
    "                    normalize_y=True, copy_X_train=False,  \n",
    "                    random_state=1000) #init Arousal"
   ]
  },
  {
   "cell_type": "markdown",
   "metadata": {},
   "source": [
    "CROSS VAL"
   ]
  },
  {
   "cell_type": "code",
   "execution_count": 7,
   "metadata": {},
   "outputs": [],
   "source": [
    "# scores_a = crosval(gpr_a,data,scaled_ar) #Arousal Regression\n",
    "# scores_v = crosval(gpr_v,data,scaled_val) #Arousal Regression\n",
    "\n",
    "x = np.array(data)\n",
    "ar = np.array(scaled_ar)\n",
    "val = np.array(scaled_val)\n",
    "scores_a = crosval(gpr_a,x,ar)\n",
    "scores_v = crosval(gpr_v,x,val)\n",
    "\n",
    "scores_a = np.array(scores_a)\n",
    "scores_v = np.array(scores_v)"
   ]
  },
  {
   "cell_type": "markdown",
   "metadata": {
    "collapsed": true
   },
   "source": [
    "AROUSAL"
   ]
  },
  {
   "cell_type": "code",
   "execution_count": 8,
   "metadata": {},
   "outputs": [
    {
     "name": "stdout",
     "output_type": "stream",
     "text": [
      "R2 Score Valence:\t [ 0.3910626   0.47459187  0.51632551  0.51301303  0.66232909  0.56969859\n",
      "  0.51457676  0.59973048  0.64101183  0.52510323]\n",
      "R2 Score Valence:\t0.54 (+/- 0.08)\n"
     ]
    }
   ],
   "source": [
    "print(\"R2 Score Valence:\\t\",scores_a)\n",
    "print(\"R2 Score Valence:\\t%0.2f (+/- %0.2f)\" % (scores_a.mean(), scores_a.std() ))"
   ]
  },
  {
   "cell_type": "markdown",
   "metadata": {
    "collapsed": true
   },
   "source": [
    "VALENCE"
   ]
  },
  {
   "cell_type": "code",
   "execution_count": 9,
   "metadata": {},
   "outputs": [
    {
     "name": "stdout",
     "output_type": "stream",
     "text": [
      "R2 Score Valence:\t [ 0.08964426  0.04189515  0.02299982 -0.16253443  0.35069548  0.08618049\n",
      "  0.3195261   0.26035581  0.2604227   0.11276893]\n",
      "R2 Score Valence:\t0.14 (+/- 0.15)\n"
     ]
    }
   ],
   "source": [
    "print(\"R2 Score Valence:\\t\",scores_v)\n",
    "print(\"R2 Score Valence:\\t%0.2f (+/- %0.2f)\" % (scores_v.mean(), scores_v.std() ))"
   ]
  },
  {
   "cell_type": "markdown",
   "metadata": {},
   "source": [
    "# CASE 2"
   ]
  },
  {
   "cell_type": "code",
   "execution_count": 10,
   "metadata": {},
   "outputs": [
    {
     "name": "stdout",
     "output_type": "stream",
     "text": [
      "(744, 8)\n"
     ]
    }
   ],
   "source": [
    "datafitur = \"case2\" #CASE 2\n",
    "\n",
    "data,arousal_mean,valence_mean = load(datafitur) #Load\n",
    "print(data.shape)\n",
    "\n",
    "scaled_ar = minmax_scale(arousal_mean.values,feature_range=(-1, 1))\n",
    "scaled_val = minmax_scale(valence_mean.values,feature_range=(-1, 1))"
   ]
  },
  {
   "cell_type": "markdown",
   "metadata": {},
   "source": [
    "INITIAL MODEL"
   ]
  },
  {
   "cell_type": "code",
   "execution_count": 11,
   "metadata": {
    "collapsed": true
   },
   "outputs": [],
   "source": [
    "gpr_a = GPR(kernel=kernels, alpha=1e-10, \n",
    "                    optimizer='fmin_l_bfgs_b', \n",
    "                    n_restarts_optimizer=10, \n",
    "                    normalize_y=True,\n",
    "                    random_state=1000) #init Valence\n",
    "\n",
    "gpr_v = GPR(kernel=kernels, alpha=1e-10, \n",
    "                    optimizer='fmin_l_bfgs_b', \n",
    "                    n_restarts_optimizer=10, \n",
    "                    normalize_y=True,\n",
    "                    random_state=1000) #init Valence"
   ]
  },
  {
   "cell_type": "markdown",
   "metadata": {},
   "source": [
    "CROSS VAL"
   ]
  },
  {
   "cell_type": "code",
   "execution_count": 12,
   "metadata": {
    "collapsed": true
   },
   "outputs": [],
   "source": [
    "# scores_a = crosval(gpr_a,data,scaled_ar) #Arousal Regression\n",
    "# scores_v = crosval(gpr_v,data,scaled_val) #Arousal Regression\n",
    "\n",
    "x = np.array(data)\n",
    "ar = np.array(scaled_ar)\n",
    "val = np.array(scaled_val)\n",
    "scores_a = crosval(gpr_a,x,ar)\n",
    "scores_v = crosval(gpr_v,x,val)\n",
    "\n",
    "scores_a = np.array(scores_a)\n",
    "scores_v = np.array(scores_v)"
   ]
  },
  {
   "cell_type": "markdown",
   "metadata": {},
   "source": [
    "AROUSAL"
   ]
  },
  {
   "cell_type": "code",
   "execution_count": 13,
   "metadata": {},
   "outputs": [
    {
     "name": "stdout",
     "output_type": "stream",
     "text": [
      "R2 Score Valence:\t [ 0.34577098  0.24491812  0.28127671  0.41154012  0.53725994  0.47689545\n",
      "  0.51514342  0.55903965  0.32751106  0.44906844]\n",
      "R2 Score Valence:\t0.41 (+/- 0.10)\n"
     ]
    }
   ],
   "source": [
    "print(\"R2 Score Valence:\\t\",scores_a)\n",
    "print(\"R2 Score Valence:\\t%0.2f (+/- %0.2f)\" % (scores_a.mean(), scores_a.std() ))"
   ]
  },
  {
   "cell_type": "markdown",
   "metadata": {},
   "source": [
    "VALENCE"
   ]
  },
  {
   "cell_type": "code",
   "execution_count": 14,
   "metadata": {},
   "outputs": [
    {
     "name": "stdout",
     "output_type": "stream",
     "text": [
      "R2 Score Valence:\t [ 0.32255632  0.31200536  0.27817599  0.03938088  0.45160735  0.30297123\n",
      "  0.39022827  0.3633554   0.12285081  0.05594909]\n",
      "R2 Score Valence:\t0.26 (+/- 0.13)\n"
     ]
    }
   ],
   "source": [
    "print(\"R2 Score Valence:\\t\",scores_v)\n",
    "print(\"R2 Score Valence:\\t%0.2f (+/- %0.2f)\" % (scores_v.mean(), scores_v.std() ))"
   ]
  },
  {
   "cell_type": "markdown",
   "metadata": {},
   "source": [
    "# CASE 3"
   ]
  },
  {
   "cell_type": "code",
   "execution_count": 15,
   "metadata": {},
   "outputs": [
    {
     "name": "stdout",
     "output_type": "stream",
     "text": [
      "(744, 3)\n"
     ]
    }
   ],
   "source": [
    "datafitur =  \"case3\" #CASE 3\n",
    "data,arousal_mean,valence_mean = load(datafitur) #Load\n",
    "print(data.shape)\n",
    "\n",
    "scaled_ar = minmax_scale(arousal_mean.values,feature_range=(-1, 1))\n",
    "scaled_val = minmax_scale(valence_mean.values,feature_range=(-1, 1))"
   ]
  },
  {
   "cell_type": "markdown",
   "metadata": {},
   "source": [
    "INITAL MODEL"
   ]
  },
  {
   "cell_type": "code",
   "execution_count": 16,
   "metadata": {
    "collapsed": true
   },
   "outputs": [],
   "source": [
    "gpr_a = GPR(kernel=kernels, alpha=1e-10, \n",
    "                    optimizer='fmin_l_bfgs_b', \n",
    "                    n_restarts_optimizer=10, \n",
    "                    normalize_y=True,  \n",
    "                    random_state=1000) #init Arousal\n",
    "\n",
    "gpr_v = GPR(kernel=kernels, alpha=1e-10, \n",
    "                    optimizer='fmin_l_bfgs_b', \n",
    "                    n_restarts_optimizer=10, \n",
    "                    normalize_y=True, \n",
    "                    random_state=1000) #init Valence"
   ]
  },
  {
   "cell_type": "markdown",
   "metadata": {},
   "source": [
    "CROSS VAL"
   ]
  },
  {
   "cell_type": "code",
   "execution_count": 17,
   "metadata": {
    "collapsed": true
   },
   "outputs": [],
   "source": [
    "# scores_a = crosval(gpr_a,data,scaled_ar) #Arousal Regression\n",
    "# scores_v = crosval(gpr_v,data,scaled_val) #Arousal Regression\n",
    "\n",
    "x = np.array(data)\n",
    "ar = np.array(scaled_ar)\n",
    "val = np.array(scaled_val)\n",
    "scores_a = crosval(gpr_a,x,ar)\n",
    "scores_v = crosval(gpr_v,x,val)\n",
    "\n",
    "scores_a = np.array(scores_a)\n",
    "scores_v = np.array(scores_v)"
   ]
  },
  {
   "cell_type": "markdown",
   "metadata": {},
   "source": [
    "AROUSAL"
   ]
  },
  {
   "cell_type": "code",
   "execution_count": 18,
   "metadata": {},
   "outputs": [
    {
     "name": "stdout",
     "output_type": "stream",
     "text": [
      "R2 Score Valence:\t [ 0.36172872  0.38060938  0.23187221  0.16438693  0.50029084  0.32493546\n",
      "  0.33506575  0.36362014  0.48388714  0.49246438]\n",
      "R2 Score Valence:\t0.36 (+/- 0.10)\n"
     ]
    }
   ],
   "source": [
    "print(\"R2 Score Valence:\\t\",scores_a)\n",
    "print(\"R2 Score Valence:\\t%0.2f (+/- %0.2f)\" % (scores_a.mean(), scores_a.std() ))"
   ]
  },
  {
   "cell_type": "markdown",
   "metadata": {},
   "source": [
    "VALENCE"
   ]
  },
  {
   "cell_type": "code",
   "execution_count": 19,
   "metadata": {},
   "outputs": [
    {
     "name": "stdout",
     "output_type": "stream",
     "text": [
      "R2 Score Valence:\t [-0.00952742  0.04575965 -0.01055374 -0.40370723  0.27498788  0.13892929\n",
      "  0.07811918  0.11373871  0.27856919 -0.00287357]\n",
      "R2 Score Valence:\t0.05 (+/- 0.18)\n"
     ]
    }
   ],
   "source": [
    "print(\"R2 Score Valence:\\t\",scores_v)\n",
    "print(\"R2 Score Valence:\\t%0.2f (+/- %0.2f)\" % (scores_v.mean(), scores_v.std() ))"
   ]
  },
  {
   "cell_type": "markdown",
   "metadata": {},
   "source": [
    "# CASE 4"
   ]
  },
  {
   "cell_type": "code",
   "execution_count": 20,
   "metadata": {},
   "outputs": [
    {
     "name": "stdout",
     "output_type": "stream",
     "text": [
      "(744, 24)\n"
     ]
    }
   ],
   "source": [
    "datafitur =  \"case4\" #CASE 3\n",
    "data,arousal_mean,valence_mean = load(datafitur) #Load\n",
    "print(data.shape)\n",
    "\n",
    "scaled_ar = minmax_scale(arousal_mean.values,feature_range=(-1, 1))\n",
    "scaled_val = minmax_scale(valence_mean.values,feature_range=(-1, 1))"
   ]
  },
  {
   "cell_type": "markdown",
   "metadata": {},
   "source": [
    "INITIAL MODEL"
   ]
  },
  {
   "cell_type": "code",
   "execution_count": 21,
   "metadata": {
    "collapsed": true
   },
   "outputs": [],
   "source": [
    "gpr_a = GPR(kernel=kernels, alpha=1e-10, \n",
    "                    optimizer='fmin_l_bfgs_b', \n",
    "                    n_restarts_optimizer=10, \n",
    "                    normalize_y=True,  \n",
    "                    random_state=1000) #init Arousal\n",
    "\n",
    "gpr_v = GPR(kernel=kernels, alpha=1e-10, \n",
    "                    optimizer='fmin_l_bfgs_b', \n",
    "                    n_restarts_optimizer=10, \n",
    "                    normalize_y=True,  \n",
    "                    random_state=1000) #init Valence"
   ]
  },
  {
   "cell_type": "markdown",
   "metadata": {},
   "source": [
    "CROSS VAL"
   ]
  },
  {
   "cell_type": "code",
   "execution_count": 22,
   "metadata": {
    "collapsed": true
   },
   "outputs": [],
   "source": [
    "# scores_a = crosval(gpr_a,data,scaled_ar) #Arousal Regression\n",
    "# scores_v = crosval(gpr_v,data,scaled_val) #Arousal Regression\n",
    "\n",
    "x = np.array(data)\n",
    "ar = np.array(scaled_ar)\n",
    "val = np.array(scaled_val)\n",
    "scores_a = crosval(gpr_a,x,ar)\n",
    "scores_v = crosval(gpr_v,x,val)\n",
    "\n",
    "scores_a = np.array(scores_a)\n",
    "scores_v = np.array(scores_v)"
   ]
  },
  {
   "cell_type": "markdown",
   "metadata": {},
   "source": [
    "AROUSAL"
   ]
  },
  {
   "cell_type": "code",
   "execution_count": 23,
   "metadata": {},
   "outputs": [
    {
     "name": "stdout",
     "output_type": "stream",
     "text": [
      "R2 Score Valence:\t [ 0.10354592  0.45910561  0.23705329  0.14424051  0.32759326  0.15533388\n",
      "  0.25083502  0.13544426  0.26620285  0.36803702]\n",
      "R2 Score Valence:\t0.24 (+/- 0.11)\n"
     ]
    }
   ],
   "source": [
    "print(\"R2 Score Valence:\\t\",scores_a)\n",
    "print(\"R2 Score Valence:\\t%0.2f (+/- %0.2f)\" % (scores_a.mean(), scores_a.std() ))"
   ]
  },
  {
   "cell_type": "markdown",
   "metadata": {},
   "source": [
    "VALENCE"
   ]
  },
  {
   "cell_type": "code",
   "execution_count": 24,
   "metadata": {},
   "outputs": [
    {
     "name": "stdout",
     "output_type": "stream",
     "text": [
      "R2 Score Valence:\t [-0.22774086  0.01189957 -0.12254749 -0.20240256  0.1526967   0.13610621\n",
      "  0.1010296  -0.12008601  0.09989383  0.12748756]\n",
      "R2 Score Valence:\t-0.00 (+/- 0.14)\n"
     ]
    }
   ],
   "source": [
    "print(\"R2 Score Valence:\\t\",scores_v)\n",
    "print(\"R2 Score Valence:\\t%0.2f (+/- %0.2f)\" % (scores_v.mean(), scores_v.std() ))"
   ]
  },
  {
   "cell_type": "markdown",
   "metadata": {
    "collapsed": true
   },
   "source": [
    "# CASE 5"
   ]
  },
  {
   "cell_type": "code",
   "execution_count": 25,
   "metadata": {},
   "outputs": [
    {
     "name": "stdout",
     "output_type": "stream",
     "text": [
      "(744, 34)\n"
     ]
    }
   ],
   "source": [
    "datafitur = \"case5\" #CASE 1\n",
    "\n",
    "data,arousal_mean,valence_mean = load(datafitur) #Load\n",
    "print(data.shape)\n",
    "\n",
    "scaled_ar = minmax_scale(arousal_mean.values,feature_range=(-1, 1))\n",
    "scaled_val = minmax_scale(valence_mean.values,feature_range=(-1, 1))"
   ]
  },
  {
   "cell_type": "code",
   "execution_count": 26,
   "metadata": {
    "collapsed": true
   },
   "outputs": [],
   "source": [
    "gpr_a = GPR(kernel=kernels, alpha=1e-10, \n",
    "                    optimizer='fmin_l_bfgs_b', \n",
    "                    n_restarts_optimizer=10, \n",
    "                    normalize_y=True,  \n",
    "                    random_state=1000) #init Arousal\n",
    "\n",
    "gpr_v = GPR(kernel=kernels, alpha=1e-10, \n",
    "                    optimizer='fmin_l_bfgs_b', \n",
    "                    n_restarts_optimizer=10, \n",
    "                    normalize_y=True,  \n",
    "                    random_state=1000) #init Arousal"
   ]
  },
  {
   "cell_type": "code",
   "execution_count": 27,
   "metadata": {},
   "outputs": [],
   "source": [
    "# scores_a = crosval(gpr_a,data,scaled_ar) #Arousal Regression\n",
    "# scores_v = crosval(gpr_v,data,scaled_val) #Arousal Regression\n",
    "\n",
    "x = np.array(data)\n",
    "ar = np.array(scaled_ar)\n",
    "val = np.array(scaled_val)\n",
    "scores_a = crosval(gpr_a,x,ar)\n",
    "scores_v = crosval(gpr_v,x,val)\n",
    "\n",
    "scores_a = np.array(scores_a)\n",
    "scores_v = np.array(scores_v)"
   ]
  },
  {
   "cell_type": "code",
   "execution_count": 28,
   "metadata": {},
   "outputs": [
    {
     "name": "stdout",
     "output_type": "stream",
     "text": [
      "R2 Score Arousal:\t [ 0.47788137  0.54026334  0.58890737  0.6361343   0.65247576  0.61614013\n",
      "  0.63938133  0.65665649  0.59798816  0.58881866]\n",
      "R2 Score Arousal:\t0.60 (+/- 0.05)\n"
     ]
    }
   ],
   "source": [
    "print(\"R2 Score Arousal:\\t\",scores_a)\n",
    "print(\"R2 Score Arousal:\\t%0.2f (+/- %0.2f)\" % (scores_a.mean(), scores_a.std() ))"
   ]
  },
  {
   "cell_type": "code",
   "execution_count": 29,
   "metadata": {},
   "outputs": [
    {
     "name": "stdout",
     "output_type": "stream",
     "text": [
      "R2 Score Valence:\t [ 0.34238373  0.29560159  0.25651004  0.12817366  0.49427774  0.27253014\n",
      "  0.46233635  0.34927316  0.32086149  0.1747295 ]\n",
      "R2 Score Valence:\t0.31 (+/- 0.11)\n"
     ]
    }
   ],
   "source": [
    "print(\"R2 Score Valence:\\t\",scores_v)\n",
    "print(\"R2 Score Valence:\\t%0.2f (+/- %0.2f)\" % (scores_v.mean(), scores_v.std() ))"
   ]
  },
  {
   "cell_type": "markdown",
   "metadata": {},
   "source": [
    "# CASE 6"
   ]
  },
  {
   "cell_type": "code",
   "execution_count": 30,
   "metadata": {},
   "outputs": [
    {
     "name": "stdout",
     "output_type": "stream",
     "text": [
      "(744, 29)\n"
     ]
    }
   ],
   "source": [
    "datafitur = \"case6\" #CASE 2\n",
    "\n",
    "data,arousal_mean,valence_mean = load(datafitur) #Load\n",
    "print(data.shape) \n",
    "\n",
    "scaled_ar = minmax_scale(arousal_mean.values,feature_range=(-1, 1))\n",
    "scaled_val = minmax_scale(valence_mean.values,feature_range=(-1, 1))"
   ]
  },
  {
   "cell_type": "code",
   "execution_count": 31,
   "metadata": {
    "collapsed": true
   },
   "outputs": [],
   "source": [
    "gpr_a = GPR(kernel=kernels, alpha=1e-10, \n",
    "                    optimizer='fmin_l_bfgs_b', \n",
    "                    n_restarts_optimizer=10, \n",
    "                    normalize_y=True, \n",
    "                    random_state=1000) #init Valence\n",
    "\n",
    "gpr_v = GPR(kernel=kernels, alpha=1e-10, \n",
    "                    optimizer='fmin_l_bfgs_b', \n",
    "                    n_restarts_optimizer=10, \n",
    "                    normalize_y=True, \n",
    "                    random_state=1000) #init Valence"
   ]
  },
  {
   "cell_type": "code",
   "execution_count": 32,
   "metadata": {
    "collapsed": true
   },
   "outputs": [],
   "source": [
    "# scores_a = crosval(gpr_a,data,scaled_ar) #Arousal Regression\n",
    "# scores_v = crosval(gpr_v,data,scaled_val) #Arousal Regression\n",
    "\n",
    "x = np.array(data)\n",
    "ar = np.array(scaled_ar)\n",
    "val = np.array(scaled_val)\n",
    "scores_a = crosval(gpr_a,x,ar)\n",
    "scores_v = crosval(gpr_v,x,val)\n",
    "\n",
    "scores_a = np.array(scores_a)\n",
    "scores_v = np.array(scores_v)"
   ]
  },
  {
   "cell_type": "code",
   "execution_count": 33,
   "metadata": {},
   "outputs": [
    {
     "name": "stdout",
     "output_type": "stream",
     "text": [
      "R2 Score Valence:\t [ 0.45541019  0.47778834  0.50730507  0.5127034   0.64907239  0.58841964\n",
      "  0.53430288  0.58054331  0.61779314  0.55992374]\n",
      "R2 Score Valence:\t0.55 (+/- 0.06)\n"
     ]
    }
   ],
   "source": [
    "print(\"R2 Score Valence:\\t\",scores_a)\n",
    "print(\"R2 Score Valence:\\t%0.2f (+/- %0.2f)\" % (scores_a.mean(), scores_a.std() ))"
   ]
  },
  {
   "cell_type": "code",
   "execution_count": 34,
   "metadata": {},
   "outputs": [
    {
     "name": "stdout",
     "output_type": "stream",
     "text": [
      "R2 Score Valence:\t [ 0.12556428  0.07701732  0.05260024 -0.14540139  0.36929763  0.15691064\n",
      "  0.31013156  0.21442737  0.28470864  0.09442961]\n",
      "R2 Score Valence:\t0.15 (+/- 0.14)\n"
     ]
    }
   ],
   "source": [
    "print(\"R2 Score Valence:\\t\",scores_v)\n",
    "print(\"R2 Score Valence:\\t%0.2f (+/- %0.2f)\" % (scores_v.mean(), scores_v.std() ))"
   ]
  },
  {
   "cell_type": "markdown",
   "metadata": {},
   "source": [
    "# CASE 7"
   ]
  },
  {
   "cell_type": "code",
   "execution_count": 35,
   "metadata": {},
   "outputs": [
    {
     "name": "stdout",
     "output_type": "stream",
     "text": [
      "(744, 50)\n"
     ]
    }
   ],
   "source": [
    "datafitur =  \"case7\" #CASE 3\n",
    "data,arousal_mean,valence_mean = load(datafitur) #Load\n",
    "print(data.shape)\n",
    "\n",
    "scaled_ar = minmax_scale(arousal_mean.values,feature_range=(-1, 1))\n",
    "scaled_val = minmax_scale(valence_mean.values,feature_range=(-1, 1))"
   ]
  },
  {
   "cell_type": "code",
   "execution_count": 36,
   "metadata": {
    "collapsed": true
   },
   "outputs": [],
   "source": [
    "gpr_a = GPR(kernel=kernels, alpha=1e-10, \n",
    "                    optimizer='fmin_l_bfgs_b', \n",
    "                    n_restarts_optimizer=10, \n",
    "                    normalize_y=True,  \n",
    "                    random_state=1000) #init Arousal\n",
    "\n",
    "gpr_v = GPR(kernel=kernels, alpha=1e-10, \n",
    "                    optimizer='fmin_l_bfgs_b', \n",
    "                    n_restarts_optimizer=10, \n",
    "                    normalize_y=True, \n",
    "                    random_state=1000) #init Valence"
   ]
  },
  {
   "cell_type": "code",
   "execution_count": 37,
   "metadata": {
    "collapsed": true
   },
   "outputs": [],
   "source": [
    "# scores_a = crosval(gpr_a,data,scaled_ar) #Arousal Regression\n",
    "# scores_v = crosval(gpr_v,data,scaled_val) #Arousal Regression\n",
    "\n",
    "x = np.array(data)\n",
    "ar = np.array(scaled_ar)\n",
    "val = np.array(scaled_val)\n",
    "scores_a = crosval(gpr_a,x,ar)\n",
    "scores_v = crosval(gpr_v,x,val)\n",
    "\n",
    "scores_a = np.array(scores_a)\n",
    "scores_v = np.array(scores_v)"
   ]
  },
  {
   "cell_type": "code",
   "execution_count": 38,
   "metadata": {},
   "outputs": [
    {
     "name": "stdout",
     "output_type": "stream",
     "text": [
      "R2 Score Valence:\t [ 0.37475968  0.53584835  0.57072896  0.43544335  0.66905966  0.61885491\n",
      "  0.55388651  0.60272732  0.6683774   0.60761393]\n",
      "R2 Score Valence:\t0.56 (+/- 0.09)\n"
     ]
    }
   ],
   "source": [
    "print(\"R2 Score Valence:\\t\",scores_a)\n",
    "print(\"R2 Score Valence:\\t%0.2f (+/- %0.2f)\" % (scores_a.mean(), scores_a.std() ))"
   ]
  },
  {
   "cell_type": "code",
   "execution_count": 39,
   "metadata": {},
   "outputs": [
    {
     "name": "stdout",
     "output_type": "stream",
     "text": [
      "R2 Score Valence:\t [ 0.07378561  0.15717188  0.02706023 -0.20362826  0.28292409  0.22447912\n",
      "  0.29472578  0.15419424  0.24676829  0.23867419]\n",
      "R2 Score Valence:\t0.15 (+/- 0.14)\n"
     ]
    }
   ],
   "source": [
    "print(\"R2 Score Valence:\\t\",scores_v)\n",
    "print(\"R2 Score Valence:\\t%0.2f (+/- %0.2f)\" % (scores_v.mean(), scores_v.std() ))"
   ]
  },
  {
   "cell_type": "markdown",
   "metadata": {},
   "source": [
    "# CASE 8"
   ]
  },
  {
   "cell_type": "code",
   "execution_count": 40,
   "metadata": {},
   "outputs": [
    {
     "name": "stdout",
     "output_type": "stream",
     "text": [
      "(744, 37)\n"
     ]
    }
   ],
   "source": [
    "datafitur =  \"case8\" #CASE 3\n",
    "data,arousal_mean,valence_mean = load(datafitur) #Load\n",
    "print(data.shape)\n",
    "\n",
    "scaled_ar = minmax_scale(arousal_mean.values,feature_range=(-1, 1))\n",
    "scaled_val = minmax_scale(valence_mean.values,feature_range=(-1, 1))"
   ]
  },
  {
   "cell_type": "code",
   "execution_count": 41,
   "metadata": {
    "collapsed": true
   },
   "outputs": [],
   "source": [
    "gpr_a = GPR(kernel=kernels, alpha=1e-10, \n",
    "                    optimizer='fmin_l_bfgs_b', \n",
    "                    n_restarts_optimizer=10, \n",
    "                    normalize_y=True,  \n",
    "                    random_state=1000) #init Arousal\n",
    "\n",
    "gpr_v = GPR(kernel=kernels, alpha=1e-10, \n",
    "                    optimizer='fmin_l_bfgs_b', \n",
    "                    n_restarts_optimizer=10, \n",
    "                    normalize_y=True,  \n",
    "                    random_state=1000) #init Valence"
   ]
  },
  {
   "cell_type": "code",
   "execution_count": 42,
   "metadata": {
    "collapsed": true
   },
   "outputs": [],
   "source": [
    "# scores_a = crosval(gpr_a,data,scaled_ar) #Arousal Regression\n",
    "# scores_v = crosval(gpr_v,data,scaled_val) #Arousal Regression\n",
    "\n",
    "x = np.array(data)\n",
    "ar = np.array(scaled_ar)\n",
    "val = np.array(scaled_val)\n",
    "scores_a = crosval(gpr_a,x,ar)\n",
    "scores_v = crosval(gpr_v,x,val)\n",
    "\n",
    "scores_a = np.array(scores_a)\n",
    "scores_v = np.array(scores_v)"
   ]
  },
  {
   "cell_type": "code",
   "execution_count": 43,
   "metadata": {},
   "outputs": [
    {
     "name": "stdout",
     "output_type": "stream",
     "text": [
      "R2 Score Valence:\t [ 0.50399993  0.52917458  0.55526254  0.63147587  0.65819081  0.63151828\n",
      "  0.64936933  0.6413492   0.59247438  0.60823464]\n",
      "R2 Score Valence:\t0.60 (+/- 0.05)\n"
     ]
    }
   ],
   "source": [
    "print(\"R2 Score Valence:\\t\",scores_a)\n",
    "print(\"R2 Score Valence:\\t%0.2f (+/- %0.2f)\" % (scores_a.mean(), scores_a.std() ))"
   ]
  },
  {
   "cell_type": "code",
   "execution_count": 44,
   "metadata": {},
   "outputs": [
    {
     "name": "stdout",
     "output_type": "stream",
     "text": [
      "R2 Score Valence:\t [ 0.34752517  0.30763532  0.25344136  0.12935013  0.51098436  0.27091932\n",
      "  0.45620458  0.33800073  0.31557591  0.17228014]\n",
      "R2 Score Valence:\t0.31 (+/- 0.11)\n"
     ]
    }
   ],
   "source": [
    "print(\"R2 Score Valence:\\t\",scores_v)\n",
    "print(\"R2 Score Valence:\\t%0.2f (+/- %0.2f)\" % (scores_v.mean(), scores_v.std() ))"
   ]
  },
  {
   "cell_type": "markdown",
   "metadata": {},
   "source": [
    "# CASE 9"
   ]
  },
  {
   "cell_type": "code",
   "execution_count": 45,
   "metadata": {},
   "outputs": [
    {
     "name": "stdout",
     "output_type": "stream",
     "text": [
      "(744, 58)\n"
     ]
    }
   ],
   "source": [
    "datafitur =  \"case9\" #CASE 3\n",
    "data,arousal_mean,valence_mean = load(datafitur) #Load\n",
    "print(data.shape)\n",
    "\n",
    "scaled_ar = minmax_scale(arousal_mean.values,feature_range=(-1, 1))\n",
    "scaled_val = minmax_scale(valence_mean.values,feature_range=(-1, 1))"
   ]
  },
  {
   "cell_type": "code",
   "execution_count": 46,
   "metadata": {
    "collapsed": true
   },
   "outputs": [],
   "source": [
    "gpr_a = GPR(kernel=kernels, alpha=1e-10, \n",
    "                    optimizer='fmin_l_bfgs_b', \n",
    "                    n_restarts_optimizer=10, \n",
    "                    normalize_y=True,  \n",
    "                    random_state=1000) #init Arousal\n",
    "\n",
    "gpr_v = GPR(kernel=kernels, alpha=1e-10, \n",
    "                    optimizer='fmin_l_bfgs_b', \n",
    "                    n_restarts_optimizer=10, \n",
    "                    normalize_y=True,  \n",
    "                    random_state=1000) #init Valence"
   ]
  },
  {
   "cell_type": "code",
   "execution_count": 47,
   "metadata": {
    "collapsed": true
   },
   "outputs": [],
   "source": [
    "# scores_a = crosval(gpr_a,data,scaled_ar) #Arousal Regression\n",
    "# scores_v = crosval(gpr_v,data,scaled_val) #Arousal Regression\n",
    "\n",
    "x = np.array(data)\n",
    "ar = np.array(scaled_ar)\n",
    "val = np.array(scaled_val)\n",
    "scores_a = crosval(gpr_a,x,ar)\n",
    "scores_v = crosval(gpr_v,x,val)\n",
    "\n",
    "scores_a = np.array(scores_a)\n",
    "scores_v = np.array(scores_v)"
   ]
  },
  {
   "cell_type": "code",
   "execution_count": 48,
   "metadata": {},
   "outputs": [
    {
     "name": "stdout",
     "output_type": "stream",
     "text": [
      "R2 Score Valence:\t [ 0.43734527  0.56481987  0.62743605  0.53644109  0.6553147   0.6589453\n",
      "  0.63959572  0.66507667  0.6239438   0.64729954]\n",
      "R2 Score Valence:\t0.61 (+/- 0.07)\n"
     ]
    }
   ],
   "source": [
    "print(\"R2 Score Valence:\\t\",scores_a)\n",
    "print(\"R2 Score Valence:\\t%0.2f (+/- %0.2f)\" % (scores_a.mean(), scores_a.std() ))"
   ]
  },
  {
   "cell_type": "code",
   "execution_count": 49,
   "metadata": {},
   "outputs": [
    {
     "name": "stdout",
     "output_type": "stream",
     "text": [
      "R2 Score Valence:\t [ 0.33282752  0.34042148  0.23223792  0.06299824  0.39626097  0.32132254\n",
      "  0.4352018   0.31321752  0.28713712  0.3035634 ]\n",
      "R2 Score Valence:\t0.30 (+/- 0.10)\n"
     ]
    }
   ],
   "source": [
    "print(\"R2 Score Valence:\\t\",scores_v)\n",
    "print(\"R2 Score Valence:\\t%0.2f (+/- %0.2f)\" % (scores_v.mean(), scores_v.std() ))"
   ]
  },
  {
   "cell_type": "markdown",
   "metadata": {},
   "source": [
    "# CASE 10"
   ]
  },
  {
   "cell_type": "code",
   "execution_count": 50,
   "metadata": {},
   "outputs": [
    {
     "name": "stdout",
     "output_type": "stream",
     "text": [
      "(744, 61)\n"
     ]
    }
   ],
   "source": [
    "datafitur =  \"case10\" #CASE 3\n",
    "data,arousal_mean,valence_mean = load(datafitur) #Load\n",
    "print(data.shape)\n",
    "\n",
    "scaled_ar = minmax_scale(arousal_mean.values,feature_range=(-1, 1))\n",
    "scaled_val = minmax_scale(valence_mean.values,feature_range=(-1, 1))"
   ]
  },
  {
   "cell_type": "code",
   "execution_count": 51,
   "metadata": {
    "collapsed": true
   },
   "outputs": [],
   "source": [
    "gpr_a = GPR(kernel=kernels, alpha=1e-10, \n",
    "                    optimizer='fmin_l_bfgs_b', \n",
    "                    n_restarts_optimizer=10, \n",
    "                    normalize_y=True,  \n",
    "                    random_state=1000) #init Arousal\n",
    "\n",
    "gpr_v = GPR(kernel=kernels, alpha=1e-10, \n",
    "                    optimizer='fmin_l_bfgs_b', \n",
    "                    n_restarts_optimizer=10, \n",
    "                    normalize_y=True,  \n",
    "                    random_state=1000) #init Valence"
   ]
  },
  {
   "cell_type": "code",
   "execution_count": 52,
   "metadata": {
    "collapsed": true
   },
   "outputs": [],
   "source": [
    "# scores_a = crosval(gpr_a,data,scaled_ar) #Arousal Regression\n",
    "# scores_v = crosval(gpr_v,data,scaled_val) #Arousal Regression\n",
    "\n",
    "x = np.array(data)\n",
    "ar = np.array(scaled_ar)\n",
    "val = np.array(scaled_val)\n",
    "scores_a = crosval(gpr_a,x,ar)\n",
    "scores_v = crosval(gpr_v,x,val)\n",
    "\n",
    "scores_a = np.array(scores_a)\n",
    "scores_v = np.array(scores_v)"
   ]
  },
  {
   "cell_type": "code",
   "execution_count": 53,
   "metadata": {},
   "outputs": [
    {
     "name": "stdout",
     "output_type": "stream",
     "text": [
      "R2 Score Valence:\t [ 0.4468212   0.58337398  0.61119341  0.53480323  0.65842303  0.67015655\n",
      "  0.6432077   0.66145445  0.62622194  0.66080131]\n",
      "R2 Score Valence:\t0.61 (+/- 0.07)\n"
     ]
    }
   ],
   "source": [
    "print(\"R2 Score Valence:\\t\",scores_a)\n",
    "print(\"R2 Score Valence:\\t%0.2f (+/- %0.2f)\" % (scores_a.mean(), scores_a.std() ))"
   ]
  },
  {
   "cell_type": "code",
   "execution_count": 54,
   "metadata": {},
   "outputs": [
    {
     "name": "stdout",
     "output_type": "stream",
     "text": [
      "R2 Score Valence:\t [ 0.31889419  0.3503126   0.23094176  0.05290335  0.40348238  0.31129968\n",
      "  0.42612237  0.29532972  0.27685798  0.2835904 ]\n",
      "R2 Score Valence:\t0.29 (+/- 0.10)\n"
     ]
    }
   ],
   "source": [
    "print(\"R2 Score Valence:\\t\",scores_v)\n",
    "print(\"R2 Score Valence:\\t%0.2f (+/- %0.2f)\" % (scores_v.mean(), scores_v.std() ))"
   ]
  }
 ],
 "metadata": {
  "kernelspec": {
   "display_name": "Python 3",
   "language": "python",
   "name": "python3"
  },
  "language_info": {
   "codemirror_mode": {
    "name": "ipython",
    "version": 3
   },
   "file_extension": ".py",
   "mimetype": "text/x-python",
   "name": "python",
   "nbconvert_exporter": "python",
   "pygments_lexer": "ipython3",
   "version": "3.6.2"
  }
 },
 "nbformat": 4,
 "nbformat_minor": 2
}
