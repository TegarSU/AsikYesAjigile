{
 "cells": [
  {
   "cell_type": "code",
   "execution_count": 1,
   "metadata": {},
   "outputs": [],
   "source": [
    "import pandas as pd\n",
    "import numpy as np\n",
    "from sklearn.datasets import load_boston\n",
    "from sklearn.preprocessing import MinMaxScaler\n",
    "from sklearn.gaussian_process import GaussianProcessRegressor\n",
    "from sklearn.gaussian_process.kernels import RationalQuadratic, Matern\n",
    "\n",
    "from sklearn.model_selection import train_test_split\n",
    "from sklearn.model_selection import KFold\n",
    "from sklearn.model_selection import cross_val_score\n",
    "\n",
    "from sklearn.metrics import r2_score\n",
    "\n",
    "# user variables to tune\n",
    "folds   = 10\n",
    "scaler = MinMaxScaler(feature_range=(0, 1))"
   ]
  },
  {
   "cell_type": "code",
   "execution_count": 2,
   "metadata": {},
   "outputs": [],
   "source": [
    "def predict(data,values,test,true,clf):\n",
    "    model = clf\n",
    "    train = model.fit(data,values)\n",
    "    a = model.predict(test)\n",
    "    df = pd.DataFrame(data=[a,true])\n",
    "    \n",
    "    return a,train,df"
   ]
  },
  {
   "cell_type": "code",
   "execution_count": 3,
   "metadata": {},
   "outputs": [
    {
     "name": "stdout",
     "output_type": "stream",
     "text": [
      "(506, 13)\n",
      "(506,)\n"
     ]
    }
   ],
   "source": [
    "pd.options.display.float_format = '{:,.2f}'.format\n",
    "\n",
    "dataset = load_boston()\n",
    "df = pd.DataFrame(dataset.data)\n",
    "df.columns = dataset.feature_names\n",
    "df[\"PRICE\"] = dataset.target\n",
    "\n",
    "X = df.drop(\"PRICE\", axis=1)\n",
    "Y = df[\"PRICE\"]\n",
    "print(X.shape)\n",
    "print(Y.shape)"
   ]
  },
  {
   "cell_type": "code",
   "execution_count": 4,
   "metadata": {},
   "outputs": [],
   "source": [
    "scaler.fit(X.values)\n",
    "scaled_X = scaler.transform(X.values)"
   ]
  },
  {
   "cell_type": "code",
   "execution_count": 5,
   "metadata": {},
   "outputs": [
    {
     "name": "stdout",
     "output_type": "stream",
     "text": [
      "(404, 13)\n",
      "(102, 13)\n",
      "(404,)\n",
      "(102,)\n"
     ]
    }
   ],
   "source": [
    "seed = 1000\n",
    "test_size = 0.20\n",
    "\n",
    "X_train, X_test, Y_train, Y_test = train_test_split(scaled_X, Y, test_size = test_size, random_state = seed)\n",
    "\n",
    "print(X_train.shape)\n",
    "print(X_test.shape)\n",
    "print(Y_train.shape)\n",
    "print(Y_test.shape)"
   ]
  },
  {
   "cell_type": "code",
   "execution_count": 8,
   "metadata": {},
   "outputs": [],
   "source": [
    "kernel = RationalQuadratic()"
   ]
  },
  {
   "cell_type": "code",
   "execution_count": 13,
   "metadata": {},
   "outputs": [],
   "source": [
    "models = GaussianProcessRegressor(kernel)\n",
    "# models = GaussianProcessRegressor()"
   ]
  },
  {
   "cell_type": "code",
   "execution_count": 15,
   "metadata": {},
   "outputs": [],
   "source": [
    "pred,trained,df1 = predict(X_train, Y_train, X_test, Y_test, models)"
   ]
  },
  {
   "cell_type": "code",
   "execution_count": 17,
   "metadata": {},
   "outputs": [
    {
     "data": {
      "text/html": [
       "<div>\n",
       "<style scoped>\n",
       "    .dataframe tbody tr th:only-of-type {\n",
       "        vertical-align: middle;\n",
       "    }\n",
       "\n",
       "    .dataframe tbody tr th {\n",
       "        vertical-align: top;\n",
       "    }\n",
       "\n",
       "    .dataframe thead th {\n",
       "        text-align: right;\n",
       "    }\n",
       "</style>\n",
       "<table border=\"1\" class=\"dataframe\">\n",
       "  <thead>\n",
       "    <tr style=\"text-align: right;\">\n",
       "      <th></th>\n",
       "      <th>0</th>\n",
       "      <th>1</th>\n",
       "      <th>2</th>\n",
       "      <th>3</th>\n",
       "      <th>4</th>\n",
       "      <th>5</th>\n",
       "      <th>6</th>\n",
       "      <th>7</th>\n",
       "      <th>8</th>\n",
       "      <th>9</th>\n",
       "      <th>...</th>\n",
       "      <th>92</th>\n",
       "      <th>93</th>\n",
       "      <th>94</th>\n",
       "      <th>95</th>\n",
       "      <th>96</th>\n",
       "      <th>97</th>\n",
       "      <th>98</th>\n",
       "      <th>99</th>\n",
       "      <th>100</th>\n",
       "      <th>101</th>\n",
       "    </tr>\n",
       "  </thead>\n",
       "  <tbody>\n",
       "    <tr>\n",
       "      <th>0</th>\n",
       "      <td>21.33</td>\n",
       "      <td>16.17</td>\n",
       "      <td>16.12</td>\n",
       "      <td>38.43</td>\n",
       "      <td>23.81</td>\n",
       "      <td>33.91</td>\n",
       "      <td>12.83</td>\n",
       "      <td>35.68</td>\n",
       "      <td>19.37</td>\n",
       "      <td>16.55</td>\n",
       "      <td>...</td>\n",
       "      <td>25.06</td>\n",
       "      <td>11.71</td>\n",
       "      <td>25.25</td>\n",
       "      <td>22.01</td>\n",
       "      <td>20.18</td>\n",
       "      <td>25.92</td>\n",
       "      <td>20.45</td>\n",
       "      <td>20.64</td>\n",
       "      <td>20.84</td>\n",
       "      <td>20.61</td>\n",
       "    </tr>\n",
       "    <tr>\n",
       "      <th>1</th>\n",
       "      <td>21.80</td>\n",
       "      <td>10.20</td>\n",
       "      <td>15.20</td>\n",
       "      <td>43.50</td>\n",
       "      <td>50.00</td>\n",
       "      <td>37.20</td>\n",
       "      <td>7.00</td>\n",
       "      <td>42.30</td>\n",
       "      <td>16.00</td>\n",
       "      <td>19.60</td>\n",
       "      <td>...</td>\n",
       "      <td>24.80</td>\n",
       "      <td>12.30</td>\n",
       "      <td>24.60</td>\n",
       "      <td>24.30</td>\n",
       "      <td>19.00</td>\n",
       "      <td>22.00</td>\n",
       "      <td>20.00</td>\n",
       "      <td>19.90</td>\n",
       "      <td>19.10</td>\n",
       "      <td>21.20</td>\n",
       "    </tr>\n",
       "  </tbody>\n",
       "</table>\n",
       "<p>2 rows × 102 columns</p>\n",
       "</div>"
      ],
      "text/plain": [
       "    0     1     2     3     4     5     6     7     8     9    ...   92   \\\n",
       "0 21.33 16.17 16.12 38.43 23.81 33.91 12.83 35.68 19.37 16.55  ... 25.06   \n",
       "1 21.80 10.20 15.20 43.50 50.00 37.20  7.00 42.30 16.00 19.60  ... 24.80   \n",
       "\n",
       "    93    94    95    96    97    98    99    100   101  \n",
       "0 11.71 25.25 22.01 20.18 25.92 20.45 20.64 20.84 20.61  \n",
       "1 12.30 24.60 24.30 19.00 22.00 20.00 19.90 19.10 21.20  \n",
       "\n",
       "[2 rows x 102 columns]"
      ]
     },
     "metadata": {},
     "output_type": "display_data"
    },
    {
     "name": "stdout",
     "output_type": "stream",
     "text": [
      "0.956275858578696\n"
     ]
    }
   ],
   "source": [
    "display(df1)\n",
    "print(models.score(scaled_X, Y))"
   ]
  },
  {
   "cell_type": "code",
   "execution_count": 18,
   "metadata": {},
   "outputs": [
    {
     "name": "stdout",
     "output_type": "stream",
     "text": [
      "r2:\t 0.8130588660647001 \n",
      "std:\t 0.08591545149875958\n"
     ]
    }
   ],
   "source": [
    "# 10-fold cross validation for each model\n",
    "\n",
    "k_fold  = KFold(n_splits=folds, random_state=seed)\n",
    "results = cross_val_score(models, X_train, Y_train, cv=k_fold, scoring='r2')\n",
    "\n",
    "print(\"r2:\\t\",results.mean(),\"\\nstd:\\t\",results.std())"
   ]
  },
  {
   "cell_type": "code",
   "execution_count": 14,
   "metadata": {},
   "outputs": [
    {
     "name": "stdout",
     "output_type": "stream",
     "text": [
      "initial params\n",
      "{'alpha': 1e-10, 'copy_X_train': True, 'kernel__length_scale': 1.0, 'kernel__alpha': 1.0, 'kernel__length_scale_bounds': (1e-05, 100000.0), 'kernel__alpha_bounds': (1e-05, 100000.0), 'kernel': RationalQuadratic(alpha=1, length_scale=1), 'n_restarts_optimizer': 0, 'normalize_y': False, 'optimizer': 'fmin_l_bfgs_b', 'random_state': None}\n"
     ]
    }
   ],
   "source": [
    "print(\"initial params\")\n",
    "params = models.get_params()\n",
    "print(params)"
   ]
  },
  {
   "cell_type": "code",
   "execution_count": 19,
   "metadata": {},
   "outputs": [
    {
     "name": "stdout",
     "output_type": "stream",
     "text": [
      "trained params\n",
      "{'alpha': 1e-10, 'copy_X_train': True, 'kernel__length_scale': 1.0, 'kernel__alpha': 1.0, 'kernel__length_scale_bounds': (1e-05, 100000.0), 'kernel__alpha_bounds': (1e-05, 100000.0), 'kernel': RationalQuadratic(alpha=1, length_scale=1), 'n_restarts_optimizer': 0, 'normalize_y': False, 'optimizer': 'fmin_l_bfgs_b', 'random_state': None}\n"
     ]
    }
   ],
   "source": [
    "print(\"trained params\")\n",
    "params = trained.get_params()\n",
    "print(params)"
   ]
  }
 ],
 "metadata": {
  "kernelspec": {
   "display_name": "Python 3",
   "language": "python",
   "name": "python3"
  },
  "language_info": {
   "codemirror_mode": {
    "name": "ipython",
    "version": 3
   },
   "file_extension": ".py",
   "mimetype": "text/x-python",
   "name": "python",
   "nbconvert_exporter": "python",
   "pygments_lexer": "ipython3",
   "version": "3.6.4"
  }
 },
 "nbformat": 4,
 "nbformat_minor": 2
}
