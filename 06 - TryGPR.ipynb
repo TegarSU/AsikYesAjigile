{
 "cells": [
  {
   "cell_type": "code",
   "execution_count": 1,
   "metadata": {
    "collapsed": true
   },
   "outputs": [],
   "source": [
    "import pandas as pd\n",
    "import numpy as np\n",
    "from sklearn.externals import joblib\n",
    "\n",
    "from sklearn.gaussian_process import GaussianProcessRegressor as GPR\n",
    "from sklearn.gaussian_process.kernels import RationalQuadratic\n",
    "from sklearn.model_selection import cross_val_score\n",
    "from sklearn.model_selection import train_test_split\n",
    "from sklearn.metrics import r2_score\n",
    "from sklearn.preprocessing import minmax_scale"
   ]
  },
  {
   "cell_type": "code",
   "execution_count": 2,
   "metadata": {
    "collapsed": true
   },
   "outputs": [],
   "source": [
    "# #PATH\n",
    "path_info = \"F:/178/Tugas Akhir/dataset/annotations/\"\n",
    "path_to_fitur = \"F:/178/Tugas Akhir/dataset/coba fitur/\"\n",
    "path_to_experiment =\"F:/178/Tugas Akhir/dataset/experiment/\"\n",
    "path_to_model = \"F:/178/Tugas Akhir/dataset/model/\"\n",
    "path_to_predict = \"F:/178/Tugas Akhir/dataset/predict/\"\n",
    "\n",
    "# path_info = \"C:/Users/USER/Downloads/Tugas Akhir/dataset/annotations/\"\n",
    "# path_to_fitur = \"C:/Users/USER/Downloads/Tugas Akhir/dataset/coba fitur/\"\n",
    "# path_to_experiment =\"C:/Users/USER/Downloads/Tugas Akhir/dataset/experiment/\"\n",
    "# path_to_model = \"C:/Users/USER/Downloads/Tugas Akhir/dataset/model/\"\n",
    "# path_to_predict = \"C:/Users/USER/Downloads/Tugas Akhir/dataset/predict/\""
   ]
  },
  {
   "cell_type": "code",
   "execution_count": 3,
   "metadata": {
    "collapsed": true
   },
   "outputs": [],
   "source": [
    "def load(fitur):\n",
    "    data = pd.read_csv(path_to_experiment + fitur+\".csv\",header=None)\n",
    "    ground = pd.read_csv(path_info + \"static_annotations.csv\")\n",
    "\n",
    "    arousal_mean = ground['mean_arousal']\n",
    "    valence_mean = ground['mean_valence']\n",
    "    \n",
    "    return data,arousal_mean,valence_mean\n",
    "\n",
    "def split(data,value):\n",
    "    train_data, test_data, train_values, test_values = train_test_split(data,value,test_size=0.3,random_state=1000)\n",
    "    \n",
    "    return train_data, test_data, train_values, test_values\n",
    "\n",
    "def training(data,values,clf):\n",
    "    trained = clf.fit(data,values)\n",
    "    \n",
    "    return trained\n",
    "    \n",
    "def predict(test,true,clf):\n",
    "    pred = clf.predict(test)\n",
    "    df = pd.DataFrame(data=[pred,true])\n",
    "    \n",
    "    return pred,df\n",
    "\n",
    "def score(pred,true):\n",
    "    r2 = r2_score(true, pred)\n",
    "    \n",
    "    return r2\n",
    "\n",
    "def regresion(clf,data,values):\n",
    "    scores = cross_val_score(clf,data,values,scoring='r2',cv=10)\n",
    "    \n",
    "    return scores\n",
    "\n",
    "def save_model(model,case,types):\n",
    "    path = path_to_model+types+case+'norm_svr.sav' # save the model\n",
    "    joblib.dump(model, path)\n",
    "\n",
    "def save_predict(df1,df2,case):\n",
    "    path = path_to_predict+case+\"_norm_svr.xlsx\" # save the model\n",
    "    arousal = df1.T\n",
    "    valence = df2.T\n",
    "    merged = arousal.merge(valence, how='outer', left_index=True, right_index=True)\n",
    "    merged.to_excel(path,header=None,index=None)\n",
    "\n",
    "def norm(data):\n",
    "    scaler.fit(data)\n",
    "    normalized = scaler.transform(data)\n",
    "    \n",
    "    return normalized"
   ]
  },
  {
   "cell_type": "code",
   "execution_count": 4,
   "metadata": {
    "collapsed": true
   },
   "outputs": [],
   "source": [
    "kernels = RationalQuadratic(length_scale=1.0, alpha=1.0, \n",
    "                            length_scale_bounds=(1e-3, 1e3), \n",
    "                            alpha_bounds=(1e-3, 1e3))"
   ]
  },
  {
   "cell_type": "markdown",
   "metadata": {},
   "source": [
    "# CASE 1"
   ]
  },
  {
   "cell_type": "code",
   "execution_count": 5,
   "metadata": {},
   "outputs": [
    {
     "name": "stdout",
     "output_type": "stream",
     "text": [
      "(744, 26)\n"
     ]
    }
   ],
   "source": [
    "datafitur = \"case1\" #CASE 1\n",
    "\n",
    "data,arousal_mean,valence_mean = load(datafitur) #Load\n",
    "print(data.shape)\n",
    "\n",
    "scaled_ar = minmax_scale(arousal_mean.values,feature_range=(-1, 1))\n",
    "scaled_val = minmax_scale(valence_mean.values,feature_range=(-1, 1))\n",
    "\n",
    "#split arousal\n",
    "train_data_a, test_data_a, train_values_a, test_values_a = split(data,scaled_ar)\n",
    "#split valence\n",
    "train_data_v, test_data_v, train_values_v, test_values_v = split(data,scaled_val) "
   ]
  },
  {
   "cell_type": "markdown",
   "metadata": {},
   "source": [
    "INITIAL MODEL"
   ]
  },
  {
   "cell_type": "code",
   "execution_count": 6,
   "metadata": {
    "collapsed": true
   },
   "outputs": [],
   "source": [
    "gpr_a = GPR(kernel=kernels, alpha=1e-10, \n",
    "                    optimizer='fmin_l_bfgs_b', \n",
    "                    n_restarts_optimizer=10, \n",
    "                    normalize_y=True, copy_X_train=False, \n",
    "                    random_state=1000) #init Arousal\n",
    "\n",
    "gpr_v = GPR(kernel=kernels, alpha=1e-10, \n",
    "                    optimizer='fmin_l_bfgs_b', \n",
    "                    n_restarts_optimizer=10, \n",
    "                    normalize_y=True, copy_X_train=False, \n",
    "                    random_state=1000) #init Arousal"
   ]
  },
  {
   "cell_type": "code",
   "execution_count": 7,
   "metadata": {},
   "outputs": [
    {
     "name": "stdout",
     "output_type": "stream",
     "text": [
      "arousal:\t RationalQuadratic(alpha=1, length_scale=1)\n",
      "arousal:\t RationalQuadratic(alpha=1, length_scale=1)\n"
     ]
    }
   ],
   "source": [
    "print(\"arousal:\\t\",gpr_a.kernel)\n",
    "print(\"arousal:\\t\",gpr_v.kernel)"
   ]
  },
  {
   "cell_type": "markdown",
   "metadata": {},
   "source": [
    "TRAIN"
   ]
  },
  {
   "cell_type": "code",
   "execution_count": 8,
   "metadata": {},
   "outputs": [],
   "source": [
    "trained_a = training(train_data_a,train_values_a,gpr_a)\n",
    "trained_v = training(train_data_v,train_values_v,gpr_v)"
   ]
  },
  {
   "cell_type": "markdown",
   "metadata": {},
   "source": [
    "PREDICT"
   ]
  },
  {
   "cell_type": "code",
   "execution_count": 9,
   "metadata": {},
   "outputs": [],
   "source": [
    "# #Predict Arousal\n",
    "pred_a,df_a = predict(test_data_a, test_values_a, gpr_a)\n",
    "# #Predict Valence\n",
    "pred_v,df_v = predict(test_data_v, test_values_v, gpr_v)\n",
    "\n",
    "r2_a = score(pred_a,test_values_a) #Score Arousal\n",
    "r2_v = score(pred_v,test_values_v) #Score Valence"
   ]
  },
  {
   "cell_type": "markdown",
   "metadata": {},
   "source": [
    "SET PARAM"
   ]
  },
  {
   "cell_type": "code",
   "execution_count": 10,
   "metadata": {},
   "outputs": [
    {
     "name": "stdout",
     "output_type": "stream",
     "text": [
      "arousal:\t RationalQuadratic(alpha=0.0103, length_scale=0.207)\n",
      "valence:\t RationalQuadratic(alpha=0.0135, length_scale=0.0719)\n"
     ]
    }
   ],
   "source": [
    "trained_a.set_params(kernel=trained_a.kernel_)\n",
    "trained_v.set_params(kernel=trained_v.kernel_)\n",
    "\n",
    "print(\"arousal:\\t\",trained_a.kernel)\n",
    "print(\"valence:\\t\",trained_v.kernel)"
   ]
  },
  {
   "cell_type": "markdown",
   "metadata": {},
   "source": [
    "AROUSAL"
   ]
  },
  {
   "cell_type": "code",
   "execution_count": 11,
   "metadata": {},
   "outputs": [
    {
     "data": {
      "text/html": [
       "<div>\n",
       "<style scoped>\n",
       "    .dataframe tbody tr th:only-of-type {\n",
       "        vertical-align: middle;\n",
       "    }\n",
       "\n",
       "    .dataframe tbody tr th {\n",
       "        vertical-align: top;\n",
       "    }\n",
       "\n",
       "    .dataframe thead th {\n",
       "        text-align: right;\n",
       "    }\n",
       "</style>\n",
       "<table border=\"1\" class=\"dataframe\">\n",
       "  <thead>\n",
       "    <tr style=\"text-align: right;\">\n",
       "      <th></th>\n",
       "      <th>0</th>\n",
       "      <th>1</th>\n",
       "      <th>2</th>\n",
       "      <th>3</th>\n",
       "      <th>4</th>\n",
       "      <th>5</th>\n",
       "      <th>6</th>\n",
       "      <th>7</th>\n",
       "      <th>8</th>\n",
       "      <th>9</th>\n",
       "      <th>...</th>\n",
       "      <th>214</th>\n",
       "      <th>215</th>\n",
       "      <th>216</th>\n",
       "      <th>217</th>\n",
       "      <th>218</th>\n",
       "      <th>219</th>\n",
       "      <th>220</th>\n",
       "      <th>221</th>\n",
       "      <th>222</th>\n",
       "      <th>223</th>\n",
       "    </tr>\n",
       "  </thead>\n",
       "  <tbody>\n",
       "    <tr>\n",
       "      <th>0</th>\n",
       "      <td>0.012247</td>\n",
       "      <td>0.190538</td>\n",
       "      <td>0.494518</td>\n",
       "      <td>-0.319365</td>\n",
       "      <td>-0.415454</td>\n",
       "      <td>-0.113565</td>\n",
       "      <td>-0.642037</td>\n",
       "      <td>0.382573</td>\n",
       "      <td>-0.454567</td>\n",
       "      <td>-0.017574</td>\n",
       "      <td>...</td>\n",
       "      <td>0.497475</td>\n",
       "      <td>5.373489e-02</td>\n",
       "      <td>-0.076619</td>\n",
       "      <td>-0.050936</td>\n",
       "      <td>-0.004373</td>\n",
       "      <td>-0.002217</td>\n",
       "      <td>0.288890</td>\n",
       "      <td>0.431990</td>\n",
       "      <td>-0.180097</td>\n",
       "      <td>-0.580886</td>\n",
       "    </tr>\n",
       "    <tr>\n",
       "      <th>1</th>\n",
       "      <td>0.352941</td>\n",
       "      <td>0.264706</td>\n",
       "      <td>0.411765</td>\n",
       "      <td>-0.558824</td>\n",
       "      <td>-0.441176</td>\n",
       "      <td>-0.411765</td>\n",
       "      <td>-0.588235</td>\n",
       "      <td>0.235294</td>\n",
       "      <td>-0.411765</td>\n",
       "      <td>0.352941</td>\n",
       "      <td>...</td>\n",
       "      <td>0.588235</td>\n",
       "      <td>-2.220446e-16</td>\n",
       "      <td>-0.382353</td>\n",
       "      <td>0.235294</td>\n",
       "      <td>-0.088235</td>\n",
       "      <td>-0.029412</td>\n",
       "      <td>-0.058824</td>\n",
       "      <td>0.382353</td>\n",
       "      <td>-0.500000</td>\n",
       "      <td>-0.823529</td>\n",
       "    </tr>\n",
       "  </tbody>\n",
       "</table>\n",
       "<p>2 rows × 224 columns</p>\n",
       "</div>"
      ],
      "text/plain": [
       "        0         1         2         3         4         5         6    \\\n",
       "0  0.012247  0.190538  0.494518 -0.319365 -0.415454 -0.113565 -0.642037   \n",
       "1  0.352941  0.264706  0.411765 -0.558824 -0.441176 -0.411765 -0.588235   \n",
       "\n",
       "        7         8         9    ...       214           215       216  \\\n",
       "0  0.382573 -0.454567 -0.017574  ...  0.497475  5.373489e-02 -0.076619   \n",
       "1  0.235294 -0.411765  0.352941  ...  0.588235 -2.220446e-16 -0.382353   \n",
       "\n",
       "        217       218       219       220       221       222       223  \n",
       "0 -0.050936 -0.004373 -0.002217  0.288890  0.431990 -0.180097 -0.580886  \n",
       "1  0.235294 -0.088235 -0.029412 -0.058824  0.382353 -0.500000 -0.823529  \n",
       "\n",
       "[2 rows x 224 columns]"
      ]
     },
     "metadata": {},
     "output_type": "display_data"
    },
    {
     "name": "stdout",
     "output_type": "stream",
     "text": [
      "R2 Score Arousal:\t0.67\n"
     ]
    }
   ],
   "source": [
    "# df_a = df_a.round(2)\n",
    "\n",
    "display(df_a.head())\n",
    "print(\"R2 Score Arousal:\\t%0.2f\" % r2_a)"
   ]
  },
  {
   "cell_type": "markdown",
   "metadata": {},
   "source": [
    "VALENCE"
   ]
  },
  {
   "cell_type": "code",
   "execution_count": 12,
   "metadata": {},
   "outputs": [
    {
     "data": {
      "text/html": [
       "<div>\n",
       "<style scoped>\n",
       "    .dataframe tbody tr th:only-of-type {\n",
       "        vertical-align: middle;\n",
       "    }\n",
       "\n",
       "    .dataframe tbody tr th {\n",
       "        vertical-align: top;\n",
       "    }\n",
       "\n",
       "    .dataframe thead th {\n",
       "        text-align: right;\n",
       "    }\n",
       "</style>\n",
       "<table border=\"1\" class=\"dataframe\">\n",
       "  <thead>\n",
       "    <tr style=\"text-align: right;\">\n",
       "      <th></th>\n",
       "      <th>0</th>\n",
       "      <th>1</th>\n",
       "      <th>2</th>\n",
       "      <th>3</th>\n",
       "      <th>4</th>\n",
       "      <th>5</th>\n",
       "      <th>6</th>\n",
       "      <th>7</th>\n",
       "      <th>8</th>\n",
       "      <th>9</th>\n",
       "      <th>...</th>\n",
       "      <th>214</th>\n",
       "      <th>215</th>\n",
       "      <th>216</th>\n",
       "      <th>217</th>\n",
       "      <th>218</th>\n",
       "      <th>219</th>\n",
       "      <th>220</th>\n",
       "      <th>221</th>\n",
       "      <th>222</th>\n",
       "      <th>223</th>\n",
       "    </tr>\n",
       "  </thead>\n",
       "  <tbody>\n",
       "    <tr>\n",
       "      <th>0</th>\n",
       "      <td>0.225820</td>\n",
       "      <td>0.247975</td>\n",
       "      <td>0.197328</td>\n",
       "      <td>-0.111698</td>\n",
       "      <td>-0.079214</td>\n",
       "      <td>0.033555</td>\n",
       "      <td>-0.228052</td>\n",
       "      <td>0.319648</td>\n",
       "      <td>-0.207793</td>\n",
       "      <td>0.119562</td>\n",
       "      <td>...</td>\n",
       "      <td>0.239213</td>\n",
       "      <td>0.346062</td>\n",
       "      <td>-0.000784</td>\n",
       "      <td>0.110781</td>\n",
       "      <td>0.215404</td>\n",
       "      <td>0.103555</td>\n",
       "      <td>0.174324</td>\n",
       "      <td>0.217511</td>\n",
       "      <td>-0.084373</td>\n",
       "      <td>-0.334537</td>\n",
       "    </tr>\n",
       "    <tr>\n",
       "      <th>1</th>\n",
       "      <td>-0.661538</td>\n",
       "      <td>0.476923</td>\n",
       "      <td>0.353846</td>\n",
       "      <td>-0.661538</td>\n",
       "      <td>0.046154</td>\n",
       "      <td>-0.507692</td>\n",
       "      <td>-0.076923</td>\n",
       "      <td>-0.169231</td>\n",
       "      <td>-0.230769</td>\n",
       "      <td>0.569231</td>\n",
       "      <td>...</td>\n",
       "      <td>0.538462</td>\n",
       "      <td>-0.015385</td>\n",
       "      <td>-0.723077</td>\n",
       "      <td>0.230769</td>\n",
       "      <td>-0.323077</td>\n",
       "      <td>-0.138462</td>\n",
       "      <td>0.507692</td>\n",
       "      <td>0.507692</td>\n",
       "      <td>-0.261538</td>\n",
       "      <td>-0.415385</td>\n",
       "    </tr>\n",
       "  </tbody>\n",
       "</table>\n",
       "<p>2 rows × 224 columns</p>\n",
       "</div>"
      ],
      "text/plain": [
       "        0         1         2         3         4         5         6    \\\n",
       "0  0.225820  0.247975  0.197328 -0.111698 -0.079214  0.033555 -0.228052   \n",
       "1 -0.661538  0.476923  0.353846 -0.661538  0.046154 -0.507692 -0.076923   \n",
       "\n",
       "        7         8         9    ...       214       215       216       217  \\\n",
       "0  0.319648 -0.207793  0.119562  ...  0.239213  0.346062 -0.000784  0.110781   \n",
       "1 -0.169231 -0.230769  0.569231  ...  0.538462 -0.015385 -0.723077  0.230769   \n",
       "\n",
       "        218       219       220       221       222       223  \n",
       "0  0.215404  0.103555  0.174324  0.217511 -0.084373 -0.334537  \n",
       "1 -0.323077 -0.138462  0.507692  0.507692 -0.261538 -0.415385  \n",
       "\n",
       "[2 rows x 224 columns]"
      ]
     },
     "metadata": {},
     "output_type": "display_data"
    },
    {
     "name": "stdout",
     "output_type": "stream",
     "text": [
      "R2 Score Valence: 0.28\n"
     ]
    }
   ],
   "source": [
    "# df_v = df_v.round(2)\n",
    "\n",
    "display(df_v.head())\n",
    "print(\"R2 Score Valence: %0.2f\" % r2_v)"
   ]
  },
  {
   "cell_type": "markdown",
   "metadata": {},
   "source": [
    "REGRESSION"
   ]
  },
  {
   "cell_type": "code",
   "execution_count": 13,
   "metadata": {
    "collapsed": true
   },
   "outputs": [],
   "source": [
    "scores_a = regresion(gpr_a,data,scaled_ar) #Arousal Regression\n",
    "scores_v = regresion(gpr_v,data,scaled_val) #Arousal Regression"
   ]
  },
  {
   "cell_type": "markdown",
   "metadata": {
    "collapsed": true
   },
   "source": [
    "AROUSAL"
   ]
  },
  {
   "cell_type": "code",
   "execution_count": 14,
   "metadata": {},
   "outputs": [
    {
     "name": "stdout",
     "output_type": "stream",
     "text": [
      "R2 Score Valence:\t [ 0.46199151  0.4891282   0.54630226  0.43903648  0.69737876  0.59063482\n",
      "  0.54492899  0.5853275   0.65095956  0.5929507 ]\n",
      "R2 Score Valence:\t0.56 (+/- 0.08)\n"
     ]
    }
   ],
   "source": [
    "print(\"R2 Score Valence:\\t\",scores_a)\n",
    "print(\"R2 Score Valence:\\t%0.2f (+/- %0.2f)\" % (scores_a.mean(), scores_a.std() ))"
   ]
  },
  {
   "cell_type": "markdown",
   "metadata": {
    "collapsed": true
   },
   "source": [
    "VALENCE"
   ]
  },
  {
   "cell_type": "code",
   "execution_count": 15,
   "metadata": {},
   "outputs": [
    {
     "name": "stdout",
     "output_type": "stream",
     "text": [
      "R2 Score Valence:\t [ 0.04591989  0.01718468  0.04646442 -0.1743074   0.46422922  0.15758722\n",
      "  0.20406223  0.27650744  0.2655793   0.02273391]\n",
      "R2 Score Valence:\t0.13 (+/- 0.17)\n"
     ]
    }
   ],
   "source": [
    "print(\"R2 Score Valence:\\t\",scores_v)\n",
    "print(\"R2 Score Valence:\\t%0.2f (+/- %0.2f)\" % (scores_v.mean(), scores_v.std() ))"
   ]
  },
  {
   "cell_type": "code",
   "execution_count": 16,
   "metadata": {
    "collapsed": true
   },
   "outputs": [],
   "source": [
    "save_predict(df_a.round(2),df_v.round(2),datafitur)\n",
    "save_model(trained_a,datafitur,'arousal/') #save model Arousal\n",
    "save_model(trained_v,datafitur,'valence/') #save model Valence"
   ]
  },
  {
   "cell_type": "markdown",
   "metadata": {},
   "source": [
    "# CASE 2"
   ]
  },
  {
   "cell_type": "code",
   "execution_count": 17,
   "metadata": {},
   "outputs": [
    {
     "name": "stdout",
     "output_type": "stream",
     "text": [
      "(744, 34)\n"
     ]
    }
   ],
   "source": [
    "datafitur = \"case2\" #CASE 2\n",
    "\n",
    "data,arousal_mean,valence_mean = load(datafitur) #Load\n",
    "print(data.shape)\n",
    "\n",
    "scaled_ar = minmax_scale(arousal_mean.values,feature_range=(-1, 1))\n",
    "scaled_val = minmax_scale(valence_mean.values,feature_range=(-1, 1))\n",
    "\n",
    "train_data_a, test_data_a, train_values_a, test_values_a = split(data,scaled_ar) #split arousal\n",
    "train_data_v, test_data_v, train_values_v, test_values_v = split(data,scaled_val) #split valence"
   ]
  },
  {
   "cell_type": "markdown",
   "metadata": {},
   "source": [
    "INITIAL MODEL"
   ]
  },
  {
   "cell_type": "code",
   "execution_count": 18,
   "metadata": {
    "collapsed": true
   },
   "outputs": [],
   "source": [
    "gpr_a = GPR(kernel=kernels, alpha=1e-10, \n",
    "                    optimizer='fmin_l_bfgs_b', \n",
    "                    n_restarts_optimizer=10, \n",
    "                    normalize_y=True, copy_X_train=False, \n",
    "                    random_state=1000) #init Valence\n",
    "\n",
    "gpr_v = GPR(kernel=kernels, alpha=1e-10, \n",
    "                    optimizer='fmin_l_bfgs_b', \n",
    "                    n_restarts_optimizer=10, \n",
    "                    normalize_y=True, copy_X_train=False, \n",
    "                    random_state=1000) #init Valence"
   ]
  },
  {
   "cell_type": "code",
   "execution_count": 19,
   "metadata": {},
   "outputs": [
    {
     "name": "stdout",
     "output_type": "stream",
     "text": [
      "arousal:\t RationalQuadratic(alpha=1, length_scale=1)\n",
      "valence:\t RationalQuadratic(alpha=1, length_scale=1)\n"
     ]
    }
   ],
   "source": [
    "print(\"arousal:\\t\",gpr_a.kernel)\n",
    "print(\"valence:\\t\",gpr_v.kernel)"
   ]
  },
  {
   "cell_type": "markdown",
   "metadata": {},
   "source": [
    "TRAIN"
   ]
  },
  {
   "cell_type": "code",
   "execution_count": 20,
   "metadata": {
    "collapsed": true
   },
   "outputs": [],
   "source": [
    "trained_a = training(train_data_a,train_values_a,gpr_a)\n",
    "trained_v = training(train_data_v,train_values_v,gpr_v)"
   ]
  },
  {
   "cell_type": "markdown",
   "metadata": {},
   "source": [
    "PREDICT"
   ]
  },
  {
   "cell_type": "code",
   "execution_count": 21,
   "metadata": {},
   "outputs": [],
   "source": [
    "# #Predict Arousal\n",
    "pred_a,df2_a = predict(test_data_a, test_values_a, gpr_a)\n",
    "# #Predict Valence\n",
    "pred_v,df2_v = predict(test_data_v, test_values_v, gpr_v)\n",
    "\n",
    "r2_a = score(pred_a,test_values_a) #Score Arousal\n",
    "r2_v = score(pred_v,test_values_v) #Score Valence"
   ]
  },
  {
   "cell_type": "markdown",
   "metadata": {},
   "source": [
    "SET PARAM"
   ]
  },
  {
   "cell_type": "code",
   "execution_count": 22,
   "metadata": {},
   "outputs": [
    {
     "name": "stdout",
     "output_type": "stream",
     "text": [
      "arousal:\t RationalQuadratic(alpha=0.0101, length_scale=0.225)\n",
      "valence:\t RationalQuadratic(alpha=0.0132, length_scale=0.0767)\n"
     ]
    }
   ],
   "source": [
    "trained_a.set_params(kernel=trained_a.kernel_)\n",
    "trained_v.set_params(kernel=trained_v.kernel_)\n",
    "\n",
    "print(\"arousal:\\t\",trained_a.kernel)\n",
    "print(\"valence:\\t\",trained_v.kernel)"
   ]
  },
  {
   "cell_type": "markdown",
   "metadata": {},
   "source": [
    "AROUSAL"
   ]
  },
  {
   "cell_type": "code",
   "execution_count": 23,
   "metadata": {},
   "outputs": [
    {
     "data": {
      "text/html": [
       "<div>\n",
       "<style scoped>\n",
       "    .dataframe tbody tr th:only-of-type {\n",
       "        vertical-align: middle;\n",
       "    }\n",
       "\n",
       "    .dataframe tbody tr th {\n",
       "        vertical-align: top;\n",
       "    }\n",
       "\n",
       "    .dataframe thead th {\n",
       "        text-align: right;\n",
       "    }\n",
       "</style>\n",
       "<table border=\"1\" class=\"dataframe\">\n",
       "  <thead>\n",
       "    <tr style=\"text-align: right;\">\n",
       "      <th></th>\n",
       "      <th>0</th>\n",
       "      <th>1</th>\n",
       "      <th>2</th>\n",
       "      <th>3</th>\n",
       "      <th>4</th>\n",
       "      <th>5</th>\n",
       "      <th>6</th>\n",
       "      <th>7</th>\n",
       "      <th>8</th>\n",
       "      <th>9</th>\n",
       "      <th>...</th>\n",
       "      <th>214</th>\n",
       "      <th>215</th>\n",
       "      <th>216</th>\n",
       "      <th>217</th>\n",
       "      <th>218</th>\n",
       "      <th>219</th>\n",
       "      <th>220</th>\n",
       "      <th>221</th>\n",
       "      <th>222</th>\n",
       "      <th>223</th>\n",
       "    </tr>\n",
       "  </thead>\n",
       "  <tbody>\n",
       "    <tr>\n",
       "      <th>0</th>\n",
       "      <td>0.012247</td>\n",
       "      <td>0.190538</td>\n",
       "      <td>0.494518</td>\n",
       "      <td>-0.319365</td>\n",
       "      <td>-0.415454</td>\n",
       "      <td>-0.113565</td>\n",
       "      <td>-0.642037</td>\n",
       "      <td>0.382573</td>\n",
       "      <td>-0.454567</td>\n",
       "      <td>-0.017574</td>\n",
       "      <td>...</td>\n",
       "      <td>0.497475</td>\n",
       "      <td>5.373489e-02</td>\n",
       "      <td>-0.076619</td>\n",
       "      <td>-0.050936</td>\n",
       "      <td>-0.004373</td>\n",
       "      <td>-0.002217</td>\n",
       "      <td>0.288890</td>\n",
       "      <td>0.431990</td>\n",
       "      <td>-0.180097</td>\n",
       "      <td>-0.580886</td>\n",
       "    </tr>\n",
       "    <tr>\n",
       "      <th>1</th>\n",
       "      <td>0.352941</td>\n",
       "      <td>0.264706</td>\n",
       "      <td>0.411765</td>\n",
       "      <td>-0.558824</td>\n",
       "      <td>-0.441176</td>\n",
       "      <td>-0.411765</td>\n",
       "      <td>-0.588235</td>\n",
       "      <td>0.235294</td>\n",
       "      <td>-0.411765</td>\n",
       "      <td>0.352941</td>\n",
       "      <td>...</td>\n",
       "      <td>0.588235</td>\n",
       "      <td>-2.220446e-16</td>\n",
       "      <td>-0.382353</td>\n",
       "      <td>0.235294</td>\n",
       "      <td>-0.088235</td>\n",
       "      <td>-0.029412</td>\n",
       "      <td>-0.058824</td>\n",
       "      <td>0.382353</td>\n",
       "      <td>-0.500000</td>\n",
       "      <td>-0.823529</td>\n",
       "    </tr>\n",
       "  </tbody>\n",
       "</table>\n",
       "<p>2 rows × 224 columns</p>\n",
       "</div>"
      ],
      "text/plain": [
       "        0         1         2         3         4         5         6    \\\n",
       "0  0.012247  0.190538  0.494518 -0.319365 -0.415454 -0.113565 -0.642037   \n",
       "1  0.352941  0.264706  0.411765 -0.558824 -0.441176 -0.411765 -0.588235   \n",
       "\n",
       "        7         8         9    ...       214           215       216  \\\n",
       "0  0.382573 -0.454567 -0.017574  ...  0.497475  5.373489e-02 -0.076619   \n",
       "1  0.235294 -0.411765  0.352941  ...  0.588235 -2.220446e-16 -0.382353   \n",
       "\n",
       "        217       218       219       220       221       222       223  \n",
       "0 -0.050936 -0.004373 -0.002217  0.288890  0.431990 -0.180097 -0.580886  \n",
       "1  0.235294 -0.088235 -0.029412 -0.058824  0.382353 -0.500000 -0.823529  \n",
       "\n",
       "[2 rows x 224 columns]"
      ]
     },
     "metadata": {},
     "output_type": "display_data"
    },
    {
     "name": "stdout",
     "output_type": "stream",
     "text": [
      "R2 Score Arousal:\t0.67\n"
     ]
    }
   ],
   "source": [
    "# df_a = df_a.round(2)\n",
    "\n",
    "display(df_a.head())\n",
    "print(\"R2 Score Arousal:\\t%0.2f\" % r2_a)"
   ]
  },
  {
   "cell_type": "markdown",
   "metadata": {},
   "source": [
    "VALENCE"
   ]
  },
  {
   "cell_type": "code",
   "execution_count": 24,
   "metadata": {},
   "outputs": [
    {
     "data": {
      "text/html": [
       "<div>\n",
       "<style scoped>\n",
       "    .dataframe tbody tr th:only-of-type {\n",
       "        vertical-align: middle;\n",
       "    }\n",
       "\n",
       "    .dataframe tbody tr th {\n",
       "        vertical-align: top;\n",
       "    }\n",
       "\n",
       "    .dataframe thead th {\n",
       "        text-align: right;\n",
       "    }\n",
       "</style>\n",
       "<table border=\"1\" class=\"dataframe\">\n",
       "  <thead>\n",
       "    <tr style=\"text-align: right;\">\n",
       "      <th></th>\n",
       "      <th>0</th>\n",
       "      <th>1</th>\n",
       "      <th>2</th>\n",
       "      <th>3</th>\n",
       "      <th>4</th>\n",
       "      <th>5</th>\n",
       "      <th>6</th>\n",
       "      <th>7</th>\n",
       "      <th>8</th>\n",
       "      <th>9</th>\n",
       "      <th>...</th>\n",
       "      <th>214</th>\n",
       "      <th>215</th>\n",
       "      <th>216</th>\n",
       "      <th>217</th>\n",
       "      <th>218</th>\n",
       "      <th>219</th>\n",
       "      <th>220</th>\n",
       "      <th>221</th>\n",
       "      <th>222</th>\n",
       "      <th>223</th>\n",
       "    </tr>\n",
       "  </thead>\n",
       "  <tbody>\n",
       "    <tr>\n",
       "      <th>0</th>\n",
       "      <td>0.225820</td>\n",
       "      <td>0.247975</td>\n",
       "      <td>0.197328</td>\n",
       "      <td>-0.111698</td>\n",
       "      <td>-0.079214</td>\n",
       "      <td>0.033555</td>\n",
       "      <td>-0.228052</td>\n",
       "      <td>0.319648</td>\n",
       "      <td>-0.207793</td>\n",
       "      <td>0.119562</td>\n",
       "      <td>...</td>\n",
       "      <td>0.239213</td>\n",
       "      <td>0.346062</td>\n",
       "      <td>-0.000784</td>\n",
       "      <td>0.110781</td>\n",
       "      <td>0.215404</td>\n",
       "      <td>0.103555</td>\n",
       "      <td>0.174324</td>\n",
       "      <td>0.217511</td>\n",
       "      <td>-0.084373</td>\n",
       "      <td>-0.334537</td>\n",
       "    </tr>\n",
       "    <tr>\n",
       "      <th>1</th>\n",
       "      <td>-0.661538</td>\n",
       "      <td>0.476923</td>\n",
       "      <td>0.353846</td>\n",
       "      <td>-0.661538</td>\n",
       "      <td>0.046154</td>\n",
       "      <td>-0.507692</td>\n",
       "      <td>-0.076923</td>\n",
       "      <td>-0.169231</td>\n",
       "      <td>-0.230769</td>\n",
       "      <td>0.569231</td>\n",
       "      <td>...</td>\n",
       "      <td>0.538462</td>\n",
       "      <td>-0.015385</td>\n",
       "      <td>-0.723077</td>\n",
       "      <td>0.230769</td>\n",
       "      <td>-0.323077</td>\n",
       "      <td>-0.138462</td>\n",
       "      <td>0.507692</td>\n",
       "      <td>0.507692</td>\n",
       "      <td>-0.261538</td>\n",
       "      <td>-0.415385</td>\n",
       "    </tr>\n",
       "  </tbody>\n",
       "</table>\n",
       "<p>2 rows × 224 columns</p>\n",
       "</div>"
      ],
      "text/plain": [
       "        0         1         2         3         4         5         6    \\\n",
       "0  0.225820  0.247975  0.197328 -0.111698 -0.079214  0.033555 -0.228052   \n",
       "1 -0.661538  0.476923  0.353846 -0.661538  0.046154 -0.507692 -0.076923   \n",
       "\n",
       "        7         8         9    ...       214       215       216       217  \\\n",
       "0  0.319648 -0.207793  0.119562  ...  0.239213  0.346062 -0.000784  0.110781   \n",
       "1 -0.169231 -0.230769  0.569231  ...  0.538462 -0.015385 -0.723077  0.230769   \n",
       "\n",
       "        218       219       220       221       222       223  \n",
       "0  0.215404  0.103555  0.174324  0.217511 -0.084373 -0.334537  \n",
       "1 -0.323077 -0.138462  0.507692  0.507692 -0.261538 -0.415385  \n",
       "\n",
       "[2 rows x 224 columns]"
      ]
     },
     "metadata": {},
     "output_type": "display_data"
    },
    {
     "name": "stdout",
     "output_type": "stream",
     "text": [
      "R2 Score Valence:\t0.27\n"
     ]
    }
   ],
   "source": [
    "# df_v = df_v.round(2)\n",
    "\n",
    "display(df_v.head())\n",
    "print(\"R2 Score Valence:\\t%0.2f\" % r2_v)"
   ]
  },
  {
   "cell_type": "markdown",
   "metadata": {},
   "source": [
    "REGRESSION"
   ]
  },
  {
   "cell_type": "code",
   "execution_count": 25,
   "metadata": {},
   "outputs": [],
   "source": [
    "scores_a = regresion(gpr_a,data,scaled_ar) #Arousal Regression\n",
    "scores_v = regresion(gpr_v,data,scaled_val) #Arousal Regression"
   ]
  },
  {
   "cell_type": "markdown",
   "metadata": {},
   "source": [
    "AROUSAL"
   ]
  },
  {
   "cell_type": "code",
   "execution_count": 26,
   "metadata": {},
   "outputs": [
    {
     "name": "stdout",
     "output_type": "stream",
     "text": [
      "R2 Score Valence:\t [ 0.47044567  0.47580088  0.53834128  0.44398701  0.6956205   0.55736272\n",
      "  0.54161769  0.57368614  0.63256902  0.60410416]\n",
      "R2 Score Valence:\t0.55 (+/- 0.07)\n"
     ]
    }
   ],
   "source": [
    "print(\"R2 Score Valence:\\t\",scores_a)\n",
    "print(\"R2 Score Valence:\\t%0.2f (+/- %0.2f)\" % (scores_a.mean(), scores_a.std() ))"
   ]
  },
  {
   "cell_type": "markdown",
   "metadata": {},
   "source": [
    "VALENCE"
   ]
  },
  {
   "cell_type": "code",
   "execution_count": 27,
   "metadata": {},
   "outputs": [
    {
     "name": "stdout",
     "output_type": "stream",
     "text": [
      "R2 Score Valence:\t [ 0.05585104  0.03807502  0.03240924 -0.18012408  0.47300756  0.12680563\n",
      "  0.18900027  0.27085813  0.24324239  0.01268423]\n",
      "R2 Score Valence:\t0.13 (+/- 0.17)\n"
     ]
    }
   ],
   "source": [
    "print(\"R2 Score Valence:\\t\",scores_v)\n",
    "print(\"R2 Score Valence:\\t%0.2f (+/- %0.2f)\" % (scores_v.mean(), scores_v.std() ))"
   ]
  },
  {
   "cell_type": "code",
   "execution_count": 28,
   "metadata": {},
   "outputs": [
    {
     "ename": "NameError",
     "evalue": "name 'train_a' is not defined",
     "output_type": "error",
     "traceback": [
      "\u001b[1;31m---------------------------------------------------------------------------\u001b[0m",
      "\u001b[1;31mNameError\u001b[0m                                 Traceback (most recent call last)",
      "\u001b[1;32m<ipython-input-28-a2e8c8e3f340>\u001b[0m in \u001b[0;36m<module>\u001b[1;34m()\u001b[0m\n\u001b[0;32m      1\u001b[0m \u001b[0msave_predict\u001b[0m\u001b[1;33m(\u001b[0m\u001b[0mdf_a\u001b[0m\u001b[1;33m.\u001b[0m\u001b[0mround\u001b[0m\u001b[1;33m(\u001b[0m\u001b[1;36m2\u001b[0m\u001b[1;33m)\u001b[0m\u001b[1;33m,\u001b[0m\u001b[0mdf_v\u001b[0m\u001b[1;33m.\u001b[0m\u001b[0mround\u001b[0m\u001b[1;33m(\u001b[0m\u001b[1;36m2\u001b[0m\u001b[1;33m)\u001b[0m\u001b[1;33m,\u001b[0m\u001b[0mdatafitur\u001b[0m\u001b[1;33m)\u001b[0m\u001b[1;33m\u001b[0m\u001b[0m\n\u001b[1;32m----> 2\u001b[1;33m \u001b[0msave_model\u001b[0m\u001b[1;33m(\u001b[0m\u001b[0mtrain_a\u001b[0m\u001b[1;33m,\u001b[0m\u001b[0mdatafitur\u001b[0m\u001b[1;33m,\u001b[0m\u001b[1;34m'arousal/'\u001b[0m\u001b[1;33m)\u001b[0m \u001b[1;31m#save model Arousal\u001b[0m\u001b[1;33m\u001b[0m\u001b[0m\n\u001b[0m\u001b[0;32m      3\u001b[0m \u001b[0msave_model\u001b[0m\u001b[1;33m(\u001b[0m\u001b[0mtrain_v\u001b[0m\u001b[1;33m,\u001b[0m\u001b[0mdatafitur\u001b[0m\u001b[1;33m,\u001b[0m\u001b[1;34m'valence/'\u001b[0m\u001b[1;33m)\u001b[0m \u001b[1;31m#save model Valence\u001b[0m\u001b[1;33m\u001b[0m\u001b[0m\n",
      "\u001b[1;31mNameError\u001b[0m: name 'train_a' is not defined"
     ]
    }
   ],
   "source": [
    "save_predict(df_a.round(2),df_v.round(2),datafitur)\n",
    "save_model(train_a,datafitur,'arousal/') #save model Arousal\n",
    "save_model(train_v,datafitur,'valence/') #save model Valence"
   ]
  },
  {
   "cell_type": "markdown",
   "metadata": {},
   "source": [
    "# CASE 3"
   ]
  },
  {
   "cell_type": "code",
   "execution_count": null,
   "metadata": {},
   "outputs": [],
   "source": [
    "datafitur =  \"case3\" #CASE 3\n",
    "data,arousal_mean,valence_mean = load(datafitur) #Load\n",
    "print(data.shape)\n",
    "\n",
    "scaled_ar = minmax_scale(arousal_mean.values,feature_range=(-1, 1))\n",
    "scaled_val = minmax_scale(valence_mean.values,feature_range=(-1, 1))\n",
    "\n",
    "train_data_a, test_data_a, train_values_a, test_values_a = split(data,scaled_ar) #split arousal\n",
    "train_data_v, test_data_v, train_values_v, test_values_v = split(data,scaled_val) #split valence"
   ]
  },
  {
   "cell_type": "markdown",
   "metadata": {},
   "source": [
    "INITAL MODEL"
   ]
  },
  {
   "cell_type": "code",
   "execution_count": null,
   "metadata": {
    "collapsed": true
   },
   "outputs": [],
   "source": [
    "gpr_a = GPR(kernel=kernels, alpha=1e-10, \n",
    "                    optimizer='fmin_l_bfgs_b', \n",
    "                    n_restarts_optimizer=10, \n",
    "                    normalize_y=True, copy_X_train=False, \n",
    "                    random_state=1000) #init Arousal\n",
    "\n",
    "gpr_v = GPR(kernel=kernels, alpha=1e-10, \n",
    "                    optimizer='fmin_l_bfgs_b', \n",
    "                    n_restarts_optimizer=10, \n",
    "                    normalize_y=True, copy_X_train=False, \n",
    "                    random_state=1000) #init Valence"
   ]
  },
  {
   "cell_type": "code",
   "execution_count": null,
   "metadata": {},
   "outputs": [],
   "source": [
    "print(\"arousal:\\t\",gpr_a.kernel)\n",
    "print(\"valence:\\t\",gpr_v.kernel)"
   ]
  },
  {
   "cell_type": "markdown",
   "metadata": {},
   "source": [
    "TRAIN"
   ]
  },
  {
   "cell_type": "code",
   "execution_count": null,
   "metadata": {
    "collapsed": true
   },
   "outputs": [],
   "source": [
    "trained_a = training(train_data_a,train_values_a,gpr_a)\n",
    "trained_v = training(train_data_v,train_values_v,gpr_v)"
   ]
  },
  {
   "cell_type": "markdown",
   "metadata": {},
   "source": [
    "PREDICT"
   ]
  },
  {
   "cell_type": "code",
   "execution_count": null,
   "metadata": {},
   "outputs": [],
   "source": [
    "# #Predict Arousal\n",
    "pred_a,df2_a = predict(test_data_a, test_values_a, svr_case1_a)\n",
    "# #Predict Valence\n",
    "pred_v,df2_v = predict(test_data_v, test_values_v, svr_case1_v)\n",
    "\n",
    "r2_a = score(a_a,test_values_a) #Score Arousal\n",
    "r2_v = score(a_v,test_values_v) #Score Valence"
   ]
  },
  {
   "cell_type": "markdown",
   "metadata": {},
   "source": [
    "SET PARAM"
   ]
  },
  {
   "cell_type": "code",
   "execution_count": null,
   "metadata": {},
   "outputs": [],
   "source": [
    "trained_a.set_params(kernel=trained_a.kernel_)\n",
    "trained_v.set_params(kernel=trained_v.kernel_)\n",
    "\n",
    "print(\"arousal:\\t\",trained_a.kernel)\n",
    "print(\"valence:\\t\",trained_v.kernel)"
   ]
  },
  {
   "cell_type": "markdown",
   "metadata": {},
   "source": [
    "AROUSAL"
   ]
  },
  {
   "cell_type": "code",
   "execution_count": null,
   "metadata": {},
   "outputs": [],
   "source": [
    "# df_a = df_a.round(2)\n",
    "\n",
    "display(df_a.head())\n",
    "print(\"R2 Score Arousal:\\t%0.2f\" % r2_a)"
   ]
  },
  {
   "cell_type": "markdown",
   "metadata": {},
   "source": [
    "VALENCE"
   ]
  },
  {
   "cell_type": "code",
   "execution_count": null,
   "metadata": {},
   "outputs": [],
   "source": [
    "# df3_v = df3_v.round(2)\n",
    "\n",
    "display(df3_v.head())\n",
    "print(\"R2 Score Valence:\\t%0.2f\" % r2_v)"
   ]
  },
  {
   "cell_type": "markdown",
   "metadata": {},
   "source": [
    "REGRESSION"
   ]
  },
  {
   "cell_type": "code",
   "execution_count": null,
   "metadata": {
    "collapsed": true
   },
   "outputs": [],
   "source": [
    "scores_a = regresion(gpr_a,data,scaled_ar) #Arousal Regression\n",
    "scores_v = regresion(gpr_v,data,scaled_val) #Arousal Regression"
   ]
  },
  {
   "cell_type": "markdown",
   "metadata": {},
   "source": [
    "AROUSAL"
   ]
  },
  {
   "cell_type": "code",
   "execution_count": null,
   "metadata": {
    "collapsed": true
   },
   "outputs": [],
   "source": [
    "print(\"R2 Score Valence:\\t\",scores_a)\n",
    "print(\"R2 Score Valence:\\t%0.2f (+/- %0.2f)\" % (scores_a.mean(), scores_a.std() ))"
   ]
  },
  {
   "cell_type": "markdown",
   "metadata": {},
   "source": [
    "VALENCE"
   ]
  },
  {
   "cell_type": "code",
   "execution_count": null,
   "metadata": {
    "collapsed": true
   },
   "outputs": [],
   "source": [
    "print(\"R2 Score Valence:\\t\",scores_v)\n",
    "print(\"R2 Score Valence:\\t%0.2f (+/- %0.2f)\" % (scores_v.mean(), scores_v.std() ))"
   ]
  },
  {
   "cell_type": "code",
   "execution_count": null,
   "metadata": {
    "collapsed": true
   },
   "outputs": [],
   "source": [
    "save_predict(df_a,df_v,datafitur)\n",
    "save_model(trained_a,datafitur,'arousal/') #save model Arousal\n",
    "save_model(trained_v,datafitur,'valence/') #save model Valence"
   ]
  },
  {
   "cell_type": "markdown",
   "metadata": {},
   "source": [
    "# CASE 4"
   ]
  },
  {
   "cell_type": "code",
   "execution_count": null,
   "metadata": {},
   "outputs": [],
   "source": [
    "datafitur =  \"case4\" #CASE 3\n",
    "data,arousal_mean,valence_mean = load(datafitur) #Load\n",
    "print(data.shape)\n",
    "\n",
    "scaled_ar = minmax_scale(arousal_mean.values,feature_range=(-1, 1))\n",
    "scaled_val = minmax_scale(valence_mean.values,feature_range=(-1, 1))\n",
    "\n",
    "train_data_a, test_data_a, train_values_a, test_values_a = split(data,scaled_ar) #split arousal\n",
    "train_data_v, test_data_v, train_values_v, test_values_v = split(data,scaled_val) #split valence"
   ]
  },
  {
   "cell_type": "markdown",
   "metadata": {},
   "source": [
    "INITIAL MODEL"
   ]
  },
  {
   "cell_type": "code",
   "execution_count": null,
   "metadata": {
    "collapsed": true
   },
   "outputs": [],
   "source": [
    "gpr_a = GPR(kernel=kernels, alpha=1e-10, \n",
    "                    optimizer='fmin_l_bfgs_b', \n",
    "                    n_restarts_optimizer=10, \n",
    "                    normalize_y=True, copy_X_train=False, \n",
    "                    random_state=1000) #init Arousal\n",
    "\n",
    "gpr_v = GPR(kernel=kernels, alpha=1e-10, \n",
    "                    optimizer='fmin_l_bfgs_b', \n",
    "                    n_restarts_optimizer=10, \n",
    "                    normalize_y=True, copy_X_train=False, \n",
    "                    random_state=1000) #init Valence"
   ]
  },
  {
   "cell_type": "code",
   "execution_count": null,
   "metadata": {},
   "outputs": [],
   "source": [
    "print(\"arousal:\\t\",gpr_a.kernel)\n",
    "print(\"valence:\\t\",gpr_v.kernel)"
   ]
  },
  {
   "cell_type": "markdown",
   "metadata": {},
   "source": [
    "TRAIN"
   ]
  },
  {
   "cell_type": "code",
   "execution_count": null,
   "metadata": {
    "collapsed": true
   },
   "outputs": [],
   "source": [
    "trained_a = training(train_data_a,train_values_a,gpr_a)\n",
    "trained_v = training(train_data_v,train_values_v,gpr_v)"
   ]
  },
  {
   "cell_type": "markdown",
   "metadata": {},
   "source": [
    "PREDICT"
   ]
  },
  {
   "cell_type": "code",
   "execution_count": null,
   "metadata": {
    "collapsed": true
   },
   "outputs": [],
   "source": [
    "# #Predict Arousal\n",
    "pred_a,df2_a = predict(test_data_a, test_values_a, gpr_a)\n",
    "# #Predict Valence\n",
    "pred_v,df2_v = predict(test_data_v, test_values_v, gpr_v)\n",
    "\n",
    "r2_a = score(pred_a,test_values_a) #Score Arousal\n",
    "r2_v = score(pred_v,test_values_v) #Score Valence"
   ]
  },
  {
   "cell_type": "markdown",
   "metadata": {},
   "source": [
    "SET PARAM"
   ]
  },
  {
   "cell_type": "code",
   "execution_count": null,
   "metadata": {},
   "outputs": [],
   "source": [
    "trained_a.set_param(kernel=trained_a.kernel_)\n",
    "trained_v.set_param(kernel=trained_v.kernel_)\n",
    "\n",
    "print(\"arousal:\\t\",trained_a.kernel)\n",
    "print(\"valence:\\t\",trained_v.kernel)"
   ]
  },
  {
   "cell_type": "markdown",
   "metadata": {},
   "source": [
    "AROUSAL"
   ]
  },
  {
   "cell_type": "code",
   "execution_count": null,
   "metadata": {},
   "outputs": [],
   "source": [
    "# df4_a = df4_a.round(2)\n",
    "\n",
    "display(df4_a.head())\n",
    "print(\"R2 Score Arousal:\\t%0.2f\" % r2_a)"
   ]
  },
  {
   "cell_type": "markdown",
   "metadata": {},
   "source": [
    "VALENCE"
   ]
  },
  {
   "cell_type": "code",
   "execution_count": null,
   "metadata": {},
   "outputs": [],
   "source": [
    "# df4_v = df4_v.round(2)\n",
    "\n",
    "display(df4_v.head())\n",
    "print(\"R2 Score Valence:\\t%0.2f\" % r2_v)"
   ]
  },
  {
   "cell_type": "markdown",
   "metadata": {},
   "source": [
    "REGRESSION"
   ]
  },
  {
   "cell_type": "code",
   "execution_count": null,
   "metadata": {
    "collapsed": true
   },
   "outputs": [],
   "source": [
    "scores_a = regresion(gpr_a,data,scaled_ar) #Arousal Regression\n",
    "scores_v = regresion(gpr_v,data,scaled_val) #Arousal Regression"
   ]
  },
  {
   "cell_type": "markdown",
   "metadata": {},
   "source": [
    "AROUSAL"
   ]
  },
  {
   "cell_type": "code",
   "execution_count": null,
   "metadata": {
    "collapsed": true
   },
   "outputs": [],
   "source": [
    "print(\"R2 Score Valence:\\t\",scores_a)\n",
    "print(\"R2 Score Valence:\\t%0.2f (+/- %0.2f)\" % (scores_a.mean(), scores_a.std() ))"
   ]
  },
  {
   "cell_type": "markdown",
   "metadata": {},
   "source": [
    "VALENCE"
   ]
  },
  {
   "cell_type": "code",
   "execution_count": null,
   "metadata": {
    "collapsed": true
   },
   "outputs": [],
   "source": [
    "print(\"R2 Score Valence:\\t\",scores_v)\n",
    "print(\"R2 Score Valence:\\t%0.2f (+/- %0.2f)\" % (scores_v.mean(), scores_v.std() ))"
   ]
  },
  {
   "cell_type": "code",
   "execution_count": null,
   "metadata": {
    "collapsed": true
   },
   "outputs": [],
   "source": [
    "save_predict(df_a,df_v,datafitur)\n",
    "save_model(trained_a,datafitur,'arousal/') #save model Arousal\n",
    "save_model(trained_v,datafitur,'valence/') #save model Valence"
   ]
  }
 ],
 "metadata": {
  "kernelspec": {
   "display_name": "Python 3",
   "language": "python",
   "name": "python3"
  },
  "language_info": {
   "codemirror_mode": {
    "name": "ipython",
    "version": 3
   },
   "file_extension": ".py",
   "mimetype": "text/x-python",
   "name": "python",
   "nbconvert_exporter": "python",
   "pygments_lexer": "ipython3",
   "version": "3.6.2"
  }
 },
 "nbformat": 4,
 "nbformat_minor": 2
}
