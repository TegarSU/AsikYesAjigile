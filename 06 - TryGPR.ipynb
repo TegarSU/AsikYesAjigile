{
 "cells": [
  {
   "cell_type": "code",
   "execution_count": 1,
   "metadata": {
    "collapsed": true
   },
   "outputs": [],
   "source": [
    "import pandas as pd\n",
    "import numpy as np\n",
    "from sklearn.externals import joblib\n",
    "\n",
    "from sklearn.gaussian_process import GaussianProcessRegressor as GPR\n",
    "from sklearn.gaussian_process.kernels import RationalQuadratic\n",
    "from sklearn.model_selection import cross_val_score\n",
    "from sklearn.model_selection import train_test_split\n",
    "from sklearn.metrics import r2_score\n",
    "from sklearn.preprocessing import minmax_scale"
   ]
  },
  {
   "cell_type": "code",
   "execution_count": 2,
   "metadata": {
    "collapsed": true
   },
   "outputs": [],
   "source": [
    "# #PATH\n",
    "path_info = \"F:/178/Tugas Akhir/dataset/annotations/\"\n",
    "path_to_fitur = \"F:/178/Tugas Akhir/dataset/coba fitur/\"\n",
    "path_to_experiment =\"F:/178/Tugas Akhir/dataset/experiment/\"\n",
    "path_to_model = \"F:/178/Tugas Akhir/dataset/model/\"\n",
    "path_to_predict = \"F:/178/Tugas Akhir/dataset/predict/\"\n",
    "\n",
    "# path_info = \"C:/Users/USER/Downloads/Tugas Akhir/dataset/annotations/\"\n",
    "# path_to_fitur = \"C:/Users/USER/Downloads/Tugas Akhir/dataset/coba fitur/\"\n",
    "# path_to_experiment =\"C:/Users/USER/Downloads/Tugas Akhir/dataset/experiment/\"\n",
    "# path_to_model = \"C:/Users/USER/Downloads/Tugas Akhir/dataset/model/\"\n",
    "# path_to_predict = \"C:/Users/USER/Downloads/Tugas Akhir/dataset/predict/\""
   ]
  },
  {
   "cell_type": "code",
   "execution_count": 3,
   "metadata": {
    "collapsed": true
   },
   "outputs": [],
   "source": [
    "def load(fitur):\n",
    "    data = pd.read_csv(path_to_experiment + fitur+\".csv\",header=None)\n",
    "    ground = pd.read_csv(path_info + \"static_annotations.csv\")\n",
    "\n",
    "    arousal_mean = ground['mean_arousal']\n",
    "    valence_mean = ground['mean_valence']\n",
    "    \n",
    "    return data,arousal_mean,valence_mean\n",
    "\n",
    "def split(data,value):\n",
    "    train_data, test_data, train_values, test_values = train_test_split(data,value,test_size=0.3,random_state=1000)\n",
    "    \n",
    "    return train_data, test_data, train_values, test_values\n",
    "\n",
    "def training(data,values,clf):\n",
    "    trained = clf.fit(data,values)\n",
    "    \n",
    "    return trained\n",
    "    \n",
    "def predict(test,true,clf):\n",
    "    pred = clf.predict(test)\n",
    "    df = pd.DataFrame(data=[pred,true])\n",
    "    \n",
    "    return pred,df\n",
    "\n",
    "def score(pred,true):\n",
    "    r2 = r2_score(true, pred)\n",
    "    \n",
    "    return r2\n",
    "\n",
    "def crosval(clf,data,values):\n",
    "    scores = cross_val_score(clf,data,values,scoring='r2',cv=10)\n",
    "    \n",
    "    return scores\n",
    "\n",
    "def save_model(model,case,types):\n",
    "    path = path_to_model+types+case+'.sav' # save the model\n",
    "    joblib.dump(model, path)\n",
    "\n",
    "def save_predict(df1,df2,case):\n",
    "    path = path_to_predict+case+\".xlsx\" # save the model\n",
    "    arousal = df1.T\n",
    "    valence = df2.T\n",
    "    merged = arousal.merge(valence, how='outer', left_index=True, right_index=True)\n",
    "    merged.to_excel(path,header=None,index=None)\n",
    "\n",
    "def norm(data):\n",
    "    scaler.fit(data)\n",
    "    normalized = scaler.transform(data)\n",
    "    \n",
    "    return normalized"
   ]
  },
  {
   "cell_type": "code",
   "execution_count": 4,
   "metadata": {
    "collapsed": true
   },
   "outputs": [],
   "source": [
    "kernels = RationalQuadratic(length_scale=1.0, alpha=1.0, \n",
    "                            length_scale_bounds=(1e-6, 1e6), \n",
    "                            alpha_bounds=(1e-6, 1e6))"
   ]
  },
  {
   "cell_type": "markdown",
   "metadata": {},
   "source": [
    "# CASE 1"
   ]
  },
  {
   "cell_type": "code",
   "execution_count": 5,
   "metadata": {},
   "outputs": [
    {
     "name": "stdout",
     "output_type": "stream",
     "text": [
      "(744, 26)\n"
     ]
    }
   ],
   "source": [
    "datafitur = \"case1\" #CASE 1\n",
    "\n",
    "data,arousal_mean,valence_mean = load(datafitur) #Load\n",
    "print(data.shape)\n",
    "\n",
    "scaled_ar = minmax_scale(arousal_mean.values,feature_range=(-1, 1))\n",
    "scaled_val = minmax_scale(valence_mean.values,feature_range=(-1, 1))\n",
    "\n",
    "#split arousal\n",
    "train_data_a, test_data_a, train_values_a, test_values_a = split(data,scaled_ar)\n",
    "#split valence\n",
    "train_data_v, test_data_v, train_values_v, test_values_v = split(data,scaled_val) "
   ]
  },
  {
   "cell_type": "markdown",
   "metadata": {},
   "source": [
    "INITIAL MODEL"
   ]
  },
  {
   "cell_type": "code",
   "execution_count": 6,
   "metadata": {
    "collapsed": true
   },
   "outputs": [],
   "source": [
    "gpr_a = GPR(kernel=kernels, alpha=1e-10, \n",
    "                    optimizer='fmin_l_bfgs_b', \n",
    "                    n_restarts_optimizer=10, \n",
    "                    normalize_y=True, copy_X_train=False, \n",
    "                    random_state=1000) #init Arousal\n",
    "\n",
    "gpr_v = GPR(kernel=kernels, alpha=1e-10, \n",
    "                    optimizer='fmin_l_bfgs_b', \n",
    "                    n_restarts_optimizer=10, \n",
    "                    normalize_y=True, copy_X_train=False, \n",
    "                    random_state=1000) #init Arousal"
   ]
  },
  {
   "cell_type": "code",
   "execution_count": 7,
   "metadata": {},
   "outputs": [
    {
     "name": "stdout",
     "output_type": "stream",
     "text": [
      "arousal:\t RationalQuadratic(alpha=1, length_scale=1)\n",
      "arousal:\t RationalQuadratic(alpha=1, length_scale=1)\n"
     ]
    }
   ],
   "source": [
    "print(\"arousal:\\t\",gpr_a.kernel)\n",
    "print(\"arousal:\\t\",gpr_v.kernel)"
   ]
  },
  {
   "cell_type": "markdown",
   "metadata": {},
   "source": [
    "TRAIN"
   ]
  },
  {
   "cell_type": "code",
   "execution_count": 8,
   "metadata": {
    "collapsed": true
   },
   "outputs": [],
   "source": [
    "trained_a = training(train_data_a,train_values_a,gpr_a)\n",
    "trained_v = training(train_data_v,train_values_v,gpr_v)"
   ]
  },
  {
   "cell_type": "markdown",
   "metadata": {},
   "source": [
    "PREDICT"
   ]
  },
  {
   "cell_type": "code",
   "execution_count": 9,
   "metadata": {
    "collapsed": true
   },
   "outputs": [],
   "source": [
    "# #Predict Arousal\n",
    "pred_a,df_a = predict(test_data_a, test_values_a, trained_a)\n",
    "# #Predict Valence\n",
    "pred_v,df_v = predict(test_data_v, test_values_v, trained_v)\n",
    "\n",
    "r2_a = score(pred_a,test_values_a) #Score Arousal\n",
    "r2_v = score(pred_v,test_values_v) #Score Valence"
   ]
  },
  {
   "cell_type": "markdown",
   "metadata": {},
   "source": [
    "SET PARAM"
   ]
  },
  {
   "cell_type": "code",
   "execution_count": 10,
   "metadata": {},
   "outputs": [
    {
     "name": "stdout",
     "output_type": "stream",
     "text": [
      "arousal:\t RationalQuadratic(alpha=0.0307, length_scale=4.12)\n",
      "valence:\t RationalQuadratic(alpha=0.0311, length_scale=2)\n"
     ]
    }
   ],
   "source": [
    "trained_a.set_params(kernel=trained_a.kernel_)\n",
    "trained_v.set_params(kernel=trained_v.kernel_)\n",
    "\n",
    "print(\"arousal:\\t\",trained_a.kernel)\n",
    "print(\"valence:\\t\",trained_v.kernel)"
   ]
  },
  {
   "cell_type": "markdown",
   "metadata": {},
   "source": [
    "AROUSAL"
   ]
  },
  {
   "cell_type": "code",
   "execution_count": 11,
   "metadata": {},
   "outputs": [
    {
     "data": {
      "text/html": [
       "<div>\n",
       "<style scoped>\n",
       "    .dataframe tbody tr th:only-of-type {\n",
       "        vertical-align: middle;\n",
       "    }\n",
       "\n",
       "    .dataframe tbody tr th {\n",
       "        vertical-align: top;\n",
       "    }\n",
       "\n",
       "    .dataframe thead th {\n",
       "        text-align: right;\n",
       "    }\n",
       "</style>\n",
       "<table border=\"1\" class=\"dataframe\">\n",
       "  <thead>\n",
       "    <tr style=\"text-align: right;\">\n",
       "      <th></th>\n",
       "      <th>0</th>\n",
       "      <th>1</th>\n",
       "      <th>2</th>\n",
       "      <th>3</th>\n",
       "      <th>4</th>\n",
       "      <th>5</th>\n",
       "      <th>6</th>\n",
       "      <th>7</th>\n",
       "      <th>8</th>\n",
       "      <th>9</th>\n",
       "      <th>...</th>\n",
       "      <th>214</th>\n",
       "      <th>215</th>\n",
       "      <th>216</th>\n",
       "      <th>217</th>\n",
       "      <th>218</th>\n",
       "      <th>219</th>\n",
       "      <th>220</th>\n",
       "      <th>221</th>\n",
       "      <th>222</th>\n",
       "      <th>223</th>\n",
       "    </tr>\n",
       "  </thead>\n",
       "  <tbody>\n",
       "    <tr>\n",
       "      <th>0</th>\n",
       "      <td>-0.088238</td>\n",
       "      <td>0.235580</td>\n",
       "      <td>0.584982</td>\n",
       "      <td>-0.405384</td>\n",
       "      <td>-0.410139</td>\n",
       "      <td>-0.086915</td>\n",
       "      <td>-0.809901</td>\n",
       "      <td>0.261002</td>\n",
       "      <td>-0.443631</td>\n",
       "      <td>-0.091556</td>\n",
       "      <td>...</td>\n",
       "      <td>0.487067</td>\n",
       "      <td>1.177945e-01</td>\n",
       "      <td>0.001863</td>\n",
       "      <td>-0.155370</td>\n",
       "      <td>-0.057214</td>\n",
       "      <td>-0.004002</td>\n",
       "      <td>0.324561</td>\n",
       "      <td>0.356283</td>\n",
       "      <td>-0.228</td>\n",
       "      <td>-0.453356</td>\n",
       "    </tr>\n",
       "    <tr>\n",
       "      <th>1</th>\n",
       "      <td>0.352941</td>\n",
       "      <td>0.264706</td>\n",
       "      <td>0.411765</td>\n",
       "      <td>-0.558824</td>\n",
       "      <td>-0.441176</td>\n",
       "      <td>-0.411765</td>\n",
       "      <td>-0.588235</td>\n",
       "      <td>0.235294</td>\n",
       "      <td>-0.411765</td>\n",
       "      <td>0.352941</td>\n",
       "      <td>...</td>\n",
       "      <td>0.588235</td>\n",
       "      <td>-2.220446e-16</td>\n",
       "      <td>-0.382353</td>\n",
       "      <td>0.235294</td>\n",
       "      <td>-0.088235</td>\n",
       "      <td>-0.029412</td>\n",
       "      <td>-0.058824</td>\n",
       "      <td>0.382353</td>\n",
       "      <td>-0.500</td>\n",
       "      <td>-0.823529</td>\n",
       "    </tr>\n",
       "  </tbody>\n",
       "</table>\n",
       "<p>2 rows × 224 columns</p>\n",
       "</div>"
      ],
      "text/plain": [
       "        0         1         2         3         4         5         6    \\\n",
       "0 -0.088238  0.235580  0.584982 -0.405384 -0.410139 -0.086915 -0.809901   \n",
       "1  0.352941  0.264706  0.411765 -0.558824 -0.441176 -0.411765 -0.588235   \n",
       "\n",
       "        7         8         9    ...       214           215       216  \\\n",
       "0  0.261002 -0.443631 -0.091556  ...  0.487067  1.177945e-01  0.001863   \n",
       "1  0.235294 -0.411765  0.352941  ...  0.588235 -2.220446e-16 -0.382353   \n",
       "\n",
       "        217       218       219       220       221    222       223  \n",
       "0 -0.155370 -0.057214 -0.004002  0.324561  0.356283 -0.228 -0.453356  \n",
       "1  0.235294 -0.088235 -0.029412 -0.058824  0.382353 -0.500 -0.823529  \n",
       "\n",
       "[2 rows x 224 columns]"
      ]
     },
     "metadata": {},
     "output_type": "display_data"
    },
    {
     "name": "stdout",
     "output_type": "stream",
     "text": [
      "R2 Score Arousal:\t0.64\n"
     ]
    }
   ],
   "source": [
    "# df_a = df_a.round(2)\n",
    "\n",
    "display(df_a.head())\n",
    "print(\"R2 Score Arousal:\\t%0.2f\" % r2_a)"
   ]
  },
  {
   "cell_type": "markdown",
   "metadata": {},
   "source": [
    "VALENCE"
   ]
  },
  {
   "cell_type": "code",
   "execution_count": 12,
   "metadata": {},
   "outputs": [
    {
     "data": {
      "text/html": [
       "<div>\n",
       "<style scoped>\n",
       "    .dataframe tbody tr th:only-of-type {\n",
       "        vertical-align: middle;\n",
       "    }\n",
       "\n",
       "    .dataframe tbody tr th {\n",
       "        vertical-align: top;\n",
       "    }\n",
       "\n",
       "    .dataframe thead th {\n",
       "        text-align: right;\n",
       "    }\n",
       "</style>\n",
       "<table border=\"1\" class=\"dataframe\">\n",
       "  <thead>\n",
       "    <tr style=\"text-align: right;\">\n",
       "      <th></th>\n",
       "      <th>0</th>\n",
       "      <th>1</th>\n",
       "      <th>2</th>\n",
       "      <th>3</th>\n",
       "      <th>4</th>\n",
       "      <th>5</th>\n",
       "      <th>6</th>\n",
       "      <th>7</th>\n",
       "      <th>8</th>\n",
       "      <th>9</th>\n",
       "      <th>...</th>\n",
       "      <th>214</th>\n",
       "      <th>215</th>\n",
       "      <th>216</th>\n",
       "      <th>217</th>\n",
       "      <th>218</th>\n",
       "      <th>219</th>\n",
       "      <th>220</th>\n",
       "      <th>221</th>\n",
       "      <th>222</th>\n",
       "      <th>223</th>\n",
       "    </tr>\n",
       "  </thead>\n",
       "  <tbody>\n",
       "    <tr>\n",
       "      <th>0</th>\n",
       "      <td>0.179347</td>\n",
       "      <td>0.324119</td>\n",
       "      <td>0.485976</td>\n",
       "      <td>-0.145413</td>\n",
       "      <td>-0.068155</td>\n",
       "      <td>0.106264</td>\n",
       "      <td>-0.321716</td>\n",
       "      <td>0.232469</td>\n",
       "      <td>-0.074331</td>\n",
       "      <td>0.044818</td>\n",
       "      <td>...</td>\n",
       "      <td>0.425284</td>\n",
       "      <td>0.331999</td>\n",
       "      <td>0.005170</td>\n",
       "      <td>-0.038969</td>\n",
       "      <td>-0.014026</td>\n",
       "      <td>0.051305</td>\n",
       "      <td>0.158851</td>\n",
       "      <td>-0.001306</td>\n",
       "      <td>-0.139625</td>\n",
       "      <td>-0.448638</td>\n",
       "    </tr>\n",
       "    <tr>\n",
       "      <th>1</th>\n",
       "      <td>-0.661538</td>\n",
       "      <td>0.476923</td>\n",
       "      <td>0.353846</td>\n",
       "      <td>-0.661538</td>\n",
       "      <td>0.046154</td>\n",
       "      <td>-0.507692</td>\n",
       "      <td>-0.076923</td>\n",
       "      <td>-0.169231</td>\n",
       "      <td>-0.230769</td>\n",
       "      <td>0.569231</td>\n",
       "      <td>...</td>\n",
       "      <td>0.538462</td>\n",
       "      <td>-0.015385</td>\n",
       "      <td>-0.723077</td>\n",
       "      <td>0.230769</td>\n",
       "      <td>-0.323077</td>\n",
       "      <td>-0.138462</td>\n",
       "      <td>0.507692</td>\n",
       "      <td>0.507692</td>\n",
       "      <td>-0.261538</td>\n",
       "      <td>-0.415385</td>\n",
       "    </tr>\n",
       "  </tbody>\n",
       "</table>\n",
       "<p>2 rows × 224 columns</p>\n",
       "</div>"
      ],
      "text/plain": [
       "        0         1         2         3         4         5         6    \\\n",
       "0  0.179347  0.324119  0.485976 -0.145413 -0.068155  0.106264 -0.321716   \n",
       "1 -0.661538  0.476923  0.353846 -0.661538  0.046154 -0.507692 -0.076923   \n",
       "\n",
       "        7         8         9    ...       214       215       216       217  \\\n",
       "0  0.232469 -0.074331  0.044818  ...  0.425284  0.331999  0.005170 -0.038969   \n",
       "1 -0.169231 -0.230769  0.569231  ...  0.538462 -0.015385 -0.723077  0.230769   \n",
       "\n",
       "        218       219       220       221       222       223  \n",
       "0 -0.014026  0.051305  0.158851 -0.001306 -0.139625 -0.448638  \n",
       "1 -0.323077 -0.138462  0.507692  0.507692 -0.261538 -0.415385  \n",
       "\n",
       "[2 rows x 224 columns]"
      ]
     },
     "metadata": {},
     "output_type": "display_data"
    },
    {
     "name": "stdout",
     "output_type": "stream",
     "text": [
      "R2 Score Valence: 0.29\n"
     ]
    }
   ],
   "source": [
    "# df_v = df_v.round(2)\n",
    "\n",
    "display(df_v.head())\n",
    "print(\"R2 Score Valence: %0.2f\" % r2_v)"
   ]
  },
  {
   "cell_type": "markdown",
   "metadata": {},
   "source": [
    "REGRESSION"
   ]
  },
  {
   "cell_type": "code",
   "execution_count": 13,
   "metadata": {},
   "outputs": [
    {
     "name": "stderr",
     "output_type": "stream",
     "text": [
      "C:\\Users\\5115100178\\AppData\\Local\\Continuum\\Anaconda3\\envs\\py36\\lib\\site-packages\\sklearn\\gaussian_process\\gpr.py:480: ConvergenceWarning: fmin_l_bfgs_b terminated abnormally with the  state: {'grad': array([ 0.00064483, -0.0321948 ]), 'task': b'ABNORMAL_TERMINATION_IN_LNSRCH', 'funcalls': 52, 'nit': 3, 'warnflag': 2}\n",
      "  ConvergenceWarning)\n",
      "C:\\Users\\5115100178\\AppData\\Local\\Continuum\\Anaconda3\\envs\\py36\\lib\\site-packages\\sklearn\\gaussian_process\\gpr.py:480: ConvergenceWarning: fmin_l_bfgs_b terminated abnormally with the  state: {'grad': array([ 0.00063104, -0.00156853]), 'task': b'ABNORMAL_TERMINATION_IN_LNSRCH', 'funcalls': 51, 'nit': 2, 'warnflag': 2}\n",
      "  ConvergenceWarning)\n"
     ]
    }
   ],
   "source": [
    "scores_a = crosval(gpr_a,data,scaled_ar) #Arousal Regression\n",
    "scores_v = crosval(gpr_v,data,scaled_val) #Arousal Regression"
   ]
  },
  {
   "cell_type": "markdown",
   "metadata": {
    "collapsed": true
   },
   "source": [
    "AROUSAL"
   ]
  },
  {
   "cell_type": "code",
   "execution_count": 14,
   "metadata": {},
   "outputs": [
    {
     "name": "stdout",
     "output_type": "stream",
     "text": [
      "R2 Score Valence:\t [ 0.39113875  0.47493296  0.51594495  0.51277248  0.66185402  0.56923713\n",
      "  0.51420647  0.59929901  0.64047246  0.5246607 ]\n",
      "R2 Score Valence:\t0.54 (+/- 0.08)\n"
     ]
    }
   ],
   "source": [
    "print(\"R2 Score Valence:\\t\",scores_a)\n",
    "print(\"R2 Score Valence:\\t%0.2f (+/- %0.2f)\" % (scores_a.mean(), scores_a.std() ))"
   ]
  },
  {
   "cell_type": "markdown",
   "metadata": {
    "collapsed": true
   },
   "source": [
    "VALENCE"
   ]
  },
  {
   "cell_type": "code",
   "execution_count": 15,
   "metadata": {},
   "outputs": [
    {
     "name": "stdout",
     "output_type": "stream",
     "text": [
      "R2 Score Valence:\t [ 0.08777192  0.03972039  0.02537876 -0.16568591  0.36585407  0.09138349\n",
      "  0.31712252  0.26211364  0.27678954  0.11349062]\n",
      "R2 Score Valence:\t0.14 (+/- 0.15)\n"
     ]
    }
   ],
   "source": [
    "print(\"R2 Score Valence:\\t\",scores_v)\n",
    "print(\"R2 Score Valence:\\t%0.2f (+/- %0.2f)\" % (scores_v.mean(), scores_v.std() ))"
   ]
  },
  {
   "cell_type": "code",
   "execution_count": 16,
   "metadata": {
    "collapsed": true
   },
   "outputs": [],
   "source": [
    "save_predict(df_a.round(2),df_v.round(2),datafitur)\n",
    "save_model(trained_a,datafitur,'arousal/') #save model Arousal\n",
    "save_model(trained_v,datafitur,'valence/') #save model Valence"
   ]
  },
  {
   "cell_type": "markdown",
   "metadata": {},
   "source": [
    "# CASE 2"
   ]
  },
  {
   "cell_type": "code",
   "execution_count": 17,
   "metadata": {},
   "outputs": [
    {
     "name": "stdout",
     "output_type": "stream",
     "text": [
      "(744, 34)\n"
     ]
    }
   ],
   "source": [
    "datafitur = \"case2\" #CASE 2\n",
    "\n",
    "data,arousal_mean,valence_mean = load(datafitur) #Load\n",
    "print(data.shape)\n",
    "\n",
    "scaled_ar = minmax_scale(arousal_mean.values,feature_range=(-1, 1))\n",
    "scaled_val = minmax_scale(valence_mean.values,feature_range=(-1, 1))\n",
    "\n",
    "train_data_a, test_data_a, train_values_a, test_values_a = split(data,scaled_ar) #split arousal\n",
    "train_data_v, test_data_v, train_values_v, test_values_v = split(data,scaled_val) #split valence"
   ]
  },
  {
   "cell_type": "markdown",
   "metadata": {},
   "source": [
    "INITIAL MODEL"
   ]
  },
  {
   "cell_type": "code",
   "execution_count": 18,
   "metadata": {
    "collapsed": true
   },
   "outputs": [],
   "source": [
    "gpr_a = GPR(kernel=kernels, alpha=1e-10, \n",
    "                    optimizer='fmin_l_bfgs_b', \n",
    "                    n_restarts_optimizer=10, \n",
    "                    normalize_y=True, copy_X_train=False, \n",
    "                    random_state=1000) #init Valence\n",
    "\n",
    "gpr_v = GPR(kernel=kernels, alpha=1e-10, \n",
    "                    optimizer='fmin_l_bfgs_b', \n",
    "                    n_restarts_optimizer=10, \n",
    "                    normalize_y=True, copy_X_train=False, \n",
    "                    random_state=1000) #init Valence"
   ]
  },
  {
   "cell_type": "code",
   "execution_count": 19,
   "metadata": {},
   "outputs": [
    {
     "name": "stdout",
     "output_type": "stream",
     "text": [
      "arousal:\t RationalQuadratic(alpha=1, length_scale=1)\n",
      "valence:\t RationalQuadratic(alpha=1, length_scale=1)\n"
     ]
    }
   ],
   "source": [
    "print(\"arousal:\\t\",gpr_a.kernel)\n",
    "print(\"valence:\\t\",gpr_v.kernel)"
   ]
  },
  {
   "cell_type": "markdown",
   "metadata": {},
   "source": [
    "TRAIN"
   ]
  },
  {
   "cell_type": "code",
   "execution_count": 20,
   "metadata": {
    "collapsed": true
   },
   "outputs": [],
   "source": [
    "trained_a = training(train_data_a,train_values_a,gpr_a)\n",
    "trained_v = training(train_data_v,train_values_v,gpr_v)"
   ]
  },
  {
   "cell_type": "markdown",
   "metadata": {},
   "source": [
    "PREDICT"
   ]
  },
  {
   "cell_type": "code",
   "execution_count": 21,
   "metadata": {
    "collapsed": true
   },
   "outputs": [],
   "source": [
    "# #Predict Arousal\n",
    "pred_a,df2_a = predict(test_data_a, test_values_a, trained_a)\n",
    "# #Predict Valence\n",
    "pred_v,df2_v = predict(test_data_v, test_values_v, trained_v)\n",
    "\n",
    "r2_a = score(pred_a,test_values_a) #Score Arousal\n",
    "r2_v = score(pred_v,test_values_v) #Score Valence"
   ]
  },
  {
   "cell_type": "markdown",
   "metadata": {},
   "source": [
    "SET PARAM"
   ]
  },
  {
   "cell_type": "code",
   "execution_count": 22,
   "metadata": {},
   "outputs": [
    {
     "name": "stdout",
     "output_type": "stream",
     "text": [
      "arousal:\t RationalQuadratic(alpha=0.0296, length_scale=5.29)\n",
      "valence:\t RationalQuadratic(alpha=0.0301, length_scale=3.23)\n"
     ]
    }
   ],
   "source": [
    "trained_a.set_params(kernel=trained_a.kernel_)\n",
    "trained_v.set_params(kernel=trained_v.kernel_)\n",
    "\n",
    "print(\"arousal:\\t\",trained_a.kernel)\n",
    "print(\"valence:\\t\",trained_v.kernel)"
   ]
  },
  {
   "cell_type": "markdown",
   "metadata": {},
   "source": [
    "AROUSAL"
   ]
  },
  {
   "cell_type": "code",
   "execution_count": 23,
   "metadata": {},
   "outputs": [
    {
     "data": {
      "text/html": [
       "<div>\n",
       "<style scoped>\n",
       "    .dataframe tbody tr th:only-of-type {\n",
       "        vertical-align: middle;\n",
       "    }\n",
       "\n",
       "    .dataframe tbody tr th {\n",
       "        vertical-align: top;\n",
       "    }\n",
       "\n",
       "    .dataframe thead th {\n",
       "        text-align: right;\n",
       "    }\n",
       "</style>\n",
       "<table border=\"1\" class=\"dataframe\">\n",
       "  <thead>\n",
       "    <tr style=\"text-align: right;\">\n",
       "      <th></th>\n",
       "      <th>0</th>\n",
       "      <th>1</th>\n",
       "      <th>2</th>\n",
       "      <th>3</th>\n",
       "      <th>4</th>\n",
       "      <th>5</th>\n",
       "      <th>6</th>\n",
       "      <th>7</th>\n",
       "      <th>8</th>\n",
       "      <th>9</th>\n",
       "      <th>...</th>\n",
       "      <th>214</th>\n",
       "      <th>215</th>\n",
       "      <th>216</th>\n",
       "      <th>217</th>\n",
       "      <th>218</th>\n",
       "      <th>219</th>\n",
       "      <th>220</th>\n",
       "      <th>221</th>\n",
       "      <th>222</th>\n",
       "      <th>223</th>\n",
       "    </tr>\n",
       "  </thead>\n",
       "  <tbody>\n",
       "    <tr>\n",
       "      <th>0</th>\n",
       "      <td>-0.088238</td>\n",
       "      <td>0.235580</td>\n",
       "      <td>0.584982</td>\n",
       "      <td>-0.405384</td>\n",
       "      <td>-0.410139</td>\n",
       "      <td>-0.086915</td>\n",
       "      <td>-0.809901</td>\n",
       "      <td>0.261002</td>\n",
       "      <td>-0.443631</td>\n",
       "      <td>-0.091556</td>\n",
       "      <td>...</td>\n",
       "      <td>0.487067</td>\n",
       "      <td>1.177945e-01</td>\n",
       "      <td>0.001863</td>\n",
       "      <td>-0.155370</td>\n",
       "      <td>-0.057214</td>\n",
       "      <td>-0.004002</td>\n",
       "      <td>0.324561</td>\n",
       "      <td>0.356283</td>\n",
       "      <td>-0.228</td>\n",
       "      <td>-0.453356</td>\n",
       "    </tr>\n",
       "    <tr>\n",
       "      <th>1</th>\n",
       "      <td>0.352941</td>\n",
       "      <td>0.264706</td>\n",
       "      <td>0.411765</td>\n",
       "      <td>-0.558824</td>\n",
       "      <td>-0.441176</td>\n",
       "      <td>-0.411765</td>\n",
       "      <td>-0.588235</td>\n",
       "      <td>0.235294</td>\n",
       "      <td>-0.411765</td>\n",
       "      <td>0.352941</td>\n",
       "      <td>...</td>\n",
       "      <td>0.588235</td>\n",
       "      <td>-2.220446e-16</td>\n",
       "      <td>-0.382353</td>\n",
       "      <td>0.235294</td>\n",
       "      <td>-0.088235</td>\n",
       "      <td>-0.029412</td>\n",
       "      <td>-0.058824</td>\n",
       "      <td>0.382353</td>\n",
       "      <td>-0.500</td>\n",
       "      <td>-0.823529</td>\n",
       "    </tr>\n",
       "  </tbody>\n",
       "</table>\n",
       "<p>2 rows × 224 columns</p>\n",
       "</div>"
      ],
      "text/plain": [
       "        0         1         2         3         4         5         6    \\\n",
       "0 -0.088238  0.235580  0.584982 -0.405384 -0.410139 -0.086915 -0.809901   \n",
       "1  0.352941  0.264706  0.411765 -0.558824 -0.441176 -0.411765 -0.588235   \n",
       "\n",
       "        7         8         9    ...       214           215       216  \\\n",
       "0  0.261002 -0.443631 -0.091556  ...  0.487067  1.177945e-01  0.001863   \n",
       "1  0.235294 -0.411765  0.352941  ...  0.588235 -2.220446e-16 -0.382353   \n",
       "\n",
       "        217       218       219       220       221    222       223  \n",
       "0 -0.155370 -0.057214 -0.004002  0.324561  0.356283 -0.228 -0.453356  \n",
       "1  0.235294 -0.088235 -0.029412 -0.058824  0.382353 -0.500 -0.823529  \n",
       "\n",
       "[2 rows x 224 columns]"
      ]
     },
     "metadata": {},
     "output_type": "display_data"
    },
    {
     "name": "stdout",
     "output_type": "stream",
     "text": [
      "R2 Score Arousal:\t0.67\n"
     ]
    }
   ],
   "source": [
    "# df_a = df_a.round(2)\n",
    "\n",
    "display(df_a.head())\n",
    "print(\"R2 Score Arousal:\\t%0.2f\" % r2_a)"
   ]
  },
  {
   "cell_type": "markdown",
   "metadata": {},
   "source": [
    "VALENCE"
   ]
  },
  {
   "cell_type": "code",
   "execution_count": 24,
   "metadata": {},
   "outputs": [
    {
     "data": {
      "text/html": [
       "<div>\n",
       "<style scoped>\n",
       "    .dataframe tbody tr th:only-of-type {\n",
       "        vertical-align: middle;\n",
       "    }\n",
       "\n",
       "    .dataframe tbody tr th {\n",
       "        vertical-align: top;\n",
       "    }\n",
       "\n",
       "    .dataframe thead th {\n",
       "        text-align: right;\n",
       "    }\n",
       "</style>\n",
       "<table border=\"1\" class=\"dataframe\">\n",
       "  <thead>\n",
       "    <tr style=\"text-align: right;\">\n",
       "      <th></th>\n",
       "      <th>0</th>\n",
       "      <th>1</th>\n",
       "      <th>2</th>\n",
       "      <th>3</th>\n",
       "      <th>4</th>\n",
       "      <th>5</th>\n",
       "      <th>6</th>\n",
       "      <th>7</th>\n",
       "      <th>8</th>\n",
       "      <th>9</th>\n",
       "      <th>...</th>\n",
       "      <th>214</th>\n",
       "      <th>215</th>\n",
       "      <th>216</th>\n",
       "      <th>217</th>\n",
       "      <th>218</th>\n",
       "      <th>219</th>\n",
       "      <th>220</th>\n",
       "      <th>221</th>\n",
       "      <th>222</th>\n",
       "      <th>223</th>\n",
       "    </tr>\n",
       "  </thead>\n",
       "  <tbody>\n",
       "    <tr>\n",
       "      <th>0</th>\n",
       "      <td>0.179347</td>\n",
       "      <td>0.324119</td>\n",
       "      <td>0.485976</td>\n",
       "      <td>-0.145413</td>\n",
       "      <td>-0.068155</td>\n",
       "      <td>0.106264</td>\n",
       "      <td>-0.321716</td>\n",
       "      <td>0.232469</td>\n",
       "      <td>-0.074331</td>\n",
       "      <td>0.044818</td>\n",
       "      <td>...</td>\n",
       "      <td>0.425284</td>\n",
       "      <td>0.331999</td>\n",
       "      <td>0.005170</td>\n",
       "      <td>-0.038969</td>\n",
       "      <td>-0.014026</td>\n",
       "      <td>0.051305</td>\n",
       "      <td>0.158851</td>\n",
       "      <td>-0.001306</td>\n",
       "      <td>-0.139625</td>\n",
       "      <td>-0.448638</td>\n",
       "    </tr>\n",
       "    <tr>\n",
       "      <th>1</th>\n",
       "      <td>-0.661538</td>\n",
       "      <td>0.476923</td>\n",
       "      <td>0.353846</td>\n",
       "      <td>-0.661538</td>\n",
       "      <td>0.046154</td>\n",
       "      <td>-0.507692</td>\n",
       "      <td>-0.076923</td>\n",
       "      <td>-0.169231</td>\n",
       "      <td>-0.230769</td>\n",
       "      <td>0.569231</td>\n",
       "      <td>...</td>\n",
       "      <td>0.538462</td>\n",
       "      <td>-0.015385</td>\n",
       "      <td>-0.723077</td>\n",
       "      <td>0.230769</td>\n",
       "      <td>-0.323077</td>\n",
       "      <td>-0.138462</td>\n",
       "      <td>0.507692</td>\n",
       "      <td>0.507692</td>\n",
       "      <td>-0.261538</td>\n",
       "      <td>-0.415385</td>\n",
       "    </tr>\n",
       "  </tbody>\n",
       "</table>\n",
       "<p>2 rows × 224 columns</p>\n",
       "</div>"
      ],
      "text/plain": [
       "        0         1         2         3         4         5         6    \\\n",
       "0  0.179347  0.324119  0.485976 -0.145413 -0.068155  0.106264 -0.321716   \n",
       "1 -0.661538  0.476923  0.353846 -0.661538  0.046154 -0.507692 -0.076923   \n",
       "\n",
       "        7         8         9    ...       214       215       216       217  \\\n",
       "0  0.232469 -0.074331  0.044818  ...  0.425284  0.331999  0.005170 -0.038969   \n",
       "1 -0.169231 -0.230769  0.569231  ...  0.538462 -0.015385 -0.723077  0.230769   \n",
       "\n",
       "        218       219       220       221       222       223  \n",
       "0 -0.014026  0.051305  0.158851 -0.001306 -0.139625 -0.448638  \n",
       "1 -0.323077 -0.138462  0.507692  0.507692 -0.261538 -0.415385  \n",
       "\n",
       "[2 rows x 224 columns]"
      ]
     },
     "metadata": {},
     "output_type": "display_data"
    },
    {
     "name": "stdout",
     "output_type": "stream",
     "text": [
      "R2 Score Valence:\t0.37\n"
     ]
    }
   ],
   "source": [
    "# df_v = df_v.round(2)\n",
    "\n",
    "display(df_v.head())\n",
    "print(\"R2 Score Valence:\\t%0.2f\" % r2_v)"
   ]
  },
  {
   "cell_type": "markdown",
   "metadata": {},
   "source": [
    "REGRESSION"
   ]
  },
  {
   "cell_type": "code",
   "execution_count": 25,
   "metadata": {
    "collapsed": true
   },
   "outputs": [],
   "source": [
    "scores_a = crosval(gpr_a,data,scaled_ar) #Arousal Regression\n",
    "scores_v = crosval(gpr_v,data,scaled_val) #Arousal Regression"
   ]
  },
  {
   "cell_type": "markdown",
   "metadata": {},
   "source": [
    "AROUSAL"
   ]
  },
  {
   "cell_type": "code",
   "execution_count": 26,
   "metadata": {},
   "outputs": [
    {
     "name": "stdout",
     "output_type": "stream",
     "text": [
      "R2 Score Valence:\t [ 0.47786951  0.54044672  0.58834367  0.63571148  0.65205551  0.61552497\n",
      "  0.63893716  0.65625517  0.59748882  0.58834416]\n",
      "R2 Score Valence:\t0.60 (+/- 0.05)\n"
     ]
    }
   ],
   "source": [
    "print(\"R2 Score Valence:\\t\",scores_a)\n",
    "print(\"R2 Score Valence:\\t%0.2f (+/- %0.2f)\" % (scores_a.mean(), scores_a.std() ))"
   ]
  },
  {
   "cell_type": "markdown",
   "metadata": {},
   "source": [
    "VALENCE"
   ]
  },
  {
   "cell_type": "code",
   "execution_count": 27,
   "metadata": {},
   "outputs": [
    {
     "name": "stdout",
     "output_type": "stream",
     "text": [
      "R2 Score Valence:\t [ 0.34296968  0.2963413   0.25693837  0.12841282  0.49458752  0.27202872\n",
      "  0.46245318  0.35035195  0.3201791   0.17479126]\n",
      "R2 Score Valence:\t0.31 (+/- 0.11)\n"
     ]
    }
   ],
   "source": [
    "print(\"R2 Score Valence:\\t\",scores_v)\n",
    "print(\"R2 Score Valence:\\t%0.2f (+/- %0.2f)\" % (scores_v.mean(), scores_v.std() ))"
   ]
  },
  {
   "cell_type": "code",
   "execution_count": 28,
   "metadata": {
    "collapsed": true
   },
   "outputs": [],
   "source": [
    "save_predict(df_a.round(2),df_v.round(2),datafitur)\n",
    "save_model(trained_a,datafitur,'arousal/') #save model Arousal\n",
    "save_model(trained_v,datafitur,'valence/') #save model Valence"
   ]
  },
  {
   "cell_type": "markdown",
   "metadata": {},
   "source": [
    "# CASE 3"
   ]
  },
  {
   "cell_type": "code",
   "execution_count": 29,
   "metadata": {},
   "outputs": [
    {
     "name": "stdout",
     "output_type": "stream",
     "text": [
      "(744, 37)\n"
     ]
    }
   ],
   "source": [
    "datafitur =  \"case3\" #CASE 3\n",
    "data,arousal_mean,valence_mean = load(datafitur) #Load\n",
    "print(data.shape)\n",
    "\n",
    "scaled_ar = minmax_scale(arousal_mean.values,feature_range=(-1, 1))\n",
    "scaled_val = minmax_scale(valence_mean.values,feature_range=(-1, 1))\n",
    "\n",
    "train_data_a, test_data_a, train_values_a, test_values_a = split(data,scaled_ar) #split arousal\n",
    "train_data_v, test_data_v, train_values_v, test_values_v = split(data,scaled_val) #split valence"
   ]
  },
  {
   "cell_type": "markdown",
   "metadata": {},
   "source": [
    "INITAL MODEL"
   ]
  },
  {
   "cell_type": "code",
   "execution_count": 30,
   "metadata": {
    "collapsed": true
   },
   "outputs": [],
   "source": [
    "gpr_a = GPR(kernel=kernels, alpha=1e-10, \n",
    "                    optimizer='fmin_l_bfgs_b', \n",
    "                    n_restarts_optimizer=10, \n",
    "                    normalize_y=True, copy_X_train=False, \n",
    "                    random_state=1000) #init Arousal\n",
    "\n",
    "gpr_v = GPR(kernel=kernels, alpha=1e-10, \n",
    "                    optimizer='fmin_l_bfgs_b', \n",
    "                    n_restarts_optimizer=10, \n",
    "                    normalize_y=True, copy_X_train=False, \n",
    "                    random_state=1000) #init Valence"
   ]
  },
  {
   "cell_type": "code",
   "execution_count": 31,
   "metadata": {},
   "outputs": [
    {
     "name": "stdout",
     "output_type": "stream",
     "text": [
      "arousal:\t RationalQuadratic(alpha=1, length_scale=1)\n",
      "valence:\t RationalQuadratic(alpha=1, length_scale=1)\n"
     ]
    }
   ],
   "source": [
    "print(\"arousal:\\t\",gpr_a.kernel)\n",
    "print(\"valence:\\t\",gpr_v.kernel)"
   ]
  },
  {
   "cell_type": "markdown",
   "metadata": {},
   "source": [
    "TRAIN"
   ]
  },
  {
   "cell_type": "code",
   "execution_count": 32,
   "metadata": {
    "collapsed": true
   },
   "outputs": [],
   "source": [
    "trained_a = training(train_data_a,train_values_a,gpr_a)\n",
    "trained_v = training(train_data_v,train_values_v,gpr_v)"
   ]
  },
  {
   "cell_type": "markdown",
   "metadata": {},
   "source": [
    "PREDICT"
   ]
  },
  {
   "cell_type": "code",
   "execution_count": 33,
   "metadata": {
    "collapsed": true
   },
   "outputs": [],
   "source": [
    "# #Predict Arousal\n",
    "pred_a,df2_a = predict(test_data_a, test_values_a, trained_a)\n",
    "# #Predict Valence\n",
    "pred_v,df2_v = predict(test_data_v, test_values_v, trained_v)\n",
    "\n",
    "r2_a = score(pred_a,test_values_a) #Score Arousal\n",
    "r2_v = score(pred_v,test_values_v) #Score Valence"
   ]
  },
  {
   "cell_type": "markdown",
   "metadata": {},
   "source": [
    "SET PARAM"
   ]
  },
  {
   "cell_type": "code",
   "execution_count": 34,
   "metadata": {},
   "outputs": [
    {
     "name": "stdout",
     "output_type": "stream",
     "text": [
      "arousal:\t RationalQuadratic(alpha=0.0282, length_scale=5.4)\n",
      "valence:\t RationalQuadratic(alpha=0.0304, length_scale=3.4)\n"
     ]
    }
   ],
   "source": [
    "trained_a.set_params(kernel=trained_a.kernel_)\n",
    "trained_v.set_params(kernel=trained_v.kernel_)\n",
    "\n",
    "print(\"arousal:\\t\",trained_a.kernel)\n",
    "print(\"valence:\\t\",trained_v.kernel)"
   ]
  },
  {
   "cell_type": "markdown",
   "metadata": {},
   "source": [
    "AROUSAL"
   ]
  },
  {
   "cell_type": "code",
   "execution_count": 35,
   "metadata": {},
   "outputs": [
    {
     "data": {
      "text/html": [
       "<div>\n",
       "<style scoped>\n",
       "    .dataframe tbody tr th:only-of-type {\n",
       "        vertical-align: middle;\n",
       "    }\n",
       "\n",
       "    .dataframe tbody tr th {\n",
       "        vertical-align: top;\n",
       "    }\n",
       "\n",
       "    .dataframe thead th {\n",
       "        text-align: right;\n",
       "    }\n",
       "</style>\n",
       "<table border=\"1\" class=\"dataframe\">\n",
       "  <thead>\n",
       "    <tr style=\"text-align: right;\">\n",
       "      <th></th>\n",
       "      <th>0</th>\n",
       "      <th>1</th>\n",
       "      <th>2</th>\n",
       "      <th>3</th>\n",
       "      <th>4</th>\n",
       "      <th>5</th>\n",
       "      <th>6</th>\n",
       "      <th>7</th>\n",
       "      <th>8</th>\n",
       "      <th>9</th>\n",
       "      <th>...</th>\n",
       "      <th>214</th>\n",
       "      <th>215</th>\n",
       "      <th>216</th>\n",
       "      <th>217</th>\n",
       "      <th>218</th>\n",
       "      <th>219</th>\n",
       "      <th>220</th>\n",
       "      <th>221</th>\n",
       "      <th>222</th>\n",
       "      <th>223</th>\n",
       "    </tr>\n",
       "  </thead>\n",
       "  <tbody>\n",
       "    <tr>\n",
       "      <th>0</th>\n",
       "      <td>-0.088238</td>\n",
       "      <td>0.235580</td>\n",
       "      <td>0.584982</td>\n",
       "      <td>-0.405384</td>\n",
       "      <td>-0.410139</td>\n",
       "      <td>-0.086915</td>\n",
       "      <td>-0.809901</td>\n",
       "      <td>0.261002</td>\n",
       "      <td>-0.443631</td>\n",
       "      <td>-0.091556</td>\n",
       "      <td>...</td>\n",
       "      <td>0.487067</td>\n",
       "      <td>1.177945e-01</td>\n",
       "      <td>0.001863</td>\n",
       "      <td>-0.155370</td>\n",
       "      <td>-0.057214</td>\n",
       "      <td>-0.004002</td>\n",
       "      <td>0.324561</td>\n",
       "      <td>0.356283</td>\n",
       "      <td>-0.228</td>\n",
       "      <td>-0.453356</td>\n",
       "    </tr>\n",
       "    <tr>\n",
       "      <th>1</th>\n",
       "      <td>0.352941</td>\n",
       "      <td>0.264706</td>\n",
       "      <td>0.411765</td>\n",
       "      <td>-0.558824</td>\n",
       "      <td>-0.441176</td>\n",
       "      <td>-0.411765</td>\n",
       "      <td>-0.588235</td>\n",
       "      <td>0.235294</td>\n",
       "      <td>-0.411765</td>\n",
       "      <td>0.352941</td>\n",
       "      <td>...</td>\n",
       "      <td>0.588235</td>\n",
       "      <td>-2.220446e-16</td>\n",
       "      <td>-0.382353</td>\n",
       "      <td>0.235294</td>\n",
       "      <td>-0.088235</td>\n",
       "      <td>-0.029412</td>\n",
       "      <td>-0.058824</td>\n",
       "      <td>0.382353</td>\n",
       "      <td>-0.500</td>\n",
       "      <td>-0.823529</td>\n",
       "    </tr>\n",
       "  </tbody>\n",
       "</table>\n",
       "<p>2 rows × 224 columns</p>\n",
       "</div>"
      ],
      "text/plain": [
       "        0         1         2         3         4         5         6    \\\n",
       "0 -0.088238  0.235580  0.584982 -0.405384 -0.410139 -0.086915 -0.809901   \n",
       "1  0.352941  0.264706  0.411765 -0.558824 -0.441176 -0.411765 -0.588235   \n",
       "\n",
       "        7         8         9    ...       214           215       216  \\\n",
       "0  0.261002 -0.443631 -0.091556  ...  0.487067  1.177945e-01  0.001863   \n",
       "1  0.235294 -0.411765  0.352941  ...  0.588235 -2.220446e-16 -0.382353   \n",
       "\n",
       "        217       218       219       220       221    222       223  \n",
       "0 -0.155370 -0.057214 -0.004002  0.324561  0.356283 -0.228 -0.453356  \n",
       "1  0.235294 -0.088235 -0.029412 -0.058824  0.382353 -0.500 -0.823529  \n",
       "\n",
       "[2 rows x 224 columns]"
      ]
     },
     "metadata": {},
     "output_type": "display_data"
    },
    {
     "name": "stdout",
     "output_type": "stream",
     "text": [
      "R2 Score Arousal:\t0.68\n"
     ]
    }
   ],
   "source": [
    "# df_a = df_a.round(2)\n",
    "\n",
    "display(df_a.head())\n",
    "print(\"R2 Score Arousal:\\t%0.2f\" % r2_a)"
   ]
  },
  {
   "cell_type": "markdown",
   "metadata": {},
   "source": [
    "VALENCE"
   ]
  },
  {
   "cell_type": "code",
   "execution_count": 36,
   "metadata": {},
   "outputs": [
    {
     "data": {
      "text/html": [
       "<div>\n",
       "<style scoped>\n",
       "    .dataframe tbody tr th:only-of-type {\n",
       "        vertical-align: middle;\n",
       "    }\n",
       "\n",
       "    .dataframe tbody tr th {\n",
       "        vertical-align: top;\n",
       "    }\n",
       "\n",
       "    .dataframe thead th {\n",
       "        text-align: right;\n",
       "    }\n",
       "</style>\n",
       "<table border=\"1\" class=\"dataframe\">\n",
       "  <thead>\n",
       "    <tr style=\"text-align: right;\">\n",
       "      <th></th>\n",
       "      <th>0</th>\n",
       "      <th>1</th>\n",
       "      <th>2</th>\n",
       "      <th>3</th>\n",
       "      <th>4</th>\n",
       "      <th>5</th>\n",
       "      <th>6</th>\n",
       "      <th>7</th>\n",
       "      <th>8</th>\n",
       "      <th>9</th>\n",
       "      <th>...</th>\n",
       "      <th>214</th>\n",
       "      <th>215</th>\n",
       "      <th>216</th>\n",
       "      <th>217</th>\n",
       "      <th>218</th>\n",
       "      <th>219</th>\n",
       "      <th>220</th>\n",
       "      <th>221</th>\n",
       "      <th>222</th>\n",
       "      <th>223</th>\n",
       "    </tr>\n",
       "  </thead>\n",
       "  <tbody>\n",
       "    <tr>\n",
       "      <th>0</th>\n",
       "      <td>0.179347</td>\n",
       "      <td>0.324119</td>\n",
       "      <td>0.485976</td>\n",
       "      <td>-0.145413</td>\n",
       "      <td>-0.068155</td>\n",
       "      <td>0.106264</td>\n",
       "      <td>-0.321716</td>\n",
       "      <td>0.232469</td>\n",
       "      <td>-0.074331</td>\n",
       "      <td>0.044818</td>\n",
       "      <td>...</td>\n",
       "      <td>0.425284</td>\n",
       "      <td>0.331999</td>\n",
       "      <td>0.005170</td>\n",
       "      <td>-0.038969</td>\n",
       "      <td>-0.014026</td>\n",
       "      <td>0.051305</td>\n",
       "      <td>0.158851</td>\n",
       "      <td>-0.001306</td>\n",
       "      <td>-0.139625</td>\n",
       "      <td>-0.448638</td>\n",
       "    </tr>\n",
       "    <tr>\n",
       "      <th>1</th>\n",
       "      <td>-0.661538</td>\n",
       "      <td>0.476923</td>\n",
       "      <td>0.353846</td>\n",
       "      <td>-0.661538</td>\n",
       "      <td>0.046154</td>\n",
       "      <td>-0.507692</td>\n",
       "      <td>-0.076923</td>\n",
       "      <td>-0.169231</td>\n",
       "      <td>-0.230769</td>\n",
       "      <td>0.569231</td>\n",
       "      <td>...</td>\n",
       "      <td>0.538462</td>\n",
       "      <td>-0.015385</td>\n",
       "      <td>-0.723077</td>\n",
       "      <td>0.230769</td>\n",
       "      <td>-0.323077</td>\n",
       "      <td>-0.138462</td>\n",
       "      <td>0.507692</td>\n",
       "      <td>0.507692</td>\n",
       "      <td>-0.261538</td>\n",
       "      <td>-0.415385</td>\n",
       "    </tr>\n",
       "  </tbody>\n",
       "</table>\n",
       "<p>2 rows × 224 columns</p>\n",
       "</div>"
      ],
      "text/plain": [
       "        0         1         2         3         4         5         6    \\\n",
       "0  0.179347  0.324119  0.485976 -0.145413 -0.068155  0.106264 -0.321716   \n",
       "1 -0.661538  0.476923  0.353846 -0.661538  0.046154 -0.507692 -0.076923   \n",
       "\n",
       "        7         8         9    ...       214       215       216       217  \\\n",
       "0  0.232469 -0.074331  0.044818  ...  0.425284  0.331999  0.005170 -0.038969   \n",
       "1 -0.169231 -0.230769  0.569231  ...  0.538462 -0.015385 -0.723077  0.230769   \n",
       "\n",
       "        218       219       220       221       222       223  \n",
       "0 -0.014026  0.051305  0.158851 -0.001306 -0.139625 -0.448638  \n",
       "1 -0.323077 -0.138462  0.507692  0.507692 -0.261538 -0.415385  \n",
       "\n",
       "[2 rows x 224 columns]"
      ]
     },
     "metadata": {},
     "output_type": "display_data"
    },
    {
     "name": "stdout",
     "output_type": "stream",
     "text": [
      "R2 Score Valence:\t0.38\n"
     ]
    }
   ],
   "source": [
    "# df3_v = df3_v.round(2)\n",
    "\n",
    "display(df_v.head())\n",
    "print(\"R2 Score Valence:\\t%0.2f\" % r2_v)"
   ]
  },
  {
   "cell_type": "markdown",
   "metadata": {},
   "source": [
    "REGRESSION"
   ]
  },
  {
   "cell_type": "code",
   "execution_count": 37,
   "metadata": {
    "collapsed": true
   },
   "outputs": [],
   "source": [
    "scores_a = crosval(gpr_a,data,scaled_ar) #Arousal Regression\n",
    "scores_v = crosval(gpr_v,data,scaled_val) #Arousal Regression"
   ]
  },
  {
   "cell_type": "markdown",
   "metadata": {},
   "source": [
    "AROUSAL"
   ]
  },
  {
   "cell_type": "code",
   "execution_count": 38,
   "metadata": {},
   "outputs": [
    {
     "name": "stdout",
     "output_type": "stream",
     "text": [
      "R2 Score Valence:\t [ 0.50404329  0.52933545  0.55470409  0.63116308  0.65790515  0.63105683\n",
      "  0.64902058  0.64100453  0.59219615  0.60790025]\n",
      "R2 Score Valence:\t0.60 (+/- 0.05)\n"
     ]
    }
   ],
   "source": [
    "print(\"R2 Score Valence:\\t\",scores_a)\n",
    "print(\"R2 Score Valence:\\t%0.2f (+/- %0.2f)\" % (scores_a.mean(), scores_a.std() ))"
   ]
  },
  {
   "cell_type": "markdown",
   "metadata": {},
   "source": [
    "VALENCE"
   ]
  },
  {
   "cell_type": "code",
   "execution_count": 39,
   "metadata": {},
   "outputs": [
    {
     "name": "stdout",
     "output_type": "stream",
     "text": [
      "R2 Score Valence:\t [ 0.34787595  0.30856516  0.25407681  0.12942156  0.51124481  0.26999648\n",
      "  0.45645089  0.33966892  0.31398068  0.17234916]\n",
      "R2 Score Valence:\t0.31 (+/- 0.11)\n"
     ]
    }
   ],
   "source": [
    "print(\"R2 Score Valence:\\t\",scores_v)\n",
    "print(\"R2 Score Valence:\\t%0.2f (+/- %0.2f)\" % (scores_v.mean(), scores_v.std() ))"
   ]
  },
  {
   "cell_type": "code",
   "execution_count": 40,
   "metadata": {
    "collapsed": true
   },
   "outputs": [],
   "source": [
    "save_predict(df_a,df_v,datafitur)\n",
    "save_model(trained_a,datafitur,'arousal/') #save model Arousal\n",
    "save_model(trained_v,datafitur,'valence/') #save model Valence"
   ]
  },
  {
   "cell_type": "markdown",
   "metadata": {},
   "source": [
    "# CASE 4"
   ]
  },
  {
   "cell_type": "code",
   "execution_count": 41,
   "metadata": {},
   "outputs": [
    {
     "name": "stdout",
     "output_type": "stream",
     "text": [
      "(744, 61)\n"
     ]
    }
   ],
   "source": [
    "datafitur =  \"case4\" #CASE 3\n",
    "data,arousal_mean,valence_mean = load(datafitur) #Load\n",
    "print(data.shape)\n",
    "\n",
    "scaled_ar = minmax_scale(arousal_mean.values,feature_range=(-1, 1))\n",
    "scaled_val = minmax_scale(valence_mean.values,feature_range=(-1, 1))\n",
    "\n",
    "train_data_a, test_data_a, train_values_a, test_values_a = split(data,scaled_ar) #split arousal\n",
    "train_data_v, test_data_v, train_values_v, test_values_v = split(data,scaled_val) #split valence"
   ]
  },
  {
   "cell_type": "markdown",
   "metadata": {},
   "source": [
    "INITIAL MODEL"
   ]
  },
  {
   "cell_type": "code",
   "execution_count": 42,
   "metadata": {
    "collapsed": true
   },
   "outputs": [],
   "source": [
    "gpr_a = GPR(kernel=kernels, alpha=1e-10, \n",
    "                    optimizer='fmin_l_bfgs_b', \n",
    "                    n_restarts_optimizer=10, \n",
    "                    normalize_y=True, copy_X_train=False, \n",
    "                    random_state=1000) #init Arousal\n",
    "\n",
    "gpr_v = GPR(kernel=kernels, alpha=1e-10, \n",
    "                    optimizer='fmin_l_bfgs_b', \n",
    "                    n_restarts_optimizer=10, \n",
    "                    normalize_y=True, copy_X_train=False, \n",
    "                    random_state=1000) #init Valence"
   ]
  },
  {
   "cell_type": "code",
   "execution_count": 43,
   "metadata": {},
   "outputs": [
    {
     "name": "stdout",
     "output_type": "stream",
     "text": [
      "arousal:\t RationalQuadratic(alpha=1, length_scale=1)\n",
      "valence:\t RationalQuadratic(alpha=1, length_scale=1)\n"
     ]
    }
   ],
   "source": [
    "print(\"arousal:\\t\",gpr_a.kernel)\n",
    "print(\"valence:\\t\",gpr_v.kernel)"
   ]
  },
  {
   "cell_type": "markdown",
   "metadata": {},
   "source": [
    "TRAIN"
   ]
  },
  {
   "cell_type": "code",
   "execution_count": 44,
   "metadata": {
    "collapsed": true
   },
   "outputs": [],
   "source": [
    "trained_a = training(train_data_a,train_values_a,gpr_a)\n",
    "trained_v = training(train_data_v,train_values_v,gpr_v)"
   ]
  },
  {
   "cell_type": "markdown",
   "metadata": {},
   "source": [
    "PREDICT"
   ]
  },
  {
   "cell_type": "code",
   "execution_count": 45,
   "metadata": {
    "collapsed": true
   },
   "outputs": [],
   "source": [
    "# #Predict Arousal\n",
    "pred_a,df_a = predict(test_data_a, test_values_a, trained_a)\n",
    "# #Predict Valence\n",
    "pred_v,df_v = predict(test_data_v, test_values_v, trained_v)\n",
    "\n",
    "r2_a = score(pred_a,test_values_a) #Score Arousal\n",
    "r2_v = score(pred_v,test_values_v) #Score Valence"
   ]
  },
  {
   "cell_type": "markdown",
   "metadata": {},
   "source": [
    "SET PARAM"
   ]
  },
  {
   "cell_type": "code",
   "execution_count": 46,
   "metadata": {},
   "outputs": [
    {
     "name": "stdout",
     "output_type": "stream",
     "text": [
      "arousal:\t RationalQuadratic(alpha=0.037, length_scale=9.43)\n",
      "valence:\t RationalQuadratic(alpha=0.0394, length_scale=6.13)\n"
     ]
    }
   ],
   "source": [
    "trained_a.set_params(kernel=trained_a.kernel_)\n",
    "trained_v.set_params(kernel=trained_v.kernel_)\n",
    "\n",
    "print(\"arousal:\\t\",trained_a.kernel)\n",
    "print(\"valence:\\t\",trained_v.kernel)"
   ]
  },
  {
   "cell_type": "markdown",
   "metadata": {},
   "source": [
    "AROUSAL"
   ]
  },
  {
   "cell_type": "code",
   "execution_count": 47,
   "metadata": {
    "scrolled": true
   },
   "outputs": [
    {
     "data": {
      "text/html": [
       "<div>\n",
       "<style scoped>\n",
       "    .dataframe tbody tr th:only-of-type {\n",
       "        vertical-align: middle;\n",
       "    }\n",
       "\n",
       "    .dataframe tbody tr th {\n",
       "        vertical-align: top;\n",
       "    }\n",
       "\n",
       "    .dataframe thead th {\n",
       "        text-align: right;\n",
       "    }\n",
       "</style>\n",
       "<table border=\"1\" class=\"dataframe\">\n",
       "  <thead>\n",
       "    <tr style=\"text-align: right;\">\n",
       "      <th></th>\n",
       "      <th>0</th>\n",
       "      <th>1</th>\n",
       "      <th>2</th>\n",
       "      <th>3</th>\n",
       "      <th>4</th>\n",
       "      <th>5</th>\n",
       "      <th>6</th>\n",
       "      <th>7</th>\n",
       "      <th>8</th>\n",
       "      <th>9</th>\n",
       "      <th>...</th>\n",
       "      <th>214</th>\n",
       "      <th>215</th>\n",
       "      <th>216</th>\n",
       "      <th>217</th>\n",
       "      <th>218</th>\n",
       "      <th>219</th>\n",
       "      <th>220</th>\n",
       "      <th>221</th>\n",
       "      <th>222</th>\n",
       "      <th>223</th>\n",
       "    </tr>\n",
       "  </thead>\n",
       "  <tbody>\n",
       "    <tr>\n",
       "      <th>0</th>\n",
       "      <td>-0.066998</td>\n",
       "      <td>0.157116</td>\n",
       "      <td>0.531436</td>\n",
       "      <td>-0.598410</td>\n",
       "      <td>-0.320814</td>\n",
       "      <td>-0.240503</td>\n",
       "      <td>-0.714524</td>\n",
       "      <td>0.303569</td>\n",
       "      <td>-0.279799</td>\n",
       "      <td>-0.027215</td>\n",
       "      <td>...</td>\n",
       "      <td>0.545318</td>\n",
       "      <td>1.269967e-01</td>\n",
       "      <td>-0.208889</td>\n",
       "      <td>-0.327222</td>\n",
       "      <td>-0.081239</td>\n",
       "      <td>0.046240</td>\n",
       "      <td>0.376124</td>\n",
       "      <td>0.478750</td>\n",
       "      <td>-0.315545</td>\n",
       "      <td>-0.496355</td>\n",
       "    </tr>\n",
       "    <tr>\n",
       "      <th>1</th>\n",
       "      <td>0.352941</td>\n",
       "      <td>0.264706</td>\n",
       "      <td>0.411765</td>\n",
       "      <td>-0.558824</td>\n",
       "      <td>-0.441176</td>\n",
       "      <td>-0.411765</td>\n",
       "      <td>-0.588235</td>\n",
       "      <td>0.235294</td>\n",
       "      <td>-0.411765</td>\n",
       "      <td>0.352941</td>\n",
       "      <td>...</td>\n",
       "      <td>0.588235</td>\n",
       "      <td>-2.220446e-16</td>\n",
       "      <td>-0.382353</td>\n",
       "      <td>0.235294</td>\n",
       "      <td>-0.088235</td>\n",
       "      <td>-0.029412</td>\n",
       "      <td>-0.058824</td>\n",
       "      <td>0.382353</td>\n",
       "      <td>-0.500000</td>\n",
       "      <td>-0.823529</td>\n",
       "    </tr>\n",
       "  </tbody>\n",
       "</table>\n",
       "<p>2 rows × 224 columns</p>\n",
       "</div>"
      ],
      "text/plain": [
       "        0         1         2         3         4         5         6    \\\n",
       "0 -0.066998  0.157116  0.531436 -0.598410 -0.320814 -0.240503 -0.714524   \n",
       "1  0.352941  0.264706  0.411765 -0.558824 -0.441176 -0.411765 -0.588235   \n",
       "\n",
       "        7         8         9    ...       214           215       216  \\\n",
       "0  0.303569 -0.279799 -0.027215  ...  0.545318  1.269967e-01 -0.208889   \n",
       "1  0.235294 -0.411765  0.352941  ...  0.588235 -2.220446e-16 -0.382353   \n",
       "\n",
       "        217       218       219       220       221       222       223  \n",
       "0 -0.327222 -0.081239  0.046240  0.376124  0.478750 -0.315545 -0.496355  \n",
       "1  0.235294 -0.088235 -0.029412 -0.058824  0.382353 -0.500000 -0.823529  \n",
       "\n",
       "[2 rows x 224 columns]"
      ]
     },
     "metadata": {},
     "output_type": "display_data"
    },
    {
     "name": "stdout",
     "output_type": "stream",
     "text": [
      "R2 Score Arousal:\t0.68\n"
     ]
    }
   ],
   "source": [
    "# df4_a = df4_a.round(2)\n",
    "\n",
    "display(df_a.head())\n",
    "print(\"R2 Score Arousal:\\t%0.2f\" % r2_a)"
   ]
  },
  {
   "cell_type": "markdown",
   "metadata": {},
   "source": [
    "VALENCE"
   ]
  },
  {
   "cell_type": "code",
   "execution_count": 48,
   "metadata": {},
   "outputs": [
    {
     "data": {
      "text/html": [
       "<div>\n",
       "<style scoped>\n",
       "    .dataframe tbody tr th:only-of-type {\n",
       "        vertical-align: middle;\n",
       "    }\n",
       "\n",
       "    .dataframe tbody tr th {\n",
       "        vertical-align: top;\n",
       "    }\n",
       "\n",
       "    .dataframe thead th {\n",
       "        text-align: right;\n",
       "    }\n",
       "</style>\n",
       "<table border=\"1\" class=\"dataframe\">\n",
       "  <thead>\n",
       "    <tr style=\"text-align: right;\">\n",
       "      <th></th>\n",
       "      <th>0</th>\n",
       "      <th>1</th>\n",
       "      <th>2</th>\n",
       "      <th>3</th>\n",
       "      <th>4</th>\n",
       "      <th>5</th>\n",
       "      <th>6</th>\n",
       "      <th>7</th>\n",
       "      <th>8</th>\n",
       "      <th>9</th>\n",
       "      <th>...</th>\n",
       "      <th>214</th>\n",
       "      <th>215</th>\n",
       "      <th>216</th>\n",
       "      <th>217</th>\n",
       "      <th>218</th>\n",
       "      <th>219</th>\n",
       "      <th>220</th>\n",
       "      <th>221</th>\n",
       "      <th>222</th>\n",
       "      <th>223</th>\n",
       "    </tr>\n",
       "  </thead>\n",
       "  <tbody>\n",
       "    <tr>\n",
       "      <th>0</th>\n",
       "      <td>0.150411</td>\n",
       "      <td>0.290213</td>\n",
       "      <td>0.548553</td>\n",
       "      <td>-0.166714</td>\n",
       "      <td>0.000528</td>\n",
       "      <td>-0.020325</td>\n",
       "      <td>-0.388268</td>\n",
       "      <td>0.339922</td>\n",
       "      <td>0.101775</td>\n",
       "      <td>0.059128</td>\n",
       "      <td>...</td>\n",
       "      <td>0.299177</td>\n",
       "      <td>0.112597</td>\n",
       "      <td>-0.230976</td>\n",
       "      <td>-0.245303</td>\n",
       "      <td>-0.113981</td>\n",
       "      <td>0.030735</td>\n",
       "      <td>0.041307</td>\n",
       "      <td>0.168819</td>\n",
       "      <td>-0.288231</td>\n",
       "      <td>-0.039562</td>\n",
       "    </tr>\n",
       "    <tr>\n",
       "      <th>1</th>\n",
       "      <td>-0.661538</td>\n",
       "      <td>0.476923</td>\n",
       "      <td>0.353846</td>\n",
       "      <td>-0.661538</td>\n",
       "      <td>0.046154</td>\n",
       "      <td>-0.507692</td>\n",
       "      <td>-0.076923</td>\n",
       "      <td>-0.169231</td>\n",
       "      <td>-0.230769</td>\n",
       "      <td>0.569231</td>\n",
       "      <td>...</td>\n",
       "      <td>0.538462</td>\n",
       "      <td>-0.015385</td>\n",
       "      <td>-0.723077</td>\n",
       "      <td>0.230769</td>\n",
       "      <td>-0.323077</td>\n",
       "      <td>-0.138462</td>\n",
       "      <td>0.507692</td>\n",
       "      <td>0.507692</td>\n",
       "      <td>-0.261538</td>\n",
       "      <td>-0.415385</td>\n",
       "    </tr>\n",
       "  </tbody>\n",
       "</table>\n",
       "<p>2 rows × 224 columns</p>\n",
       "</div>"
      ],
      "text/plain": [
       "        0         1         2         3         4         5         6    \\\n",
       "0  0.150411  0.290213  0.548553 -0.166714  0.000528 -0.020325 -0.388268   \n",
       "1 -0.661538  0.476923  0.353846 -0.661538  0.046154 -0.507692 -0.076923   \n",
       "\n",
       "        7         8         9    ...       214       215       216       217  \\\n",
       "0  0.339922  0.101775  0.059128  ...  0.299177  0.112597 -0.230976 -0.245303   \n",
       "1 -0.169231 -0.230769  0.569231  ...  0.538462 -0.015385 -0.723077  0.230769   \n",
       "\n",
       "        218       219       220       221       222       223  \n",
       "0 -0.113981  0.030735  0.041307  0.168819 -0.288231 -0.039562  \n",
       "1 -0.323077 -0.138462  0.507692  0.507692 -0.261538 -0.415385  \n",
       "\n",
       "[2 rows x 224 columns]"
      ]
     },
     "metadata": {},
     "output_type": "display_data"
    },
    {
     "name": "stdout",
     "output_type": "stream",
     "text": [
      "R2 Score Valence:\t0.38\n"
     ]
    }
   ],
   "source": [
    "# df4_v = df4_v.round(2)\n",
    "\n",
    "display(df_v.head())\n",
    "print(\"R2 Score Valence:\\t%0.2f\" % r2_v)"
   ]
  },
  {
   "cell_type": "markdown",
   "metadata": {},
   "source": [
    "REGRESSION"
   ]
  },
  {
   "cell_type": "code",
   "execution_count": 49,
   "metadata": {
    "collapsed": true
   },
   "outputs": [],
   "source": [
    "scores_a = crosval(gpr_a,data,scaled_ar) #Arousal Regression\n",
    "scores_v = crosval(gpr_v,data,scaled_val) #Arousal Regression"
   ]
  },
  {
   "cell_type": "markdown",
   "metadata": {},
   "source": [
    "AROUSAL"
   ]
  },
  {
   "cell_type": "code",
   "execution_count": 50,
   "metadata": {},
   "outputs": [
    {
     "name": "stdout",
     "output_type": "stream",
     "text": [
      "R2 Score Valence:\t [ 0.44672873  0.5839231   0.61084799  0.53452106  0.65829641  0.66989345\n",
      "  0.6430872   0.66133519  0.62616777  0.66062924]\n",
      "R2 Score Valence:\t0.61 (+/- 0.07)\n"
     ]
    }
   ],
   "source": [
    "print(\"R2 Score Valence:\\t\",scores_a)\n",
    "print(\"R2 Score Valence:\\t%0.2f (+/- %0.2f)\" % (scores_a.mean(), scores_a.std() ))"
   ]
  },
  {
   "cell_type": "markdown",
   "metadata": {},
   "source": [
    "VALENCE"
   ]
  },
  {
   "cell_type": "code",
   "execution_count": 51,
   "metadata": {},
   "outputs": [
    {
     "name": "stdout",
     "output_type": "stream",
     "text": [
      "R2 Score Valence:\t [ 0.31867443  0.35038908  0.23122918  0.05437017  0.4048447   0.31051334\n",
      "  0.42644845  0.29673161  0.27565131  0.28379686]\n",
      "R2 Score Valence:\t0.30 (+/- 0.10)\n"
     ]
    }
   ],
   "source": [
    "print(\"R2 Score Valence:\\t\",scores_v)\n",
    "print(\"R2 Score Valence:\\t%0.2f (+/- %0.2f)\" % (scores_v.mean(), scores_v.std() ))"
   ]
  },
  {
   "cell_type": "code",
   "execution_count": 52,
   "metadata": {
    "collapsed": true
   },
   "outputs": [],
   "source": [
    "save_predict(df_a,df_v,datafitur)\n",
    "save_model(trained_a,datafitur,'arousal/') #save model Arousal\n",
    "save_model(trained_v,datafitur,'valence/') #save model Valence"
   ]
  },
  {
   "cell_type": "code",
   "execution_count": null,
   "metadata": {
    "collapsed": true
   },
   "outputs": [],
   "source": []
  }
 ],
 "metadata": {
  "kernelspec": {
   "display_name": "Python 3",
   "language": "python",
   "name": "python3"
  },
  "language_info": {
   "codemirror_mode": {
    "name": "ipython",
    "version": 3
   },
   "file_extension": ".py",
   "mimetype": "text/x-python",
   "name": "python",
   "nbconvert_exporter": "python",
   "pygments_lexer": "ipython3",
   "version": "3.6.2"
  }
 },
 "nbformat": 4,
 "nbformat_minor": 2
}
