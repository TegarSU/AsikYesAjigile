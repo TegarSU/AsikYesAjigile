{
 "cells": [
  {
   "cell_type": "code",
   "execution_count": 1,
   "metadata": {
    "collapsed": true
   },
   "outputs": [],
   "source": [
    "import pandas as pd\n",
    "import numpy as np\n",
    "from sklearn.externals import joblib\n",
    "\n",
    "from sklearn.gaussian_process import GaussianProcessRegressor as GPR\n",
    "from sklearn.gaussian_process.kernels import RationalQuadratic\n",
    "from sklearn.model_selection import cross_val_score\n",
    "from sklearn.model_selection import train_test_split\n",
    "from sklearn.metrics import r2_score\n",
    "from sklearn.preprocessing import minmax_scale"
   ]
  },
  {
   "cell_type": "code",
   "execution_count": 2,
   "metadata": {
    "collapsed": true
   },
   "outputs": [],
   "source": [
    "# #PATH\n",
    "path_info = \"F:/178/Tugas Akhir/dataset/annotations/\"\n",
    "path_to_fitur = \"F:/178/Tugas Akhir/dataset/coba fitur/\"\n",
    "path_to_experiment =\"F:/178/Tugas Akhir/dataset/experiment/\"\n",
    "path_to_model = \"F:/178/Tugas Akhir/dataset/model/\"\n",
    "path_to_predict = \"F:/178/Tugas Akhir/dataset/predict/\"\n",
    "\n",
    "# path_info = \"C:/Users/USER/Downloads/Tugas Akhir/dataset/annotations/\"\n",
    "# path_to_fitur = \"C:/Users/USER/Downloads/Tugas Akhir/dataset/coba fitur/\"\n",
    "# path_to_experiment =\"C:/Users/USER/Downloads/Tugas Akhir/dataset/experiment/\"\n",
    "# path_to_model = \"C:/Users/USER/Downloads/Tugas Akhir/dataset/model/\"\n",
    "# path_to_predict = \"C:/Users/USER/Downloads/Tugas Akhir/dataset/predict/\""
   ]
  },
  {
   "cell_type": "code",
   "execution_count": 3,
   "metadata": {
    "collapsed": true
   },
   "outputs": [],
   "source": [
    "def load(fitur):\n",
    "    data = pd.read_csv(path_to_experiment + fitur+\".csv\",header=None)\n",
    "    ground = pd.read_csv(path_info + \"static_annotations.csv\")\n",
    "\n",
    "    arousal_mean = ground['mean_arousal']\n",
    "    valence_mean = ground['mean_valence']\n",
    "    \n",
    "    return data,arousal_mean,valence_mean\n",
    "\n",
    "def split(data,value):\n",
    "    \n",
    "    train_data, test_data, train_values, test_values = train_test_split(data,value,test_size=0.3,random_state=1000)\n",
    "    \n",
    "    return train_data, test_data, train_values, test_values\n",
    "\n",
    "def training(data,values,clf):\n",
    "    trained = clf.fit(data,values)\n",
    "    \n",
    "    return trained\n",
    "    \n",
    "def predict(test,true,clf):\n",
    "    pred = clf.predict(test)\n",
    "    df = pd.DataFrame(data=[pred,true])\n",
    "    \n",
    "    return pred,df\n",
    "\n",
    "def score(pred,true):\n",
    "    r2 = r2_score(true, pred)\n",
    "    \n",
    "    return r2\n",
    "\n",
    "def crosval(clf,data,values):\n",
    "    scores = cross_val_score(clf,data,values,scoring='r2',cv=10)\n",
    "    \n",
    "    return scores\n",
    "\n",
    "def save_model(model,case,types):\n",
    "    path = path_to_model+types+case+'.sav' # save the model\n",
    "    joblib.dump(model, path)\n",
    "\n",
    "def save_predict(df1,df2,case):\n",
    "    path = path_to_predict+case+\".xlsx\" # save the model\n",
    "    arousal = df1.T\n",
    "    valence = df2.T\n",
    "    merged = arousal.merge(valence, how='outer', left_index=True, right_index=True)\n",
    "    merged.to_excel(path,header=None,index=None)"
   ]
  },
  {
   "cell_type": "code",
   "execution_count": 4,
   "metadata": {
    "collapsed": true
   },
   "outputs": [],
   "source": [
    "kernels = 1.0 * RationalQuadratic(length_scale=1.0, alpha=1.0, \n",
    "                            length_scale_bounds=(1e-6, 1e6), \n",
    "                            alpha_bounds=(1e-6, 1e6))"
   ]
  },
  {
   "cell_type": "markdown",
   "metadata": {},
   "source": [
    "# CASE 1"
   ]
  },
  {
   "cell_type": "code",
   "execution_count": 5,
   "metadata": {},
   "outputs": [
    {
     "name": "stdout",
     "output_type": "stream",
     "text": [
      "(744, 26)\n",
      "(520, 26)\n",
      "(224, 26)\n"
     ]
    }
   ],
   "source": [
    "datafitur = \"case1\" #CASE 1\n",
    "\n",
    "data,arousal_mean,valence_mean = load(datafitur) #Load\n",
    "print(data.shape)\n",
    "\n",
    "scaled_ar = minmax_scale(arousal_mean,feature_range=(-1, 1))\n",
    "scaled_val = minmax_scale(valence_mean,feature_range=(-1, 1))\n",
    "\n",
    "#split arousal\n",
    "train_data_a, test_data_a, train_values_a, test_values_a = split(data,scaled_ar)\n",
    "#split valence\n",
    "train_data_v, test_data_v, train_values_v, test_values_v = split(data,scaled_val)\n",
    "print(train_data_a.shape)\n",
    "print(test_data_a.shape)"
   ]
  },
  {
   "cell_type": "markdown",
   "metadata": {},
   "source": [
    "INITIAL MODEL"
   ]
  },
  {
   "cell_type": "code",
   "execution_count": 6,
   "metadata": {
    "collapsed": true
   },
   "outputs": [],
   "source": [
    "gpr_a = GPR(kernel=kernels, alpha=1e-10, \n",
    "                    optimizer='fmin_l_bfgs_b', \n",
    "                    n_restarts_optimizer=10, \n",
    "                    normalize_y=True, copy_X_train=False,  \n",
    "                    random_state=1000) #init Arousal\n",
    "\n",
    "gpr_v = GPR(kernel=kernels, alpha=1e-10, \n",
    "                    optimizer='fmin_l_bfgs_b', \n",
    "                    n_restarts_optimizer=10, \n",
    "                    normalize_y=True, copy_X_train=False,  \n",
    "                    random_state=1000) #init Arousal"
   ]
  },
  {
   "cell_type": "code",
   "execution_count": 7,
   "metadata": {},
   "outputs": [
    {
     "name": "stdout",
     "output_type": "stream",
     "text": [
      "arousal:\t 1**2 * RationalQuadratic(alpha=1, length_scale=1)\n",
      "arousal:\t 1**2 * RationalQuadratic(alpha=1, length_scale=1)\n"
     ]
    }
   ],
   "source": [
    "print(\"arousal:\\t\",gpr_a.kernel)\n",
    "print(\"arousal:\\t\",gpr_v.kernel)"
   ]
  },
  {
   "cell_type": "markdown",
   "metadata": {},
   "source": [
    "TRAIN"
   ]
  },
  {
   "cell_type": "code",
   "execution_count": 8,
   "metadata": {
    "collapsed": true
   },
   "outputs": [],
   "source": [
    "trained_a = training(train_data_a,train_values_a,gpr_a)\n",
    "trained_v = training(train_data_v,train_values_v,gpr_v)"
   ]
  },
  {
   "cell_type": "markdown",
   "metadata": {},
   "source": [
    "PREDICT"
   ]
  },
  {
   "cell_type": "code",
   "execution_count": 9,
   "metadata": {
    "collapsed": true
   },
   "outputs": [],
   "source": [
    "# #Predict Arousal\n",
    "pred_a,df_a = predict(test_data_a, test_values_a, trained_a)\n",
    "# #Predict Valence\n",
    "pred_v,df_v = predict(test_data_v, test_values_v, trained_v)\n",
    "\n",
    "r2_a = score(pred_a,test_values_a) #Score Arousal\n",
    "r2_v = score(pred_v,test_values_v) #Score Valence"
   ]
  },
  {
   "cell_type": "markdown",
   "metadata": {},
   "source": [
    "SET PARAM"
   ]
  },
  {
   "cell_type": "code",
   "execution_count": 10,
   "metadata": {},
   "outputs": [
    {
     "name": "stdout",
     "output_type": "stream",
     "text": [
      "arousal:\t 1.17**2 * RationalQuadratic(alpha=0.022, length_scale=4.78)\n",
      "valence:\t 0.5**2 * RationalQuadratic(alpha=0.21, length_scale=1.29)\n"
     ]
    }
   ],
   "source": [
    "trained_a.set_params(kernel=trained_a.kernel_)\n",
    "trained_v.set_params(kernel=trained_v.kernel_)\n",
    "\n",
    "print(\"arousal:\\t\",trained_a.kernel)\n",
    "print(\"valence:\\t\",trained_v.kernel)"
   ]
  },
  {
   "cell_type": "markdown",
   "metadata": {},
   "source": [
    "AROUSAL"
   ]
  },
  {
   "cell_type": "code",
   "execution_count": 11,
   "metadata": {},
   "outputs": [
    {
     "data": {
      "text/html": [
       "<div>\n",
       "<style scoped>\n",
       "    .dataframe tbody tr th:only-of-type {\n",
       "        vertical-align: middle;\n",
       "    }\n",
       "\n",
       "    .dataframe tbody tr th {\n",
       "        vertical-align: top;\n",
       "    }\n",
       "\n",
       "    .dataframe thead th {\n",
       "        text-align: right;\n",
       "    }\n",
       "</style>\n",
       "<table border=\"1\" class=\"dataframe\">\n",
       "  <thead>\n",
       "    <tr style=\"text-align: right;\">\n",
       "      <th></th>\n",
       "      <th>0</th>\n",
       "      <th>1</th>\n",
       "      <th>2</th>\n",
       "      <th>3</th>\n",
       "      <th>4</th>\n",
       "      <th>5</th>\n",
       "      <th>6</th>\n",
       "      <th>7</th>\n",
       "      <th>8</th>\n",
       "      <th>9</th>\n",
       "      <th>...</th>\n",
       "      <th>214</th>\n",
       "      <th>215</th>\n",
       "      <th>216</th>\n",
       "      <th>217</th>\n",
       "      <th>218</th>\n",
       "      <th>219</th>\n",
       "      <th>220</th>\n",
       "      <th>221</th>\n",
       "      <th>222</th>\n",
       "      <th>223</th>\n",
       "    </tr>\n",
       "  </thead>\n",
       "  <tbody>\n",
       "    <tr>\n",
       "      <th>0</th>\n",
       "      <td>-0.09</td>\n",
       "      <td>0.24</td>\n",
       "      <td>0.59</td>\n",
       "      <td>-0.41</td>\n",
       "      <td>-0.41</td>\n",
       "      <td>-0.09</td>\n",
       "      <td>-0.81</td>\n",
       "      <td>0.26</td>\n",
       "      <td>-0.44</td>\n",
       "      <td>-0.09</td>\n",
       "      <td>...</td>\n",
       "      <td>0.49</td>\n",
       "      <td>0.12</td>\n",
       "      <td>0.00</td>\n",
       "      <td>-0.16</td>\n",
       "      <td>-0.06</td>\n",
       "      <td>-0.00</td>\n",
       "      <td>0.32</td>\n",
       "      <td>0.36</td>\n",
       "      <td>-0.23</td>\n",
       "      <td>-0.45</td>\n",
       "    </tr>\n",
       "    <tr>\n",
       "      <th>1</th>\n",
       "      <td>0.35</td>\n",
       "      <td>0.26</td>\n",
       "      <td>0.41</td>\n",
       "      <td>-0.56</td>\n",
       "      <td>-0.44</td>\n",
       "      <td>-0.41</td>\n",
       "      <td>-0.59</td>\n",
       "      <td>0.24</td>\n",
       "      <td>-0.41</td>\n",
       "      <td>0.35</td>\n",
       "      <td>...</td>\n",
       "      <td>0.59</td>\n",
       "      <td>-0.00</td>\n",
       "      <td>-0.38</td>\n",
       "      <td>0.24</td>\n",
       "      <td>-0.09</td>\n",
       "      <td>-0.03</td>\n",
       "      <td>-0.06</td>\n",
       "      <td>0.38</td>\n",
       "      <td>-0.50</td>\n",
       "      <td>-0.82</td>\n",
       "    </tr>\n",
       "  </tbody>\n",
       "</table>\n",
       "<p>2 rows × 224 columns</p>\n",
       "</div>"
      ],
      "text/plain": [
       "    0     1     2     3     4     5     6     7     8     9    ...   214  \\\n",
       "0 -0.09  0.24  0.59 -0.41 -0.41 -0.09 -0.81  0.26 -0.44 -0.09  ...  0.49   \n",
       "1  0.35  0.26  0.41 -0.56 -0.44 -0.41 -0.59  0.24 -0.41  0.35  ...  0.59   \n",
       "\n",
       "    215   216   217   218   219   220   221   222   223  \n",
       "0  0.12  0.00 -0.16 -0.06 -0.00  0.32  0.36 -0.23 -0.45  \n",
       "1 -0.00 -0.38  0.24 -0.09 -0.03 -0.06  0.38 -0.50 -0.82  \n",
       "\n",
       "[2 rows x 224 columns]"
      ]
     },
     "metadata": {},
     "output_type": "display_data"
    },
    {
     "name": "stdout",
     "output_type": "stream",
     "text": [
      "R2 Score Arousal:\t0.64\n"
     ]
    }
   ],
   "source": [
    "df_a = df_a.round(2)\n",
    "\n",
    "display(df_a.head())\n",
    "print(\"R2 Score Arousal:\\t%0.2f\" % r2_a)"
   ]
  },
  {
   "cell_type": "markdown",
   "metadata": {},
   "source": [
    "VALENCE"
   ]
  },
  {
   "cell_type": "code",
   "execution_count": 12,
   "metadata": {},
   "outputs": [
    {
     "data": {
      "text/html": [
       "<div>\n",
       "<style scoped>\n",
       "    .dataframe tbody tr th:only-of-type {\n",
       "        vertical-align: middle;\n",
       "    }\n",
       "\n",
       "    .dataframe tbody tr th {\n",
       "        vertical-align: top;\n",
       "    }\n",
       "\n",
       "    .dataframe thead th {\n",
       "        text-align: right;\n",
       "    }\n",
       "</style>\n",
       "<table border=\"1\" class=\"dataframe\">\n",
       "  <thead>\n",
       "    <tr style=\"text-align: right;\">\n",
       "      <th></th>\n",
       "      <th>0</th>\n",
       "      <th>1</th>\n",
       "      <th>2</th>\n",
       "      <th>3</th>\n",
       "      <th>4</th>\n",
       "      <th>5</th>\n",
       "      <th>6</th>\n",
       "      <th>7</th>\n",
       "      <th>8</th>\n",
       "      <th>9</th>\n",
       "      <th>...</th>\n",
       "      <th>214</th>\n",
       "      <th>215</th>\n",
       "      <th>216</th>\n",
       "      <th>217</th>\n",
       "      <th>218</th>\n",
       "      <th>219</th>\n",
       "      <th>220</th>\n",
       "      <th>221</th>\n",
       "      <th>222</th>\n",
       "      <th>223</th>\n",
       "    </tr>\n",
       "  </thead>\n",
       "  <tbody>\n",
       "    <tr>\n",
       "      <th>0</th>\n",
       "      <td>0.16</td>\n",
       "      <td>0.32</td>\n",
       "      <td>0.47</td>\n",
       "      <td>-0.15</td>\n",
       "      <td>-0.07</td>\n",
       "      <td>0.10</td>\n",
       "      <td>-0.31</td>\n",
       "      <td>0.23</td>\n",
       "      <td>-0.08</td>\n",
       "      <td>0.05</td>\n",
       "      <td>...</td>\n",
       "      <td>0.42</td>\n",
       "      <td>0.34</td>\n",
       "      <td>0.01</td>\n",
       "      <td>-0.04</td>\n",
       "      <td>-0.01</td>\n",
       "      <td>0.05</td>\n",
       "      <td>0.16</td>\n",
       "      <td>-0.01</td>\n",
       "      <td>-0.13</td>\n",
       "      <td>-0.44</td>\n",
       "    </tr>\n",
       "    <tr>\n",
       "      <th>1</th>\n",
       "      <td>-0.66</td>\n",
       "      <td>0.48</td>\n",
       "      <td>0.35</td>\n",
       "      <td>-0.66</td>\n",
       "      <td>0.05</td>\n",
       "      <td>-0.51</td>\n",
       "      <td>-0.08</td>\n",
       "      <td>-0.17</td>\n",
       "      <td>-0.23</td>\n",
       "      <td>0.57</td>\n",
       "      <td>...</td>\n",
       "      <td>0.54</td>\n",
       "      <td>-0.02</td>\n",
       "      <td>-0.72</td>\n",
       "      <td>0.23</td>\n",
       "      <td>-0.32</td>\n",
       "      <td>-0.14</td>\n",
       "      <td>0.51</td>\n",
       "      <td>0.51</td>\n",
       "      <td>-0.26</td>\n",
       "      <td>-0.42</td>\n",
       "    </tr>\n",
       "  </tbody>\n",
       "</table>\n",
       "<p>2 rows × 224 columns</p>\n",
       "</div>"
      ],
      "text/plain": [
       "    0     1     2     3     4     5     6     7     8     9    ...   214  \\\n",
       "0  0.16  0.32  0.47 -0.15 -0.07  0.10 -0.31  0.23 -0.08  0.05  ...  0.42   \n",
       "1 -0.66  0.48  0.35 -0.66  0.05 -0.51 -0.08 -0.17 -0.23  0.57  ...  0.54   \n",
       "\n",
       "    215   216   217   218   219   220   221   222   223  \n",
       "0  0.34  0.01 -0.04 -0.01  0.05  0.16 -0.01 -0.13 -0.44  \n",
       "1 -0.02 -0.72  0.23 -0.32 -0.14  0.51  0.51 -0.26 -0.42  \n",
       "\n",
       "[2 rows x 224 columns]"
      ]
     },
     "metadata": {},
     "output_type": "display_data"
    },
    {
     "name": "stdout",
     "output_type": "stream",
     "text": [
      "R2 Score Valence: 0.29\n"
     ]
    }
   ],
   "source": [
    "df_v = df_v.round(2)\n",
    "\n",
    "display(df_v.head())\n",
    "print(\"R2 Score Valence: %0.2f\" % r2_v)"
   ]
  },
  {
   "cell_type": "markdown",
   "metadata": {},
   "source": [
    "REGRESSION"
   ]
  },
  {
   "cell_type": "code",
   "execution_count": 13,
   "metadata": {
    "collapsed": true
   },
   "outputs": [],
   "source": [
    "# scores_a = crosval(gpr_a,data,scaled_ar) #Arousal Regression\n",
    "# scores_v = crosval(gpr_v,data,scaled_val) #Arousal Regression"
   ]
  },
  {
   "cell_type": "markdown",
   "metadata": {
    "collapsed": true
   },
   "source": [
    "AROUSAL"
   ]
  },
  {
   "cell_type": "code",
   "execution_count": 14,
   "metadata": {
    "collapsed": true
   },
   "outputs": [],
   "source": [
    "# print(\"R2 Score Valence:\\t\",scores_a)\n",
    "# print(\"R2 Score Valence:\\t%0.2f (+/- %0.2f)\" % (scores_a.mean(), scores_a.std() ))"
   ]
  },
  {
   "cell_type": "markdown",
   "metadata": {
    "collapsed": true
   },
   "source": [
    "VALENCE"
   ]
  },
  {
   "cell_type": "code",
   "execution_count": 15,
   "metadata": {
    "collapsed": true
   },
   "outputs": [],
   "source": [
    "# print(\"R2 Score Valence:\\t\",scores_v)\n",
    "# print(\"R2 Score Valence:\\t%0.2f (+/- %0.2f)\" % (scores_v.mean(), scores_v.std() ))"
   ]
  },
  {
   "cell_type": "code",
   "execution_count": 16,
   "metadata": {
    "collapsed": true
   },
   "outputs": [],
   "source": [
    "save_predict(df_a.round(2),df_v.round(2),datafitur)\n",
    "save_model(trained_a,datafitur,'arousal/') #save model Arousal\n",
    "save_model(trained_v,datafitur,'valence/') #save model Valence"
   ]
  },
  {
   "cell_type": "markdown",
   "metadata": {},
   "source": [
    "# CASE 2"
   ]
  },
  {
   "cell_type": "code",
   "execution_count": 17,
   "metadata": {},
   "outputs": [
    {
     "name": "stdout",
     "output_type": "stream",
     "text": [
      "(744, 8)\n"
     ]
    }
   ],
   "source": [
    "datafitur = \"case2\" #CASE 2\n",
    "\n",
    "data,arousal_mean,valence_mean = load(datafitur) #Load\n",
    "print(data.shape)\n",
    "\n",
    "scaled_ar = minmax_scale(arousal_mean.values,feature_range=(-1, 1))\n",
    "scaled_val = minmax_scale(valence_mean.values,feature_range=(-1, 1))\n",
    "\n",
    "train_data_a, test_data_a, train_values_a, test_values_a = split(data,scaled_ar) #split arousal\n",
    "train_data_v, test_data_v, train_values_v, test_values_v = split(data,scaled_val) #split valence"
   ]
  },
  {
   "cell_type": "markdown",
   "metadata": {},
   "source": [
    "INITIAL MODEL"
   ]
  },
  {
   "cell_type": "code",
   "execution_count": 18,
   "metadata": {
    "collapsed": true
   },
   "outputs": [],
   "source": [
    "gpr_a = GPR(kernel=kernels, alpha=1e-10, \n",
    "                    optimizer='fmin_l_bfgs_b', \n",
    "                    n_restarts_optimizer=10, \n",
    "                    normalize_y=True,\n",
    "                    random_state=1000) #init Valence\n",
    "\n",
    "gpr_v = GPR(kernel=kernels, alpha=1e-10, \n",
    "                    optimizer='fmin_l_bfgs_b', \n",
    "                    n_restarts_optimizer=10, \n",
    "                    normalize_y=True,\n",
    "                    random_state=1000) #init Valence"
   ]
  },
  {
   "cell_type": "code",
   "execution_count": 19,
   "metadata": {},
   "outputs": [
    {
     "name": "stdout",
     "output_type": "stream",
     "text": [
      "arousal:\t 1**2 * RationalQuadratic(alpha=1, length_scale=1)\n",
      "valence:\t 1**2 * RationalQuadratic(alpha=1, length_scale=1)\n"
     ]
    }
   ],
   "source": [
    "print(\"arousal:\\t\",gpr_a.kernel)\n",
    "print(\"valence:\\t\",gpr_v.kernel)"
   ]
  },
  {
   "cell_type": "markdown",
   "metadata": {},
   "source": [
    "TRAIN"
   ]
  },
  {
   "cell_type": "code",
   "execution_count": 20,
   "metadata": {
    "collapsed": true
   },
   "outputs": [],
   "source": [
    "trained_a = training(train_data_a,train_values_a,gpr_a)\n",
    "trained_v = training(train_data_v,train_values_v,gpr_v)"
   ]
  },
  {
   "cell_type": "markdown",
   "metadata": {},
   "source": [
    "PREDICT"
   ]
  },
  {
   "cell_type": "code",
   "execution_count": 21,
   "metadata": {
    "collapsed": true
   },
   "outputs": [],
   "source": [
    "# #Predict Arousal\n",
    "pred_a,df_a = predict(test_data_a, test_values_a, trained_a)\n",
    "# #Predict Valence\n",
    "pred_v,df_v = predict(test_data_v, test_values_v, trained_v)\n",
    "\n",
    "r2_a = score(pred_a,test_values_a) #Score Arousal\n",
    "r2_v = score(pred_v,test_values_v) #Score Valence"
   ]
  },
  {
   "cell_type": "markdown",
   "metadata": {},
   "source": [
    "SET PARAM"
   ]
  },
  {
   "cell_type": "code",
   "execution_count": 22,
   "metadata": {},
   "outputs": [
    {
     "name": "stdout",
     "output_type": "stream",
     "text": [
      "arousal:\t 0.804**2 * RationalQuadratic(alpha=0.0193, length_scale=0.123)\n",
      "valence:\t 0.67**2 * RationalQuadratic(alpha=0.0301, length_scale=0.0858)\n"
     ]
    }
   ],
   "source": [
    "trained_a.set_params(kernel=trained_a.kernel_)\n",
    "trained_v.set_params(kernel=trained_v.kernel_)\n",
    "\n",
    "print(\"arousal:\\t\",trained_a.kernel)\n",
    "print(\"valence:\\t\",trained_v.kernel)"
   ]
  },
  {
   "cell_type": "markdown",
   "metadata": {},
   "source": [
    "AROUSAL"
   ]
  },
  {
   "cell_type": "code",
   "execution_count": 23,
   "metadata": {},
   "outputs": [
    {
     "data": {
      "text/html": [
       "<div>\n",
       "<style scoped>\n",
       "    .dataframe tbody tr th:only-of-type {\n",
       "        vertical-align: middle;\n",
       "    }\n",
       "\n",
       "    .dataframe tbody tr th {\n",
       "        vertical-align: top;\n",
       "    }\n",
       "\n",
       "    .dataframe thead th {\n",
       "        text-align: right;\n",
       "    }\n",
       "</style>\n",
       "<table border=\"1\" class=\"dataframe\">\n",
       "  <thead>\n",
       "    <tr style=\"text-align: right;\">\n",
       "      <th></th>\n",
       "      <th>0</th>\n",
       "      <th>1</th>\n",
       "      <th>2</th>\n",
       "      <th>3</th>\n",
       "      <th>4</th>\n",
       "      <th>5</th>\n",
       "      <th>6</th>\n",
       "      <th>7</th>\n",
       "      <th>8</th>\n",
       "      <th>9</th>\n",
       "      <th>...</th>\n",
       "      <th>214</th>\n",
       "      <th>215</th>\n",
       "      <th>216</th>\n",
       "      <th>217</th>\n",
       "      <th>218</th>\n",
       "      <th>219</th>\n",
       "      <th>220</th>\n",
       "      <th>221</th>\n",
       "      <th>222</th>\n",
       "      <th>223</th>\n",
       "    </tr>\n",
       "  </thead>\n",
       "  <tbody>\n",
       "    <tr>\n",
       "      <th>0</th>\n",
       "      <td>0.09</td>\n",
       "      <td>-0.25</td>\n",
       "      <td>0.33</td>\n",
       "      <td>-0.45</td>\n",
       "      <td>-0.33</td>\n",
       "      <td>-0.23</td>\n",
       "      <td>-0.72</td>\n",
       "      <td>0.14</td>\n",
       "      <td>-0.23</td>\n",
       "      <td>0.07</td>\n",
       "      <td>...</td>\n",
       "      <td>0.36</td>\n",
       "      <td>0.05</td>\n",
       "      <td>-0.38</td>\n",
       "      <td>-0.17</td>\n",
       "      <td>0.23</td>\n",
       "      <td>-0.21</td>\n",
       "      <td>0.17</td>\n",
       "      <td>0.23</td>\n",
       "      <td>-0.4</td>\n",
       "      <td>-0.24</td>\n",
       "    </tr>\n",
       "    <tr>\n",
       "      <th>1</th>\n",
       "      <td>0.35</td>\n",
       "      <td>0.26</td>\n",
       "      <td>0.41</td>\n",
       "      <td>-0.56</td>\n",
       "      <td>-0.44</td>\n",
       "      <td>-0.41</td>\n",
       "      <td>-0.59</td>\n",
       "      <td>0.24</td>\n",
       "      <td>-0.41</td>\n",
       "      <td>0.35</td>\n",
       "      <td>...</td>\n",
       "      <td>0.59</td>\n",
       "      <td>-0.00</td>\n",
       "      <td>-0.38</td>\n",
       "      <td>0.24</td>\n",
       "      <td>-0.09</td>\n",
       "      <td>-0.03</td>\n",
       "      <td>-0.06</td>\n",
       "      <td>0.38</td>\n",
       "      <td>-0.5</td>\n",
       "      <td>-0.82</td>\n",
       "    </tr>\n",
       "  </tbody>\n",
       "</table>\n",
       "<p>2 rows × 224 columns</p>\n",
       "</div>"
      ],
      "text/plain": [
       "    0     1     2     3     4     5     6     7     8     9    ...   214  \\\n",
       "0  0.09 -0.25  0.33 -0.45 -0.33 -0.23 -0.72  0.14 -0.23  0.07  ...  0.36   \n",
       "1  0.35  0.26  0.41 -0.56 -0.44 -0.41 -0.59  0.24 -0.41  0.35  ...  0.59   \n",
       "\n",
       "    215   216   217   218   219   220   221  222   223  \n",
       "0  0.05 -0.38 -0.17  0.23 -0.21  0.17  0.23 -0.4 -0.24  \n",
       "1 -0.00 -0.38  0.24 -0.09 -0.03 -0.06  0.38 -0.5 -0.82  \n",
       "\n",
       "[2 rows x 224 columns]"
      ]
     },
     "metadata": {},
     "output_type": "display_data"
    },
    {
     "name": "stdout",
     "output_type": "stream",
     "text": [
      "R2 Score Arousal:\t0.55\n"
     ]
    }
   ],
   "source": [
    "df_a = df_a.round(2)\n",
    "\n",
    "display(df_a.head())\n",
    "print(\"R2 Score Arousal:\\t%0.2f\" % r2_a)"
   ]
  },
  {
   "cell_type": "markdown",
   "metadata": {},
   "source": [
    "VALENCE"
   ]
  },
  {
   "cell_type": "code",
   "execution_count": 24,
   "metadata": {},
   "outputs": [
    {
     "data": {
      "text/html": [
       "<div>\n",
       "<style scoped>\n",
       "    .dataframe tbody tr th:only-of-type {\n",
       "        vertical-align: middle;\n",
       "    }\n",
       "\n",
       "    .dataframe tbody tr th {\n",
       "        vertical-align: top;\n",
       "    }\n",
       "\n",
       "    .dataframe thead th {\n",
       "        text-align: right;\n",
       "    }\n",
       "</style>\n",
       "<table border=\"1\" class=\"dataframe\">\n",
       "  <thead>\n",
       "    <tr style=\"text-align: right;\">\n",
       "      <th></th>\n",
       "      <th>0</th>\n",
       "      <th>1</th>\n",
       "      <th>2</th>\n",
       "      <th>3</th>\n",
       "      <th>4</th>\n",
       "      <th>5</th>\n",
       "      <th>6</th>\n",
       "      <th>7</th>\n",
       "      <th>8</th>\n",
       "      <th>9</th>\n",
       "      <th>...</th>\n",
       "      <th>214</th>\n",
       "      <th>215</th>\n",
       "      <th>216</th>\n",
       "      <th>217</th>\n",
       "      <th>218</th>\n",
       "      <th>219</th>\n",
       "      <th>220</th>\n",
       "      <th>221</th>\n",
       "      <th>222</th>\n",
       "      <th>223</th>\n",
       "    </tr>\n",
       "  </thead>\n",
       "  <tbody>\n",
       "    <tr>\n",
       "      <th>0</th>\n",
       "      <td>0.19</td>\n",
       "      <td>-0.14</td>\n",
       "      <td>0.31</td>\n",
       "      <td>-0.35</td>\n",
       "      <td>-0.05</td>\n",
       "      <td>-0.01</td>\n",
       "      <td>-0.34</td>\n",
       "      <td>0.26</td>\n",
       "      <td>0.20</td>\n",
       "      <td>0.21</td>\n",
       "      <td>...</td>\n",
       "      <td>0.36</td>\n",
       "      <td>0.41</td>\n",
       "      <td>-0.37</td>\n",
       "      <td>-0.06</td>\n",
       "      <td>0.21</td>\n",
       "      <td>0.10</td>\n",
       "      <td>0.18</td>\n",
       "      <td>0.18</td>\n",
       "      <td>-0.36</td>\n",
       "      <td>0.09</td>\n",
       "    </tr>\n",
       "    <tr>\n",
       "      <th>1</th>\n",
       "      <td>-0.66</td>\n",
       "      <td>0.48</td>\n",
       "      <td>0.35</td>\n",
       "      <td>-0.66</td>\n",
       "      <td>0.05</td>\n",
       "      <td>-0.51</td>\n",
       "      <td>-0.08</td>\n",
       "      <td>-0.17</td>\n",
       "      <td>-0.23</td>\n",
       "      <td>0.57</td>\n",
       "      <td>...</td>\n",
       "      <td>0.54</td>\n",
       "      <td>-0.02</td>\n",
       "      <td>-0.72</td>\n",
       "      <td>0.23</td>\n",
       "      <td>-0.32</td>\n",
       "      <td>-0.14</td>\n",
       "      <td>0.51</td>\n",
       "      <td>0.51</td>\n",
       "      <td>-0.26</td>\n",
       "      <td>-0.42</td>\n",
       "    </tr>\n",
       "  </tbody>\n",
       "</table>\n",
       "<p>2 rows × 224 columns</p>\n",
       "</div>"
      ],
      "text/plain": [
       "    0     1     2     3     4     5     6     7     8     9    ...   214  \\\n",
       "0  0.19 -0.14  0.31 -0.35 -0.05 -0.01 -0.34  0.26  0.20  0.21  ...  0.36   \n",
       "1 -0.66  0.48  0.35 -0.66  0.05 -0.51 -0.08 -0.17 -0.23  0.57  ...  0.54   \n",
       "\n",
       "    215   216   217   218   219   220   221   222   223  \n",
       "0  0.41 -0.37 -0.06  0.21  0.10  0.18  0.18 -0.36  0.09  \n",
       "1 -0.02 -0.72  0.23 -0.32 -0.14  0.51  0.51 -0.26 -0.42  \n",
       "\n",
       "[2 rows x 224 columns]"
      ]
     },
     "metadata": {},
     "output_type": "display_data"
    },
    {
     "name": "stdout",
     "output_type": "stream",
     "text": [
      "R2 Score Valence:\t0.30\n"
     ]
    }
   ],
   "source": [
    "df_v = df_v.round(2)\n",
    "\n",
    "display(df_v.head())\n",
    "print(\"R2 Score Valence:\\t%0.2f\" % r2_v)"
   ]
  },
  {
   "cell_type": "markdown",
   "metadata": {},
   "source": [
    "REGRESSION"
   ]
  },
  {
   "cell_type": "code",
   "execution_count": 25,
   "metadata": {
    "collapsed": true
   },
   "outputs": [],
   "source": [
    "# scores_a = crosval(gpr_a,data,scaled_ar) #Arousal Regression\n",
    "# scores_v = crosval(gpr_v,data,scaled_val) #Arousal Regression"
   ]
  },
  {
   "cell_type": "markdown",
   "metadata": {},
   "source": [
    "AROUSAL"
   ]
  },
  {
   "cell_type": "code",
   "execution_count": 26,
   "metadata": {
    "collapsed": true
   },
   "outputs": [],
   "source": [
    "# print(\"R2 Score Valence:\\t\",scores_a)\n",
    "# print(\"R2 Score Valence:\\t%0.2f (+/- %0.2f)\" % (scores_a.mean(), scores_a.std() ))"
   ]
  },
  {
   "cell_type": "markdown",
   "metadata": {},
   "source": [
    "VALENCE"
   ]
  },
  {
   "cell_type": "code",
   "execution_count": 27,
   "metadata": {
    "collapsed": true
   },
   "outputs": [],
   "source": [
    "# print(\"R2 Score Valence:\\t\",scores_v)\n",
    "# print(\"R2 Score Valence:\\t%0.2f (+/- %0.2f)\" % (scores_v.mean(), scores_v.std() ))"
   ]
  },
  {
   "cell_type": "code",
   "execution_count": 28,
   "metadata": {
    "collapsed": true
   },
   "outputs": [],
   "source": [
    "save_predict(df_a.round(2),df_v.round(2),datafitur)\n",
    "save_model(trained_a,datafitur,'arousal/') #save model Arousal\n",
    "save_model(trained_v,datafitur,'valence/') #save model Valence"
   ]
  },
  {
   "cell_type": "markdown",
   "metadata": {},
   "source": [
    "# CASE 3"
   ]
  },
  {
   "cell_type": "code",
   "execution_count": 29,
   "metadata": {},
   "outputs": [
    {
     "name": "stdout",
     "output_type": "stream",
     "text": [
      "(744, 3)\n"
     ]
    }
   ],
   "source": [
    "datafitur =  \"case3\" #CASE 3\n",
    "data,arousal_mean,valence_mean = load(datafitur) #Load\n",
    "print(data.shape)\n",
    "\n",
    "scaled_ar = minmax_scale(arousal_mean.values,feature_range=(-1, 1))\n",
    "scaled_val = minmax_scale(valence_mean.values,feature_range=(-1, 1))\n",
    "\n",
    "train_data_a, test_data_a, train_values_a, test_values_a = split(data,scaled_ar) #split arousal\n",
    "train_data_v, test_data_v, train_values_v, test_values_v = split(data,scaled_val) #split valence"
   ]
  },
  {
   "cell_type": "markdown",
   "metadata": {},
   "source": [
    "INITAL MODEL"
   ]
  },
  {
   "cell_type": "code",
   "execution_count": 30,
   "metadata": {
    "collapsed": true
   },
   "outputs": [],
   "source": [
    "gpr_a = GPR(kernel=kernels, alpha=1e-10, \n",
    "                    optimizer='fmin_l_bfgs_b', \n",
    "                    n_restarts_optimizer=10, \n",
    "                    normalize_y=True,  \n",
    "                    random_state=1000) #init Arousal\n",
    "\n",
    "gpr_v = GPR(kernel=kernels, alpha=1e-10, \n",
    "                    optimizer='fmin_l_bfgs_b', \n",
    "                    n_restarts_optimizer=10, \n",
    "                    normalize_y=True, \n",
    "                    random_state=1000) #init Valence"
   ]
  },
  {
   "cell_type": "code",
   "execution_count": 31,
   "metadata": {},
   "outputs": [
    {
     "name": "stdout",
     "output_type": "stream",
     "text": [
      "arousal:\t 1**2 * RationalQuadratic(alpha=1, length_scale=1)\n",
      "valence:\t 1**2 * RationalQuadratic(alpha=1, length_scale=1)\n"
     ]
    }
   ],
   "source": [
    "print(\"arousal:\\t\",gpr_a.kernel)\n",
    "print(\"valence:\\t\",gpr_v.kernel)"
   ]
  },
  {
   "cell_type": "markdown",
   "metadata": {},
   "source": [
    "TRAIN"
   ]
  },
  {
   "cell_type": "code",
   "execution_count": 32,
   "metadata": {
    "collapsed": true
   },
   "outputs": [],
   "source": [
    "trained_a = training(train_data_a,train_values_a,gpr_a)\n",
    "trained_v = training(train_data_v,train_values_v,gpr_v)"
   ]
  },
  {
   "cell_type": "markdown",
   "metadata": {},
   "source": [
    "PREDICT"
   ]
  },
  {
   "cell_type": "code",
   "execution_count": 33,
   "metadata": {
    "collapsed": true
   },
   "outputs": [],
   "source": [
    "# #Predict Arousal\n",
    "pred_a,df_a = predict(test_data_a, test_values_a, trained_a)\n",
    "# #Predict Valence\n",
    "pred_v,df_v = predict(test_data_v, test_values_v, trained_v)\n",
    "\n",
    "r2_a = score(pred_a,test_values_a) #Score Arousal\n",
    "r2_v = score(pred_v,test_values_v) #Score Valence"
   ]
  },
  {
   "cell_type": "markdown",
   "metadata": {},
   "source": [
    "SET PARAM"
   ]
  },
  {
   "cell_type": "code",
   "execution_count": 34,
   "metadata": {},
   "outputs": [
    {
     "name": "stdout",
     "output_type": "stream",
     "text": [
      "arousal:\t 0.881**2 * RationalQuadratic(alpha=0.0107, length_scale=0.00403)\n",
      "valence:\t 0.495**2 * RationalQuadratic(alpha=0.0336, length_scale=3.13e-05)\n"
     ]
    }
   ],
   "source": [
    "trained_a.set_params(kernel=trained_a.kernel_)\n",
    "trained_v.set_params(kernel=trained_v.kernel_)\n",
    "\n",
    "print(\"arousal:\\t\",trained_a.kernel)\n",
    "print(\"valence:\\t\",trained_v.kernel)"
   ]
  },
  {
   "cell_type": "markdown",
   "metadata": {},
   "source": [
    "AROUSAL"
   ]
  },
  {
   "cell_type": "code",
   "execution_count": 35,
   "metadata": {},
   "outputs": [
    {
     "data": {
      "text/html": [
       "<div>\n",
       "<style scoped>\n",
       "    .dataframe tbody tr th:only-of-type {\n",
       "        vertical-align: middle;\n",
       "    }\n",
       "\n",
       "    .dataframe tbody tr th {\n",
       "        vertical-align: top;\n",
       "    }\n",
       "\n",
       "    .dataframe thead th {\n",
       "        text-align: right;\n",
       "    }\n",
       "</style>\n",
       "<table border=\"1\" class=\"dataframe\">\n",
       "  <thead>\n",
       "    <tr style=\"text-align: right;\">\n",
       "      <th></th>\n",
       "      <th>0</th>\n",
       "      <th>1</th>\n",
       "      <th>2</th>\n",
       "      <th>3</th>\n",
       "      <th>4</th>\n",
       "      <th>5</th>\n",
       "      <th>6</th>\n",
       "      <th>7</th>\n",
       "      <th>8</th>\n",
       "      <th>9</th>\n",
       "      <th>...</th>\n",
       "      <th>214</th>\n",
       "      <th>215</th>\n",
       "      <th>216</th>\n",
       "      <th>217</th>\n",
       "      <th>218</th>\n",
       "      <th>219</th>\n",
       "      <th>220</th>\n",
       "      <th>221</th>\n",
       "      <th>222</th>\n",
       "      <th>223</th>\n",
       "    </tr>\n",
       "  </thead>\n",
       "  <tbody>\n",
       "    <tr>\n",
       "      <th>0</th>\n",
       "      <td>0.03</td>\n",
       "      <td>0.02</td>\n",
       "      <td>0.42</td>\n",
       "      <td>-0.37</td>\n",
       "      <td>-0.01</td>\n",
       "      <td>-0.17</td>\n",
       "      <td>-0.40</td>\n",
       "      <td>0.23</td>\n",
       "      <td>-0.36</td>\n",
       "      <td>-0.13</td>\n",
       "      <td>...</td>\n",
       "      <td>0.42</td>\n",
       "      <td>0.23</td>\n",
       "      <td>-0.34</td>\n",
       "      <td>-0.26</td>\n",
       "      <td>0.01</td>\n",
       "      <td>0.00</td>\n",
       "      <td>0.26</td>\n",
       "      <td>0.32</td>\n",
       "      <td>-0.46</td>\n",
       "      <td>-0.49</td>\n",
       "    </tr>\n",
       "    <tr>\n",
       "      <th>1</th>\n",
       "      <td>0.35</td>\n",
       "      <td>0.26</td>\n",
       "      <td>0.41</td>\n",
       "      <td>-0.56</td>\n",
       "      <td>-0.44</td>\n",
       "      <td>-0.41</td>\n",
       "      <td>-0.59</td>\n",
       "      <td>0.24</td>\n",
       "      <td>-0.41</td>\n",
       "      <td>0.35</td>\n",
       "      <td>...</td>\n",
       "      <td>0.59</td>\n",
       "      <td>-0.00</td>\n",
       "      <td>-0.38</td>\n",
       "      <td>0.24</td>\n",
       "      <td>-0.09</td>\n",
       "      <td>-0.03</td>\n",
       "      <td>-0.06</td>\n",
       "      <td>0.38</td>\n",
       "      <td>-0.50</td>\n",
       "      <td>-0.82</td>\n",
       "    </tr>\n",
       "  </tbody>\n",
       "</table>\n",
       "<p>2 rows × 224 columns</p>\n",
       "</div>"
      ],
      "text/plain": [
       "    0     1     2     3     4     5     6     7     8     9    ...   214  \\\n",
       "0  0.03  0.02  0.42 -0.37 -0.01 -0.17 -0.40  0.23 -0.36 -0.13  ...  0.42   \n",
       "1  0.35  0.26  0.41 -0.56 -0.44 -0.41 -0.59  0.24 -0.41  0.35  ...  0.59   \n",
       "\n",
       "    215   216   217   218   219   220   221   222   223  \n",
       "0  0.23 -0.34 -0.26  0.01  0.00  0.26  0.32 -0.46 -0.49  \n",
       "1 -0.00 -0.38  0.24 -0.09 -0.03 -0.06  0.38 -0.50 -0.82  \n",
       "\n",
       "[2 rows x 224 columns]"
      ]
     },
     "metadata": {},
     "output_type": "display_data"
    },
    {
     "name": "stdout",
     "output_type": "stream",
     "text": [
      "R2 Score Arousal:\t0.48\n"
     ]
    }
   ],
   "source": [
    "df_a = df_a.round(2)\n",
    "\n",
    "display(df_a.head())\n",
    "print(\"R2 Score Arousal:\\t%0.2f\" % r2_a)"
   ]
  },
  {
   "cell_type": "markdown",
   "metadata": {},
   "source": [
    "VALENCE"
   ]
  },
  {
   "cell_type": "code",
   "execution_count": 36,
   "metadata": {},
   "outputs": [
    {
     "data": {
      "text/html": [
       "<div>\n",
       "<style scoped>\n",
       "    .dataframe tbody tr th:only-of-type {\n",
       "        vertical-align: middle;\n",
       "    }\n",
       "\n",
       "    .dataframe tbody tr th {\n",
       "        vertical-align: top;\n",
       "    }\n",
       "\n",
       "    .dataframe thead th {\n",
       "        text-align: right;\n",
       "    }\n",
       "</style>\n",
       "<table border=\"1\" class=\"dataframe\">\n",
       "  <thead>\n",
       "    <tr style=\"text-align: right;\">\n",
       "      <th></th>\n",
       "      <th>0</th>\n",
       "      <th>1</th>\n",
       "      <th>2</th>\n",
       "      <th>3</th>\n",
       "      <th>4</th>\n",
       "      <th>5</th>\n",
       "      <th>6</th>\n",
       "      <th>7</th>\n",
       "      <th>8</th>\n",
       "      <th>9</th>\n",
       "      <th>...</th>\n",
       "      <th>214</th>\n",
       "      <th>215</th>\n",
       "      <th>216</th>\n",
       "      <th>217</th>\n",
       "      <th>218</th>\n",
       "      <th>219</th>\n",
       "      <th>220</th>\n",
       "      <th>221</th>\n",
       "      <th>222</th>\n",
       "      <th>223</th>\n",
       "    </tr>\n",
       "  </thead>\n",
       "  <tbody>\n",
       "    <tr>\n",
       "      <th>0</th>\n",
       "      <td>0.15</td>\n",
       "      <td>0.19</td>\n",
       "      <td>0.23</td>\n",
       "      <td>-0.18</td>\n",
       "      <td>0.00</td>\n",
       "      <td>0.07</td>\n",
       "      <td>-0.13</td>\n",
       "      <td>0.23</td>\n",
       "      <td>-0.18</td>\n",
       "      <td>0.13</td>\n",
       "      <td>...</td>\n",
       "      <td>0.23</td>\n",
       "      <td>0.23</td>\n",
       "      <td>-0.06</td>\n",
       "      <td>0.01</td>\n",
       "      <td>0.04</td>\n",
       "      <td>0.02</td>\n",
       "      <td>0.17</td>\n",
       "      <td>0.20</td>\n",
       "      <td>-0.20</td>\n",
       "      <td>-0.13</td>\n",
       "    </tr>\n",
       "    <tr>\n",
       "      <th>1</th>\n",
       "      <td>-0.66</td>\n",
       "      <td>0.48</td>\n",
       "      <td>0.35</td>\n",
       "      <td>-0.66</td>\n",
       "      <td>0.05</td>\n",
       "      <td>-0.51</td>\n",
       "      <td>-0.08</td>\n",
       "      <td>-0.17</td>\n",
       "      <td>-0.23</td>\n",
       "      <td>0.57</td>\n",
       "      <td>...</td>\n",
       "      <td>0.54</td>\n",
       "      <td>-0.02</td>\n",
       "      <td>-0.72</td>\n",
       "      <td>0.23</td>\n",
       "      <td>-0.32</td>\n",
       "      <td>-0.14</td>\n",
       "      <td>0.51</td>\n",
       "      <td>0.51</td>\n",
       "      <td>-0.26</td>\n",
       "      <td>-0.42</td>\n",
       "    </tr>\n",
       "  </tbody>\n",
       "</table>\n",
       "<p>2 rows × 224 columns</p>\n",
       "</div>"
      ],
      "text/plain": [
       "    0     1     2     3     4     5     6     7     8     9    ...   214  \\\n",
       "0  0.15  0.19  0.23 -0.18  0.00  0.07 -0.13  0.23 -0.18  0.13  ...  0.23   \n",
       "1 -0.66  0.48  0.35 -0.66  0.05 -0.51 -0.08 -0.17 -0.23  0.57  ...  0.54   \n",
       "\n",
       "    215   216   217   218   219   220   221   222   223  \n",
       "0  0.23 -0.06  0.01  0.04  0.02  0.17  0.20 -0.20 -0.13  \n",
       "1 -0.02 -0.72  0.23 -0.32 -0.14  0.51  0.51 -0.26 -0.42  \n",
       "\n",
       "[2 rows x 224 columns]"
      ]
     },
     "metadata": {},
     "output_type": "display_data"
    },
    {
     "name": "stdout",
     "output_type": "stream",
     "text": [
      "R2 Score Valence:\t0.18\n"
     ]
    }
   ],
   "source": [
    "df_v = df_v.round(2)\n",
    "\n",
    "display(df_v.head())\n",
    "print(\"R2 Score Valence:\\t%0.2f\" % r2_v)"
   ]
  },
  {
   "cell_type": "markdown",
   "metadata": {},
   "source": [
    "REGRESSION"
   ]
  },
  {
   "cell_type": "code",
   "execution_count": 37,
   "metadata": {
    "collapsed": true
   },
   "outputs": [],
   "source": [
    "# scores_a = crosval(gpr_a,data,scaled_ar) #Arousal Regression\n",
    "# scores_v = crosval(gpr_v,data,scaled_val) #Arousal Regression"
   ]
  },
  {
   "cell_type": "markdown",
   "metadata": {},
   "source": [
    "AROUSAL"
   ]
  },
  {
   "cell_type": "code",
   "execution_count": 38,
   "metadata": {
    "collapsed": true
   },
   "outputs": [],
   "source": [
    "# print(\"R2 Score Valence:\\t\",scores_a)\n",
    "# print(\"R2 Score Valence:\\t%0.2f (+/- %0.2f)\" % (scores_a.mean(), scores_a.std() ))"
   ]
  },
  {
   "cell_type": "markdown",
   "metadata": {},
   "source": [
    "VALENCE"
   ]
  },
  {
   "cell_type": "code",
   "execution_count": 39,
   "metadata": {
    "collapsed": true
   },
   "outputs": [],
   "source": [
    "# print(\"R2 Score Valence:\\t\",scores_v)\n",
    "# print(\"R2 Score Valence:\\t%0.2f (+/- %0.2f)\" % (scores_v.mean(), scores_v.std() ))"
   ]
  },
  {
   "cell_type": "code",
   "execution_count": 40,
   "metadata": {
    "collapsed": true
   },
   "outputs": [],
   "source": [
    "save_predict(df_a,df_v,datafitur)\n",
    "save_model(trained_a,datafitur,'arousal/') #save model Arousal\n",
    "save_model(trained_v,datafitur,'valence/') #save model Valence"
   ]
  },
  {
   "cell_type": "markdown",
   "metadata": {},
   "source": [
    "# CASE 4"
   ]
  },
  {
   "cell_type": "code",
   "execution_count": 41,
   "metadata": {},
   "outputs": [
    {
     "name": "stdout",
     "output_type": "stream",
     "text": [
      "(744, 24)\n"
     ]
    }
   ],
   "source": [
    "datafitur =  \"case4\" #CASE 3\n",
    "data,arousal_mean,valence_mean = load(datafitur) #Load\n",
    "print(data.shape)\n",
    "\n",
    "scaled_ar = minmax_scale(arousal_mean.values,feature_range=(-1, 1))\n",
    "scaled_val = minmax_scale(valence_mean.values,feature_range=(-1, 1))\n",
    "\n",
    "train_data_a, test_data_a, train_values_a, test_values_a = split(data,scaled_ar) #split arousal\n",
    "train_data_v, test_data_v, train_values_v, test_values_v = split(data,scaled_val) #split valence"
   ]
  },
  {
   "cell_type": "markdown",
   "metadata": {},
   "source": [
    "INITIAL MODEL"
   ]
  },
  {
   "cell_type": "code",
   "execution_count": 42,
   "metadata": {
    "collapsed": true
   },
   "outputs": [],
   "source": [
    "gpr_a = GPR(kernel=kernels, alpha=1e-10, \n",
    "                    optimizer='fmin_l_bfgs_b', \n",
    "                    n_restarts_optimizer=10, \n",
    "                    normalize_y=True,  \n",
    "                    random_state=1000) #init Arousal\n",
    "\n",
    "gpr_v = GPR(kernel=kernels, alpha=1e-10, \n",
    "                    optimizer='fmin_l_bfgs_b', \n",
    "                    n_restarts_optimizer=10, \n",
    "                    normalize_y=True,  \n",
    "                    random_state=1000) #init Valence"
   ]
  },
  {
   "cell_type": "code",
   "execution_count": 43,
   "metadata": {},
   "outputs": [
    {
     "name": "stdout",
     "output_type": "stream",
     "text": [
      "arousal:\t 1**2 * RationalQuadratic(alpha=1, length_scale=1)\n",
      "valence:\t 1**2 * RationalQuadratic(alpha=1, length_scale=1)\n"
     ]
    }
   ],
   "source": [
    "print(\"arousal:\\t\",gpr_a.kernel)\n",
    "print(\"valence:\\t\",gpr_v.kernel)"
   ]
  },
  {
   "cell_type": "markdown",
   "metadata": {},
   "source": [
    "TRAIN"
   ]
  },
  {
   "cell_type": "code",
   "execution_count": 44,
   "metadata": {
    "collapsed": true
   },
   "outputs": [],
   "source": [
    "trained_a = training(train_data_a,train_values_a,gpr_a)\n",
    "trained_v = training(train_data_v,train_values_v,gpr_v)"
   ]
  },
  {
   "cell_type": "markdown",
   "metadata": {},
   "source": [
    "PREDICT"
   ]
  },
  {
   "cell_type": "code",
   "execution_count": 45,
   "metadata": {
    "collapsed": true
   },
   "outputs": [],
   "source": [
    "# #Predict Arousal\n",
    "pred_a,df_a = predict(test_data_a, test_values_a, trained_a)\n",
    "# #Predict Valence\n",
    "pred_v,df_v = predict(test_data_v, test_values_v, trained_v)\n",
    "\n",
    "r2_a = score(pred_a,test_values_a) #Score Arousal\n",
    "r2_v = score(pred_v,test_values_v) #Score Valence"
   ]
  },
  {
   "cell_type": "markdown",
   "metadata": {},
   "source": [
    "SET PARAM"
   ]
  },
  {
   "cell_type": "code",
   "execution_count": 46,
   "metadata": {},
   "outputs": [
    {
     "name": "stdout",
     "output_type": "stream",
     "text": [
      "arousal:\t 0.688**2 * RationalQuadratic(alpha=0.051, length_scale=0.858)\n",
      "valence:\t 0.407**2 * RationalQuadratic(alpha=0.451, length_scale=0.681)\n"
     ]
    }
   ],
   "source": [
    "trained_a.set_params(kernel=trained_a.kernel_)\n",
    "trained_v.set_params(kernel=trained_v.kernel_)\n",
    "\n",
    "print(\"arousal:\\t\",trained_a.kernel)\n",
    "print(\"valence:\\t\",trained_v.kernel)"
   ]
  },
  {
   "cell_type": "markdown",
   "metadata": {},
   "source": [
    "AROUSAL"
   ]
  },
  {
   "cell_type": "code",
   "execution_count": 47,
   "metadata": {
    "scrolled": true
   },
   "outputs": [
    {
     "data": {
      "text/html": [
       "<div>\n",
       "<style scoped>\n",
       "    .dataframe tbody tr th:only-of-type {\n",
       "        vertical-align: middle;\n",
       "    }\n",
       "\n",
       "    .dataframe tbody tr th {\n",
       "        vertical-align: top;\n",
       "    }\n",
       "\n",
       "    .dataframe thead th {\n",
       "        text-align: right;\n",
       "    }\n",
       "</style>\n",
       "<table border=\"1\" class=\"dataframe\">\n",
       "  <thead>\n",
       "    <tr style=\"text-align: right;\">\n",
       "      <th></th>\n",
       "      <th>0</th>\n",
       "      <th>1</th>\n",
       "      <th>2</th>\n",
       "      <th>3</th>\n",
       "      <th>4</th>\n",
       "      <th>5</th>\n",
       "      <th>6</th>\n",
       "      <th>7</th>\n",
       "      <th>8</th>\n",
       "      <th>9</th>\n",
       "      <th>...</th>\n",
       "      <th>214</th>\n",
       "      <th>215</th>\n",
       "      <th>216</th>\n",
       "      <th>217</th>\n",
       "      <th>218</th>\n",
       "      <th>219</th>\n",
       "      <th>220</th>\n",
       "      <th>221</th>\n",
       "      <th>222</th>\n",
       "      <th>223</th>\n",
       "    </tr>\n",
       "  </thead>\n",
       "  <tbody>\n",
       "    <tr>\n",
       "      <th>0</th>\n",
       "      <td>-0.17</td>\n",
       "      <td>0.02</td>\n",
       "      <td>0.03</td>\n",
       "      <td>-0.30</td>\n",
       "      <td>-0.23</td>\n",
       "      <td>0.05</td>\n",
       "      <td>-0.28</td>\n",
       "      <td>0.13</td>\n",
       "      <td>-0.41</td>\n",
       "      <td>-0.20</td>\n",
       "      <td>...</td>\n",
       "      <td>0.15</td>\n",
       "      <td>0.24</td>\n",
       "      <td>0.08</td>\n",
       "      <td>-0.22</td>\n",
       "      <td>0.20</td>\n",
       "      <td>0.16</td>\n",
       "      <td>0.19</td>\n",
       "      <td>0.27</td>\n",
       "      <td>-0.43</td>\n",
       "      <td>-0.15</td>\n",
       "    </tr>\n",
       "    <tr>\n",
       "      <th>1</th>\n",
       "      <td>0.35</td>\n",
       "      <td>0.26</td>\n",
       "      <td>0.41</td>\n",
       "      <td>-0.56</td>\n",
       "      <td>-0.44</td>\n",
       "      <td>-0.41</td>\n",
       "      <td>-0.59</td>\n",
       "      <td>0.24</td>\n",
       "      <td>-0.41</td>\n",
       "      <td>0.35</td>\n",
       "      <td>...</td>\n",
       "      <td>0.59</td>\n",
       "      <td>-0.00</td>\n",
       "      <td>-0.38</td>\n",
       "      <td>0.24</td>\n",
       "      <td>-0.09</td>\n",
       "      <td>-0.03</td>\n",
       "      <td>-0.06</td>\n",
       "      <td>0.38</td>\n",
       "      <td>-0.50</td>\n",
       "      <td>-0.82</td>\n",
       "    </tr>\n",
       "  </tbody>\n",
       "</table>\n",
       "<p>2 rows × 224 columns</p>\n",
       "</div>"
      ],
      "text/plain": [
       "    0     1     2     3     4     5     6     7     8     9    ...   214  \\\n",
       "0 -0.17  0.02  0.03 -0.30 -0.23  0.05 -0.28  0.13 -0.41 -0.20  ...  0.15   \n",
       "1  0.35  0.26  0.41 -0.56 -0.44 -0.41 -0.59  0.24 -0.41  0.35  ...  0.59   \n",
       "\n",
       "    215   216   217   218   219   220   221   222   223  \n",
       "0  0.24  0.08 -0.22  0.20  0.16  0.19  0.27 -0.43 -0.15  \n",
       "1 -0.00 -0.38  0.24 -0.09 -0.03 -0.06  0.38 -0.50 -0.82  \n",
       "\n",
       "[2 rows x 224 columns]"
      ]
     },
     "metadata": {},
     "output_type": "display_data"
    },
    {
     "name": "stdout",
     "output_type": "stream",
     "text": [
      "R2 Score Arousal:\t0.30\n"
     ]
    }
   ],
   "source": [
    "df_a = df_a.round(2)\n",
    "\n",
    "display(df_a.head())\n",
    "print(\"R2 Score Arousal:\\t%0.2f\" % r2_a)"
   ]
  },
  {
   "cell_type": "markdown",
   "metadata": {},
   "source": [
    "VALENCE"
   ]
  },
  {
   "cell_type": "code",
   "execution_count": 48,
   "metadata": {},
   "outputs": [
    {
     "data": {
      "text/html": [
       "<div>\n",
       "<style scoped>\n",
       "    .dataframe tbody tr th:only-of-type {\n",
       "        vertical-align: middle;\n",
       "    }\n",
       "\n",
       "    .dataframe tbody tr th {\n",
       "        vertical-align: top;\n",
       "    }\n",
       "\n",
       "    .dataframe thead th {\n",
       "        text-align: right;\n",
       "    }\n",
       "</style>\n",
       "<table border=\"1\" class=\"dataframe\">\n",
       "  <thead>\n",
       "    <tr style=\"text-align: right;\">\n",
       "      <th></th>\n",
       "      <th>0</th>\n",
       "      <th>1</th>\n",
       "      <th>2</th>\n",
       "      <th>3</th>\n",
       "      <th>4</th>\n",
       "      <th>5</th>\n",
       "      <th>6</th>\n",
       "      <th>7</th>\n",
       "      <th>8</th>\n",
       "      <th>9</th>\n",
       "      <th>...</th>\n",
       "      <th>214</th>\n",
       "      <th>215</th>\n",
       "      <th>216</th>\n",
       "      <th>217</th>\n",
       "      <th>218</th>\n",
       "      <th>219</th>\n",
       "      <th>220</th>\n",
       "      <th>221</th>\n",
       "      <th>222</th>\n",
       "      <th>223</th>\n",
       "    </tr>\n",
       "  </thead>\n",
       "  <tbody>\n",
       "    <tr>\n",
       "      <th>0</th>\n",
       "      <td>-0.06</td>\n",
       "      <td>0.12</td>\n",
       "      <td>0.10</td>\n",
       "      <td>-0.02</td>\n",
       "      <td>0.09</td>\n",
       "      <td>0.19</td>\n",
       "      <td>-0.10</td>\n",
       "      <td>0.10</td>\n",
       "      <td>-0.09</td>\n",
       "      <td>0.03</td>\n",
       "      <td>...</td>\n",
       "      <td>0.04</td>\n",
       "      <td>-0.06</td>\n",
       "      <td>0.07</td>\n",
       "      <td>-0.11</td>\n",
       "      <td>0.10</td>\n",
       "      <td>0.10</td>\n",
       "      <td>0.09</td>\n",
       "      <td>0.10</td>\n",
       "      <td>-0.13</td>\n",
       "      <td>0.03</td>\n",
       "    </tr>\n",
       "    <tr>\n",
       "      <th>1</th>\n",
       "      <td>-0.66</td>\n",
       "      <td>0.48</td>\n",
       "      <td>0.35</td>\n",
       "      <td>-0.66</td>\n",
       "      <td>0.05</td>\n",
       "      <td>-0.51</td>\n",
       "      <td>-0.08</td>\n",
       "      <td>-0.17</td>\n",
       "      <td>-0.23</td>\n",
       "      <td>0.57</td>\n",
       "      <td>...</td>\n",
       "      <td>0.54</td>\n",
       "      <td>-0.02</td>\n",
       "      <td>-0.72</td>\n",
       "      <td>0.23</td>\n",
       "      <td>-0.32</td>\n",
       "      <td>-0.14</td>\n",
       "      <td>0.51</td>\n",
       "      <td>0.51</td>\n",
       "      <td>-0.26</td>\n",
       "      <td>-0.42</td>\n",
       "    </tr>\n",
       "  </tbody>\n",
       "</table>\n",
       "<p>2 rows × 224 columns</p>\n",
       "</div>"
      ],
      "text/plain": [
       "    0     1     2     3     4     5     6     7     8     9    ...   214  \\\n",
       "0 -0.06  0.12  0.10 -0.02  0.09  0.19 -0.10  0.10 -0.09  0.03  ...  0.04   \n",
       "1 -0.66  0.48  0.35 -0.66  0.05 -0.51 -0.08 -0.17 -0.23  0.57  ...  0.54   \n",
       "\n",
       "    215   216   217   218   219   220   221   222   223  \n",
       "0 -0.06  0.07 -0.11  0.10  0.10  0.09  0.10 -0.13  0.03  \n",
       "1 -0.02 -0.72  0.23 -0.32 -0.14  0.51  0.51 -0.26 -0.42  \n",
       "\n",
       "[2 rows x 224 columns]"
      ]
     },
     "metadata": {},
     "output_type": "display_data"
    },
    {
     "name": "stdout",
     "output_type": "stream",
     "text": [
      "R2 Score Valence:\t0.12\n"
     ]
    }
   ],
   "source": [
    "df_v = df_v.round(2)\n",
    "\n",
    "display(df_v.head())\n",
    "print(\"R2 Score Valence:\\t%0.2f\" % r2_v)"
   ]
  },
  {
   "cell_type": "markdown",
   "metadata": {},
   "source": [
    "REGRESSION"
   ]
  },
  {
   "cell_type": "code",
   "execution_count": 49,
   "metadata": {
    "collapsed": true
   },
   "outputs": [],
   "source": [
    "# scores_a = crosval(gpr_a,data,scaled_ar) #Arousal Regression\n",
    "# scores_v = crosval(gpr_v,data,scaled_val) #Arousal Regression"
   ]
  },
  {
   "cell_type": "markdown",
   "metadata": {},
   "source": [
    "AROUSAL"
   ]
  },
  {
   "cell_type": "code",
   "execution_count": 50,
   "metadata": {
    "collapsed": true
   },
   "outputs": [],
   "source": [
    "# print(\"R2 Score Valence:\\t\",scores_a)\n",
    "# print(\"R2 Score Valence:\\t%0.2f (+/- %0.2f)\" % (scores_a.mean(), scores_a.std() ))"
   ]
  },
  {
   "cell_type": "markdown",
   "metadata": {},
   "source": [
    "VALENCE"
   ]
  },
  {
   "cell_type": "code",
   "execution_count": 51,
   "metadata": {
    "collapsed": true
   },
   "outputs": [],
   "source": [
    "# print(\"R2 Score Valence:\\t\",scores_v)\n",
    "# print(\"R2 Score Valence:\\t%0.2f (+/- %0.2f)\" % (scores_v.mean(), scores_v.std() ))"
   ]
  },
  {
   "cell_type": "code",
   "execution_count": 52,
   "metadata": {
    "collapsed": true
   },
   "outputs": [],
   "source": [
    "save_predict(df_a,df_v,datafitur)\n",
    "save_model(trained_a,datafitur,'arousal/') #save model Arousal\n",
    "save_model(trained_v,datafitur,'valence/') #save model Valence"
   ]
  },
  {
   "cell_type": "markdown",
   "metadata": {
    "collapsed": true
   },
   "source": [
    "# CASE 5"
   ]
  },
  {
   "cell_type": "code",
   "execution_count": 53,
   "metadata": {},
   "outputs": [
    {
     "name": "stdout",
     "output_type": "stream",
     "text": [
      "(744, 34)\n"
     ]
    }
   ],
   "source": [
    "datafitur = \"case5\" #CASE 1\n",
    "\n",
    "data,arousal_mean,valence_mean = load(datafitur) #Load\n",
    "print(data.shape)\n",
    "\n",
    "scaled_ar = minmax_scale(arousal_mean.values,feature_range=(-1, 1))\n",
    "scaled_val = minmax_scale(valence_mean.values,feature_range=(-1, 1))\n",
    "\n",
    "#split arousal\n",
    "train_data_a, test_data_a, train_values_a, test_values_a = split(data,scaled_ar)\n",
    "#split valence\n",
    "train_data_v, test_data_v, train_values_v, test_values_v = split(data,scaled_val) "
   ]
  },
  {
   "cell_type": "code",
   "execution_count": 54,
   "metadata": {
    "collapsed": true
   },
   "outputs": [],
   "source": [
    "gpr_a = GPR(kernel=kernels, alpha=1e-10, \n",
    "                    optimizer='fmin_l_bfgs_b', \n",
    "                    n_restarts_optimizer=10, \n",
    "                    normalize_y=True,  \n",
    "                    random_state=1000) #init Arousal\n",
    "\n",
    "gpr_v = GPR(kernel=kernels, alpha=1e-10, \n",
    "                    optimizer='fmin_l_bfgs_b', \n",
    "                    n_restarts_optimizer=10, \n",
    "                    normalize_y=True,  \n",
    "                    random_state=1000) #init Arousal"
   ]
  },
  {
   "cell_type": "code",
   "execution_count": 55,
   "metadata": {},
   "outputs": [
    {
     "name": "stdout",
     "output_type": "stream",
     "text": [
      "arousal:\t 1**2 * RationalQuadratic(alpha=1, length_scale=1)\n",
      "arousal:\t 1**2 * RationalQuadratic(alpha=1, length_scale=1)\n"
     ]
    }
   ],
   "source": [
    "print(\"arousal:\\t\",gpr_a.kernel)\n",
    "print(\"arousal:\\t\",gpr_v.kernel)"
   ]
  },
  {
   "cell_type": "code",
   "execution_count": 56,
   "metadata": {
    "collapsed": true
   },
   "outputs": [],
   "source": [
    "trained_a = training(train_data_a,train_values_a,gpr_a)\n",
    "trained_v = training(train_data_v,train_values_v,gpr_v)"
   ]
  },
  {
   "cell_type": "code",
   "execution_count": 57,
   "metadata": {
    "collapsed": true
   },
   "outputs": [],
   "source": [
    "# #Predict Arousal\n",
    "pred_a,df_a = predict(test_data_a, test_values_a, trained_a)\n",
    "# #Predict Valence\n",
    "pred_v,df_v = predict(test_data_v, test_values_v, trained_v)\n",
    "\n",
    "r2_a = score(pred_a,test_values_a) #Score Arousal\n",
    "r2_v = score(pred_v,test_values_v) #Score Valence"
   ]
  },
  {
   "cell_type": "code",
   "execution_count": 58,
   "metadata": {},
   "outputs": [
    {
     "name": "stdout",
     "output_type": "stream",
     "text": [
      "arousal:\t 1.22**2 * RationalQuadratic(alpha=0.0193, length_scale=6.45)\n",
      "valence:\t 0.857**2 * RationalQuadratic(alpha=0.0427, length_scale=2.81)\n"
     ]
    }
   ],
   "source": [
    "trained_a.set_params(kernel=trained_a.kernel_)\n",
    "trained_v.set_params(kernel=trained_v.kernel_)\n",
    "\n",
    "print(\"arousal:\\t\",trained_a.kernel)\n",
    "print(\"valence:\\t\",trained_v.kernel)"
   ]
  },
  {
   "cell_type": "code",
   "execution_count": 59,
   "metadata": {},
   "outputs": [
    {
     "data": {
      "text/html": [
       "<div>\n",
       "<style scoped>\n",
       "    .dataframe tbody tr th:only-of-type {\n",
       "        vertical-align: middle;\n",
       "    }\n",
       "\n",
       "    .dataframe tbody tr th {\n",
       "        vertical-align: top;\n",
       "    }\n",
       "\n",
       "    .dataframe thead th {\n",
       "        text-align: right;\n",
       "    }\n",
       "</style>\n",
       "<table border=\"1\" class=\"dataframe\">\n",
       "  <thead>\n",
       "    <tr style=\"text-align: right;\">\n",
       "      <th></th>\n",
       "      <th>0</th>\n",
       "      <th>1</th>\n",
       "      <th>2</th>\n",
       "      <th>3</th>\n",
       "      <th>4</th>\n",
       "      <th>5</th>\n",
       "      <th>6</th>\n",
       "      <th>7</th>\n",
       "      <th>8</th>\n",
       "      <th>9</th>\n",
       "      <th>...</th>\n",
       "      <th>214</th>\n",
       "      <th>215</th>\n",
       "      <th>216</th>\n",
       "      <th>217</th>\n",
       "      <th>218</th>\n",
       "      <th>219</th>\n",
       "      <th>220</th>\n",
       "      <th>221</th>\n",
       "      <th>222</th>\n",
       "      <th>223</th>\n",
       "    </tr>\n",
       "  </thead>\n",
       "  <tbody>\n",
       "    <tr>\n",
       "      <th>0</th>\n",
       "      <td>0.02</td>\n",
       "      <td>0.17</td>\n",
       "      <td>0.48</td>\n",
       "      <td>-0.52</td>\n",
       "      <td>-0.38</td>\n",
       "      <td>-0.16</td>\n",
       "      <td>-0.84</td>\n",
       "      <td>0.27</td>\n",
       "      <td>-0.30</td>\n",
       "      <td>-0.08</td>\n",
       "      <td>...</td>\n",
       "      <td>0.47</td>\n",
       "      <td>0.11</td>\n",
       "      <td>-0.28</td>\n",
       "      <td>-0.29</td>\n",
       "      <td>-0.06</td>\n",
       "      <td>0.03</td>\n",
       "      <td>0.32</td>\n",
       "      <td>0.44</td>\n",
       "      <td>-0.23</td>\n",
       "      <td>-0.32</td>\n",
       "    </tr>\n",
       "    <tr>\n",
       "      <th>1</th>\n",
       "      <td>0.35</td>\n",
       "      <td>0.26</td>\n",
       "      <td>0.41</td>\n",
       "      <td>-0.56</td>\n",
       "      <td>-0.44</td>\n",
       "      <td>-0.41</td>\n",
       "      <td>-0.59</td>\n",
       "      <td>0.24</td>\n",
       "      <td>-0.41</td>\n",
       "      <td>0.35</td>\n",
       "      <td>...</td>\n",
       "      <td>0.59</td>\n",
       "      <td>-0.00</td>\n",
       "      <td>-0.38</td>\n",
       "      <td>0.24</td>\n",
       "      <td>-0.09</td>\n",
       "      <td>-0.03</td>\n",
       "      <td>-0.06</td>\n",
       "      <td>0.38</td>\n",
       "      <td>-0.50</td>\n",
       "      <td>-0.82</td>\n",
       "    </tr>\n",
       "  </tbody>\n",
       "</table>\n",
       "<p>2 rows × 224 columns</p>\n",
       "</div>"
      ],
      "text/plain": [
       "    0     1     2     3     4     5     6     7     8     9    ...   214  \\\n",
       "0  0.02  0.17  0.48 -0.52 -0.38 -0.16 -0.84  0.27 -0.30 -0.08  ...  0.47   \n",
       "1  0.35  0.26  0.41 -0.56 -0.44 -0.41 -0.59  0.24 -0.41  0.35  ...  0.59   \n",
       "\n",
       "    215   216   217   218   219   220   221   222   223  \n",
       "0  0.11 -0.28 -0.29 -0.06  0.03  0.32  0.44 -0.23 -0.32  \n",
       "1 -0.00 -0.38  0.24 -0.09 -0.03 -0.06  0.38 -0.50 -0.82  \n",
       "\n",
       "[2 rows x 224 columns]"
      ]
     },
     "metadata": {},
     "output_type": "display_data"
    },
    {
     "name": "stdout",
     "output_type": "stream",
     "text": [
      "R2 Score Arousal:\t0.67\n"
     ]
    }
   ],
   "source": [
    "df_a = df_a.round(2)\n",
    "\n",
    "display(df_a.head())\n",
    "print(\"R2 Score Arousal:\\t%0.2f\" % r2_a)"
   ]
  },
  {
   "cell_type": "code",
   "execution_count": 60,
   "metadata": {},
   "outputs": [
    {
     "data": {
      "text/html": [
       "<div>\n",
       "<style scoped>\n",
       "    .dataframe tbody tr th:only-of-type {\n",
       "        vertical-align: middle;\n",
       "    }\n",
       "\n",
       "    .dataframe tbody tr th {\n",
       "        vertical-align: top;\n",
       "    }\n",
       "\n",
       "    .dataframe thead th {\n",
       "        text-align: right;\n",
       "    }\n",
       "</style>\n",
       "<table border=\"1\" class=\"dataframe\">\n",
       "  <thead>\n",
       "    <tr style=\"text-align: right;\">\n",
       "      <th></th>\n",
       "      <th>0</th>\n",
       "      <th>1</th>\n",
       "      <th>2</th>\n",
       "      <th>3</th>\n",
       "      <th>4</th>\n",
       "      <th>5</th>\n",
       "      <th>6</th>\n",
       "      <th>7</th>\n",
       "      <th>8</th>\n",
       "      <th>9</th>\n",
       "      <th>...</th>\n",
       "      <th>214</th>\n",
       "      <th>215</th>\n",
       "      <th>216</th>\n",
       "      <th>217</th>\n",
       "      <th>218</th>\n",
       "      <th>219</th>\n",
       "      <th>220</th>\n",
       "      <th>221</th>\n",
       "      <th>222</th>\n",
       "      <th>223</th>\n",
       "    </tr>\n",
       "  </thead>\n",
       "  <tbody>\n",
       "    <tr>\n",
       "      <th>0</th>\n",
       "      <td>0.22</td>\n",
       "      <td>0.23</td>\n",
       "      <td>0.40</td>\n",
       "      <td>-0.40</td>\n",
       "      <td>-0.09</td>\n",
       "      <td>-0.01</td>\n",
       "      <td>-0.36</td>\n",
       "      <td>0.32</td>\n",
       "      <td>0.18</td>\n",
       "      <td>0.11</td>\n",
       "      <td>...</td>\n",
       "      <td>0.47</td>\n",
       "      <td>0.50</td>\n",
       "      <td>-0.28</td>\n",
       "      <td>-0.19</td>\n",
       "      <td>-0.05</td>\n",
       "      <td>0.08</td>\n",
       "      <td>0.17</td>\n",
       "      <td>0.12</td>\n",
       "      <td>-0.32</td>\n",
       "      <td>-0.14</td>\n",
       "    </tr>\n",
       "    <tr>\n",
       "      <th>1</th>\n",
       "      <td>-0.66</td>\n",
       "      <td>0.48</td>\n",
       "      <td>0.35</td>\n",
       "      <td>-0.66</td>\n",
       "      <td>0.05</td>\n",
       "      <td>-0.51</td>\n",
       "      <td>-0.08</td>\n",
       "      <td>-0.17</td>\n",
       "      <td>-0.23</td>\n",
       "      <td>0.57</td>\n",
       "      <td>...</td>\n",
       "      <td>0.54</td>\n",
       "      <td>-0.02</td>\n",
       "      <td>-0.72</td>\n",
       "      <td>0.23</td>\n",
       "      <td>-0.32</td>\n",
       "      <td>-0.14</td>\n",
       "      <td>0.51</td>\n",
       "      <td>0.51</td>\n",
       "      <td>-0.26</td>\n",
       "      <td>-0.42</td>\n",
       "    </tr>\n",
       "  </tbody>\n",
       "</table>\n",
       "<p>2 rows × 224 columns</p>\n",
       "</div>"
      ],
      "text/plain": [
       "    0     1     2     3     4     5     6     7     8     9    ...   214  \\\n",
       "0  0.22  0.23  0.40 -0.40 -0.09 -0.01 -0.36  0.32  0.18  0.11  ...  0.47   \n",
       "1 -0.66  0.48  0.35 -0.66  0.05 -0.51 -0.08 -0.17 -0.23  0.57  ...  0.54   \n",
       "\n",
       "    215   216   217   218   219   220   221   222   223  \n",
       "0  0.50 -0.28 -0.19 -0.05  0.08  0.17  0.12 -0.32 -0.14  \n",
       "1 -0.02 -0.72  0.23 -0.32 -0.14  0.51  0.51 -0.26 -0.42  \n",
       "\n",
       "[2 rows x 224 columns]"
      ]
     },
     "metadata": {},
     "output_type": "display_data"
    },
    {
     "name": "stdout",
     "output_type": "stream",
     "text": [
      "R2 Score Valence: 0.37\n"
     ]
    }
   ],
   "source": [
    "df_v = df_v.round(2)\n",
    "\n",
    "display(df_v.head())\n",
    "print(\"R2 Score Valence: %0.2f\" % r2_v)"
   ]
  },
  {
   "cell_type": "code",
   "execution_count": 61,
   "metadata": {
    "collapsed": true
   },
   "outputs": [],
   "source": [
    "# scores_a = crosval(gpr_a,data,scaled_ar) #Arousal Regression\n",
    "# scores_v = crosval(gpr_v,data,scaled_val) #Arousal Regression"
   ]
  },
  {
   "cell_type": "code",
   "execution_count": 62,
   "metadata": {
    "collapsed": true
   },
   "outputs": [],
   "source": [
    "# print(\"R2 Score Valence:\\t\",scores_a)\n",
    "# print(\"R2 Score Valence:\\t%0.2f (+/- %0.2f)\" % (scores_a.mean(), scores_a.std() ))"
   ]
  },
  {
   "cell_type": "code",
   "execution_count": 63,
   "metadata": {
    "collapsed": true
   },
   "outputs": [],
   "source": [
    "save_predict(df_a.round(2),df_v.round(2),datafitur)\n",
    "save_model(trained_a,datafitur,'arousal/') #save model Arousal\n",
    "save_model(trained_v,datafitur,'valence/') #save model Valence"
   ]
  },
  {
   "cell_type": "markdown",
   "metadata": {},
   "source": [
    "# CASE 6"
   ]
  },
  {
   "cell_type": "code",
   "execution_count": 64,
   "metadata": {},
   "outputs": [
    {
     "name": "stdout",
     "output_type": "stream",
     "text": [
      "(744, 29)\n"
     ]
    }
   ],
   "source": [
    "datafitur = \"case6\" #CASE 2\n",
    "\n",
    "data,arousal_mean,valence_mean = load(datafitur) #Load\n",
    "print(data.shape) \n",
    "\n",
    "scaled_ar = minmax_scale(arousal_mean.values,feature_range=(-1, 1))\n",
    "scaled_val = minmax_scale(valence_mean.values,feature_range=(-1, 1))\n",
    "\n",
    "train_data_a, test_data_a, train_values_a, test_values_a = split(data,scaled_ar) #split arousal\n",
    "train_data_v, test_data_v, train_values_v, test_values_v = split(data,scaled_val) #split valence"
   ]
  },
  {
   "cell_type": "code",
   "execution_count": 65,
   "metadata": {
    "collapsed": true
   },
   "outputs": [],
   "source": [
    "gpr_a = GPR(kernel=kernels, alpha=1e-10, \n",
    "                    optimizer='fmin_l_bfgs_b', \n",
    "                    n_restarts_optimizer=10, \n",
    "                    normalize_y=True, \n",
    "                    random_state=1000) #init Valence\n",
    "\n",
    "gpr_v = GPR(kernel=kernels, alpha=1e-10, \n",
    "                    optimizer='fmin_l_bfgs_b', \n",
    "                    n_restarts_optimizer=10, \n",
    "                    normalize_y=True, \n",
    "                    random_state=1000) #init Valence"
   ]
  },
  {
   "cell_type": "code",
   "execution_count": 66,
   "metadata": {},
   "outputs": [
    {
     "name": "stdout",
     "output_type": "stream",
     "text": [
      "arousal:\t 1**2 * RationalQuadratic(alpha=1, length_scale=1)\n",
      "valence:\t 1**2 * RationalQuadratic(alpha=1, length_scale=1)\n"
     ]
    }
   ],
   "source": [
    "print(\"arousal:\\t\",gpr_a.kernel)\n",
    "print(\"valence:\\t\",gpr_v.kernel)"
   ]
  },
  {
   "cell_type": "code",
   "execution_count": 67,
   "metadata": {
    "collapsed": true
   },
   "outputs": [],
   "source": [
    "trained_a = training(train_data_a,train_values_a,gpr_a)\n",
    "trained_v = training(train_data_v,train_values_v,gpr_v)"
   ]
  },
  {
   "cell_type": "code",
   "execution_count": 68,
   "metadata": {
    "collapsed": true
   },
   "outputs": [],
   "source": [
    "# #Predict Arousal\n",
    "pred_a,df_a = predict(test_data_a, test_values_a, trained_a)\n",
    "# #Predict Valence\n",
    "pred_v,df_v = predict(test_data_v, test_values_v, trained_v)\n",
    "\n",
    "r2_a = score(pred_a,test_values_a) #Score Arousal\n",
    "r2_v = score(pred_v,test_values_v) #Score Valence"
   ]
  },
  {
   "cell_type": "code",
   "execution_count": 69,
   "metadata": {},
   "outputs": [
    {
     "name": "stdout",
     "output_type": "stream",
     "text": [
      "arousal:\t 1.16**2 * RationalQuadratic(alpha=0.0211, length_scale=4.98)\n",
      "valence:\t 0.502**2 * RationalQuadratic(alpha=0.204, length_scale=1.4)\n"
     ]
    }
   ],
   "source": [
    "trained_a.set_params(kernel=trained_a.kernel_)\n",
    "trained_v.set_params(kernel=trained_v.kernel_)\n",
    "\n",
    "print(\"arousal:\\t\",trained_a.kernel)\n",
    "print(\"valence:\\t\",trained_v.kernel)"
   ]
  },
  {
   "cell_type": "code",
   "execution_count": 70,
   "metadata": {},
   "outputs": [
    {
     "data": {
      "text/html": [
       "<div>\n",
       "<style scoped>\n",
       "    .dataframe tbody tr th:only-of-type {\n",
       "        vertical-align: middle;\n",
       "    }\n",
       "\n",
       "    .dataframe tbody tr th {\n",
       "        vertical-align: top;\n",
       "    }\n",
       "\n",
       "    .dataframe thead th {\n",
       "        text-align: right;\n",
       "    }\n",
       "</style>\n",
       "<table border=\"1\" class=\"dataframe\">\n",
       "  <thead>\n",
       "    <tr style=\"text-align: right;\">\n",
       "      <th></th>\n",
       "      <th>0</th>\n",
       "      <th>1</th>\n",
       "      <th>2</th>\n",
       "      <th>3</th>\n",
       "      <th>4</th>\n",
       "      <th>5</th>\n",
       "      <th>6</th>\n",
       "      <th>7</th>\n",
       "      <th>8</th>\n",
       "      <th>9</th>\n",
       "      <th>...</th>\n",
       "      <th>214</th>\n",
       "      <th>215</th>\n",
       "      <th>216</th>\n",
       "      <th>217</th>\n",
       "      <th>218</th>\n",
       "      <th>219</th>\n",
       "      <th>220</th>\n",
       "      <th>221</th>\n",
       "      <th>222</th>\n",
       "      <th>223</th>\n",
       "    </tr>\n",
       "  </thead>\n",
       "  <tbody>\n",
       "    <tr>\n",
       "      <th>0</th>\n",
       "      <td>-0.07</td>\n",
       "      <td>0.22</td>\n",
       "      <td>0.60</td>\n",
       "      <td>-0.45</td>\n",
       "      <td>-0.38</td>\n",
       "      <td>-0.07</td>\n",
       "      <td>-0.81</td>\n",
       "      <td>0.29</td>\n",
       "      <td>-0.45</td>\n",
       "      <td>-0.10</td>\n",
       "      <td>...</td>\n",
       "      <td>0.50</td>\n",
       "      <td>0.11</td>\n",
       "      <td>0.01</td>\n",
       "      <td>-0.21</td>\n",
       "      <td>-0.13</td>\n",
       "      <td>-0.03</td>\n",
       "      <td>0.32</td>\n",
       "      <td>0.39</td>\n",
       "      <td>-0.23</td>\n",
       "      <td>-0.45</td>\n",
       "    </tr>\n",
       "    <tr>\n",
       "      <th>1</th>\n",
       "      <td>0.35</td>\n",
       "      <td>0.26</td>\n",
       "      <td>0.41</td>\n",
       "      <td>-0.56</td>\n",
       "      <td>-0.44</td>\n",
       "      <td>-0.41</td>\n",
       "      <td>-0.59</td>\n",
       "      <td>0.24</td>\n",
       "      <td>-0.41</td>\n",
       "      <td>0.35</td>\n",
       "      <td>...</td>\n",
       "      <td>0.59</td>\n",
       "      <td>-0.00</td>\n",
       "      <td>-0.38</td>\n",
       "      <td>0.24</td>\n",
       "      <td>-0.09</td>\n",
       "      <td>-0.03</td>\n",
       "      <td>-0.06</td>\n",
       "      <td>0.38</td>\n",
       "      <td>-0.50</td>\n",
       "      <td>-0.82</td>\n",
       "    </tr>\n",
       "  </tbody>\n",
       "</table>\n",
       "<p>2 rows × 224 columns</p>\n",
       "</div>"
      ],
      "text/plain": [
       "    0     1     2     3     4     5     6     7     8     9    ...   214  \\\n",
       "0 -0.07  0.22  0.60 -0.45 -0.38 -0.07 -0.81  0.29 -0.45 -0.10  ...  0.50   \n",
       "1  0.35  0.26  0.41 -0.56 -0.44 -0.41 -0.59  0.24 -0.41  0.35  ...  0.59   \n",
       "\n",
       "    215   216   217   218   219   220   221   222   223  \n",
       "0  0.11  0.01 -0.21 -0.13 -0.03  0.32  0.39 -0.23 -0.45  \n",
       "1 -0.00 -0.38  0.24 -0.09 -0.03 -0.06  0.38 -0.50 -0.82  \n",
       "\n",
       "[2 rows x 224 columns]"
      ]
     },
     "metadata": {},
     "output_type": "display_data"
    },
    {
     "name": "stdout",
     "output_type": "stream",
     "text": [
      "R2 Score Arousal:\t0.65\n"
     ]
    }
   ],
   "source": [
    "df_a = df_a.round(2)\n",
    "\n",
    "display(df_a.head())\n",
    "print(\"R2 Score Arousal:\\t%0.2f\" % r2_a)"
   ]
  },
  {
   "cell_type": "code",
   "execution_count": 71,
   "metadata": {},
   "outputs": [
    {
     "data": {
      "text/html": [
       "<div>\n",
       "<style scoped>\n",
       "    .dataframe tbody tr th:only-of-type {\n",
       "        vertical-align: middle;\n",
       "    }\n",
       "\n",
       "    .dataframe tbody tr th {\n",
       "        vertical-align: top;\n",
       "    }\n",
       "\n",
       "    .dataframe thead th {\n",
       "        text-align: right;\n",
       "    }\n",
       "</style>\n",
       "<table border=\"1\" class=\"dataframe\">\n",
       "  <thead>\n",
       "    <tr style=\"text-align: right;\">\n",
       "      <th></th>\n",
       "      <th>0</th>\n",
       "      <th>1</th>\n",
       "      <th>2</th>\n",
       "      <th>3</th>\n",
       "      <th>4</th>\n",
       "      <th>5</th>\n",
       "      <th>6</th>\n",
       "      <th>7</th>\n",
       "      <th>8</th>\n",
       "      <th>9</th>\n",
       "      <th>...</th>\n",
       "      <th>214</th>\n",
       "      <th>215</th>\n",
       "      <th>216</th>\n",
       "      <th>217</th>\n",
       "      <th>218</th>\n",
       "      <th>219</th>\n",
       "      <th>220</th>\n",
       "      <th>221</th>\n",
       "      <th>222</th>\n",
       "      <th>223</th>\n",
       "    </tr>\n",
       "  </thead>\n",
       "  <tbody>\n",
       "    <tr>\n",
       "      <th>0</th>\n",
       "      <td>0.18</td>\n",
       "      <td>0.33</td>\n",
       "      <td>0.45</td>\n",
       "      <td>-0.20</td>\n",
       "      <td>-0.04</td>\n",
       "      <td>0.12</td>\n",
       "      <td>-0.31</td>\n",
       "      <td>0.28</td>\n",
       "      <td>-0.12</td>\n",
       "      <td>0.05</td>\n",
       "      <td>...</td>\n",
       "      <td>0.45</td>\n",
       "      <td>0.37</td>\n",
       "      <td>0.02</td>\n",
       "      <td>-0.07</td>\n",
       "      <td>-0.05</td>\n",
       "      <td>0.05</td>\n",
       "      <td>0.16</td>\n",
       "      <td>0.03</td>\n",
       "      <td>-0.16</td>\n",
       "      <td>-0.44</td>\n",
       "    </tr>\n",
       "    <tr>\n",
       "      <th>1</th>\n",
       "      <td>-0.66</td>\n",
       "      <td>0.48</td>\n",
       "      <td>0.35</td>\n",
       "      <td>-0.66</td>\n",
       "      <td>0.05</td>\n",
       "      <td>-0.51</td>\n",
       "      <td>-0.08</td>\n",
       "      <td>-0.17</td>\n",
       "      <td>-0.23</td>\n",
       "      <td>0.57</td>\n",
       "      <td>...</td>\n",
       "      <td>0.54</td>\n",
       "      <td>-0.02</td>\n",
       "      <td>-0.72</td>\n",
       "      <td>0.23</td>\n",
       "      <td>-0.32</td>\n",
       "      <td>-0.14</td>\n",
       "      <td>0.51</td>\n",
       "      <td>0.51</td>\n",
       "      <td>-0.26</td>\n",
       "      <td>-0.42</td>\n",
       "    </tr>\n",
       "  </tbody>\n",
       "</table>\n",
       "<p>2 rows × 224 columns</p>\n",
       "</div>"
      ],
      "text/plain": [
       "    0     1     2     3     4     5     6     7     8     9    ...   214  \\\n",
       "0  0.18  0.33  0.45 -0.20 -0.04  0.12 -0.31  0.28 -0.12  0.05  ...  0.45   \n",
       "1 -0.66  0.48  0.35 -0.66  0.05 -0.51 -0.08 -0.17 -0.23  0.57  ...  0.54   \n",
       "\n",
       "    215   216   217   218   219   220   221   222   223  \n",
       "0  0.37  0.02 -0.07 -0.05  0.05  0.16  0.03 -0.16 -0.44  \n",
       "1 -0.02 -0.72  0.23 -0.32 -0.14  0.51  0.51 -0.26 -0.42  \n",
       "\n",
       "[2 rows x 224 columns]"
      ]
     },
     "metadata": {},
     "output_type": "display_data"
    },
    {
     "name": "stdout",
     "output_type": "stream",
     "text": [
      "R2 Score Valence:\t0.30\n"
     ]
    }
   ],
   "source": [
    "df_v = df_v.round(2)\n",
    "\n",
    "display(df_v.head())\n",
    "print(\"R2 Score Valence:\\t%0.2f\" % r2_v)"
   ]
  },
  {
   "cell_type": "code",
   "execution_count": 72,
   "metadata": {
    "collapsed": true
   },
   "outputs": [],
   "source": [
    "# scores_a = crosval(gpr_a,data,scaled_ar) #Arousal Regression\n",
    "# scores_v = crosval(gpr_v,data,scaled_val) #Arousal Regression"
   ]
  },
  {
   "cell_type": "code",
   "execution_count": 73,
   "metadata": {
    "collapsed": true
   },
   "outputs": [],
   "source": [
    "# print(\"R2 Score Valence:\\t\",scores_a)\n",
    "# print(\"R2 Score Valence:\\t%0.2f (+/- %0.2f)\" % (scores_a.mean(), scores_a.std() ))"
   ]
  },
  {
   "cell_type": "code",
   "execution_count": 74,
   "metadata": {
    "collapsed": true
   },
   "outputs": [],
   "source": [
    "# print(\"R2 Score Valence:\\t\",scores_v)\n",
    "# print(\"R2 Score Valence:\\t%0.2f (+/- %0.2f)\" % (scores_v.mean(), scores_v.std() ))"
   ]
  },
  {
   "cell_type": "code",
   "execution_count": 75,
   "metadata": {
    "collapsed": true
   },
   "outputs": [],
   "source": [
    "save_predict(df_a.round(2),df_v.round(2),datafitur)\n",
    "save_model(trained_a,datafitur,'arousal/') #save model Arousal\n",
    "save_model(trained_v,datafitur,'valence/') #save model Valence"
   ]
  },
  {
   "cell_type": "markdown",
   "metadata": {},
   "source": [
    "# CASE 7"
   ]
  },
  {
   "cell_type": "code",
   "execution_count": 76,
   "metadata": {},
   "outputs": [
    {
     "name": "stdout",
     "output_type": "stream",
     "text": [
      "(744, 50)\n"
     ]
    }
   ],
   "source": [
    "datafitur =  \"case7\" #CASE 3\n",
    "data,arousal_mean,valence_mean = load(datafitur) #Load\n",
    "print(data.shape)\n",
    "\n",
    "scaled_ar = minmax_scale(arousal_mean.values,feature_range=(-1, 1))\n",
    "scaled_val = minmax_scale(valence_mean.values,feature_range=(-1, 1))\n",
    "\n",
    "train_data_a, test_data_a, train_values_a, test_values_a = split(data,scaled_ar) #split arousal\n",
    "train_data_v, test_data_v, train_values_v, test_values_v = split(data,scaled_val) #split valence"
   ]
  },
  {
   "cell_type": "code",
   "execution_count": 77,
   "metadata": {
    "collapsed": true
   },
   "outputs": [],
   "source": [
    "gpr_a = GPR(kernel=kernels, alpha=1e-10, \n",
    "                    optimizer='fmin_l_bfgs_b', \n",
    "                    n_restarts_optimizer=10, \n",
    "                    normalize_y=True,  \n",
    "                    random_state=1000) #init Arousal\n",
    "\n",
    "gpr_v = GPR(kernel=kernels, alpha=1e-10, \n",
    "                    optimizer='fmin_l_bfgs_b', \n",
    "                    n_restarts_optimizer=10, \n",
    "                    normalize_y=True, \n",
    "                    random_state=1000) #init Valence"
   ]
  },
  {
   "cell_type": "code",
   "execution_count": 78,
   "metadata": {},
   "outputs": [
    {
     "name": "stdout",
     "output_type": "stream",
     "text": [
      "arousal:\t 1**2 * RationalQuadratic(alpha=1, length_scale=1)\n",
      "valence:\t 1**2 * RationalQuadratic(alpha=1, length_scale=1)\n"
     ]
    }
   ],
   "source": [
    "print(\"arousal:\\t\",gpr_a.kernel)\n",
    "print(\"valence:\\t\",gpr_v.kernel)"
   ]
  },
  {
   "cell_type": "code",
   "execution_count": 79,
   "metadata": {
    "collapsed": true
   },
   "outputs": [],
   "source": [
    "trained_a = training(train_data_a,train_values_a,gpr_a)\n",
    "trained_v = training(train_data_v,train_values_v,gpr_v)"
   ]
  },
  {
   "cell_type": "code",
   "execution_count": 80,
   "metadata": {
    "collapsed": true
   },
   "outputs": [],
   "source": [
    "# #Predict Arousal\n",
    "pred_a,df_a = predict(test_data_a, test_values_a, trained_a)\n",
    "# #Predict Valence\n",
    "pred_v,df_v = predict(test_data_v, test_values_v, trained_v)\n",
    "\n",
    "r2_a = score(pred_a,test_values_a) #Score Arousal\n",
    "r2_v = score(pred_v,test_values_v) #Score Valence"
   ]
  },
  {
   "cell_type": "code",
   "execution_count": 81,
   "metadata": {},
   "outputs": [
    {
     "name": "stdout",
     "output_type": "stream",
     "text": [
      "arousal:\t 1.09**2 * RationalQuadratic(alpha=0.0355, length_scale=8.92)\n",
      "valence:\t 0.459**2 * RationalQuadratic(alpha=0.429, length_scale=2.58)\n"
     ]
    }
   ],
   "source": [
    "trained_a.set_params(kernel=trained_a.kernel_)\n",
    "trained_v.set_params(kernel=trained_v.kernel_)\n",
    "\n",
    "print(\"arousal:\\t\",trained_a.kernel)\n",
    "print(\"valence:\\t\",trained_v.kernel)"
   ]
  },
  {
   "cell_type": "code",
   "execution_count": 82,
   "metadata": {},
   "outputs": [
    {
     "data": {
      "text/html": [
       "<div>\n",
       "<style scoped>\n",
       "    .dataframe tbody tr th:only-of-type {\n",
       "        vertical-align: middle;\n",
       "    }\n",
       "\n",
       "    .dataframe tbody tr th {\n",
       "        vertical-align: top;\n",
       "    }\n",
       "\n",
       "    .dataframe thead th {\n",
       "        text-align: right;\n",
       "    }\n",
       "</style>\n",
       "<table border=\"1\" class=\"dataframe\">\n",
       "  <thead>\n",
       "    <tr style=\"text-align: right;\">\n",
       "      <th></th>\n",
       "      <th>0</th>\n",
       "      <th>1</th>\n",
       "      <th>2</th>\n",
       "      <th>3</th>\n",
       "      <th>4</th>\n",
       "      <th>5</th>\n",
       "      <th>6</th>\n",
       "      <th>7</th>\n",
       "      <th>8</th>\n",
       "      <th>9</th>\n",
       "      <th>...</th>\n",
       "      <th>214</th>\n",
       "      <th>215</th>\n",
       "      <th>216</th>\n",
       "      <th>217</th>\n",
       "      <th>218</th>\n",
       "      <th>219</th>\n",
       "      <th>220</th>\n",
       "      <th>221</th>\n",
       "      <th>222</th>\n",
       "      <th>223</th>\n",
       "    </tr>\n",
       "  </thead>\n",
       "  <tbody>\n",
       "    <tr>\n",
       "      <th>0</th>\n",
       "      <td>-0.13</td>\n",
       "      <td>0.21</td>\n",
       "      <td>0.56</td>\n",
       "      <td>-0.49</td>\n",
       "      <td>-0.37</td>\n",
       "      <td>-0.15</td>\n",
       "      <td>-0.65</td>\n",
       "      <td>0.28</td>\n",
       "      <td>-0.32</td>\n",
       "      <td>0.02</td>\n",
       "      <td>...</td>\n",
       "      <td>0.50</td>\n",
       "      <td>0.1</td>\n",
       "      <td>-0.08</td>\n",
       "      <td>-0.28</td>\n",
       "      <td>-0.03</td>\n",
       "      <td>0.01</td>\n",
       "      <td>0.39</td>\n",
       "      <td>0.44</td>\n",
       "      <td>-0.29</td>\n",
       "      <td>-0.55</td>\n",
       "    </tr>\n",
       "    <tr>\n",
       "      <th>1</th>\n",
       "      <td>0.35</td>\n",
       "      <td>0.26</td>\n",
       "      <td>0.41</td>\n",
       "      <td>-0.56</td>\n",
       "      <td>-0.44</td>\n",
       "      <td>-0.41</td>\n",
       "      <td>-0.59</td>\n",
       "      <td>0.24</td>\n",
       "      <td>-0.41</td>\n",
       "      <td>0.35</td>\n",
       "      <td>...</td>\n",
       "      <td>0.59</td>\n",
       "      <td>-0.0</td>\n",
       "      <td>-0.38</td>\n",
       "      <td>0.24</td>\n",
       "      <td>-0.09</td>\n",
       "      <td>-0.03</td>\n",
       "      <td>-0.06</td>\n",
       "      <td>0.38</td>\n",
       "      <td>-0.50</td>\n",
       "      <td>-0.82</td>\n",
       "    </tr>\n",
       "  </tbody>\n",
       "</table>\n",
       "<p>2 rows × 224 columns</p>\n",
       "</div>"
      ],
      "text/plain": [
       "    0     1     2     3     4     5     6     7     8     9    ...   214  215  \\\n",
       "0 -0.13  0.21  0.56 -0.49 -0.37 -0.15 -0.65  0.28 -0.32  0.02  ...  0.50  0.1   \n",
       "1  0.35  0.26  0.41 -0.56 -0.44 -0.41 -0.59  0.24 -0.41  0.35  ...  0.59 -0.0   \n",
       "\n",
       "    216   217   218   219   220   221   222   223  \n",
       "0 -0.08 -0.28 -0.03  0.01  0.39  0.44 -0.29 -0.55  \n",
       "1 -0.38  0.24 -0.09 -0.03 -0.06  0.38 -0.50 -0.82  \n",
       "\n",
       "[2 rows x 224 columns]"
      ]
     },
     "metadata": {},
     "output_type": "display_data"
    },
    {
     "name": "stdout",
     "output_type": "stream",
     "text": [
      "R2 Score Arousal:\t0.64\n"
     ]
    }
   ],
   "source": [
    "df_a = df_a.round(2)\n",
    "\n",
    "display(df_a.head())\n",
    "print(\"R2 Score Arousal:\\t%0.2f\" % r2_a)"
   ]
  },
  {
   "cell_type": "code",
   "execution_count": 83,
   "metadata": {},
   "outputs": [
    {
     "data": {
      "text/html": [
       "<div>\n",
       "<style scoped>\n",
       "    .dataframe tbody tr th:only-of-type {\n",
       "        vertical-align: middle;\n",
       "    }\n",
       "\n",
       "    .dataframe tbody tr th {\n",
       "        vertical-align: top;\n",
       "    }\n",
       "\n",
       "    .dataframe thead th {\n",
       "        text-align: right;\n",
       "    }\n",
       "</style>\n",
       "<table border=\"1\" class=\"dataframe\">\n",
       "  <thead>\n",
       "    <tr style=\"text-align: right;\">\n",
       "      <th></th>\n",
       "      <th>0</th>\n",
       "      <th>1</th>\n",
       "      <th>2</th>\n",
       "      <th>3</th>\n",
       "      <th>4</th>\n",
       "      <th>5</th>\n",
       "      <th>6</th>\n",
       "      <th>7</th>\n",
       "      <th>8</th>\n",
       "      <th>9</th>\n",
       "      <th>...</th>\n",
       "      <th>214</th>\n",
       "      <th>215</th>\n",
       "      <th>216</th>\n",
       "      <th>217</th>\n",
       "      <th>218</th>\n",
       "      <th>219</th>\n",
       "      <th>220</th>\n",
       "      <th>221</th>\n",
       "      <th>222</th>\n",
       "      <th>223</th>\n",
       "    </tr>\n",
       "  </thead>\n",
       "  <tbody>\n",
       "    <tr>\n",
       "      <th>0</th>\n",
       "      <td>0.04</td>\n",
       "      <td>0.33</td>\n",
       "      <td>0.54</td>\n",
       "      <td>0.01</td>\n",
       "      <td>0.04</td>\n",
       "      <td>0.13</td>\n",
       "      <td>-0.26</td>\n",
       "      <td>0.21</td>\n",
       "      <td>-0.07</td>\n",
       "      <td>0.06</td>\n",
       "      <td>...</td>\n",
       "      <td>0.24</td>\n",
       "      <td>-0.04</td>\n",
       "      <td>0.03</td>\n",
       "      <td>-0.18</td>\n",
       "      <td>0.01</td>\n",
       "      <td>0.03</td>\n",
       "      <td>0.03</td>\n",
       "      <td>0.12</td>\n",
       "      <td>-0.16</td>\n",
       "      <td>-0.22</td>\n",
       "    </tr>\n",
       "    <tr>\n",
       "      <th>1</th>\n",
       "      <td>-0.66</td>\n",
       "      <td>0.48</td>\n",
       "      <td>0.35</td>\n",
       "      <td>-0.66</td>\n",
       "      <td>0.05</td>\n",
       "      <td>-0.51</td>\n",
       "      <td>-0.08</td>\n",
       "      <td>-0.17</td>\n",
       "      <td>-0.23</td>\n",
       "      <td>0.57</td>\n",
       "      <td>...</td>\n",
       "      <td>0.54</td>\n",
       "      <td>-0.02</td>\n",
       "      <td>-0.72</td>\n",
       "      <td>0.23</td>\n",
       "      <td>-0.32</td>\n",
       "      <td>-0.14</td>\n",
       "      <td>0.51</td>\n",
       "      <td>0.51</td>\n",
       "      <td>-0.26</td>\n",
       "      <td>-0.42</td>\n",
       "    </tr>\n",
       "  </tbody>\n",
       "</table>\n",
       "<p>2 rows × 224 columns</p>\n",
       "</div>"
      ],
      "text/plain": [
       "    0     1     2     3     4     5     6     7     8     9    ...   214  \\\n",
       "0  0.04  0.33  0.54  0.01  0.04  0.13 -0.26  0.21 -0.07  0.06  ...  0.24   \n",
       "1 -0.66  0.48  0.35 -0.66  0.05 -0.51 -0.08 -0.17 -0.23  0.57  ...  0.54   \n",
       "\n",
       "    215   216   217   218   219   220   221   222   223  \n",
       "0 -0.04  0.03 -0.18  0.01  0.03  0.03  0.12 -0.16 -0.22  \n",
       "1 -0.02 -0.72  0.23 -0.32 -0.14  0.51  0.51 -0.26 -0.42  \n",
       "\n",
       "[2 rows x 224 columns]"
      ]
     },
     "metadata": {},
     "output_type": "display_data"
    },
    {
     "name": "stdout",
     "output_type": "stream",
     "text": [
      "R2 Score Valence:\t0.30\n"
     ]
    }
   ],
   "source": [
    "df_v = df_v.round(2)\n",
    "\n",
    "display(df_v.head())\n",
    "print(\"R2 Score Valence:\\t%0.2f\" % r2_v)"
   ]
  },
  {
   "cell_type": "code",
   "execution_count": 84,
   "metadata": {
    "collapsed": true
   },
   "outputs": [],
   "source": [
    "# scores_a = crosval(gpr_a,data,scaled_ar) #Arousal Regression\n",
    "# scores_v = crosval(gpr_v,data,scaled_val) #Arousal Regression"
   ]
  },
  {
   "cell_type": "code",
   "execution_count": 85,
   "metadata": {
    "collapsed": true
   },
   "outputs": [],
   "source": [
    "# print(\"R2 Score Valence:\\t\",scores_a)\n",
    "# print(\"R2 Score Valence:\\t%0.2f (+/- %0.2f)\" % (scores_a.mean(), scores_a.std() ))"
   ]
  },
  {
   "cell_type": "code",
   "execution_count": 86,
   "metadata": {
    "collapsed": true
   },
   "outputs": [],
   "source": [
    "# print(\"R2 Score Valence:\\t\",scores_v)\n",
    "# print(\"R2 Score Valence:\\t%0.2f (+/- %0.2f)\" % (scores_v.mean(), scores_v.std() ))"
   ]
  },
  {
   "cell_type": "code",
   "execution_count": 87,
   "metadata": {
    "collapsed": true
   },
   "outputs": [],
   "source": [
    "save_predict(df_a.round(2),df_v.round(2),datafitur)\n",
    "save_model(trained_a,datafitur,'arousal/') #save model Arousal\n",
    "save_model(trained_v,datafitur,'valence/') #save model Valence"
   ]
  },
  {
   "cell_type": "markdown",
   "metadata": {},
   "source": [
    "# CASE 8"
   ]
  },
  {
   "cell_type": "code",
   "execution_count": 88,
   "metadata": {},
   "outputs": [
    {
     "name": "stdout",
     "output_type": "stream",
     "text": [
      "(744, 37)\n"
     ]
    }
   ],
   "source": [
    "datafitur =  \"case8\" #CASE 3\n",
    "data,arousal_mean,valence_mean = load(datafitur) #Load\n",
    "print(data.shape)\n",
    "\n",
    "scaled_ar = minmax_scale(arousal_mean.values,feature_range=(-1, 1))\n",
    "scaled_val = minmax_scale(valence_mean.values,feature_range=(-1, 1))\n",
    "\n",
    "train_data_a, test_data_a, train_values_a, test_values_a = split(data,scaled_ar) #split arousal\n",
    "train_data_v, test_data_v, train_values_v, test_values_v = split(data,scaled_val) #split valence"
   ]
  },
  {
   "cell_type": "code",
   "execution_count": 89,
   "metadata": {
    "collapsed": true
   },
   "outputs": [],
   "source": [
    "gpr_a = GPR(kernel=kernels, alpha=1e-10, \n",
    "                    optimizer='fmin_l_bfgs_b', \n",
    "                    n_restarts_optimizer=10, \n",
    "                    normalize_y=True,  \n",
    "                    random_state=1000) #init Arousal\n",
    "\n",
    "gpr_v = GPR(kernel=kernels, alpha=1e-10, \n",
    "                    optimizer='fmin_l_bfgs_b', \n",
    "                    n_restarts_optimizer=10, \n",
    "                    normalize_y=True,  \n",
    "                    random_state=1000) #init Valence"
   ]
  },
  {
   "cell_type": "code",
   "execution_count": 90,
   "metadata": {},
   "outputs": [
    {
     "name": "stdout",
     "output_type": "stream",
     "text": [
      "arousal:\t 1**2 * RationalQuadratic(alpha=1, length_scale=1)\n",
      "valence:\t 1**2 * RationalQuadratic(alpha=1, length_scale=1)\n"
     ]
    }
   ],
   "source": [
    "print(\"arousal:\\t\",gpr_a.kernel)\n",
    "print(\"valence:\\t\",gpr_v.kernel)"
   ]
  },
  {
   "cell_type": "code",
   "execution_count": 91,
   "metadata": {
    "collapsed": true
   },
   "outputs": [],
   "source": [
    "trained_a = training(train_data_a,train_values_a,gpr_a)\n",
    "trained_v = training(train_data_v,train_values_v,gpr_v)"
   ]
  },
  {
   "cell_type": "code",
   "execution_count": 92,
   "metadata": {
    "collapsed": true
   },
   "outputs": [],
   "source": [
    "# #Predict Arousal\n",
    "pred_a,df_a = predict(test_data_a, test_values_a, trained_a)\n",
    "# #Predict Valence\n",
    "pred_v,df_v = predict(test_data_v, test_values_v, trained_v)\n",
    "\n",
    "r2_a = score(pred_a,test_values_a) #Score Arousal\n",
    "r2_v = score(pred_v,test_values_v) #Score Valence"
   ]
  },
  {
   "cell_type": "code",
   "execution_count": 93,
   "metadata": {},
   "outputs": [
    {
     "name": "stdout",
     "output_type": "stream",
     "text": [
      "arousal:\t 1.2**2 * RationalQuadratic(alpha=0.0192, length_scale=6.44)\n",
      "valence:\t 0.865**2 * RationalQuadratic(alpha=0.0421, length_scale=2.98)\n"
     ]
    }
   ],
   "source": [
    "trained_a.set_params(kernel=trained_a.kernel_)\n",
    "trained_v.set_params(kernel=trained_v.kernel_)\n",
    "\n",
    "print(\"arousal:\\t\",trained_a.kernel)\n",
    "print(\"valence:\\t\",trained_v.kernel)"
   ]
  },
  {
   "cell_type": "code",
   "execution_count": 94,
   "metadata": {},
   "outputs": [
    {
     "data": {
      "text/html": [
       "<div>\n",
       "<style scoped>\n",
       "    .dataframe tbody tr th:only-of-type {\n",
       "        vertical-align: middle;\n",
       "    }\n",
       "\n",
       "    .dataframe tbody tr th {\n",
       "        vertical-align: top;\n",
       "    }\n",
       "\n",
       "    .dataframe thead th {\n",
       "        text-align: right;\n",
       "    }\n",
       "</style>\n",
       "<table border=\"1\" class=\"dataframe\">\n",
       "  <thead>\n",
       "    <tr style=\"text-align: right;\">\n",
       "      <th></th>\n",
       "      <th>0</th>\n",
       "      <th>1</th>\n",
       "      <th>2</th>\n",
       "      <th>3</th>\n",
       "      <th>4</th>\n",
       "      <th>5</th>\n",
       "      <th>6</th>\n",
       "      <th>7</th>\n",
       "      <th>8</th>\n",
       "      <th>9</th>\n",
       "      <th>...</th>\n",
       "      <th>214</th>\n",
       "      <th>215</th>\n",
       "      <th>216</th>\n",
       "      <th>217</th>\n",
       "      <th>218</th>\n",
       "      <th>219</th>\n",
       "      <th>220</th>\n",
       "      <th>221</th>\n",
       "      <th>222</th>\n",
       "      <th>223</th>\n",
       "    </tr>\n",
       "  </thead>\n",
       "  <tbody>\n",
       "    <tr>\n",
       "      <th>0</th>\n",
       "      <td>0.01</td>\n",
       "      <td>0.16</td>\n",
       "      <td>0.50</td>\n",
       "      <td>-0.53</td>\n",
       "      <td>-0.35</td>\n",
       "      <td>-0.16</td>\n",
       "      <td>-0.84</td>\n",
       "      <td>0.31</td>\n",
       "      <td>-0.33</td>\n",
       "      <td>-0.07</td>\n",
       "      <td>...</td>\n",
       "      <td>0.49</td>\n",
       "      <td>0.11</td>\n",
       "      <td>-0.25</td>\n",
       "      <td>-0.30</td>\n",
       "      <td>-0.11</td>\n",
       "      <td>0.01</td>\n",
       "      <td>0.34</td>\n",
       "      <td>0.44</td>\n",
       "      <td>-0.24</td>\n",
       "      <td>-0.32</td>\n",
       "    </tr>\n",
       "    <tr>\n",
       "      <th>1</th>\n",
       "      <td>0.35</td>\n",
       "      <td>0.26</td>\n",
       "      <td>0.41</td>\n",
       "      <td>-0.56</td>\n",
       "      <td>-0.44</td>\n",
       "      <td>-0.41</td>\n",
       "      <td>-0.59</td>\n",
       "      <td>0.24</td>\n",
       "      <td>-0.41</td>\n",
       "      <td>0.35</td>\n",
       "      <td>...</td>\n",
       "      <td>0.59</td>\n",
       "      <td>-0.00</td>\n",
       "      <td>-0.38</td>\n",
       "      <td>0.24</td>\n",
       "      <td>-0.09</td>\n",
       "      <td>-0.03</td>\n",
       "      <td>-0.06</td>\n",
       "      <td>0.38</td>\n",
       "      <td>-0.50</td>\n",
       "      <td>-0.82</td>\n",
       "    </tr>\n",
       "  </tbody>\n",
       "</table>\n",
       "<p>2 rows × 224 columns</p>\n",
       "</div>"
      ],
      "text/plain": [
       "    0     1     2     3     4     5     6     7     8     9    ...   214  \\\n",
       "0  0.01  0.16  0.50 -0.53 -0.35 -0.16 -0.84  0.31 -0.33 -0.07  ...  0.49   \n",
       "1  0.35  0.26  0.41 -0.56 -0.44 -0.41 -0.59  0.24 -0.41  0.35  ...  0.59   \n",
       "\n",
       "    215   216   217   218   219   220   221   222   223  \n",
       "0  0.11 -0.25 -0.30 -0.11  0.01  0.34  0.44 -0.24 -0.32  \n",
       "1 -0.00 -0.38  0.24 -0.09 -0.03 -0.06  0.38 -0.50 -0.82  \n",
       "\n",
       "[2 rows x 224 columns]"
      ]
     },
     "metadata": {},
     "output_type": "display_data"
    },
    {
     "name": "stdout",
     "output_type": "stream",
     "text": [
      "R2 Score Arousal:\t0.68\n"
     ]
    }
   ],
   "source": [
    "df_a = df_a.round(2)\n",
    "\n",
    "display(df_a.head())\n",
    "print(\"R2 Score Arousal:\\t%0.2f\" % r2_a)"
   ]
  },
  {
   "cell_type": "code",
   "execution_count": 95,
   "metadata": {},
   "outputs": [
    {
     "data": {
      "text/html": [
       "<div>\n",
       "<style scoped>\n",
       "    .dataframe tbody tr th:only-of-type {\n",
       "        vertical-align: middle;\n",
       "    }\n",
       "\n",
       "    .dataframe tbody tr th {\n",
       "        vertical-align: top;\n",
       "    }\n",
       "\n",
       "    .dataframe thead th {\n",
       "        text-align: right;\n",
       "    }\n",
       "</style>\n",
       "<table border=\"1\" class=\"dataframe\">\n",
       "  <thead>\n",
       "    <tr style=\"text-align: right;\">\n",
       "      <th></th>\n",
       "      <th>0</th>\n",
       "      <th>1</th>\n",
       "      <th>2</th>\n",
       "      <th>3</th>\n",
       "      <th>4</th>\n",
       "      <th>5</th>\n",
       "      <th>6</th>\n",
       "      <th>7</th>\n",
       "      <th>8</th>\n",
       "      <th>9</th>\n",
       "      <th>...</th>\n",
       "      <th>214</th>\n",
       "      <th>215</th>\n",
       "      <th>216</th>\n",
       "      <th>217</th>\n",
       "      <th>218</th>\n",
       "      <th>219</th>\n",
       "      <th>220</th>\n",
       "      <th>221</th>\n",
       "      <th>222</th>\n",
       "      <th>223</th>\n",
       "    </tr>\n",
       "  </thead>\n",
       "  <tbody>\n",
       "    <tr>\n",
       "      <th>0</th>\n",
       "      <td>0.22</td>\n",
       "      <td>0.22</td>\n",
       "      <td>0.39</td>\n",
       "      <td>-0.36</td>\n",
       "      <td>-0.08</td>\n",
       "      <td>-0.02</td>\n",
       "      <td>-0.36</td>\n",
       "      <td>0.37</td>\n",
       "      <td>0.12</td>\n",
       "      <td>0.12</td>\n",
       "      <td>...</td>\n",
       "      <td>0.48</td>\n",
       "      <td>0.50</td>\n",
       "      <td>-0.28</td>\n",
       "      <td>-0.19</td>\n",
       "      <td>-0.06</td>\n",
       "      <td>0.08</td>\n",
       "      <td>0.21</td>\n",
       "      <td>0.14</td>\n",
       "      <td>-0.32</td>\n",
       "      <td>-0.13</td>\n",
       "    </tr>\n",
       "    <tr>\n",
       "      <th>1</th>\n",
       "      <td>-0.66</td>\n",
       "      <td>0.48</td>\n",
       "      <td>0.35</td>\n",
       "      <td>-0.66</td>\n",
       "      <td>0.05</td>\n",
       "      <td>-0.51</td>\n",
       "      <td>-0.08</td>\n",
       "      <td>-0.17</td>\n",
       "      <td>-0.23</td>\n",
       "      <td>0.57</td>\n",
       "      <td>...</td>\n",
       "      <td>0.54</td>\n",
       "      <td>-0.02</td>\n",
       "      <td>-0.72</td>\n",
       "      <td>0.23</td>\n",
       "      <td>-0.32</td>\n",
       "      <td>-0.14</td>\n",
       "      <td>0.51</td>\n",
       "      <td>0.51</td>\n",
       "      <td>-0.26</td>\n",
       "      <td>-0.42</td>\n",
       "    </tr>\n",
       "  </tbody>\n",
       "</table>\n",
       "<p>2 rows × 224 columns</p>\n",
       "</div>"
      ],
      "text/plain": [
       "    0     1     2     3     4     5     6     7     8     9    ...   214  \\\n",
       "0  0.22  0.22  0.39 -0.36 -0.08 -0.02 -0.36  0.37  0.12  0.12  ...  0.48   \n",
       "1 -0.66  0.48  0.35 -0.66  0.05 -0.51 -0.08 -0.17 -0.23  0.57  ...  0.54   \n",
       "\n",
       "    215   216   217   218   219   220   221   222   223  \n",
       "0  0.50 -0.28 -0.19 -0.06  0.08  0.21  0.14 -0.32 -0.13  \n",
       "1 -0.02 -0.72  0.23 -0.32 -0.14  0.51  0.51 -0.26 -0.42  \n",
       "\n",
       "[2 rows x 224 columns]"
      ]
     },
     "metadata": {},
     "output_type": "display_data"
    },
    {
     "name": "stdout",
     "output_type": "stream",
     "text": [
      "R2 Score Valence:\t0.39\n"
     ]
    }
   ],
   "source": [
    "df_v = df_v.round(2)\n",
    "\n",
    "display(df_v.head())\n",
    "print(\"R2 Score Valence:\\t%0.2f\" % r2_v)"
   ]
  },
  {
   "cell_type": "code",
   "execution_count": 96,
   "metadata": {
    "collapsed": true
   },
   "outputs": [],
   "source": [
    "# scores_a = crosval(gpr_a,data,scaled_ar) #Arousal Regression\n",
    "# scores_v = crosval(gpr_v,data,scaled_val) #Arousal Regression"
   ]
  },
  {
   "cell_type": "code",
   "execution_count": 97,
   "metadata": {
    "collapsed": true
   },
   "outputs": [],
   "source": [
    "# print(\"R2 Score Valence:\\t\",scores_a)\n",
    "# print(\"R2 Score Valence:\\t%0.2f (+/- %0.2f)\" % (scores_a.mean(), scores_a.std() ))"
   ]
  },
  {
   "cell_type": "code",
   "execution_count": 98,
   "metadata": {
    "collapsed": true
   },
   "outputs": [],
   "source": [
    "# print(\"R2 Score Valence:\\t\",scores_v)\n",
    "# print(\"R2 Score Valence:\\t%0.2f (+/- %0.2f)\" % (scores_v.mean(), scores_v.std() ))"
   ]
  },
  {
   "cell_type": "code",
   "execution_count": 99,
   "metadata": {
    "collapsed": true
   },
   "outputs": [],
   "source": [
    "save_predict(df_a.round(2),df_v.round(2),datafitur)\n",
    "save_model(trained_a,datafitur,'arousal/') #save model Arousal\n",
    "save_model(trained_v,datafitur,'valence/') #save model Valence"
   ]
  },
  {
   "cell_type": "markdown",
   "metadata": {},
   "source": [
    "# CASE 9"
   ]
  },
  {
   "cell_type": "code",
   "execution_count": 100,
   "metadata": {},
   "outputs": [
    {
     "name": "stdout",
     "output_type": "stream",
     "text": [
      "(744, 58)\n"
     ]
    }
   ],
   "source": [
    "datafitur =  \"case9\" #CASE 3\n",
    "data,arousal_mean,valence_mean = load(datafitur) #Load\n",
    "print(data.shape)\n",
    "\n",
    "scaled_ar = minmax_scale(arousal_mean.values,feature_range=(-1, 1))\n",
    "scaled_val = minmax_scale(valence_mean.values,feature_range=(-1, 1))\n",
    "\n",
    "train_data_a, test_data_a, train_values_a, test_values_a = split(data,scaled_ar) #split arousal\n",
    "train_data_v, test_data_v, train_values_v, test_values_v = split(data,scaled_val) #split valence"
   ]
  },
  {
   "cell_type": "code",
   "execution_count": 101,
   "metadata": {
    "collapsed": true
   },
   "outputs": [],
   "source": [
    "gpr_a = GPR(kernel=kernels, alpha=1e-10, \n",
    "                    optimizer='fmin_l_bfgs_b', \n",
    "                    n_restarts_optimizer=10, \n",
    "                    normalize_y=True,  \n",
    "                    random_state=1000) #init Arousal\n",
    "\n",
    "gpr_v = GPR(kernel=kernels, alpha=1e-10, \n",
    "                    optimizer='fmin_l_bfgs_b', \n",
    "                    n_restarts_optimizer=10, \n",
    "                    normalize_y=True,  \n",
    "                    random_state=1000) #init Valence"
   ]
  },
  {
   "cell_type": "code",
   "execution_count": 102,
   "metadata": {},
   "outputs": [
    {
     "name": "stdout",
     "output_type": "stream",
     "text": [
      "arousal:\t 1**2 * RationalQuadratic(alpha=1, length_scale=1)\n",
      "valence:\t 1**2 * RationalQuadratic(alpha=1, length_scale=1)\n"
     ]
    }
   ],
   "source": [
    "print(\"arousal:\\t\",gpr_a.kernel)\n",
    "print(\"valence:\\t\",gpr_v.kernel)"
   ]
  },
  {
   "cell_type": "code",
   "execution_count": 103,
   "metadata": {
    "collapsed": true
   },
   "outputs": [],
   "source": [
    "trained_a = training(train_data_a,train_values_a,gpr_a)\n",
    "trained_v = training(train_data_v,train_values_v,gpr_v)"
   ]
  },
  {
   "cell_type": "code",
   "execution_count": 104,
   "metadata": {
    "collapsed": true
   },
   "outputs": [],
   "source": [
    "# #Predict Arousal\n",
    "pred_a,df_a = predict(test_data_a, test_values_a, trained_a)\n",
    "# #Predict Valence\n",
    "pred_v,df_v = predict(test_data_v, test_values_v, trained_v)\n",
    "\n",
    "r2_a = score(pred_a,test_values_a) #Score Arousal\n",
    "r2_v = score(pred_v,test_values_v) #Score Valence"
   ]
  },
  {
   "cell_type": "code",
   "execution_count": 105,
   "metadata": {},
   "outputs": [
    {
     "name": "stdout",
     "output_type": "stream",
     "text": [
      "arousal:\t 1.11**2 * RationalQuadratic(alpha=0.0313, length_scale=10.3)\n",
      "valence:\t 0.837**2 * RationalQuadratic(alpha=0.0606, length_scale=5.2)\n"
     ]
    }
   ],
   "source": [
    "trained_a.set_params(kernel=trained_a.kernel_)\n",
    "trained_v.set_params(kernel=trained_v.kernel_)\n",
    "\n",
    "print(\"arousal:\\t\",trained_a.kernel)\n",
    "print(\"valence:\\t\",trained_v.kernel)"
   ]
  },
  {
   "cell_type": "code",
   "execution_count": 106,
   "metadata": {},
   "outputs": [
    {
     "data": {
      "text/html": [
       "<div>\n",
       "<style scoped>\n",
       "    .dataframe tbody tr th:only-of-type {\n",
       "        vertical-align: middle;\n",
       "    }\n",
       "\n",
       "    .dataframe tbody tr th {\n",
       "        vertical-align: top;\n",
       "    }\n",
       "\n",
       "    .dataframe thead th {\n",
       "        text-align: right;\n",
       "    }\n",
       "</style>\n",
       "<table border=\"1\" class=\"dataframe\">\n",
       "  <thead>\n",
       "    <tr style=\"text-align: right;\">\n",
       "      <th></th>\n",
       "      <th>0</th>\n",
       "      <th>1</th>\n",
       "      <th>2</th>\n",
       "      <th>3</th>\n",
       "      <th>4</th>\n",
       "      <th>5</th>\n",
       "      <th>6</th>\n",
       "      <th>7</th>\n",
       "      <th>8</th>\n",
       "      <th>9</th>\n",
       "      <th>...</th>\n",
       "      <th>214</th>\n",
       "      <th>215</th>\n",
       "      <th>216</th>\n",
       "      <th>217</th>\n",
       "      <th>218</th>\n",
       "      <th>219</th>\n",
       "      <th>220</th>\n",
       "      <th>221</th>\n",
       "      <th>222</th>\n",
       "      <th>223</th>\n",
       "    </tr>\n",
       "  </thead>\n",
       "  <tbody>\n",
       "    <tr>\n",
       "      <th>0</th>\n",
       "      <td>-0.07</td>\n",
       "      <td>0.14</td>\n",
       "      <td>0.50</td>\n",
       "      <td>-0.57</td>\n",
       "      <td>-0.38</td>\n",
       "      <td>-0.23</td>\n",
       "      <td>-0.72</td>\n",
       "      <td>0.26</td>\n",
       "      <td>-0.22</td>\n",
       "      <td>-0.05</td>\n",
       "      <td>...</td>\n",
       "      <td>0.52</td>\n",
       "      <td>0.12</td>\n",
       "      <td>-0.24</td>\n",
       "      <td>-0.33</td>\n",
       "      <td>-0.04</td>\n",
       "      <td>0.03</td>\n",
       "      <td>0.36</td>\n",
       "      <td>0.46</td>\n",
       "      <td>-0.3</td>\n",
       "      <td>-0.45</td>\n",
       "    </tr>\n",
       "    <tr>\n",
       "      <th>1</th>\n",
       "      <td>0.35</td>\n",
       "      <td>0.26</td>\n",
       "      <td>0.41</td>\n",
       "      <td>-0.56</td>\n",
       "      <td>-0.44</td>\n",
       "      <td>-0.41</td>\n",
       "      <td>-0.59</td>\n",
       "      <td>0.24</td>\n",
       "      <td>-0.41</td>\n",
       "      <td>0.35</td>\n",
       "      <td>...</td>\n",
       "      <td>0.59</td>\n",
       "      <td>-0.00</td>\n",
       "      <td>-0.38</td>\n",
       "      <td>0.24</td>\n",
       "      <td>-0.09</td>\n",
       "      <td>-0.03</td>\n",
       "      <td>-0.06</td>\n",
       "      <td>0.38</td>\n",
       "      <td>-0.5</td>\n",
       "      <td>-0.82</td>\n",
       "    </tr>\n",
       "  </tbody>\n",
       "</table>\n",
       "<p>2 rows × 224 columns</p>\n",
       "</div>"
      ],
      "text/plain": [
       "    0     1     2     3     4     5     6     7     8     9    ...   214  \\\n",
       "0 -0.07  0.14  0.50 -0.57 -0.38 -0.23 -0.72  0.26 -0.22 -0.05  ...  0.52   \n",
       "1  0.35  0.26  0.41 -0.56 -0.44 -0.41 -0.59  0.24 -0.41  0.35  ...  0.59   \n",
       "\n",
       "    215   216   217   218   219   220   221  222   223  \n",
       "0  0.12 -0.24 -0.33 -0.04  0.03  0.36  0.46 -0.3 -0.45  \n",
       "1 -0.00 -0.38  0.24 -0.09 -0.03 -0.06  0.38 -0.5 -0.82  \n",
       "\n",
       "[2 rows x 224 columns]"
      ]
     },
     "metadata": {},
     "output_type": "display_data"
    },
    {
     "name": "stdout",
     "output_type": "stream",
     "text": [
      "R2 Score Arousal:\t0.67\n"
     ]
    }
   ],
   "source": [
    "df_a = df_a.round(2)\n",
    "\n",
    "display(df_a.head())\n",
    "print(\"R2 Score Arousal:\\t%0.2f\" % r2_a)"
   ]
  },
  {
   "cell_type": "code",
   "execution_count": 107,
   "metadata": {},
   "outputs": [
    {
     "data": {
      "text/html": [
       "<div>\n",
       "<style scoped>\n",
       "    .dataframe tbody tr th:only-of-type {\n",
       "        vertical-align: middle;\n",
       "    }\n",
       "\n",
       "    .dataframe tbody tr th {\n",
       "        vertical-align: top;\n",
       "    }\n",
       "\n",
       "    .dataframe thead th {\n",
       "        text-align: right;\n",
       "    }\n",
       "</style>\n",
       "<table border=\"1\" class=\"dataframe\">\n",
       "  <thead>\n",
       "    <tr style=\"text-align: right;\">\n",
       "      <th></th>\n",
       "      <th>0</th>\n",
       "      <th>1</th>\n",
       "      <th>2</th>\n",
       "      <th>3</th>\n",
       "      <th>4</th>\n",
       "      <th>5</th>\n",
       "      <th>6</th>\n",
       "      <th>7</th>\n",
       "      <th>8</th>\n",
       "      <th>9</th>\n",
       "      <th>...</th>\n",
       "      <th>214</th>\n",
       "      <th>215</th>\n",
       "      <th>216</th>\n",
       "      <th>217</th>\n",
       "      <th>218</th>\n",
       "      <th>219</th>\n",
       "      <th>220</th>\n",
       "      <th>221</th>\n",
       "      <th>222</th>\n",
       "      <th>223</th>\n",
       "    </tr>\n",
       "  </thead>\n",
       "  <tbody>\n",
       "    <tr>\n",
       "      <th>0</th>\n",
       "      <td>0.15</td>\n",
       "      <td>0.30</td>\n",
       "      <td>0.55</td>\n",
       "      <td>-0.17</td>\n",
       "      <td>-0.02</td>\n",
       "      <td>-0.02</td>\n",
       "      <td>-0.39</td>\n",
       "      <td>0.29</td>\n",
       "      <td>0.17</td>\n",
       "      <td>0.04</td>\n",
       "      <td>...</td>\n",
       "      <td>0.31</td>\n",
       "      <td>0.09</td>\n",
       "      <td>-0.23</td>\n",
       "      <td>-0.25</td>\n",
       "      <td>-0.10</td>\n",
       "      <td>0.02</td>\n",
       "      <td>0.03</td>\n",
       "      <td>0.15</td>\n",
       "      <td>-0.28</td>\n",
       "      <td>-0.03</td>\n",
       "    </tr>\n",
       "    <tr>\n",
       "      <th>1</th>\n",
       "      <td>-0.66</td>\n",
       "      <td>0.48</td>\n",
       "      <td>0.35</td>\n",
       "      <td>-0.66</td>\n",
       "      <td>0.05</td>\n",
       "      <td>-0.51</td>\n",
       "      <td>-0.08</td>\n",
       "      <td>-0.17</td>\n",
       "      <td>-0.23</td>\n",
       "      <td>0.57</td>\n",
       "      <td>...</td>\n",
       "      <td>0.54</td>\n",
       "      <td>-0.02</td>\n",
       "      <td>-0.72</td>\n",
       "      <td>0.23</td>\n",
       "      <td>-0.32</td>\n",
       "      <td>-0.14</td>\n",
       "      <td>0.51</td>\n",
       "      <td>0.51</td>\n",
       "      <td>-0.26</td>\n",
       "      <td>-0.42</td>\n",
       "    </tr>\n",
       "  </tbody>\n",
       "</table>\n",
       "<p>2 rows × 224 columns</p>\n",
       "</div>"
      ],
      "text/plain": [
       "    0     1     2     3     4     5     6     7     8     9    ...   214  \\\n",
       "0  0.15  0.30  0.55 -0.17 -0.02 -0.02 -0.39  0.29  0.17  0.04  ...  0.31   \n",
       "1 -0.66  0.48  0.35 -0.66  0.05 -0.51 -0.08 -0.17 -0.23  0.57  ...  0.54   \n",
       "\n",
       "    215   216   217   218   219   220   221   222   223  \n",
       "0  0.09 -0.23 -0.25 -0.10  0.02  0.03  0.15 -0.28 -0.03  \n",
       "1 -0.02 -0.72  0.23 -0.32 -0.14  0.51  0.51 -0.26 -0.42  \n",
       "\n",
       "[2 rows x 224 columns]"
      ]
     },
     "metadata": {},
     "output_type": "display_data"
    },
    {
     "name": "stdout",
     "output_type": "stream",
     "text": [
      "R2 Score Valence:\t0.38\n"
     ]
    }
   ],
   "source": [
    "df_v = df_v.round(2)\n",
    "\n",
    "display(df_v.head())\n",
    "print(\"R2 Score Valence:\\t%0.2f\" % r2_v)"
   ]
  },
  {
   "cell_type": "code",
   "execution_count": 108,
   "metadata": {
    "collapsed": true
   },
   "outputs": [],
   "source": [
    "# scores_a = crosval(gpr_a,data,scaled_ar) #Arousal Regression\n",
    "# scores_v = crosval(gpr_v,data,scaled_val) #Arousal Regression"
   ]
  },
  {
   "cell_type": "code",
   "execution_count": 109,
   "metadata": {
    "collapsed": true
   },
   "outputs": [],
   "source": [
    "# print(\"R2 Score Valence:\\t\",scores_a)\n",
    "# print(\"R2 Score Valence:\\t%0.2f (+/- %0.2f)\" % (scores_a.mean(), scores_a.std() ))"
   ]
  },
  {
   "cell_type": "code",
   "execution_count": 110,
   "metadata": {
    "collapsed": true
   },
   "outputs": [],
   "source": [
    "# print(\"R2 Score Valence:\\t\",scores_v)\n",
    "# print(\"R2 Score Valence:\\t%0.2f (+/- %0.2f)\" % (scores_v.mean(), scores_v.std() ))"
   ]
  },
  {
   "cell_type": "code",
   "execution_count": 111,
   "metadata": {
    "collapsed": true
   },
   "outputs": [],
   "source": [
    "save_predict(df_a.round(2),df_v.round(2),datafitur)\n",
    "save_model(trained_a,datafitur,'arousal/') #save model Arousal\n",
    "save_model(trained_v,datafitur,'valence/') #save model Valence"
   ]
  },
  {
   "cell_type": "markdown",
   "metadata": {},
   "source": [
    "# CASE 10"
   ]
  },
  {
   "cell_type": "code",
   "execution_count": 112,
   "metadata": {},
   "outputs": [
    {
     "name": "stdout",
     "output_type": "stream",
     "text": [
      "(744, 61)\n"
     ]
    }
   ],
   "source": [
    "datafitur =  \"case10\" #CASE 3\n",
    "data,arousal_mean,valence_mean = load(datafitur) #Load\n",
    "print(data.shape)\n",
    "\n",
    "scaled_ar = minmax_scale(arousal_mean.values,feature_range=(-1, 1))\n",
    "scaled_val = minmax_scale(valence_mean.values,feature_range=(-1, 1))\n",
    "\n",
    "train_data_a, test_data_a, train_values_a, test_values_a = split(data,scaled_ar) #split arousal\n",
    "train_data_v, test_data_v, train_values_v, test_values_v = split(data,scaled_val) #split valence"
   ]
  },
  {
   "cell_type": "code",
   "execution_count": 113,
   "metadata": {
    "collapsed": true
   },
   "outputs": [],
   "source": [
    "gpr_a = GPR(kernel=kernels, alpha=1e-10, \n",
    "                    optimizer='fmin_l_bfgs_b', \n",
    "                    n_restarts_optimizer=10, \n",
    "                    normalize_y=True,  \n",
    "                    random_state=1000) #init Arousal\n",
    "\n",
    "gpr_v = GPR(kernel=kernels, alpha=1e-10, \n",
    "                    optimizer='fmin_l_bfgs_b', \n",
    "                    n_restarts_optimizer=10, \n",
    "                    normalize_y=True,  \n",
    "                    random_state=1000) #init Valence"
   ]
  },
  {
   "cell_type": "code",
   "execution_count": 114,
   "metadata": {},
   "outputs": [
    {
     "name": "stdout",
     "output_type": "stream",
     "text": [
      "arousal:\t 1**2 * RationalQuadratic(alpha=1, length_scale=1)\n",
      "valence:\t 1**2 * RationalQuadratic(alpha=1, length_scale=1)\n"
     ]
    }
   ],
   "source": [
    "print(\"arousal:\\t\",gpr_a.kernel)\n",
    "print(\"valence:\\t\",gpr_v.kernel)"
   ]
  },
  {
   "cell_type": "code",
   "execution_count": 115,
   "metadata": {
    "collapsed": true
   },
   "outputs": [],
   "source": [
    "trained_a = training(train_data_a,train_values_a,gpr_a)\n",
    "trained_v = training(train_data_v,train_values_v,gpr_v)"
   ]
  },
  {
   "cell_type": "code",
   "execution_count": 116,
   "metadata": {
    "collapsed": true
   },
   "outputs": [],
   "source": [
    "# #Predict Arousal\n",
    "pred_a,df_a = predict(test_data_a, test_values_a, trained_a)\n",
    "# #Predict Valence\n",
    "pred_v,df_v = predict(test_data_v, test_values_v, trained_v)\n",
    "\n",
    "r2_a = score(pred_a,test_values_a) #Score Arousal\n",
    "r2_v = score(pred_v,test_values_v) #Score Valence"
   ]
  },
  {
   "cell_type": "code",
   "execution_count": 117,
   "metadata": {},
   "outputs": [
    {
     "name": "stdout",
     "output_type": "stream",
     "text": [
      "arousal:\t 1.07**2 * RationalQuadratic(alpha=0.0319, length_scale=10.1)\n",
      "valence:\t 0.849**2 * RationalQuadratic(alpha=0.0573, length_scale=5.28)\n"
     ]
    }
   ],
   "source": [
    "trained_a.set_params(kernel=trained_a.kernel_)\n",
    "trained_v.set_params(kernel=trained_v.kernel_)\n",
    "\n",
    "print(\"arousal:\\t\",trained_a.kernel)\n",
    "print(\"valence:\\t\",trained_v.kernel)"
   ]
  },
  {
   "cell_type": "code",
   "execution_count": 118,
   "metadata": {},
   "outputs": [
    {
     "data": {
      "text/html": [
       "<div>\n",
       "<style scoped>\n",
       "    .dataframe tbody tr th:only-of-type {\n",
       "        vertical-align: middle;\n",
       "    }\n",
       "\n",
       "    .dataframe tbody tr th {\n",
       "        vertical-align: top;\n",
       "    }\n",
       "\n",
       "    .dataframe thead th {\n",
       "        text-align: right;\n",
       "    }\n",
       "</style>\n",
       "<table border=\"1\" class=\"dataframe\">\n",
       "  <thead>\n",
       "    <tr style=\"text-align: right;\">\n",
       "      <th></th>\n",
       "      <th>0</th>\n",
       "      <th>1</th>\n",
       "      <th>2</th>\n",
       "      <th>3</th>\n",
       "      <th>4</th>\n",
       "      <th>5</th>\n",
       "      <th>6</th>\n",
       "      <th>7</th>\n",
       "      <th>8</th>\n",
       "      <th>9</th>\n",
       "      <th>...</th>\n",
       "      <th>214</th>\n",
       "      <th>215</th>\n",
       "      <th>216</th>\n",
       "      <th>217</th>\n",
       "      <th>218</th>\n",
       "      <th>219</th>\n",
       "      <th>220</th>\n",
       "      <th>221</th>\n",
       "      <th>222</th>\n",
       "      <th>223</th>\n",
       "    </tr>\n",
       "  </thead>\n",
       "  <tbody>\n",
       "    <tr>\n",
       "      <th>0</th>\n",
       "      <td>-0.07</td>\n",
       "      <td>0.16</td>\n",
       "      <td>0.53</td>\n",
       "      <td>-0.60</td>\n",
       "      <td>-0.32</td>\n",
       "      <td>-0.24</td>\n",
       "      <td>-0.71</td>\n",
       "      <td>0.30</td>\n",
       "      <td>-0.28</td>\n",
       "      <td>-0.03</td>\n",
       "      <td>...</td>\n",
       "      <td>0.55</td>\n",
       "      <td>0.13</td>\n",
       "      <td>-0.21</td>\n",
       "      <td>-0.33</td>\n",
       "      <td>-0.08</td>\n",
       "      <td>0.05</td>\n",
       "      <td>0.38</td>\n",
       "      <td>0.48</td>\n",
       "      <td>-0.32</td>\n",
       "      <td>-0.50</td>\n",
       "    </tr>\n",
       "    <tr>\n",
       "      <th>1</th>\n",
       "      <td>0.35</td>\n",
       "      <td>0.26</td>\n",
       "      <td>0.41</td>\n",
       "      <td>-0.56</td>\n",
       "      <td>-0.44</td>\n",
       "      <td>-0.41</td>\n",
       "      <td>-0.59</td>\n",
       "      <td>0.24</td>\n",
       "      <td>-0.41</td>\n",
       "      <td>0.35</td>\n",
       "      <td>...</td>\n",
       "      <td>0.59</td>\n",
       "      <td>-0.00</td>\n",
       "      <td>-0.38</td>\n",
       "      <td>0.24</td>\n",
       "      <td>-0.09</td>\n",
       "      <td>-0.03</td>\n",
       "      <td>-0.06</td>\n",
       "      <td>0.38</td>\n",
       "      <td>-0.50</td>\n",
       "      <td>-0.82</td>\n",
       "    </tr>\n",
       "  </tbody>\n",
       "</table>\n",
       "<p>2 rows × 224 columns</p>\n",
       "</div>"
      ],
      "text/plain": [
       "    0     1     2     3     4     5     6     7     8     9    ...   214  \\\n",
       "0 -0.07  0.16  0.53 -0.60 -0.32 -0.24 -0.71  0.30 -0.28 -0.03  ...  0.55   \n",
       "1  0.35  0.26  0.41 -0.56 -0.44 -0.41 -0.59  0.24 -0.41  0.35  ...  0.59   \n",
       "\n",
       "    215   216   217   218   219   220   221   222   223  \n",
       "0  0.13 -0.21 -0.33 -0.08  0.05  0.38  0.48 -0.32 -0.50  \n",
       "1 -0.00 -0.38  0.24 -0.09 -0.03 -0.06  0.38 -0.50 -0.82  \n",
       "\n",
       "[2 rows x 224 columns]"
      ]
     },
     "metadata": {},
     "output_type": "display_data"
    },
    {
     "name": "stdout",
     "output_type": "stream",
     "text": [
      "R2 Score Arousal:\t0.68\n"
     ]
    }
   ],
   "source": [
    "df_a = df_a.round(2)\n",
    "\n",
    "display(df_a.head())\n",
    "print(\"R2 Score Arousal:\\t%0.2f\" % r2_a)"
   ]
  },
  {
   "cell_type": "code",
   "execution_count": 119,
   "metadata": {},
   "outputs": [
    {
     "data": {
      "text/html": [
       "<div>\n",
       "<style scoped>\n",
       "    .dataframe tbody tr th:only-of-type {\n",
       "        vertical-align: middle;\n",
       "    }\n",
       "\n",
       "    .dataframe tbody tr th {\n",
       "        vertical-align: top;\n",
       "    }\n",
       "\n",
       "    .dataframe thead th {\n",
       "        text-align: right;\n",
       "    }\n",
       "</style>\n",
       "<table border=\"1\" class=\"dataframe\">\n",
       "  <thead>\n",
       "    <tr style=\"text-align: right;\">\n",
       "      <th></th>\n",
       "      <th>0</th>\n",
       "      <th>1</th>\n",
       "      <th>2</th>\n",
       "      <th>3</th>\n",
       "      <th>4</th>\n",
       "      <th>5</th>\n",
       "      <th>6</th>\n",
       "      <th>7</th>\n",
       "      <th>8</th>\n",
       "      <th>9</th>\n",
       "      <th>...</th>\n",
       "      <th>214</th>\n",
       "      <th>215</th>\n",
       "      <th>216</th>\n",
       "      <th>217</th>\n",
       "      <th>218</th>\n",
       "      <th>219</th>\n",
       "      <th>220</th>\n",
       "      <th>221</th>\n",
       "      <th>222</th>\n",
       "      <th>223</th>\n",
       "    </tr>\n",
       "  </thead>\n",
       "  <tbody>\n",
       "    <tr>\n",
       "      <th>0</th>\n",
       "      <td>0.15</td>\n",
       "      <td>0.29</td>\n",
       "      <td>0.55</td>\n",
       "      <td>-0.17</td>\n",
       "      <td>0.00</td>\n",
       "      <td>-0.02</td>\n",
       "      <td>-0.39</td>\n",
       "      <td>0.34</td>\n",
       "      <td>0.10</td>\n",
       "      <td>0.06</td>\n",
       "      <td>...</td>\n",
       "      <td>0.30</td>\n",
       "      <td>0.11</td>\n",
       "      <td>-0.23</td>\n",
       "      <td>-0.25</td>\n",
       "      <td>-0.11</td>\n",
       "      <td>0.03</td>\n",
       "      <td>0.04</td>\n",
       "      <td>0.17</td>\n",
       "      <td>-0.29</td>\n",
       "      <td>-0.04</td>\n",
       "    </tr>\n",
       "    <tr>\n",
       "      <th>1</th>\n",
       "      <td>-0.66</td>\n",
       "      <td>0.48</td>\n",
       "      <td>0.35</td>\n",
       "      <td>-0.66</td>\n",
       "      <td>0.05</td>\n",
       "      <td>-0.51</td>\n",
       "      <td>-0.08</td>\n",
       "      <td>-0.17</td>\n",
       "      <td>-0.23</td>\n",
       "      <td>0.57</td>\n",
       "      <td>...</td>\n",
       "      <td>0.54</td>\n",
       "      <td>-0.02</td>\n",
       "      <td>-0.72</td>\n",
       "      <td>0.23</td>\n",
       "      <td>-0.32</td>\n",
       "      <td>-0.14</td>\n",
       "      <td>0.51</td>\n",
       "      <td>0.51</td>\n",
       "      <td>-0.26</td>\n",
       "      <td>-0.42</td>\n",
       "    </tr>\n",
       "  </tbody>\n",
       "</table>\n",
       "<p>2 rows × 224 columns</p>\n",
       "</div>"
      ],
      "text/plain": [
       "    0     1     2     3     4     5     6     7     8     9    ...   214  \\\n",
       "0  0.15  0.29  0.55 -0.17  0.00 -0.02 -0.39  0.34  0.10  0.06  ...  0.30   \n",
       "1 -0.66  0.48  0.35 -0.66  0.05 -0.51 -0.08 -0.17 -0.23  0.57  ...  0.54   \n",
       "\n",
       "    215   216   217   218   219   220   221   222   223  \n",
       "0  0.11 -0.23 -0.25 -0.11  0.03  0.04  0.17 -0.29 -0.04  \n",
       "1 -0.02 -0.72  0.23 -0.32 -0.14  0.51  0.51 -0.26 -0.42  \n",
       "\n",
       "[2 rows x 224 columns]"
      ]
     },
     "metadata": {},
     "output_type": "display_data"
    },
    {
     "name": "stdout",
     "output_type": "stream",
     "text": [
      "R2 Score Valence:\t0.38\n"
     ]
    }
   ],
   "source": [
    "df_v = df_v.round(2)\n",
    "\n",
    "display(df_v.head())\n",
    "print(\"R2 Score Valence:\\t%0.2f\" % r2_v)"
   ]
  },
  {
   "cell_type": "code",
   "execution_count": 120,
   "metadata": {
    "collapsed": true
   },
   "outputs": [],
   "source": [
    "# scores_a = crosval(gpr_a,data,scaled_ar) #Arousal Regression\n",
    "# scores_v = crosval(gpr_v,data,scaled_val) #Arousal Regression"
   ]
  },
  {
   "cell_type": "code",
   "execution_count": 121,
   "metadata": {
    "collapsed": true
   },
   "outputs": [],
   "source": [
    "# print(\"R2 Score Valence:\\t\",scores_a)\n",
    "# print(\"R2 Score Valence:\\t%0.2f (+/- %0.2f)\" % (scores_a.mean(), scores_a.std() ))"
   ]
  },
  {
   "cell_type": "code",
   "execution_count": 122,
   "metadata": {
    "collapsed": true
   },
   "outputs": [],
   "source": [
    "# print(\"R2 Score Valence:\\t\",scores_v)\n",
    "# print(\"R2 Score Valence:\\t%0.2f (+/- %0.2f)\" % (scores_v.mean(), scores_v.std() ))"
   ]
  },
  {
   "cell_type": "code",
   "execution_count": 123,
   "metadata": {
    "collapsed": true
   },
   "outputs": [],
   "source": [
    "save_predict(df_a.round(2),df_v.round(2),datafitur)\n",
    "save_model(trained_a,datafitur,'arousal/') #save model Arousal\n",
    "save_model(trained_v,datafitur,'valence/') #save model Valence"
   ]
  }
 ],
 "metadata": {
  "kernelspec": {
   "display_name": "Python 3",
   "language": "python",
   "name": "python3"
  },
  "language_info": {
   "codemirror_mode": {
    "name": "ipython",
    "version": 3
   },
   "file_extension": ".py",
   "mimetype": "text/x-python",
   "name": "python",
   "nbconvert_exporter": "python",
   "pygments_lexer": "ipython3",
   "version": "3.6.2"
  }
 },
 "nbformat": 4,
 "nbformat_minor": 2
}
