{
 "cells": [
  {
   "cell_type": "code",
   "execution_count": 1,
   "metadata": {},
   "outputs": [],
   "source": [
    "import pandas as pd\n",
    "import numpy as np\n",
    "from sklearn.externals import joblib\n",
    "\n",
    "from sklearn.gaussian_process import GaussianProcessRegressor as GPR\n",
    "from sklearn.gaussian_process.kernels import RationalQuadratic, Matern\n",
    "from sklearn.model_selection import cross_val_score\n",
    "from sklearn.model_selection import train_test_split\n",
    "from sklearn.metrics import r2_score\n",
    "\n",
    "from sklearn.model_selection import GridSearchCV"
   ]
  },
  {
   "cell_type": "code",
   "execution_count": 2,
   "metadata": {},
   "outputs": [],
   "source": [
    "# #PATH\n",
    "# path_info = \"F:/178/Tugas Akhir/dataset/annotations/\"\n",
    "# path_to_fitur = \"F:/178/Tugas Akhir/dataset/coba fitur/\"\n",
    "# path_to_file = \"F:/178/Tugas Akhir/dataset/clips_45sec_wav/\"\n",
    "# path_to_experiment =\"F:/178/Tugas Akhir/dataset/experiment/\"\n",
    "# path_to_model = \"F:/178/Tugas Akhir/dataset/model/\"\n",
    "# path_to_predict = \"F:/178/Tugas Akhir/dataset/predict/\"\n",
    "\n",
    "path_info = \"C:/Users/USER/Downloads/Tugas Akhir/dataset/annotations/\"\n",
    "path_to_fitur = \"C:/Users/USER/Downloads/Tugas Akhir/dataset/coba fitur/\"\n",
    "path_to_file = \"C:/Users/USER/Downloads/Tugas Akhir/dataset/clips_45sec_wav/\"\n",
    "path_to_experiment =\"C:/Users/USER/Downloads/Tugas Akhir/dataset/experiment/\"\n",
    "path_to_model = \"C:/Users/USER/Downloads/Tugas Akhir/dataset/model/\"\n",
    "path_to_predict = \"C:/Users/USER/Downloads/Tugas Akhir/dataset/predict/\""
   ]
  },
  {
   "cell_type": "code",
   "execution_count": 3,
   "metadata": {},
   "outputs": [],
   "source": [
    "def load(fitur):\n",
    "    data = pd.read_csv(path_to_experiment + fitur+\".csv\",header=None)\n",
    "    ground = pd.read_csv(path_info + \"static_annotations.csv\")\n",
    "\n",
    "    arousal_mean = ground['mean_arousal']\n",
    "    valence_mean = ground['mean_valence']\n",
    "    \n",
    "    return data,arousal_mean,valence_mean\n",
    "\n",
    "def split(data,value):\n",
    "    train_data, test_data, train_values, test_values = train_test_split(data,value,test_size=0.3,random_state=1000)\n",
    "    \n",
    "    return train_data, test_data, train_values, test_values\n",
    "    \n",
    "def predict(data,values,test,true,clf):\n",
    "    trained = clf.fit(data,values)\n",
    "    a = clf.predict(test)\n",
    "    df = pd.DataFrame(data=[a,true])\n",
    "    \n",
    "    return a,trained,df\n",
    "\n",
    "def score(a,true):\n",
    "    r2 = r2_score(true, a)\n",
    "    \n",
    "    return r2\n",
    "\n",
    "def gridsearch(data,true):\n",
    "    model = GPR()\n",
    "#     1.0 * RationalQuadratic(length_scale=1.0, alpha=0.1)\n",
    "    Cs = [1,1e1,1e2,1e3,1e4,1e5]\n",
    "    gammas = [1,1e-1,1e-2,1e-3,1e-4,1e-5]\n",
    "    parameters = {'C':Cs,'gamma':gammas}\n",
    "\n",
    "    clf = GridSearchCV(model, parameters, cv=10, scoring='r2')\n",
    "    clf.fit(data,true)\n",
    "\n",
    "    return clf.best_params_ , clf.best_score_\n",
    "\n",
    "def regresion(clf,data,values):\n",
    "    scores = cross_val_score(clf,data,values,scoring='r2',cv=10)\n",
    "    \n",
    "    return scores\n",
    "\n",
    "def save_model(model,case,types):\n",
    "    path = path_to_model+types+case+'norm_svr.sav' # save the model\n",
    "    joblib.dump(model, path)\n",
    "\n",
    "def save_predict(df1,df2,case):\n",
    "    path = path_to_predict+case+\"_norm_svr.xlsx\" # save the model\n",
    "    arousal = df1.T\n",
    "    valence = df2.T\n",
    "    merged = arousal.merge(valence, how='outer', left_index=True, right_index=True)\n",
    "    merged.to_excel(path,header=None,index=None)"
   ]
  },
  {
   "cell_type": "markdown",
   "metadata": {},
   "source": [
    "# CASE 1"
   ]
  },
  {
   "cell_type": "code",
   "execution_count": 4,
   "metadata": {},
   "outputs": [
    {
     "name": "stdout",
     "output_type": "stream",
     "text": [
      "(744, 26)\n",
      "(520, 26)\n"
     ]
    }
   ],
   "source": [
    "datafitur = \"case1\" #CASE 1\n",
    "\n",
    "data,arousal_mean,valence_mean = load(datafitur) #Load\n",
    "print(data.shape)\n",
    "\n",
    "train_data_a, test_data_a, train_values_a, test_values_a = split(data,arousal_mean) #split arousal\n",
    "train_data_v, test_data_v, train_values_v, test_values_v = split(data,valence_mean) #split valence\n",
    "print(train_data_a.shape)"
   ]
  },
  {
   "cell_type": "markdown",
   "metadata": {},
   "source": [
    "GRIDSEARCHCV"
   ]
  },
  {
   "cell_type": "code",
   "execution_count": null,
   "metadata": {},
   "outputs": [],
   "source": [
    "param_a, score_a = gridsearch(data,arousal_mean) #Gridsearch Arousal\n",
    "param_v, score_v = gridsearch(data,valence_mean) #Grinsearch Valence"
   ]
  },
  {
   "cell_type": "code",
   "execution_count": 6,
   "metadata": {},
   "outputs": [
    {
     "name": "stdout",
     "output_type": "stream",
     "text": [
      "parameter Arousal:\t {'C': 10.0, 'gamma': 0.1}\n",
      "parameter Valence:\t {'C': 100.0, 'gamma': 0.01}\n"
     ]
    }
   ],
   "source": [
    "print(\"parameter Arousal:\\t\",param_a)\n",
    "print(\"parameter Valence:\\t\",param_v)"
   ]
  },
  {
   "cell_type": "markdown",
   "metadata": {},
   "source": [
    "INITIAL MODEL"
   ]
  },
  {
   "cell_type": "code",
   "execution_count": 6,
   "metadata": {},
   "outputs": [],
   "source": [
    "kernel = RationalQuadratic()\n",
    "\n",
    "svr_case1_a = GPR(1.0 * kernel) #init Arousal\n",
    "svr_case1_v = GPR(1.0 * kernel) #init Valence"
   ]
  },
  {
   "cell_type": "markdown",
   "metadata": {},
   "source": [
    "TRAIN"
   ]
  },
  {
   "cell_type": "code",
   "execution_count": 7,
   "metadata": {},
   "outputs": [],
   "source": [
    "# #Predict Arousal\n",
    "a_a,train_a,df1_a = predict(train_data_a, train_values_a, test_data_a, test_values_a, svr_case1_a)\n",
    "# #Predict Valence\n",
    "a_v,train_v,df1_v = predict(train_data_v, train_values_v, test_data_v, test_values_v, svr_case1_v)\n",
    "\n",
    "r2_a = score(a_a,test_values_a) #Score Arousal\n",
    "r2_v = score(a_v,test_values_v) #Score Valence"
   ]
  },
  {
   "cell_type": "markdown",
   "metadata": {},
   "source": [
    "AROUSAL"
   ]
  },
  {
   "cell_type": "code",
   "execution_count": 8,
   "metadata": {},
   "outputs": [
    {
     "data": {
      "text/html": [
       "<div>\n",
       "<style scoped>\n",
       "    .dataframe tbody tr th:only-of-type {\n",
       "        vertical-align: middle;\n",
       "    }\n",
       "\n",
       "    .dataframe tbody tr th {\n",
       "        vertical-align: top;\n",
       "    }\n",
       "\n",
       "    .dataframe thead th {\n",
       "        text-align: right;\n",
       "    }\n",
       "</style>\n",
       "<table border=\"1\" class=\"dataframe\">\n",
       "  <thead>\n",
       "    <tr style=\"text-align: right;\">\n",
       "      <th></th>\n",
       "      <th>0</th>\n",
       "      <th>1</th>\n",
       "      <th>2</th>\n",
       "      <th>3</th>\n",
       "      <th>4</th>\n",
       "      <th>5</th>\n",
       "      <th>6</th>\n",
       "      <th>7</th>\n",
       "      <th>8</th>\n",
       "      <th>9</th>\n",
       "      <th>...</th>\n",
       "      <th>214</th>\n",
       "      <th>215</th>\n",
       "      <th>216</th>\n",
       "      <th>217</th>\n",
       "      <th>218</th>\n",
       "      <th>219</th>\n",
       "      <th>220</th>\n",
       "      <th>221</th>\n",
       "      <th>222</th>\n",
       "      <th>223</th>\n",
       "    </tr>\n",
       "  </thead>\n",
       "  <tbody>\n",
       "    <tr>\n",
       "      <th>0</th>\n",
       "      <td>4.63</td>\n",
       "      <td>5.98</td>\n",
       "      <td>6.54</td>\n",
       "      <td>3.87</td>\n",
       "      <td>3.65</td>\n",
       "      <td>5.09</td>\n",
       "      <td>3.3</td>\n",
       "      <td>6.1</td>\n",
       "      <td>3.61</td>\n",
       "      <td>5.11</td>\n",
       "      <td>...</td>\n",
       "      <td>6.32</td>\n",
       "      <td>4.81</td>\n",
       "      <td>5.14</td>\n",
       "      <td>4.95</td>\n",
       "      <td>4.44</td>\n",
       "      <td>4.9</td>\n",
       "      <td>5.4</td>\n",
       "      <td>6.41</td>\n",
       "      <td>4.65</td>\n",
       "      <td>3.22</td>\n",
       "    </tr>\n",
       "    <tr>\n",
       "      <th>1</th>\n",
       "      <td>6.20</td>\n",
       "      <td>5.90</td>\n",
       "      <td>6.40</td>\n",
       "      <td>3.10</td>\n",
       "      <td>3.50</td>\n",
       "      <td>3.60</td>\n",
       "      <td>3.0</td>\n",
       "      <td>5.8</td>\n",
       "      <td>3.60</td>\n",
       "      <td>6.20</td>\n",
       "      <td>...</td>\n",
       "      <td>7.00</td>\n",
       "      <td>5.00</td>\n",
       "      <td>3.70</td>\n",
       "      <td>5.80</td>\n",
       "      <td>4.70</td>\n",
       "      <td>4.9</td>\n",
       "      <td>4.8</td>\n",
       "      <td>6.30</td>\n",
       "      <td>3.30</td>\n",
       "      <td>2.20</td>\n",
       "    </tr>\n",
       "  </tbody>\n",
       "</table>\n",
       "<p>2 rows × 224 columns</p>\n",
       "</div>"
      ],
      "text/plain": [
       "    0     1     2     3     4     5    6    7     8     9    ...   214   215  \\\n",
       "0  4.63  5.98  6.54  3.87  3.65  5.09  3.3  6.1  3.61  5.11  ...  6.32  4.81   \n",
       "1  6.20  5.90  6.40  3.10  3.50  3.60  3.0  5.8  3.60  6.20  ...  7.00  5.00   \n",
       "\n",
       "    216   217   218  219  220   221   222   223  \n",
       "0  5.14  4.95  4.44  4.9  5.4  6.41  4.65  3.22  \n",
       "1  3.70  5.80  4.70  4.9  4.8  6.30  3.30  2.20  \n",
       "\n",
       "[2 rows x 224 columns]"
      ]
     },
     "metadata": {},
     "output_type": "display_data"
    },
    {
     "name": "stdout",
     "output_type": "stream",
     "text": [
      "R2 Score Arousal:\t0.63\n"
     ]
    }
   ],
   "source": [
    "df1_a = df1_a.round(2)\n",
    "\n",
    "display(df1_a.head())\n",
    "print(\"R2 Score Arousal:\\t%0.2f\" % r2_a)"
   ]
  },
  {
   "cell_type": "markdown",
   "metadata": {},
   "source": [
    "VALENCE"
   ]
  },
  {
   "cell_type": "code",
   "execution_count": 9,
   "metadata": {},
   "outputs": [
    {
     "data": {
      "text/html": [
       "<div>\n",
       "<style scoped>\n",
       "    .dataframe tbody tr th:only-of-type {\n",
       "        vertical-align: middle;\n",
       "    }\n",
       "\n",
       "    .dataframe tbody tr th {\n",
       "        vertical-align: top;\n",
       "    }\n",
       "\n",
       "    .dataframe thead th {\n",
       "        text-align: right;\n",
       "    }\n",
       "</style>\n",
       "<table border=\"1\" class=\"dataframe\">\n",
       "  <thead>\n",
       "    <tr style=\"text-align: right;\">\n",
       "      <th></th>\n",
       "      <th>0</th>\n",
       "      <th>1</th>\n",
       "      <th>2</th>\n",
       "      <th>3</th>\n",
       "      <th>4</th>\n",
       "      <th>5</th>\n",
       "      <th>6</th>\n",
       "      <th>7</th>\n",
       "      <th>8</th>\n",
       "      <th>9</th>\n",
       "      <th>...</th>\n",
       "      <th>214</th>\n",
       "      <th>215</th>\n",
       "      <th>216</th>\n",
       "      <th>217</th>\n",
       "      <th>218</th>\n",
       "      <th>219</th>\n",
       "      <th>220</th>\n",
       "      <th>221</th>\n",
       "      <th>222</th>\n",
       "      <th>223</th>\n",
       "    </tr>\n",
       "  </thead>\n",
       "  <tbody>\n",
       "    <tr>\n",
       "      <th>0</th>\n",
       "      <td>5.24</td>\n",
       "      <td>5.71</td>\n",
       "      <td>5.37</td>\n",
       "      <td>4.18</td>\n",
       "      <td>4.42</td>\n",
       "      <td>5.46</td>\n",
       "      <td>4.39</td>\n",
       "      <td>5.66</td>\n",
       "      <td>4.08</td>\n",
       "      <td>5.31</td>\n",
       "      <td>...</td>\n",
       "      <td>5.12</td>\n",
       "      <td>5.28</td>\n",
       "      <td>4.88</td>\n",
       "      <td>5.29</td>\n",
       "      <td>5.1</td>\n",
       "      <td>5.31</td>\n",
       "      <td>5.0</td>\n",
       "      <td>5.42</td>\n",
       "      <td>5.03</td>\n",
       "      <td>4.22</td>\n",
       "    </tr>\n",
       "    <tr>\n",
       "      <th>1</th>\n",
       "      <td>2.70</td>\n",
       "      <td>6.40</td>\n",
       "      <td>6.00</td>\n",
       "      <td>2.70</td>\n",
       "      <td>5.00</td>\n",
       "      <td>3.20</td>\n",
       "      <td>4.60</td>\n",
       "      <td>4.30</td>\n",
       "      <td>4.10</td>\n",
       "      <td>6.70</td>\n",
       "      <td>...</td>\n",
       "      <td>6.60</td>\n",
       "      <td>4.80</td>\n",
       "      <td>2.50</td>\n",
       "      <td>5.60</td>\n",
       "      <td>3.8</td>\n",
       "      <td>4.40</td>\n",
       "      <td>6.5</td>\n",
       "      <td>6.50</td>\n",
       "      <td>4.00</td>\n",
       "      <td>3.50</td>\n",
       "    </tr>\n",
       "  </tbody>\n",
       "</table>\n",
       "<p>2 rows × 224 columns</p>\n",
       "</div>"
      ],
      "text/plain": [
       "    0     1     2     3     4     5     6     7     8     9    ...   214  \\\n",
       "0  5.24  5.71  5.37  4.18  4.42  5.46  4.39  5.66  4.08  5.31  ...  5.12   \n",
       "1  2.70  6.40  6.00  2.70  5.00  3.20  4.60  4.30  4.10  6.70  ...  6.60   \n",
       "\n",
       "    215   216   217  218   219  220   221   222   223  \n",
       "0  5.28  4.88  5.29  5.1  5.31  5.0  5.42  5.03  4.22  \n",
       "1  4.80  2.50  5.60  3.8  4.40  6.5  6.50  4.00  3.50  \n",
       "\n",
       "[2 rows x 224 columns]"
      ]
     },
     "metadata": {},
     "output_type": "display_data"
    },
    {
     "name": "stdout",
     "output_type": "stream",
     "text": [
      "R2 Score Valence: 0.23\n"
     ]
    }
   ],
   "source": [
    "df1_v = df1_v.round(2)\n",
    "\n",
    "display(df1_v.head())\n",
    "print(\"R2 Score Valence: %0.2f\" % r2_v)"
   ]
  },
  {
   "cell_type": "markdown",
   "metadata": {},
   "source": [
    "REGRESSION"
   ]
  },
  {
   "cell_type": "code",
   "execution_count": 10,
   "metadata": {},
   "outputs": [],
   "source": [
    "scores_a = regresion(svr_case1_a,data,arousal_mean) #Arousal Regression\n",
    "scores_v = regresion(svr_case1_v,data,valence_mean) #Arousal Regression"
   ]
  },
  {
   "cell_type": "markdown",
   "metadata": {
    "collapsed": true
   },
   "source": [
    "AROUSAL"
   ]
  },
  {
   "cell_type": "code",
   "execution_count": 11,
   "metadata": {},
   "outputs": [
    {
     "name": "stdout",
     "output_type": "stream",
     "text": [
      "R2 Score Valence:\t [0.37866231 0.46483577 0.50682721 0.37743884 0.66800838 0.54614637\n",
      " 0.53831074 0.51049998 0.63653439 0.59302153]\n",
      "R2 Score Valence:\t0.52 (+/- 0.09)\n"
     ]
    }
   ],
   "source": [
    "print(\"R2 Score Valence:\\t\",scores_a)\n",
    "print(\"R2 Score Valence:\\t%0.2f (+/- %0.2f)\" % (scores_a.mean(), scores_a.std() ))"
   ]
  },
  {
   "cell_type": "markdown",
   "metadata": {
    "collapsed": true
   },
   "source": [
    "VALENCE"
   ]
  },
  {
   "cell_type": "code",
   "execution_count": 12,
   "metadata": {},
   "outputs": [
    {
     "name": "stdout",
     "output_type": "stream",
     "text": [
      "R2 Score Valence:\t [-0.13293561 -0.04865083 -0.01720641 -0.28684624  0.3831295   0.09474223\n",
      "  0.14761786  0.22003463  0.29359797  0.06731212]\n",
      "R2 Score Valence:\t0.07 (+/- 0.19)\n"
     ]
    }
   ],
   "source": [
    "print(\"R2 Score Valence:\\t\",scores_v)\n",
    "print(\"R2 Score Valence:\\t%0.2f (+/- %0.2f)\" % (scores_v.mean(), scores_v.std() ))"
   ]
  },
  {
   "cell_type": "code",
   "execution_count": 14,
   "metadata": {},
   "outputs": [],
   "source": [
    "# save_predict(df1_a.round(2),df1_v.round(2),datafitur)\n",
    "# save_model(train_a,datafitur,'arousal/') #save model Arousal\n",
    "# save_model(train_v,datafitur,'valence/') #save model Valence"
   ]
  },
  {
   "cell_type": "markdown",
   "metadata": {},
   "source": [
    "# CASE 2"
   ]
  },
  {
   "cell_type": "code",
   "execution_count": 13,
   "metadata": {},
   "outputs": [
    {
     "name": "stdout",
     "output_type": "stream",
     "text": [
      "(744, 34)\n"
     ]
    }
   ],
   "source": [
    "datafitur = \"case2\" #CASE 2\n",
    "\n",
    "data,arousal_mean,valence_mean = load(datafitur) #Load\n",
    "print(data.shape)\n",
    "\n",
    "train_data_a, test_data_a, train_values_a, test_values_a = split(data,arousal_mean) #split arousal\n",
    "train_data_v, test_data_v, train_values_v, test_values_v = split(data,valence_mean) #split valence"
   ]
  },
  {
   "cell_type": "markdown",
   "metadata": {},
   "source": [
    "GRIDSEARCH"
   ]
  },
  {
   "cell_type": "code",
   "execution_count": 16,
   "metadata": {},
   "outputs": [
    {
     "name": "stderr",
     "output_type": "stream",
     "text": [
      "C:\\Users\\USER\\Anaconda3\\lib\\site-packages\\sklearn\\model_selection\\_search.py:841: DeprecationWarning: The default of the `iid` parameter will change from True to False in version 0.22 and will be removed in 0.24. This will change numeric results when test-set sizes are unequal.\n",
      "  DeprecationWarning)\n",
      "C:\\Users\\USER\\Anaconda3\\lib\\site-packages\\sklearn\\model_selection\\_search.py:841: DeprecationWarning: The default of the `iid` parameter will change from True to False in version 0.22 and will be removed in 0.24. This will change numeric results when test-set sizes are unequal.\n",
      "  DeprecationWarning)\n"
     ]
    }
   ],
   "source": [
    "param_a, score_a = gridsearch(data,arousal_mean) #Gridsearch Arousal\n",
    "param_v, score_v = gridsearch(data,valence_mean) #Grinsearch Valence"
   ]
  },
  {
   "cell_type": "code",
   "execution_count": 17,
   "metadata": {},
   "outputs": [
    {
     "name": "stdout",
     "output_type": "stream",
     "text": [
      "parameter Arousal:\t {'C': 10000.0, 'gamma': 0.001}\n",
      "parameter Valence:\t {'C': 100.0, 'gamma': 0.01}\n"
     ]
    }
   ],
   "source": [
    "print(\"parameter Arousal:\\t\",param_a)\n",
    "print(\"parameter Valence:\\t\",param_v)"
   ]
  },
  {
   "cell_type": "markdown",
   "metadata": {},
   "source": [
    "INITIAL MODEL"
   ]
  },
  {
   "cell_type": "code",
   "execution_count": 14,
   "metadata": {},
   "outputs": [],
   "source": [
    "kernel = RationalQuadratic()\n",
    "\n",
    "svr_case2_a = GPR(1.0 * kernel) #init Arousal\n",
    "svr_case2_v = GPR(1.0 * kernel) #init Valence\n"
   ]
  },
  {
   "cell_type": "markdown",
   "metadata": {},
   "source": [
    "TRAIN"
   ]
  },
  {
   "cell_type": "code",
   "execution_count": 15,
   "metadata": {},
   "outputs": [],
   "source": [
    "# #Predict Arousal\n",
    "a_a,train_a,df2_a = predict(train_data_a, train_values_a, test_data_a, test_values_a, svr_case2_a)\n",
    "# #Predict Valence\n",
    "a_v,train_v,df2_v = predict(train_data_v, train_values_v, test_data_v, test_values_v, svr_case2_v)\n",
    "\n",
    "r2_a = score(a_a,test_values_a) #Score Arousal\n",
    "r2_v = score(a_v,test_values_v) #Score Valence"
   ]
  },
  {
   "cell_type": "markdown",
   "metadata": {},
   "source": [
    "AROUSAL"
   ]
  },
  {
   "cell_type": "code",
   "execution_count": 16,
   "metadata": {},
   "outputs": [
    {
     "data": {
      "text/html": [
       "<div>\n",
       "<style scoped>\n",
       "    .dataframe tbody tr th:only-of-type {\n",
       "        vertical-align: middle;\n",
       "    }\n",
       "\n",
       "    .dataframe tbody tr th {\n",
       "        vertical-align: top;\n",
       "    }\n",
       "\n",
       "    .dataframe thead th {\n",
       "        text-align: right;\n",
       "    }\n",
       "</style>\n",
       "<table border=\"1\" class=\"dataframe\">\n",
       "  <thead>\n",
       "    <tr style=\"text-align: right;\">\n",
       "      <th></th>\n",
       "      <th>0</th>\n",
       "      <th>1</th>\n",
       "      <th>2</th>\n",
       "      <th>3</th>\n",
       "      <th>4</th>\n",
       "      <th>5</th>\n",
       "      <th>6</th>\n",
       "      <th>7</th>\n",
       "      <th>8</th>\n",
       "      <th>9</th>\n",
       "      <th>...</th>\n",
       "      <th>214</th>\n",
       "      <th>215</th>\n",
       "      <th>216</th>\n",
       "      <th>217</th>\n",
       "      <th>218</th>\n",
       "      <th>219</th>\n",
       "      <th>220</th>\n",
       "      <th>221</th>\n",
       "      <th>222</th>\n",
       "      <th>223</th>\n",
       "    </tr>\n",
       "  </thead>\n",
       "  <tbody>\n",
       "    <tr>\n",
       "      <th>0</th>\n",
       "      <td>5.09</td>\n",
       "      <td>5.8</td>\n",
       "      <td>6.57</td>\n",
       "      <td>3.56</td>\n",
       "      <td>3.35</td>\n",
       "      <td>4.43</td>\n",
       "      <td>3.25</td>\n",
       "      <td>6.09</td>\n",
       "      <td>3.32</td>\n",
       "      <td>5.25</td>\n",
       "      <td>...</td>\n",
       "      <td>6.34</td>\n",
       "      <td>5.19</td>\n",
       "      <td>4.9</td>\n",
       "      <td>4.83</td>\n",
       "      <td>5.16</td>\n",
       "      <td>4.71</td>\n",
       "      <td>5.5</td>\n",
       "      <td>6.38</td>\n",
       "      <td>4.08</td>\n",
       "      <td>2.88</td>\n",
       "    </tr>\n",
       "    <tr>\n",
       "      <th>1</th>\n",
       "      <td>6.20</td>\n",
       "      <td>5.9</td>\n",
       "      <td>6.40</td>\n",
       "      <td>3.10</td>\n",
       "      <td>3.50</td>\n",
       "      <td>3.60</td>\n",
       "      <td>3.00</td>\n",
       "      <td>5.80</td>\n",
       "      <td>3.60</td>\n",
       "      <td>6.20</td>\n",
       "      <td>...</td>\n",
       "      <td>7.00</td>\n",
       "      <td>5.00</td>\n",
       "      <td>3.7</td>\n",
       "      <td>5.80</td>\n",
       "      <td>4.70</td>\n",
       "      <td>4.90</td>\n",
       "      <td>4.8</td>\n",
       "      <td>6.30</td>\n",
       "      <td>3.30</td>\n",
       "      <td>2.20</td>\n",
       "    </tr>\n",
       "  </tbody>\n",
       "</table>\n",
       "<p>2 rows × 224 columns</p>\n",
       "</div>"
      ],
      "text/plain": [
       "    0    1     2     3     4     5     6     7     8     9    ...   214   215  \\\n",
       "0  5.09  5.8  6.57  3.56  3.35  4.43  3.25  6.09  3.32  5.25  ...  6.34  5.19   \n",
       "1  6.20  5.9  6.40  3.10  3.50  3.60  3.00  5.80  3.60  6.20  ...  7.00  5.00   \n",
       "\n",
       "   216   217   218   219  220   221   222   223  \n",
       "0  4.9  4.83  5.16  4.71  5.5  6.38  4.08  2.88  \n",
       "1  3.7  5.80  4.70  4.90  4.8  6.30  3.30  2.20  \n",
       "\n",
       "[2 rows x 224 columns]"
      ]
     },
     "metadata": {},
     "output_type": "display_data"
    },
    {
     "name": "stdout",
     "output_type": "stream",
     "text": [
      "R2 Score Arousal:\t0.65\n"
     ]
    }
   ],
   "source": [
    "df2_a = df2_a.round(2)\n",
    "\n",
    "display(df2_a.head())\n",
    "print(\"R2 Score Arousal:\\t%0.2f\" % r2_a)"
   ]
  },
  {
   "cell_type": "markdown",
   "metadata": {},
   "source": [
    "VALENCE"
   ]
  },
  {
   "cell_type": "code",
   "execution_count": 17,
   "metadata": {},
   "outputs": [
    {
     "data": {
      "text/html": [
       "<div>\n",
       "<style scoped>\n",
       "    .dataframe tbody tr th:only-of-type {\n",
       "        vertical-align: middle;\n",
       "    }\n",
       "\n",
       "    .dataframe tbody tr th {\n",
       "        vertical-align: top;\n",
       "    }\n",
       "\n",
       "    .dataframe thead th {\n",
       "        text-align: right;\n",
       "    }\n",
       "</style>\n",
       "<table border=\"1\" class=\"dataframe\">\n",
       "  <thead>\n",
       "    <tr style=\"text-align: right;\">\n",
       "      <th></th>\n",
       "      <th>0</th>\n",
       "      <th>1</th>\n",
       "      <th>2</th>\n",
       "      <th>3</th>\n",
       "      <th>4</th>\n",
       "      <th>5</th>\n",
       "      <th>6</th>\n",
       "      <th>7</th>\n",
       "      <th>8</th>\n",
       "      <th>9</th>\n",
       "      <th>...</th>\n",
       "      <th>214</th>\n",
       "      <th>215</th>\n",
       "      <th>216</th>\n",
       "      <th>217</th>\n",
       "      <th>218</th>\n",
       "      <th>219</th>\n",
       "      <th>220</th>\n",
       "      <th>221</th>\n",
       "      <th>222</th>\n",
       "      <th>223</th>\n",
       "    </tr>\n",
       "  </thead>\n",
       "  <tbody>\n",
       "    <tr>\n",
       "      <th>0</th>\n",
       "      <td>5.33</td>\n",
       "      <td>5.57</td>\n",
       "      <td>5.43</td>\n",
       "      <td>4.47</td>\n",
       "      <td>4.15</td>\n",
       "      <td>5.02</td>\n",
       "      <td>4.49</td>\n",
       "      <td>5.66</td>\n",
       "      <td>3.94</td>\n",
       "      <td>5.42</td>\n",
       "      <td>...</td>\n",
       "      <td>5.22</td>\n",
       "      <td>5.81</td>\n",
       "      <td>4.9</td>\n",
       "      <td>5.05</td>\n",
       "      <td>5.39</td>\n",
       "      <td>5.05</td>\n",
       "      <td>5.06</td>\n",
       "      <td>5.39</td>\n",
       "      <td>4.62</td>\n",
       "      <td>3.89</td>\n",
       "    </tr>\n",
       "    <tr>\n",
       "      <th>1</th>\n",
       "      <td>2.70</td>\n",
       "      <td>6.40</td>\n",
       "      <td>6.00</td>\n",
       "      <td>2.70</td>\n",
       "      <td>5.00</td>\n",
       "      <td>3.20</td>\n",
       "      <td>4.60</td>\n",
       "      <td>4.30</td>\n",
       "      <td>4.10</td>\n",
       "      <td>6.70</td>\n",
       "      <td>...</td>\n",
       "      <td>6.60</td>\n",
       "      <td>4.80</td>\n",
       "      <td>2.5</td>\n",
       "      <td>5.60</td>\n",
       "      <td>3.80</td>\n",
       "      <td>4.40</td>\n",
       "      <td>6.50</td>\n",
       "      <td>6.50</td>\n",
       "      <td>4.00</td>\n",
       "      <td>3.50</td>\n",
       "    </tr>\n",
       "  </tbody>\n",
       "</table>\n",
       "<p>2 rows × 224 columns</p>\n",
       "</div>"
      ],
      "text/plain": [
       "    0     1     2     3     4     5     6     7     8     9    ...   214  \\\n",
       "0  5.33  5.57  5.43  4.47  4.15  5.02  4.49  5.66  3.94  5.42  ...  5.22   \n",
       "1  2.70  6.40  6.00  2.70  5.00  3.20  4.60  4.30  4.10  6.70  ...  6.60   \n",
       "\n",
       "    215  216   217   218   219   220   221   222   223  \n",
       "0  5.81  4.9  5.05  5.39  5.05  5.06  5.39  4.62  3.89  \n",
       "1  4.80  2.5  5.60  3.80  4.40  6.50  6.50  4.00  3.50  \n",
       "\n",
       "[2 rows x 224 columns]"
      ]
     },
     "metadata": {},
     "output_type": "display_data"
    },
    {
     "name": "stdout",
     "output_type": "stream",
     "text": [
      "R2 Score Valence:\t0.26\n"
     ]
    }
   ],
   "source": [
    "df2_v = df2_v.round(2)\n",
    "\n",
    "display(df2_v.head())\n",
    "print(\"R2 Score Valence:\\t%0.2f\" % r2_v)"
   ]
  },
  {
   "cell_type": "markdown",
   "metadata": {},
   "source": [
    "REGRESSION"
   ]
  },
  {
   "cell_type": "code",
   "execution_count": 18,
   "metadata": {},
   "outputs": [],
   "source": [
    "scores_a = regresion(svr_case2_a,data,arousal_mean) #Arousal Regression\n",
    "scores_v = regresion(svr_case2_v,data,valence_mean) #Arousal Regression"
   ]
  },
  {
   "cell_type": "markdown",
   "metadata": {},
   "source": [
    "AROUSAL"
   ]
  },
  {
   "cell_type": "code",
   "execution_count": 19,
   "metadata": {},
   "outputs": [
    {
     "name": "stdout",
     "output_type": "stream",
     "text": [
      "R2 Score Valence:\t [0.41512758 0.48072126 0.51838905 0.40513468 0.69083098 0.53093083\n",
      " 0.49098828 0.57910239 0.63595575 0.56560724]\n",
      "R2 Score Valence:\t0.53 (+/- 0.09)\n"
     ]
    }
   ],
   "source": [
    "print(\"R2 Score Valence:\\t\",scores_a)\n",
    "print(\"R2 Score Valence:\\t%0.2f (+/- %0.2f)\" % (scores_a.mean(), scores_a.std() ))"
   ]
  },
  {
   "cell_type": "markdown",
   "metadata": {},
   "source": [
    "VALENCE"
   ]
  },
  {
   "cell_type": "code",
   "execution_count": 20,
   "metadata": {},
   "outputs": [
    {
     "name": "stdout",
     "output_type": "stream",
     "text": [
      "R2 Score Valence:\t [-0.07410652 -0.0061473   0.00963546 -0.22060325  0.37855586  0.09138256\n",
      "  0.15624368  0.22226302  0.32870911  0.06076326]\n",
      "R2 Score Valence:\t0.09 (+/- 0.17)\n"
     ]
    }
   ],
   "source": [
    "print(\"R2 Score Valence:\\t\",scores_v)\n",
    "print(\"R2 Score Valence:\\t%0.2f (+/- %0.2f)\" % (scores_v.mean(), scores_v.std() ))"
   ]
  },
  {
   "cell_type": "code",
   "execution_count": 25,
   "metadata": {},
   "outputs": [],
   "source": [
    "# save_predict(df2_a.round(2),df2_v.round(2),datafitur)\n",
    "# save_model(train_a,datafitur,'arousal/') #save model Arousal\n",
    "# save_model(train_v,datafitur,'valence/') #save model Valence"
   ]
  },
  {
   "cell_type": "markdown",
   "metadata": {},
   "source": [
    "# CASE 3"
   ]
  },
  {
   "cell_type": "code",
   "execution_count": 21,
   "metadata": {},
   "outputs": [
    {
     "name": "stdout",
     "output_type": "stream",
     "text": [
      "(744, 37)\n"
     ]
    }
   ],
   "source": [
    "datafitur =  \"case3\" #CASE 3\n",
    "data,arousal_mean,valence_mean = load(datafitur) #Load\n",
    "print(data.shape)\n",
    "\n",
    "train_data_a, test_data_a, train_values_a, test_values_a = split(data,arousal_mean) #split arousal\n",
    "train_data_v, test_data_v, train_values_v, test_values_v = split(data,valence_mean) #split valence"
   ]
  },
  {
   "cell_type": "markdown",
   "metadata": {},
   "source": [
    "GRIDSEARCH"
   ]
  },
  {
   "cell_type": "code",
   "execution_count": 27,
   "metadata": {},
   "outputs": [
    {
     "name": "stderr",
     "output_type": "stream",
     "text": [
      "C:\\Users\\USER\\Anaconda3\\lib\\site-packages\\sklearn\\model_selection\\_search.py:841: DeprecationWarning: The default of the `iid` parameter will change from True to False in version 0.22 and will be removed in 0.24. This will change numeric results when test-set sizes are unequal.\n",
      "  DeprecationWarning)\n",
      "C:\\Users\\USER\\Anaconda3\\lib\\site-packages\\sklearn\\model_selection\\_search.py:841: DeprecationWarning: The default of the `iid` parameter will change from True to False in version 0.22 and will be removed in 0.24. This will change numeric results when test-set sizes are unequal.\n",
      "  DeprecationWarning)\n"
     ]
    }
   ],
   "source": [
    "param_a, score_a = gridsearch(data,arousal_mean) #Gridsearch Arousal\n",
    "param_v, score_v = gridsearch(data,valence_mean) #Grinsearch Valence"
   ]
  },
  {
   "cell_type": "code",
   "execution_count": 28,
   "metadata": {},
   "outputs": [
    {
     "name": "stdout",
     "output_type": "stream",
     "text": [
      "parameter Arousal:\t {'C': 10000.0, 'gamma': 0.001}\n",
      "parameter Valence:\t {'C': 10.0, 'gamma': 0.01}\n"
     ]
    }
   ],
   "source": [
    "print(\"parameter Arousal:\\t\",param_a)\n",
    "print(\"parameter Valence:\\t\",param_v)"
   ]
  },
  {
   "cell_type": "markdown",
   "metadata": {},
   "source": [
    "INITAL MODEL"
   ]
  },
  {
   "cell_type": "code",
   "execution_count": 22,
   "metadata": {},
   "outputs": [],
   "source": [
    "kernel = RationalQuadratic()\n",
    "\n",
    "svr_case3_a = GPR(1.0 * kernel) #init Arousal\n",
    "svr_case3_v = GPR(1.0 * kernel) #init Valence"
   ]
  },
  {
   "cell_type": "markdown",
   "metadata": {},
   "source": [
    "TRAIN"
   ]
  },
  {
   "cell_type": "code",
   "execution_count": 23,
   "metadata": {},
   "outputs": [],
   "source": [
    "# #Predict Arousal\n",
    "a_a,train_a,df3_a = predict(train_data_a, train_values_a, test_data_a, test_values_a, svr_case3_a)\n",
    "# #Predict Valence\n",
    "a_v,train_v,df3_v = predict(train_data_v, train_values_v, test_data_v, test_values_v, svr_case3_v)\n",
    "\n",
    "r2_a = score(a_a,test_values_a) #Score Arousal\n",
    "r2_v = score(a_v,test_values_v) #Score Valence"
   ]
  },
  {
   "cell_type": "markdown",
   "metadata": {},
   "source": [
    "AROUSAL"
   ]
  },
  {
   "cell_type": "code",
   "execution_count": 24,
   "metadata": {},
   "outputs": [
    {
     "data": {
      "text/html": [
       "<div>\n",
       "<style scoped>\n",
       "    .dataframe tbody tr th:only-of-type {\n",
       "        vertical-align: middle;\n",
       "    }\n",
       "\n",
       "    .dataframe tbody tr th {\n",
       "        vertical-align: top;\n",
       "    }\n",
       "\n",
       "    .dataframe thead th {\n",
       "        text-align: right;\n",
       "    }\n",
       "</style>\n",
       "<table border=\"1\" class=\"dataframe\">\n",
       "  <thead>\n",
       "    <tr style=\"text-align: right;\">\n",
       "      <th></th>\n",
       "      <th>0</th>\n",
       "      <th>1</th>\n",
       "      <th>2</th>\n",
       "      <th>3</th>\n",
       "      <th>4</th>\n",
       "      <th>5</th>\n",
       "      <th>6</th>\n",
       "      <th>7</th>\n",
       "      <th>8</th>\n",
       "      <th>9</th>\n",
       "      <th>...</th>\n",
       "      <th>214</th>\n",
       "      <th>215</th>\n",
       "      <th>216</th>\n",
       "      <th>217</th>\n",
       "      <th>218</th>\n",
       "      <th>219</th>\n",
       "      <th>220</th>\n",
       "      <th>221</th>\n",
       "      <th>222</th>\n",
       "      <th>223</th>\n",
       "    </tr>\n",
       "  </thead>\n",
       "  <tbody>\n",
       "    <tr>\n",
       "      <th>0</th>\n",
       "      <td>5.09</td>\n",
       "      <td>5.81</td>\n",
       "      <td>6.61</td>\n",
       "      <td>3.56</td>\n",
       "      <td>3.35</td>\n",
       "      <td>4.43</td>\n",
       "      <td>3.23</td>\n",
       "      <td>5.87</td>\n",
       "      <td>3.32</td>\n",
       "      <td>5.27</td>\n",
       "      <td>...</td>\n",
       "      <td>6.43</td>\n",
       "      <td>5.15</td>\n",
       "      <td>4.9</td>\n",
       "      <td>4.83</td>\n",
       "      <td>5.13</td>\n",
       "      <td>4.73</td>\n",
       "      <td>5.51</td>\n",
       "      <td>6.32</td>\n",
       "      <td>4.09</td>\n",
       "      <td>2.88</td>\n",
       "    </tr>\n",
       "    <tr>\n",
       "      <th>1</th>\n",
       "      <td>6.20</td>\n",
       "      <td>5.90</td>\n",
       "      <td>6.40</td>\n",
       "      <td>3.10</td>\n",
       "      <td>3.50</td>\n",
       "      <td>3.60</td>\n",
       "      <td>3.00</td>\n",
       "      <td>5.80</td>\n",
       "      <td>3.60</td>\n",
       "      <td>6.20</td>\n",
       "      <td>...</td>\n",
       "      <td>7.00</td>\n",
       "      <td>5.00</td>\n",
       "      <td>3.7</td>\n",
       "      <td>5.80</td>\n",
       "      <td>4.70</td>\n",
       "      <td>4.90</td>\n",
       "      <td>4.80</td>\n",
       "      <td>6.30</td>\n",
       "      <td>3.30</td>\n",
       "      <td>2.20</td>\n",
       "    </tr>\n",
       "  </tbody>\n",
       "</table>\n",
       "<p>2 rows × 224 columns</p>\n",
       "</div>"
      ],
      "text/plain": [
       "    0     1     2     3     4     5     6     7     8     9    ...   214  \\\n",
       "0  5.09  5.81  6.61  3.56  3.35  4.43  3.23  5.87  3.32  5.27  ...  6.43   \n",
       "1  6.20  5.90  6.40  3.10  3.50  3.60  3.00  5.80  3.60  6.20  ...  7.00   \n",
       "\n",
       "    215  216   217   218   219   220   221   222   223  \n",
       "0  5.15  4.9  4.83  5.13  4.73  5.51  6.32  4.09  2.88  \n",
       "1  5.00  3.7  5.80  4.70  4.90  4.80  6.30  3.30  2.20  \n",
       "\n",
       "[2 rows x 224 columns]"
      ]
     },
     "metadata": {},
     "output_type": "display_data"
    },
    {
     "name": "stdout",
     "output_type": "stream",
     "text": [
      "R2 Score Arousal:\t0.64\n"
     ]
    }
   ],
   "source": [
    "df3_a = df3_a.round(2)\n",
    "\n",
    "display(df3_a.head())\n",
    "print(\"R2 Score Arousal:\\t%0.2f\" % r2_a)"
   ]
  },
  {
   "cell_type": "markdown",
   "metadata": {},
   "source": [
    "VALENCE"
   ]
  },
  {
   "cell_type": "code",
   "execution_count": 25,
   "metadata": {},
   "outputs": [
    {
     "data": {
      "text/html": [
       "<div>\n",
       "<style scoped>\n",
       "    .dataframe tbody tr th:only-of-type {\n",
       "        vertical-align: middle;\n",
       "    }\n",
       "\n",
       "    .dataframe tbody tr th {\n",
       "        vertical-align: top;\n",
       "    }\n",
       "\n",
       "    .dataframe thead th {\n",
       "        text-align: right;\n",
       "    }\n",
       "</style>\n",
       "<table border=\"1\" class=\"dataframe\">\n",
       "  <thead>\n",
       "    <tr style=\"text-align: right;\">\n",
       "      <th></th>\n",
       "      <th>0</th>\n",
       "      <th>1</th>\n",
       "      <th>2</th>\n",
       "      <th>3</th>\n",
       "      <th>4</th>\n",
       "      <th>5</th>\n",
       "      <th>6</th>\n",
       "      <th>7</th>\n",
       "      <th>8</th>\n",
       "      <th>9</th>\n",
       "      <th>...</th>\n",
       "      <th>214</th>\n",
       "      <th>215</th>\n",
       "      <th>216</th>\n",
       "      <th>217</th>\n",
       "      <th>218</th>\n",
       "      <th>219</th>\n",
       "      <th>220</th>\n",
       "      <th>221</th>\n",
       "      <th>222</th>\n",
       "      <th>223</th>\n",
       "    </tr>\n",
       "  </thead>\n",
       "  <tbody>\n",
       "    <tr>\n",
       "      <th>0</th>\n",
       "      <td>5.31</td>\n",
       "      <td>5.57</td>\n",
       "      <td>5.53</td>\n",
       "      <td>4.47</td>\n",
       "      <td>4.16</td>\n",
       "      <td>5.02</td>\n",
       "      <td>4.49</td>\n",
       "      <td>5.77</td>\n",
       "      <td>3.95</td>\n",
       "      <td>5.46</td>\n",
       "      <td>...</td>\n",
       "      <td>5.38</td>\n",
       "      <td>5.79</td>\n",
       "      <td>5.02</td>\n",
       "      <td>5.05</td>\n",
       "      <td>5.38</td>\n",
       "      <td>5.05</td>\n",
       "      <td>5.18</td>\n",
       "      <td>5.09</td>\n",
       "      <td>4.64</td>\n",
       "      <td>3.89</td>\n",
       "    </tr>\n",
       "    <tr>\n",
       "      <th>1</th>\n",
       "      <td>2.70</td>\n",
       "      <td>6.40</td>\n",
       "      <td>6.00</td>\n",
       "      <td>2.70</td>\n",
       "      <td>5.00</td>\n",
       "      <td>3.20</td>\n",
       "      <td>4.60</td>\n",
       "      <td>4.30</td>\n",
       "      <td>4.10</td>\n",
       "      <td>6.70</td>\n",
       "      <td>...</td>\n",
       "      <td>6.60</td>\n",
       "      <td>4.80</td>\n",
       "      <td>2.50</td>\n",
       "      <td>5.60</td>\n",
       "      <td>3.80</td>\n",
       "      <td>4.40</td>\n",
       "      <td>6.50</td>\n",
       "      <td>6.50</td>\n",
       "      <td>4.00</td>\n",
       "      <td>3.50</td>\n",
       "    </tr>\n",
       "  </tbody>\n",
       "</table>\n",
       "<p>2 rows × 224 columns</p>\n",
       "</div>"
      ],
      "text/plain": [
       "    0     1     2     3     4     5     6     7     8     9    ...   214  \\\n",
       "0  5.31  5.57  5.53  4.47  4.16  5.02  4.49  5.77  3.95  5.46  ...  5.38   \n",
       "1  2.70  6.40  6.00  2.70  5.00  3.20  4.60  4.30  4.10  6.70  ...  6.60   \n",
       "\n",
       "    215   216   217   218   219   220   221   222   223  \n",
       "0  5.79  5.02  5.05  5.38  5.05  5.18  5.09  4.64  3.89  \n",
       "1  4.80  2.50  5.60  3.80  4.40  6.50  6.50  4.00  3.50  \n",
       "\n",
       "[2 rows x 224 columns]"
      ]
     },
     "metadata": {},
     "output_type": "display_data"
    },
    {
     "name": "stdout",
     "output_type": "stream",
     "text": [
      "R2 Score Valence:\t0.26\n"
     ]
    }
   ],
   "source": [
    "df3_v = df3_v.round(2)\n",
    "\n",
    "display(df3_v.head())\n",
    "print(\"R2 Score Valence:\\t%0.2f\" % r2_v)"
   ]
  },
  {
   "cell_type": "markdown",
   "metadata": {},
   "source": [
    "REGRESSION"
   ]
  },
  {
   "cell_type": "code",
   "execution_count": 26,
   "metadata": {},
   "outputs": [],
   "source": [
    "scores_a = regresion(svr_case3_a,data,arousal_mean) #Arousal Regression\n",
    "scores_v = regresion(svr_case3_v,data,valence_mean) #Arousal Regression"
   ]
  },
  {
   "cell_type": "markdown",
   "metadata": {},
   "source": [
    "AROUSAL"
   ]
  },
  {
   "cell_type": "code",
   "execution_count": 27,
   "metadata": {},
   "outputs": [
    {
     "name": "stdout",
     "output_type": "stream",
     "text": [
      "R2 Score Valence:\t [0.41682792 0.47059352 0.52368899 0.39383833 0.69197452 0.53997056\n",
      " 0.4831702  0.57153879 0.61814765 0.57603766]\n",
      "R2 Score Valence:\t0.53 (+/- 0.09)\n"
     ]
    }
   ],
   "source": [
    "print(\"R2 Score Valence:\\t\",scores_a)\n",
    "print(\"R2 Score Valence:\\t%0.2f (+/- %0.2f)\" % (scores_a.mean(), scores_a.std() ))"
   ]
  },
  {
   "cell_type": "markdown",
   "metadata": {},
   "source": [
    "VALENCE"
   ]
  },
  {
   "cell_type": "code",
   "execution_count": 28,
   "metadata": {},
   "outputs": [
    {
     "name": "stdout",
     "output_type": "stream",
     "text": [
      "R2 Score Valence:\t [-0.04710819  0.00364301  0.02475799 -0.18380585  0.36444722  0.09709142\n",
      "  0.12674123  0.12677103  0.26965581  0.11130809]\n",
      "R2 Score Valence:\t0.09 (+/- 0.15)\n"
     ]
    }
   ],
   "source": [
    "print(\"R2 Score Valence:\\t\",scores_v)\n",
    "print(\"R2 Score Valence:\\t%0.2f (+/- %0.2f)\" % (scores_v.mean(), scores_v.std() ))"
   ]
  },
  {
   "cell_type": "code",
   "execution_count": 36,
   "metadata": {},
   "outputs": [],
   "source": [
    "# save_predict(df3_a.round(2),df3_v.round(2),datafitur)\n",
    "# save_model(train_a,datafitur,'arousal/') #save model Arousal\n",
    "# save_model(train_v,datafitur,'valence/') #save model Valence"
   ]
  },
  {
   "cell_type": "markdown",
   "metadata": {},
   "source": [
    "# CASE 4"
   ]
  },
  {
   "cell_type": "code",
   "execution_count": 29,
   "metadata": {},
   "outputs": [
    {
     "name": "stdout",
     "output_type": "stream",
     "text": [
      "(744, 85)\n"
     ]
    }
   ],
   "source": [
    "datafitur =  \"case4\" #CASE 3\n",
    "data,arousal_mean,valence_mean = load(datafitur) #Load\n",
    "print(data.shape)\n",
    "\n",
    "train_data_a, test_data_a, train_values_a, test_values_a = split(data,arousal_mean) #split arousal\n",
    "train_data_v, test_data_v, train_values_v, test_values_v = split(data,valence_mean) #split valence"
   ]
  },
  {
   "cell_type": "markdown",
   "metadata": {},
   "source": [
    "GRIDSEAERCH"
   ]
  },
  {
   "cell_type": "code",
   "execution_count": 38,
   "metadata": {},
   "outputs": [
    {
     "name": "stderr",
     "output_type": "stream",
     "text": [
      "C:\\Users\\USER\\Anaconda3\\lib\\site-packages\\sklearn\\model_selection\\_search.py:841: DeprecationWarning: The default of the `iid` parameter will change from True to False in version 0.22 and will be removed in 0.24. This will change numeric results when test-set sizes are unequal.\n",
      "  DeprecationWarning)\n",
      "C:\\Users\\USER\\Anaconda3\\lib\\site-packages\\sklearn\\model_selection\\_search.py:841: DeprecationWarning: The default of the `iid` parameter will change from True to False in version 0.22 and will be removed in 0.24. This will change numeric results when test-set sizes are unequal.\n",
      "  DeprecationWarning)\n"
     ]
    }
   ],
   "source": [
    "param_a, score_a = gridsearch(data,arousal_mean) #Gridsearch Arousal\n",
    "param_v, score_v = gridsearch(data,valence_mean) #Grinsearch Valence"
   ]
  },
  {
   "cell_type": "code",
   "execution_count": 39,
   "metadata": {},
   "outputs": [
    {
     "name": "stdout",
     "output_type": "stream",
     "text": [
      "parameter Arousal:\t {'C': 10000.0, 'gamma': 0.0001}\n",
      "parameter Valence:\t {'C': 100.0, 'gamma': 0.001}\n"
     ]
    }
   ],
   "source": [
    "print(\"parameter Arousal:\\t\",param_a)\n",
    "print(\"parameter Valence:\\t\",param_v)"
   ]
  },
  {
   "cell_type": "markdown",
   "metadata": {},
   "source": [
    "INITIAL MODEL"
   ]
  },
  {
   "cell_type": "code",
   "execution_count": 30,
   "metadata": {},
   "outputs": [],
   "source": [
    "kernel = RationalQuadratic()\n",
    "\n",
    "svr_case4_a = GPR(1.0 * kernel) #init Arousal\n",
    "svr_case4_v = GPR(1.0 * kernel) #init Valence"
   ]
  },
  {
   "cell_type": "markdown",
   "metadata": {},
   "source": [
    "TRAIN"
   ]
  },
  {
   "cell_type": "code",
   "execution_count": 31,
   "metadata": {},
   "outputs": [],
   "source": [
    "# #Predict Arousal\n",
    "a_a,train_a,df4_a = predict(train_data_a, train_values_a, test_data_a, test_values_a, svr_case4_a)\n",
    "# #Predict Valence\n",
    "a_v,train_v,df4_v = predict(train_data_v, train_values_v, test_data_v, test_values_v, svr_case4_v)\n",
    "\n",
    "r2_a = score(a_a,test_values_a) #Score Arousal\n",
    "r2_v = score(a_v,test_values_v) #Score Valence"
   ]
  },
  {
   "cell_type": "markdown",
   "metadata": {},
   "source": [
    "AROUSAL"
   ]
  },
  {
   "cell_type": "code",
   "execution_count": 32,
   "metadata": {},
   "outputs": [
    {
     "data": {
      "text/html": [
       "<div>\n",
       "<style scoped>\n",
       "    .dataframe tbody tr th:only-of-type {\n",
       "        vertical-align: middle;\n",
       "    }\n",
       "\n",
       "    .dataframe tbody tr th {\n",
       "        vertical-align: top;\n",
       "    }\n",
       "\n",
       "    .dataframe thead th {\n",
       "        text-align: right;\n",
       "    }\n",
       "</style>\n",
       "<table border=\"1\" class=\"dataframe\">\n",
       "  <thead>\n",
       "    <tr style=\"text-align: right;\">\n",
       "      <th></th>\n",
       "      <th>0</th>\n",
       "      <th>1</th>\n",
       "      <th>2</th>\n",
       "      <th>3</th>\n",
       "      <th>4</th>\n",
       "      <th>5</th>\n",
       "      <th>6</th>\n",
       "      <th>7</th>\n",
       "      <th>8</th>\n",
       "      <th>9</th>\n",
       "      <th>...</th>\n",
       "      <th>214</th>\n",
       "      <th>215</th>\n",
       "      <th>216</th>\n",
       "      <th>217</th>\n",
       "      <th>218</th>\n",
       "      <th>219</th>\n",
       "      <th>220</th>\n",
       "      <th>221</th>\n",
       "      <th>222</th>\n",
       "      <th>223</th>\n",
       "    </tr>\n",
       "  </thead>\n",
       "  <tbody>\n",
       "    <tr>\n",
       "      <th>0</th>\n",
       "      <td>4.65</td>\n",
       "      <td>5.33</td>\n",
       "      <td>5.14</td>\n",
       "      <td>3.78</td>\n",
       "      <td>3.42</td>\n",
       "      <td>4.51</td>\n",
       "      <td>4.38</td>\n",
       "      <td>5.42</td>\n",
       "      <td>3.52</td>\n",
       "      <td>4.58</td>\n",
       "      <td>...</td>\n",
       "      <td>5.57</td>\n",
       "      <td>5.44</td>\n",
       "      <td>4.16</td>\n",
       "      <td>3.88</td>\n",
       "      <td>4.07</td>\n",
       "      <td>5.12</td>\n",
       "      <td>5.39</td>\n",
       "      <td>5.59</td>\n",
       "      <td>4.23</td>\n",
       "      <td>3.46</td>\n",
       "    </tr>\n",
       "    <tr>\n",
       "      <th>1</th>\n",
       "      <td>6.20</td>\n",
       "      <td>5.90</td>\n",
       "      <td>6.40</td>\n",
       "      <td>3.10</td>\n",
       "      <td>3.50</td>\n",
       "      <td>3.60</td>\n",
       "      <td>3.00</td>\n",
       "      <td>5.80</td>\n",
       "      <td>3.60</td>\n",
       "      <td>6.20</td>\n",
       "      <td>...</td>\n",
       "      <td>7.00</td>\n",
       "      <td>5.00</td>\n",
       "      <td>3.70</td>\n",
       "      <td>5.80</td>\n",
       "      <td>4.70</td>\n",
       "      <td>4.90</td>\n",
       "      <td>4.80</td>\n",
       "      <td>6.30</td>\n",
       "      <td>3.30</td>\n",
       "      <td>2.20</td>\n",
       "    </tr>\n",
       "  </tbody>\n",
       "</table>\n",
       "<p>2 rows × 224 columns</p>\n",
       "</div>"
      ],
      "text/plain": [
       "    0     1     2     3     4     5     6     7     8     9    ...   214  \\\n",
       "0  4.65  5.33  5.14  3.78  3.42  4.51  4.38  5.42  3.52  4.58  ...  5.57   \n",
       "1  6.20  5.90  6.40  3.10  3.50  3.60  3.00  5.80  3.60  6.20  ...  7.00   \n",
       "\n",
       "    215   216   217   218   219   220   221   222   223  \n",
       "0  5.44  4.16  3.88  4.07  5.12  5.39  5.59  4.23  3.46  \n",
       "1  5.00  3.70  5.80  4.70  4.90  4.80  6.30  3.30  2.20  \n",
       "\n",
       "[2 rows x 224 columns]"
      ]
     },
     "metadata": {},
     "output_type": "display_data"
    },
    {
     "name": "stdout",
     "output_type": "stream",
     "text": [
      "R2 Score Arousal:\t0.44\n"
     ]
    }
   ],
   "source": [
    "df4_a = df4_a.round(2)\n",
    "\n",
    "display(df4_a.head())\n",
    "print(\"R2 Score Arousal:\\t%0.2f\" % r2_a)"
   ]
  },
  {
   "cell_type": "markdown",
   "metadata": {},
   "source": [
    "VALENCE"
   ]
  },
  {
   "cell_type": "code",
   "execution_count": 33,
   "metadata": {},
   "outputs": [
    {
     "data": {
      "text/html": [
       "<div>\n",
       "<style scoped>\n",
       "    .dataframe tbody tr th:only-of-type {\n",
       "        vertical-align: middle;\n",
       "    }\n",
       "\n",
       "    .dataframe tbody tr th {\n",
       "        vertical-align: top;\n",
       "    }\n",
       "\n",
       "    .dataframe thead th {\n",
       "        text-align: right;\n",
       "    }\n",
       "</style>\n",
       "<table border=\"1\" class=\"dataframe\">\n",
       "  <thead>\n",
       "    <tr style=\"text-align: right;\">\n",
       "      <th></th>\n",
       "      <th>0</th>\n",
       "      <th>1</th>\n",
       "      <th>2</th>\n",
       "      <th>3</th>\n",
       "      <th>4</th>\n",
       "      <th>5</th>\n",
       "      <th>6</th>\n",
       "      <th>7</th>\n",
       "      <th>8</th>\n",
       "      <th>9</th>\n",
       "      <th>...</th>\n",
       "      <th>214</th>\n",
       "      <th>215</th>\n",
       "      <th>216</th>\n",
       "      <th>217</th>\n",
       "      <th>218</th>\n",
       "      <th>219</th>\n",
       "      <th>220</th>\n",
       "      <th>221</th>\n",
       "      <th>222</th>\n",
       "      <th>223</th>\n",
       "    </tr>\n",
       "  </thead>\n",
       "  <tbody>\n",
       "    <tr>\n",
       "      <th>0</th>\n",
       "      <td>4.54</td>\n",
       "      <td>5.71</td>\n",
       "      <td>4.45</td>\n",
       "      <td>5.12</td>\n",
       "      <td>4.35</td>\n",
       "      <td>4.9</td>\n",
       "      <td>4.84</td>\n",
       "      <td>4.93</td>\n",
       "      <td>4.2</td>\n",
       "      <td>4.8</td>\n",
       "      <td>...</td>\n",
       "      <td>4.68</td>\n",
       "      <td>5.65</td>\n",
       "      <td>4.51</td>\n",
       "      <td>4.26</td>\n",
       "      <td>4.29</td>\n",
       "      <td>5.2</td>\n",
       "      <td>4.89</td>\n",
       "      <td>4.38</td>\n",
       "      <td>4.64</td>\n",
       "      <td>3.9</td>\n",
       "    </tr>\n",
       "    <tr>\n",
       "      <th>1</th>\n",
       "      <td>2.70</td>\n",
       "      <td>6.40</td>\n",
       "      <td>6.00</td>\n",
       "      <td>2.70</td>\n",
       "      <td>5.00</td>\n",
       "      <td>3.2</td>\n",
       "      <td>4.60</td>\n",
       "      <td>4.30</td>\n",
       "      <td>4.1</td>\n",
       "      <td>6.7</td>\n",
       "      <td>...</td>\n",
       "      <td>6.60</td>\n",
       "      <td>4.80</td>\n",
       "      <td>2.50</td>\n",
       "      <td>5.60</td>\n",
       "      <td>3.80</td>\n",
       "      <td>4.4</td>\n",
       "      <td>6.50</td>\n",
       "      <td>6.50</td>\n",
       "      <td>4.00</td>\n",
       "      <td>3.5</td>\n",
       "    </tr>\n",
       "  </tbody>\n",
       "</table>\n",
       "<p>2 rows × 224 columns</p>\n",
       "</div>"
      ],
      "text/plain": [
       "    0     1     2     3     4    5     6     7    8    9    ...   214   215  \\\n",
       "0  4.54  5.71  4.45  5.12  4.35  4.9  4.84  4.93  4.2  4.8  ...  4.68  5.65   \n",
       "1  2.70  6.40  6.00  2.70  5.00  3.2  4.60  4.30  4.1  6.7  ...  6.60  4.80   \n",
       "\n",
       "    216   217   218  219   220   221   222  223  \n",
       "0  4.51  4.26  4.29  5.2  4.89  4.38  4.64  3.9  \n",
       "1  2.50  5.60  3.80  4.4  6.50  6.50  4.00  3.5  \n",
       "\n",
       "[2 rows x 224 columns]"
      ]
     },
     "metadata": {},
     "output_type": "display_data"
    },
    {
     "name": "stdout",
     "output_type": "stream",
     "text": [
      "R2 Score Valence:\t0.12\n"
     ]
    }
   ],
   "source": [
    "df4_v = df4_v.round(2)\n",
    "\n",
    "display(df4_v.head())\n",
    "print(\"R2 Score Valence:\\t%0.2f\" % r2_v)"
   ]
  },
  {
   "cell_type": "markdown",
   "metadata": {},
   "source": [
    "REGRESSION"
   ]
  },
  {
   "cell_type": "code",
   "execution_count": 34,
   "metadata": {},
   "outputs": [],
   "source": [
    "scores_a = regresion(svr_case4_a,data,arousal_mean) #Arousal Regression\n",
    "scores_v = regresion(svr_case4_v,data,valence_mean) #Arousal Regression"
   ]
  },
  {
   "cell_type": "markdown",
   "metadata": {},
   "source": [
    "AROUSAL"
   ]
  },
  {
   "cell_type": "code",
   "execution_count": 35,
   "metadata": {},
   "outputs": [
    {
     "name": "stdout",
     "output_type": "stream",
     "text": [
      "R2 Score Valence:\t [0.18926983 0.45401008 0.31438706 0.3742225  0.553324   0.3342589\n",
      " 0.30788942 0.21280236 0.44663738 0.44138559]\n",
      "R2 Score Valence:\t0.36 (+/- 0.11)\n"
     ]
    }
   ],
   "source": [
    "print(\"R2 Score Valence:\\t\",scores_a)\n",
    "print(\"R2 Score Valence:\\t%0.2f (+/- %0.2f)\" % (scores_a.mean(), scores_a.std() ))"
   ]
  },
  {
   "cell_type": "markdown",
   "metadata": {},
   "source": [
    "VALENCE"
   ]
  },
  {
   "cell_type": "code",
   "execution_count": 36,
   "metadata": {},
   "outputs": [
    {
     "name": "stdout",
     "output_type": "stream",
     "text": [
      "R2 Score Valence:\t [-0.06674634 -0.00821007  0.06468341 -0.07466524  0.24284139  0.06619059\n",
      " -0.08377337 -0.04361331  0.02288482  0.13155112]\n",
      "R2 Score Valence:\t0.03 (+/- 0.10)\n"
     ]
    }
   ],
   "source": [
    "print(\"R2 Score Valence:\\t\",scores_v)\n",
    "print(\"R2 Score Valence:\\t%0.2f (+/- %0.2f)\" % (scores_v.mean(), scores_v.std() ))"
   ]
  },
  {
   "cell_type": "code",
   "execution_count": 47,
   "metadata": {},
   "outputs": [],
   "source": [
    "# save_predict(df4_a.round(2),df4_v.round(2),datafitur)\n",
    "# save_model(train_a,datafitur,'arousal/') #save model Arousal\n",
    "# save_model(train_v,datafitur,'valence/') #save model Valence"
   ]
  },
  {
   "cell_type": "code",
   "execution_count": null,
   "metadata": {},
   "outputs": [],
   "source": [
    "# # Load from file\n",
    "# with open(arousal_model, 'rb') as file_arousal:\n",
    "#     arousal_model = pickle.load(file_arousal)\n",
    "# # # Load from file\n",
    "# # with open(valence_model, 'rb') as file_valence:\n",
    "# #     valence_model = pickle.load(file_valence)\n",
    "\n",
    "# a = arousal_model.predict(test_data_a)"
   ]
  }
 ],
 "metadata": {
  "kernelspec": {
   "display_name": "Python 3",
   "language": "python",
   "name": "python3"
  },
  "language_info": {
   "codemirror_mode": {
    "name": "ipython",
    "version": 3
   },
   "file_extension": ".py",
   "mimetype": "text/x-python",
   "name": "python",
   "nbconvert_exporter": "python",
   "pygments_lexer": "ipython3",
   "version": "3.6.4"
  }
 },
 "nbformat": 4,
 "nbformat_minor": 2
}
