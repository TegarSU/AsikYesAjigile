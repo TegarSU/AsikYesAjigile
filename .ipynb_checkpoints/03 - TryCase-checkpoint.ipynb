{
 "cells": [
  {
   "cell_type": "code",
   "execution_count": 1,
   "metadata": {},
   "outputs": [],
   "source": [
    "import pandas as pd\n",
    "import numpy as np\n",
    "import os\n",
    "\n",
    "from sklearn.preprocessing import MinMaxScaler\n",
    "scaler = MinMaxScaler(feature_range=(-1, 1))"
   ]
  },
  {
   "cell_type": "code",
   "execution_count": 2,
   "metadata": {},
   "outputs": [],
   "source": [
    "# #PATH\n",
    "\n",
    "path_to_fitur = \"C:/Users/USER/Downloads/Tugas Akhir/dataset/coba fitur/\"\n",
    "path_to_experiment =\"C:/Users/USER/Downloads/Tugas Akhir/dataset/experiment/\"\n",
    "path_info = \"C:/Users/USER/Downloads/Tugas Akhir/dataset/annotations/\"\n",
    "filename = \"songs_info.csv\"\n",
    "\n",
    "# path_info = \"F:/178/Tugas Akhir/dataset/annotations/\"\n",
    "# filename = \"songs_info.csv\"\n",
    "# path_to_fitur = \"F:/178/Tugas Akhir/dataset/coba fitur/\"\n",
    "# path_to_experiment =\"F:/178/Tugas Akhir/dataset/experiment/\""
   ]
  },
  {
   "cell_type": "code",
   "execution_count": 3,
   "metadata": {},
   "outputs": [],
   "source": [
    "info = pd.read_csv(path_info + filename)\n",
    "song_file = info['song_id'].to_list()"
   ]
  },
  {
   "cell_type": "code",
   "execution_count": 4,
   "metadata": {},
   "outputs": [],
   "source": [
    "def merge(case1,case2):\n",
    "    case_a = pd.DataFrame(case1)\n",
    "    case_b = pd.DataFrame(case2)\n",
    "    \n",
    "    merged = case_a.merge(case_b, how='outer', left_index=True, right_index=True)\n",
    "    \n",
    "    return merged"
   ]
  },
  {
   "cell_type": "code",
   "execution_count": 5,
   "metadata": {},
   "outputs": [],
   "source": [
    "def flat(song,fitur):\n",
    "    vector = list()\n",
    "    for index,i in enumerate(song):\n",
    "        data = pd.read_csv(path_to_fitur+str(i)+\"/\"+fitur+\".csv\",header=None)\n",
    "        scaler.fit(data.T)\n",
    "        normalized = scaler.transform(data.T)\n",
    "        vector.append(normalized)\n",
    "        \n",
    "    results = np.array(vector).reshape(744,-1)\n",
    "\n",
    "    return results"
   ]
  },
  {
   "cell_type": "code",
   "execution_count": 6,
   "metadata": {},
   "outputs": [],
   "source": [
    "def prints(result):\n",
    "    print(np.shape(result))"
   ]
  },
  {
   "cell_type": "code",
   "execution_count": 7,
   "metadata": {},
   "outputs": [],
   "source": [
    "def case1(file):\n",
    "    fitur = 'mfcc'\n",
    "    case = 'case1'\n",
    "    result = flat(file,fitur)\n",
    "    \n",
    "    return result,case\n",
    "\n",
    "def case2(file):\n",
    "    case_1,dump = case1(file)\n",
    "    fitur = 'timbre'\n",
    "    case = 'case2'\n",
    "    case_2 = flat(file,fitur)\n",
    "    result = merge(case_1,case_2)\n",
    "    \n",
    "    return result,case\n",
    "\n",
    "def case3(file):\n",
    "    case_2,dump = case2(file)\n",
    "    fitur1 = 'crest'\n",
    "    fitur2 = 'flatness'\n",
    "    case = 'case3'\n",
    "    crest = flat(file,fitur1)\n",
    "    flatness = flat(file,fitur2)\n",
    "    results = merge(case_2,crest)\n",
    "    result = merge(results,flatness)\n",
    "    \n",
    "    return result,case\n",
    "\n",
    "def case4(file):\n",
    "    case_3,dump = case3(file)\n",
    "    fitur = 'chroma'\n",
    "    case = 'case4'\n",
    "    chroma = flat(file,fitur)\n",
    "    result = merge(case_3,chroma)\n",
    "    \n",
    "    return result,case"
   ]
  },
  {
   "cell_type": "code",
   "execution_count": 14,
   "metadata": {},
   "outputs": [
    {
     "name": "stdout",
     "output_type": "stream",
     "text": [
      "(744, 85)\n"
     ]
    }
   ],
   "source": [
    "# results,case = case1(song_file)\n",
    "# results,case = case2(song_file)\n",
    "# results,case = case3(song_file)\n",
    "results,case = case4(song_file)\n",
    "\n",
    "prints(results)"
   ]
  },
  {
   "cell_type": "code",
   "execution_count": 15,
   "metadata": {},
   "outputs": [],
   "source": [
    "pd.DataFrame(data=results).to_csv(path_to_experiment+case+\".csv\", header=None, index=None)"
   ]
  }
 ],
 "metadata": {
  "kernelspec": {
   "display_name": "Python 3",
   "language": "python",
   "name": "python3"
  },
  "language_info": {
   "codemirror_mode": {
    "name": "ipython",
    "version": 3
   },
   "file_extension": ".py",
   "mimetype": "text/x-python",
   "name": "python",
   "nbconvert_exporter": "python",
   "pygments_lexer": "ipython3",
   "version": "3.6.4"
  }
 },
 "nbformat": 4,
 "nbformat_minor": 2
}
