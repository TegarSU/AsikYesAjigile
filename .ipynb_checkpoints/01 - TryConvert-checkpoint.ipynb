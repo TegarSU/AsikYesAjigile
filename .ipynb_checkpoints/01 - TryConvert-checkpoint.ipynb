{
 "cells": [
  {
   "cell_type": "code",
   "execution_count": 1,
   "metadata": {
    "collapsed": true
   },
   "outputs": [],
   "source": [
    "import librosa\n",
    "import os"
   ]
  },
  {
   "cell_type": "code",
   "execution_count": 2,
   "metadata": {
    "collapsed": true
   },
   "outputs": [],
   "source": [
    "path_to_file = 'F:/178/Tugas Akhir/dataset/clips_45seconds/'\n",
    "path_to_file_wav = 'F:/178/Tugas Akhir/dataset/clips_45sec_wav/'"
   ]
  },
  {
   "cell_type": "code",
   "execution_count": 4,
   "metadata": {
    "collapsed": true
   },
   "outputs": [],
   "source": [
    "def load(src):\n",
    "    y, sr = librosa.load(src,mono=True,sr=22050)\n",
    "    \n",
    "    return y,sr\n",
    "\n",
    "def convert(filename,path,y,sr):\n",
    "    #Path\n",
    "    dst = path+filename[:-4]+\".wav\"\n",
    "    \n",
    "    #COnver to WAV\n",
    "    librosa.output.write_wav(dst, y, sr)"
   ]
  },
  {
   "cell_type": "code",
   "execution_count": 5,
   "metadata": {
    "collapsed": true
   },
   "outputs": [],
   "source": [
    "# # #Convert to WAV\n",
    "\n",
    "for filename in os.listdir(path_to_file):\n",
    "    y, sr = load(path_to_file+filename)\n",
    "    convert(filename,path_to_file,path_to_file_wav)"
   ]
  }
 ],
 "metadata": {
  "kernelspec": {
   "display_name": "Python 3",
   "language": "python",
   "name": "python3"
  },
  "language_info": {
   "codemirror_mode": {
    "name": "ipython",
    "version": 3
   },
   "file_extension": ".py",
   "mimetype": "text/x-python",
   "name": "python",
   "nbconvert_exporter": "python",
   "pygments_lexer": "ipython3",
   "version": "3.6.4"
  }
 },
 "nbformat": 4,
 "nbformat_minor": 2
}
