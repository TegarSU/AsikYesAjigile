{
 "cells": [
  {
   "cell_type": "code",
   "execution_count": 1,
   "metadata": {},
   "outputs": [],
   "source": [
    "import pandas as pd\n",
    "import numpy as np\n",
    "import os\n",
    "import IPython.display as ipd\n",
    "\n",
    "from pydub import AudioSegment\n",
    "import librosa\n",
    "import math\n",
    "\n",
    "from sklearn.externals import joblib\n",
    "\n",
    "from sklearn.preprocessing import MinMaxScaler\n",
    "scaler = MinMaxScaler(feature_range=(-1, 1))"
   ]
  },
  {
   "cell_type": "code",
   "execution_count": 2,
   "metadata": {},
   "outputs": [],
   "source": [
    "path_to_file = 'C:/Users/USER/Downloads/Tugas Akhir/dataset/tes/'\n",
    "path_to_fitur = \"C:/Users/USER/Downloads/Tugas Akhir/dataset/tes/fitur/\"\n",
    "path_to_model = \"C:/Users/USER/Downloads/Tugas Akhir/dataset/model/\""
   ]
  },
  {
   "cell_type": "code",
   "execution_count": 3,
   "metadata": {},
   "outputs": [],
   "source": [
    "# #Get Feature\n",
    "\n",
    "# #MFCC\n",
    "def mfcc(y,sr,file):\n",
    "    vector = list()\n",
    "    mfcc = librosa.feature.mfcc(y=y, sr=sr, n_mfcc=13) #13 is default dimension 512 frame\n",
    "    data = pd.DataFrame(mfcc)\n",
    "    mean = data.mean(axis = 1).values #Get Mean\n",
    "    std = data.std(axis = 1).values #Get std\n",
    "    vector.append(np.insert(mean,13,std))\n",
    "    save = pd.DataFrame(vector)\n",
    "\n",
    "    save.to_csv(path_to_fitur+file[:-4]+\"/mfcc.csv\", index=False, header=False)\n",
    "\n",
    "# #TIMBRE // CENTROID // FLUX // ROLLOFF // ZERO CROSSING \n",
    "def timbre(y,sr,file):\n",
    "    vector = list()\n",
    "    cent = librosa.feature.spectral_centroid(y=y, sr=sr) #1 is default dimension 512 frame\n",
    "    flux = librosa.onset.onset_strength(y=y, sr=sr) #1 is default dimension 512 frame\n",
    "    rolloff = librosa.feature.spectral_rolloff(y=y, sr=sr) #1 is default dimension 512 frame\n",
    "    zc = librosa.feature.zero_crossing_rate(y) #1 is default dimension 512 frame\n",
    "    \n",
    "    a = pd.DataFrame(cent) \n",
    "    b = pd.DataFrame(flux).T\n",
    "    c = pd.DataFrame(rolloff)\n",
    "    d = pd.DataFrame(zc)\n",
    "    \n",
    "    frame = [a,b,c,d]\n",
    "    data = pd.concat(frame)\n",
    "    mean = data.mean(axis = 1).values #Get Mean\n",
    "    std = data.std(axis = 1).values #Get std\n",
    "    vector.append(np.insert(mean,4,std))\n",
    "    save = pd.DataFrame(vector)\n",
    "    \n",
    "    save.to_csv(path_to_fitur+file[:-4]+\"/timbre.csv\", index=False, header=False)\n",
    "\n",
    "# #SCF and SFM\n",
    "def flatness(y,sr,file):\n",
    "    vector = list()\n",
    "    flatness = librosa.feature.spectral_flatness(y=y)\n",
    "    data = pd.DataFrame(flatness)\n",
    "    mean = data.mean(axis = 1).values #Get Mean\n",
    "    std = data.std(axis = 1).values #Get std\n",
    "    vector.append(np.insert(mean,1,std))\n",
    "    save = pd.DataFrame(vector)\n",
    "    \n",
    "    save.to_csv(path_to_fitur+file[:-4]+\"/flatness.csv\", index=False, header=False)\n",
    "    \n",
    "def crest(y,sr,file):\n",
    "    peak = y.max()\n",
    "    rms = librosa.feature.rmse(y=y)\n",
    "    n = rms.size\n",
    "    square = rms**2\n",
    "    rms_v2 = math.sqrt((1/n)*(square.sum()))\n",
    "    crest = [peak/rms_v2]\n",
    "    \n",
    "    crest_to_csv = pd.DataFrame(crest)\n",
    "    \n",
    "    crest_to_csv.to_csv(path_to_fitur+file[:-4]+\"/crest.csv\", index=False, header=False)\n",
    "\n",
    "# #chroma\n",
    "def chroma(y,sr,file):\n",
    "    vector = list()\n",
    "    chroma = librosa.feature.chroma_stft(y=y, sr=sr, n_chroma=24) #24 is default dimension 512 frame\n",
    "    data = pd.DataFrame(chroma)\n",
    "    mean = data.mean(axis = 1).values #Get Mean\n",
    "    std = data.std(axis = 1).values #Get std\n",
    "    vector.append(np.insert(mean,24,std))\n",
    "    save = pd.DataFrame(vector)\n",
    "    \n",
    "    save.to_csv(path_to_fitur+file[:-4]+\"/chroma.csv\", index=False, header=False)\n",
    "\n",
    "def fitur(file):\n",
    "    \n",
    "    y, sr = librosa.load(path_to_file+'wav/'+file, sr=22050) #load 45 and with same freq\n",
    "    \n",
    "    mfccs = mfcc(y,sr,file) #mfcc\n",
    "    timbres = timbre(y,sr,file) #timbre\n",
    "    flatnesss = flatness(y,sr,file)\n",
    "    crests = crest(y,sr,file)\n",
    "    chromas = chroma(y,sr,file) #chroma\n",
    "\n",
    "def merge(case1,case2):\n",
    "    case_a = pd.DataFrame(case1)\n",
    "    case_b = pd.DataFrame(case2)\n",
    "    \n",
    "    merged = case_a.merge(case_b, how='outer', left_index=True, right_index=True)\n",
    "    \n",
    "    return merged\n",
    "\n",
    "def flat(song,fitur):\n",
    "    vector = list()\n",
    "\n",
    "    data = pd.read_csv(path_to_fitur+str(song)+\"/\"+fitur+\".csv\",header=None)\n",
    "    vector.append(data.loc[0].values)\n",
    "\n",
    "    return vector\n",
    "\n",
    "def case1(file):\n",
    "    fitur = 'mfcc'\n",
    "    result = flat(file,fitur)\n",
    "    df = pd.DataFrame(result)\n",
    "    \n",
    "    return df\n",
    "\n",
    "def case2(file):\n",
    "    case_1 = case1(file)\n",
    "    fitur = 'timbre'\n",
    "    case_2 = flat(file,fitur)\n",
    "    result = merge(case_1,case_2)\n",
    "    \n",
    "    return result\n",
    "\n",
    "def case3(file):\n",
    "    case_2 = case2(file)\n",
    "    fitur1 = 'crest'\n",
    "    fitur2 = 'flatness'\n",
    "    crest = flat(file,fitur1)\n",
    "    flatness = flat(file,fitur2)\n",
    "    results = merge(case_2,crest)\n",
    "    result = merge(results,flatness)\n",
    "    \n",
    "    return result\n",
    "\n",
    "def case4(file):\n",
    "    case_3 = case3(file)\n",
    "    fitur = 'chroma'\n",
    "    chroma = flat(file,fitur)\n",
    "    result = merge(case_3,chroma)\n",
    "    \n",
    "    return result"
   ]
  },
  {
   "cell_type": "code",
   "execution_count": 25,
   "metadata": {},
   "outputs": [
    {
     "name": "stdout",
     "output_type": "stream",
     "text": [
      "convert successfully\n",
      "Creation of the directory C:/Users/USER/Downloads/Tugas Akhir/dataset/tes/fitur/ failed\n",
      "feature successfully\n",
      "flatten successfully\n"
     ]
    }
   ],
   "source": [
    "for filename in os.listdir(path_to_file):\n",
    "    if os.path.isfile(os.path.join(path_to_file, filename)):\n",
    "\n",
    "        #Convert Wav\n",
    "        src = path_to_file+filename\n",
    "        dst = path_to_file+'wav/'+filename[:-4]+\".wav\"   \n",
    "\n",
    "        sound = AudioSegment.from_mp3(src)\n",
    "        sound.export(dst, format=\"wav\")\n",
    "        print(\"convert successfully\")\n",
    "        #make dir\n",
    "        try:  \n",
    "            os.mkdir(path_to_fitur+filename[:-4])\n",
    "        except OSError:  \n",
    "            print (\"Creation of the directory %s failed\" % path_to_fitur)\n",
    "        \n",
    "        # #Feature\n",
    "        fiture = fitur(filename[:-4]+'.wav')\n",
    "        print(\"feature successfully\")\n",
    "        \n",
    "        # #Flatten\n",
    "        results = case4(filename[:-4])\n",
    "        print(\"flatten successfully\")"
   ]
  },
  {
   "cell_type": "code",
   "execution_count": 26,
   "metadata": {},
   "outputs": [],
   "source": [
    "#Load Model\n",
    "scaler.fit(results.T)\n",
    "normalized = scaler.transform(results.T)\n",
    "\n",
    "arousal = path_to_model+'arousal/case4norm_svr.sav'\n",
    "valence = path_to_model+'valence/case4norm_svr.sav'\n",
    "\n",
    "arousal_model = joblib.load(arousal)\n",
    "a = arousal_model.predict(normalized.T)\n",
    "\n",
    "valence_model = joblib.load(valence)\n",
    "v = valence_model.predict(normalized.T)"
   ]
  },
  {
   "cell_type": "code",
   "execution_count": 18,
   "metadata": {},
   "outputs": [
    {
     "name": "stdout",
     "output_type": "stream",
     "text": [
      "[6.36951413] [5.62759665]\n"
     ]
    }
   ],
   "source": [
    "print(a,v) #peterpan case 1"
   ]
  },
  {
   "cell_type": "code",
   "execution_count": 21,
   "metadata": {},
   "outputs": [
    {
     "name": "stdout",
     "output_type": "stream",
     "text": [
      "[3.91831923] [2.28111924]\n"
     ]
    }
   ],
   "source": [
    "print(a,v) #peterpan case 2"
   ]
  },
  {
   "cell_type": "code",
   "execution_count": 24,
   "metadata": {},
   "outputs": [
    {
     "name": "stdout",
     "output_type": "stream",
     "text": [
      "[4.34996339] [4.0260475]\n"
     ]
    }
   ],
   "source": [
    "print(a,v) #peterpan case 3"
   ]
  },
  {
   "cell_type": "code",
   "execution_count": 27,
   "metadata": {},
   "outputs": [
    {
     "name": "stdout",
     "output_type": "stream",
     "text": [
      "[4.27011922] [2.5927828]\n"
     ]
    }
   ],
   "source": [
    "print(a,v) #peterpan case 4"
   ]
  },
  {
   "cell_type": "code",
   "execution_count": null,
   "metadata": {},
   "outputs": [],
   "source": []
  },
  {
   "cell_type": "code",
   "execution_count": 6,
   "metadata": {},
   "outputs": [
    {
     "name": "stdout",
     "output_type": "stream",
     "text": [
      "[5.50171702] [5.58375219]\n"
     ]
    }
   ],
   "source": [
    "print(a,v) #adele case 1"
   ]
  },
  {
   "cell_type": "code",
   "execution_count": 9,
   "metadata": {},
   "outputs": [
    {
     "name": "stdout",
     "output_type": "stream",
     "text": [
      "[3.41536407] [1.6805381]\n"
     ]
    }
   ],
   "source": [
    "print(a,v) #adele case 2"
   ]
  },
  {
   "cell_type": "code",
   "execution_count": 12,
   "metadata": {},
   "outputs": [
    {
     "name": "stdout",
     "output_type": "stream",
     "text": [
      "[3.94417015] [3.56805811]\n"
     ]
    }
   ],
   "source": [
    "print(a,v) #adele case 3"
   ]
  },
  {
   "cell_type": "code",
   "execution_count": 15,
   "metadata": {},
   "outputs": [
    {
     "name": "stdout",
     "output_type": "stream",
     "text": [
      "[4.02508202] [2.48251571]\n"
     ]
    }
   ],
   "source": [
    "print(a,v) #adele case 4"
   ]
  }
 ],
 "metadata": {
  "kernelspec": {
   "display_name": "Python 3",
   "language": "python",
   "name": "python3"
  },
  "language_info": {
   "codemirror_mode": {
    "name": "ipython",
    "version": 3
   },
   "file_extension": ".py",
   "mimetype": "text/x-python",
   "name": "python",
   "nbconvert_exporter": "python",
   "pygments_lexer": "ipython3",
   "version": "3.6.4"
  }
 },
 "nbformat": 4,
 "nbformat_minor": 2
}
