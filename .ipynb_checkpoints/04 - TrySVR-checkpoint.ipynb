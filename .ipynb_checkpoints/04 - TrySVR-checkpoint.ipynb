{
 "cells": [
  {
   "cell_type": "code",
   "execution_count": 1,
   "metadata": {},
   "outputs": [],
   "source": [
    "import pandas as pd\n",
    "import numpy as np\n",
    "from sklearn.externals import joblib\n",
    "\n",
    "from sklearn.svm import SVR\n",
    "from sklearn.model_selection import cross_val_score\n",
    "from sklearn.model_selection import train_test_split\n",
    "from sklearn.metrics import r2_score\n",
    "\n",
    "from sklearn.model_selection import GridSearchCV"
   ]
  },
  {
   "cell_type": "code",
   "execution_count": 2,
   "metadata": {},
   "outputs": [],
   "source": [
    "# #PATH\n",
    "# path_info = \"F:/178/Tugas Akhir/dataset/annotations/\"\n",
    "# path_to_fitur = \"F:/178/Tugas Akhir/dataset/coba fitur/\"\n",
    "# path_to_file = \"F:/178/Tugas Akhir/dataset/clips_45sec_wav/\"\n",
    "# path_to_experiment =\"F:/178/Tugas Akhir/dataset/experiment/\"\n",
    "# path_to_model = \"F:/178/Tugas Akhir/dataset/model/\"\n",
    "# path_to_predict = \"F:/178/Tugas Akhir/dataset/predict/\"\n",
    "\n",
    "path_info = \"C:/Users/USER/Downloads/Tugas Akhir/dataset/annotations/\"\n",
    "path_to_fitur = \"C:/Users/USER/Downloads/Tugas Akhir/dataset/coba fitur/\"\n",
    "path_to_file = \"C:/Users/USER/Downloads/Tugas Akhir/dataset/clips_45sec_wav/\"\n",
    "path_to_experiment =\"C:/Users/USER/Downloads/Tugas Akhir/dataset/experiment/\"\n",
    "path_to_model = \"C:/Users/USER/Downloads/Tugas Akhir/AsikYesAjigile/model/\"\n",
    "path_to_predict = \"C:/Users/USER/Downloads/Tugas Akhir/AsikYesAjigile/predict/\""
   ]
  },
  {
   "cell_type": "code",
   "execution_count": 3,
   "metadata": {},
   "outputs": [],
   "source": [
    "def load(fitur):\n",
    "    data = pd.read_csv(path_to_experiment + fitur+\".csv\",header=None)\n",
    "    ground = pd.read_csv(path_info + \"static_annotations.csv\")\n",
    "\n",
    "    arousal_mean = ground['mean_arousal']\n",
    "    valence_mean = ground['mean_valence']\n",
    "    \n",
    "    return data,arousal_mean,valence_mean\n",
    "\n",
    "def split(data,value):\n",
    "    train_data, test_data, train_values, test_values = train_test_split(data,value,test_size=0.3,random_state=1000)\n",
    "    \n",
    "    return train_data, test_data, train_values, test_values\n",
    "    \n",
    "def predict(data,values,test,true,clf):\n",
    "    svr = clf\n",
    "    train = svr.fit(data,values)\n",
    "    a = svr.predict(test)\n",
    "    df = pd.DataFrame(data=[a,true])\n",
    "    \n",
    "    return a,train,df\n",
    "\n",
    "def score(a,true):\n",
    "    r2 = r2_score(true, a)\n",
    "    \n",
    "    return r2\n",
    "\n",
    "def gridsearch(data,true):\n",
    "    svr = SVR(kernel='rbf')\n",
    "    Cs = [1,1e1,1e2,1e3,1e4,1e5]\n",
    "    gammas = [1,1e-1,1e-2,1e-3,1e-4,1e-5]\n",
    "    parameters = {'C':Cs,'gamma':gammas}\n",
    "\n",
    "    clf = GridSearchCV(svr, parameters, cv=10, scoring='r2')\n",
    "    clf.fit(data,true)\n",
    "\n",
    "    return clf.best_params_ , clf.best_score_\n",
    "\n",
    "def regresion(clf,data,values):\n",
    "    scores = cross_val_score(clf,data,values,scoring='r2',cv=10)\n",
    "    \n",
    "    return scores\n",
    "\n",
    "def save_model(model,case,types):\n",
    "    path = path_to_model+types+case+'_svr.sav' # save the model\n",
    "    joblib.dump(model, path)\n",
    "\n",
    "def save_predict(df1,df2,case):\n",
    "    path = path_to_predict+case+\"_svr.xlsx\" # save the model\n",
    "    arousal = df1.T\n",
    "    valence = df2.T\n",
    "    merged = arousal.merge(valence, how='outer', left_index=True, right_index=True)\n",
    "    merged.to_excel(path,header=None,index=None)"
   ]
  },
  {
   "cell_type": "markdown",
   "metadata": {},
   "source": [
    "# CASE 1"
   ]
  },
  {
   "cell_type": "code",
   "execution_count": 4,
   "metadata": {},
   "outputs": [
    {
     "name": "stdout",
     "output_type": "stream",
     "text": [
      "(744, 26)\n"
     ]
    }
   ],
   "source": [
    "datafitur = \"case1\" #CASE 1\n",
    "\n",
    "data,arousal_mean,valence_mean = load(datafitur) #Load\n",
    "print(data.shape)\n",
    "\n",
    "train_data_a, test_data_a, train_values_a, test_values_a = split(data,arousal_mean) #split arousal\n",
    "train_data_v, test_data_v, train_values_v, test_values_v = split(data,valence_mean) #split valence"
   ]
  },
  {
   "cell_type": "markdown",
   "metadata": {},
   "source": [
    "GRIDSEARCHCV"
   ]
  },
  {
   "cell_type": "code",
   "execution_count": 5,
   "metadata": {},
   "outputs": [
    {
     "name": "stderr",
     "output_type": "stream",
     "text": [
      "C:\\Users\\USER\\Anaconda3\\lib\\site-packages\\sklearn\\model_selection\\_search.py:841: DeprecationWarning: The default of the `iid` parameter will change from True to False in version 0.22 and will be removed in 0.24. This will change numeric results when test-set sizes are unequal.\n",
      "  DeprecationWarning)\n",
      "C:\\Users\\USER\\Anaconda3\\lib\\site-packages\\sklearn\\model_selection\\_search.py:841: DeprecationWarning: The default of the `iid` parameter will change from True to False in version 0.22 and will be removed in 0.24. This will change numeric results when test-set sizes are unequal.\n",
      "  DeprecationWarning)\n"
     ]
    }
   ],
   "source": [
    "param_a, score_a = gridsearch(data,arousal_mean) #Gridsearch Arousal\n",
    "param_v, score_v = gridsearch(data,valence_mean) #Grinsearch Valence"
   ]
  },
  {
   "cell_type": "code",
   "execution_count": 6,
   "metadata": {},
   "outputs": [
    {
     "name": "stdout",
     "output_type": "stream",
     "text": [
      "parameter Arousal:\t {'C': 10.0, 'gamma': 0.1}\n",
      "parameter Valence:\t {'C': 100.0, 'gamma': 0.01}\n"
     ]
    }
   ],
   "source": [
    "print(\"parameter Arousal:\\t\",param_a)\n",
    "print(\"parameter Valence:\\t\",param_v)"
   ]
  },
  {
   "cell_type": "markdown",
   "metadata": {},
   "source": [
    "INITIAL MODEL"
   ]
  },
  {
   "cell_type": "code",
   "execution_count": 7,
   "metadata": {},
   "outputs": [],
   "source": [
    "svr_case1_a = SVR(kernel='rbf',C=1e1,gamma=1e-1,cache_size=500) #init Arousal\n",
    "svr_case1_v = SVR(kernel='rbf',C=1e2,gamma=1e-2,cache_size=500) #init Valence"
   ]
  },
  {
   "cell_type": "markdown",
   "metadata": {},
   "source": [
    "TRAIN"
   ]
  },
  {
   "cell_type": "code",
   "execution_count": 8,
   "metadata": {},
   "outputs": [],
   "source": [
    "# #Predict Arousal\n",
    "a_a,train_a,df1_a = predict(train_data_a, train_values_a, test_data_a, test_values_a, svr_case1_a)\n",
    "# #Predict Valence\n",
    "a_v,train_v,df1_v = predict(train_data_v, train_values_v, test_data_v, test_values_v, svr_case1_v)\n",
    "\n",
    "r2_a = score(a_a,test_values_a) #Score Arousal\n",
    "r2_v = score(a_v,test_values_v) #Score Valence"
   ]
  },
  {
   "cell_type": "markdown",
   "metadata": {},
   "source": [
    "AROUSAL"
   ]
  },
  {
   "cell_type": "code",
   "execution_count": 9,
   "metadata": {},
   "outputs": [
    {
     "data": {
      "text/html": [
       "<div>\n",
       "<style scoped>\n",
       "    .dataframe tbody tr th:only-of-type {\n",
       "        vertical-align: middle;\n",
       "    }\n",
       "\n",
       "    .dataframe tbody tr th {\n",
       "        vertical-align: top;\n",
       "    }\n",
       "\n",
       "    .dataframe thead th {\n",
       "        text-align: right;\n",
       "    }\n",
       "</style>\n",
       "<table border=\"1\" class=\"dataframe\">\n",
       "  <thead>\n",
       "    <tr style=\"text-align: right;\">\n",
       "      <th></th>\n",
       "      <th>0</th>\n",
       "      <th>1</th>\n",
       "      <th>2</th>\n",
       "      <th>3</th>\n",
       "      <th>4</th>\n",
       "      <th>5</th>\n",
       "      <th>6</th>\n",
       "      <th>7</th>\n",
       "      <th>8</th>\n",
       "      <th>9</th>\n",
       "      <th>...</th>\n",
       "      <th>214</th>\n",
       "      <th>215</th>\n",
       "      <th>216</th>\n",
       "      <th>217</th>\n",
       "      <th>218</th>\n",
       "      <th>219</th>\n",
       "      <th>220</th>\n",
       "      <th>221</th>\n",
       "      <th>222</th>\n",
       "      <th>223</th>\n",
       "    </tr>\n",
       "  </thead>\n",
       "  <tbody>\n",
       "    <tr>\n",
       "      <th>0</th>\n",
       "      <td>4.56</td>\n",
       "      <td>6.0</td>\n",
       "      <td>6.73</td>\n",
       "      <td>3.55</td>\n",
       "      <td>3.83</td>\n",
       "      <td>4.77</td>\n",
       "      <td>2.84</td>\n",
       "      <td>6.57</td>\n",
       "      <td>3.55</td>\n",
       "      <td>4.87</td>\n",
       "      <td>...</td>\n",
       "      <td>6.57</td>\n",
       "      <td>4.56</td>\n",
       "      <td>4.84</td>\n",
       "      <td>4.79</td>\n",
       "      <td>4.3</td>\n",
       "      <td>4.93</td>\n",
       "      <td>5.74</td>\n",
       "      <td>6.17</td>\n",
       "      <td>4.3</td>\n",
       "      <td>3.18</td>\n",
       "    </tr>\n",
       "    <tr>\n",
       "      <th>1</th>\n",
       "      <td>6.20</td>\n",
       "      <td>5.9</td>\n",
       "      <td>6.40</td>\n",
       "      <td>3.10</td>\n",
       "      <td>3.50</td>\n",
       "      <td>3.60</td>\n",
       "      <td>3.00</td>\n",
       "      <td>5.80</td>\n",
       "      <td>3.60</td>\n",
       "      <td>6.20</td>\n",
       "      <td>...</td>\n",
       "      <td>7.00</td>\n",
       "      <td>5.00</td>\n",
       "      <td>3.70</td>\n",
       "      <td>5.80</td>\n",
       "      <td>4.7</td>\n",
       "      <td>4.90</td>\n",
       "      <td>4.80</td>\n",
       "      <td>6.30</td>\n",
       "      <td>3.3</td>\n",
       "      <td>2.20</td>\n",
       "    </tr>\n",
       "  </tbody>\n",
       "</table>\n",
       "<p>2 rows × 224 columns</p>\n",
       "</div>"
      ],
      "text/plain": [
       "    0    1     2     3     4     5     6     7     8     9    ...   214   215  \\\n",
       "0  4.56  6.0  6.73  3.55  3.83  4.77  2.84  6.57  3.55  4.87  ...  6.57  4.56   \n",
       "1  6.20  5.9  6.40  3.10  3.50  3.60  3.00  5.80  3.60  6.20  ...  7.00  5.00   \n",
       "\n",
       "    216   217  218   219   220   221  222   223  \n",
       "0  4.84  4.79  4.3  4.93  5.74  6.17  4.3  3.18  \n",
       "1  3.70  5.80  4.7  4.90  4.80  6.30  3.3  2.20  \n",
       "\n",
       "[2 rows x 224 columns]"
      ]
     },
     "metadata": {},
     "output_type": "display_data"
    },
    {
     "name": "stdout",
     "output_type": "stream",
     "text": [
      "R2 Score Arousal:\t0.64\n"
     ]
    }
   ],
   "source": [
    "df1_a = df1_a.round(2)\n",
    "\n",
    "display(df1_a.head())\n",
    "print(\"R2 Score Arousal:\\t%0.2f\" % r2_a)"
   ]
  },
  {
   "cell_type": "markdown",
   "metadata": {},
   "source": [
    "VALENCE"
   ]
  },
  {
   "cell_type": "code",
   "execution_count": 10,
   "metadata": {},
   "outputs": [
    {
     "data": {
      "text/html": [
       "<div>\n",
       "<style scoped>\n",
       "    .dataframe tbody tr th:only-of-type {\n",
       "        vertical-align: middle;\n",
       "    }\n",
       "\n",
       "    .dataframe tbody tr th {\n",
       "        vertical-align: top;\n",
       "    }\n",
       "\n",
       "    .dataframe thead th {\n",
       "        text-align: right;\n",
       "    }\n",
       "</style>\n",
       "<table border=\"1\" class=\"dataframe\">\n",
       "  <thead>\n",
       "    <tr style=\"text-align: right;\">\n",
       "      <th></th>\n",
       "      <th>0</th>\n",
       "      <th>1</th>\n",
       "      <th>2</th>\n",
       "      <th>3</th>\n",
       "      <th>4</th>\n",
       "      <th>5</th>\n",
       "      <th>6</th>\n",
       "      <th>7</th>\n",
       "      <th>8</th>\n",
       "      <th>9</th>\n",
       "      <th>...</th>\n",
       "      <th>214</th>\n",
       "      <th>215</th>\n",
       "      <th>216</th>\n",
       "      <th>217</th>\n",
       "      <th>218</th>\n",
       "      <th>219</th>\n",
       "      <th>220</th>\n",
       "      <th>221</th>\n",
       "      <th>222</th>\n",
       "      <th>223</th>\n",
       "    </tr>\n",
       "  </thead>\n",
       "  <tbody>\n",
       "    <tr>\n",
       "      <th>0</th>\n",
       "      <td>5.52</td>\n",
       "      <td>6.59</td>\n",
       "      <td>6.0</td>\n",
       "      <td>4.45</td>\n",
       "      <td>4.82</td>\n",
       "      <td>5.19</td>\n",
       "      <td>4.16</td>\n",
       "      <td>6.07</td>\n",
       "      <td>4.5</td>\n",
       "      <td>5.33</td>\n",
       "      <td>...</td>\n",
       "      <td>5.47</td>\n",
       "      <td>5.14</td>\n",
       "      <td>4.64</td>\n",
       "      <td>5.37</td>\n",
       "      <td>4.69</td>\n",
       "      <td>5.38</td>\n",
       "      <td>5.3</td>\n",
       "      <td>5.58</td>\n",
       "      <td>4.55</td>\n",
       "      <td>4.34</td>\n",
       "    </tr>\n",
       "    <tr>\n",
       "      <th>1</th>\n",
       "      <td>2.70</td>\n",
       "      <td>6.40</td>\n",
       "      <td>6.0</td>\n",
       "      <td>2.70</td>\n",
       "      <td>5.00</td>\n",
       "      <td>3.20</td>\n",
       "      <td>4.60</td>\n",
       "      <td>4.30</td>\n",
       "      <td>4.1</td>\n",
       "      <td>6.70</td>\n",
       "      <td>...</td>\n",
       "      <td>6.60</td>\n",
       "      <td>4.80</td>\n",
       "      <td>2.50</td>\n",
       "      <td>5.60</td>\n",
       "      <td>3.80</td>\n",
       "      <td>4.40</td>\n",
       "      <td>6.5</td>\n",
       "      <td>6.50</td>\n",
       "      <td>4.00</td>\n",
       "      <td>3.50</td>\n",
       "    </tr>\n",
       "  </tbody>\n",
       "</table>\n",
       "<p>2 rows × 224 columns</p>\n",
       "</div>"
      ],
      "text/plain": [
       "    0     1    2     3     4     5     6     7    8     9    ...   214   215  \\\n",
       "0  5.52  6.59  6.0  4.45  4.82  5.19  4.16  6.07  4.5  5.33  ...  5.47  5.14   \n",
       "1  2.70  6.40  6.0  2.70  5.00  3.20  4.60  4.30  4.1  6.70  ...  6.60  4.80   \n",
       "\n",
       "    216   217   218   219  220   221   222   223  \n",
       "0  4.64  5.37  4.69  5.38  5.3  5.58  4.55  4.34  \n",
       "1  2.50  5.60  3.80  4.40  6.5  6.50  4.00  3.50  \n",
       "\n",
       "[2 rows x 224 columns]"
      ]
     },
     "metadata": {},
     "output_type": "display_data"
    },
    {
     "name": "stdout",
     "output_type": "stream",
     "text": [
      "R2 Score Valence: 0.26\n"
     ]
    }
   ],
   "source": [
    "df1_v = df1_v.round(2)\n",
    "\n",
    "display(df1_v.head())\n",
    "print(\"R2 Score Valence: %0.2f\" % r2_v)"
   ]
  },
  {
   "cell_type": "markdown",
   "metadata": {},
   "source": [
    "REGRESSION"
   ]
  },
  {
   "cell_type": "code",
   "execution_count": 11,
   "metadata": {},
   "outputs": [],
   "source": [
    "scores_a = regresion(svr_case1_a,data,arousal_mean) #Arousal Regression\n",
    "scores_v = regresion(svr_case1_v,data,valence_mean) #Arousal Regression"
   ]
  },
  {
   "cell_type": "markdown",
   "metadata": {
    "collapsed": true
   },
   "source": [
    "AROUSAL"
   ]
  },
  {
   "cell_type": "code",
   "execution_count": 12,
   "metadata": {},
   "outputs": [
    {
     "name": "stdout",
     "output_type": "stream",
     "text": [
      "R2 Score Valence:\t [0.35148234 0.47426051 0.53743623 0.33322728 0.67713811 0.50831268\n",
      " 0.54411134 0.52206316 0.64106632 0.57329945]\n",
      "R2 Score Valence:\t0.52 (+/- 0.10)\n"
     ]
    }
   ],
   "source": [
    "print(\"R2 Score Valence:\\t\",scores_a)\n",
    "print(\"R2 Score Valence:\\t%0.2f (+/- %0.2f)\" % (scores_a.mean(), scores_a.std() ))"
   ]
  },
  {
   "cell_type": "markdown",
   "metadata": {
    "collapsed": true
   },
   "source": [
    "VALENCE"
   ]
  },
  {
   "cell_type": "code",
   "execution_count": 13,
   "metadata": {},
   "outputs": [
    {
     "name": "stdout",
     "output_type": "stream",
     "text": [
      "R2 Score Valence:\t [-0.00545195  0.00489033  0.00194577 -0.31454604  0.32930869 -0.05314173\n",
      "  0.19602254  0.21544256  0.29688727  0.12116712]\n",
      "R2 Score Valence:\t0.08 (+/- 0.18)\n"
     ]
    }
   ],
   "source": [
    "print(\"R2 Score Valence:\\t\",scores_v)\n",
    "print(\"R2 Score Valence:\\t%0.2f (+/- %0.2f)\" % (scores_v.mean(), scores_v.std() ))"
   ]
  },
  {
   "cell_type": "code",
   "execution_count": 15,
   "metadata": {},
   "outputs": [],
   "source": [
    "save_predict(df1_a.round(2),df1_v.round(2),datafitur)\n",
    "save_model(train_a,datafitur,'arousal/') #save model Arousal\n",
    "save_model(train_v,datafitur,'valence/') #save model Valence"
   ]
  },
  {
   "cell_type": "markdown",
   "metadata": {},
   "source": [
    "# CASE 2"
   ]
  },
  {
   "cell_type": "code",
   "execution_count": 16,
   "metadata": {},
   "outputs": [
    {
     "name": "stdout",
     "output_type": "stream",
     "text": [
      "(744, 34)\n"
     ]
    }
   ],
   "source": [
    "datafitur = \"case2\" #CASE 2\n",
    "\n",
    "data,arousal_mean,valence_mean = load(datafitur) #Load\n",
    "print(data.shape)\n",
    "\n",
    "train_data_a, test_data_a, train_values_a, test_values_a = split(data,arousal_mean) #split arousal\n",
    "train_data_v, test_data_v, train_values_v, test_values_v = split(data,valence_mean) #split valence"
   ]
  },
  {
   "cell_type": "markdown",
   "metadata": {},
   "source": [
    "GRIDSEARCH"
   ]
  },
  {
   "cell_type": "code",
   "execution_count": 18,
   "metadata": {},
   "outputs": [
    {
     "name": "stderr",
     "output_type": "stream",
     "text": [
      "C:\\Users\\USER\\Anaconda3\\lib\\site-packages\\sklearn\\model_selection\\_search.py:841: DeprecationWarning: The default of the `iid` parameter will change from True to False in version 0.22 and will be removed in 0.24. This will change numeric results when test-set sizes are unequal.\n",
      "  DeprecationWarning)\n",
      "C:\\Users\\USER\\Anaconda3\\lib\\site-packages\\sklearn\\model_selection\\_search.py:841: DeprecationWarning: The default of the `iid` parameter will change from True to False in version 0.22 and will be removed in 0.24. This will change numeric results when test-set sizes are unequal.\n",
      "  DeprecationWarning)\n"
     ]
    }
   ],
   "source": [
    "param_a, score_a = gridsearch(data,arousal_mean) #Gridsearch Arousal\n",
    "param_v, score_v = gridsearch(data,valence_mean) #Grinsearch Valence"
   ]
  },
  {
   "cell_type": "code",
   "execution_count": 19,
   "metadata": {},
   "outputs": [
    {
     "name": "stdout",
     "output_type": "stream",
     "text": [
      "parameter Arousal:\t {'C': 1000.0, 'gamma': 0.01}\n",
      "parameter Valence:\t {'C': 1000.0, 'gamma': 0.01}\n"
     ]
    }
   ],
   "source": [
    "print(\"parameter Arousal:\\t\",param_a)\n",
    "print(\"parameter Valence:\\t\",param_v)"
   ]
  },
  {
   "cell_type": "markdown",
   "metadata": {},
   "source": [
    "INITIAL MODEL"
   ]
  },
  {
   "cell_type": "code",
   "execution_count": 20,
   "metadata": {},
   "outputs": [],
   "source": [
    "svr_case2_a = SVR(kernel='rbf',C=1e3,gamma=1e-2,cache_size=500) #init Arousal\n",
    "svr_case2_v = SVR(kernel='rbf',C=1e3,gamma=1e-2,cache_size=500) #init Valence"
   ]
  },
  {
   "cell_type": "markdown",
   "metadata": {},
   "source": [
    "TRAIN"
   ]
  },
  {
   "cell_type": "code",
   "execution_count": 21,
   "metadata": {},
   "outputs": [],
   "source": [
    "# #Predict Arousal\n",
    "a_a,train_a,df2_a = predict(train_data_a, train_values_a, test_data_a, test_values_a, svr_case2_a)\n",
    "# #Predict Valence\n",
    "a_v,train_v,df2_v = predict(train_data_v, train_values_v, test_data_v, test_values_v, svr_case2_v)\n",
    "\n",
    "r2_a = score(a_a,test_values_a) #Score Arousal\n",
    "r2_v = score(a_v,test_values_v) #Score Valence"
   ]
  },
  {
   "cell_type": "markdown",
   "metadata": {},
   "source": [
    "AROUSAL"
   ]
  },
  {
   "cell_type": "code",
   "execution_count": 22,
   "metadata": {},
   "outputs": [
    {
     "data": {
      "text/html": [
       "<div>\n",
       "<style scoped>\n",
       "    .dataframe tbody tr th:only-of-type {\n",
       "        vertical-align: middle;\n",
       "    }\n",
       "\n",
       "    .dataframe tbody tr th {\n",
       "        vertical-align: top;\n",
       "    }\n",
       "\n",
       "    .dataframe thead th {\n",
       "        text-align: right;\n",
       "    }\n",
       "</style>\n",
       "<table border=\"1\" class=\"dataframe\">\n",
       "  <thead>\n",
       "    <tr style=\"text-align: right;\">\n",
       "      <th></th>\n",
       "      <th>0</th>\n",
       "      <th>1</th>\n",
       "      <th>2</th>\n",
       "      <th>3</th>\n",
       "      <th>4</th>\n",
       "      <th>5</th>\n",
       "      <th>6</th>\n",
       "      <th>7</th>\n",
       "      <th>8</th>\n",
       "      <th>9</th>\n",
       "      <th>...</th>\n",
       "      <th>214</th>\n",
       "      <th>215</th>\n",
       "      <th>216</th>\n",
       "      <th>217</th>\n",
       "      <th>218</th>\n",
       "      <th>219</th>\n",
       "      <th>220</th>\n",
       "      <th>221</th>\n",
       "      <th>222</th>\n",
       "      <th>223</th>\n",
       "    </tr>\n",
       "  </thead>\n",
       "  <tbody>\n",
       "    <tr>\n",
       "      <th>0</th>\n",
       "      <td>4.84</td>\n",
       "      <td>5.78</td>\n",
       "      <td>6.74</td>\n",
       "      <td>3.36</td>\n",
       "      <td>3.64</td>\n",
       "      <td>4.59</td>\n",
       "      <td>3.09</td>\n",
       "      <td>6.26</td>\n",
       "      <td>3.36</td>\n",
       "      <td>5.02</td>\n",
       "      <td>...</td>\n",
       "      <td>6.47</td>\n",
       "      <td>4.98</td>\n",
       "      <td>4.84</td>\n",
       "      <td>4.6</td>\n",
       "      <td>4.59</td>\n",
       "      <td>4.71</td>\n",
       "      <td>5.76</td>\n",
       "      <td>6.29</td>\n",
       "      <td>3.97</td>\n",
       "      <td>2.91</td>\n",
       "    </tr>\n",
       "    <tr>\n",
       "      <th>1</th>\n",
       "      <td>6.20</td>\n",
       "      <td>5.90</td>\n",
       "      <td>6.40</td>\n",
       "      <td>3.10</td>\n",
       "      <td>3.50</td>\n",
       "      <td>3.60</td>\n",
       "      <td>3.00</td>\n",
       "      <td>5.80</td>\n",
       "      <td>3.60</td>\n",
       "      <td>6.20</td>\n",
       "      <td>...</td>\n",
       "      <td>7.00</td>\n",
       "      <td>5.00</td>\n",
       "      <td>3.70</td>\n",
       "      <td>5.8</td>\n",
       "      <td>4.70</td>\n",
       "      <td>4.90</td>\n",
       "      <td>4.80</td>\n",
       "      <td>6.30</td>\n",
       "      <td>3.30</td>\n",
       "      <td>2.20</td>\n",
       "    </tr>\n",
       "  </tbody>\n",
       "</table>\n",
       "<p>2 rows × 224 columns</p>\n",
       "</div>"
      ],
      "text/plain": [
       "    0     1     2     3     4     5     6     7     8     9    ...   214  \\\n",
       "0  4.84  5.78  6.74  3.36  3.64  4.59  3.09  6.26  3.36  5.02  ...  6.47   \n",
       "1  6.20  5.90  6.40  3.10  3.50  3.60  3.00  5.80  3.60  6.20  ...  7.00   \n",
       "\n",
       "    215   216  217   218   219   220   221   222   223  \n",
       "0  4.98  4.84  4.6  4.59  4.71  5.76  6.29  3.97  2.91  \n",
       "1  5.00  3.70  5.8  4.70  4.90  4.80  6.30  3.30  2.20  \n",
       "\n",
       "[2 rows x 224 columns]"
      ]
     },
     "metadata": {},
     "output_type": "display_data"
    },
    {
     "name": "stdout",
     "output_type": "stream",
     "text": [
      "R2 Score Arousal:\t0.67\n"
     ]
    }
   ],
   "source": [
    "df2_a = df2_a.round(2)\n",
    "\n",
    "display(df2_a.head())\n",
    "print(\"R2 Score Arousal:\\t%0.2f\" % r2_a)"
   ]
  },
  {
   "cell_type": "markdown",
   "metadata": {},
   "source": [
    "VALENCE"
   ]
  },
  {
   "cell_type": "code",
   "execution_count": 23,
   "metadata": {},
   "outputs": [
    {
     "data": {
      "text/html": [
       "<div>\n",
       "<style scoped>\n",
       "    .dataframe tbody tr th:only-of-type {\n",
       "        vertical-align: middle;\n",
       "    }\n",
       "\n",
       "    .dataframe tbody tr th {\n",
       "        vertical-align: top;\n",
       "    }\n",
       "\n",
       "    .dataframe thead th {\n",
       "        text-align: right;\n",
       "    }\n",
       "</style>\n",
       "<table border=\"1\" class=\"dataframe\">\n",
       "  <thead>\n",
       "    <tr style=\"text-align: right;\">\n",
       "      <th></th>\n",
       "      <th>0</th>\n",
       "      <th>1</th>\n",
       "      <th>2</th>\n",
       "      <th>3</th>\n",
       "      <th>4</th>\n",
       "      <th>5</th>\n",
       "      <th>6</th>\n",
       "      <th>7</th>\n",
       "      <th>8</th>\n",
       "      <th>9</th>\n",
       "      <th>...</th>\n",
       "      <th>214</th>\n",
       "      <th>215</th>\n",
       "      <th>216</th>\n",
       "      <th>217</th>\n",
       "      <th>218</th>\n",
       "      <th>219</th>\n",
       "      <th>220</th>\n",
       "      <th>221</th>\n",
       "      <th>222</th>\n",
       "      <th>223</th>\n",
       "    </tr>\n",
       "  </thead>\n",
       "  <tbody>\n",
       "    <tr>\n",
       "      <th>0</th>\n",
       "      <td>5.74</td>\n",
       "      <td>6.25</td>\n",
       "      <td>6.58</td>\n",
       "      <td>4.22</td>\n",
       "      <td>4.72</td>\n",
       "      <td>5.02</td>\n",
       "      <td>4.23</td>\n",
       "      <td>5.84</td>\n",
       "      <td>4.03</td>\n",
       "      <td>5.61</td>\n",
       "      <td>...</td>\n",
       "      <td>5.38</td>\n",
       "      <td>5.65</td>\n",
       "      <td>4.85</td>\n",
       "      <td>5.15</td>\n",
       "      <td>5.02</td>\n",
       "      <td>5.16</td>\n",
       "      <td>5.24</td>\n",
       "      <td>5.29</td>\n",
       "      <td>4.12</td>\n",
       "      <td>3.65</td>\n",
       "    </tr>\n",
       "    <tr>\n",
       "      <th>1</th>\n",
       "      <td>2.70</td>\n",
       "      <td>6.40</td>\n",
       "      <td>6.00</td>\n",
       "      <td>2.70</td>\n",
       "      <td>5.00</td>\n",
       "      <td>3.20</td>\n",
       "      <td>4.60</td>\n",
       "      <td>4.30</td>\n",
       "      <td>4.10</td>\n",
       "      <td>6.70</td>\n",
       "      <td>...</td>\n",
       "      <td>6.60</td>\n",
       "      <td>4.80</td>\n",
       "      <td>2.50</td>\n",
       "      <td>5.60</td>\n",
       "      <td>3.80</td>\n",
       "      <td>4.40</td>\n",
       "      <td>6.50</td>\n",
       "      <td>6.50</td>\n",
       "      <td>4.00</td>\n",
       "      <td>3.50</td>\n",
       "    </tr>\n",
       "  </tbody>\n",
       "</table>\n",
       "<p>2 rows × 224 columns</p>\n",
       "</div>"
      ],
      "text/plain": [
       "    0     1     2     3     4     5     6     7     8     9    ...   214  \\\n",
       "0  5.74  6.25  6.58  4.22  4.72  5.02  4.23  5.84  4.03  5.61  ...  5.38   \n",
       "1  2.70  6.40  6.00  2.70  5.00  3.20  4.60  4.30  4.10  6.70  ...  6.60   \n",
       "\n",
       "    215   216   217   218   219   220   221   222   223  \n",
       "0  5.65  4.85  5.15  5.02  5.16  5.24  5.29  4.12  3.65  \n",
       "1  4.80  2.50  5.60  3.80  4.40  6.50  6.50  4.00  3.50  \n",
       "\n",
       "[2 rows x 224 columns]"
      ]
     },
     "metadata": {},
     "output_type": "display_data"
    },
    {
     "name": "stdout",
     "output_type": "stream",
     "text": [
      "R2 Score Valence:\t0.27\n"
     ]
    }
   ],
   "source": [
    "df2_v = df2_v.round(2)\n",
    "\n",
    "display(df2_v.head())\n",
    "print(\"R2 Score Valence:\\t%0.2f\" % r2_v)"
   ]
  },
  {
   "cell_type": "markdown",
   "metadata": {},
   "source": [
    "REGRESSION"
   ]
  },
  {
   "cell_type": "code",
   "execution_count": 24,
   "metadata": {},
   "outputs": [],
   "source": [
    "scores_a = regresion(svr_case2_a,data,arousal_mean) #Arousal Regression\n",
    "scores_v = regresion(svr_case2_v,data,valence_mean) #Arousal Regression"
   ]
  },
  {
   "cell_type": "markdown",
   "metadata": {},
   "source": [
    "AROUSAL"
   ]
  },
  {
   "cell_type": "code",
   "execution_count": 25,
   "metadata": {},
   "outputs": [
    {
     "name": "stdout",
     "output_type": "stream",
     "text": [
      "R2 Score Valence:\t [0.40964922 0.51776703 0.56141047 0.47352075 0.69328549 0.54074744\n",
      " 0.53195885 0.5615723  0.64552993 0.53860356]\n",
      "R2 Score Valence:\t0.55 (+/- 0.08)\n"
     ]
    }
   ],
   "source": [
    "print(\"R2 Score Valence:\\t\",scores_a)\n",
    "print(\"R2 Score Valence:\\t%0.2f (+/- %0.2f)\" % (scores_a.mean(), scores_a.std() ))"
   ]
  },
  {
   "cell_type": "markdown",
   "metadata": {},
   "source": [
    "VALENCE"
   ]
  },
  {
   "cell_type": "code",
   "execution_count": 26,
   "metadata": {},
   "outputs": [
    {
     "name": "stdout",
     "output_type": "stream",
     "text": [
      "R2 Score Valence:\t [ 0.05491591  0.08038344 -0.01993064 -0.2448629   0.29757837  0.0038916\n",
      "  0.24149165  0.2591306   0.30774944  0.10761363]\n",
      "R2 Score Valence:\t0.11 (+/- 0.16)\n"
     ]
    }
   ],
   "source": [
    "print(\"R2 Score Valence:\\t\",scores_v)\n",
    "print(\"R2 Score Valence:\\t%0.2f (+/- %0.2f)\" % (scores_v.mean(), scores_v.std() ))"
   ]
  },
  {
   "cell_type": "code",
   "execution_count": 27,
   "metadata": {},
   "outputs": [],
   "source": [
    "save_predict(df2_a.round(2),df2_v.round(2),datafitur)\n",
    "save_model(train_a,datafitur,'arousal/') #save model Arousal\n",
    "save_model(train_v,datafitur,'valence/') #save model Valence"
   ]
  },
  {
   "cell_type": "markdown",
   "metadata": {},
   "source": [
    "# CASE 3"
   ]
  },
  {
   "cell_type": "code",
   "execution_count": 28,
   "metadata": {},
   "outputs": [
    {
     "name": "stdout",
     "output_type": "stream",
     "text": [
      "(744, 37)\n"
     ]
    }
   ],
   "source": [
    "datafitur =  \"case3\" #CASE 3\n",
    "data,arousal_mean,valence_mean = load(datafitur) #Load\n",
    "print(data.shape)\n",
    "\n",
    "train_data_a, test_data_a, train_values_a, test_values_a = split(data,arousal_mean) #split arousal\n",
    "train_data_v, test_data_v, train_values_v, test_values_v = split(data,valence_mean) #split valence"
   ]
  },
  {
   "cell_type": "markdown",
   "metadata": {},
   "source": [
    "GRIDSEARCH"
   ]
  },
  {
   "cell_type": "code",
   "execution_count": 29,
   "metadata": {},
   "outputs": [
    {
     "name": "stderr",
     "output_type": "stream",
     "text": [
      "C:\\Users\\USER\\Anaconda3\\lib\\site-packages\\sklearn\\model_selection\\_search.py:841: DeprecationWarning: The default of the `iid` parameter will change from True to False in version 0.22 and will be removed in 0.24. This will change numeric results when test-set sizes are unequal.\n",
      "  DeprecationWarning)\n",
      "C:\\Users\\USER\\Anaconda3\\lib\\site-packages\\sklearn\\model_selection\\_search.py:841: DeprecationWarning: The default of the `iid` parameter will change from True to False in version 0.22 and will be removed in 0.24. This will change numeric results when test-set sizes are unequal.\n",
      "  DeprecationWarning)\n"
     ]
    }
   ],
   "source": [
    "param_a, score_a = gridsearch(data,arousal_mean) #Gridsearch Arousal\n",
    "param_v, score_v = gridsearch(data,valence_mean) #Grinsearch Valence"
   ]
  },
  {
   "cell_type": "code",
   "execution_count": 30,
   "metadata": {},
   "outputs": [
    {
     "name": "stdout",
     "output_type": "stream",
     "text": [
      "parameter Arousal:\t {'C': 1000.0, 'gamma': 0.01}\n",
      "parameter Valence:\t {'C': 10.0, 'gamma': 0.1}\n"
     ]
    }
   ],
   "source": [
    "print(\"parameter Arousal:\\t\",param_a)\n",
    "print(\"parameter Valence:\\t\",param_v)"
   ]
  },
  {
   "cell_type": "markdown",
   "metadata": {},
   "source": [
    "INITAL MODEL"
   ]
  },
  {
   "cell_type": "code",
   "execution_count": 31,
   "metadata": {},
   "outputs": [],
   "source": [
    "svr_case3_a = SVR(kernel='rbf',C=1e3,gamma=1e-2,cache_size=500) #init Arousal\n",
    "svr_case3_v = SVR(kernel='rbf',C=1e1,gamma=1e-1,cache_size=500) #init Valence"
   ]
  },
  {
   "cell_type": "markdown",
   "metadata": {},
   "source": [
    "TRAIN"
   ]
  },
  {
   "cell_type": "code",
   "execution_count": 32,
   "metadata": {},
   "outputs": [],
   "source": [
    "# #Predict Arousal\n",
    "a_a,train_a,df3_a = predict(train_data_a, train_values_a, test_data_a, test_values_a, svr_case3_a)\n",
    "# #Predict Valence\n",
    "a_v,train_v,df3_v = predict(train_data_v, train_values_v, test_data_v, test_values_v, svr_case3_v)\n",
    "\n",
    "r2_a = score(a_a,test_values_a) #Score Arousal\n",
    "r2_v = score(a_v,test_values_v) #Score Valence"
   ]
  },
  {
   "cell_type": "markdown",
   "metadata": {},
   "source": [
    "AROUSAL"
   ]
  },
  {
   "cell_type": "code",
   "execution_count": 33,
   "metadata": {},
   "outputs": [
    {
     "data": {
      "text/html": [
       "<div>\n",
       "<style scoped>\n",
       "    .dataframe tbody tr th:only-of-type {\n",
       "        vertical-align: middle;\n",
       "    }\n",
       "\n",
       "    .dataframe tbody tr th {\n",
       "        vertical-align: top;\n",
       "    }\n",
       "\n",
       "    .dataframe thead th {\n",
       "        text-align: right;\n",
       "    }\n",
       "</style>\n",
       "<table border=\"1\" class=\"dataframe\">\n",
       "  <thead>\n",
       "    <tr style=\"text-align: right;\">\n",
       "      <th></th>\n",
       "      <th>0</th>\n",
       "      <th>1</th>\n",
       "      <th>2</th>\n",
       "      <th>3</th>\n",
       "      <th>4</th>\n",
       "      <th>5</th>\n",
       "      <th>6</th>\n",
       "      <th>7</th>\n",
       "      <th>8</th>\n",
       "      <th>9</th>\n",
       "      <th>...</th>\n",
       "      <th>214</th>\n",
       "      <th>215</th>\n",
       "      <th>216</th>\n",
       "      <th>217</th>\n",
       "      <th>218</th>\n",
       "      <th>219</th>\n",
       "      <th>220</th>\n",
       "      <th>221</th>\n",
       "      <th>222</th>\n",
       "      <th>223</th>\n",
       "    </tr>\n",
       "  </thead>\n",
       "  <tbody>\n",
       "    <tr>\n",
       "      <th>0</th>\n",
       "      <td>4.86</td>\n",
       "      <td>5.75</td>\n",
       "      <td>6.75</td>\n",
       "      <td>3.37</td>\n",
       "      <td>3.64</td>\n",
       "      <td>4.57</td>\n",
       "      <td>3.07</td>\n",
       "      <td>6.21</td>\n",
       "      <td>3.32</td>\n",
       "      <td>5.01</td>\n",
       "      <td>...</td>\n",
       "      <td>6.54</td>\n",
       "      <td>4.95</td>\n",
       "      <td>4.81</td>\n",
       "      <td>4.51</td>\n",
       "      <td>4.59</td>\n",
       "      <td>4.74</td>\n",
       "      <td>5.73</td>\n",
       "      <td>6.19</td>\n",
       "      <td>3.99</td>\n",
       "      <td>2.9</td>\n",
       "    </tr>\n",
       "    <tr>\n",
       "      <th>1</th>\n",
       "      <td>6.20</td>\n",
       "      <td>5.90</td>\n",
       "      <td>6.40</td>\n",
       "      <td>3.10</td>\n",
       "      <td>3.50</td>\n",
       "      <td>3.60</td>\n",
       "      <td>3.00</td>\n",
       "      <td>5.80</td>\n",
       "      <td>3.60</td>\n",
       "      <td>6.20</td>\n",
       "      <td>...</td>\n",
       "      <td>7.00</td>\n",
       "      <td>5.00</td>\n",
       "      <td>3.70</td>\n",
       "      <td>5.80</td>\n",
       "      <td>4.70</td>\n",
       "      <td>4.90</td>\n",
       "      <td>4.80</td>\n",
       "      <td>6.30</td>\n",
       "      <td>3.30</td>\n",
       "      <td>2.2</td>\n",
       "    </tr>\n",
       "  </tbody>\n",
       "</table>\n",
       "<p>2 rows × 224 columns</p>\n",
       "</div>"
      ],
      "text/plain": [
       "    0     1     2     3     4     5     6     7     8     9    ...   214  \\\n",
       "0  4.86  5.75  6.75  3.37  3.64  4.57  3.07  6.21  3.32  5.01  ...  6.54   \n",
       "1  6.20  5.90  6.40  3.10  3.50  3.60  3.00  5.80  3.60  6.20  ...  7.00   \n",
       "\n",
       "    215   216   217   218   219   220   221   222  223  \n",
       "0  4.95  4.81  4.51  4.59  4.74  5.73  6.19  3.99  2.9  \n",
       "1  5.00  3.70  5.80  4.70  4.90  4.80  6.30  3.30  2.2  \n",
       "\n",
       "[2 rows x 224 columns]"
      ]
     },
     "metadata": {},
     "output_type": "display_data"
    },
    {
     "name": "stdout",
     "output_type": "stream",
     "text": [
      "R2 Score Arousal:\t0.67\n"
     ]
    }
   ],
   "source": [
    "df3_a = df3_a.round(2)\n",
    "\n",
    "display(df3_a.head())\n",
    "print(\"R2 Score Arousal:\\t%0.2f\" % r2_a)"
   ]
  },
  {
   "cell_type": "markdown",
   "metadata": {},
   "source": [
    "VALENCE"
   ]
  },
  {
   "cell_type": "code",
   "execution_count": 34,
   "metadata": {},
   "outputs": [
    {
     "data": {
      "text/html": [
       "<div>\n",
       "<style scoped>\n",
       "    .dataframe tbody tr th:only-of-type {\n",
       "        vertical-align: middle;\n",
       "    }\n",
       "\n",
       "    .dataframe tbody tr th {\n",
       "        vertical-align: top;\n",
       "    }\n",
       "\n",
       "    .dataframe thead th {\n",
       "        text-align: right;\n",
       "    }\n",
       "</style>\n",
       "<table border=\"1\" class=\"dataframe\">\n",
       "  <thead>\n",
       "    <tr style=\"text-align: right;\">\n",
       "      <th></th>\n",
       "      <th>0</th>\n",
       "      <th>1</th>\n",
       "      <th>2</th>\n",
       "      <th>3</th>\n",
       "      <th>4</th>\n",
       "      <th>5</th>\n",
       "      <th>6</th>\n",
       "      <th>7</th>\n",
       "      <th>8</th>\n",
       "      <th>9</th>\n",
       "      <th>...</th>\n",
       "      <th>214</th>\n",
       "      <th>215</th>\n",
       "      <th>216</th>\n",
       "      <th>217</th>\n",
       "      <th>218</th>\n",
       "      <th>219</th>\n",
       "      <th>220</th>\n",
       "      <th>221</th>\n",
       "      <th>222</th>\n",
       "      <th>223</th>\n",
       "    </tr>\n",
       "  </thead>\n",
       "  <tbody>\n",
       "    <tr>\n",
       "      <th>0</th>\n",
       "      <td>5.47</td>\n",
       "      <td>6.05</td>\n",
       "      <td>6.14</td>\n",
       "      <td>4.28</td>\n",
       "      <td>4.61</td>\n",
       "      <td>5.13</td>\n",
       "      <td>4.29</td>\n",
       "      <td>6.18</td>\n",
       "      <td>4.14</td>\n",
       "      <td>5.43</td>\n",
       "      <td>...</td>\n",
       "      <td>5.79</td>\n",
       "      <td>5.47</td>\n",
       "      <td>5.03</td>\n",
       "      <td>5.22</td>\n",
       "      <td>5.08</td>\n",
       "      <td>5.16</td>\n",
       "      <td>5.38</td>\n",
       "      <td>5.32</td>\n",
       "      <td>4.38</td>\n",
       "      <td>3.94</td>\n",
       "    </tr>\n",
       "    <tr>\n",
       "      <th>1</th>\n",
       "      <td>2.70</td>\n",
       "      <td>6.40</td>\n",
       "      <td>6.00</td>\n",
       "      <td>2.70</td>\n",
       "      <td>5.00</td>\n",
       "      <td>3.20</td>\n",
       "      <td>4.60</td>\n",
       "      <td>4.30</td>\n",
       "      <td>4.10</td>\n",
       "      <td>6.70</td>\n",
       "      <td>...</td>\n",
       "      <td>6.60</td>\n",
       "      <td>4.80</td>\n",
       "      <td>2.50</td>\n",
       "      <td>5.60</td>\n",
       "      <td>3.80</td>\n",
       "      <td>4.40</td>\n",
       "      <td>6.50</td>\n",
       "      <td>6.50</td>\n",
       "      <td>4.00</td>\n",
       "      <td>3.50</td>\n",
       "    </tr>\n",
       "  </tbody>\n",
       "</table>\n",
       "<p>2 rows × 224 columns</p>\n",
       "</div>"
      ],
      "text/plain": [
       "    0     1     2     3     4     5     6     7     8     9    ...   214  \\\n",
       "0  5.47  6.05  6.14  4.28  4.61  5.13  4.29  6.18  4.14  5.43  ...  5.79   \n",
       "1  2.70  6.40  6.00  2.70  5.00  3.20  4.60  4.30  4.10  6.70  ...  6.60   \n",
       "\n",
       "    215   216   217   218   219   220   221   222   223  \n",
       "0  5.47  5.03  5.22  5.08  5.16  5.38  5.32  4.38  3.94  \n",
       "1  4.80  2.50  5.60  3.80  4.40  6.50  6.50  4.00  3.50  \n",
       "\n",
       "[2 rows x 224 columns]"
      ]
     },
     "metadata": {},
     "output_type": "display_data"
    },
    {
     "name": "stdout",
     "output_type": "stream",
     "text": [
      "R2 Score Valence:\t0.27\n"
     ]
    }
   ],
   "source": [
    "df3_v = df3_v.round(2)\n",
    "\n",
    "display(df3_v.head())\n",
    "print(\"R2 Score Valence:\\t%0.2f\" % r2_v)"
   ]
  },
  {
   "cell_type": "markdown",
   "metadata": {},
   "source": [
    "REGRESSION"
   ]
  },
  {
   "cell_type": "code",
   "execution_count": 35,
   "metadata": {},
   "outputs": [],
   "source": [
    "scores_a = regresion(svr_case3_a,data,arousal_mean) #Arousal Regression\n",
    "scores_v = regresion(svr_case3_v,data,valence_mean) #Arousal Regression"
   ]
  },
  {
   "cell_type": "markdown",
   "metadata": {},
   "source": [
    "AROUSAL"
   ]
  },
  {
   "cell_type": "code",
   "execution_count": 36,
   "metadata": {},
   "outputs": [
    {
     "name": "stdout",
     "output_type": "stream",
     "text": [
      "R2 Score Valence:\t [0.41868525 0.51895511 0.56485624 0.41522804 0.69306043 0.54808447\n",
      " 0.54037525 0.55801343 0.65337922 0.52749667]\n",
      "R2 Score Valence:\t0.54 (+/- 0.08)\n"
     ]
    }
   ],
   "source": [
    "print(\"R2 Score Valence:\\t\",scores_a)\n",
    "print(\"R2 Score Valence:\\t%0.2f (+/- %0.2f)\" % (scores_a.mean(), scores_a.std() ))"
   ]
  },
  {
   "cell_type": "markdown",
   "metadata": {},
   "source": [
    "VALENCE"
   ]
  },
  {
   "cell_type": "code",
   "execution_count": 37,
   "metadata": {},
   "outputs": [
    {
     "name": "stdout",
     "output_type": "stream",
     "text": [
      "R2 Score Valence:\t [ 0.00829888  0.06770377  0.0326363  -0.16903681  0.39041868 -0.00950492\n",
      "  0.15897042  0.19400362  0.36594728  0.16708484]\n",
      "R2 Score Valence:\t0.12 (+/- 0.16)\n"
     ]
    }
   ],
   "source": [
    "print(\"R2 Score Valence:\\t\",scores_v)\n",
    "print(\"R2 Score Valence:\\t%0.2f (+/- %0.2f)\" % (scores_v.mean(), scores_v.std() ))"
   ]
  },
  {
   "cell_type": "code",
   "execution_count": 38,
   "metadata": {},
   "outputs": [],
   "source": [
    "save_predict(df3_a.round(2),df3_v.round(2),datafitur)\n",
    "save_model(train_a,datafitur,'arousal/') #save model Arousal\n",
    "save_model(train_v,datafitur,'valence/') #save model Valence"
   ]
  },
  {
   "cell_type": "markdown",
   "metadata": {},
   "source": [
    "# CASE 4"
   ]
  },
  {
   "cell_type": "code",
   "execution_count": 39,
   "metadata": {},
   "outputs": [
    {
     "name": "stdout",
     "output_type": "stream",
     "text": [
      "(744, 85)\n"
     ]
    }
   ],
   "source": [
    "datafitur =  \"case4\" #CASE 3\n",
    "data,arousal_mean,valence_mean = load(datafitur) #Load\n",
    "print(data.shape)\n",
    "\n",
    "train_data_a, test_data_a, train_values_a, test_values_a = split(data,arousal_mean) #split arousal\n",
    "train_data_v, test_data_v, train_values_v, test_values_v = split(data,valence_mean) #split valence"
   ]
  },
  {
   "cell_type": "markdown",
   "metadata": {},
   "source": [
    "GRIDSEAERCH"
   ]
  },
  {
   "cell_type": "code",
   "execution_count": 41,
   "metadata": {},
   "outputs": [
    {
     "name": "stderr",
     "output_type": "stream",
     "text": [
      "C:\\Users\\USER\\Anaconda3\\lib\\site-packages\\sklearn\\model_selection\\_search.py:841: DeprecationWarning: The default of the `iid` parameter will change from True to False in version 0.22 and will be removed in 0.24. This will change numeric results when test-set sizes are unequal.\n",
      "  DeprecationWarning)\n",
      "C:\\Users\\USER\\Anaconda3\\lib\\site-packages\\sklearn\\model_selection\\_search.py:841: DeprecationWarning: The default of the `iid` parameter will change from True to False in version 0.22 and will be removed in 0.24. This will change numeric results when test-set sizes are unequal.\n",
      "  DeprecationWarning)\n"
     ]
    }
   ],
   "source": [
    "param_a, score_a = gridsearch(data,arousal_mean) #Gridsearch Arousal\n",
    "param_v, score_v = gridsearch(data,valence_mean) #Grinsearch Valence"
   ]
  },
  {
   "cell_type": "code",
   "execution_count": 42,
   "metadata": {},
   "outputs": [
    {
     "name": "stdout",
     "output_type": "stream",
     "text": [
      "parameter Arousal:\t {'C': 100.0, 'gamma': 0.01}\n",
      "parameter Valence:\t {'C': 100.0, 'gamma': 0.01}\n"
     ]
    }
   ],
   "source": [
    "print(\"parameter Arousal:\\t\",param_a)\n",
    "print(\"parameter Valence:\\t\",param_v)"
   ]
  },
  {
   "cell_type": "markdown",
   "metadata": {},
   "source": [
    "INITIAL MODEL"
   ]
  },
  {
   "cell_type": "code",
   "execution_count": 43,
   "metadata": {},
   "outputs": [],
   "source": [
    "svr_case4_a = SVR(kernel='rbf',C=1e2,gamma=1e-2,cache_size=500) #init Arousal\n",
    "svr_case4_v = SVR(kernel='rbf',C=1e2,gamma=1e-2,cache_size=500) #init Valence"
   ]
  },
  {
   "cell_type": "markdown",
   "metadata": {},
   "source": [
    "TRAIN"
   ]
  },
  {
   "cell_type": "code",
   "execution_count": 44,
   "metadata": {},
   "outputs": [],
   "source": [
    "# #Predict Arousal\n",
    "a_a,train_a,df4_a = predict(train_data_a, train_values_a, test_data_a, test_values_a, svr_case4_a)\n",
    "# #Predict Valence\n",
    "a_v,train_v,df4_v = predict(train_data_v, train_values_v, test_data_v, test_values_v, svr_case4_v)\n",
    "\n",
    "r2_a = score(a_a,test_values_a) #Score Arousal\n",
    "r2_v = score(a_v,test_values_v) #Score Valence"
   ]
  },
  {
   "cell_type": "markdown",
   "metadata": {},
   "source": [
    "AROUSAL"
   ]
  },
  {
   "cell_type": "code",
   "execution_count": 45,
   "metadata": {},
   "outputs": [
    {
     "data": {
      "text/html": [
       "<div>\n",
       "<style scoped>\n",
       "    .dataframe tbody tr th:only-of-type {\n",
       "        vertical-align: middle;\n",
       "    }\n",
       "\n",
       "    .dataframe tbody tr th {\n",
       "        vertical-align: top;\n",
       "    }\n",
       "\n",
       "    .dataframe thead th {\n",
       "        text-align: right;\n",
       "    }\n",
       "</style>\n",
       "<table border=\"1\" class=\"dataframe\">\n",
       "  <thead>\n",
       "    <tr style=\"text-align: right;\">\n",
       "      <th></th>\n",
       "      <th>0</th>\n",
       "      <th>1</th>\n",
       "      <th>2</th>\n",
       "      <th>3</th>\n",
       "      <th>4</th>\n",
       "      <th>5</th>\n",
       "      <th>6</th>\n",
       "      <th>7</th>\n",
       "      <th>8</th>\n",
       "      <th>9</th>\n",
       "      <th>...</th>\n",
       "      <th>214</th>\n",
       "      <th>215</th>\n",
       "      <th>216</th>\n",
       "      <th>217</th>\n",
       "      <th>218</th>\n",
       "      <th>219</th>\n",
       "      <th>220</th>\n",
       "      <th>221</th>\n",
       "      <th>222</th>\n",
       "      <th>223</th>\n",
       "    </tr>\n",
       "  </thead>\n",
       "  <tbody>\n",
       "    <tr>\n",
       "      <th>0</th>\n",
       "      <td>4.58</td>\n",
       "      <td>5.51</td>\n",
       "      <td>7.75</td>\n",
       "      <td>3.11</td>\n",
       "      <td>3.71</td>\n",
       "      <td>4.6</td>\n",
       "      <td>3.17</td>\n",
       "      <td>6.15</td>\n",
       "      <td>4.01</td>\n",
       "      <td>5.27</td>\n",
       "      <td>...</td>\n",
       "      <td>7.28</td>\n",
       "      <td>5.24</td>\n",
       "      <td>4.67</td>\n",
       "      <td>3.95</td>\n",
       "      <td>4.63</td>\n",
       "      <td>5.01</td>\n",
       "      <td>5.72</td>\n",
       "      <td>6.45</td>\n",
       "      <td>4.07</td>\n",
       "      <td>2.73</td>\n",
       "    </tr>\n",
       "    <tr>\n",
       "      <th>1</th>\n",
       "      <td>6.20</td>\n",
       "      <td>5.90</td>\n",
       "      <td>6.40</td>\n",
       "      <td>3.10</td>\n",
       "      <td>3.50</td>\n",
       "      <td>3.6</td>\n",
       "      <td>3.00</td>\n",
       "      <td>5.80</td>\n",
       "      <td>3.60</td>\n",
       "      <td>6.20</td>\n",
       "      <td>...</td>\n",
       "      <td>7.00</td>\n",
       "      <td>5.00</td>\n",
       "      <td>3.70</td>\n",
       "      <td>5.80</td>\n",
       "      <td>4.70</td>\n",
       "      <td>4.90</td>\n",
       "      <td>4.80</td>\n",
       "      <td>6.30</td>\n",
       "      <td>3.30</td>\n",
       "      <td>2.20</td>\n",
       "    </tr>\n",
       "  </tbody>\n",
       "</table>\n",
       "<p>2 rows × 224 columns</p>\n",
       "</div>"
      ],
      "text/plain": [
       "    0     1     2     3     4    5     6     7     8     9    ...   214   215  \\\n",
       "0  4.58  5.51  7.75  3.11  3.71  4.6  3.17  6.15  4.01  5.27  ...  7.28  5.24   \n",
       "1  6.20  5.90  6.40  3.10  3.50  3.6  3.00  5.80  3.60  6.20  ...  7.00  5.00   \n",
       "\n",
       "    216   217   218   219   220   221   222   223  \n",
       "0  4.67  3.95  4.63  5.01  5.72  6.45  4.07  2.73  \n",
       "1  3.70  5.80  4.70  4.90  4.80  6.30  3.30  2.20  \n",
       "\n",
       "[2 rows x 224 columns]"
      ]
     },
     "metadata": {},
     "output_type": "display_data"
    },
    {
     "name": "stdout",
     "output_type": "stream",
     "text": [
      "R2 Score Arousal:\t0.60\n"
     ]
    }
   ],
   "source": [
    "df4_a = df4_a.round(2)\n",
    "\n",
    "display(df4_a.head())\n",
    "print(\"R2 Score Arousal:\\t%0.2f\" % r2_a)"
   ]
  },
  {
   "cell_type": "markdown",
   "metadata": {},
   "source": [
    "VALENCE"
   ]
  },
  {
   "cell_type": "code",
   "execution_count": 46,
   "metadata": {},
   "outputs": [
    {
     "data": {
      "text/html": [
       "<div>\n",
       "<style scoped>\n",
       "    .dataframe tbody tr th:only-of-type {\n",
       "        vertical-align: middle;\n",
       "    }\n",
       "\n",
       "    .dataframe tbody tr th {\n",
       "        vertical-align: top;\n",
       "    }\n",
       "\n",
       "    .dataframe thead th {\n",
       "        text-align: right;\n",
       "    }\n",
       "</style>\n",
       "<table border=\"1\" class=\"dataframe\">\n",
       "  <thead>\n",
       "    <tr style=\"text-align: right;\">\n",
       "      <th></th>\n",
       "      <th>0</th>\n",
       "      <th>1</th>\n",
       "      <th>2</th>\n",
       "      <th>3</th>\n",
       "      <th>4</th>\n",
       "      <th>5</th>\n",
       "      <th>6</th>\n",
       "      <th>7</th>\n",
       "      <th>8</th>\n",
       "      <th>9</th>\n",
       "      <th>...</th>\n",
       "      <th>214</th>\n",
       "      <th>215</th>\n",
       "      <th>216</th>\n",
       "      <th>217</th>\n",
       "      <th>218</th>\n",
       "      <th>219</th>\n",
       "      <th>220</th>\n",
       "      <th>221</th>\n",
       "      <th>222</th>\n",
       "      <th>223</th>\n",
       "    </tr>\n",
       "  </thead>\n",
       "  <tbody>\n",
       "    <tr>\n",
       "      <th>0</th>\n",
       "      <td>4.71</td>\n",
       "      <td>6.0</td>\n",
       "      <td>6.37</td>\n",
       "      <td>4.29</td>\n",
       "      <td>5.48</td>\n",
       "      <td>4.88</td>\n",
       "      <td>3.58</td>\n",
       "      <td>5.48</td>\n",
       "      <td>4.57</td>\n",
       "      <td>5.09</td>\n",
       "      <td>...</td>\n",
       "      <td>6.26</td>\n",
       "      <td>5.34</td>\n",
       "      <td>3.38</td>\n",
       "      <td>4.51</td>\n",
       "      <td>5.04</td>\n",
       "      <td>4.56</td>\n",
       "      <td>5.38</td>\n",
       "      <td>5.11</td>\n",
       "      <td>4.04</td>\n",
       "      <td>3.45</td>\n",
       "    </tr>\n",
       "    <tr>\n",
       "      <th>1</th>\n",
       "      <td>2.70</td>\n",
       "      <td>6.4</td>\n",
       "      <td>6.00</td>\n",
       "      <td>2.70</td>\n",
       "      <td>5.00</td>\n",
       "      <td>3.20</td>\n",
       "      <td>4.60</td>\n",
       "      <td>4.30</td>\n",
       "      <td>4.10</td>\n",
       "      <td>6.70</td>\n",
       "      <td>...</td>\n",
       "      <td>6.60</td>\n",
       "      <td>4.80</td>\n",
       "      <td>2.50</td>\n",
       "      <td>5.60</td>\n",
       "      <td>3.80</td>\n",
       "      <td>4.40</td>\n",
       "      <td>6.50</td>\n",
       "      <td>6.50</td>\n",
       "      <td>4.00</td>\n",
       "      <td>3.50</td>\n",
       "    </tr>\n",
       "  </tbody>\n",
       "</table>\n",
       "<p>2 rows × 224 columns</p>\n",
       "</div>"
      ],
      "text/plain": [
       "    0    1     2     3     4     5     6     7     8     9    ...   214   215  \\\n",
       "0  4.71  6.0  6.37  4.29  5.48  4.88  3.58  5.48  4.57  5.09  ...  6.26  5.34   \n",
       "1  2.70  6.4  6.00  2.70  5.00  3.20  4.60  4.30  4.10  6.70  ...  6.60  4.80   \n",
       "\n",
       "    216   217   218   219   220   221   222   223  \n",
       "0  3.38  4.51  5.04  4.56  5.38  5.11  4.04  3.45  \n",
       "1  2.50  5.60  3.80  4.40  6.50  6.50  4.00  3.50  \n",
       "\n",
       "[2 rows x 224 columns]"
      ]
     },
     "metadata": {},
     "output_type": "display_data"
    },
    {
     "name": "stdout",
     "output_type": "stream",
     "text": [
      "R2 Score Valence:\t0.32\n"
     ]
    }
   ],
   "source": [
    "df4_v = df4_v.round(2)\n",
    "\n",
    "display(df4_v.head())\n",
    "print(\"R2 Score Valence:\\t%0.2f\" % r2_v)"
   ]
  },
  {
   "cell_type": "markdown",
   "metadata": {},
   "source": [
    "REGRESSION"
   ]
  },
  {
   "cell_type": "code",
   "execution_count": 47,
   "metadata": {},
   "outputs": [],
   "source": [
    "scores_a = regresion(svr_case4_a,data,arousal_mean) #Arousal Regression\n",
    "scores_v = regresion(svr_case4_v,data,valence_mean) #Arousal Regression"
   ]
  },
  {
   "cell_type": "markdown",
   "metadata": {},
   "source": [
    "AROUSAL"
   ]
  },
  {
   "cell_type": "code",
   "execution_count": 48,
   "metadata": {},
   "outputs": [
    {
     "name": "stdout",
     "output_type": "stream",
     "text": [
      "R2 Score Valence:\t [0.38402045 0.53286047 0.39602996 0.35011149 0.67843454 0.40226401\n",
      " 0.46798638 0.53057364 0.56168541 0.57680329]\n",
      "R2 Score Valence:\t0.49 (+/- 0.10)\n"
     ]
    }
   ],
   "source": [
    "print(\"R2 Score Valence:\\t\",scores_a)\n",
    "print(\"R2 Score Valence:\\t%0.2f (+/- %0.2f)\" % (scores_a.mean(), scores_a.std() ))"
   ]
  },
  {
   "cell_type": "markdown",
   "metadata": {},
   "source": [
    "VALENCE"
   ]
  },
  {
   "cell_type": "code",
   "execution_count": 49,
   "metadata": {},
   "outputs": [
    {
     "name": "stdout",
     "output_type": "stream",
     "text": [
      "R2 Score Valence:\t [ 0.05838259  0.09409181  0.01960362 -0.2073902   0.32336875 -0.02595365\n",
      "  0.11851643  0.09627089  0.23877682  0.25113016]\n",
      "R2 Score Valence:\t0.10 (+/- 0.15)\n"
     ]
    }
   ],
   "source": [
    "print(\"R2 Score Valence:\\t\",scores_v)\n",
    "print(\"R2 Score Valence:\\t%0.2f (+/- %0.2f)\" % (scores_v.mean(), scores_v.std() ))"
   ]
  },
  {
   "cell_type": "code",
   "execution_count": 50,
   "metadata": {},
   "outputs": [],
   "source": [
    "save_predict(df4_a.round(2),df4_v.round(2),datafitur)\n",
    "save_model(train_a,datafitur,'arousal/') #save model Arousal\n",
    "save_model(train_v,datafitur,'valence/') #save model Valence"
   ]
  },
  {
   "cell_type": "code",
   "execution_count": null,
   "metadata": {},
   "outputs": [],
   "source": [
    "# # Load from file\n",
    "# with open(arousal_model, 'rb') as file_arousal:\n",
    "#     arousal_model = pickle.load(file_arousal)\n",
    "# # # Load from file\n",
    "# # with open(valence_model, 'rb') as file_valence:\n",
    "# #     valence_model = pickle.load(file_valence)\n",
    "\n",
    "# a = arousal_model.predict(test_data_a)"
   ]
  }
 ],
 "metadata": {
  "kernelspec": {
   "display_name": "Python 3",
   "language": "python",
   "name": "python3"
  },
  "language_info": {
   "codemirror_mode": {
    "name": "ipython",
    "version": 3
   },
   "file_extension": ".py",
   "mimetype": "text/x-python",
   "name": "python",
   "nbconvert_exporter": "python",
   "pygments_lexer": "ipython3",
   "version": "3.6.4"
  }
 },
 "nbformat": 4,
 "nbformat_minor": 2
}
