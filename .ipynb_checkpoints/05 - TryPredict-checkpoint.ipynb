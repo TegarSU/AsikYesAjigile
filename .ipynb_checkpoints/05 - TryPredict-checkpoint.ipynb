{
 "cells": [
  {
   "cell_type": "code",
   "execution_count": 1,
   "metadata": {
    "collapsed": true
   },
   "outputs": [],
   "source": [
    "import pandas as pd\n",
    "import numpy as np\n",
    "import os\n",
    "import math\n",
    "\n",
    "import librosa\n",
    "\n",
    "from sklearn.externals import joblib\n",
    "from sklearn.preprocessing import StandardScaler\n",
    "scaler = StandardScaler()"
   ]
  },
  {
   "cell_type": "code",
   "execution_count": 2,
   "metadata": {
    "collapsed": true
   },
   "outputs": [],
   "source": [
    "# path_to_file = 'C:/Users/USER/Downloads/Tugas Akhir/dataset/tes/'\n",
    "# path_to_fitur = \"C:/Users/USER/Downloads/Tugas Akhir/dataset/tes/fitur/\"\n",
    "# path_to_model = \"C:/Users/USER/Downloads/Tugas Akhir/dataset/model/\"\n",
    "\n",
    "path_to_file = 'F:/178/Tugas Akhir/dataset/tes/'\n",
    "path_to_fitur = \"F:/178/Tugas Akhir/dataset/tes/fitur/\"\n",
    "path_to_model = \"F:/178/Tugas Akhir/dataset/model/\""
   ]
  },
  {
   "cell_type": "code",
   "execution_count": 5,
   "metadata": {
    "collapsed": true
   },
   "outputs": [],
   "source": [
    "# #Load\n",
    "def load(src):\n",
    "    y, sr = librosa.load(src,mono=True,sr=22050)\n",
    "    \n",
    "    return y,sr\n",
    "\n",
    "# #Convert\n",
    "def convert(filename,path,y,sr):\n",
    "    #Path\n",
    "    dst = path+filename[:-4]+\".wav\"\n",
    "    \n",
    "    #COnver to WAV\n",
    "    librosa.output.write_wav(dst, y, sr)\n",
    "\n",
    "# #Get Feature\n",
    "\n",
    "# #MFCC\n",
    "def mfcc(y,sr,file):\n",
    "    vector = list()\n",
    "    mfcc = librosa.feature.mfcc(y=y, sr=sr, n_mfcc=13) #13 is default dimension 512 frame\n",
    "    data = pd.DataFrame(mfcc)\n",
    "    mean = data.mean(axis = 1).values #Get Mean\n",
    "    std = data.std(axis = 1).values #Get std\n",
    "    vector.append(np.insert(mean,13,std))\n",
    "    save = pd.DataFrame(vector)\n",
    "\n",
    "    save.to_csv(path_to_fitur+file[:-4]+\"/mfcc.csv\", index=False, header=False)\n",
    "\n",
    "# #TIMBRE // CENTROID // FLUX // ROLLOFF // ZERO CROSSING \n",
    "def timbre(y,sr,file):\n",
    "    vector = list()\n",
    "    cent = librosa.feature.spectral_centroid(y=y, sr=sr) #1 is default dimension 512 frame\n",
    "    flux = librosa.onset.onset_strength(y=y, sr=sr) #1 is default dimension 512 frame\n",
    "    rolloff = librosa.feature.spectral_rolloff(y=y, sr=sr) #1 is default dimension 512 frame\n",
    "    zc = librosa.feature.zero_crossing_rate(y) #1 is default dimension 512 frame\n",
    "    \n",
    "    a = pd.DataFrame(cent) \n",
    "    b = pd.DataFrame(flux).T\n",
    "    c = pd.DataFrame(rolloff)\n",
    "    d = pd.DataFrame(zc)\n",
    "    \n",
    "    frame = [a,b,c,d]\n",
    "    data = pd.concat(frame)\n",
    "    mean = data.mean(axis = 1).values #Get Mean\n",
    "    std = data.std(axis = 1).values #Get std\n",
    "    vector.append(np.insert(mean,4,std))\n",
    "    save = pd.DataFrame(vector)\n",
    "    \n",
    "    save.to_csv(path_to_fitur+file[:-4]+\"/timbre.csv\", index=False, header=False)\n",
    "\n",
    "# #SCF and SFM\n",
    "def flatness(y,sr,file):\n",
    "    vector = list()\n",
    "    flatness = librosa.feature.spectral_flatness(y=y)\n",
    "    data = pd.DataFrame(flatness)\n",
    "    mean = data.mean(axis = 1).values #Get Mean\n",
    "    std = data.std(axis = 1).values #Get std\n",
    "    vector.append(np.insert(mean,1,std))\n",
    "    save = pd.DataFrame(vector)\n",
    "    \n",
    "    save.to_csv(path_to_fitur+file[:-4]+\"/flatness.csv\", index=False, header=False)\n",
    "    \n",
    "def crest(y,sr,file):\n",
    "    peak = y.max()\n",
    "    rms = librosa.feature.rmse(y=y)\n",
    "    n = rms.size\n",
    "    square = rms**2\n",
    "    rms_v2 = math.sqrt((1/n)*(square.sum()))\n",
    "    crest = [peak/rms_v2]\n",
    "    \n",
    "    save = pd.DataFrame(crest)\n",
    "    \n",
    "    save.to_csv(path_to_fitur+file[:-4]+\"/crest.csv\", index=False, header=False)\n",
    "\n",
    "# #chroma\n",
    "def chroma(y,sr,file):\n",
    "    vector = list()\n",
    "    chroma = librosa.feature.chroma_stft(y=y, sr=sr, n_chroma=24) #24 is default dimension 512 frame\n",
    "    data = pd.DataFrame(chroma)\n",
    "    mean = data.mean(axis = 1).values #Get Mean\n",
    "    std = data.std(axis = 1).values #Get std\n",
    "    vector.append(np.insert(mean,12,std))\n",
    "    save = pd.DataFrame(vector)\n",
    "    \n",
    "    save.to_csv(path_to_fitur+file[:-4]+\"/chroma.csv\", index=False, header=False)\n",
    "\n",
    "def fitur(file,y,sr):\n",
    "    \n",
    "    mfccs = mfcc(y,sr,file) #mfcc\n",
    "    timbres = timbre(y,sr,file) #timbre\n",
    "    flatnesss = flatness(y,sr,file) #sfm\n",
    "    crests = crest(y,sr,file) #scf\n",
    "    chromas = chroma(y,sr,file) #chroma\n",
    "    \n",
    "# #merge feature\n",
    "\n",
    "def merge(case1,case2):\n",
    "    case_a = pd.DataFrame(case1)\n",
    "    case_b = pd.DataFrame(case2)\n",
    "    \n",
    "    merged = case_a.merge(case_b, how='outer', left_index=True, right_index=True)\n",
    "    \n",
    "    return merged\n",
    "\n",
    "def flat(song,fitur):\n",
    "    vector = list()\n",
    "    \n",
    "    data = pd.read_csv(path_to_fitur+str(song)+\"/\"+fitur+\".csv\",header=None)\n",
    "    scaler.fit(data.T)\n",
    "    normalized = scaler.transform(data.T)\n",
    "    vector.append(normalized)\n",
    "        \n",
    "    results = np.array(vector).reshape(1,-1)\n",
    "\n",
    "    return results\n",
    "\n",
    "def case1(file):\n",
    "    fitur = 'mfcc'\n",
    "    result = flat(file,fitur)\n",
    "    df = pd.DataFrame(result)\n",
    "    \n",
    "    return df\n",
    "\n",
    "def case2(file):\n",
    "    case_1 = case1(file)\n",
    "    fitur = 'timbre'\n",
    "    case_2 = flat(file,fitur)\n",
    "    result = merge(case_1,case_2)\n",
    "    \n",
    "    return result\n",
    "\n",
    "def case3(file):\n",
    "    case_2 = case2(file)\n",
    "    fitur1 = 'crest'\n",
    "    fitur2 = 'flatness'\n",
    "    crest = flat(file,fitur1)\n",
    "    flatness = flat(file,fitur2)\n",
    "    results = merge(case_2,crest)\n",
    "    result = merge(results,flatness)\n",
    "    \n",
    "    return result\n",
    "\n",
    "def case4(file):\n",
    "    case_3 = case3(file)\n",
    "    fitur = 'chroma'\n",
    "    chroma = flat(file,fitur)\n",
    "    result = merge(case_3,chroma)\n",
    "    \n",
    "    return result\n",
    "\n",
    "def norm(data):\n",
    "    scaler.fit(data)\n",
    "    normalized = scaler.transform(data)\n",
    "    \n",
    "    return normalized\n",
    "\n",
    "# #Get emotion\n",
    "\n",
    "def emotion(a,v):\n",
    "    if ((v >= 5) & (a >= 5)):\n",
    "        cluster = 'cluster 1'\n",
    "    if ((v < 5) & (a >= 5)):\n",
    "        cluster = 'cluster 2'\n",
    "    if ((v < 5) & (a <= 5)):\n",
    "        cluster = 'cluster 3'\n",
    "    if ((v >= 5) & (a < 5)):\n",
    "        cluster = 'cluster 4'\n",
    "        \n",
    "    return cluster"
   ]
  },
  {
   "cell_type": "code",
   "execution_count": 28,
   "metadata": {},
   "outputs": [
    {
     "name": "stdout",
     "output_type": "stream",
     "text": [
      "convert successfully\n",
      "Creation of the directory F:/178/Tugas Akhir/dataset/tes/fitur/ failed\n",
      "feature successfully\n",
      "flatten successfully\n"
     ]
    }
   ],
   "source": [
    "for filename in os.listdir(path_to_file):\n",
    "    if os.path.isfile(os.path.join(path_to_file, filename)):\n",
    "        \n",
    "        #load raw\n",
    "        y, sr = load(path_to_file+filename)\n",
    "\n",
    "        #Convert Wav\n",
    "        convert(filename,path_dst,y,sr)\n",
    "        \n",
    "        #Load Wav\n",
    "        y_wav, sr_wav = load(path_to_file+'wav/'+file)\n",
    "\n",
    "        #make dir\n",
    "        try:  \n",
    "            os.mkdir(path_to_fitur+filename[:-4])\n",
    "        except OSError:  \n",
    "            print (\"Creation of the directory %s failed\" % path_to_fitur)\n",
    "        \n",
    "        # #Feature extraction\n",
    "        fiture = fitur(filename[:-4]+'.wav',y_wav,sr_wav)\n",
    "        print(\"feature successfully\")\n",
    "        \n",
    "        # #Flatten\n",
    "        results = case4(filename[:-4])\n",
    "        print(\"flatten successfully\")\n",
    "        \n",
    "        # #Norm\n",
    "        normalized = norm(results)"
   ]
  },
  {
   "cell_type": "code",
   "execution_count": 29,
   "metadata": {
    "collapsed": true
   },
   "outputs": [],
   "source": [
    "#Load Model\n",
    "\n",
    "arousal = path_to_model+'arousal/case4_svr.sav'\n",
    "valence = path_to_model+'valence/case4_svr.sav'\n",
    "\n",
    "arousal_model = joblib.load(arousal)\n",
    "valence_model = joblib.load(valence)\n",
    "\n",
    "a = arousal_model.predict(normalized)\n",
    "v = valence_model.predict(normalized)\n",
    "\n",
    "emo = emotion(a,v)"
   ]
  },
  {
   "cell_type": "code",
   "execution_count": 30,
   "metadata": {},
   "outputs": [
    {
     "name": "stdout",
     "output_type": "stream",
     "text": [
      "filename:\t F:/178/Tugas Akhir/dataset/tes/wav/Peterpan - Walau Habis Terang.wav \n",
      "arousal:\t [ 6.71026819] \n",
      "valence:\t [ 5.40794292] \n",
      "cluster:\t cluster 1\n"
     ]
    }
   ],
   "source": [
    "print('filename:\\t',dst,'\\narousal:\\t',a,'\\nvalence:\\t',v,'\\ncluster:\\t',emo) #peterpan case 4"
   ]
  },
  {
   "cell_type": "code",
   "execution_count": null,
   "metadata": {
    "collapsed": true
   },
   "outputs": [],
   "source": []
  },
  {
   "cell_type": "code",
   "execution_count": 27,
   "metadata": {},
   "outputs": [
    {
     "name": "stdout",
     "output_type": "stream",
     "text": [
      "filename:\t F:/178/Tugas Akhir/dataset/tes/wav/Adele - Someone Like You.wav \n",
      "arousal:\t [ 4.8227413] \n",
      "valence:\t [ 4.89320867] \n",
      "cluster:\t cluster 3\n"
     ]
    }
   ],
   "source": [
    "print('filename:\\t',dst,'\\narousal:\\t',a,'\\nvalence:\\t',v,'\\ncluster:\\t',emo) #adele case 4"
   ]
  }
 ],
 "metadata": {
  "kernelspec": {
   "display_name": "Python 3",
   "language": "python",
   "name": "python3"
  },
  "language_info": {
   "codemirror_mode": {
    "name": "ipython",
    "version": 3
   },
   "file_extension": ".py",
   "mimetype": "text/x-python",
   "name": "python",
   "nbconvert_exporter": "python",
   "pygments_lexer": "ipython3",
   "version": "3.6.2"
  }
 },
 "nbformat": 4,
 "nbformat_minor": 2
}
