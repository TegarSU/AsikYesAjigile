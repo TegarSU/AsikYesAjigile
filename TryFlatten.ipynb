{
 "cells": [
  {
   "cell_type": "code",
   "execution_count": 1,
   "metadata": {},
   "outputs": [],
   "source": [
    "import pandas as pd\n",
    "import numpy as np"
   ]
  },
  {
   "cell_type": "code",
   "execution_count": 4,
   "metadata": {},
   "outputs": [],
   "source": [
    "# #PATH\n",
    "path_info = \"C:/Users/USER/Downloads/Tugas Akhir/dataset/annotations/\"\n",
    "path_to_fitur = \"C:/Users/USER/Downloads/Tugas Akhir/dataset/coba fitur/\"\n",
    "path_to_file = \"C:/Users/USER/Downloads/Tugas Akhir/dataset/clips_45sec_wav/\"\n",
    "path_to_experiment =\"C:/Users/USER/Downloads/Tugas Akhir/dataset/experiment/\"\n",
    "path_to_model = \"C:/Users/USER/Downloads/Tugas Akhir/dataset/model/\"\n",
    "path_to_predict = \"C:/Users/USER/Downloads/Tugas Akhir/dataset/predict/\"\n",
    "\n",
    "# path_info = \"F:/178/Tugas Akhir/dataset/annotations/\"\n",
    "# filename = \"songs_info.csv\"\n",
    "# path_to_fitur = \"F:/178/Tugas Akhir/dataset/coba fitur/\"\n",
    "# path_to_experiment =\"F:/178/Tugas Akhir/dataset/experiment/\""
   ]
  },
  {
   "cell_type": "code",
   "execution_count": 5,
   "metadata": {},
   "outputs": [],
   "source": [
    "# Song Info\n",
    "\n",
    "info = pd.read_csv(path_info + filename)\n",
    "song_file = info['song_id'].to_list()\n",
    "\n",
    "# info.head()"
   ]
  },
  {
   "cell_type": "code",
   "execution_count": 6,
   "metadata": {},
   "outputs": [],
   "source": [
    "def merge(case1,case2):\n",
    "    case_a = pd.read_csv(path_to_experiment+case1+\".csv\",header=None)\n",
    "    case_b = pd.DataFrame(case2)\n",
    "    \n",
    "    merged = case_a.merge(case_b, how='outer', left_index=True, right_index=True)\n",
    "    \n",
    "    return merged"
   ]
  },
  {
   "cell_type": "code",
   "execution_count": 7,
   "metadata": {},
   "outputs": [],
   "source": [
    "def flat(song,fitur):\n",
    "    vector = list()\n",
    "    for index,i in enumerate(song):\n",
    "        data = pd.read_csv(path_to_fitur+str(i)+\"/\"+fitur+\".csv\",header=None)\n",
    "        vector.append(data.loc[0].values)\n",
    "\n",
    "    return vector"
   ]
  },
  {
   "cell_type": "code",
   "execution_count": 8,
   "metadata": {},
   "outputs": [],
   "source": [
    "def prints(result):\n",
    "    print(np.shape(result))"
   ]
  },
  {
   "cell_type": "code",
   "execution_count": 9,
   "metadata": {
    "collapsed": true
   },
   "outputs": [],
   "source": [
    "def case1(file):\n",
    "    fitur = 'mfcc'\n",
    "    case = 'case1_norm'\n",
    "    result = flat(song_file,fitur)\n",
    "    \n",
    "    return result,case\n",
    "\n",
    "def case2(file):\n",
    "    fitur = 'timbre'\n",
    "    case = 'case2_norm'\n",
    "    b = flat(song_file,fitur)\n",
    "    result = merge('case1',b)\n",
    "    \n",
    "    return result,case\n",
    "\n",
    "def case3(file):\n",
    "    fitur = 'scf_sfm'\n",
    "    case = 'case3'\n",
    "    b = flat(song_file,fitur)\n",
    "    result = merge('case2',b)\n",
    "    \n",
    "    return result,case\n",
    "\n",
    "def case4(file):\n",
    "    fitur = 'chroma'\n",
    "    case = 'case4'\n",
    "    b = flat(song_file,fitur)\n",
    "    result = merge('case3',b)\n",
    "    \n",
    "    return result,case"
   ]
  },
  {
   "cell_type": "code",
   "execution_count": 10,
   "metadata": {},
   "outputs": [
    {
     "name": "stdout",
     "output_type": "stream",
     "text": [
      "(744, 86)\n"
     ]
    }
   ],
   "source": [
    "# results, case = case1(song_file)\n",
    "# results, case = case2(song_file)\n",
    "# results, case = case3(song_file)\n",
    "results, case = case4(song_file)\n",
    "\n",
    "prints(results)\n",
    "pd.DataFrame(data=results).to_csv(path_to_experiment+case+\".csv\", header=None, index=None)"
   ]
  }
 ],
 "metadata": {
  "kernelspec": {
   "display_name": "Python 3",
   "language": "python",
   "name": "python3"
  },
  "language_info": {
   "codemirror_mode": {
    "name": "ipython",
    "version": 3
   },
   "file_extension": ".py",
   "mimetype": "text/x-python",
   "name": "python",
   "nbconvert_exporter": "python",
   "pygments_lexer": "ipython3",
   "version": "3.6.4"
  }
 },
 "nbformat": 4,
 "nbformat_minor": 2
}
