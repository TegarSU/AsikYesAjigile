{
 "cells": [
  {
   "cell_type": "code",
   "execution_count": 68,
   "metadata": {
    "collapsed": true
   },
   "outputs": [],
   "source": [
    "import pandas as pd\n",
    "import numpy as np\n",
    "\n",
    "from sklearn.svm import SVR\n",
    "from sklearn.svm import NuSVR\n",
    "from sklearn.model_selection import cross_val_score\n",
    "from sklearn.model_selection import train_test_split\n",
    "from sklearn.metrics import r2_score\n",
    "\n",
    "from sklearn.model_selection import GridSearchCV"
   ]
  },
  {
   "cell_type": "code",
   "execution_count": 69,
   "metadata": {
    "collapsed": true
   },
   "outputs": [],
   "source": [
    "# #PATH\n",
    "\n",
    "path_info = \"F:/178/Tugas Akhir/dataset/annotations/\"\n",
    "path_to_fitur = \"F:/178/Tugas Akhir/dataset/coba fitur/\"\n",
    "path_to_file = \"F:/178/Tugas Akhir/dataset/clips_45sec_wav/\"\n",
    "path_to_experiment =\"F:/178/Tugas Akhir/dataset/experiment/\""
   ]
  },
  {
   "cell_type": "code",
   "execution_count": 115,
   "metadata": {},
   "outputs": [],
   "source": [
    "# datafitur = \"mfcc\"\n",
    "datafitur = \"mfcc+timbre\"\n",
    "data = pd.read_csv(path_to_experiment + datafitur+\".csv\",header=None)\n",
    "ground = pd.read_csv(path_info + \"static_annotations.csv\")\n",
    "\n",
    "arousal_mean = ground['mean_arousal']\n",
    "valence_mean = ground['mean_valence']\n",
    "arousal_std = ground['std_arousal']\n",
    "valence_std = ground['std_valence']"
   ]
  },
  {
   "cell_type": "code",
   "execution_count": 85,
   "metadata": {},
   "outputs": [
    {
     "name": "stdout",
     "output_type": "stream",
     "text": [
      "(744, 25194)\n",
      "(744,)\n"
     ]
    }
   ],
   "source": [
    "# print(data.shape)\n",
    "# print(arousal_mean.shape)"
   ]
  },
  {
   "cell_type": "code",
   "execution_count": 92,
   "metadata": {},
   "outputs": [
    {
     "name": "stdout",
     "output_type": "stream",
     "text": [
      "(744, 32946)\n",
      "(744,)\n"
     ]
    }
   ],
   "source": [
    "print(data.shape)\n",
    "print(arousal_mean.shape)"
   ]
  },
  {
   "cell_type": "code",
   "execution_count": 116,
   "metadata": {
    "collapsed": true
   },
   "outputs": [],
   "source": [
    "svr = SVR(kernel='rbf',gamma =1e-8,C=10)"
   ]
  },
  {
   "cell_type": "code",
   "execution_count": 117,
   "metadata": {
    "collapsed": true
   },
   "outputs": [],
   "source": [
    "train_data, test_data, train_values, test_values = train_test_split(data,arousal_mean,test_size=0.3,random_state=1000)"
   ]
  },
  {
   "cell_type": "code",
   "execution_count": 118,
   "metadata": {},
   "outputs": [],
   "source": [
    "svr.fit(train_data,train_values)\n",
    "a=svr.predict(test_data)\n",
    "a_round = a.round(1)"
   ]
  },
  {
   "cell_type": "code",
   "execution_count": 113,
   "metadata": {},
   "outputs": [
    {
     "data": {
      "text/html": [
       "<div>\n",
       "<style scoped>\n",
       "    .dataframe tbody tr th:only-of-type {\n",
       "        vertical-align: middle;\n",
       "    }\n",
       "\n",
       "    .dataframe tbody tr th {\n",
       "        vertical-align: top;\n",
       "    }\n",
       "\n",
       "    .dataframe thead th {\n",
       "        text-align: right;\n",
       "    }\n",
       "</style>\n",
       "<table border=\"1\" class=\"dataframe\">\n",
       "  <thead>\n",
       "    <tr style=\"text-align: right;\">\n",
       "      <th></th>\n",
       "      <th>0</th>\n",
       "      <th>1</th>\n",
       "      <th>2</th>\n",
       "      <th>3</th>\n",
       "      <th>4</th>\n",
       "      <th>5</th>\n",
       "      <th>6</th>\n",
       "      <th>7</th>\n",
       "      <th>8</th>\n",
       "      <th>9</th>\n",
       "      <th>...</th>\n",
       "      <th>214</th>\n",
       "      <th>215</th>\n",
       "      <th>216</th>\n",
       "      <th>217</th>\n",
       "      <th>218</th>\n",
       "      <th>219</th>\n",
       "      <th>220</th>\n",
       "      <th>221</th>\n",
       "      <th>222</th>\n",
       "      <th>223</th>\n",
       "    </tr>\n",
       "  </thead>\n",
       "  <tbody>\n",
       "    <tr>\n",
       "      <th>0</th>\n",
       "      <td>4.554816</td>\n",
       "      <td>4.770748</td>\n",
       "      <td>7.374234</td>\n",
       "      <td>4.330678</td>\n",
       "      <td>3.331443</td>\n",
       "      <td>4.194101</td>\n",
       "      <td>2.688409</td>\n",
       "      <td>6.25445</td>\n",
       "      <td>2.777111</td>\n",
       "      <td>4.838265</td>\n",
       "      <td>...</td>\n",
       "      <td>6.4616</td>\n",
       "      <td>5.264354</td>\n",
       "      <td>4.740163</td>\n",
       "      <td>4.78974</td>\n",
       "      <td>4.953286</td>\n",
       "      <td>5.035861</td>\n",
       "      <td>6.158411</td>\n",
       "      <td>6.713504</td>\n",
       "      <td>5.214165</td>\n",
       "      <td>2.695456</td>\n",
       "    </tr>\n",
       "    <tr>\n",
       "      <th>1</th>\n",
       "      <td>4.600000</td>\n",
       "      <td>4.800000</td>\n",
       "      <td>7.400000</td>\n",
       "      <td>4.300000</td>\n",
       "      <td>3.300000</td>\n",
       "      <td>4.200000</td>\n",
       "      <td>2.700000</td>\n",
       "      <td>6.30000</td>\n",
       "      <td>2.800000</td>\n",
       "      <td>4.800000</td>\n",
       "      <td>...</td>\n",
       "      <td>6.5000</td>\n",
       "      <td>5.300000</td>\n",
       "      <td>4.700000</td>\n",
       "      <td>4.80000</td>\n",
       "      <td>5.000000</td>\n",
       "      <td>5.000000</td>\n",
       "      <td>6.200000</td>\n",
       "      <td>6.700000</td>\n",
       "      <td>5.200000</td>\n",
       "      <td>2.700000</td>\n",
       "    </tr>\n",
       "    <tr>\n",
       "      <th>2</th>\n",
       "      <td>6.200000</td>\n",
       "      <td>5.900000</td>\n",
       "      <td>6.400000</td>\n",
       "      <td>3.100000</td>\n",
       "      <td>3.500000</td>\n",
       "      <td>3.600000</td>\n",
       "      <td>3.000000</td>\n",
       "      <td>5.80000</td>\n",
       "      <td>3.600000</td>\n",
       "      <td>6.200000</td>\n",
       "      <td>...</td>\n",
       "      <td>7.0000</td>\n",
       "      <td>5.000000</td>\n",
       "      <td>3.700000</td>\n",
       "      <td>5.80000</td>\n",
       "      <td>4.700000</td>\n",
       "      <td>4.900000</td>\n",
       "      <td>4.800000</td>\n",
       "      <td>6.300000</td>\n",
       "      <td>3.300000</td>\n",
       "      <td>2.200000</td>\n",
       "    </tr>\n",
       "  </tbody>\n",
       "</table>\n",
       "<p>3 rows × 224 columns</p>\n",
       "</div>"
      ],
      "text/plain": [
       "        0         1         2         3         4         5         6    \\\n",
       "0  4.554816  4.770748  7.374234  4.330678  3.331443  4.194101  2.688409   \n",
       "1  4.600000  4.800000  7.400000  4.300000  3.300000  4.200000  2.700000   \n",
       "2  6.200000  5.900000  6.400000  3.100000  3.500000  3.600000  3.000000   \n",
       "\n",
       "       7         8         9    ...     214       215       216      217  \\\n",
       "0  6.25445  2.777111  4.838265  ...  6.4616  5.264354  4.740163  4.78974   \n",
       "1  6.30000  2.800000  4.800000  ...  6.5000  5.300000  4.700000  4.80000   \n",
       "2  5.80000  3.600000  6.200000  ...  7.0000  5.000000  3.700000  5.80000   \n",
       "\n",
       "        218       219       220       221       222       223  \n",
       "0  4.953286  5.035861  6.158411  6.713504  5.214165  2.695456  \n",
       "1  5.000000  5.000000  6.200000  6.700000  5.200000  2.700000  \n",
       "2  4.700000  4.900000  4.800000  6.300000  3.300000  2.200000  \n",
       "\n",
       "[3 rows x 224 columns]"
      ]
     },
     "execution_count": 113,
     "metadata": {},
     "output_type": "execute_result"
    }
   ],
   "source": [
    "# # np.shape(a)\n",
    "# df = pd.DataFrame(data=[a,a_round,test_values])\n",
    "# df"
   ]
  },
  {
   "cell_type": "code",
   "execution_count": 114,
   "metadata": {},
   "outputs": [
    {
     "name": "stdout",
     "output_type": "stream",
     "text": [
      "0.61328197625\n",
      "0.614028024135\n"
     ]
    }
   ],
   "source": [
    "# r2 = r2_score(test_values, a)\n",
    "# r2_round = r2_score(test_values, a_round)\n",
    "\n",
    "# print(r2)\n",
    "# print(r2_round)"
   ]
  },
  {
   "cell_type": "code",
   "execution_count": 119,
   "metadata": {},
   "outputs": [
    {
     "data": {
      "text/html": [
       "<div>\n",
       "<style scoped>\n",
       "    .dataframe tbody tr th:only-of-type {\n",
       "        vertical-align: middle;\n",
       "    }\n",
       "\n",
       "    .dataframe tbody tr th {\n",
       "        vertical-align: top;\n",
       "    }\n",
       "\n",
       "    .dataframe thead th {\n",
       "        text-align: right;\n",
       "    }\n",
       "</style>\n",
       "<table border=\"1\" class=\"dataframe\">\n",
       "  <thead>\n",
       "    <tr style=\"text-align: right;\">\n",
       "      <th></th>\n",
       "      <th>0</th>\n",
       "      <th>1</th>\n",
       "      <th>2</th>\n",
       "      <th>3</th>\n",
       "      <th>4</th>\n",
       "      <th>5</th>\n",
       "      <th>6</th>\n",
       "      <th>7</th>\n",
       "      <th>8</th>\n",
       "      <th>9</th>\n",
       "      <th>...</th>\n",
       "      <th>214</th>\n",
       "      <th>215</th>\n",
       "      <th>216</th>\n",
       "      <th>217</th>\n",
       "      <th>218</th>\n",
       "      <th>219</th>\n",
       "      <th>220</th>\n",
       "      <th>221</th>\n",
       "      <th>222</th>\n",
       "      <th>223</th>\n",
       "    </tr>\n",
       "  </thead>\n",
       "  <tbody>\n",
       "    <tr>\n",
       "      <th>0</th>\n",
       "      <td>4.802124</td>\n",
       "      <td>4.802124</td>\n",
       "      <td>4.802124</td>\n",
       "      <td>4.802124</td>\n",
       "      <td>4.802124</td>\n",
       "      <td>4.802124</td>\n",
       "      <td>3.867798</td>\n",
       "      <td>4.802124</td>\n",
       "      <td>4.802124</td>\n",
       "      <td>4.802124</td>\n",
       "      <td>...</td>\n",
       "      <td>4.802124</td>\n",
       "      <td>4.802124</td>\n",
       "      <td>4.802126</td>\n",
       "      <td>4.802124</td>\n",
       "      <td>4.802124</td>\n",
       "      <td>4.802124</td>\n",
       "      <td>4.802124</td>\n",
       "      <td>4.802124</td>\n",
       "      <td>4.802124</td>\n",
       "      <td>4.801467</td>\n",
       "    </tr>\n",
       "    <tr>\n",
       "      <th>1</th>\n",
       "      <td>4.800000</td>\n",
       "      <td>4.800000</td>\n",
       "      <td>4.800000</td>\n",
       "      <td>4.800000</td>\n",
       "      <td>4.800000</td>\n",
       "      <td>4.800000</td>\n",
       "      <td>3.900000</td>\n",
       "      <td>4.800000</td>\n",
       "      <td>4.800000</td>\n",
       "      <td>4.800000</td>\n",
       "      <td>...</td>\n",
       "      <td>4.800000</td>\n",
       "      <td>4.800000</td>\n",
       "      <td>4.800000</td>\n",
       "      <td>4.800000</td>\n",
       "      <td>4.800000</td>\n",
       "      <td>4.800000</td>\n",
       "      <td>4.800000</td>\n",
       "      <td>4.800000</td>\n",
       "      <td>4.800000</td>\n",
       "      <td>4.800000</td>\n",
       "    </tr>\n",
       "    <tr>\n",
       "      <th>2</th>\n",
       "      <td>6.200000</td>\n",
       "      <td>5.900000</td>\n",
       "      <td>6.400000</td>\n",
       "      <td>3.100000</td>\n",
       "      <td>3.500000</td>\n",
       "      <td>3.600000</td>\n",
       "      <td>3.000000</td>\n",
       "      <td>5.800000</td>\n",
       "      <td>3.600000</td>\n",
       "      <td>6.200000</td>\n",
       "      <td>...</td>\n",
       "      <td>7.000000</td>\n",
       "      <td>5.000000</td>\n",
       "      <td>3.700000</td>\n",
       "      <td>5.800000</td>\n",
       "      <td>4.700000</td>\n",
       "      <td>4.900000</td>\n",
       "      <td>4.800000</td>\n",
       "      <td>6.300000</td>\n",
       "      <td>3.300000</td>\n",
       "      <td>2.200000</td>\n",
       "    </tr>\n",
       "  </tbody>\n",
       "</table>\n",
       "<p>3 rows × 224 columns</p>\n",
       "</div>"
      ],
      "text/plain": [
       "        0         1         2         3         4         5         6    \\\n",
       "0  4.802124  4.802124  4.802124  4.802124  4.802124  4.802124  3.867798   \n",
       "1  4.800000  4.800000  4.800000  4.800000  4.800000  4.800000  3.900000   \n",
       "2  6.200000  5.900000  6.400000  3.100000  3.500000  3.600000  3.000000   \n",
       "\n",
       "        7         8         9    ...       214       215       216       217  \\\n",
       "0  4.802124  4.802124  4.802124  ...  4.802124  4.802124  4.802126  4.802124   \n",
       "1  4.800000  4.800000  4.800000  ...  4.800000  4.800000  4.800000  4.800000   \n",
       "2  5.800000  3.600000  6.200000  ...  7.000000  5.000000  3.700000  5.800000   \n",
       "\n",
       "        218       219       220       221       222       223  \n",
       "0  4.802124  4.802124  4.802124  4.802124  4.802124  4.801467  \n",
       "1  4.800000  4.800000  4.800000  4.800000  4.800000  4.800000  \n",
       "2  4.700000  4.900000  4.800000  6.300000  3.300000  2.200000  \n",
       "\n",
       "[3 rows x 224 columns]"
      ]
     },
     "execution_count": 119,
     "metadata": {},
     "output_type": "execute_result"
    }
   ],
   "source": [
    "# np.shape(a)\n",
    "df = pd.DataFrame(data=[a,a_round,test_values])\n",
    "df"
   ]
  },
  {
   "cell_type": "code",
   "execution_count": 120,
   "metadata": {},
   "outputs": [
    {
     "name": "stdout",
     "output_type": "stream",
     "text": [
      "0.0542269218134\n",
      "0.0535705544675\n"
     ]
    }
   ],
   "source": [
    "r2 = r2_score(test_values, a)\n",
    "r2_round = r2_score(test_values, a_round)\n",
    "\n",
    "print(r2)\n",
    "print(r2_round)"
   ]
  },
  {
   "cell_type": "code",
   "execution_count": 123,
   "metadata": {},
   "outputs": [
    {
     "name": "stderr",
     "output_type": "stream",
     "text": [
      "C:\\Users\\5115100178\\AppData\\Local\\Continuum\\Anaconda3\\envs\\py36\\lib\\site-packages\\sklearn\\model_selection\\_search.py:841: DeprecationWarning: The default of the `iid` parameter will change from True to False in version 0.22 and will be removed in 0.24. This will change numeric results when test-set sizes are unequal.\n",
      "  DeprecationWarning)\n"
     ]
    },
    {
     "data": {
      "text/plain": [
       "{'C': 4.0}"
      ]
     },
     "execution_count": 123,
     "metadata": {},
     "output_type": "execute_result"
    }
   ],
   "source": [
    "#Arousal\n",
    "\n",
    "svr = SVR(kernel='rbf',gamma =1e-8)\n",
    "\n",
    "# parameters = {'C':[5.0, 50.0, 500.0, 1000.0]}\n",
    "# parameters = {'C':[1.0,2.0,2.5,3.0,3.5,4.0,4.5,5.0,7.0]}\n",
    "parameters = {'C':[4.0,4.1,4.2,4.3,4.4]}\n",
    "\n",
    "clf = GridSearchCV(svr, parameters, cv=10, scoring='r2')\n",
    "clf.fit(data,arousal_mean)\n",
    "\n",
    "clf.best_params_"
   ]
  },
  {
   "cell_type": "code",
   "execution_count": 49,
   "metadata": {},
   "outputs": [
    {
     "name": "stderr",
     "output_type": "stream",
     "text": [
      "C:\\Users\\5115100178\\AppData\\Local\\Continuum\\Anaconda3\\envs\\py36\\lib\\site-packages\\sklearn\\model_selection\\_search.py:841: DeprecationWarning: The default of the `iid` parameter will change from True to False in version 0.22 and will be removed in 0.24. This will change numeric results when test-set sizes are unequal.\n",
      "  DeprecationWarning)\n"
     ]
    },
    {
     "data": {
      "text/plain": [
       "{'C': 1.5}"
      ]
     },
     "execution_count": 49,
     "metadata": {},
     "output_type": "execute_result"
    }
   ],
   "source": [
    "#Valence\n",
    "\n",
    "svr = SVR(kernel='rbf',gamma =1e-8)\n",
    "parameters = {'C':[1.0,1.1,1.2,1.3,1.4,1.5]}\n",
    "\n",
    "clf = GridSearchCV(svr, parameters, cv=10, scoring='r2')\n",
    "clf.fit(data,arousal_mean)\n",
    "\n",
    "clf.best_params_"
   ]
  },
  {
   "cell_type": "code",
   "execution_count": 36,
   "metadata": {},
   "outputs": [
    {
     "name": "stdout",
     "output_type": "stream",
     "text": [
      "R2 Score Arousal: 0.54 (+/- 0.15)\n",
      "R2 Score Valence: 0.10 (+/- 0.35)\n"
     ]
    }
   ],
   "source": [
    "# svr_a = SVR(kernel='rbf',gamma =1e-8,C=1.3)\n",
    "\n",
    "# scores_am = cross_val_score(svr,data,arousal_mean,scoring='r2',cv=10)\n",
    "# # scores_as = cross_val_score(svr,data,arousal_std,scoring='r2',cv=10)\n",
    "\n",
    "# print(\"R2 Score Arousal: %0.2f (+/- %0.2f)\" % (scores_am.mean(), scores_am.std() * 2))"
   ]
  },
  {
   "cell_type": "code",
   "execution_count": 51,
   "metadata": {},
   "outputs": [
    {
     "name": "stdout",
     "output_type": "stream",
     "text": [
      "R2 Score Valence: 0.10 (+/- 0.35)\n"
     ]
    }
   ],
   "source": [
    "# svr_v = SVR(kernel='rbf',gamma =1e-8,C=1.5)\n",
    "# scores_vm = cross_val_score(svr_v,data,valence_mean,scoring='r2',cv=10)\n",
    "# # scores_vs = cross_val_score(svr,data,valence_std,scoring='r2',cv=10)\n",
    "\n",
    "# print(\"R2 Score Valence: %0.2f (+/- %0.2f)\" % (scores_vm.mean(), scores_vm.std() * 2))"
   ]
  },
  {
   "cell_type": "code",
   "execution_count": null,
   "metadata": {
    "collapsed": true
   },
   "outputs": [],
   "source": [
    "svr_a = SVR(kernel='rbf',gamma =1e-8,C=4.0)\n",
    "\n",
    "scores_am = cross_val_score(svr,data,arousal_mean,scoring='r2',cv=10)\n",
    "# scores_as = cross_val_score(svr,data,arousal_std,scoring='r2',cv=10)\n",
    "\n",
    "print(\"R2 Score Arousal: %0.2f (+/- %0.2f)\" % (scores_am.mean(), scores_am.std() * 2))"
   ]
  },
  {
   "cell_type": "code",
   "execution_count": null,
   "metadata": {
    "collapsed": true
   },
   "outputs": [],
   "source": [
    "svr_v = SVR(kernel='rbf',gamma =1e-8,C=1.5)\n",
    "scores_vm = cross_val_score(svr_v,data,valence_mean,scoring='r2',cv=10)\n",
    "# scores_vs = cross_val_score(svr,data,valence_std,scoring='r2',cv=10)\n",
    "\n",
    "print(\"R2 Score Valence: %0.2f (+/- %0.2f)\" % (scores_vm.mean(), scores_vm.std() * 2))"
   ]
  }
 ],
 "metadata": {
  "kernelspec": {
   "display_name": "Python 3",
   "language": "python",
   "name": "python3"
  },
  "language_info": {
   "codemirror_mode": {
    "name": "ipython",
    "version": 3
   },
   "file_extension": ".py",
   "mimetype": "text/x-python",
   "name": "python",
   "nbconvert_exporter": "python",
   "pygments_lexer": "ipython3",
   "version": "3.6.2"
  }
 },
 "nbformat": 4,
 "nbformat_minor": 2
}
