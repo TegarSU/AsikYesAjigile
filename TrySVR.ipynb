{
 "cells": [
  {
   "cell_type": "code",
   "execution_count": 1,
   "metadata": {
    "collapsed": true
   },
   "outputs": [],
   "source": [
    "import pandas as pd\n",
    "import numpy as np\n",
    "\n",
    "from sklearn.svm import SVR\n",
    "from sklearn.svm import NuSVR\n",
    "from sklearn.model_selection import cross_val_score\n",
    "from sklearn.model_selection import train_test_split\n",
    "from sklearn.metrics import r2_score\n",
    "from sklearn.metrics import mean_squared_error"
   ]
  },
  {
   "cell_type": "code",
   "execution_count": 2,
   "metadata": {
    "collapsed": true
   },
   "outputs": [],
   "source": [
    "# #PATH\n",
    "\n",
    "path_info = \"F:/178/Tugas Akhir/dataset/annotations/\"\n",
    "path_to_fitur = \"F:/178/Tugas Akhir/dataset/coba fitur/\"\n",
    "path_to_file = \"F:/178/Tugas Akhir/dataset/clips_45sec_wav/\"\n",
    "path_to_experiment =\"F:/178/Tugas Akhir/dataset/experiment/\""
   ]
  },
  {
   "cell_type": "code",
   "execution_count": 29,
   "metadata": {
    "collapsed": true
   },
   "outputs": [],
   "source": []
  },
  {
   "cell_type": "code",
   "execution_count": 4,
   "metadata": {
    "collapsed": true
   },
   "outputs": [],
   "source": []
  },
  {
   "cell_type": "code",
   "execution_count": 30,
   "metadata": {
    "collapsed": true
   },
   "outputs": [],
   "source": []
  },
  {
   "cell_type": "code",
   "execution_count": 7,
   "metadata": {
    "collapsed": true
   },
   "outputs": [],
   "source": [
    "datafitur = \"mfcc\"\n",
    "data = pd.read_csv(path_to_experiment + \"mfcc.csv\",header=None)\n",
    "ground = pd.read_csv(path_info + \"static_annotations.csv\")\n",
    "arousal_mean = ground['mean_arousal']\n",
    "valence_mean = ground['mean_valence']\n",
    "arousal_std = ground['std_arousal']\n",
    "valence_std = ground['std_valence']\n",
    "\n",
    "data = np.asarray(data)\n",
    "data = data.T\n",
    "# arousal_mean = np.asarray(arousal_mean)\n",
    "# # arousal_mean = arousal_mean.reshape((744,1))\n",
    "# valence_mean = np.asarray(valence_mean)\n",
    "# # valence_mean = valence_mean.reshape((744,1))"
   ]
  },
  {
   "cell_type": "code",
   "execution_count": 9,
   "metadata": {},
   "outputs": [
    {
     "name": "stdout",
     "output_type": "stream",
     "text": [
      "(744, 25194)\n",
      "(744,)\n"
     ]
    }
   ],
   "source": [
    "print(data.shape)\n",
    "print(arousal_mean.shape)"
   ]
  },
  {
   "cell_type": "code",
   "execution_count": 71,
   "metadata": {},
   "outputs": [],
   "source": [
    "svr = SVR(kernel='rbf',gamma =1e-8)"
   ]
  },
  {
   "cell_type": "code",
   "execution_count": 72,
   "metadata": {
    "collapsed": true
   },
   "outputs": [],
   "source": [
    "train_data, test_data, train_values, test_values = train_test_split(data,arousal_mean,test_size=0.3,random_state=100)"
   ]
  },
  {
   "cell_type": "code",
   "execution_count": 73,
   "metadata": {},
   "outputs": [
    {
     "data": {
      "text/plain": [
       "SVR(C=1.0, cache_size=200, coef0=0.0, degree=3, epsilon=0.1, gamma=1e-08,\n",
       "  kernel='rbf', max_iter=-1, shrinking=True, tol=0.001, verbose=False)"
      ]
     },
     "execution_count": 73,
     "metadata": {},
     "output_type": "execute_result"
    }
   ],
   "source": [
    "svr.fit(train_data,train_values)"
   ]
  },
  {
   "cell_type": "code",
   "execution_count": 74,
   "metadata": {
    "collapsed": true
   },
   "outputs": [],
   "source": [
    "a=svr.predict(test_data)"
   ]
  },
  {
   "cell_type": "code",
   "execution_count": 75,
   "metadata": {
    "collapsed": true
   },
   "outputs": [],
   "source": [
    "a_round = a.round(1)"
   ]
  },
  {
   "cell_type": "code",
   "execution_count": 76,
   "metadata": {},
   "outputs": [
    {
     "data": {
      "text/html": [
       "<div>\n",
       "<style scoped>\n",
       "    .dataframe tbody tr th:only-of-type {\n",
       "        vertical-align: middle;\n",
       "    }\n",
       "\n",
       "    .dataframe tbody tr th {\n",
       "        vertical-align: top;\n",
       "    }\n",
       "\n",
       "    .dataframe thead th {\n",
       "        text-align: right;\n",
       "    }\n",
       "</style>\n",
       "<table border=\"1\" class=\"dataframe\">\n",
       "  <thead>\n",
       "    <tr style=\"text-align: right;\">\n",
       "      <th></th>\n",
       "      <th>0</th>\n",
       "      <th>1</th>\n",
       "      <th>2</th>\n",
       "      <th>3</th>\n",
       "      <th>4</th>\n",
       "      <th>5</th>\n",
       "      <th>6</th>\n",
       "      <th>7</th>\n",
       "      <th>8</th>\n",
       "      <th>9</th>\n",
       "      <th>...</th>\n",
       "      <th>214</th>\n",
       "      <th>215</th>\n",
       "      <th>216</th>\n",
       "      <th>217</th>\n",
       "      <th>218</th>\n",
       "      <th>219</th>\n",
       "      <th>220</th>\n",
       "      <th>221</th>\n",
       "      <th>222</th>\n",
       "      <th>223</th>\n",
       "    </tr>\n",
       "  </thead>\n",
       "  <tbody>\n",
       "    <tr>\n",
       "      <th>0</th>\n",
       "      <td>3.41975</td>\n",
       "      <td>5.6114</td>\n",
       "      <td>3.650733</td>\n",
       "      <td>5.043911</td>\n",
       "      <td>4.29997</td>\n",
       "      <td>3.914781</td>\n",
       "      <td>5.310629</td>\n",
       "      <td>2.288478</td>\n",
       "      <td>3.931355</td>\n",
       "      <td>4.537215</td>\n",
       "      <td>...</td>\n",
       "      <td>3.274854</td>\n",
       "      <td>5.369446</td>\n",
       "      <td>4.160836</td>\n",
       "      <td>5.090504</td>\n",
       "      <td>4.53255</td>\n",
       "      <td>4.640471</td>\n",
       "      <td>5.292814</td>\n",
       "      <td>3.785813</td>\n",
       "      <td>4.004905</td>\n",
       "      <td>5.491552</td>\n",
       "    </tr>\n",
       "    <tr>\n",
       "      <th>1</th>\n",
       "      <td>3.40000</td>\n",
       "      <td>5.6000</td>\n",
       "      <td>3.700000</td>\n",
       "      <td>5.000000</td>\n",
       "      <td>4.30000</td>\n",
       "      <td>3.900000</td>\n",
       "      <td>5.300000</td>\n",
       "      <td>2.300000</td>\n",
       "      <td>3.900000</td>\n",
       "      <td>4.500000</td>\n",
       "      <td>...</td>\n",
       "      <td>3.300000</td>\n",
       "      <td>5.400000</td>\n",
       "      <td>4.200000</td>\n",
       "      <td>5.100000</td>\n",
       "      <td>4.50000</td>\n",
       "      <td>4.600000</td>\n",
       "      <td>5.300000</td>\n",
       "      <td>3.800000</td>\n",
       "      <td>4.000000</td>\n",
       "      <td>5.500000</td>\n",
       "    </tr>\n",
       "    <tr>\n",
       "      <th>2</th>\n",
       "      <td>2.80000</td>\n",
       "      <td>7.3000</td>\n",
       "      <td>4.900000</td>\n",
       "      <td>4.800000</td>\n",
       "      <td>4.40000</td>\n",
       "      <td>2.900000</td>\n",
       "      <td>4.400000</td>\n",
       "      <td>3.200000</td>\n",
       "      <td>3.900000</td>\n",
       "      <td>4.800000</td>\n",
       "      <td>...</td>\n",
       "      <td>3.400000</td>\n",
       "      <td>4.400000</td>\n",
       "      <td>4.600000</td>\n",
       "      <td>3.900000</td>\n",
       "      <td>4.80000</td>\n",
       "      <td>5.100000</td>\n",
       "      <td>5.300000</td>\n",
       "      <td>4.200000</td>\n",
       "      <td>4.300000</td>\n",
       "      <td>7.100000</td>\n",
       "    </tr>\n",
       "  </tbody>\n",
       "</table>\n",
       "<p>3 rows × 224 columns</p>\n",
       "</div>"
      ],
      "text/plain": [
       "       0       1         2         3        4         5         6         7    \\\n",
       "0  3.41975  5.6114  3.650733  5.043911  4.29997  3.914781  5.310629  2.288478   \n",
       "1  3.40000  5.6000  3.700000  5.000000  4.30000  3.900000  5.300000  2.300000   \n",
       "2  2.80000  7.3000  4.900000  4.800000  4.40000  2.900000  4.400000  3.200000   \n",
       "\n",
       "        8         9    ...       214       215       216       217      218  \\\n",
       "0  3.931355  4.537215  ...  3.274854  5.369446  4.160836  5.090504  4.53255   \n",
       "1  3.900000  4.500000  ...  3.300000  5.400000  4.200000  5.100000  4.50000   \n",
       "2  3.900000  4.800000  ...  3.400000  4.400000  4.600000  3.900000  4.80000   \n",
       "\n",
       "        219       220       221       222       223  \n",
       "0  4.640471  5.292814  3.785813  4.004905  5.491552  \n",
       "1  4.600000  5.300000  3.800000  4.000000  5.500000  \n",
       "2  5.100000  5.300000  4.200000  4.300000  7.100000  \n",
       "\n",
       "[3 rows x 224 columns]"
      ]
     },
     "execution_count": 76,
     "metadata": {},
     "output_type": "execute_result"
    }
   ],
   "source": [
    "# np.shape(a)\n",
    "df = pd.DataFrame(data=[a,a_round,test_values])\n",
    "df"
   ]
  },
  {
   "cell_type": "code",
   "execution_count": 77,
   "metadata": {},
   "outputs": [
    {
     "name": "stdout",
     "output_type": "stream",
     "text": [
      "0.557322390817\n",
      "0.555337619422\n"
     ]
    }
   ],
   "source": [
    "r2 = r2_score(test_values, a)\n",
    "r2_round = r2_score(test_values, a_round)\n",
    "\n",
    "print(r2)\n",
    "print(r2_round)"
   ]
  },
  {
   "cell_type": "code",
   "execution_count": 83,
   "metadata": {},
   "outputs": [
    {
     "name": "stdout",
     "output_type": "stream",
     "text": [
      "R2 Score Arousal: 0.53 (+/- 0.14)\n",
      "R2 Score Valence: 0.53 (+/- 0.14)\n"
     ]
    }
   ],
   "source": [
    "svr = SVR(kernel='rbf',gamma =1e-8,C=1.0)\n",
    "\n",
    "scores_am = cross_val_score(svr,data,arousal_mean,scoring='r2',cv=10)\n",
    "scores_as = cross_val_score(svr,data,arousal_std,scoring='r2',cv=10)\n",
    "print(\"R2 Score Arousal: %0.2f (+/- %0.2f)\" % (scores_am.mean(), scores_as.std() * 2))\n",
    "\n",
    "scores_vm = cross_val_score(svr,data,arousal_mean,scoring='r2',cv=10)\n",
    "scores_vs = cross_val_score(svr,data,arousal_std,scoring='r2',cv=10)\n",
    "print(\"R2 Score Valence: %0.2f (+/- %0.2f)\" % (scores_vm.mean(), scores_vs.std() * 2))"
   ]
  },
  {
   "cell_type": "code",
   "execution_count": 27,
   "metadata": {},
   "outputs": [
    {
     "name": "stdout",
     "output_type": "stream",
     "text": [
      "R2 Score Valence Mean:  0.0937798637354\n",
      "R2 Score Arousal Mean:  0.543303332205\n",
      "R2 Score Valence STD:  0.0548129391169\n",
      "R2 Score Arousal STD:  0.0717292935935\n"
     ]
    }
   ],
   "source": [
    "nu_svr = NuSVR(kernel='rbf',gamma =1e-8)\n",
    "\n",
    "scores = cross_val_score(nu_svr,data,valence_mean,scoring='r2',cv=10)\n",
    "print(\"R2 Score Valence Mean: \",scores.mean())\n",
    "\n",
    "scores = cross_val_score(nu_svr,data,arousal_mean,scoring='r2',cv=10)\n",
    "print(\"R2 Score Arousal Mean: \",scores.mean())\n",
    "\n",
    "scores=cross_val_score(nu_svr,data,valence_std,scoring='r2',cv=10)\n",
    "print(\"R2 Score Valence STD: \",scores.std())\n",
    "\n",
    "scores = cross_val_score(nu_svr,data,arousal_std,scoring='r2',cv=10)\n",
    "print(\"R2 Score Arousal STD: \",scores.std())"
   ]
  }
 ],
 "metadata": {
  "kernelspec": {
   "display_name": "Python 3",
   "language": "python",
   "name": "python3"
  },
  "language_info": {
   "codemirror_mode": {
    "name": "ipython",
    "version": 3
   },
   "file_extension": ".py",
   "mimetype": "text/x-python",
   "name": "python",
   "nbconvert_exporter": "python",
   "pygments_lexer": "ipython3",
   "version": "3.6.2"
  }
 },
 "nbformat": 4,
 "nbformat_minor": 2
}
